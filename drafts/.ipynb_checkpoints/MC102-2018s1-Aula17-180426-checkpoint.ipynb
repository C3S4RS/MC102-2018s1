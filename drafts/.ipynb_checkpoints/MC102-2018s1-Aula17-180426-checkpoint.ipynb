{
 "cells": [
  {
   "cell_type": "code",
   "execution_count": null,
   "metadata": {
    "ExecuteTime": {
     "end_time": "2018-04-23T23:30:26.812794Z",
     "start_time": "2018-04-23T23:30:26.752Z"
    },
    "init_cell": true
   },
   "outputs": [],
   "source": [
    "from IPython.core.interactiveshell import InteractiveShell\n",
    "InteractiveShell.ast_node_interactivity = \"all\""
   ]
  },
  {
   "cell_type": "markdown",
   "metadata": {},
   "source": [
    "## Sobre parâmetros, argumentos e variáveis em geral\n",
    "Sabemos que, em Python, variáveis são *nomes* associados a objetos.  \n",
    "Quando uma função é ativada, os parâmetros são associados aos mesmos objetos aos quais os argumentos correspondentes estão associados, como se fosse executado...\n",
    "```\n",
    "par1, par2, ...parn = arg1, arg2, ...argn\n",
    "```\n",
    "Estabelece-se assim a situação de *aliasing* que já estudamos.\n",
    "\n",
    "**_O que acontece então quando, dentro de uma função, é executada uma atribuição a um parâmetro?_**"
   ]
  },
  {
   "cell_type": "code",
   "execution_count": null,
   "metadata": {},
   "outputs": [],
   "source": [
    "%reset -f\n",
    "\n",
    "def q(x):\n",
    "    x = x * x\n",
    "    return x"
   ]
  },
  {
   "cell_type": "markdown",
   "metadata": {},
   "source": [
    "**_O que você acha que será exibido pelo trecho abaixo?_**"
   ]
  },
  {
   "cell_type": "code",
   "execution_count": null,
   "metadata": {},
   "outputs": [],
   "source": [
    "a = 10\n",
    "rq = q(a)\n",
    "print(a, rq)"
   ]
  },
  {
   "cell_type": "markdown",
   "metadata": {},
   "source": [
    "**_Por que será que o resultado não foi_ `100 100` ?**  \n",
    "Para entender o que aconteceu, vamos exibir $\\mathit{id}(a)$ antes e depois da chamada de $\\mathit{q}$ \n",
    "e $\\mathit{id}(x)$  antes e depois da atribuição a $x$ no corpo de $\\mathit{q}$..."
   ]
  },
  {
   "cell_type": "code",
   "execution_count": 5,
   "metadata": {
    "ExecuteTime": {
     "end_time": "2018-04-23T23:43:02.933296Z",
     "start_time": "2018-04-23T23:43:02.903503Z"
    }
   },
   "outputs": [],
   "source": [
    "%reset -f\n",
    "\n",
    "def q(x):\n",
    "    print('antes da atribuição a x:    id(x) = ', id(x))\n",
    "    x = x * x\n",
    "    print('depois da atribuição a x:   id(x) = ', id(x))\n",
    "    return x"
   ]
  },
  {
   "cell_type": "code",
   "execution_count": null,
   "metadata": {},
   "outputs": [],
   "source": [
    "a = 10\n",
    "print('antes da chamada de q:      id(a) = ', id(a))\n",
    "rq = q(a)\n",
    "print('depois da chamada de q:     id(a) = ', id(a))\n",
    "print(a, rq)"
   ]
  },
  {
   "cell_type": "markdown",
   "metadata": {},
   "source": [
    "Note que, no início da execução de $\\mathit{q}$, $a$ e $x$ estavam associadas ao mesmo objeto \n",
    "(portanto, tinham o mesmo $\\mathit{id}$).  \n",
    "A atribuição a $x$ dentro da função faz com que ela fique associada a um novo objeto \n",
    "(portanto, com um novo $\\mathit{id}$).  \n",
    "Enquanto isso, $a$ continua associada ao mesmo objeto original e, portanto, seu $\\mathit{id}$ e valor permanecem os mesmos."
   ]
  },
  {
   "cell_type": "markdown",
   "metadata": {},
   "source": [
    "Vamos adicionar mais um parâmetro à nossa função, desta vez uma lista."
   ]
  },
  {
   "cell_type": "code",
   "execution_count": null,
   "metadata": {},
   "outputs": [],
   "source": [
    "%reset -f\n",
    "\n",
    "def q(x, l):\n",
    "    print('antes da atribuição a x:  id(x) = ', id(x), '  id(l) = ', id(l))\n",
    "    x = x * x\n",
    "    l.append(x)\n",
    "    print('depois da atribuição a x: id(x) = ', id(x), '  id(l) = ', id(l))\n",
    "    return x"
   ]
  },
  {
   "cell_type": "markdown",
   "metadata": {},
   "source": [
    "**_O que será exibido pelo trecho abaixo?_**"
   ]
  },
  {
   "cell_type": "code",
   "execution_count": null,
   "metadata": {},
   "outputs": [],
   "source": [
    "a = 10\n",
    "b = []\n",
    "print('antes da chamada de q:    id(a) = ', id(a), '  id(b) = ', id(b))\n",
    "rq = q(a, b)\n",
    "print('depois da chamada de q:   id(a) = ', id(a), '  id(b) = ', id(b))\n",
    "print(a, b, rq)"
   ]
  },
  {
   "cell_type": "markdown",
   "metadata": {},
   "source": [
    "**_O que aconteceu agora?_**  \n",
    "Veja que, inicialmente, $x$ e $l$ são associadas aos mesmos objetos que estão associados a $a$ e $b$ (portanto, seus respectivos $\\mathit{id}$s são os mesmos).  \n",
    "Note que, ao contrário do que ocorreu com $x$, $l$ não aparecece num comando de atribuição. \n",
    "O método $\\mathit{append}$ é aplicado a ela, modificando o valor do objeto associado, mas sem criar um novo objeto (veja que o $\\mathit{id}$ permanece o mesmo).  \n",
    "Como $b$ está associada ao mesmo objeto, ela também “percebe” essa alteração."
   ]
  },
  {
   "cell_type": "markdown",
   "metadata": {},
   "source": [
    "**_O que você acha que aconteceria se nossa função fosse como esta aqui 👇?_**"
   ]
  },
  {
   "cell_type": "code",
   "execution_count": null,
   "metadata": {},
   "outputs": [],
   "source": [
    "%reset -f\n",
    "\n",
    "def q(x, l):\n",
    "    print('antes das atribuições a x e l:  id(x) = ', id(x), '  id(l) = ', id(l))\n",
    "    x = x * x\n",
    "    l = [x]\n",
    "    print('depois das atribuições a x e l: id(x) = ', id(x), '  id(l) = ', id(l))\n",
    "    return x"
   ]
  },
  {
   "cell_type": "code",
   "execution_count": null,
   "metadata": {},
   "outputs": [],
   "source": [
    "a = 10\n",
    "b = []\n",
    "print('antes da chamada de q:          id(a) = ', id(a), '  id(b) = ', id(b))\n",
    "rq = q(a, b)\n",
    "print('depois da chamada de q:         id(a) = ', id(a), '  id(b) = ', id(b))\n",
    "print(a, b, rq)"
   ]
  },
  {
   "cell_type": "markdown",
   "metadata": {},
   "source": [
    "**_Você consegue explicar a diferença?_**  \n",
    "*Dica*: pense no que aconteceu entre $a$ e $x$..."
   ]
  },
  {
   "cell_type": "markdown",
   "metadata": {},
   "source": [
    "**_E se nossa função fosse assim 👇?_** (Note que a lista tem o mesmo nome na função e no programa principal.)"
   ]
  },
  {
   "cell_type": "code",
   "execution_count": null,
   "metadata": {},
   "outputs": [],
   "source": [
    "%reset -f\n",
    "\n",
    "def q(x):\n",
    "    print('antes das atribuições a x e l:  id(x) = ', id(x))\n",
    "    x = x * x\n",
    "    l = [x]\n",
    "    print('depois das atribuições a x e l: id(x) = ', id(x), '  id(l) = ', id(l))\n",
    "    return x"
   ]
  },
  {
   "cell_type": "code",
   "execution_count": null,
   "metadata": {},
   "outputs": [],
   "source": [
    "a = 10\n",
    "l = []\n",
    "print('antes da chamada de q:          id(a) = ', id(a), '  id(l) = ', id(l))\n",
    "rq = q(a)\n",
    "print('depois da chamada de q:         id(a) = ', id(a), '  id(l) = ', id(l))\n",
    "print(a, l, rq)"
   ]
  },
  {
   "cell_type": "markdown",
   "metadata": {},
   "source": [
    "E se nossa função fosse assim 👇? (Procure entender todas as mudanças antes de prosseguir.)"
   ]
  },
  {
   "cell_type": "code",
   "execution_count": null,
   "metadata": {},
   "outputs": [],
   "source": [
    "%reset -f\n",
    "\n",
    "a = 10\n",
    "l = [999]"
   ]
  },
  {
   "cell_type": "code",
   "execution_count": null,
   "metadata": {},
   "outputs": [],
   "source": [
    "def q(x):\n",
    "    print('antes da atribuição a x:  id(x) = ', id(x), '  id(l) = ', id(l))\n",
    "    x = x * x\n",
    "    print('depois da atribuição a x: id(x) = ', id(x), '  id(l) = ', id(l))\n",
    "    return l + [x]"
   ]
  },
  {
   "cell_type": "code",
   "execution_count": null,
   "metadata": {},
   "outputs": [],
   "source": [
    "print('antes da chamada de q:    id(a) = ', id(a), '  id(l) = ', id(l))\n",
    "rq = q(a)\n",
    "print('depois da chamada de q:   id(a) = ', id(a), '  id(l) = ', id(l))\n",
    "print(a, l, rq)"
   ]
  },
  {
   "cell_type": "markdown",
   "metadata": {},
   "source": [
    "Agora $l$ não é um parâmetro da função e nem aparece do lado esquerdo de um comando de atribuição.  \n",
    "Por isso, Python usa a variável definida no espaço em que a função foi definida.\n",
    "\n",
    "Se uma variável $l$ não estivesse definida nem nesse espaço, seria gerada uma exceção."
   ]
  },
  {
   "cell_type": "markdown",
   "metadata": {},
   "source": [
    "**_Um último teste: o que será exibido pelo trecho abaixo?_**"
   ]
  },
  {
   "cell_type": "code",
   "execution_count": 6,
   "metadata": {
    "ExecuteTime": {
     "end_time": "2018-04-23T23:50:19.458280Z",
     "start_time": "2018-04-23T23:50:19.454917Z"
    }
   },
   "outputs": [
    {
     "name": "stdout",
     "output_type": "stream",
     "text": [
      "100 10 ['a'] [9, 99]\n"
     ]
    }
   ],
   "source": [
    "def q(x, la, lb):\n",
    "    x = x * x\n",
    "    la = [1, 2, 3]\n",
    "    lb.append(99)\n",
    "    return x\n",
    "\n",
    "x, y, z = 10, ['a'], [9]\n",
    "rq = q(x, y, z)\n",
    "print(rq, x, y, z)"
   ]
  },
  {
   "cell_type": "markdown",
   "metadata": {},
   "source": [
    "## Parâmetros com palavras-chaves e valores padrão"
   ]
  },
  {
   "cell_type": "markdown",
   "metadata": {},
   "source": [
    "Python liga os parâmetros de uma função aos argumentos fornecidos em uma chamada de duas maneiras diferentes:\n",
    "\n",
    "-   **_posicional_**: associa parâmetros a argumentos, um a um, da esquerda para a direira.  \n",
    "    Esta foi a maneira mais vista até agora em nosso curso.\n",
    "-   **_com palavras-chaves_**: usa o nome do parâmetro para estabelecer a ligação entre ele e um dado argumento, independentemente de suas posições nas respectivas listas. Por exemplo, consdiere a seguinte definição de função, ..."
   ]
  },
  {
   "cell_type": "code",
   "execution_count": null,
   "metadata": {},
   "outputs": [],
   "source": [
    "%reset -f\n",
    "\n",
    "def exibir_nome_completo(nome, sobrenome, inverso):\n",
    "    if inverso:\n",
    "        print(sobrenome + ',', nome)\n",
    "    else:\n",
    "        print(nome, sobrenome)\n",
    "\n",
    "n = 'José'\n",
    "s = 'Silva'\n",
    "exibir_nome_completo(n, s, True)\n",
    "exibir_nome_completo(n, inverso=False, sobrenome=s)"
   ]
  },
  {
   "cell_type": "markdown",
   "metadata": {},
   "source": [
    "Quando misturamos argumentos posicionais e argumentos com palavras-chaves, estes devem aparecer no final da lista ou será gerada uma exceção."
   ]
  },
  {
   "cell_type": "code",
   "execution_count": null,
   "metadata": {},
   "outputs": [],
   "source": [
    "exibir_nome_completo(n, sobrenome=s, False)"
   ]
  },
  {
   "cell_type": "markdown",
   "metadata": {},
   "source": [
    "É possível simplificar as chamadas de uma função, definindo valores padrão para um ou mais parâmetros, os quais, nesse caso, precisarão ser indicados por nome e aparecer no fim da lista de parâmetros na definição e nas chamadas da função."
   ]
  },
  {
   "cell_type": "code",
   "execution_count": null,
   "metadata": {},
   "outputs": [],
   "source": [
    "%reset -f\n",
    "\n",
    "def exibir_nome_completo(nome, sobrenome, inverso=False):\n",
    "    if inverso:\n",
    "        print(sobrenome + ',', nome)\n",
    "    else:\n",
    "        print(nome, sobrenome)\n",
    "\n",
    "n = 'José'\n",
    "s = 'Silva'\n",
    "\n",
    "exibir_nome_completo(n, s)\n",
    "exibir_nome_completo(n, s, True)\n",
    "exibir_nome_completo(n, s, inverso=True)"
   ]
  },
  {
   "cell_type": "code",
   "execution_count": null,
   "metadata": {},
   "outputs": [],
   "source": [
    "exibir_nome_completo(inverso=True, n, s)"
   ]
  },
  {
   "cell_type": "code",
   "execution_count": null,
   "metadata": {},
   "outputs": [],
   "source": [
    "exibir_nome_completo(inverso=False, sobrenome='Escadabaixo', nome='Rolando')"
   ]
  },
  {
   "cell_type": "markdown",
   "metadata": {},
   "source": [
    "## *CUIDADO... quando tiver vontade de usar um objeto mutável como valor padrão...*"
   ]
  },
  {
   "cell_type": "markdown",
   "metadata": {},
   "source": [
    "Antes de avançar, procure antecipar o resultado deste programa..."
   ]
  },
  {
   "cell_type": "code",
   "execution_count": null,
   "metadata": {
    "scrolled": true
   },
   "outputs": [],
   "source": [
    "%reset -f\n",
    "\n",
    "def f(a, b=[]):\n",
    "    b.append(a)\n",
    "    return b\n",
    "\n",
    "\n",
    "print(f(1, []))\n",
    "print(f(2, []))\n",
    "print(f(3))"
   ]
  },
  {
   "cell_type": "markdown",
   "metadata": {},
   "source": [
    "**_E se agora fizermos assim?_**"
   ]
  },
  {
   "cell_type": "code",
   "execution_count": null,
   "metadata": {},
   "outputs": [],
   "source": [
    "%reset -f\n",
    "\n",
    "def f(a, b=[]):\n",
    "    b.append(a)\n",
    "    return b\n",
    "\n",
    "\n",
    "print(f(1))\n",
    "print(f(2))\n",
    "print(f(3))"
   ]
  },
  {
   "cell_type": "markdown",
   "metadata": {},
   "source": [
    "**_Por que o resultado mudou?_**  \n",
    "O problema é que Python associa um parâmetro ao seu valor padrão apenas uma vez.  \n",
    "Para entendermos o que aconteceu, vamos exibir $\\mathit{id}(b)$..."
   ]
  },
  {
   "cell_type": "code",
   "execution_count": null,
   "metadata": {},
   "outputs": [],
   "source": [
    "%reset -f\n",
    "\n",
    "def f(a, b=[]):\n",
    "    print('id(b) =', id(b))\n",
    "    b.append(a)\n",
    "    return b\n",
    "\n",
    "\n",
    "print(f(1))\n",
    "print(f(2))\n",
    "print(f(3))"
   ]
  },
  {
   "cell_type": "markdown",
   "metadata": {},
   "source": [
    "Veja que em todas as chamadas $b$ sempre foi associada a um mesmo objeto.  \n",
    "Como esse objeto é modificado no corpo da função, o valor inicial associado a $b$ mudou de uma chamada para outra.\n",
    "\n",
    "**_O que se pode fazer para evitar isso?_**  \n",
    "A saída é definir um valor padrão *imutável*, como $\\mathit{None}$, por exemplo, e depois usá-lo para verificar se o parâmetro foi passado na chamada ou não."
   ]
  },
  {
   "cell_type": "code",
   "execution_count": null,
   "metadata": {},
   "outputs": [],
   "source": [
    "%reset -f\n",
    "\n",
    "def f(a, b=None):\n",
    "    if b is None:  # se b for None, a chamada não passou um argumento\n",
    "        b = []\n",
    "    b.append(a)\n",
    "    return b\n",
    "\n",
    "\n",
    "print(f(1))\n",
    "print(f(2))\n",
    "print(f(3))"
   ]
  },
  {
   "cell_type": "markdown",
   "metadata": {},
   "source": [
    "Note que essa solução não nos impede de conseguir também o comportamento anterior da função, caso queiramos..."
   ]
  },
  {
   "cell_type": "code",
   "execution_count": null,
   "metadata": {},
   "outputs": [],
   "source": [
    "%reset -f\n",
    "\n",
    "def f(a, b=None):\n",
    "    if b is None:\n",
    "        b = []\n",
    "    b.append(a)\n",
    "    return b\n",
    "\n",
    "\n",
    "x = f(1)\n",
    "print(x)\n",
    "x = f(2, x)\n",
    "print(x)\n",
    "x = f(3, x)\n",
    "print(x)"
   ]
  },
  {
   "cell_type": "markdown",
   "metadata": {},
   "source": [
    "**_Você consegue explicar esse resultado?_**"
   ]
  },
  {
   "cell_type": "markdown",
   "metadata": {},
   "source": [
    "## Desenvolvimento incremental de programas\n",
    "Funções nos permitem desenvolver nossos programas de forma incremental.  \n",
    "Esta técnica propõe que se desenvolvam e testem pequenos trechos de um programa de cada vez."
   ]
  },
  {
   "cell_type": "markdown",
   "metadata": {},
   "source": [
    "Por exemplo, suponha que queiramos criar uma função para calcular a distância entre dois pontos no plano.  \n",
    "Supondo dois pontos com coordenadas $(x_1, y_1)$ e $(x_2, y_2)$, sabemos que essa distância é dada por\n",
    "\n",
    "$$d = \\sqrt{(x_2 - x_1)^2 + (y_2 - y_1)^2}$$\n",
    "\n",
    "Assim, uma “possível” (mas não muito útil) definição da função desejada poderia ser..."
   ]
  },
  {
   "cell_type": "code",
   "execution_count": null,
   "metadata": {},
   "outputs": [],
   "source": [
    "%reset -f\n",
    "\n",
    "def distância(x1, y1, x2, y2):\n",
    "    d = 0.0\n",
    "    return d"
   ]
  },
  {
   "cell_type": "markdown",
   "metadata": {},
   "source": [
    "Para testar essa função (e, ao mesmo tempo, documentar esse teste) vamos usar *asserções*.  \n",
    "Como vimos na aula anterior, uma asserção é uma expressão lógica que se acredita verdadeira, definida num comando **assert**:    \n",
    "-   Se a expressão lógica for verdadeira, nada acontece. Em outras palavras, **assert** se comporta como **pass**.\n",
    "-   Se a expressão lógica for falsa, é gerada uma exceção, possivelmente acompanhada de uma mensagem explicativa.\n",
    "\n",
    "Por exemplo,..."
   ]
  },
  {
   "cell_type": "code",
   "execution_count": null,
   "metadata": {},
   "outputs": [],
   "source": [
    "%reset -f\n",
    "\n",
    "def distância(x1, y1, x2, y2):\n",
    "    d = 0.0\n",
    "    return d\n",
    "\n",
    "assert distância(1, 2, 1, 2) == 0"
   ]
  },
  {
   "cell_type": "markdown",
   "metadata": {},
   "source": [
    "É claro que, para poder testar nossa função, é preciso ser capaz de antecipar a resposta correta em um certo número de casos.  \n",
    "Procure sempre antecipar os casos críticos, p.ex. valores extremos dos dados ou pontos em que se espera alguma mudança no comportamento da função.\n",
    "\n",
    "Vamos acrescentar mais três testes com essas características."
   ]
  },
  {
   "cell_type": "code",
   "execution_count": null,
   "metadata": {},
   "outputs": [],
   "source": [
    "%reset -f\n",
    "\n",
    "def distância(x1, y1, x2, y2):\n",
    "    d = 0.0\n",
    "    return d\n",
    "\n",
    "assert distância(1, 2, 1, 2) == 0\n",
    "assert distância(1, 2, 4, 6) == 5\n",
    "assert distância(0, 0, 0, 1) == 1\n",
    "assert distância(1, 0, 0, 0) == 1"
   ]
  },
  {
   "cell_type": "markdown",
   "metadata": {},
   "source": [
    "Como era de se esperar, nossa função falha já no segundo teste...\n",
    "\n",
    "Examinando a expressão que resolve o problema, é possível adotar a seguinte abordagem:\n",
    "-   Calcular as distâncias entre as projeções dos pontos nos eixos $x$ e $y$.\n",
    "-   Elevar essas distâncias ao quadrado e somar os resultados\n",
    "-   Extrair a raiz quadrada da soma"
   ]
  },
  {
   "cell_type": "code",
   "execution_count": null,
   "metadata": {},
   "outputs": [],
   "source": [
    "%reset -f\n",
    "\n",
    "def distância(x1, y1, x2, y2):\n",
    "    dx = x2 - x1\n",
    "    dy = y2 - y1\n",
    "    d = (dx**2 + dy**2) ** 0.5\n",
    "    return d\n",
    "\n",
    "assert distância(1, 2, 1, 2) == 0\n",
    "assert distância(1, 2, 4, 6) == 5\n",
    "assert distância(0, 0, 0, 1) == 1\n",
    "assert distância(1, 1, 0, 0) == 1.41"
   ]
  },
  {
   "cell_type": "markdown",
   "metadata": {},
   "source": [
    "Já discutimos a comparação entre $\\mathit{float}$s em aulas anteriores.  \n",
    "A mesma solução precisa ser adotada aqui: em vez de testarmos _igualdade_ entre os valores, verificamos se a _diferença_ entre eles é menor do que uma tolerância pré-definida."
   ]
  },
  {
   "cell_type": "code",
   "execution_count": null,
   "metadata": {},
   "outputs": [],
   "source": [
    "%reset -f\n",
    "\n",
    "def distância(x1, y1, x2, y2):\n",
    "    dx = x2 - x1\n",
    "    dy = y2 - y1\n",
    "    d = (dx**2 + dy**2) ** 0.5\n",
    "    return d\n",
    "\n",
    "eps = 1e-8\n",
    "assert abs(distância(1, 2, 1, 2) - 0.0) < eps\n",
    "assert abs(distância(1, 2, 4, 6) - 5.0) < eps\n",
    "assert abs(distância(0, 0, 0, 1) - 1.0) < eps\n",
    "assert abs(distância(1, 1, 0, 0) - 2**0.5) < eps"
   ]
  },
  {
   "cell_type": "markdown",
   "metadata": {},
   "source": [
    "Agora nossa função passa por todos os testes."
   ]
  },
  {
   "cell_type": "markdown",
   "metadata": {},
   "source": [
    "### Em resumo...\n",
    "-   Assegure-se de ter entendido **o que** precisa fazer. Só assim você poderá criar testes unitários apropriados.\n",
    "-   Parta de um esqueleto de programa funcional e faça pequenas alterações incrementais.  \n",
    "    Assim, a qualquer momento, se aparecer um erro, você saberá “exatamente” onde ele está.\n",
    "-   Associe variáveis temporárias aos resultados de cálculos intermediários, de modo que você possa inspecioná-los e verificá-los facilmente.\n",
    "-   Depois que o programa estiver funcionando satisfatoriamente, será possível consolidar alguns comandos em expressões compostas.  \n",
    "    Somente consolide comandos se isso não comprometer o entendimento do programa.\n",
    "-   A cada passo, repita todos os testes unitários para ter certeza de não ter introduzido algum erro novo no programa."
   ]
  },
  {
   "cell_type": "markdown",
   "metadata": {},
   "source": [
    "## Exemplos"
   ]
  },
  {
   "cell_type": "markdown",
   "metadata": {},
   "source": [
    "### Calcular a área de um círculo com um dado raio \n",
    "\n",
    "Dado o raio $r$ de um círculo, calcular sua área."
   ]
  },
  {
   "cell_type": "code",
   "execution_count": null,
   "metadata": {},
   "outputs": [],
   "source": [
    "%reset -f\n",
    "import math\n",
    "\n",
    "def área_círculo_raio(r):\n",
    "    return math.pi * r**2\n",
    "\n",
    "eps = 1e-8\n",
    "assert abs(área_círculo_raio(0) - 0.0) < eps\n",
    "assert abs(área_círculo_raio(1) - math.pi) < eps"
   ]
  },
  {
   "cell_type": "markdown",
   "metadata": {},
   "source": [
    "### Dados dois pontos, calcular a área do círculo com centro em um deles e passando pelo outro\n",
    "Sabemos calcular a área de um círculo conhecido seu raio.  \n",
    "Sabemos calcular a distância entre dois pontos no plano.  \n",
    "Portanto, o problema está resolvido..."
   ]
  },
  {
   "cell_type": "code",
   "execution_count": null,
   "metadata": {},
   "outputs": [],
   "source": [
    "%reset -f\n",
    "import math\n",
    "\n",
    "def distância(x1, y1, x2, y2):\n",
    "    return ((x2 - x1)**2 + (y2 - y1)**2) ** 0.5\n",
    "\n",
    "def área_círculo_raio(r):\n",
    "    return math.pi * r**2\n",
    "\n",
    "def área_círculo_2pt(x1, y1, x2, y2):\n",
    "    return área_círculo_raio(distância(x1, y1, x2, y2))\n",
    "\n",
    "eps = 1e-8\n",
    "assert abs(área_círculo_2pt(0, 0, 0, 0) - 0.0) < eps\n",
    "assert abs(área_círculo_2pt(0, 0, 0, 1) - math.pi) < eps\n",
    "assert abs(área_círculo_2pt(1, 2, 4, 6) - 25 * math.pi) < eps"
   ]
  },
  {
   "cell_type": "markdown",
   "metadata": {},
   "source": [
    "### Calcular o produto de dois inteiros somente usando somas\n",
    "Criar uma função $\\mathit{produto}(x, n)$ que retorne $n . x$."
   ]
  },
  {
   "cell_type": "code",
   "execution_count": 8,
   "metadata": {
    "ExecuteTime": {
     "end_time": "2018-04-24T00:10:22.607070Z",
     "start_time": "2018-04-24T00:10:22.576998Z"
    }
   },
   "outputs": [],
   "source": [
    "%reset -f\n",
    "\n",
    "def produto(x, n):\n",
    "    n_é_positivo = (n >= 0)\n",
    "    prod = 0\n",
    "    for i in range(abs(n)):\n",
    "        prod += x\n",
    "    return prod if n_é_positivo else -prod\n",
    "\n",
    "testes = [(1, 5, 5), (5, 0, 0), (0, 5, 0), \n",
    "          (-1, 5, -5), (1, -5, -5)]\n",
    "for (x, n, r) in testes:\n",
    "    assert produto(x, n) == r, \\\n",
    "        f'produto({x}, {n}) = {produto(x, n)}  (esperado: {r})'\n"
   ]
  },
  {
   "cell_type": "markdown",
   "metadata": {},
   "source": [
    "### Calcular a *n*-ésima potência de um inteiro\n",
    "Criar uma função $\\mathit{potência}(x, n)$ que retorne $x^n$, se $n \\ge 0$, \n",
    "ou $\\mathit{None}$, caso contrário."
   ]
  },
  {
   "cell_type": "markdown",
   "metadata": {},
   "source": [
    "**Desenvolvimento**  \n",
    "Uma possível solução pode ser criada usando-se a função $\\mathit{produto}$ desenvolvida no exemplo anterior."
   ]
  },
  {
   "cell_type": "code",
   "execution_count": 9,
   "metadata": {
    "ExecuteTime": {
     "end_time": "2018-04-24T00:12:40.527360Z",
     "start_time": "2018-04-24T00:12:40.496083Z"
    }
   },
   "outputs": [],
   "source": [
    "%reset -f\n",
    "\n",
    "def produto(x, n):\n",
    "    n_é_positivo = (n >= 0)\n",
    "    prod = 0\n",
    "    for i in range(abs(n)):\n",
    "        prod += x\n",
    "    return prod if n_é_positivo else -prod\n",
    "\n",
    "def potência(x, n):\n",
    "    if n < 0:\n",
    "        pot = None\n",
    "    else:\n",
    "        pot = 1\n",
    "        for i in range(n):\n",
    "            pot = produto(pot, x)\n",
    "    return pot\n",
    "\n",
    "testes = [(2, 3, 8), (1, 5, 1), (5, 0, 1), (0, 5, 0), \n",
    "          (-1, 5, -1), (-1, 4, 1), (1, -5, None)]\n",
    "for (x, n, r) in testes:\n",
    "    assert potência(x, n) == r, \\\n",
    "        f'potência({x}, {n}) = {potência(x, n)}  (esperado: {r})'\n"
   ]
  },
  {
   "cell_type": "markdown",
   "metadata": {},
   "source": [
    "### Verificar se um número inteiro é primo ou não\n",
    "Um número inteiro $n$ é _primo_ se:\n",
    "\n",
    "-   For maior do que 1\n",
    "-   Não for divisível por qualquer inteiro $k, 1 < k < n$"
   ]
  },
  {
   "cell_type": "code",
   "execution_count": null,
   "metadata": {},
   "outputs": [],
   "source": [
    "%reset -f\n",
    "# variáveis de controle globais para verificação posterior\n",
    "qtd_1 = 0\n",
    "qtd_2 = 0\n",
    "qtd_3 = 0\n",
    "qtd_4 = 0"
   ]
  },
  {
   "cell_type": "markdown",
   "metadata": {},
   "source": [
    "#### Implementação 1\n",
    "Aplicar exatamente a definição."
   ]
  },
  {
   "cell_type": "code",
   "execution_count": null,
   "metadata": {},
   "outputs": [],
   "source": [
    "%%timeit\n",
    "\n",
    "def é_primo_1(n):\n",
    "    assert isinstance(n, int) and n > 0\n",
    "    if n == 1:\n",
    "        return False  # 1 não é primo\n",
    "    elif n == 2:\n",
    "        return True  # 2 é primo\n",
    "    elif n % 2 == 0:  # todos os números pares não são primos\n",
    "        return False\n",
    "    else:  # vamos testar possíveis divisores ímpares menores que n\n",
    "        i = 3\n",
    "        while i < n:\n",
    "            if n % i == 0:  # se n for divisível por i, n não é primo\n",
    "                return False\n",
    "            i += 2\n",
    "        return True # não encontramos nenhum divisor, portanto n é primo\n",
    "\n",
    "\n",
    "global qtd_1\n",
    "\n",
    "qtd_1 = 0\n",
    "for x in range(1, 100000):\n",
    "    if é_primo_1(x):\n",
    "        qtd_1 += 1"
   ]
  },
  {
   "cell_type": "markdown",
   "metadata": {
    "run_control": {
     "marked": false
    }
   },
   "source": [
    "#### Implementação 2\n",
    "Levando em conta que não é preciso testar possíveis divisores maiores que $\\frac{n}{2}$, o limite do \\mathit{while} pode ser reduzido.\n",
    "\n",
    "**Explicação.**  \n",
    "Se $x$ é um divisor de $n$, existe $y$ tal que $xy = n$.  \n",
    "Se $xy = n$ e $x > \\frac{n}{2}$, então $y < \\frac{n}{2}$ e, portanto, $y < x$ e também é um divisor de $n$.  \n",
    "Se $y < x$, $y$ já foi testado e, como ele é um divisor de $n$, ja teríamos concluído que $n$ não é primo e interrompido o laço."
   ]
  },
  {
   "cell_type": "code",
   "execution_count": null,
   "metadata": {},
   "outputs": [],
   "source": [
    "%%timeit\n",
    "\n",
    "def é_primo_2(n):\n",
    "    assert isinstance(n, int) and n > 0\n",
    "    if n == 1:  # 1 não é primo\n",
    "        return False\n",
    "    elif n == 2:  # 2 é primo\n",
    "        return True\n",
    "    elif n % 2 == 0:  # todos os números pares não são primos\n",
    "        return False\n",
    "    else:  # vamos testar possíveis divisores ímpares menores que n\n",
    "        i = 3\n",
    "        while i <= n // 2:\n",
    "            if n % i == 0:  # se n for divisível por i, n não é primo\n",
    "                return False\n",
    "            i += 2\n",
    "        return True # não encontramos nenhum divisor, portanto n é primo\n",
    "\n",
    "global qtd_2\n",
    "\n",
    "qtd_2 = 0\n",
    "for x in range(1, 100000):\n",
    "    if é_primo_2(x):\n",
    "        qtd_2 += 1"
   ]
  },
  {
   "cell_type": "markdown",
   "metadata": {},
   "source": [
    "#### Implementação 3\n",
    "Levando em conta que basta considerar divisores primos e que não podem existir divisores primos maiores que $\\sqrt{n}$, o limite do \\mathit{while} pode ser reduzido ainda mais.\n",
    "\n",
    "**Explicação.**  \n",
    "Suponha que $n$ tenha um divisor primo $p$, tal que $p > \\sqrt{n}$. Então existe um $q$ inteiro, tal que $pq = n$.  \n",
    "Como $p > \\sqrt{n}$, $q < \\sqrt{n}$ e também é um divisor de $n$.  \n",
    "A respeito de $q$ podemos dizer que ou ele é primo ou pode ser decomposto num produto de fatores primos, isto é,\n",
    "$q = p_1 \\dot p_2 \\dot \\dots p_i$.  \n",
    "Tanto $q$ quanto $p_1, p_2, \\dots p_i$ são divisores de $n$ e todos eles são menores do que $\\sqrt{n}$.  \n",
    "Como os candidatos são examinados em ordem crescente, um deles já teria interrompido a execução do laço. \n"
   ]
  },
  {
   "cell_type": "code",
   "execution_count": null,
   "metadata": {},
   "outputs": [],
   "source": [
    "%%timeit\n",
    "\n",
    "def é_primo_3(n):\n",
    "    assert isinstance(n, int) and n > 0\n",
    "    if n == 1:  # 1 não é primo\n",
    "        return False\n",
    "    elif n == 2:  # 2 é primo\n",
    "        return True\n",
    "    elif n % 2 == 0:  # todos os números pares não são primos\n",
    "        return False\n",
    "    else:  # vamos testar possíveis divisores ímpares menores que n\n",
    "        i = 3\n",
    "        while i * i <= n:\n",
    "            if n % i == 0:  # se n for divisível por i, n não é primo\n",
    "                return False\n",
    "            i += 2\n",
    "        return True # não encontramos nenhum divisor, portanto n é primo\n",
    "\n",
    "global qtd_3\n",
    "\n",
    "qtd_3 = 0\n",
    "for x in range(1, 100000):\n",
    "    if é_primo_3(x):\n",
    "        qtd_3 += 1"
   ]
  },
  {
   "cell_type": "markdown",
   "metadata": {
    "ExecuteTime": {
     "end_time": "2018-04-23T23:54:45.793855Z",
     "start_time": "2018-04-23T23:54:45.791884Z"
    }
   },
   "source": [
    "#### Implementação 4\n",
    "Levando em conta que todo número primo maior ou igual a $5$ é da forma $6 k \\pm 1$, para $k \\ge 1$, podemos reduzir o número de candidatos pesquisados.\n",
    "\n",
    "**Explicação.**  \n",
    "Todo inteiro maior ou igual a $5$ pode ser escrito como $6k-1, 6k, 6k+1, 6k+2, 6k+3$ ou $6k+4$, \n",
    "para algum $k \\ge 1$.  \n",
    "Desses, $6k = 2 \\cdot 3k$, $6k+2 = 2 \\cdot (3k+1)$ e $6k+4 = 2 \\cdot (3k+2)$ são múltiplos de $2$ e, portanto, não são primos.  \n",
    "Da mesma forma, $6k+3 = 3 \\cdot (2k+1)$ é múltiplo de $3$ e, portanto, também não é primo.  \n",
    "Assim, apenas os números das formas $6k-1$ e $6k+1$ podem ser primos (embora não necessariamente o sejam) e devem ser testados."
   ]
  },
  {
   "cell_type": "code",
   "execution_count": null,
   "metadata": {},
   "outputs": [],
   "source": [
    "%%timeit\n",
    "\n",
    "def é_primo_4(n):\n",
    "    assert isinstance(n, int) and n > 0\n",
    "    if n == 1:  # 1 não é primo\n",
    "        return False\n",
    "    elif n <= 3:  # 2 e 3 são primos\n",
    "        return True\n",
    "    elif n % 2 == 0 or n % 3 == 0:  # todos os múltiplos de 2 ou 3 não são primos\n",
    "        return False\n",
    "    else:  # vamos testar possíveis divisores da forma 6k-1 ou 6k+1\n",
    "        i = 5\n",
    "        while i * i <= n:\n",
    "            if n % i == 0 or n % (i + 2) == 0:  # se for divisível por i ou i + 2,\n",
    "                return False                    # n não é primo\n",
    "            i += 6\n",
    "        return True # não encontramos nenhum divisor, portanto n é primo\n",
    "\n",
    "global qtd_4\n",
    "\n",
    "qtd_4 = 0\n",
    "for x in range(1, 100000):\n",
    "    if é_primo_4(x):\n",
    "        qtd_4 += 1"
   ]
  },
  {
   "cell_type": "markdown",
   "metadata": {},
   "source": [
    "Apenas para conferir, vamos exibir o número de primos encontrados em cada caso..."
   ]
  },
  {
   "cell_type": "code",
   "execution_count": null,
   "metadata": {},
   "outputs": [],
   "source": [
    "print(qtd_1, qtd_2, qtd_3, qtd_4)"
   ]
  }
 ],
 "metadata": {
  "kernelspec": {
   "display_name": "Python 3",
   "language": "python",
   "name": "python3"
  },
  "language_info": {
   "codemirror_mode": {
    "name": "ipython",
    "version": 3
   },
   "file_extension": ".py",
   "mimetype": "text/x-python",
   "name": "python",
   "nbconvert_exporter": "python",
   "pygments_lexer": "ipython3",
   "version": "3.6.5"
  },
  "latex_envs": {
   "LaTeX_envs_menu_present": true,
   "autoclose": false,
   "autocomplete": true,
   "bibliofile": "biblio.bib",
   "cite_by": "apalike",
   "current_citInitial": 1,
   "eqLabelWithNumbers": true,
   "eqNumInitial": 1,
   "hotkeys": {
    "equation": "Ctrl-E",
    "itemize": "Ctrl-I"
   },
   "labels_anchors": false,
   "latex_user_defs": false,
   "report_style_numbering": false,
   "user_envs_cfg": false
  },
  "toc": {
   "base_numbering": 1,
   "nav_menu": {},
   "number_sections": true,
   "sideBar": true,
   "skip_h1_title": true,
   "title_cell": "Table of Contents",
   "title_sidebar": "Contents",
   "toc_cell": false,
   "toc_position": {},
   "toc_section_display": true,
   "toc_window_display": false
  },
  "varInspector": {
   "cols": {
    "lenName": 16,
    "lenType": 16,
    "lenVar": 40
   },
   "kernels_config": {
    "python": {
     "delete_cmd_postfix": "",
     "delete_cmd_prefix": "del ",
     "library": "var_list.py",
     "varRefreshCmd": "print(var_dic_list())"
    },
    "r": {
     "delete_cmd_postfix": ") ",
     "delete_cmd_prefix": "rm(",
     "library": "var_list.r",
     "varRefreshCmd": "cat(var_dic_list()) "
    }
   },
   "types_to_exclude": [
    "module",
    "function",
    "builtin_function_or_method",
    "instance",
    "_Feature"
   ],
   "window_display": false
  }
 },
 "nbformat": 4,
 "nbformat_minor": 2
}
