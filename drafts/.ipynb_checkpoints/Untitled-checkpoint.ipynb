{
 "cells": [
  {
   "cell_type": "code",
   "execution_count": 10,
   "metadata": {},
   "outputs": [],
   "source": [
    "%reset -f\n",
    "\n",
    "def isqrt(x):\n",
    "    if x == 0:\n",
    "        return 0\n",
    "    else:\n",
    "        z = x // 4\n",
    "        r2 = 2 * isqrt(z)\n",
    "        r3 = r2 + 1\n",
    "        if x < r3 * r3:\n",
    "            return r2\n",
    "        else:\n",
    "            return r3"
   ]
  },
  {
   "cell_type": "code",
   "execution_count": 11,
   "metadata": {},
   "outputs": [
    {
     "name": "stdout",
     "output_type": "stream",
     "text": [
      "951 µs ± 11.5 µs per loop (mean ± std. dev. of 7 runs, 1000 loops each)\n"
     ]
    }
   ],
   "source": [
    "%%timeit\n",
    "\n",
    "for i in range (1000):\n",
    "    isqrt(i)"
   ]
  },
  {
   "cell_type": "code",
   "execution_count": 12,
   "metadata": {},
   "outputs": [],
   "source": [
    "%reset -f\n",
    "\n",
    "# Given integer x, this returns the integer floor(sqrt(x)).\n",
    "def isqrt(x):\n",
    "    assert x >= 0\n",
    "    i = 1\n",
    "    while i * i <= x:\n",
    "        i *= 2\n",
    "    y = 0\n",
    "    while i > 0:\n",
    "        if (y + i)**2 <= x:\n",
    "            y += i\n",
    "        i //= 2\n",
    "    return y\n"
   ]
  },
  {
   "cell_type": "code",
   "execution_count": 13,
   "metadata": {},
   "outputs": [
    {
     "name": "stdout",
     "output_type": "stream",
     "text": [
      "2.02 ms ± 44 µs per loop (mean ± std. dev. of 7 runs, 100 loops each)\n"
     ]
    }
   ],
   "source": [
    "%%timeit\n",
    "\n",
    "for i in range (1000):\n",
    "    isqrt(i)"
   ]
  },
  {
   "cell_type": "code",
   "execution_count": 4,
   "metadata": {},
   "outputs": [
    {
     "data": {
      "text/plain": [
       "31622"
      ]
     },
     "execution_count": 4,
     "metadata": {},
     "output_type": "execute_result"
    }
   ],
   "source": [
    "isqrt(1000000000)"
   ]
  },
  {
   "cell_type": "code",
   "execution_count": 6,
   "metadata": {},
   "outputs": [
    {
     "data": {
      "text/plain": [
       "31622776601683793319988935444327185337195551393252168268575048527925944386392382213442481083793002951873472841528400551485488560304538800146905195967001539033449216571792599406591501534741133394841240853169295770904715764610443692578790620378086099418"
      ]
     },
     "execution_count": 6,
     "metadata": {},
     "output_type": "execute_result"
    }
   ],
   "source": [
    "isqrt(10**501)"
   ]
  },
  {
   "cell_type": "code",
   "execution_count": 7,
   "metadata": {},
   "outputs": [
    {
     "data": {
      "text/plain": [
       "31622776601683793319988935444327185337195551393252168268575048527925944386392382213442481083793002951873472841528400551485488560304538800146905195967001539033449216571792599406591501534741133394841240853169295770904715764610443692578790620378086099418"
      ]
     },
     "execution_count": 7,
     "metadata": {},
     "output_type": "execute_result"
    }
   ],
   "source": [
    "x = 31622776601683793319988935444327185337195551393252168268575048527925944386392382213442481083793002951873472841528400551485488560304538800146905195967001539033449216571792599406591501534741133394841240853169295770904715764610443692578790620378086099418\n",
    "isqrt(x * x)"
   ]
  },
  {
   "cell_type": "code",
   "execution_count": 100,
   "metadata": {},
   "outputs": [
    {
     "name": "stdout",
     "output_type": "stream",
     "text": [
      "    3    8    1    4    2    7    2    7    6    1\n",
      "   24   61   65  100   87   73   19   23   52   73\n",
      "   39   80   49   35   97   96   79   56   17   23\n",
      "   44   56   19   28   66   53   54    6   76   81\n",
      "   39   24   59   15    1   19   98   99   33    1\n",
      "   32   35   99   80   37   73   24   11    6   29\n",
      "   26   61   82   82   28   52   57   51   80   94\n",
      "    4   55   63   43    1   73   90   86   45   50\n",
      "   39   50   27   69    9   73   17   82   58   18\n",
      "   17   77   41   57   10   49   95   92   39   46\n"
     ]
    }
   ],
   "source": [
    "%reset -f\n",
    "\n",
    "from random import choices\n",
    "big_arr = []\n",
    "for p in range(1, 7):\n",
    "    n = 10**p\n",
    "    big_arr += choices(range(1, n+1), k=n)\n",
    "\n",
    "cnt = 0\n",
    "for k in range(100):\n",
    "    print(f'{big_arr[k]:5}', end='')\n",
    "    cnt = (cnt + 1) % 10\n",
    "    if cnt == 0:\n",
    "        print()\n"
   ]
  },
  {
   "cell_type": "code",
   "execution_count": 101,
   "metadata": {},
   "outputs": [
    {
     "name": "stdout",
     "output_type": "stream",
     "text": [
      "      10    0.00003        3 [1, 2, 7]\n",
      "     100    0.00061       22 [1, 2, 4, 6, 7, 17, 19, 23, 24, 28, 35, 39, 49, 50, 52, 56, 57, 61, 73, 80]\n",
      "    1000    0.04125      255 [1, 2, 3, 4, 6, 7, 9, 10, 11, 15, 17, 19, 23, 24, 25, 27, 28, 29, 30, 35]\n",
      "   10000    2.96126     2622 [1, 2, 3, 4, 5, 6, 7, 9, 10, 11, 12, 15, 17, 18, 19, 20, 22, 23, 24, 25]\n",
      "  100000  319.48268    26025 [1, 2, 3, 4, 5, 6, 7, 8, 9, 10, 11, 12, 13, 14, 15, 17, 18, 19, 20, 21]\n"
     ]
    },
    {
     "ename": "KeyboardInterrupt",
     "evalue": "",
     "output_type": "error",
     "traceback": [
      "\u001b[0;31m---------------------------------------------------------------------------\u001b[0m",
      "\u001b[0;31mKeyboardInterrupt\u001b[0m                         Traceback (most recent call last)",
      "\u001b[0;32m<ipython-input-101-39c43d2a8fdf>\u001b[0m in \u001b[0;36m<module>\u001b[0;34m()\u001b[0m\n\u001b[1;32m     14\u001b[0m             \u001b[0mvistos\u001b[0m\u001b[0;34m.\u001b[0m\u001b[0mappend\u001b[0m\u001b[0;34m(\u001b[0m\u001b[0mi\u001b[0m\u001b[0;34m)\u001b[0m\u001b[0;34m\u001b[0m\u001b[0m\n\u001b[1;32m     15\u001b[0m             \u001b[0mcnt\u001b[0m \u001b[0;34m=\u001b[0m \u001b[0;36m0\u001b[0m\u001b[0;34m\u001b[0m\u001b[0m\n\u001b[0;32m---> 16\u001b[0;31m             \u001b[0;32mfor\u001b[0m \u001b[0mj\u001b[0m \u001b[0;32min\u001b[0m \u001b[0marr\u001b[0m\u001b[0;34m:\u001b[0m\u001b[0;34m\u001b[0m\u001b[0m\n\u001b[0m\u001b[1;32m     17\u001b[0m                 \u001b[0;32mif\u001b[0m \u001b[0mj\u001b[0m \u001b[0;34m==\u001b[0m \u001b[0mi\u001b[0m\u001b[0;34m:\u001b[0m\u001b[0;34m\u001b[0m\u001b[0m\n\u001b[1;32m     18\u001b[0m                     \u001b[0mcnt\u001b[0m \u001b[0;34m+=\u001b[0m \u001b[0;36m1\u001b[0m\u001b[0;34m\u001b[0m\u001b[0m\n",
      "\u001b[0;31mKeyboardInterrupt\u001b[0m: "
     ]
    }
   ],
   "source": [
    "from time import perf_counter\n",
    "\n",
    "for p in range(1, 7):\n",
    "    start = perf_counter()\n",
    "    arr = big_arr[:10**p]\n",
    "    n = len(arr)\n",
    "    k = int(0.8*n)\n",
    "    n_by_k = n // k\n",
    "\n",
    "    vistos = []\n",
    "    resp = []\n",
    "    for i in arr:\n",
    "        if i not in vistos:\n",
    "            vistos.append(i)\n",
    "            cnt = 0\n",
    "            for j in arr:\n",
    "                if j == i:\n",
    "                    cnt += 1\n",
    "                    if cnt > n_by_k:\n",
    "                        resp.append(i)\n",
    "                        break\n",
    "    end = perf_counter()\n",
    "    print(f'{n:8} {end-start:10.5f} {len(resp):8} {sorted(resp)[:20]}')"
   ]
  },
  {
   "cell_type": "code",
   "execution_count": null,
   "metadata": {},
   "outputs": [],
   "source": [
    "from time import perf_counter\n",
    "\n",
    "for p in range(1, 7):\n",
    "    start = perf_counter()\n",
    "    arr = big_arr[:10**p]\n",
    "    n = len(arr)\n",
    "    k = int(0.8*n)\n",
    "    n_by_k = n // k\n",
    "\n",
    "    resp = []\n",
    "    arr.sort()\n",
    "    ia = None\n",
    "    cnt = 0\n",
    "    for i in arr:\n",
    "        if i != ia:\n",
    "            if cnt > n_by_k:\n",
    "                resp.append(ia)\n",
    "            cnt = 1\n",
    "            ia = i\n",
    "        else:\n",
    "            cnt += 1\n",
    "    if cnt > n_by_k:\n",
    "        resp.append(ia)\n",
    "\n",
    "    end = perf_counter()\n",
    "    print(f'{n:8} {end-start:10.5f} {len(resp):8} {resp[:20]}')"
   ]
  },
  {
   "cell_type": "code",
   "execution_count": null,
   "metadata": {},
   "outputs": [],
   "source": [
    "from time import perf_counter\n",
    "\n",
    "for p in range(1, 7):\n",
    "    start = perf_counter()\n",
    "    arr = big_arr[:10**p]\n",
    "    n = len(arr)\n",
    "    k = int(0.8*n)\n",
    "    n_by_k = n // k\n",
    "\n",
    "    resp = {}\n",
    "    for i in arr:\n",
    "        if i not in resp:\n",
    "            resp[i] = 1\n",
    "        else:\n",
    "            resp[i] += 1\n",
    "    resp = [key for key, cnt in resp.items() if cnt > n_by_k]\n",
    "    end = perf_counter()\n",
    "    print(f'{n:8} {end-start:10.5f} {len(resp):8} {resp[:20]}')"
   ]
  },
  {
   "cell_type": "code",
   "execution_count": null,
   "metadata": {},
   "outputs": [],
   "source": []
  },
  {
   "cell_type": "code",
   "execution_count": 66,
   "metadata": {},
   "outputs": [
    {
     "name": "stdout",
     "output_type": "stream",
     "text": [
      "   48   42   45   35   13    3   21   17    8   40\n",
      "   50   27   39    8    8   35   32    3   49   22\n",
      "   38    2   11   50    4   26    8    4   16   28\n",
      "   11    4   34   25   16    8   41   11   44   21\n",
      "    9    5   16   11   48   31   37    5   39   41\n",
      "\n",
      "    2    4   49   45   41   41   39   39    4    4\n",
      "    8   37   35    8    8   35    8   31   27    8\n",
      "   16   16   25   16   22   26   28   32   34   38\n",
      "   21   40   42   21   44   48   17   13   48   11\n",
      "   11   11   50   11   50    9    5    5    3    3\n",
      "\n"
     ]
    }
   ],
   "source": [
    "%reset -f\n",
    "\n",
    "from random import choices\n",
    "\n",
    "def pprint(arr, n):\n",
    "    cnt = 0\n",
    "    for k in range(n):\n",
    "        print(f'{arr[k]:5}', end='')\n",
    "        cnt = (cnt + 1) % 10\n",
    "        if cnt == 0:\n",
    "            print()\n",
    "    print()\n",
    "\n",
    "n = 50\n",
    "arr = choices(range(1, n+1), k=n)\n",
    "pprint(arr, n)\n",
    "\n",
    "é_par = [x % 2 == 0 for x in arr]\n",
    "pares = sorted([x for x in arr if x % 2 == 0])\n",
    "ímpares = sorted([x for x in arr if x % 2 == 1], reverse=True)\n",
    "ip = 0\n",
    "ii = 0\n",
    "resp = []\n",
    "for i in range(len(arr)):\n",
    "    if é_par[i]:\n",
    "        resp.append(pares[ip])\n",
    "        ip += 1\n",
    "    else:\n",
    "        resp.append(ímpares[ii])\n",
    "        ii += 1\n",
    "pprint(resp, n)"
   ]
  },
  {
   "cell_type": "code",
   "execution_count": 66,
   "metadata": {},
   "outputs": [
    {
     "name": "stdout",
     "output_type": "stream",
     "text": [
      "   48   42   45   35   13    3   21   17    8   40\n",
      "   50   27   39    8    8   35   32    3   49   22\n",
      "   38    2   11   50    4   26    8    4   16   28\n",
      "   11    4   34   25   16    8   41   11   44   21\n",
      "    9    5   16   11   48   31   37    5   39   41\n",
      "\n",
      "    2    4   49   45   41   41   39   39    4    4\n",
      "    8   37   35    8    8   35    8   31   27    8\n",
      "   16   16   25   16   22   26   28   32   34   38\n",
      "   21   40   42   21   44   48   17   13   48   11\n",
      "   11   11   50   11   50    9    5    5    3    3\n",
      "\n"
     ]
    }
   ],
   "source": [
    "%reset -f\n",
    "\n",
    "from random import choices\n",
    "\n",
    "def pprint(arr, n):\n",
    "    cnt = 0\n",
    "    for k in range(n):\n",
    "        print(f'{arr[k]:5}', end='')\n",
    "        cnt = (cnt + 1) % 10\n",
    "        if cnt == 0:\n",
    "            print()\n",
    "    print()\n",
    "\n",
    "n = 50\n",
    "arr = choices(range(1, n+1), k=n)\n",
    "pprint(arr, n)\n",
    "\n",
    "é_par = [x % 2 == 0 for x in arr]\n",
    "pares = sorted([x for x in arr if x % 2 == 0])\n",
    "ímpares = sorted([x for x in arr if x % 2 == 1], reverse=True)\n",
    "ip = 0\n",
    "ii = 0\n",
    "resp = []\n",
    "for i in range(len(arr)):\n",
    "    if é_par[i]:\n",
    "        resp.append(pares[ip])\n",
    "        ip += 1\n",
    "    else:\n",
    "        resp.append(ímpares[ii])\n",
    "        ii += 1\n",
    "pprint(resp, n)"
   ]
  },
  {
   "cell_type": "code",
   "execution_count": 99,
   "metadata": {},
   "outputs": [
    {
     "name": "stdout",
     "output_type": "stream",
     "text": [
      "   44   17   26   49   33   20   24    7    1    4\n",
      "    3   40   42   49   26   27   42   23    4   41\n",
      "    6   25   23   43   28    4    3   18   22   44\n",
      "   26   24   40   36   46   44   37    6   50   38\n",
      "   24    9    4   11   36   38   34   16   36   42\n",
      "\n",
      "    0    1    0    1    1    0    0    1    1    0\n",
      "    1    0    0    1    0    1    0    1    0    1\n",
      "    0    1    1    1    0    0    1    0    0    0\n",
      "    0    0    0    0    0    0    1    0    0    0\n",
      "    0    1    0    1    0    0    0    0    0    0\n",
      "\n",
      " [50, 46, 44, 44, 44, 42, 42, 42, 40, 40, 38, 38, 36, 36, 36, 34, 28, 26, 26, 26, 24, 24, 24, 22, 20, 18, 16, 6, 6, 4, 4, 4, 4] \n",
      "\n",
      "\n",
      " [1, 3, 3, 7, 9, 11, 17, 23, 23, 25, 27, 33, 37, 41, 43, 49, 49] \n",
      "\n",
      "    4   49    4   49   43    4    4   41   37    6\n",
      "   33    6   16   27   18   25   20   23   22   23\n",
      "   24   17   11    9   24   24    7   26   26   26\n",
      "   28   34   36   36   36   38    3   38   40   40\n",
      "   42    3   42    1   42   44   44   44   46   50\n"
     ]
    }
   ],
   "source": [
    "%reset -f\n",
    "\n",
    "from random import choices\n",
    "\n",
    "def pprint_1(arr):\n",
    "    cnt = 0\n",
    "    for x in arr:\n",
    "        print(f'{x:5}', end='')\n",
    "        cnt = (cnt + 1) % 10\n",
    "        if cnt == 0:\n",
    "            print()\n",
    "    print()\n",
    "\n",
    "\n",
    "def pprint_2(lst):\n",
    "    my_lst = [f'{x: 5}' for x in lst]\n",
    "    print(\"\\n\".join([\"\".join(my_lst[i:i+10]) for i in range(0,len(lst),10)]))\n",
    "\n",
    "\n",
    "def pprint_3(lst):\n",
    "    for i, x in enumerate(lst):\n",
    "        print(f'{x:5}', end=' ') \n",
    "        if i % 10 == 9: \n",
    "            print()\n",
    "\n",
    "n = 50\n",
    "arr = choices(range(1, n+1), k=n)\n",
    "pprint(arr)\n",
    "\n",
    "é_ímpar = [x % 2 for x in arr]\n",
    "print()\n",
    "pprint(é_ímpar)\n",
    "é_ímpar.reverse()\n",
    "\n",
    "\n",
    "pares = sorted([x for x in arr if x % 2 == 0], reverse= True)\n",
    "print('\\n', pares, '\\n')\n",
    "\n",
    "ímpares = sorted([x for x in arr if x % 2 == 1])\n",
    "print('\\n', ímpares, '\\n')\n",
    "\n",
    "resp = [(ímpares.pop() if é_ímpar.pop() else pares.pop()) for _ in range(n)]\n",
    "\n",
    "pprint(resp)"
   ]
  },
  {
   "cell_type": "markdown",
   "metadata": {},
   "source": [
    "Given an Array of non-negative integers. Find out the maximum perimeter of the triangle from the array.\n",
    "\n",
    "Input:\n",
    "The first line contains an integer T, the number of test cases. For each test case, the first line contains an integer n, the size of the array. Next line contains n- space separated integers.\n",
    "\n",
    "Output:\n",
    "For each test case, the output is an integer displaying the maximum perimeter if the triangle is possible else print -1.\n",
    "\n",
    "Constraints:\n",
    "1<=T<=100\n",
    "3<=n<=100"
   ]
  },
  {
   "cell_type": "code",
   "execution_count": 27,
   "metadata": {},
   "outputs": [],
   "source": [
    "%reset -f\n",
    "\n",
    "inp = ['2',\n",
    "       '6',\n",
    "       '6 1 6 5 8 4',\n",
    "       '7',\n",
    "       '7 55 20 1 4 33 12'\n",
    "      ]\n",
    "\n",
    "def read(inp, linp):\n",
    "    if linp >= len(inp):\n",
    "        return None\n",
    "    else:\n",
    "        return inp[linp], linp + 1"
   ]
  },
  {
   "cell_type": "code",
   "execution_count": 28,
   "metadata": {},
   "outputs": [
    {
     "name": "stdout",
     "output_type": "stream",
     "text": [
      "20\n",
      "-1\n"
     ]
    }
   ],
   "source": [
    "linp = 0\n",
    "t, linp = read(inp, linp)\n",
    "t = int(t)\n",
    "for it in range(t):\n",
    "    n, linp = read(inp, linp)\n",
    "    n = int(n)\n",
    "    pts, linp = read(inp, linp)\n",
    "    pts = pts.split()\n",
    "    pts = [int(x) for x in pts]\n",
    "    \n",
    "    maxper = -1\n",
    "    for x in range(n - 2):\n",
    "        i = pts[x]\n",
    "        for y in range(x + 1, n - 1):\n",
    "            j = pts[y]\n",
    "            for z in range(y + 1, n):\n",
    "                k = pts[z]\n",
    "                triang = sorted([i, j, k])\n",
    "                is_triang = (triang[2] < triang[0] + triang[1])\n",
    "                per = i + j + k\n",
    "                if is_triang and per > maxper:\n",
    "                    maxper = i + j + k\n",
    "    print(maxper)"
   ]
  },
  {
   "cell_type": "code",
   "execution_count": 32,
   "metadata": {},
   "outputs": [
    {
     "name": "stdout",
     "output_type": "stream",
     "text": [
      "True\n",
      "False\n",
      "1.053986890008673\n",
      "0.21379899798193946\n"
     ]
    }
   ],
   "source": [
    "from collections import Counter\n",
    "import timeit\n",
    "\n",
    "s1 = \"\"\"\\\n",
    "def is_anagram(str1, str2):\n",
    "    return Counter(str1) == Counter(str2)\n",
    "    \n",
    "    \n",
    "x1 = is_anagram('geek', 'eegk')\n",
    " \n",
    "x2 = is_anagram('geek', 'peek')\n",
    "\"\"\"\n",
    "\n",
    "s2 = \"\"\"\\\n",
    "def is_anagram(str1, str2):\n",
    "    return sorted(list(str1)) == sorted(list(str2))\n",
    "    \n",
    "    \n",
    "x1 = is_anagram('geek', 'eegk')\n",
    " \n",
    "x2 = is_anagram('geek', 'peek')\n",
    "\"\"\"\n",
    "\n",
    "def is_anagram(str1, str2):\n",
    "    return sorted(list(str1)) == sorted(list(str2))\n",
    "    \n",
    "print(is_anagram('geek', 'eegk'))\n",
    " \n",
    "print(is_anagram('geek', 'peek'))\n",
    "\n",
    "print(timeit.timeit(stmt=s1, number=100000, setup='from collections import Counter'))\n",
    "print(timeit.timeit(stmt=s2, number=100000))"
   ]
  },
  {
   "cell_type": "code",
   "execution_count": null,
   "metadata": {},
   "outputs": [],
   "source": []
  },
  {
   "cell_type": "code",
   "execution_count": 52,
   "metadata": {},
   "outputs": [],
   "source": [
    "%reset -f\n",
    "\n",
    "inp = ['3',\n",
    "       '4125',\n",
    "       '876',\n",
    "       '13567285'\n",
    "      ]\n",
    "\n",
    "def read(inp, linp):\n",
    "    if linp >= len(inp):\n",
    "        return None\n",
    "    else:\n",
    "        return inp[linp], linp + 1"
   ]
  },
  {
   "cell_type": "code",
   "execution_count": 59,
   "metadata": {},
   "outputs": [
    {
     "name": "stdout",
     "output_type": "stream",
     "text": [
      "['4', '1', '2', '5'] [0, 1, 1, 1] 125\n",
      "['8', '7', '6'] [1, 0, 0] 8\n",
      "['1', '3', '5', '6', '7', '2', '8', '5'] [1, 0, 1, 1, 0, 1, 0, 1] 15625\n"
     ]
    }
   ],
   "source": [
    "linp = 0\n",
    "t, linp = read(inp, linp)\n",
    "t = int(t)\n",
    "\n",
    "for _ in range(t):\n",
    "    n, linp = read(inp, linp)\n",
    "    n = int(n)\n",
    "\n",
    "    powers3 = []\n",
    "    for i in range(n):\n",
    "        i3 = i**3\n",
    "        if i3 > n:\n",
    "            break\n",
    "        powers3 += [i3]\n",
    "\n",
    "    ndigs = len(str(n))\n",
    "    power2 = 2 ** ndigs\n",
    "    strs = [bin(x)[2:].zfill(ndigs) for x in range(power2)]\n",
    "    strs = strs[::-1]\n",
    "    strs = [list(x) for x in strs]\n",
    "    ints = [[int(x) for x in code] for code in strs] \n",
    "    # ints = []\n",
    "    # for code in strs:\n",
    "    #     ints += [[int(x) for x in code]]\n",
    "    nlist = list(str(n))\n",
    "    \n",
    "    for mask in ints:\n",
    "        test = [i for i, b in zip(nlist, mask) if b]\n",
    "        test = int(''.join(test))\n",
    "        if test in powers3:\n",
    "            break\n",
    "    \n",
    "    print(nlist, mask, test)"
   ]
  },
  {
   "cell_type": "code",
   "execution_count": 54,
   "metadata": {},
   "outputs": [
    {
     "data": {
      "text/plain": [
       "[(1, 2, 3), (4, 5, 6), (7, 8, 9)]"
      ]
     },
     "execution_count": 54,
     "metadata": {},
     "output_type": "execute_result"
    }
   ],
   "source": [
    "# Your list `x`\n",
    "x = [1,2,3,4,5,6,7,8,9]\n",
    "\n",
    "# Split `x` up in chunks of 3\n",
    "y = zip(*[iter(x)]*3)\n",
    "\n",
    "# Use `list()` to print the result of `zip()`\n",
    "list(y)"
   ]
  },
  {
   "cell_type": "code",
   "execution_count": null,
   "metadata": {},
   "outputs": [],
   "source": [
    "my_list = [1, 2, 3, 4, 5,\n",
    "              6, 7, 8, 9]\n",
    " \n",
    "# How many elements each\n",
    "# list should have\n",
    "n = 4\n",
    " \n",
    "# using list comprehension\n",
    "final = [my_list[i * n:(i + 1) * n] for i in range((len(my_list) + n - 1) // n )] \n",
    "print (final)"
   ]
  },
  {
   "cell_type": "markdown",
   "metadata": {},
   "source": [
    "Write a function called remove_dups that takes a string and creates a new string by only adding those characters that are not already present. In other words, there will never be a duplicate letter added to the new string."
   ]
  },
  {
   "cell_type": "markdown",
   "metadata": {},
   "source": [
    "Although Python provides us with many list methods, it is good practice and very instructive to think about how they are implemented. Implement a Python function that works like the following:\n",
    "count\n",
    "in\n",
    "reverse\n",
    "index\n",
    "insert"
   ]
  },
  {
   "cell_type": "code",
   "execution_count": null,
   "metadata": {},
   "outputs": [],
   "source": [
    "Write a function replace(s, old, new) that replaces all occurences of old with new in a string s:\n",
    "test(replace('Mississippi', 'i', 'I'), 'MIssIssIppI')\n",
    "\n",
    "s = 'I love spom!  Spom is my favorite food.  Spom, spom, spom, yum!'\n",
    "test(replace(s, 'om', 'am'),\n",
    "       'I love spam!  Spam is my favorite food.  Spam, spam, spam, yum!')\n",
    "\n",
    "test(replace(s, 'o', 'a'),\n",
    "       'I lave spam!  Spam is my favarite faad.  Spam, spam, spam, yum!')b\n",
    "Hint: use the split and join methods."
   ]
  },
  {
   "cell_type": "markdown",
   "metadata": {},
   "source": [
    "Write a program called alice_words.py that creates a text file named alice_words.txt containing an alphabetical listing of all the words, and the number of times each occurs, in the text version of Alice’s Adventures in Wonderland. (You can obtain a free plain text version of the book, along with many others, from http://www.gutenberg.org.) The first 10 lines of your output file should look something like this"
   ]
  },
  {
   "cell_type": "code",
   "execution_count": null,
   "metadata": {},
   "outputs": [],
   "source": [
    "f = open('alice.txt', 'r')\n",
    "\n",
    "count = {}\n",
    "\n",
    "for line in f:\n",
    "    for word in line.split():\n",
    "\n",
    "        # remove punctuation\n",
    "        word = word.replace('_', '').replace('\"', '').replace(',', '').replace('.', '')\n",
    "        word = word.replace('-', '').replace('?', '').replace('!', '').replace(\"'\", \"\")\n",
    "        word = word.replace('(', '').replace(')', '').replace(':', '').replace('[', '')\n",
    "        word = word.replace(']', '').replace(';', '')\n",
    "\n",
    "        # ignore case\n",
    "        word = word.lower()\n",
    "\n",
    "        # ignore numbers\n",
    "        if word.isalpha():\n",
    "            if word in count:\n",
    "                count[word] = count[word] + 1\n",
    "            else:\n",
    "                count[word] = 1\n",
    "\n",
    "keys = count.keys()\n",
    "keys.sort()\n",
    "\n",
    "# save the word count analysis to a file\n",
    "out = open('alice_words.txt', 'w')\n",
    "\n",
    "for word in keys:\n",
    "    out.write(word + \" \" + str(count[word]))\n",
    "    out.write('\\n')\n",
    "\n",
    "print(\"The word 'alice' appears \" + str(count['alice']) + \" times in the book.\")"
   ]
  },
  {
   "cell_type": "code",
   "execution_count": null,
   "metadata": {},
   "outputs": [],
   "source": []
  },
  {
   "cell_type": "code",
   "execution_count": 110,
   "metadata": {},
   "outputs": [
    {
     "name": "stdout",
     "output_type": "stream",
     "text": [
      "\n",
      "First Test\n",
      "\n",
      "Number: 4  Count: 1\n",
      "\n",
      "Second Test\n",
      "\n",
      "Number: 2  Count: 2\n",
      "\n",
      "Third Test\n",
      "\n",
      "Number: 2  Count: 2\n",
      "\n",
      "Fourth Test\n",
      "\n",
      "Number: 2  Count: 2\n",
      "Number: 3  Count: 2\n"
     ]
    }
   ],
   "source": [
    "# A Python program to print elements with count more than n/k\n",
    "\n",
    "# Prints elements with more than n/k occurrences in arr[] of\n",
    "# size n. If there are no such elements, then it prints nothing.\n",
    "\n",
    "def moreThanNdK(arr, n, k):\n",
    "    # k must be greater than 1 to get some output\n",
    "    if k < 2:\n",
    "       return\n",
    "\n",
    "    temp = {}\n",
    "\n",
    "\n",
    "    # Step 1: Create a temporary array (contains element\n",
    "    #   and count) of size k-1. Initialize count of all\n",
    "    #   elements as 0 */\n",
    "\n",
    "    # Step 2: Process all elements of input array \n",
    "    for i in range(n):\n",
    "        # If arr[i] is already present in\n",
    "        #  the element count array, then increment its count\n",
    "        if arr[i] in temp:\n",
    "            temp[arr[i]] += 1\n",
    "        else:\n",
    "            # If there is position available in temp[], then place \n",
    "            #  arr[i] in the first available position and set count as 1\n",
    "            if len(temp) < k:\n",
    "                temp[arr[i]] = 1\n",
    "                \n",
    "            # If all the position in the temp[] are filled, then \n",
    "            #   decrease count of every element by 1\n",
    "            else:\n",
    "                for l in temp:\n",
    "                    temp[l] -= 1\n",
    "\n",
    "    # Step 3: Check actual counts of potential candidates in temp[]\n",
    "    for x in temp:\n",
    "        ac = arr.count(x)\n",
    "        \n",
    "        # If actual count is more than n/k, then print it\n",
    "        if ac > n // k:\n",
    "           print(\"Number:\", x, \" Count:\", temp[x])\n",
    "\n",
    "            \n",
    "# Driver program to test above function \n",
    "def main():\n",
    "    print(\"\\nFirst Test\\n\")\n",
    "    arr1 = [4, 5, 6, 7, 8, 4, 4]\n",
    "    size = len(arr1)\n",
    "    k = 3\n",
    "    moreThanNdK(arr1, size, k)\n",
    "\n",
    "    print(\"\\nSecond Test\\n\")\n",
    "    arr2 = [4, 2, 2, 7]\n",
    "    size = len(arr2)\n",
    "    k = 3\n",
    "    moreThanNdK(arr2, size, k)\n",
    "\n",
    "    print(\"\\nThird Test\\n\")\n",
    "    arr3 = [2, 7, 2]\n",
    "    size = len(arr3)\n",
    "    k = 2\n",
    "    moreThanNdK(arr3, size, k)\n",
    "\n",
    "    print(\"\\nFourth Test\\n\")\n",
    "    arr4 = [2, 3, 3, 2]\n",
    "    size = len(arr4)\n",
    "    k = 3\n",
    "    moreThanNdK(arr4, size, k)\n",
    "\n",
    "main()"
   ]
  },
  {
   "cell_type": "code",
   "execution_count": 106,
   "metadata": {},
   "outputs": [
    {
     "ename": "SyntaxError",
     "evalue": "invalid syntax (<ipython-input-106-727f054e032d>, line 31)",
     "output_type": "error",
     "traceback": [
      "\u001b[0;36m  File \u001b[0;32m\"<ipython-input-106-727f054e032d>\"\u001b[0;36m, line \u001b[0;32m31\u001b[0m\n\u001b[0;31m    else:\u001b[0m\n\u001b[0m       ^\u001b[0m\n\u001b[0;31mSyntaxError\u001b[0m\u001b[0;31m:\u001b[0m invalid syntax\n"
     ]
    }
   ],
   "source": [
    "# A Python program to print elements with count more than n/k\n",
    "\n",
    "def moreThanNdK(arr, n, k):\n",
    "    if k < 2:\n",
    "       return\n",
    "\n",
    "    temp = {}\n",
    "\n",
    "\n",
    "    % Step 1: Create a temporary array (contains element\n",
    "    %   and count) of size k-1. Initialize count of all\n",
    "    %   elements as 0 */\n",
    "\n",
    "    # Step 2: Process all elements of input array \n",
    "    for i in range(n):\n",
    "        # If arr[i] is already present in\n",
    "        #  the element count array, then increment its count\n",
    "        if arr[i] in temp:\n",
    "            temp[arr[i]] += 1\n",
    "        else:\n",
    "            % If there is position available in temp[], then place \n",
    "            %  arr[i] in the first available position and set count as 1\n",
    "            if len(temp) < k:\n",
    "                temp[arr[i]] = 1\n",
    "                \n",
    "            % If all the position in the temp[] are filled, then \n",
    "            %   decrease count of every element by 1\n",
    "            else:\n",
    "                for l in temp:\n",
    "                    temp[l] -= 1\n",
    "\n",
    "    # Step 3: Check actual counts of potential candidates in temp[]\n",
    "    for x in temp:\n",
    "        ac = arr.count(x)\n",
    "        \n",
    "        # If actual count is more than n/k, then print it\n",
    "        if (ac > n // k)\n",
    "           print(\"Number:\", i, \" Count:\", temp[i])\n",
    "\n",
    "            \n",
    "/* Driver program to test above function */\n",
    "def main():\n",
    "    print(\"\\nFirst Test\\n\")\n",
    "    arr1 = [4, 5, 6, 7, 8, 4, 4]\n",
    "    size = len(arr1)\n",
    "    k = 3\n",
    "    moreThanNdK(arr1, size, k)\n",
    "\n",
    "    print(\"\\nSecond Test\\n\")\n",
    "    arr2 = [4, 2, 2, 7]\n",
    "    size = len(arr2)\n",
    "    k = 3\n",
    "    moreThanNdK(arr2, size, k)\n",
    "\n",
    "    print(\"\\nThird Test\\n\")\n",
    "    arr3 = [2, 7, 2]\n",
    "    size = len(arr3)\n",
    "    k = 2\n",
    "    moreThanNdK(arr3, size, k)\n",
    "\n",
    "    print(\"\\nFourth Test\\n\")\n",
    "    arr4 = [2, 3, 3, 2]\n",
    "    size = len(arr4)\n",
    "    k = 3\n",
    "    moreThanNdK(arr4, size, k)\n",
    "\n",
    "main()"
   ]
  },
  {
   "cell_type": "code",
   "execution_count": null,
   "metadata": {},
   "outputs": [],
   "source": []
  },
  {
   "cell_type": "code",
   "execution_count": 41,
   "metadata": {},
   "outputs": [
    {
     "name": "stdout",
     "output_type": "stream",
     "text": [
      "   35    22    46    40    39    33    43    11    19    18 \n",
      "   38    43    11    13    46     5    10     4    31     3 \n",
      "    8    48    11    15    49    19     2    35    23    30 \n",
      "   29    13    47     9     9    22     5    27    25    11 \n",
      "   27    26    31    12    46    36    44    14    35    19 \n",
      "\n",
      "    1     0     0     0     1     1     1     1     1     0 \n",
      "    0     1     1     1     0     1     0     0     1     1 \n",
      "    0     0     1     1     1     1     0     1     1     0 \n",
      "    1     1     1     1     1     0     1     1     1     1 \n",
      "    1     0     1     0     0     0     0     0     1     1 \n",
      "\n",
      "   48    46    46    46    44    40    38    36    30    26 \n",
      "   22    22    18    14    12    10     8     4     2 \n",
      "\n",
      "    3     5     5     9     9    11    11    11    11    13 \n",
      "   13    15    19    19    19    23    25    27    27    29 \n",
      "   31    31    33    35    35    35    39    43    43    47 \n",
      "   49 \n",
      "\n",
      "   49     2     4     8    47    43    43    39    35    10 \n",
      "   12    35    35    33    14    31    18    22    31    29 \n",
      "   22    26    27    27    25    23    30    19    19    36 \n",
      "   19    15    13    13    11    38    11    11    11     9 \n",
      "    9    40     5    44    46    46    46    48     5     3 \n"
     ]
    }
   ],
   "source": [
    "%reset -f\n",
    "\n",
    "from random import choices\n",
    "\n",
    "def pprint_1(arr):\n",
    "    cnt = 0\n",
    "    for x in arr:\n",
    "        print(f'{x:5}', end='')\n",
    "        cnt = (cnt + 1) % 10\n",
    "        if cnt == 0:\n",
    "            print()\n",
    "    print()\n",
    "\n",
    "\n",
    "def pprint_2(lst):\n",
    "    my_lst = [f'{x: 5}' for x in lst]\n",
    "    print(\"\\n\".join([\"\".join(my_lst[i:i+10]) for i in range(0,len(lst),10)]))\n",
    "\n",
    "\n",
    "def pprint(lst):\n",
    "    for i, x in enumerate(lst):\n",
    "        print(f'{x:5}', end=' ') \n",
    "        if i % 10 == 9: \n",
    "            print()\n",
    "    if i % 10 != 9:\n",
    "        print()\n",
    "\n",
    "n = 50\n",
    "arr = choices(range(1, n+1), k=n)\n",
    "pprint(arr)\n",
    "\n",
    "é_ímpar = [x % 2 for x in arr]\n",
    "print()\n",
    "pprint(é_ímpar)\n",
    "é_ímpar.reverse()\n",
    "\n",
    "\n",
    "pares = sorted([x for x in arr if x % 2 == 0], reverse= True)\n",
    "print()\n",
    "pprint(pares)\n",
    "\n",
    "ímpares = sorted([x for x in arr if x % 2 == 1])\n",
    "print()\n",
    "pprint(ímpares)\n",
    "\n",
    "resp = [(ímpares.pop() if é_ímpar.pop() else pares.pop()) for _ in range(n)]\n",
    "\n",
    "print()\n",
    "pprint(resp)"
   ]
  },
  {
   "cell_type": "code",
   "execution_count": 1,
   "metadata": {},
   "outputs": [
    {
     "name": "stdout",
     "output_type": "stream",
     "text": [
      "nayuki 3.92588878499987\n",
      "wiki_r 2.028564789000029\n",
      "wiki_i 2.5125055899998188\n",
      "aula14 1.3458852210001169\n",
      "isqrt  0.7083765320001021\n",
      "web    0.8954564069999833\n"
     ]
    },
    {
     "ename": "NameError",
     "evalue": "name 'lweb' is not defined",
     "output_type": "error",
     "traceback": [
      "\u001b[0;31m---------------------------------------------------------------------------\u001b[0m",
      "\u001b[0;31mNameError\u001b[0m                                 Traceback (most recent call last)",
      "\u001b[0;32m<ipython-input-1-834829320096>\u001b[0m in \u001b[0;36m<module>\u001b[0;34m()\u001b[0m\n\u001b[1;32m    108\u001b[0m \u001b[0mlwebb\u001b[0m \u001b[0;34m=\u001b[0m \u001b[0;34m[\u001b[0m\u001b[0;34m]\u001b[0m\u001b[0;34m\u001b[0m\u001b[0m\n\u001b[1;32m    109\u001b[0m \u001b[0;32mfor\u001b[0m \u001b[0mn\u001b[0m \u001b[0;32min\u001b[0m \u001b[0mrange\u001b[0m\u001b[0;34m(\u001b[0m\u001b[0;36m1000000\u001b[0m\u001b[0;34m)\u001b[0m\u001b[0;34m:\u001b[0m\u001b[0;34m\u001b[0m\u001b[0m\n\u001b[0;32m--> 110\u001b[0;31m     \u001b[0mlweb\u001b[0m\u001b[0;34m.\u001b[0m\u001b[0mappend\u001b[0m\u001b[0;34m(\u001b[0m\u001b[0mweb\u001b[0m\u001b[0;34m(\u001b[0m\u001b[0mn\u001b[0m\u001b[0;34m)\u001b[0m\u001b[0;34m)\u001b[0m\u001b[0;34m\u001b[0m\u001b[0m\n\u001b[0m\u001b[1;32m    111\u001b[0m \u001b[0;34m\u001b[0m\u001b[0m\n\u001b[1;32m    112\u001b[0m \u001b[0;34m\u001b[0m\u001b[0m\n",
      "\u001b[0;31mNameError\u001b[0m: name 'lweb' is not defined"
     ]
    }
   ],
   "source": [
    "%reset -f\n",
    "import timeit\n",
    "\n",
    "# Given integer x, this returns the integer floor(sqrt(x)).\n",
    "def nayuki(x):\n",
    "    assert x >= 0\n",
    "    \n",
    "    i = 1\n",
    "    while i * i <= x:\n",
    "        i *= 2\n",
    "    y = 0\n",
    "    while i > 0:\n",
    "        if (y + i)**2 <= x:\n",
    "            y += i\n",
    "        i //= 2\n",
    "    return y\n",
    "\n",
    "def wiki_r(n):\n",
    "    assert n >= 0\n",
    "\n",
    "    if n < 2:\n",
    "        return n\n",
    "    else:\n",
    "        # Recursive call:\n",
    "        smallCandidate = wiki_r(n >> 2) << 1\n",
    "        largeCandidate = smallCandidate + 1\n",
    "        if largeCandidate * largeCandidate > n:\n",
    "            return smallCandidate\n",
    "        else:\n",
    "            return largeCandidate\n",
    "        \n",
    "def wiki_i(n):\n",
    "    assert n >= 0\n",
    "    # Find greatest shift.\n",
    "    shift = 2\n",
    "    nShifted = n >> shift\n",
    "    # We check for nShifted being n, since some implementations of logical right shifting shift modulo the word size.\n",
    "    while nShifted != 0 and nShifted != n:\n",
    "        shift = shift + 2\n",
    "        nShifted = n >> shift\n",
    "    shift = shift - 2\n",
    "    \n",
    "    # Find digits of result.\n",
    "    result = 0\n",
    "    while shift >= 0:\n",
    "        result = result << 1\n",
    "        candidateResult = result + 1\n",
    "        if candidateResult*candidateResult <= n >> shift:\n",
    "            result = candidateResult\n",
    "        shift = shift - 2   \n",
    "    return result\n",
    "\n",
    "def aula14(n):\n",
    "    x = n\n",
    "    y = 1\n",
    "    while x > y:\n",
    "        x = (x + y) // 2\n",
    "        y = n // x\n",
    "    return x\n",
    "\n",
    "def web(x):\n",
    "    if x == 0:\n",
    "        return 0\n",
    "    else:\n",
    "        z = x // 4\n",
    "        r2 = 2 * isqrt(z)\n",
    "        r3 = r2 + 1\n",
    "        if x < r3 * r3:\n",
    "            return r2\n",
    "        else:\n",
    "            return r3\n",
    "\n",
    "def isqrt(n):\n",
    "    return int(round(n ** 0.5, 3))\n",
    "\n",
    "print('nayuki', timeit.timeit(\"for n in range(1000000): nayuki(n)\", number=1, \n",
    "                            setup=\"from __main__ import nayuki\"))\n",
    "lnayuki = []\n",
    "for n in range(1000000): \n",
    "    lnayuki.append(nayuki(n))\n",
    "\n",
    "print('wiki_r', timeit.timeit(\"for n in range(1000000): wiki_r(n)\", number=1, \n",
    "                              setup=\"from __main__ import wiki_r\"))\n",
    "lwiki_r = []\n",
    "for n in range(1000000): \n",
    "    lwiki_r.append(wiki_r(n))\n",
    "\n",
    "print('wiki_i', timeit.timeit(\"for n in range(1000000): wiki_i(n)\", number=1, \n",
    "                            setup=\"from __main__ import wiki_i\"))\n",
    "lwiki_i = []\n",
    "for n in range(1000000): \n",
    "    lwiki_i.append(wiki_i(n))\n",
    "\n",
    "print('aula14', timeit.timeit(\"for n in range(1000000): aula14(n)\", number=1, \n",
    "                            setup=\"from __main__ import aula14\"))\n",
    "laula14 = []\n",
    "for n in range(1000000): \n",
    "    laula14.append(aula14(n))\n",
    "\n",
    "print('isqrt ', timeit.timeit(\"for n in range(1000000): isqrt(n)\", number=1, \n",
    "                            setup=\"from __main__ import isqrt\"))\n",
    "lisqrt = []\n",
    "for n in range(1000000): \n",
    "    lisqrt.append(isqrt(n))\n",
    "\n",
    "print('web   ', timeit.timeit(\"for n in range(1000000): web(n)\", number=1, \n",
    "                            setup=\"from __main__ import web\"))\n",
    "lwebb = []\n",
    "for n in range(1000000): \n",
    "    lweb.append(web(n))\n",
    "\n",
    "\n",
    "print(lnayuki == lwiki_r, lwiki_r == lwiki_i, lwiki_i == laula14, \n",
    "      laula14 == lisqrt, lisqrt == lweb, lweb == lnayuki)"
   ]
  },
  {
   "cell_type": "code",
   "execution_count": null,
   "metadata": {},
   "outputs": [],
   "source": []
  }
 ],
 "metadata": {
  "kernelspec": {
   "display_name": "Python 3",
   "language": "python",
   "name": "python3"
  },
  "language_info": {
   "codemirror_mode": {
    "name": "ipython",
    "version": 3
   },
   "file_extension": ".py",
   "mimetype": "text/x-python",
   "name": "python",
   "nbconvert_exporter": "python",
   "pygments_lexer": "ipython3",
   "version": "3.6.5"
  }
 },
 "nbformat": 4,
 "nbformat_minor": 2
}
