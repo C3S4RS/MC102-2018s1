{
 "cells": [
  {
   "cell_type": "code",
   "execution_count": 1,
   "metadata": {
    "ExecuteTime": {
     "end_time": "2018-04-21T20:04:18.581002Z",
     "start_time": "2018-04-21T20:04:18.575955Z"
    },
    "init_cell": true
   },
   "outputs": [],
   "source": [
    "from IPython.core.interactiveshell import InteractiveShell\n",
    "InteractiveShell.ast_node_interactivity = \"all\""
   ]
  },
  {
   "cell_type": "markdown",
   "metadata": {},
   "source": [
    "# Funções"
   ]
  },
  {
   "cell_type": "markdown",
   "metadata": {},
   "source": [
    "Uma **_função_** é uma estrutura capaz de agrupar e dar nome a uma sequência de comandos que são executados quando ela é chamada.\n",
    "\n",
    "Funções nos permitem implementar dois conceitos fundamentais para a resolução de problemas complexos:\n",
    "\n",
    "-   **_Modularização_**, isto é, a decomposição de uma solução complexa em partes mais simples e, portanto, mais fáceis de serem concebidas, implementadas, depuradas e mantidas.\n",
    "-   **_Abstração_**, isto é, a possibilidade de tratarmos uma sequência lógica de comandos como uma “caixa-preta” à qual a gente se refere pelo nome. Assim, podemos nos concentrar *no que ela faz* sem nos preocuparmos com *como ela faz*. "
   ]
  },
  {
   "cell_type": "markdown",
   "metadata": {},
   "source": [
    "Em Python, uma função tem a seguinte estrutura básica:\n",
    "```python\n",
    "def nome_da_função(lista_de_parâmetros):\n",
    "    comando_1\n",
    "    comando_2\n",
    "    ...\n",
    "    comando_n\n",
    "    return resultado_da_função\n",
    "```\n",
    "Quando chamada, uma função avalia sua *lista_de_parâmetros*, executa os comandos que a compõem e termina retornando seu resultado ao ponto de onde foi chamada.\n",
    "\n",
    "Como veremos nos exemplos a seguir, a *lista_de_parâmetros*, o *resultado_da_função* e o próprio comando **_return_** são elementos opcionais."
   ]
  },
  {
   "cell_type": "markdown",
   "metadata": {},
   "source": [
    "## Exemplo: Uma função para calcular o dobro de um número\n",
    "\n",
    "Já exercitamos bastante a chamada de funções disponíveis no sistema e a passagem de argumentos para elas. Vamos ver como fazer isso com funções de nossa autoria.\n",
    "\n",
    "Uma função para calcular o dobro de um número $x$ poderia ser definida como..."
   ]
  },
  {
   "cell_type": "code",
   "execution_count": 3,
   "metadata": {},
   "outputs": [],
   "source": [
    "def dobro(x):\n",
    "    dois_x = x + x\n",
    "    return dois_x"
   ]
  },
  {
   "cell_type": "markdown",
   "metadata": {},
   "source": [
    "e poderia ser chamada assim..."
   ]
  },
  {
   "cell_type": "code",
   "execution_count": 4,
   "metadata": {},
   "outputs": [
    {
     "name": "stdout",
     "output_type": "stream",
     "text": [
      "7.0\n"
     ]
    }
   ],
   "source": [
    "d = dobro(3) + dobro(0.5)\n",
    "print(d)"
   ]
  },
  {
   "cell_type": "markdown",
   "metadata": {},
   "source": [
    "Na definição de `dobro`, a variável `dois_x` é desnecessária. Poderíamos ter escrito simplesmente..."
   ]
  },
  {
   "cell_type": "code",
   "execution_count": null,
   "metadata": {},
   "outputs": [],
   "source": [
    "def dobro(x):\n",
    "    return x + x"
   ]
  },
  {
   "cell_type": "code",
   "execution_count": null,
   "metadata": {},
   "outputs": [],
   "source": [
    "d = dobro(3) + dobro(0.5)\n",
    "print(d)"
   ]
  },
  {
   "cell_type": "markdown",
   "metadata": {},
   "source": [
    "**CUIDADO**  \n",
    "\n",
    "> Note que, ao contrário de muitas outras linguagens de alto nível, Python não controla os tipos dos parâmetros e resultados de uma função.\n",
    ">  \n",
    "> Essa característica de Python faz com que, embora nossa função se chame _dobro_ e tenha sido desenhada para _dobrar um valor numérico_, ela não vai reclamar e vai processar “corretamente” um argumento de qualquer tipo onde o operador **+** esteja definido. "
   ]
  },
  {
   "cell_type": "code",
   "execution_count": 6,
   "metadata": {},
   "outputs": [
    {
     "name": "stdout",
     "output_type": "stream",
     "text": [
      "abcabc\n"
     ]
    }
   ],
   "source": [
    "s = dobro('abc')\n",
    "print(s)"
   ]
  },
  {
   "cell_type": "code",
   "execution_count": 7,
   "metadata": {},
   "outputs": [
    {
     "name": "stdout",
     "output_type": "stream",
     "text": [
      "[1, 'a', 2.3, 1, 'a', 2.3]\n"
     ]
    }
   ],
   "source": [
    "l = dobro([1, 'a', 2.3])\n",
    "print(l)"
   ]
  },
  {
   "cell_type": "markdown",
   "metadata": {},
   "source": [
    "## Uma função pode chamar outras funções"
   ]
  },
  {
   "cell_type": "markdown",
   "metadata": {},
   "source": [
    "### Exemplo: Calcular a soma dos quadrados de três parâmetros numéricos"
   ]
  },
  {
   "cell_type": "code",
   "execution_count": 8,
   "metadata": {},
   "outputs": [
    {
     "name": "stdout",
     "output_type": "stream",
     "text": [
      "50\n"
     ]
    }
   ],
   "source": [
    "%reset -f\n",
    "\n",
    "def quadrado(x):\n",
    "    return x * x\n",
    "\n",
    "def soma_quadrados(a, b, c):\n",
    "    return quadrado(a) + quadrado(b) + quadrado(c)\n",
    "\n",
    "print(soma_quadrados(3, 4, 5))"
   ]
  },
  {
   "cell_type": "markdown",
   "metadata": {},
   "source": [
    "## Uma função pode não ter uma *lista_de_parâmetros*"
   ]
  },
  {
   "cell_type": "markdown",
   "metadata": {},
   "source": [
    "### Exemplo: Ler e validar uma entrada numérica\n",
    "Queremos ler repetidamente a entrada até receber um inteiro não negativo e retornar esse número.  \n",
    "Uma função com essa finalidade poderia ser definida como..."
   ]
  },
  {
   "cell_type": "code",
   "execution_count": null,
   "metadata": {},
   "outputs": [],
   "source": [
    "def ler_int_não_neg():\n",
    "    x = None\n",
    "    while x is None:\n",
    "        s = input('Digite um inteiro não-negativo: ')\n",
    "        if s.isnumeric():\n",
    "            x = int(s)\n",
    "    return x"
   ]
  },
  {
   "cell_type": "code",
   "execution_count": null,
   "metadata": {},
   "outputs": [],
   "source": [
    "print(ler_int_não_neg())"
   ]
  },
  {
   "cell_type": "markdown",
   "metadata": {},
   "source": [
    "Note que, mesmo quando uma função não tem uma *lista_de_parâmetros*, o par de parênteses é necessário tanto na definição quanto na chamada."
   ]
  },
  {
   "cell_type": "markdown",
   "metadata": {},
   "source": [
    "#### **Curiosidade:** Essa função aceita inteiros. Seria possível aceitar um número qualquer?\n",
    "Nesse caso, o método _isnumeric_ não seria adequado porque ele rejeitaria um possível sinal à frente do número, bem como um possível ponto decimal.  \n",
    "Uma saída seria usar o par _try... except_, que estudaremos em detalhe mais tarde. O comando *try* permite *experimentar a execução de um ou mais comandos* e, se ocorrer uma exceção, *capturá-la* e dar um tratamento específico. Por exemplo, ..."
   ]
  },
  {
   "cell_type": "code",
   "execution_count": 15,
   "metadata": {},
   "outputs": [],
   "source": [
    "%reset -f\n",
    "\n",
    "def ler_num():\n",
    "    while True:\n",
    "        s = input('Digite um número qualquer: ')\n",
    "        try:\n",
    "            x = float(s)\n",
    "            break\n",
    "        except:\n",
    "            pass\n",
    "    return x"
   ]
  },
  {
   "cell_type": "code",
   "execution_count": 16,
   "metadata": {},
   "outputs": [
    {
     "name": "stdout",
     "output_type": "stream",
     "text": [
      "-12.0\n"
     ]
    }
   ],
   "source": [
    "print(ler_num())"
   ]
  },
  {
   "cell_type": "markdown",
   "metadata": {},
   "source": [
    "#### **Curiosidade:** Essa função sempre retorna um _float_. Seria possível retornar um tipo mais preciso?\n",
    "É possível resolver esse problema _aninhando_ pares _try... except_ e tentar reconhecer a entrada indo do tipo mais restrito para o mais abrangente. Neste caso, primeiro vamos tentar reconhecer a entrada como um _int_ e depois, se não funcionar, como um _float_."
   ]
  },
  {
   "cell_type": "code",
   "execution_count": 17,
   "metadata": {},
   "outputs": [],
   "source": [
    "%reset -f\n",
    "\n",
    "def ler_num():\n",
    "    while True:\n",
    "        s = input('Digite um número qualquer: ')\n",
    "        try:\n",
    "            x = int(s)\n",
    "            break\n",
    "        except:\n",
    "            try:\n",
    "                x = float(s)\n",
    "                break\n",
    "            except:\n",
    "                pass\n",
    "    return x"
   ]
  },
  {
   "cell_type": "code",
   "execution_count": 21,
   "metadata": {},
   "outputs": [
    {
     "name": "stdout",
     "output_type": "stream",
     "text": [
      "<class 'int'> -12\n"
     ]
    }
   ],
   "source": [
    "x = ler_num()\n",
    "print(type(x), x)"
   ]
  },
  {
   "cell_type": "code",
   "execution_count": 21,
   "metadata": {},
   "outputs": [
    {
     "name": "stdout",
     "output_type": "stream",
     "text": [
      "<class 'int'> -12\n"
     ]
    }
   ],
   "source": [
    "y = ler_num()\n",
    "print(type(y), y)"
   ]
  },
  {
   "cell_type": "markdown",
   "metadata": {},
   "source": [
    "## Uma função pode produzir um efeito sem retornar qualquer resultado"
   ]
  },
  {
   "cell_type": "markdown",
   "metadata": {},
   "source": [
    "### Exemplo: Exibir um cabeçalho\n",
    "Quando uma função apenas realiza uma tarefa sem retornar um resultado específico pode-se dispensar o comando **return**. Por exemplo, ..."
   ]
  },
  {
   "cell_type": "code",
   "execution_count": 23,
   "metadata": {},
   "outputs": [
    {
     "name": "stdout",
     "output_type": "stream",
     "text": [
      "....A.Revolução.dos.Bichos....\n",
      "........George.Orwell.........\n"
     ]
    }
   ],
   "source": [
    "%reset -f\n",
    "\n",
    "def exibir_cabeçalho():\n",
    "    título = 'A Revolução dos Bichos'.center(30)\n",
    "    autor = 'George Orwell'.center(30)\n",
    "    # espaços subbstituídos por pontos só para “enxergar” o resultado\n",
    "    print(título.replace(' ', '.'))\n",
    "    print(autor.replace(' ', '.'))\n",
    "\n",
    "exibir_cabeçalho()"
   ]
  },
  {
   "cell_type": "markdown",
   "metadata": {},
   "source": [
    "## Variáveis locais\n",
    "No exemplo anterior, definimos uma variável `s` e a associamos ao texto digitado pelo usuário.  \n",
    "Uma variável definida dentro de uma função, como `s` nesse exemplo, é dita *local*. Ela existe apenas durante a execução da chamada e não é visível fora da função."
   ]
  },
  {
   "cell_type": "markdown",
   "metadata": {},
   "source": [
    "**_O que aconteceria se o programa também tivesse uma variável `s`? _**  \n",
    "A variável local “ocultaria” a variável externa durante a execução da chamada, como mostra o exemplo abaixo, onde o programa chama a função `f` que chama a função `g` e todos definem uma variável `s`."
   ]
  },
  {
   "cell_type": "code",
   "execution_count": 26,
   "metadata": {},
   "outputs": [
    {
     "name": "stdout",
     "output_type": "stream",
     "text": [
      "g(): sou s e fui definida na função g\n",
      "f(): sou s e fui definida na função f\n",
      "pp:  sou s e fui definida no programa principal\n"
     ]
    }
   ],
   "source": [
    "%reset -f\n",
    "\n",
    "def g():\n",
    "    s = 'sou s e fui definida na função g'\n",
    "    print('g():', s)\n",
    "    \n",
    "def f():\n",
    "    s = 'sou s e fui definida na função f'\n",
    "    g()\n",
    "    print('f():', s)\n",
    "    \n",
    "s = 'sou s e fui definida no programa principal'\n",
    "f()\n",
    "print('pp: ', s)"
   ]
  },
  {
   "cell_type": "markdown",
   "metadata": {},
   "source": [
    "Você consegue dizer em que sequência os comandos do script acima foram executados?\n",
    "-   1, 3, 7, 12, 13, 8, 9, 4, 5, 10, 14"
   ]
  },
  {
   "cell_type": "markdown",
   "metadata": {},
   "source": [
    "O corpo de uma função só é executado como resposta a uma chamada. Nesse exemplo, cada nova definição do nome `s` oculta a definição anterior.\n",
    "\n",
    "**_O que acontece se o corpo de uma função se referir a uma variável que não está definida localmente?_**   \n",
    "Se a variável estiver definida no espaço que “contém” a função, essa definição será usada. Caso contrário, será gerada uma exceção."
   ]
  },
  {
   "cell_type": "markdown",
   "metadata": {},
   "source": [
    "Por exemplo, vamos “comentar” a linha 2 e, com isso, remover a definição de `s` na função `g`."
   ]
  },
  {
   "cell_type": "code",
   "execution_count": 28,
   "metadata": {},
   "outputs": [
    {
     "name": "stdout",
     "output_type": "stream",
     "text": [
      "g(): sou s e fui definida no programa principal\n",
      "f(): sou s e fui definida na função f\n",
      "pp:  sou s e fui definida no programa principal\n"
     ]
    }
   ],
   "source": [
    "%reset -f\n",
    "\n",
    "def g():\n",
    "    # s = 'sou s e fui definida na função g'\n",
    "    print('g():', s)\n",
    "    \n",
    "def f():\n",
    "    s = 'sou s e fui definida na função f'\n",
    "    g()\n",
    "    print('f():', s)\n",
    "    \n",
    "s = 'sou s e fui definida no programa principal'\n",
    "f()\n",
    "print('pp: ', s)"
   ]
  },
  {
   "cell_type": "markdown",
   "metadata": {},
   "source": [
    "Como `s` não está definida em `g`, foi usada a definição existente no espaço onde está contida a definição de `g`, ou seja, o programa principal.  \n",
    "Note que, se comentarmos também a linha 12, o programa passará a gerar uma exceção, uma vez que a definição de `s` dentro de `f` não é vista por `g` (porque `f` não “contém” `g`)."
   ]
  },
  {
   "cell_type": "code",
   "execution_count": 29,
   "metadata": {},
   "outputs": [
    {
     "ename": "NameError",
     "evalue": "name 's' is not defined",
     "output_type": "error",
     "traceback": [
      "\u001b[0;31m---------------------------------------------------------------------------\u001b[0m",
      "\u001b[0;31mNameError\u001b[0m                                 Traceback (most recent call last)",
      "\u001b[0;32m<ipython-input-29-c02e24c1fba6>\u001b[0m in \u001b[0;36m<module>\u001b[0;34m()\u001b[0m\n\u001b[1;32m     11\u001b[0m \u001b[0;34m\u001b[0m\u001b[0m\n\u001b[1;32m     12\u001b[0m \u001b[0;31m# s = 'sou s e fui definida no programa principal'\u001b[0m\u001b[0;34m\u001b[0m\u001b[0;34m\u001b[0m\u001b[0m\n\u001b[0;32m---> 13\u001b[0;31m \u001b[0mf\u001b[0m\u001b[0;34m(\u001b[0m\u001b[0;34m)\u001b[0m\u001b[0;34m\u001b[0m\u001b[0m\n\u001b[0m\u001b[1;32m     14\u001b[0m \u001b[0mprint\u001b[0m\u001b[0;34m(\u001b[0m\u001b[0;34m'pp: '\u001b[0m\u001b[0;34m,\u001b[0m \u001b[0ms\u001b[0m\u001b[0;34m)\u001b[0m\u001b[0;34m\u001b[0m\u001b[0m\n",
      "\u001b[0;32m<ipython-input-29-c02e24c1fba6>\u001b[0m in \u001b[0;36mf\u001b[0;34m()\u001b[0m\n\u001b[1;32m      7\u001b[0m \u001b[0;32mdef\u001b[0m \u001b[0mf\u001b[0m\u001b[0;34m(\u001b[0m\u001b[0;34m)\u001b[0m\u001b[0;34m:\u001b[0m\u001b[0;34m\u001b[0m\u001b[0m\n\u001b[1;32m      8\u001b[0m     \u001b[0ms\u001b[0m \u001b[0;34m=\u001b[0m \u001b[0;34m'sou s e fui definida na função f'\u001b[0m\u001b[0;34m\u001b[0m\u001b[0m\n\u001b[0;32m----> 9\u001b[0;31m     \u001b[0mg\u001b[0m\u001b[0;34m(\u001b[0m\u001b[0;34m)\u001b[0m\u001b[0;34m\u001b[0m\u001b[0m\n\u001b[0m\u001b[1;32m     10\u001b[0m     \u001b[0mprint\u001b[0m\u001b[0;34m(\u001b[0m\u001b[0;34m'f():'\u001b[0m\u001b[0;34m,\u001b[0m \u001b[0ms\u001b[0m\u001b[0;34m)\u001b[0m\u001b[0;34m\u001b[0m\u001b[0m\n\u001b[1;32m     11\u001b[0m \u001b[0;34m\u001b[0m\u001b[0m\n",
      "\u001b[0;32m<ipython-input-29-c02e24c1fba6>\u001b[0m in \u001b[0;36mg\u001b[0;34m()\u001b[0m\n\u001b[1;32m      3\u001b[0m \u001b[0;32mdef\u001b[0m \u001b[0mg\u001b[0m\u001b[0;34m(\u001b[0m\u001b[0;34m)\u001b[0m\u001b[0;34m:\u001b[0m\u001b[0;34m\u001b[0m\u001b[0m\n\u001b[1;32m      4\u001b[0m     \u001b[0;31m# s = 'sou s e fui definida na função g'\u001b[0m\u001b[0;34m\u001b[0m\u001b[0;34m\u001b[0m\u001b[0m\n\u001b[0;32m----> 5\u001b[0;31m     \u001b[0mprint\u001b[0m\u001b[0;34m(\u001b[0m\u001b[0;34m'g():'\u001b[0m\u001b[0;34m,\u001b[0m \u001b[0ms\u001b[0m\u001b[0;34m)\u001b[0m\u001b[0;34m\u001b[0m\u001b[0m\n\u001b[0m\u001b[1;32m      6\u001b[0m \u001b[0;34m\u001b[0m\u001b[0m\n\u001b[1;32m      7\u001b[0m \u001b[0;32mdef\u001b[0m \u001b[0mf\u001b[0m\u001b[0;34m(\u001b[0m\u001b[0;34m)\u001b[0m\u001b[0;34m:\u001b[0m\u001b[0;34m\u001b[0m\u001b[0m\n",
      "\u001b[0;31mNameError\u001b[0m: name 's' is not defined"
     ]
    }
   ],
   "source": [
    "%reset -f\n",
    "\n",
    "def g():\n",
    "    # s = 'sou s e fui definida na função g'\n",
    "    print('g():', s)\n",
    "    \n",
    "def f():\n",
    "    s = 'sou s e fui definida na função f'\n",
    "    g()\n",
    "    print('f():', s)\n",
    "    \n",
    "# s = 'sou s e fui definida no programa principal'\n",
    "f()\n",
    "print('pp: ', s)"
   ]
  },
  {
   "cell_type": "markdown",
   "metadata": {},
   "source": [
    "## Sobre parâmetros, argumentos e variáveis em geral\n",
    "Sabemos que, em Python, variáveis são *nomes* associados a objetos.  \n",
    "Quando uma função é ativada, os parâmetros são associados aos mesmos objetos aos quais os argumentos correspondentes estão associados, como se fosse executada uma sequência de comandos `par1 = arg1; par2 = arg2;... parn = argn`.  \n",
    "Estabelece-se assim a situação de *aliasing* que já estudamos.\n",
    "\n",
    "O que acontece então quando, dentro de uma função, é realizada uma atribuição a um parâmetro? Por exemplo, ..."
   ]
  },
  {
   "cell_type": "code",
   "execution_count": 53,
   "metadata": {},
   "outputs": [],
   "source": [
    "%reset -f\n",
    "\n",
    "def quadrado(x):\n",
    "    x = x * x\n",
    "    return x"
   ]
  },
  {
   "cell_type": "markdown",
   "metadata": {},
   "source": [
    "O que você acha que será exibido por..."
   ]
  },
  {
   "cell_type": "code",
   "execution_count": 54,
   "metadata": {},
   "outputs": [
    {
     "name": "stdout",
     "output_type": "stream",
     "text": [
      "10 100\n"
     ]
    }
   ],
   "source": [
    "a = 10\n",
    "q = quadrado(a)\n",
    "print(a, q)"
   ]
  },
  {
   "cell_type": "markdown",
   "metadata": {},
   "source": [
    "**_Por que será que o resultado não foi_ 100 100?**  \n",
    "Para entender o que aconteceu, vamos exibir $\\textrm{id}(a)$ antes e depois da chamada de $\\textrm{q}$ e $\\textrm{id}(x)$  antes e depois da atribuição a $x$ no corpo de $\\textrm{q}$..."
   ]
  },
  {
   "cell_type": "code",
   "execution_count": 20,
   "metadata": {
    "ExecuteTime": {
     "end_time": "2018-04-21T18:31:08.060194Z",
     "start_time": "2018-04-21T18:31:08.017493Z"
    }
   },
   "outputs": [],
   "source": [
    "%reset -f\n",
    "\n",
    "def q(x):\n",
    "    print('antes da atribuição a x:    id(x) = ', id(x))\n",
    "    x = x * x\n",
    "    print('depois da atribuição a x:   id(x) = ', id(x))\n",
    "    return x"
   ]
  },
  {
   "cell_type": "code",
   "execution_count": 21,
   "metadata": {
    "ExecuteTime": {
     "end_time": "2018-04-21T18:31:08.898983Z",
     "start_time": "2018-04-21T18:31:08.892365Z"
    }
   },
   "outputs": [
    {
     "name": "stdout",
     "output_type": "stream",
     "text": [
      "antes da chamada de q:      id(a) =  4312991344\n",
      "antes da atribuição a x:    id(x) =  4312991344\n",
      "depois da atribuição a x:   id(x) =  4312994224\n",
      "depois da chamada de q:     id(a) =  4312991344\n",
      "10 100\n"
     ]
    }
   ],
   "source": [
    "a = 10\n",
    "print('antes da chamada de q:      id(a) = ', id(a))\n",
    "qdr = q(a)\n",
    "print('depois da chamada de q:     id(a) = ', id(a))\n",
    "print(a, qdr)"
   ]
  },
  {
   "cell_type": "markdown",
   "metadata": {},
   "source": [
    "Note que, no início da execução de $\\mathrm{q}$, $a$ e $x$ estavam associadas ao mesmo objeto \n",
    "(portanto, tinham o mesmo $\\mathrm{id}$).  \n",
    "A atribuição a $x$ dentro da função faz com que ela fique associada a um novo objeto \n",
    "(portanto, com um novo $\\mathrm{id}$).  \n",
    "Enquanto isso, $a$ continua associada ao mesmo objeto original e, portanto, seu $\\mathrm{id}$ e valor permanecem os mesmos."
   ]
  },
  {
   "cell_type": "markdown",
   "metadata": {},
   "source": [
    "Vamos adicionar mais um parâmetro à nossa função, desta vez uma lista."
   ]
  },
  {
   "cell_type": "code",
   "execution_count": 22,
   "metadata": {
    "ExecuteTime": {
     "end_time": "2018-04-21T18:32:19.852572Z",
     "start_time": "2018-04-21T18:32:19.815569Z"
    }
   },
   "outputs": [],
   "source": [
    "%reset -f\n",
    "\n",
    "def q(x, l):\n",
    "    print('antes da atribuição a x:  id(x) = ', id(x), '  id(l) = ', id(l))\n",
    "    x = x * x\n",
    "    l.append(x)\n",
    "    print('depois da atribuição a x: id(x) = ', id(x), '  id(l) = ', id(l))\n",
    "    return x"
   ]
  },
  {
   "cell_type": "code",
   "execution_count": 24,
   "metadata": {
    "ExecuteTime": {
     "end_time": "2018-04-21T18:32:30.678942Z",
     "start_time": "2018-04-21T18:32:30.671745Z"
    }
   },
   "outputs": [
    {
     "name": "stdout",
     "output_type": "stream",
     "text": [
      "antes da chamada de q:    id(a) =  4312991344   id(b) =  4352754440\n",
      "antes da atribuição a x:  id(x) =  4312991344   id(l) =  4352754440\n",
      "depois da atribuição a x: id(x) =  4312994224   id(l) =  4352754440\n",
      "depois da chamada de q:   id(a) =  4312991344   id(b) =  4352754440\n",
      "10 [100] 100\n"
     ]
    }
   ],
   "source": [
    "a = 10\n",
    "b = []\n",
    "print('antes da chamada de q:    id(a) = ', id(a), '  id(b) = ', id(b))\n",
    "qdr = q(a, b)\n",
    "print('depois da chamada de q:   id(a) = ', id(a), '  id(b) = ', id(b))\n",
    "print(a, b, qdr)"
   ]
  },
  {
   "cell_type": "markdown",
   "metadata": {},
   "source": [
    "**_O que aconteceu agora?_**  \n",
    "Veja que, inicialmente, $x$ e $l$ são associadas aos mesmos objetos que estão associados a $a$ e $b$ (portanto, seus respectivos $\\mathrm{id}$s são os mesmos).  \n",
    "Note que, ao contrário do que ocorreu com $x$, $l$ não aparecece num comando de atribuição. O método $\\mathrm{append}$ é aplicado a ela, modificando o valor do objeto associado, mas sem criar um novo objeto (veja que o $\\mathrm{id}$ permanece o mesmo).  \n",
    "Como $b$ está associada ao mesmo objeto, ela também “vê” essa alteração."
   ]
  },
  {
   "cell_type": "markdown",
   "metadata": {},
   "source": [
    "**_O que você acha que aconteceria se nossa função fosse como esta abaixo?_**"
   ]
  },
  {
   "cell_type": "code",
   "execution_count": 25,
   "metadata": {
    "ExecuteTime": {
     "end_time": "2018-04-21T18:46:27.702326Z",
     "start_time": "2018-04-21T18:46:27.662488Z"
    }
   },
   "outputs": [],
   "source": [
    "%reset -f\n",
    "\n",
    "def q(x, l):\n",
    "    print('antes das atribuições a x e l:  id(x) = ', id(x), '  id(l) = ', id(l))\n",
    "    x = x * x\n",
    "    l = [x]\n",
    "    print('depois das atribuições a x e l: id(x) = ', id(x), '  id(l) = ', id(l))\n",
    "    return x"
   ]
  },
  {
   "cell_type": "code",
   "execution_count": 27,
   "metadata": {
    "ExecuteTime": {
     "end_time": "2018-04-21T18:46:55.515443Z",
     "start_time": "2018-04-21T18:46:55.507714Z"
    }
   },
   "outputs": [
    {
     "name": "stdout",
     "output_type": "stream",
     "text": [
      "antes da chamada de q:          id(a) =  4312991344   id(b) =  4364786632\n",
      "antes das atribuições a x e l:  id(x) =  4312991344   id(l) =  4364786632\n",
      "depois das atribuições a x e l: id(x) =  4312994224   id(l) =  4364791240\n",
      "depois da chamada de q:         id(a) =  4312991344   id(b) =  4364786632\n",
      "10 [] 100\n"
     ]
    }
   ],
   "source": [
    "a = 10\n",
    "b = []\n",
    "print('antes da chamada de q:          id(a) = ', id(a), '  id(b) = ', id(b))\n",
    "qdr = q(a, b)\n",
    "print('depois da chamada de q:         id(a) = ', id(a), '  id(b) = ', id(b))\n",
    "print(a, b, qdr)"
   ]
  },
  {
   "cell_type": "markdown",
   "metadata": {},
   "source": [
    "**_Você consegue explicar a diferença?_**  \n",
    "*Dica*: pense no que aconteceu entre $a$ e $x$..."
   ]
  },
  {
   "cell_type": "markdown",
   "metadata": {},
   "source": [
    "**_E se nossa função fosse assim 👇?_** (Note que a lista tem o mesmo nome na função e no programa principal.)"
   ]
  },
  {
   "cell_type": "code",
   "execution_count": 28,
   "metadata": {
    "ExecuteTime": {
     "end_time": "2018-04-21T18:52:01.061110Z",
     "start_time": "2018-04-21T18:52:01.020051Z"
    }
   },
   "outputs": [],
   "source": [
    "%reset -f\n",
    "\n",
    "def q(x):\n",
    "    print('antes das atribuições a x e l:  id(x) = ', id(x))\n",
    "    x = x * x\n",
    "    l = [x]\n",
    "    print('depois das atribuições a x e l: id(x) = ', id(x), '  id(l) = ', id(l))\n",
    "    return x"
   ]
  },
  {
   "cell_type": "code",
   "execution_count": 29,
   "metadata": {
    "ExecuteTime": {
     "end_time": "2018-04-21T18:52:01.641972Z",
     "start_time": "2018-04-21T18:52:01.635418Z"
    }
   },
   "outputs": [
    {
     "name": "stdout",
     "output_type": "stream",
     "text": [
      "antes da chamada de q:          id(a) =  4312991344   id(l) =  4352755336\n",
      "antes das atribuições a x e l:  id(x) =  4312991344\n",
      "depois das atribuições a x e l: id(x) =  4312994224   id(l) =  4352754440\n",
      "depois da chamada de q:         id(a) =  4312991344   id(l) =  4352755336\n",
      "10 [] 100\n"
     ]
    }
   ],
   "source": [
    "a = 10\n",
    "l = []\n",
    "print('antes da chamada de q:          id(a) = ', id(a), '  id(l) = ', id(l))\n",
    "qdr = q(a)\n",
    "print('depois da chamada de q:         id(a) = ', id(a), '  id(l) = ', id(l))\n",
    "print(a, l, qdr)"
   ]
  },
  {
   "cell_type": "markdown",
   "metadata": {},
   "source": [
    "E se nossa função fosse assim 👇? (Procure entender todas as mudanças antes de prosseguir.)"
   ]
  },
  {
   "cell_type": "code",
   "execution_count": 34,
   "metadata": {
    "ExecuteTime": {
     "end_time": "2018-04-21T18:56:33.195049Z",
     "start_time": "2018-04-21T18:56:33.151124Z"
    }
   },
   "outputs": [],
   "source": [
    "%reset -f\n",
    "\n",
    "a = 10\n",
    "l = [999]"
   ]
  },
  {
   "cell_type": "code",
   "execution_count": 35,
   "metadata": {
    "ExecuteTime": {
     "end_time": "2018-04-21T18:56:33.607393Z",
     "start_time": "2018-04-21T18:56:33.601777Z"
    }
   },
   "outputs": [],
   "source": [
    "def q(x):\n",
    "    print('antes da atribuição a x:  id(x) = ', id(x), '  id(l) = ', id(l))\n",
    "    x = x * x\n",
    "    print('depois da atribuição a x: id(x) = ', id(x), '  id(l) = ', id(l))\n",
    "    return l + [x]"
   ]
  },
  {
   "cell_type": "code",
   "execution_count": 37,
   "metadata": {
    "ExecuteTime": {
     "end_time": "2018-04-21T18:56:46.679149Z",
     "start_time": "2018-04-21T18:56:46.672230Z"
    }
   },
   "outputs": [
    {
     "name": "stdout",
     "output_type": "stream",
     "text": [
      "antes da chamada de q:    id(a) =  4312991344   id(l) =  4364797384\n",
      "antes da atribuição a x:  id(x) =  4312991344   id(l) =  4364797384\n",
      "depois da atribuição a x: id(x) =  4312994224   id(l) =  4364797384\n",
      "depois da chamada de q:   id(a) =  4312991344   id(l) =  4364797384\n",
      "10 [999] [999, 100]\n"
     ]
    }
   ],
   "source": [
    "print('antes da chamada de q:    id(a) = ', id(a), '  id(l) = ', id(l))\n",
    "qa = q(a)\n",
    "print('depois da chamada de q:   id(a) = ', id(a), '  id(l) = ', id(l))\n",
    "print(a, l, qa)"
   ]
  },
  {
   "cell_type": "markdown",
   "metadata": {},
   "source": [
    "Agora $l$ não é um parâmetro da função e nem aparece do lado esquerdo de um comando de atribuição.  \n",
    "Por isso, Python usa a variável definida no espaço em que a função foi definida.\n",
    "\n",
    "Se uma variável $l$ não estivesse definida nem nesse espaço, seria gerada uma exceção."
   ]
  },
  {
   "cell_type": "markdown",
   "metadata": {},
   "source": [
    "## Parâmetros com palavras-chaves e valores padrão"
   ]
  },
  {
   "cell_type": "markdown",
   "metadata": {},
   "source": [
    "Python liga os parâmetros de uma função aos argumentos fornecidos em uma chamada de duas maneiras diferentes:\n",
    "\n",
    "-   **_posicional_**: associa parâmetros a argumentos, um a um, da esquerda para a direira.  \n",
    "    Esta foi a maneira mais vista até agora em nosso curso.\n",
    "-   **_com palavras-chaves_**: usa o nome do parâmetro para estabelecer a ligação entre ele e um dado argumento, independentemente de suas posições nas respectivas listas. Por exemplo, consdiere a seguinte definição de função, ..."
   ]
  },
  {
   "cell_type": "code",
   "execution_count": 40,
   "metadata": {
    "ExecuteTime": {
     "end_time": "2018-04-21T19:02:36.671484Z",
     "start_time": "2018-04-21T19:02:36.622688Z"
    }
   },
   "outputs": [
    {
     "name": "stdout",
     "output_type": "stream",
     "text": [
      "Silva, José\n",
      "José Silva\n"
     ]
    }
   ],
   "source": [
    "%reset -f\n",
    "\n",
    "def exibir_nome_completo(nome, sobrenome, inverso):\n",
    "    if inverso:\n",
    "        print(sobrenome + ',', nome)\n",
    "    else:\n",
    "        print(nome, sobrenome)\n",
    "\n",
    "n = 'José'\n",
    "s = 'Silva'\n",
    "exibir_nome_completo(n, s, True)\n",
    "exibir_nome_completo(n, inverso=False, sobrenome=s)"
   ]
  },
  {
   "cell_type": "markdown",
   "metadata": {},
   "source": [
    "Quando misturamos argumentos posicionais e argumentos com palavras-chaves, estes devem aparecer no final da lista ou será gerada uma exceção."
   ]
  },
  {
   "cell_type": "code",
   "execution_count": 41,
   "metadata": {
    "ExecuteTime": {
     "end_time": "2018-04-21T19:05:30.008300Z",
     "start_time": "2018-04-21T19:05:30.003156Z"
    }
   },
   "outputs": [
    {
     "ename": "SyntaxError",
     "evalue": "positional argument follows keyword argument (<ipython-input-41-5d9ec5ee008d>, line 1)",
     "output_type": "error",
     "traceback": [
      "\u001b[0;36m  File \u001b[0;32m\"<ipython-input-41-5d9ec5ee008d>\"\u001b[0;36m, line \u001b[0;32m1\u001b[0m\n\u001b[0;31m    exibir_nome_completo(n, sobrenome=s, False)\u001b[0m\n\u001b[0m                                        ^\u001b[0m\n\u001b[0;31mSyntaxError\u001b[0m\u001b[0;31m:\u001b[0m positional argument follows keyword argument\n"
     ]
    }
   ],
   "source": [
    "exibir_nome_completo(n, sobrenome=s, False)"
   ]
  },
  {
   "cell_type": "markdown",
   "metadata": {},
   "source": [
    "É possível simplificar as chamadas de uma função, definindo valores padrão para um ou mais parâmetros, os quais, nesse caso, precisarão ser indicados por nome e aparecer no fim da lista de parâmetros na definição e nas chamadas da função."
   ]
  },
  {
   "cell_type": "code",
   "execution_count": 73,
   "metadata": {},
   "outputs": [
    {
     "name": "stdout",
     "output_type": "stream",
     "text": [
      "José Silva\n",
      "Silva, José\n",
      "Silva, José\n"
     ]
    }
   ],
   "source": [
    "%reset -f\n",
    "\n",
    "def exibir_nome_completo(nome, sobrenome, inverso=False):\n",
    "    if inverso:\n",
    "        print(sobrenome + ',', nome)\n",
    "    else:\n",
    "        print(nome, sobrenome)\n",
    "\n",
    "n = 'José'\n",
    "s = 'Silva'\n",
    "\n",
    "exibir_nome_completo(n, s)\n",
    "exibir_nome_completo(n, s, True)\n",
    "exibir_nome_completo(n, s, inverso=True)"
   ]
  },
  {
   "cell_type": "code",
   "execution_count": 74,
   "metadata": {},
   "outputs": [
    {
     "ename": "SyntaxError",
     "evalue": "positional argument follows keyword argument (<ipython-input-74-2056e33875b8>, line 1)",
     "output_type": "error",
     "traceback": [
      "\u001b[0;36m  File \u001b[0;32m\"<ipython-input-74-2056e33875b8>\"\u001b[0;36m, line \u001b[0;32m1\u001b[0m\n\u001b[0;31m    exibir_nome_completo(inverso=True, n, s)\u001b[0m\n\u001b[0m                                      ^\u001b[0m\n\u001b[0;31mSyntaxError\u001b[0m\u001b[0;31m:\u001b[0m positional argument follows keyword argument\n"
     ]
    }
   ],
   "source": [
    "exibir_nome_completo(inverso=True, n, s)"
   ]
  },
  {
   "cell_type": "code",
   "execution_count": 76,
   "metadata": {},
   "outputs": [
    {
     "name": "stdout",
     "output_type": "stream",
     "text": [
      "Rolando Escadabaixo\n"
     ]
    }
   ],
   "source": [
    "exibir_nome_completo(inverso=False, sobrenome='Escadabaixo', nome='Rolando')"
   ]
  },
  {
   "cell_type": "markdown",
   "metadata": {},
   "source": [
    "## *CUIDADO... quando pensar em usar um objeto mutável como valor padrão...*"
   ]
  },
  {
   "cell_type": "markdown",
   "metadata": {},
   "source": [
    "Antes de avançar, procure antecipar o resultado deste programa..."
   ]
  },
  {
   "cell_type": "code",
   "execution_count": 46,
   "metadata": {
    "ExecuteTime": {
     "end_time": "2018-04-21T19:30:14.256645Z",
     "start_time": "2018-04-21T19:30:14.213776Z"
    },
    "scrolled": true
   },
   "outputs": [
    {
     "name": "stdout",
     "output_type": "stream",
     "text": [
      "[1]\n",
      "[2]\n",
      "[3]\n"
     ]
    }
   ],
   "source": [
    "%reset -f\n",
    "\n",
    "def f(a, b=[]):\n",
    "    b.append(a)\n",
    "    return b\n",
    "\n",
    "\n",
    "print(f(1, []))\n",
    "print(f(2, []))\n",
    "print(f(3))"
   ]
  },
  {
   "cell_type": "markdown",
   "metadata": {},
   "source": [
    "E se agora fizermos assim?"
   ]
  },
  {
   "cell_type": "code",
   "execution_count": 48,
   "metadata": {
    "ExecuteTime": {
     "end_time": "2018-04-21T19:32:51.768595Z",
     "start_time": "2018-04-21T19:32:51.724196Z"
    }
   },
   "outputs": [
    {
     "name": "stdout",
     "output_type": "stream",
     "text": [
      "[1]\n",
      "[2]\n",
      "[2, 3]\n"
     ]
    }
   ],
   "source": [
    "%reset -f\n",
    "\n",
    "def f(a, b=[]):\n",
    "    b.append(a)\n",
    "    return b\n",
    "\n",
    "\n",
    "print(f(1, []))\n",
    "print(f(2))\n",
    "print(f(3))"
   ]
  },
  {
   "cell_type": "markdown",
   "metadata": {},
   "source": [
    "**_Por que o resultado mudou?_**\n",
    "O problema é que Python associa um parâmetro ao seu valor padrão apenas uma vez.  \n",
    "Para entendermos o que aconteceu, vamos exibir o $\\mathrm{id}$ de $b$..."
   ]
  },
  {
   "cell_type": "code",
   "execution_count": 52,
   "metadata": {
    "ExecuteTime": {
     "end_time": "2018-04-21T19:41:54.785442Z",
     "start_time": "2018-04-21T19:41:54.745998Z"
    }
   },
   "outputs": [
    {
     "name": "stdout",
     "output_type": "stream",
     "text": [
      "id(b) = 4364742984\n",
      "[1]\n",
      "id(b) = 4364742984\n",
      "[1, 2]\n",
      "id(b) = 4364742984\n",
      "[1, 2, 3]\n"
     ]
    }
   ],
   "source": [
    "%reset -f\n",
    "\n",
    "def f(a, b=[]):\n",
    "    print('id(b) =', id(b))\n",
    "    b.append(a)\n",
    "    return b\n",
    "\n",
    "\n",
    "print(f(1))\n",
    "print(f(2))\n",
    "print(f(3))"
   ]
  },
  {
   "cell_type": "markdown",
   "metadata": {},
   "source": [
    "Veja que em todas as chamadas $b$ sempre foi associada a um mesmo objeto.  \n",
    "Como esse objeto é modificado no corpo da função, o valor inicial associado a $b$ mudou de uma chamada para outra.\n",
    "\n",
    "**_O que se pode fazer para evitar isso?_**  \n",
    "A saída é definir um valor padrão *imutável*, como **None**, por exemplo, e depois usá-lo para verificar se o parâmetro foi passado na chamada ou não."
   ]
  },
  {
   "cell_type": "code",
   "execution_count": 42,
   "metadata": {
    "ExecuteTime": {
     "end_time": "2018-04-21T19:15:45.917832Z",
     "start_time": "2018-04-21T19:15:45.873475Z"
    }
   },
   "outputs": [
    {
     "name": "stdout",
     "output_type": "stream",
     "text": [
      "[1]\n",
      "[2]\n",
      "[3]\n"
     ]
    }
   ],
   "source": [
    "%reset -f\n",
    "\n",
    "def f(a, b=None):\n",
    "    if b is None:  # se b for None, a chamada não passou um argumento\n",
    "        b = []\n",
    "    b.append(a)\n",
    "    return b\n",
    "\n",
    "\n",
    "print(f(1))\n",
    "print(f(2))\n",
    "print(f(3))"
   ]
  },
  {
   "cell_type": "markdown",
   "metadata": {},
   "source": [
    "Note que essa solução não nos impede de conseguir também o comportamento anterior da função, caso queiramos..."
   ]
  },
  {
   "cell_type": "code",
   "execution_count": 101,
   "metadata": {},
   "outputs": [
    {
     "name": "stdout",
     "output_type": "stream",
     "text": [
      "[1]\n",
      "[1, 2]\n",
      "[1, 2, 3]\n"
     ]
    }
   ],
   "source": [
    "%reset -f\n",
    "\n",
    "def f(a, b=None):\n",
    "    if b is None:\n",
    "        b = []\n",
    "    b.append(a)\n",
    "    return b\n",
    "\n",
    "\n",
    "x = f(1)\n",
    "print(x)\n",
    "x = f(2, x)\n",
    "print(x)\n",
    "x = f(3, x)\n",
    "print(x)"
   ]
  },
  {
   "cell_type": "markdown",
   "metadata": {},
   "source": [
    "Você consegue explicar por que?"
   ]
  },
  {
   "cell_type": "markdown",
   "metadata": {},
   "source": [
    "## Desenvolvimento incremental de programas\n",
    "Funções nos permitem desenvolver nossos programas de forma incremental.  \n",
    "Esta técnica propõe que se desenvolvam e testem pequenos trechos de um programa de cada vez."
   ]
  },
  {
   "cell_type": "markdown",
   "metadata": {},
   "source": [
    "Por exemplo, suponha que queiramos criar uma função para calcular a distância entre dois pontos no plano.  \n",
    "Supondo dois pontos com coordenadas $(x_1, y_1)$ e $(x_2, y_2)$, sabemos que essa distância é dada por\n",
    "$$d = \\sqrt{(x_2 - x_1)^2 + (y_2 - y_1)^2}$$\n",
    "\n",
    "Assim, uma possível definição da função desejada poderia ser..."
   ]
  },
  {
   "cell_type": "code",
   "execution_count": 106,
   "metadata": {},
   "outputs": [],
   "source": [
    "%reset -f\n",
    "\n",
    "def distância(x1, y1, x2, y2):\n",
    "    d = 0.0\n",
    "    return d"
   ]
  },
  {
   "cell_type": "markdown",
   "metadata": {},
   "source": [
    "Para testar essa função (e, ao mesmo tempo, documentar esse teste) vamos usar *asserções*.  \n",
    "Uma asserção é uma expressão lógica que se acredita verdadeira, definida num comando **assert**:    \n",
    "-   Se a expressão lógica for verdadeira, nada acontece. Em outras palavras, **assert** se comporta como **pass**.\n",
    "-   Se a expressão lógica for falsa, é gerada uma exceção.\n",
    "\n",
    "Por exemplo,..."
   ]
  },
  {
   "cell_type": "code",
   "execution_count": 107,
   "metadata": {},
   "outputs": [],
   "source": [
    "%reset -f\n",
    "\n",
    "def distância(x1, y1, x2, y2):\n",
    "    d = 0.0\n",
    "    return d\n",
    "\n",
    "assert distância(1, 2, 1, 2) == 0"
   ]
  },
  {
   "cell_type": "markdown",
   "metadata": {},
   "source": [
    "É claro que, para poder testar nossa função, é preciso ser capaz de antecipar a resposta correta em um certo número de casos.  \n",
    "Procure sempre antecipar os casos críticos, por exemplo valores extremos dos dados ou pontos em que se espera alguma mudança no comportamento da função.\n",
    "\n",
    "Vamos acrescentar mais três testes com essas características."
   ]
  },
  {
   "cell_type": "code",
   "execution_count": 108,
   "metadata": {},
   "outputs": [
    {
     "ename": "AssertionError",
     "evalue": "",
     "output_type": "error",
     "traceback": [
      "\u001b[0;31m---------------------------------------------------------------------------\u001b[0m",
      "\u001b[0;31mAssertionError\u001b[0m                            Traceback (most recent call last)",
      "\u001b[0;32m<ipython-input-108-3df549919eb7>\u001b[0m in \u001b[0;36m<module>\u001b[0;34m()\u001b[0m\n\u001b[1;32m      3\u001b[0m \u001b[0;34m\u001b[0m\u001b[0m\n\u001b[1;32m      4\u001b[0m \u001b[0;32massert\u001b[0m \u001b[0mdistância\u001b[0m\u001b[0;34m(\u001b[0m\u001b[0;36m1\u001b[0m\u001b[0;34m,\u001b[0m \u001b[0;36m2\u001b[0m\u001b[0;34m,\u001b[0m \u001b[0;36m1\u001b[0m\u001b[0;34m,\u001b[0m \u001b[0;36m2\u001b[0m\u001b[0;34m)\u001b[0m \u001b[0;34m==\u001b[0m \u001b[0;36m0\u001b[0m\u001b[0;34m\u001b[0m\u001b[0m\n\u001b[0;32m----> 5\u001b[0;31m \u001b[0;32massert\u001b[0m \u001b[0mdistância\u001b[0m\u001b[0;34m(\u001b[0m\u001b[0;36m1\u001b[0m\u001b[0;34m,\u001b[0m \u001b[0;36m2\u001b[0m\u001b[0;34m,\u001b[0m \u001b[0;36m4\u001b[0m\u001b[0;34m,\u001b[0m \u001b[0;36m6\u001b[0m\u001b[0;34m)\u001b[0m \u001b[0;34m==\u001b[0m \u001b[0;36m5\u001b[0m\u001b[0;34m\u001b[0m\u001b[0m\n\u001b[0m\u001b[1;32m      6\u001b[0m \u001b[0;32massert\u001b[0m \u001b[0mdistância\u001b[0m\u001b[0;34m(\u001b[0m\u001b[0;36m0\u001b[0m\u001b[0;34m,\u001b[0m \u001b[0;36m0\u001b[0m\u001b[0;34m,\u001b[0m \u001b[0;36m0\u001b[0m\u001b[0;34m,\u001b[0m \u001b[0;36m1\u001b[0m\u001b[0;34m)\u001b[0m \u001b[0;34m==\u001b[0m \u001b[0;36m1\u001b[0m\u001b[0;34m\u001b[0m\u001b[0m\n\u001b[1;32m      7\u001b[0m \u001b[0;32massert\u001b[0m \u001b[0mdistância\u001b[0m\u001b[0;34m(\u001b[0m\u001b[0;36m1\u001b[0m\u001b[0;34m,\u001b[0m \u001b[0;36m0\u001b[0m\u001b[0;34m,\u001b[0m \u001b[0;36m0\u001b[0m\u001b[0;34m,\u001b[0m \u001b[0;36m0\u001b[0m\u001b[0;34m)\u001b[0m \u001b[0;34m==\u001b[0m \u001b[0;36m1\u001b[0m\u001b[0;34m\u001b[0m\u001b[0m\n",
      "\u001b[0;31mAssertionError\u001b[0m: "
     ]
    }
   ],
   "source": [
    "%reset -f\n",
    "\n",
    "def distância(x1, y1, x2, y2):\n",
    "    d = 0.0\n",
    "    return d\n",
    "\n",
    "assert distância(1, 2, 1, 2) == 0\n",
    "assert distância(1, 2, 4, 6) == 5\n",
    "assert distância(0, 0, 0, 1) == 1\n",
    "assert distância(1, 0, 0, 0) == 1"
   ]
  },
  {
   "cell_type": "markdown",
   "metadata": {},
   "source": [
    "Como era de se esperar, nossa função falha já no segundo teste...\n",
    "\n",
    "Examinando a expressão que resolve o problema, é possível adotar a seguinte abordagem:\n",
    "-   Calcular as distâncias entre os pontos nos eixos $x$ e $y$.\n",
    "-   Elevar essas distâncias ao quadrado e somar os resultados\n",
    "-   Extrair a raiz quadrada da soma"
   ]
  },
  {
   "cell_type": "code",
   "execution_count": 119,
   "metadata": {},
   "outputs": [
    {
     "ename": "AssertionError",
     "evalue": "",
     "output_type": "error",
     "traceback": [
      "\u001b[0;31m---------------------------------------------------------------------------\u001b[0m",
      "\u001b[0;31mAssertionError\u001b[0m                            Traceback (most recent call last)",
      "\u001b[0;32m<ipython-input-119-f7bb79445d87>\u001b[0m in \u001b[0;36m<module>\u001b[0;34m()\u001b[0m\n\u001b[1;32m     10\u001b[0m \u001b[0;32massert\u001b[0m \u001b[0mdistância\u001b[0m\u001b[0;34m(\u001b[0m\u001b[0;36m1\u001b[0m\u001b[0;34m,\u001b[0m \u001b[0;36m2\u001b[0m\u001b[0;34m,\u001b[0m \u001b[0;36m4\u001b[0m\u001b[0;34m,\u001b[0m \u001b[0;36m6\u001b[0m\u001b[0;34m)\u001b[0m \u001b[0;34m==\u001b[0m \u001b[0;36m5\u001b[0m\u001b[0;34m\u001b[0m\u001b[0m\n\u001b[1;32m     11\u001b[0m \u001b[0;32massert\u001b[0m \u001b[0mdistância\u001b[0m\u001b[0;34m(\u001b[0m\u001b[0;36m0\u001b[0m\u001b[0;34m,\u001b[0m \u001b[0;36m0\u001b[0m\u001b[0;34m,\u001b[0m \u001b[0;36m0\u001b[0m\u001b[0;34m,\u001b[0m \u001b[0;36m1\u001b[0m\u001b[0;34m)\u001b[0m \u001b[0;34m==\u001b[0m \u001b[0;36m1\u001b[0m\u001b[0;34m\u001b[0m\u001b[0m\n\u001b[0;32m---> 12\u001b[0;31m \u001b[0;32massert\u001b[0m \u001b[0mdistância\u001b[0m\u001b[0;34m(\u001b[0m\u001b[0;36m1\u001b[0m\u001b[0;34m,\u001b[0m \u001b[0;36m1\u001b[0m\u001b[0;34m,\u001b[0m \u001b[0;36m0\u001b[0m\u001b[0;34m,\u001b[0m \u001b[0;36m0\u001b[0m\u001b[0;34m)\u001b[0m \u001b[0;34m==\u001b[0m \u001b[0;36m1.41\u001b[0m\u001b[0;34m\u001b[0m\u001b[0m\n\u001b[0m",
      "\u001b[0;31mAssertionError\u001b[0m: "
     ]
    }
   ],
   "source": [
    "%reset -f\n",
    "\n",
    "def distância(x1, y1, x2, y2):\n",
    "    dx = x2 - x1\n",
    "    dy = y2 - y1\n",
    "    d = (dx**2 + dy**2) ** 0.5\n",
    "    return d\n",
    "\n",
    "assert distância(1, 2, 1, 2) == 0\n",
    "assert distância(1, 2, 4, 6) == 5\n",
    "assert distância(0, 0, 0, 1) == 1\n",
    "assert distância(1, 1, 0, 0) == 1.41"
   ]
  },
  {
   "cell_type": "code",
   "execution_count": 120,
   "metadata": {},
   "outputs": [],
   "source": [
    "%reset -f\n",
    "\n",
    "def distância(x1, y1, x2, y2):\n",
    "    dx = x2 - x1\n",
    "    dy = y2 - y1\n",
    "    d = (dx**2 + dy**2) ** 0.5\n",
    "    return d\n",
    "\n",
    "assert distância(1, 2, 1, 2) == 0\n",
    "assert distância(1, 2, 4, 6) == 5\n",
    "assert distância(0, 0, 0, 1) == 1\n",
    "assert distância(1, 1, 0, 0) == 2**0.5"
   ]
  },
  {
   "cell_type": "markdown",
   "metadata": {},
   "source": [
    "Agora nossa função passa por todos os testes."
   ]
  },
  {
   "cell_type": "markdown",
   "metadata": {},
   "source": [
    "### Em resumo...\n",
    "-   Assegure-se de ter entendido **o que** precisa fazer. Só assim você poderá criar testes unitários apropriados.\n",
    "-   Parta de um esqueleto de programa funcional e faça pequenas alterações incrementais.  \n",
    "    Assim, a qualquer momento, se aparecer um erro, você saberá “exatamente” onde ele está.\n",
    "-   Associe variáveis temporárias aos resultados de cálculos intermediários, de modo que você possa inspecioná-los e verificá-los facilmente.\n",
    "-   Depois que o programa estiver funcionando satisfatoriamente, será possível consolidar alguns comandos em expressões compostas.  \n",
    "    Somente consolide comandos se isso não comprometer o entendimento do programa.\n",
    "-   A cada passo, repita todos os testes unitários para ter certeza de não ter introduzido algum erro novo no programa."
   ]
  },
  {
   "cell_type": "markdown",
   "metadata": {},
   "source": [
    "## Exemplo: Calcular a área de um círculo com um dado raio "
   ]
  },
  {
   "cell_type": "markdown",
   "metadata": {},
   "source": [
    "Dado o raio $r$ de um círculo, calcular sua área."
   ]
  },
  {
   "cell_type": "code",
   "execution_count": 124,
   "metadata": {},
   "outputs": [],
   "source": [
    "%reset -f\n",
    "import math\n",
    "\n",
    "def área_círculo_raio(r):\n",
    "    return math.pi * r**2\n",
    "\n",
    "assert área_círculo_raio(0) == 0\n",
    "assert área_círculo_raio(1) == math.pi"
   ]
  },
  {
   "cell_type": "markdown",
   "metadata": {},
   "source": [
    "## Exemplo: Dados dois pontos, calcular a área do círculo com centro em um deles e passando pelo outro\n",
    "Sabemos calcular a área de um círculo conhecido seu raio.  \n",
    "Sabemos calcular a distância entre dois pontos no plano.\n",
    "Portanto, o problema está resolvido..."
   ]
  },
  {
   "cell_type": "code",
   "execution_count": 125,
   "metadata": {},
   "outputs": [],
   "source": [
    "%reset -f\n",
    "import math\n",
    "\n",
    "def distância(x1, y1, x2, y2):\n",
    "    return ((x2 - x1)**2 + (y2 - y1)**2) ** 0.5\n",
    "\n",
    "def área_círculo_raio(r):\n",
    "    return math.pi * r**2\n",
    "\n",
    "def área_círculo_2pt(x1, y1, x2, y2):\n",
    "    return área_círculo_raio(distância(x1, y1, x2, y2))\n",
    "\n",
    "assert área_círculo_2pt(0, 0, 0, 0) == 0\n",
    "assert área_círculo_2pt(0, 0, 0, 1) == math.pi\n",
    "assert área_círculo_2pt(1, 2, 4, 6) == 25 * math.pi"
   ]
  },
  {
   "cell_type": "code",
   "execution_count": 140,
   "metadata": {},
   "outputs": [],
   "source": [
    "%reset -f\n",
    "\n",
    "def produto(x, n):\n",
    "    if n < 0:\n",
    "        prod = None\n",
    "    else:\n",
    "        prod = 0\n",
    "        for i in range(n):\n",
    "            prod += x\n",
    "    return prod\n",
    "\n",
    "assert produto(1, 5) == 5\n",
    "assert produto(5, 0) == 0\n",
    "assert produto(0, 5) == 0\n",
    "assert produto(-1, 5) == -5\n",
    "assert produto(1, -5) == None\n"
   ]
  },
  {
   "cell_type": "code",
   "execution_count": 114,
   "metadata": {},
   "outputs": [
    {
     "ename": "AssertionError",
     "evalue": "",
     "output_type": "error",
     "traceback": [
      "\u001b[0;31m---------------------------------------------------------------------------\u001b[0m",
      "\u001b[0;31mAssertionError\u001b[0m                            Traceback (most recent call last)",
      "\u001b[0;32m<ipython-input-114-6c015c07c449>\u001b[0m in \u001b[0;36m<module>\u001b[0;34m()\u001b[0m\n\u001b[1;32m     29\u001b[0m \u001b[0;32massert\u001b[0m \u001b[0mpotência\u001b[0m\u001b[0;34m(\u001b[0m\u001b[0;36m5\u001b[0m\u001b[0;34m,\u001b[0m \u001b[0;36m0\u001b[0m\u001b[0;34m)\u001b[0m \u001b[0;34m==\u001b[0m \u001b[0;36m1\u001b[0m\u001b[0;34m\u001b[0m\u001b[0m\n\u001b[1;32m     30\u001b[0m \u001b[0;32massert\u001b[0m \u001b[0mpotência\u001b[0m\u001b[0;34m(\u001b[0m\u001b[0;36m0\u001b[0m\u001b[0;34m,\u001b[0m \u001b[0;36m5\u001b[0m\u001b[0;34m)\u001b[0m \u001b[0;34m==\u001b[0m \u001b[0;36m0\u001b[0m\u001b[0;34m\u001b[0m\u001b[0m\n\u001b[0;32m---> 31\u001b[0;31m \u001b[0;32massert\u001b[0m \u001b[0mpotência\u001b[0m\u001b[0;34m(\u001b[0m\u001b[0;34m-\u001b[0m\u001b[0;36m1\u001b[0m\u001b[0;34m,\u001b[0m \u001b[0;36m5\u001b[0m\u001b[0;34m)\u001b[0m \u001b[0;34m==\u001b[0m \u001b[0;34m-\u001b[0m\u001b[0;36m1\u001b[0m\u001b[0;34m\u001b[0m\u001b[0m\n\u001b[0m\u001b[1;32m     32\u001b[0m \u001b[0;32massert\u001b[0m \u001b[0mpotência\u001b[0m\u001b[0;34m(\u001b[0m\u001b[0;36m1\u001b[0m\u001b[0;34m,\u001b[0m \u001b[0;34m-\u001b[0m\u001b[0;36m5\u001b[0m\u001b[0;34m)\u001b[0m \u001b[0;34m==\u001b[0m \u001b[0;32mNone\u001b[0m\u001b[0;34m\u001b[0m\u001b[0m\n",
      "\u001b[0;31mAssertionError\u001b[0m: "
     ]
    }
   ],
   "source": [
    "%reset -f\n",
    "\n",
    "def produto(x, n):\n",
    "    if n < 0:\n",
    "        prod = None\n",
    "    else:\n",
    "        prod = 0\n",
    "        for i in range(n):\n",
    "            prod += x\n",
    "    return prod\n",
    "\n",
    "assert produto(1, 5) == 5\n",
    "assert produto(5, 0) == 0\n",
    "assert produto(0, 5) == 0\n",
    "assert produto(-1, 5) == -5\n",
    "assert produto(1, -5) == None\n",
    "\n",
    "def potência(x, n):\n",
    "    if n < 0:\n",
    "        pot = None\n",
    "    else:\n",
    "        pot = 1\n",
    "        for i in range(n):\n",
    "            pot = produto(pot, x)\n",
    "    return pot\n",
    "\n",
    "assert potência(2, 3) == 8\n",
    "assert potência(1, 5) == 1\n",
    "assert potência(5, 0) == 1\n",
    "assert potência(0, 5) == 0\n",
    "assert potência(-1, 5) == -1\n",
    "assert potência(1, -5) == None\n"
   ]
  },
  {
   "cell_type": "code",
   "execution_count": 118,
   "metadata": {},
   "outputs": [],
   "source": [
    "%reset -f\n",
    "\n",
    "def produto(x, n):\n",
    "    sinal = 1\n",
    "    if x < 0:\n",
    "        sinal = -sinal\n",
    "        x = -x\n",
    "    if n < 0:\n",
    "        sinal = -sinal\n",
    "        n = -n\n",
    "    prod = 0\n",
    "    for i in range(n):\n",
    "        prod += x\n",
    "    if sinal < 0:\n",
    "        prod = -prod\n",
    "    return prod\n",
    "\n",
    "assert produto(1, 5) == 5\n",
    "assert produto(5, 0) == 0\n",
    "assert produto(0, 5) == 0\n",
    "assert produto(-1, 5) == -5\n",
    "assert produto(1, -5) == -5\n",
    "\n",
    "def potência(x, n):\n",
    "    if n < 0:\n",
    "        pot = None\n",
    "    else:\n",
    "        pot = 1\n",
    "        for i in range(n):\n",
    "            pot = produto(pot, x)\n",
    "    return pot\n",
    "\n",
    "assert potência(-3, 2) == 9\n",
    "assert potência(1, 5) == 1\n",
    "assert potência(5, 0) == 1\n",
    "assert potência(0, 5) == 0\n",
    "assert potência(-1, 5) == -1\n",
    "assert potência(1, -5) == None\n"
   ]
  },
  {
   "cell_type": "code",
   "execution_count": 132,
   "metadata": {},
   "outputs": [
    {
     "name": "stdout",
     "output_type": "stream",
     "text": [
      "7\n",
      "8\n"
     ]
    }
   ],
   "source": [
    "%reset -f\n",
    "\n",
    "def f1(a):\n",
    "    print(a+x)\n",
    "\n",
    "def f3(a): \n",
    "    global x\n",
    "    x=x+1\n",
    "    print(a+x)\n",
    "    \n",
    "x=4\n",
    "f1(3)\n",
    "f3(3) # este comando vai dar um erro\n",
    "\n"
   ]
  },
  {
   "cell_type": "code",
   "execution_count": 138,
   "metadata": {},
   "outputs": [],
   "source": [
    "def is_prime(n):\n",
    "    \"\"\"\n",
    "    Assumes that n is a positive natural number\n",
    "    \"\"\"\n",
    "    # We know 1 is not a prime number\n",
    "    if n == 1:\n",
    "        return False\n",
    "    elif n == 2:\n",
    "        return True\n",
    "    elif n % 2 == 0:\n",
    "        return False\n",
    "    else:\n",
    "        i = 3\n",
    "        # This will loop from 3 to int(sqrt(x)) with step 2\n",
    "        while i*i <= n:\n",
    "            # Check if i divides x without leaving a remainder\n",
    "            if n % i == 0:\n",
    "                # This means that n has a factor in between 2 and sqrt(n)\n",
    "                # So it is not a prime number\n",
    "                return False\n",
    "            i += 2\n",
    "        # If we did not find any factor in the above loop,\n",
    "        # then n is a prime number\n",
    "        return True\n",
    "\n",
    "primes = [2, 3, 5, 7]\n",
    "for x in range(1, 11):\n",
    "    assert is_prime(x) == (x in primes)\n",
    "\n",
    "# Output:\n",
    "# 1: False\n",
    "# 2: True\n",
    "# 3: True\n",
    "# 4: False\n",
    "# 5: True\n",
    "# 6: False\n",
    "# 7: True\n",
    "# 8: False\n",
    "# 9: False\n",
    "# 10: False\n",
    "\n",
    "assert not is_prime(1000000000)\n",
    "# Output: 1000000000: False\n",
    "\n",
    "assert is_prime(1000000007)\n",
    "# Output: 1000000007: True"
   ]
  },
  {
   "cell_type": "code",
   "execution_count": null,
   "metadata": {},
   "outputs": [],
   "source": []
  }
 ],
 "metadata": {
  "kernelspec": {
   "display_name": "Python 3",
   "language": "python",
   "name": "python3"
  },
  "language_info": {
   "codemirror_mode": {
    "name": "ipython",
    "version": 3
   },
   "file_extension": ".py",
   "mimetype": "text/x-python",
   "name": "python",
   "nbconvert_exporter": "python",
   "pygments_lexer": "ipython3",
   "version": "3.6.5"
  },
  "latex_envs": {
   "LaTeX_envs_menu_present": true,
   "autoclose": false,
   "autocomplete": true,
   "bibliofile": "biblio.bib",
   "cite_by": "apalike",
   "current_citInitial": 1,
   "eqLabelWithNumbers": true,
   "eqNumInitial": 1,
   "hotkeys": {
    "equation": "Ctrl-E",
    "itemize": "Ctrl-I"
   },
   "labels_anchors": false,
   "latex_user_defs": false,
   "report_style_numbering": false,
   "user_envs_cfg": false
  },
  "toc": {
   "base_numbering": 1,
   "nav_menu": {},
   "number_sections": true,
   "sideBar": true,
   "skip_h1_title": true,
   "title_cell": "Table of Contents",
   "title_sidebar": "Contents",
   "toc_cell": false,
   "toc_position": {},
   "toc_section_display": true,
   "toc_window_display": false
  },
  "varInspector": {
   "cols": {
    "lenName": 16,
    "lenType": 16,
    "lenVar": 40
   },
   "kernels_config": {
    "python": {
     "delete_cmd_postfix": "",
     "delete_cmd_prefix": "del ",
     "library": "var_list.py",
     "varRefreshCmd": "print(var_dic_list())"
    },
    "r": {
     "delete_cmd_postfix": ") ",
     "delete_cmd_prefix": "rm(",
     "library": "var_list.r",
     "varRefreshCmd": "cat(var_dic_list()) "
    }
   },
   "types_to_exclude": [
    "module",
    "function",
    "builtin_function_or_method",
    "instance",
    "_Feature"
   ],
   "window_display": false
  }
 },
 "nbformat": 4,
 "nbformat_minor": 2
}
