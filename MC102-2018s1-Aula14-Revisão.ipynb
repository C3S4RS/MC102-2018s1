{
 "cells": [
  {
   "cell_type": "code",
   "execution_count": 29,
   "metadata": {
    "ExecuteTime": {
     "end_time": "2018-04-08T13:05:17.279859Z",
     "start_time": "2018-04-08T13:05:17.275510Z"
    },
    "init_cell": true,
    "slideshow": {
     "slide_type": "skip"
    },
    "solution": "hidden"
   },
   "outputs": [],
   "source": [
    "from IPython.core.interactiveshell import InteractiveShell\n",
    "InteractiveShell.ast_node_interactivity = \"all\""
   ]
  },
  {
   "cell_type": "markdown",
   "metadata": {
    "slideshow": {
     "slide_type": "slide"
    }
   },
   "source": [
    "# Revisão"
   ]
  },
  {
   "cell_type": "markdown",
   "metadata": {
    "slideshow": {
     "slide_type": "subslide"
    }
   },
   "source": [
    "## Exercício 1: Triângulos retângulos inteiros\n",
    "Se $p$ é o perímetro de um triângulo retângulo com lados de comprimento inteiro, $\\{a, b, c\\}$, há exatamente três soluções para $p = 120$.\n",
    "\n",
    "$\\{20,48,52\\}$, $\\{24,45,51\\}$, $\\{30,40,50\\}$\n",
    "\n",
    "Para qual valor de $p \\le 1000$ há o maior número de soluções?"
   ]
  },
  {
   "cell_type": "code",
   "execution_count": null,
   "metadata": {
    "slideshow": {
     "slide_type": "subslide"
    },
    "solution2": "shown",
    "solution2_first": true
   },
   "outputs": [],
   "source": []
  },
  {
   "cell_type": "markdown",
   "metadata": {
    "slideshow": {
     "slide_type": "subslide"
    }
   },
   "source": [
    "## Exercício 2: 100 lâmpadas\n",
    "\n",
    "Há 100 lâmpadas em fila, numeradas sequencialmente de 1 a 100. Inicialmente todas estão apagadas.  \n",
    "Você vai passar 100 vezes pela fila, examinando as lâmpadas de acordo com a regra descrita abaixo.  \n",
    "Toda vez que você examinar uma lâmpada, o estado dela muda (se a lâmpada estiver apagada, ela acende; se estiver acesa, ela apaga).  \n",
    "Na primeira vez, examine todas as lâmpadas.   \n",
    "Na segunda vez, examine apenas as lâmpadas 2, 4, 6, ...  \n",
    "Na terceira vez, examine apenas as lâmpadas 3, 6, 9, ...  \n",
    "Repita esse processo até examinar apenas a lâmpada número 100.  \n",
    "\n",
    "Quando você terminar, quais lâmpadas estarão acesas?"
   ]
  },
  {
   "cell_type": "code",
   "execution_count": null,
   "metadata": {
    "slideshow": {
     "slide_type": "subslide"
    },
    "solution2": "hidden",
    "solution2_first": true
   },
   "outputs": [],
   "source": []
  },
  {
   "cell_type": "markdown",
   "metadata": {
    "slideshow": {
     "slide_type": "subslide"
    }
   },
   "source": [
    "## Exercício 3: Contagem de letras\n",
    "Escreva um programa que:\n",
    "\n",
    "1. leia uma linha de texto\n",
    "2. imprima uma tabela com cada uma das letras que existem no texto, em ordem alfabética, junto com o número de vezes em que essa letra ocorre. \n",
    "\n",
    "Ignore maiúsculas/minúsculas e acentuação."
   ]
  },
  {
   "cell_type": "code",
   "execution_count": null,
   "metadata": {
    "slideshow": {
     "slide_type": "subslide"
    },
    "solution2": "hidden",
    "solution2_first": true
   },
   "outputs": [],
   "source": []
  },
  {
   "cell_type": "markdown",
   "metadata": {
    "slideshow": {
     "slide_type": "subslide"
    }
   },
   "source": [
    "## Exercício 4: Substituição de texto\n",
    "Escreva um programa que:\n",
    "\n",
    "1.   leia uma linha de texto \n",
    "2.   leia uma segunda linha, com duas *strings* `antes` e `depois` separadas por espaços\n",
    "3.   exiba o texto lido inicialmente com todas as ocorrências de `antes` substituídas por `depois`."
   ]
  },
  {
   "cell_type": "code",
   "execution_count": null,
   "metadata": {
    "solution2": "hidden",
    "solution2_first": true
   },
   "outputs": [],
   "source": []
  }
 ],
 "metadata": {
  "celltoolbar": "Slideshow",
  "kernelspec": {
   "display_name": "Python 3",
   "language": "python",
   "name": "python3"
  },
  "language_info": {
   "codemirror_mode": {
    "name": "ipython",
    "version": 3
   },
   "file_extension": ".py",
   "mimetype": "text/x-python",
   "name": "python",
   "nbconvert_exporter": "python",
   "pygments_lexer": "ipython3",
   "version": "3.6.4"
  },
  "latex_envs": {
   "LaTeX_envs_menu_present": true,
   "autocomplete": true,
   "bibliofile": "biblio.bib",
   "cite_by": "apalike",
   "current_citInitial": 1,
   "eqLabelWithNumbers": true,
   "eqNumInitial": 1,
   "hotkeys": {
    "equation": "Ctrl-E",
    "itemize": "Ctrl-I"
   },
   "labels_anchors": false,
   "latex_user_defs": false,
   "report_style_numbering": false,
   "user_envs_cfg": false
  },
  "toc": {
   "nav_menu": {
    "height": "188px",
    "width": "297px"
   },
   "number_sections": false,
   "sideBar": true,
   "skip_h1_title": true,
   "title_cell": "Table of Contents",
   "title_sidebar": "Contents",
   "toc_cell": false,
   "toc_position": {},
   "toc_section_display": true,
   "toc_window_display": false
  },
  "varInspector": {
   "cols": {
    "lenName": 16,
    "lenType": 16,
    "lenVar": 40
   },
   "kernels_config": {
    "python": {
     "delete_cmd_postfix": "",
     "delete_cmd_prefix": "del ",
     "library": "var_list.py",
     "varRefreshCmd": "print(var_dic_list())"
    },
    "r": {
     "delete_cmd_postfix": ") ",
     "delete_cmd_prefix": "rm(",
     "library": "var_list.r",
     "varRefreshCmd": "cat(var_dic_list()) "
    }
   },
   "position": {
    "height": "518px",
    "left": "1310px",
    "right": "20px",
    "top": "120px",
    "width": "350px"
   },
   "types_to_exclude": [
    "module",
    "function",
    "builtin_function_or_method",
    "instance",
    "_Feature"
   ],
   "window_display": false
  }
 },
 "nbformat": 4,
 "nbformat_minor": 2
}
