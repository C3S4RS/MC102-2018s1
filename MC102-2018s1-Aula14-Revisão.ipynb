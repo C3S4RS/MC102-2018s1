{
 "cells": [
  {
   "cell_type": "code",
   "execution_count": 29,
   "metadata": {
    "ExecuteTime": {
     "end_time": "2018-04-08T13:05:17.279859Z",
     "start_time": "2018-04-08T13:05:17.275510Z"
    },
    "init_cell": true,
    "slideshow": {
     "slide_type": "skip"
    },
    "solution": "hidden"
   },
   "outputs": [],
   "source": [
    "from IPython.core.interactiveshell import InteractiveShell\n",
    "InteractiveShell.ast_node_interactivity = \"all\""
   ]
  },
  {
   "cell_type": "markdown",
   "metadata": {
    "slideshow": {
     "slide_type": "slide"
    }
   },
   "source": [
    "# Revisão"
   ]
  },
  {
   "cell_type": "markdown",
   "metadata": {
    "slideshow": {
     "slide_type": "subslide"
    }
   },
   "source": [
    "## Exercício 1: Triângulos retângulos inteiros\n",
    "Se $p$ é o perímetro de um triângulo retângulo com lados de comprimento inteiro, $\\{a, b, c\\}$, há exatamente três soluções para $p = 120$.\n",
    "\n",
    "$\\{20,48,52\\}$, $\\{24,45,51\\}$, $\\{30,40,50\\}$\n",
    "\n",
    "Para qual valor de $p \\le 1000$ há o maior número de soluções?"
   ]
  },
  {
   "cell_type": "code",
   "execution_count": null,
   "metadata": {
    "slideshow": {
     "slide_type": "subslide"
    },
    "solution2": "shown",
    "solution2_first": true
   },
   "outputs": [],
   "source": []
  },
  {
   "cell_type": "code",
   "execution_count": 32,
   "metadata": {
    "solution2": "shown"
   },
   "outputs": [
    {
     "name": "stdout",
     "output_type": "stream",
     "text": [
      "3 4 5 1\n",
      "5 12 13 1\n",
      "6 8 10 1\n",
      "7 24 25 1\n",
      "8 15 17 1\n",
      "9 12 15 1\n",
      "9 40 41 1\n",
      "10 24 26 1\n",
      "11 60 61 1\n",
      "12 16 20 1\n",
      "12 35 37 1\n",
      "13 84 85 1\n",
      "14 48 50 1\n",
      "15 20 25 2\n",
      "15 36 39 2\n",
      "15 112 113 1\n",
      "16 30 34 1\n",
      "16 63 65 1\n",
      "17 144 145 1\n",
      "18 24 30 1\n",
      "18 80 82 1\n",
      "19 180 181 1\n",
      "20 21 29 1\n",
      "20 48 52 1\n",
      "20 99 101 1\n",
      "21 28 35 2\n",
      "21 72 75 1\n",
      "21 220 221 1\n",
      "22 120 122 1\n",
      "23 264 265 1\n",
      "24 32 40 1\n",
      "24 45 51 2\n",
      "24 70 74 2\n",
      "24 143 145 1\n",
      "25 60 65 1\n",
      "25 312 313 1\n",
      "26 168 170 1\n",
      "27 36 45 1\n",
      "27 120 123 1\n",
      "27 364 365 1\n",
      "28 45 53 1\n",
      "28 96 100 1\n",
      "28 195 197 1\n",
      "29 420 421 1\n",
      "30 40 50 3\n",
      "30 72 78 2\n",
      "30 224 226 1\n",
      "31 480 481 1\n",
      "32 60 68 1\n",
      "32 126 130 1\n",
      "32 255 257 1\n",
      "33 44 55 2\n",
      "33 56 65 1\n",
      "33 180 183 1\n",
      "34 288 290 1\n",
      "35 84 91 1\n",
      "35 120 125 1\n",
      "36 48 60 2\n",
      "36 77 85 1\n",
      "36 105 111 1\n",
      "36 160 164 1\n",
      "36 323 325 1\n",
      "38 360 362 1\n",
      "39 52 65 1\n",
      "39 80 89 1\n",
      "39 252 255 1\n",
      "40 42 58 1\n",
      "40 75 85 1\n",
      "40 96 104 2\n",
      "40 198 202 1\n",
      "40 399 401 1\n",
      "42 56 70 3\n",
      "42 144 150 1\n",
      "42 440 442 1\n",
      "44 117 125 1\n",
      "44 240 244 1\n",
      "45 60 75 3\n",
      "45 108 117 2\n",
      "45 200 205 1\n",
      "45 336 339 1\n",
      "48 55 73 1\n",
      "48 64 80 1\n",
      "48 90 102 3\n",
      "48 140 148 2\n",
      "48 189 195 1\n",
      "48 286 290 1\n",
      "49 168 175 1\n",
      "50 120 130 1\n",
      "51 68 85 1\n",
      "51 140 149 1\n",
      "51 432 435 1\n",
      "52 165 173 1\n",
      "52 336 340 1\n",
      "54 72 90 1\n",
      "54 240 246 1\n",
      "55 132 143 1\n",
      "55 300 305 1\n",
      "56 90 106 2\n",
      "56 105 119 2\n",
      "56 192 200 1\n",
      "56 390 394 2\n",
      "57 76 95 1\n",
      "57 176 185 1\n",
      "60 63 87 2\n",
      "60 80 100 4\n",
      "60 91 109 1\n",
      "60 144 156 2\n",
      "60 175 185 2\n",
      "60 221 229 1\n",
      "60 297 303 2\n",
      "60 448 452 1\n",
      "63 84 105 3\n",
      "63 216 225 1\n",
      "63 280 287 1\n",
      "64 120 136 1\n",
      "64 252 260 1\n",
      "65 72 97 1\n",
      "65 156 169 2\n",
      "65 420 425 1\n",
      "66 88 110 2\n",
      "66 112 130 1\n",
      "66 360 366 1\n",
      "68 285 293 1\n",
      "69 92 115 1\n",
      "69 260 269 1\n",
      "70 168 182 3\n",
      "70 240 250 1\n",
      "72 96 120 2\n",
      "72 135 153 3\n",
      "72 154 170 2\n",
      "72 210 222 2\n",
      "72 320 328 2\n",
      "72 429 435 1\n",
      "75 100 125 2\n",
      "75 180 195 2\n",
      "75 308 317 1\n",
      "76 357 365 1\n",
      "77 264 275 1\n",
      "77 420 427 2\n",
      "78 104 130 2\n",
      "78 160 178 1\n",
      "80 84 116 3\n",
      "80 150 170 1\n",
      "80 192 208 2\n",
      "80 315 325 3\n",
      "80 396 404 1\n",
      "81 108 135 1\n",
      "81 360 369 1\n",
      "84 112 140 3\n",
      "84 135 159 1\n",
      "84 187 205 1\n",
      "84 245 259 1\n",
      "84 288 300 1\n",
      "84 437 445 1\n",
      "85 132 157 1\n",
      "85 204 221 2\n",
      "87 116 145 1\n",
      "87 416 425 1\n",
      "88 105 137 2\n",
      "88 165 187 2\n",
      "88 234 250 1\n",
      "90 120 150 4\n",
      "90 216 234 2\n",
      "90 400 410 1\n",
      "91 312 325 2\n",
      "93 124 155 1\n",
      "95 168 193 1\n",
      "95 228 247 1\n",
      "96 110 146 1\n",
      "96 128 160 1\n",
      "96 180 204 3\n",
      "96 247 265 1\n",
      "96 280 296 2\n",
      "96 378 390 1\n",
      "98 336 350 1\n",
      "99 132 165 3\n",
      "99 168 195 2\n",
      "99 440 451 1\n",
      "100 105 145 1\n",
      "100 240 260 1\n",
      "102 136 170 1\n",
      "102 280 298 1\n",
      "104 153 185 1\n",
      "104 195 221 1\n",
      "104 330 346 1\n",
      "105 140 175 4\n",
      "105 208 233 2\n",
      "105 252 273 2\n",
      "105 360 375 3\n",
      "108 144 180 2\n",
      "108 231 255 1\n",
      "108 315 333 2\n",
      "110 264 286 3\n",
      "111 148 185 1\n",
      "112 180 212 3\n",
      "112 210 238 2\n",
      "112 384 400 1\n",
      "114 152 190 2\n",
      "114 352 370 1\n",
      "115 252 277 1\n",
      "115 276 299 1\n",
      "117 156 195 1\n",
      "117 240 267 2\n",
      "119 120 169 2\n",
      "119 408 425 1\n",
      "120 126 174 5\n",
      "120 160 200 4\n",
      "120 182 218 2\n",
      "120 209 241 2\n",
      "120 225 255 2\n",
      "120 288 312 4\n",
      "120 350 370 4\n",
      "120 391 409 1\n",
      "123 164 205 1\n",
      "125 300 325 1\n",
      "126 168 210 4\n",
      "128 240 272 1\n",
      "129 172 215 1\n",
      "130 144 194 2\n",
      "130 312 338 2\n",
      "132 176 220 2\n",
      "132 224 260 2\n",
      "132 351 375 1\n",
      "132 385 407 3\n",
      "133 156 205 1\n",
      "135 180 225 3\n",
      "135 324 351 2\n",
      "135 352 377 2\n",
      "136 255 289 2\n",
      "136 273 305 1\n",
      "138 184 230 2\n",
      "140 147 203 1\n",
      "140 171 221 1\n",
      "140 225 265 3\n",
      "140 336 364 5\n",
      "141 188 235 1\n",
      "144 165 219 3\n",
      "144 192 240 2\n",
      "144 270 306 5\n",
      "144 308 340 2\n",
      "145 348 377 2\n",
      "145 408 433 1\n",
      "147 196 245 2\n",
      "150 200 250 3\n",
      "150 360 390 2\n",
      "152 285 323 2\n",
      "152 345 377 1\n",
      "153 204 255 2\n",
      "155 372 403 1\n",
      "156 208 260 3\n",
      "156 320 356 1\n",
      "159 212 265 1\n",
      "160 168 232 3\n",
      "160 231 281 3\n",
      "160 300 340 1\n",
      "160 384 416 2\n",
      "161 240 289 2\n",
      "162 216 270 1\n",
      "165 220 275 4\n",
      "165 280 325 1\n",
      "165 396 429 2\n",
      "168 224 280 4\n",
      "168 270 318 3\n",
      "168 315 357 6\n",
      "168 374 410 2\n",
      "170 264 314 1\n",
      "171 228 285 2\n",
      "174 232 290 1\n",
      "175 288 337 2\n",
      "176 210 274 5\n",
      "176 330 374 2\n",
      "177 236 295 1\n",
      "180 189 261 4\n",
      "180 240 300 6\n",
      "180 273 327 3\n",
      "180 299 349 1\n",
      "180 385 425 3\n",
      "183 244 305 1\n",
      "184 345 391 2\n",
      "186 248 310 1\n",
      "189 252 315 4\n",
      "189 340 389 2\n",
      "190 336 386 1\n",
      "192 220 292 1\n",
      "192 256 320 1\n",
      "192 360 408 3\n",
      "195 216 291 1\n",
      "195 260 325 4\n",
      "196 315 371 1\n",
      "198 264 330 3\n",
      "198 336 390 4\n",
      "200 210 290 2\n",
      "200 375 425 1\n",
      "201 268 335 1\n",
      "204 253 325 1\n",
      "204 272 340 1\n",
      "207 224 305 1\n",
      "207 276 345 2\n",
      "208 306 370 1\n",
      "210 280 350 7\n",
      "213 284 355 1\n",
      "216 288 360 3\n",
      "219 292 365 1\n",
      "220 231 319 2\n",
      "222 296 370 1\n",
      "225 272 353 1\n",
      "225 300 375 3\n",
      "228 304 380 2\n",
      "228 325 397 1\n",
      "231 308 385 5\n",
      "234 312 390 2\n",
      "237 316 395 1\n",
      "238 240 338 2\n",
      "240 252 348 8\n",
      "240 275 365 3\n",
      "240 320 400 4\n",
      "243 324 405 1\n",
      "246 328 410 1\n",
      "249 332 415 1\n",
      "252 275 373 4\n",
      "260 273 377 2\n",
      "260 288 388 3\n",
      "264 315 411 4\n",
      "266 312 410 1\n",
      "280 294 406 1\n",
      "[0, 0, 0, 0, 0, 0, 0, 0, 0, 0, 0, 0, 1, 0, 0, 0, 0, 0, 0, 0, 0, 0, 0, 0, 1, 0, 0, 0, 0, 0, 1, 0, 0, 0, 0, 0, 1, 0, 0, 0, 1, 0, 0, 0, 0, 0, 0, 0, 1, 0, 0, 0, 0, 0, 0, 0, 1, 0, 0, 0, 2, 0, 0, 0, 0, 0, 0, 0, 0, 0, 1, 0, 1, 0, 0, 0, 0, 0, 0, 0, 1, 0, 0, 0, 2, 0, 0, 0, 0, 0, 2, 0, 0, 0, 0, 0, 1, 0, 0, 0, 0, 0, 0, 0, 0, 0, 0, 0, 1, 0, 0, 0, 1, 0, 0, 0, 0, 0, 0, 0, 3, 0, 0, 0, 0, 0, 1, 0, 0, 0, 0, 0, 2, 0, 0, 0, 0, 0, 0, 0, 1, 0, 0, 0, 2, 0, 0, 0, 0, 0, 1, 0, 0, 0, 1, 0, 1, 0, 0, 0, 1, 0, 0, 0, 0, 0, 0, 0, 3, 0, 0, 0, 0, 0, 0, 0, 1, 0, 0, 0, 3, 0, 1, 0, 0, 0, 0, 0, 0, 0, 0, 0, 1, 0, 0, 0, 0, 0, 1, 0, 1, 0, 0, 0, 1, 0, 0, 0, 1, 0, 2, 0, 0, 0, 0, 0, 1, 0, 0, 0, 1, 0, 0, 0, 1, 0, 0, 0, 1, 0, 0, 0, 0, 0, 1, 0, 0, 0, 0, 0, 4, 0, 0, 0, 0, 0, 0, 0, 0, 0, 0, 0, 3, 0, 0, 0, 0, 0, 0, 0, 1, 0, 0, 0, 2, 0, 0, 0, 0, 0, 2, 0, 0, 0, 0, 0, 1, 0, 0, 0, 3, 0, 0, 0, 0, 0, 1, 0, 2, 0, 0, 0, 0, 0, 0, 0, 0, 0, 0, 0, 2, 0, 0, 0, 0, 0, 1, 0, 1, 0, 0, 0, 2, 0, 0, 0, 0, 0, 0, 0, 1, 0, 0, 0, 1, 0, 0, 0, 0, 0, 2, 0, 0, 0, 0, 0, 3, 0, 0, 0, 1, 0, 0, 0, 0, 0, 0, 0, 1, 0, 1, 0, 1, 0, 0, 0, 0, 0, 0, 0, 4, 0, 0, 0, 1, 0, 0, 0, 0, 0, 0, 0, 1, 0, 1, 0, 0, 0, 1, 0, 1, 0, 0, 0, 1, 0, 0, 0, 0, 0, 2, 0, 1, 0, 0, 0, 3, 0, 0, 0, 1, 0, 0, 0, 0, 0, 0, 0, 2, 0, 0, 0, 0, 0, 0, 0, 1, 0, 1, 0, 5, 0, 0, 0, 0, 0, 0, 0, 0, 0, 0, 0, 2, 0, 0, 0, 0, 0, 0, 0, 2, 0, 1, 0, 1, 0, 0, 0, 1, 0, 2, 0, 0, 0, 0, 0, 2, 0, 0, 0, 0, 0, 2, 0, 0, 0, 0, 0, 2, 0, 0, 0, 0, 0, 0, 0, 1, 0, 0, 0, 4, 0, 0, 0, 0, 0, 0, 0, 0, 0, 1, 0, 1, 0, 1, 0, 0, 0, 0, 0, 0, 0, 0, 0, 4, 0, 0, 0, 0, 0, 2, 0, 0, 0, 0, 0, 1, 0, 0, 0, 2, 0, 0, 0, 0, 0, 0, 0, 3, 0, 0, 0, 1, 0, 0, 0, 0, 0, 0, 0, 3, 0, 0, 0, 1, 0, 2, 0, 0, 0, 0, 0, 2, 0, 0, 0, 0, 0, 0, 0, 3, 0, 0, 0, 1, 0, 0, 0, 0, 0, 2, 0, 1, 0, 0, 0, 2, 0, 0, 0, 0, 0, 0, 0, 0, 0, 0, 0, 2, 0, 0, 0, 0, 0, 1, 0, 0, 0, 1, 0, 3, 0, 0, 0, 0, 0, 0, 0, 1, 0, 0, 0, 2, 0, 0, 0, 2, 0, 0, 0, 0, 0, 0, 0, 3, 0, 0, 0, 0, 0, 4, 0, 0, 0, 0, 0, 1, 0, 0, 0, 1, 0, 0, 0, 1, 0, 1, 0, 1, 0, 1, 0, 0, 0, 0, 0, 0, 0, 0, 0, 5, 0, 0, 0, 0, 0, 0, 0, 0, 0, 0, 0, 4, 0, 0, 0, 0, 0, 0, 0, 2, 0, 0, 0, 2, 0, 0, 0, 0, 0, 2, 0, 0, 0, 0, 0, 1, 0, 0, 0, 2, 0, 1, 0, 1, 0, 0, 0, 1, 0, 0, 0, 0, 0, 1, 0, 0, 0, 0, 0, 6, 0, 0, 0, 0, 0, 0, 0, 2, 0, 0, 0, 1, 0, 0, 0, 1, 0, 0, 0, 0, 0, 0, 0, 1, 0, 0, 0, 1, 0, 1, 0, 0, 0, 0, 0, 4, 0, 0, 0, 2, 0, 0, 0, 0, 0, 0, 0, 1, 0, 2, 0, 0, 0, 0, 0, 0, 0, 0, 0, 4, 0, 1, 0, 1, 0, 0, 0, 0, 0, 0, 0, 3, 0, 0, 0, 0, 0, 1, 0, 2, 0, 0, 0, 1, 0, 0, 0, 0, 0, 2, 0, 0, 0, 0, 0, 2, 0, 0, 0, 0, 0, 0, 0, 0, 0, 0, 0, 2, 0, 0, 0, 1, 0, 0, 0, 1, 0, 0, 0, 8, 0, 0, 0, 0, 0, 0, 0, 0, 0, 1, 0, 1, 0, 0, 0, 0, 0, 1, 0, 0, 0, 0, 0, 3, 0, 0, 0, 0, 0, 2, 0, 0, 0, 1, 0, 1, 0, 0, 0, 3, 0, 1, 0, 1, 0, 0, 0, 1, 0, 0, 0, 0, 0, 0, 0, 1, 0, 0, 0, 4, 0, 0, 0, 0, 0, 0, 0, 0, 0, 2, 0, 2, 0, 0, 0, 0, 0, 2, 0, 2, 0, 0, 0, 5, 0, 0, 0, 1, 0, 1, 0, 0, 0, 0, 0, 3, 0, 0, 0, 0, 0, 0, 0, 0, 0, 0, 0, 1, 0, 1, 0, 2, 0, 0, 0, 0, 0, 0, 0, 4, 0, 0, 0, 0, 0, 1, 0, 0, 0, 0, 0, 1, 0, 0, 0, 0, 0, 0, 0, 1, 0, 0, 0, 1, 0, 1, 0, 1, 0, 4, 0, 1, 0, 0, 0, 1, 0, 0, 0, 1]\n",
      "840 8\n"
     ]
    }
   ],
   "source": [
    "max_per = 1000\n",
    "raiz_x = {x * x: x for x in range(1000)}\n",
    "sols = [0] * 1001\n",
    "for a in range(1, (max_per - 3) // 3 + 1):\n",
    "    a2 = x_x2[a]\n",
    "    for b in range (a + 1, (max_per - a - 1) // 2 + 1):\n",
    "        c2 = a2 + b * b\n",
    "        c = raiz_x.get(c2, None)\n",
    "        if c != None and (a + b + c) <= max_per:\n",
    "            sols[a + b + c] += 1\n",
    "max_sols = max(sols)\n",
    "ip = sols.index(max_sols)\n",
    "print(ip, max_sols)            "
   ]
  },
  {
   "cell_type": "markdown",
   "metadata": {
    "slideshow": {
     "slide_type": "subslide"
    }
   },
   "source": [
    "## Exercício 1: 100 lâmpadas\n",
    "\n",
    "Há 100 lâmpadas em fila, numeradas sequencialmente de 1 a 100. Inicialmente todas estão apagadas.  \n",
    "Você vai passar 100 vezes pela fila, examinando as lâmpadas de acordo com a regra descrita abaixo.  \n",
    "Toda vez que você examinar uma lâmpada, o estado dela muda (se a lâmpada estiver apagada, ela acende; se estiver acesa, ela apaga).  \n",
    "Na primeira vez, examine todas as lâmpadas.   \n",
    "Na segunda vez, examine apenas as lâmpadas 2, 4, 6, ...  \n",
    "Na terceira vez, examine apenas as lâmpadas 3, 6, 9, ...  \n",
    "Repita esse processo até examinar apenas a lâmpada número 100.  \n",
    "\n",
    "Quando você terminar, quais lâmpadas estarão acesas?"
   ]
  },
  {
   "cell_type": "code",
   "execution_count": null,
   "metadata": {
    "slideshow": {
     "slide_type": "subslide"
    },
    "solution2": "hidden",
    "solution2_first": true
   },
   "outputs": [],
   "source": []
  },
  {
   "cell_type": "code",
   "execution_count": 11,
   "metadata": {
    "solution2": "hidden"
   },
   "outputs": [
    {
     "data": {
      "text/plain": [
       "[1, 4, 9, 16, 25, 36, 49, 64, 81, 100]"
      ]
     },
     "execution_count": 11,
     "metadata": {},
     "output_type": "execute_result"
    }
   ],
   "source": [
    "lâmpadas = [False] * 101\n",
    "for i in range (1, 101):\n",
    "    for j in range (i, 101, i):\n",
    "        lâmpadas[j] = not lâmpadas[j]\n",
    "acesas = [i for i in range(1, 101) if lâmpadas[i]]\n",
    "acesas"
   ]
  },
  {
   "cell_type": "markdown",
   "metadata": {
    "slideshow": {
     "slide_type": "subslide"
    }
   },
   "source": [
    "## Exercício 2: Contagem de letras\n",
    "Escreva um programa que:\n",
    "\n",
    "1. leia uma linha de texto\n",
    "2. imprima uma tabela com cada uma das letras que existem no texto, em ordem alfabética, junto com o número de vezes em que essa letra ocorre. \n",
    "\n",
    "Ignore maiúsculas/minúsculas e acentuação."
   ]
  },
  {
   "cell_type": "code",
   "execution_count": null,
   "metadata": {
    "slideshow": {
     "slide_type": "subslide"
    },
    "solution2": "hidden",
    "solution2_first": true
   },
   "outputs": [],
   "source": []
  },
  {
   "cell_type": "code",
   "execution_count": null,
   "metadata": {
    "solution2": "hidden"
   },
   "outputs": [],
   "source": []
  },
  {
   "cell_type": "markdown",
   "metadata": {
    "slideshow": {
     "slide_type": "subslide"
    }
   },
   "source": [
    "## Exercício 3: Substituição de texto\n",
    "Escreva um programa que:\n",
    "\n",
    "1.   leia uma linha de texto \n",
    "2.   leia uma segunda linha, com duas *strings* `antes` e `depois` separadas por espaços\n",
    "3.   exiba o texto lido inicialmente com todas as ocorrências de `antes` substituídas por `depois`."
   ]
  },
  {
   "cell_type": "code",
   "execution_count": null,
   "metadata": {
    "solution2": "hidden",
    "solution2_first": true
   },
   "outputs": [],
   "source": []
  },
  {
   "cell_type": "code",
   "execution_count": null,
   "metadata": {
    "solution2": "hidden"
   },
   "outputs": [],
   "source": []
  }
 ],
 "metadata": {
  "celltoolbar": "Slideshow",
  "kernelspec": {
   "display_name": "Python 3",
   "language": "python",
   "name": "python3"
  },
  "language_info": {
   "codemirror_mode": {
    "name": "ipython",
    "version": 3
   },
   "file_extension": ".py",
   "mimetype": "text/x-python",
   "name": "python",
   "nbconvert_exporter": "python",
   "pygments_lexer": "ipython3",
   "version": "3.6.4"
  },
  "latex_envs": {
   "LaTeX_envs_menu_present": true,
   "autocomplete": true,
   "bibliofile": "biblio.bib",
   "cite_by": "apalike",
   "current_citInitial": 1,
   "eqLabelWithNumbers": true,
   "eqNumInitial": 1,
   "hotkeys": {
    "equation": "Ctrl-E",
    "itemize": "Ctrl-I"
   },
   "labels_anchors": false,
   "latex_user_defs": false,
   "report_style_numbering": false,
   "user_envs_cfg": false
  },
  "toc": {
   "nav_menu": {
    "height": "188px",
    "width": "297px"
   },
   "number_sections": false,
   "sideBar": true,
   "skip_h1_title": true,
   "title_cell": "Table of Contents",
   "title_sidebar": "Contents",
   "toc_cell": false,
   "toc_position": {},
   "toc_section_display": true,
   "toc_window_display": false
  },
  "varInspector": {
   "cols": {
    "lenName": 16,
    "lenType": 16,
    "lenVar": 40
   },
   "kernels_config": {
    "python": {
     "delete_cmd_postfix": "",
     "delete_cmd_prefix": "del ",
     "library": "var_list.py",
     "varRefreshCmd": "print(var_dic_list())"
    },
    "r": {
     "delete_cmd_postfix": ") ",
     "delete_cmd_prefix": "rm(",
     "library": "var_list.r",
     "varRefreshCmd": "cat(var_dic_list()) "
    }
   },
   "position": {
    "height": "518px",
    "left": "1310px",
    "right": "20px",
    "top": "120px",
    "width": "350px"
   },
   "types_to_exclude": [
    "module",
    "function",
    "builtin_function_or_method",
    "instance",
    "_Feature"
   ],
   "window_display": false
  }
 },
 "nbformat": 4,
 "nbformat_minor": 2
}
