{
 "cells": [
  {
   "cell_type": "code",
   "execution_count": 1,
   "metadata": {
    "ExecuteTime": {
     "end_time": "2018-04-25T20:20:03.061335Z",
     "start_time": "2018-04-25T20:20:03.052178Z"
    },
    "init_cell": true,
    "slideshow": {
     "slide_type": "skip"
    }
   },
   "outputs": [],
   "source": [
    "from IPython.core.interactiveshell import InteractiveShell\n",
    "InteractiveShell.ast_node_interactivity = \"all\""
   ]
  },
  {
   "cell_type": "markdown",
   "metadata": {
    "slideshow": {
     "slide_type": "slide"
    }
   },
   "source": [
    "# Funções"
   ]
  },
  {
   "cell_type": "markdown",
   "metadata": {
    "slideshow": {
     "slide_type": "fragment"
    }
   },
   "source": [
    "Uma **_função_** é uma estrutura capaz de agrupar e dar nome a uma sequência de comandos que são executados quando ela é chamada.\n",
    "\n",
    "Funções nos permitem implementar pelo menos dois conceitos fundamentais para a resolução de problemas complexos:\n",
    "\n",
    "-   **_Modularização_**, isto é, a decomposição de uma solução complexa em partes mais simples e, portanto, mais fáceis de serem concebidas, implementadas, depuradas e mantidas.\n",
    "-   **_Abstração_**, isto é, a possibilidade de tratarmos uma sequência lógica de comandos como uma “caixa-preta” à qual a gente se refere pelo nome. Assim, podemos nos concentrar *no que ela faz* sem nos preocuparmos com *como ela faz*. "
   ]
  },
  {
   "cell_type": "markdown",
   "metadata": {
    "slideshow": {
     "slide_type": "subslide"
    }
   },
   "source": [
    "Em Python, uma função tem a seguinte estrutura básica:\n",
    "```python\n",
    "def nome_da_função(lista_de_parâmetros):\n",
    "    comando_1\n",
    "    comando_2\n",
    "    ...\n",
    "    comando_n\n",
    "    return resultado_da_função\n",
    "```\n",
    "Quando chamada, uma função inicializa sua *lista_de_parâmetros*, executa os comandos que a compõem e termina retornando seu resultado ao ponto de onde foi chamada.\n",
    "\n",
    "Como veremos nos exemplos a seguir, a *lista_de_parâmetros*, o *resultado_da_função* e o próprio comando **_return_** são elementos opcionais."
   ]
  },
  {
   "cell_type": "markdown",
   "metadata": {
    "slideshow": {
     "slide_type": "slide"
    }
   },
   "source": [
    "## Como definir e chamar uma nova função\n",
    "Já exercitamos bastante a chamada de funções disponíveis no sistema e a passagem de argumentos para elas. Vamos ver como fazer isso com funções de nossa autoria."
   ]
  },
  {
   "cell_type": "markdown",
   "metadata": {
    "slideshow": {
     "slide_type": "subslide"
    }
   },
   "source": [
    "### Exemplo: Uma função para calcular o dobro de um número\n",
    "Uma função para calcular o dobro de um número $x$ poderia ser definida como..."
   ]
  },
  {
   "cell_type": "code",
   "execution_count": 2,
   "metadata": {},
   "outputs": [],
   "source": [
    "def dobro(x):\n",
    "    dois_x = x + x\n",
    "    return dois_x"
   ]
  },
  {
   "cell_type": "markdown",
   "metadata": {},
   "source": [
    "e poderia ser chamada assim..."
   ]
  },
  {
   "cell_type": "code",
   "execution_count": 3,
   "metadata": {},
   "outputs": [
    {
     "name": "stdout",
     "output_type": "stream",
     "text": [
      "7.0\n"
     ]
    }
   ],
   "source": [
    "d = dobro(3) + dobro(0.5)\n",
    "print(d)"
   ]
  },
  {
   "cell_type": "markdown",
   "metadata": {},
   "source": [
    "Na definição de $\\mathit{dobro}$, a variável $\\mathit{dois\\_x}$ é desnecessária. Poderíamos ter escrito simplesmente..."
   ]
  },
  {
   "cell_type": "code",
   "execution_count": 4,
   "metadata": {},
   "outputs": [],
   "source": [
    "def dobro(x):\n",
    "    return x + x"
   ]
  },
  {
   "cell_type": "code",
   "execution_count": 5,
   "metadata": {},
   "outputs": [
    {
     "name": "stdout",
     "output_type": "stream",
     "text": [
      "7.0\n"
     ]
    }
   ],
   "source": [
    "d = dobro(3) + dobro(0.5)\n",
    "print(d)"
   ]
  },
  {
   "cell_type": "markdown",
   "metadata": {},
   "source": [
    "**CUIDADO**  \n",
    "\n",
    "> Note que, ao contrário de muitas outras linguagens de alto nível, Python não controla os tipos dos parâmetros e resultados de uma função.\n",
    ">  \n",
    "> Essa característica de Python faz com que, embora nossa função se chame $\\mathit{dobro}$ e tenha sido desenhada para _dobrar um valor numérico_, ela não vai reclamar e vai processar “corretamente” um argumento de qualquer tipo onde o operador **+** esteja definido. "
   ]
  },
  {
   "cell_type": "code",
   "execution_count": 6,
   "metadata": {},
   "outputs": [
    {
     "name": "stdout",
     "output_type": "stream",
     "text": [
      "abcabc\n"
     ]
    }
   ],
   "source": [
    "s = dobro('abc')\n",
    "print(s)"
   ]
  },
  {
   "cell_type": "code",
   "execution_count": 7,
   "metadata": {},
   "outputs": [
    {
     "name": "stdout",
     "output_type": "stream",
     "text": [
      "[1, 'a', 2.3, 1, 'a', 2.3]\n"
     ]
    }
   ],
   "source": [
    "l = dobro([1, 'a', 2.3])\n",
    "print(l)"
   ]
  },
  {
   "cell_type": "markdown",
   "metadata": {},
   "source": [
    "## Uma função pode não ter uma *lista de parâmetros*"
   ]
  },
  {
   "cell_type": "markdown",
   "metadata": {},
   "source": [
    "### Exemplo: Ler e validar uma entrada numérica\n",
    "Queremos ler repetidamente a entrada até receber um inteiro não negativo e retornar esse número.  \n",
    "Uma função com essa finalidade poderia ser definida como..."
   ]
  },
  {
   "cell_type": "code",
   "execution_count": 8,
   "metadata": {},
   "outputs": [],
   "source": [
    "def ler_int_não_neg():\n",
    "    x = None\n",
    "    while x is None:\n",
    "        s = input('Digite um inteiro não-negativo: ')\n",
    "        if s.isnumeric():\n",
    "            x = int(s)\n",
    "    return x"
   ]
  },
  {
   "cell_type": "code",
   "execution_count": 9,
   "metadata": {},
   "outputs": [
    {
     "name": "stdout",
     "output_type": "stream",
     "text": [
      "12345\n"
     ]
    }
   ],
   "source": [
    "print(ler_int_não_neg())"
   ]
  },
  {
   "cell_type": "markdown",
   "metadata": {},
   "source": [
    "Note que, mesmo quando uma função não tem uma *lista de parâmetros*, o par de parênteses é necessário tanto na definição quanto na chamada."
   ]
  },
  {
   "cell_type": "markdown",
   "metadata": {},
   "source": [
    "#### **Curiosidade:** Essa função só aceita inteiros não-negativos. Seria possível aceitar um número qualquer?\n",
    "Nesse caso, o método _isnumeric_ não seria adequado porque ele rejeitaria um possível sinal à frente do número, bem como um possível ponto decimal.  \n",
    "Uma saída seria usar o par _try... except_, que estudaremos em detalhe mais tarde. O comando *try* permite *experimentar a execução de um ou mais comandos* e, se ocorrer uma exceção, *capturá-la* e dar um tratamento específico a ela. Por exemplo, ..."
   ]
  },
  {
   "cell_type": "code",
   "execution_count": 10,
   "metadata": {},
   "outputs": [],
   "source": [
    "%reset -f\n",
    "\n",
    "def ler_num():\n",
    "    while True:\n",
    "        s = input('Digite um número qualquer: ')\n",
    "        try:\n",
    "            x = float(s)\n",
    "            break\n",
    "        except:\n",
    "            pass\n",
    "    return x"
   ]
  },
  {
   "cell_type": "code",
   "execution_count": 11,
   "metadata": {},
   "outputs": [
    {
     "name": "stdout",
     "output_type": "stream",
     "text": [
      "-12.345\n"
     ]
    }
   ],
   "source": [
    "print(ler_num())"
   ]
  },
  {
   "cell_type": "markdown",
   "metadata": {},
   "source": [
    "#### **Curiosidade:** Essa função sempre retorna um _float_. Seria possível retornar um tipo mais preciso?\n",
    "É possível resolver esse problema _aninhando_ pares _try... except_ e tentar reconhecer a entrada indo do tipo mais restrito para o mais abrangente. Neste caso, primeiro vamos tentar reconhecer a entrada como um _int_ e depois, se não funcionar, como um _float_."
   ]
  },
  {
   "cell_type": "code",
   "execution_count": 12,
   "metadata": {},
   "outputs": [],
   "source": [
    "%reset -f\n",
    "\n",
    "def ler_num():\n",
    "    while True:\n",
    "        s = input('Digite um número qualquer: ')\n",
    "        try:\n",
    "            x = int(s)\n",
    "            break\n",
    "        except:\n",
    "            try:\n",
    "                x = float(s)\n",
    "                break\n",
    "            except:\n",
    "                pass\n",
    "    return x"
   ]
  },
  {
   "cell_type": "code",
   "execution_count": 13,
   "metadata": {},
   "outputs": [
    {
     "name": "stdout",
     "output_type": "stream",
     "text": [
      "<class 'int'> -12345\n"
     ]
    }
   ],
   "source": [
    "x = ler_num()\n",
    "print(type(x), x)"
   ]
  },
  {
   "cell_type": "code",
   "execution_count": 14,
   "metadata": {},
   "outputs": [
    {
     "name": "stdout",
     "output_type": "stream",
     "text": [
      "<class 'float'> -3.1416\n"
     ]
    }
   ],
   "source": [
    "y = ler_num()\n",
    "print(type(y), y)"
   ]
  },
  {
   "cell_type": "markdown",
   "metadata": {},
   "source": [
    "## Uma função pode produzir um efeito sem retornar qualquer resultado"
   ]
  },
  {
   "cell_type": "markdown",
   "metadata": {},
   "source": [
    "### Exemplo: Exibir um cabeçalho\n",
    "Quando uma função apenas realiza uma tarefa sem retornar um resultado específico pode-se dispensar o comando **return**. Nesse caso, a função terminará quando se esgotar seu bloco de comandos. Por exemplo, ..."
   ]
  },
  {
   "cell_type": "code",
   "execution_count": 15,
   "metadata": {},
   "outputs": [
    {
     "name": "stdout",
     "output_type": "stream",
     "text": [
      "....A.Revolução.dos.Bichos....\n",
      "........George.Orwell.........\n",
      "\n",
      "exibir_cabeçalho() terminou\n"
     ]
    }
   ],
   "source": [
    "%reset -f\n",
    "\n",
    "def exibir_cabeçalho():\n",
    "    título = 'A Revolução dos Bichos'.center(30)\n",
    "    autor = 'George Orwell'.center(30)\n",
    "    # espaços subbstituídos por pontos só para “enxergar” o resultado\n",
    "    print(título.replace(' ', '.'))\n",
    "    print(autor.replace(' ', '.'))\n",
    "\n",
    "exibir_cabeçalho()\n",
    "print(\"\\nexibir_cabeçalho() terminou\")"
   ]
  },
  {
   "cell_type": "markdown",
   "metadata": {},
   "source": [
    "## Uma função pode retornar mais do que um resultado"
   ]
  },
  {
   "cell_type": "markdown",
   "metadata": {},
   "source": [
    "### Exemplo: Contar maiúsculas, minúsculas e outros caracteres numa *string*\n",
    "Uma função pode retornar mais do que um resultado usando uma tupla para isso..."
   ]
  },
  {
   "cell_type": "code",
   "execution_count": 16,
   "metadata": {},
   "outputs": [
    {
     "name": "stdout",
     "output_type": "stream",
     "text": [
      "(4, 12, 6)\n",
      "(16, 0, 6)\n",
      "(0, 16, 6)\n"
     ]
    }
   ],
   "source": [
    "%reset -f\n",
    "\n",
    "maiúsculas = 'ABCDEFGHIJKLMNOPQRSTUVWXYZ'\n",
    "minúsculas = 'abcdefghijklmnopqrstuvwxyz'\n",
    "\n",
    "def mai_min(s):\n",
    "    nmai, nmin, noutros = 0, 0, 0\n",
    "    for c in s:\n",
    "        if c in maiúsculas:\n",
    "            nmai += 1\n",
    "        elif c in minúsculas:\n",
    "            nmin += 1\n",
    "        else:\n",
    "            noutros += 1\n",
    "    return nmai, nmin, noutros\n",
    "\n",
    "print(mai_min('The Quick Brown Fox...'))\n",
    "print(mai_min('The Quick Brown Fox...'.upper()))\n",
    "print(mai_min('The Quick Brown Fox...'.lower()))\n"
   ]
  },
  {
   "cell_type": "markdown",
   "metadata": {},
   "source": [
    "## Uma função pode chamar outras funções"
   ]
  },
  {
   "cell_type": "markdown",
   "metadata": {},
   "source": [
    "### Exemplo: Calcular a soma dos quadrados de três parâmetros numéricos\n",
    "Neste caso podemos dividir nosso problema em dois:\n",
    "\n",
    "-   criar uma função $\\mathit{quadrado}(x)$ para calcular o quadrado de um número\n",
    "-   criar uma função $\\mathit{soma\\_quadrados}(a, b, c)$ para resolver o problema proposto usando a função anterior.\n",
    "\n",
    "Para que $\\mathit{soma\\_quadrados}$ possa usar $\\mathit{quadrado}$, a definição de $\\mathit{quadrado}$ deve preceder a definição de $\\mathit{soma\\_quadrados}$, como mostrado a seguir..."
   ]
  },
  {
   "cell_type": "code",
   "execution_count": 17,
   "metadata": {},
   "outputs": [
    {
     "name": "stdout",
     "output_type": "stream",
     "text": [
      "50\n"
     ]
    }
   ],
   "source": [
    "%reset -f\n",
    "\n",
    "def quadrado(x):\n",
    "    return x * x\n",
    "\n",
    "def soma_quadrados(a, b, c):\n",
    "    return quadrado(a) + quadrado(b) + quadrado(c)\n",
    "\n",
    "print(soma_quadrados(3, 4, 5))"
   ]
  },
  {
   "cell_type": "markdown",
   "metadata": {},
   "source": [
    "## Uma função pode chamar a si mesma"
   ]
  },
  {
   "cell_type": "markdown",
   "metadata": {},
   "source": [
    "### Exemplo: Calcular o fatorial de um inteiro não-negativo\n",
    "Dado $n$ inteiro, calcular $n!$, sabendo-se que \n",
    "$n! = 1 \\times 2 \\times \\ldots \\times n$, para $n \\gt 0$ e que $0! = 1$."
   ]
  },
  {
   "cell_type": "markdown",
   "metadata": {},
   "source": [
    "**Desenvolvimento da solução**  \n",
    "Vamos colocar a definição do fatorial na forma de uma especificação de função:  \n",
    "$f(n) = 1 \\times 2 \\times \\ldots \\times n$  \n",
    "\n",
    "Uma especificação como essa pode ser facilmente expressa em forma recursiva (isto é, referindo-se a si mesma), se notarmos que:  \n",
    "$f(n - 1) = 1 \\times 2 \\times \\ldots \\times (n - 1)$ e, portanto,  \n",
    "$f(n) = f(n - 1) \\times n$, para $n > 0$."
   ]
  },
  {
   "cell_type": "markdown",
   "metadata": {},
   "source": [
    "Toda definição recursiva (ou recorrente) precisa de uma “âncora”, isto é, um ponto fixo capaz de interromper a recursividade (ou a recorrência).\n",
    "\n",
    "Neste caso, como $f(n)$ depende de $f(n - 1)$, $\\,f(n - 1)$ \n",
    "depende de $f(n - 2)$ e assim por diante, \n",
    "uma âncora razoável será $f(0)$ que sabemos ser igual a $1$.\n",
    "\n",
    "A solução, portanto, pode ser modelada por duas expressões:  \n",
    "$f(n) = f(n - 1) \\times n$, para $n > 0$  \n",
    "$f(0) = 1$\n",
    "\n",
    "Isso é o bastante para que implementemos a função desejada."
   ]
  },
  {
   "cell_type": "code",
   "execution_count": 18,
   "metadata": {},
   "outputs": [
    {
     "name": "stdout",
     "output_type": "stream",
     "text": [
      "f(0)  = 1\n",
      "f(1)  = 1\n",
      "f(5)  = 120\n",
      "f(10) = 3628800\n"
     ]
    }
   ],
   "source": [
    "%reset -f\n",
    "\n",
    "def f(n):\n",
    "    if n > 0:\n",
    "        return f(n - 1) * n\n",
    "    else:\n",
    "        return 1\n",
    "\n",
    "print('f(0)  =', f(0))\n",
    "print('f(1)  =', f(1))\n",
    "print('f(5)  =', f(5))\n",
    "print('f(10) =', f(10))\n"
   ]
  },
  {
   "cell_type": "markdown",
   "metadata": {},
   "source": [
    "Note que nossa função não “reclama” ao receber um argumento inválido, que lhe seja passado de forma acidental ou intencional."
   ]
  },
  {
   "cell_type": "code",
   "execution_count": 19,
   "metadata": {},
   "outputs": [
    {
     "name": "stdout",
     "output_type": "stream",
     "text": [
      "f(-5)  = 1\n"
     ]
    }
   ],
   "source": [
    "print('f(-5)  =', f(-5))"
   ]
  },
  {
   "cell_type": "markdown",
   "metadata": {},
   "source": [
    "Uma forma de criar uma certa proteção é utilizando _asserções_.   \n",
    "Uma asserção é uma expressão lógica que se acredita verdadeira, definida num comando **assert**:    \n",
    "-   Se a expressão lógica for verdadeira, nada acontece. Em outras palavras, **assert** se comporta como **pass**.\n",
    "-   Se a expressão lógica for falsa, é gerada uma exceção, opcionalmente acompanhada de uma explicação fornecida pelo programador.\n",
    "\n",
    "Neste caso, por exemplo, poderíamos escrever..."
   ]
  },
  {
   "cell_type": "code",
   "execution_count": 20,
   "metadata": {},
   "outputs": [
    {
     "name": "stdout",
     "output_type": "stream",
     "text": [
      "f(0)  = 1\n",
      "f(1)  = 1\n",
      "f(5)  = 120\n",
      "f(10) = 3628800\n"
     ]
    }
   ],
   "source": [
    "%reset -f\n",
    "\n",
    "def f(n):\n",
    "    assert isinstance(n, int), \\\n",
    "        f\"o argumento deveria ser do tipo <class 'int'> mas é {type(n)}\"\n",
    "    assert n >= 0, \\\n",
    "        f\"o argumento não pode ser negativo mas é {n}\"\n",
    "    \n",
    "    if n > 0:\n",
    "        return f(n - 1) * n\n",
    "    else:\n",
    "        return 1\n",
    "\n",
    "print('f(0)  =', f(0))\n",
    "print('f(1)  =', f(1))\n",
    "print('f(5)  =', f(5))\n",
    "print('f(10) =', f(10))\n"
   ]
  },
  {
   "cell_type": "markdown",
   "metadata": {},
   "source": [
    "Veja que nada mudou nos exemplos válidos. Já nos casos inválidos..."
   ]
  },
  {
   "cell_type": "code",
   "execution_count": 21,
   "metadata": {},
   "outputs": [
    {
     "ename": "AssertionError",
     "evalue": "o argumento deveria ser do tipo <class 'int'> mas é <class 'str'>",
     "output_type": "error",
     "traceback": [
      "\u001b[0;31m---------------------------------------------------------------------------\u001b[0m",
      "\u001b[0;31mAssertionError\u001b[0m                            Traceback (most recent call last)",
      "\u001b[0;32m<ipython-input-21-6793c4d60eec>\u001b[0m in \u001b[0;36m<module>\u001b[0;34m()\u001b[0m\n\u001b[0;32m----> 1\u001b[0;31m \u001b[0mprint\u001b[0m\u001b[0;34m(\u001b[0m\u001b[0;34m'f(\"a\")  ='\u001b[0m\u001b[0;34m,\u001b[0m \u001b[0mf\u001b[0m\u001b[0;34m(\u001b[0m\u001b[0;34m\"a\"\u001b[0m\u001b[0;34m)\u001b[0m\u001b[0;34m)\u001b[0m\u001b[0;34m\u001b[0m\u001b[0m\n\u001b[0m",
      "\u001b[0;32m<ipython-input-20-92be3a760a45>\u001b[0m in \u001b[0;36mf\u001b[0;34m(n)\u001b[0m\n\u001b[1;32m      2\u001b[0m \u001b[0;34m\u001b[0m\u001b[0m\n\u001b[1;32m      3\u001b[0m \u001b[0;32mdef\u001b[0m \u001b[0mf\u001b[0m\u001b[0;34m(\u001b[0m\u001b[0mn\u001b[0m\u001b[0;34m)\u001b[0m\u001b[0;34m:\u001b[0m\u001b[0;34m\u001b[0m\u001b[0m\n\u001b[0;32m----> 4\u001b[0;31m     \u001b[0;32massert\u001b[0m \u001b[0misinstance\u001b[0m\u001b[0;34m(\u001b[0m\u001b[0mn\u001b[0m\u001b[0;34m,\u001b[0m \u001b[0mint\u001b[0m\u001b[0;34m)\u001b[0m\u001b[0;34m,\u001b[0m         \u001b[0;34mf\"o argumento deveria ser do tipo <class 'int'> mas é {type(n)}\"\u001b[0m\u001b[0;34m\u001b[0m\u001b[0m\n\u001b[0m\u001b[1;32m      5\u001b[0m     \u001b[0;32massert\u001b[0m \u001b[0mn\u001b[0m \u001b[0;34m>=\u001b[0m \u001b[0;36m0\u001b[0m\u001b[0;34m,\u001b[0m         \u001b[0;34mf\"o argumento não pode ser negativo mas é {n}\"\u001b[0m\u001b[0;34m\u001b[0m\u001b[0m\n\u001b[1;32m      6\u001b[0m \u001b[0;34m\u001b[0m\u001b[0m\n",
      "\u001b[0;31mAssertionError\u001b[0m: o argumento deveria ser do tipo <class 'int'> mas é <class 'str'>"
     ]
    }
   ],
   "source": [
    "print('f(\"a\")  =', f(\"a\"))"
   ]
  },
  {
   "cell_type": "code",
   "execution_count": 22,
   "metadata": {},
   "outputs": [
    {
     "ename": "AssertionError",
     "evalue": "o argumento não pode ser negativo mas é -5",
     "output_type": "error",
     "traceback": [
      "\u001b[0;31m---------------------------------------------------------------------------\u001b[0m",
      "\u001b[0;31mAssertionError\u001b[0m                            Traceback (most recent call last)",
      "\u001b[0;32m<ipython-input-22-b17ddd6c5ea9>\u001b[0m in \u001b[0;36m<module>\u001b[0;34m()\u001b[0m\n\u001b[0;32m----> 1\u001b[0;31m \u001b[0mprint\u001b[0m\u001b[0;34m(\u001b[0m\u001b[0;34m'f(-5)  ='\u001b[0m\u001b[0;34m,\u001b[0m \u001b[0mf\u001b[0m\u001b[0;34m(\u001b[0m\u001b[0;34m-\u001b[0m\u001b[0;36m5\u001b[0m\u001b[0;34m)\u001b[0m\u001b[0;34m)\u001b[0m\u001b[0;34m\u001b[0m\u001b[0m\n\u001b[0m",
      "\u001b[0;32m<ipython-input-20-92be3a760a45>\u001b[0m in \u001b[0;36mf\u001b[0;34m(n)\u001b[0m\n\u001b[1;32m      3\u001b[0m \u001b[0;32mdef\u001b[0m \u001b[0mf\u001b[0m\u001b[0;34m(\u001b[0m\u001b[0mn\u001b[0m\u001b[0;34m)\u001b[0m\u001b[0;34m:\u001b[0m\u001b[0;34m\u001b[0m\u001b[0m\n\u001b[1;32m      4\u001b[0m     \u001b[0;32massert\u001b[0m \u001b[0misinstance\u001b[0m\u001b[0;34m(\u001b[0m\u001b[0mn\u001b[0m\u001b[0;34m,\u001b[0m \u001b[0mint\u001b[0m\u001b[0;34m)\u001b[0m\u001b[0;34m,\u001b[0m         \u001b[0;34mf\"o argumento deveria ser do tipo <class 'int'> mas é {type(n)}\"\u001b[0m\u001b[0;34m\u001b[0m\u001b[0m\n\u001b[0;32m----> 5\u001b[0;31m     \u001b[0;32massert\u001b[0m \u001b[0mn\u001b[0m \u001b[0;34m>=\u001b[0m \u001b[0;36m0\u001b[0m\u001b[0;34m,\u001b[0m         \u001b[0;34mf\"o argumento não pode ser negativo mas é {n}\"\u001b[0m\u001b[0;34m\u001b[0m\u001b[0m\n\u001b[0m\u001b[1;32m      6\u001b[0m \u001b[0;34m\u001b[0m\u001b[0m\n\u001b[1;32m      7\u001b[0m     \u001b[0;32mif\u001b[0m \u001b[0mn\u001b[0m \u001b[0;34m>\u001b[0m \u001b[0;36m0\u001b[0m\u001b[0;34m:\u001b[0m\u001b[0;34m\u001b[0m\u001b[0m\n",
      "\u001b[0;31mAssertionError\u001b[0m: o argumento não pode ser negativo mas é -5"
     ]
    }
   ],
   "source": [
    "print('f(-5)  =', f(-5))"
   ]
  },
  {
   "cell_type": "markdown",
   "metadata": {},
   "source": [
    "O uso de asserções para validar argumentos muitas vezes é considerado inadequado porque interrompe drasticamente a execução do programa, impedindo qualquer ação corretiva por parte do usuário.  \n",
    "Uma outra possibilidade seria retornar um resultado indicativo de que algo de estranho aconteceu, \n",
    "p.ex. $\\mathit{None}$."
   ]
  },
  {
   "cell_type": "code",
   "execution_count": 23,
   "metadata": {},
   "outputs": [
    {
     "name": "stdout",
     "output_type": "stream",
     "text": [
      "f(0)   = 1\n",
      "f(1)   = 1\n",
      "f(5)   = 120\n",
      "f(10)  = 3628800\n",
      "f(-5)  = None\n",
      "f(\"a\") = None\n"
     ]
    }
   ],
   "source": [
    "%reset -f\n",
    "\n",
    "def f(n):\n",
    "    if not isinstance(n, int) or n < 0:\n",
    "        return None\n",
    "    elif n > 0:\n",
    "        return f(n - 1) * n\n",
    "    else:\n",
    "        return 1\n",
    "\n",
    "print('f(0)   =', f(0))\n",
    "print('f(1)   =', f(1))\n",
    "print('f(5)   =', f(5))\n",
    "print('f(10)  =', f(10))\n",
    "print('f(-5)  =', f(-5))\n",
    "print('f(\"a\") =', f(\"a\"))\n"
   ]
  },
  {
   "cell_type": "markdown",
   "metadata": {},
   "source": [
    "**Desenvolvimento de uma solução não-recursiva**  \n",
    "Uma definição recursiva como essa é frequentemente transformada numa **_definição recorrente_** por razões de eficiência.  \n",
    "Para isso, note que a expressão recursiva pode também ser vista como a definição de uma sequência de produtos  \n",
    "$p_0 = 1$  \n",
    "$p_1 = 1$  \n",
    "$p_2 = 1 \\times 2$  \n",
    "$\\ldots$  \n",
    "$p_n = 1 \\times 2 \\times \\ldots \\times n$\n",
    "\n",
    "Portanto, $p_n = p_{n-1} \\times n$, isto é, resulta da acumulação de um produto, o que pode ser conseguido com um comando iterativo simples. Por exemplo,\n",
    "```python\n",
    "p = 1\n",
    "for i in range (2, n + 1):\n",
    "    p = p * i\n",
    "```"
   ]
  },
  {
   "cell_type": "markdown",
   "metadata": {},
   "source": [
    "Esse modelo ajusta-se naturalmente ao caso em que $n = 0$ como mostra a implementação abaixo."
   ]
  },
  {
   "cell_type": "code",
   "execution_count": 24,
   "metadata": {},
   "outputs": [
    {
     "name": "stdout",
     "output_type": "stream",
     "text": [
      "f(0)   = 1\n",
      "f(1)   = 1\n",
      "f(5)   = 120\n",
      "f(10)  = 3628800\n",
      "f(-5)  = None\n",
      "f(\"a\") = None\n"
     ]
    }
   ],
   "source": [
    "%reset -f\n",
    "\n",
    "def f(n):\n",
    "    if not isinstance(n, int) or n < 0:\n",
    "        return None\n",
    "    else: \n",
    "        p = 1\n",
    "        for i in range (2, n + 1):\n",
    "            p = p * i\n",
    "        return p\n",
    "\n",
    "print('f(0)   =', f(0))\n",
    "print('f(1)   =', f(1))\n",
    "print('f(5)   =', f(5))\n",
    "print('f(10)  =', f(10))\n",
    "print('f(-5)  =', f(-5))\n",
    "print('f(\"a\") =', f(\"a\"))\n"
   ]
  },
  {
   "cell_type": "markdown",
   "metadata": {},
   "source": [
    "Podemos usar asserções também para “encapsular” nossos testes e, assim, deixá-los no corpo do programa permanentemente sem que eles interfiram na execução.  \n",
    "É claro que, para poder testar nossa função, é preciso ser capaz de antecipar a resposta correta em um certo número de casos.  \n",
    "Procure sempre antecipar os casos críticos, por exemplo valores extremos dos dados ou pontos em que se espera alguma mudança no comportamento da função."
   ]
  },
  {
   "cell_type": "code",
   "execution_count": 25,
   "metadata": {},
   "outputs": [],
   "source": [
    "%reset -f\n",
    "\n",
    "def f(n):\n",
    "    if not isinstance(n, int) or n < 0:\n",
    "        return None\n",
    "    else: \n",
    "        p = 1\n",
    "        for i in range (1, n + 1):\n",
    "            p = p * i\n",
    "        return p\n",
    "\n",
    "tst = [(0, 1), (1, 1), (5, 120), (10, 3628800), (-5, None), ('abc', None)]\n",
    "\n",
    "for a, r in tst:\n",
    "    assert f(a) == r, \\\n",
    "        f'f({a}) = {f(a)} (valor esperado: {r})'\n"
   ]
  },
  {
   "cell_type": "markdown",
   "metadata": {},
   "source": [
    "## Uma função pode definir variáveis locais\n",
    "Uma variável definida dentro de uma função é dita *local*. Ela existe apenas durante a execução da chamada e não é visível fora da função."
   ]
  },
  {
   "cell_type": "markdown",
   "metadata": {},
   "source": [
    "_**O que aconteceria se o programa principal também tivesse uma variável com o mesmo nome?**_  \n",
    "A variável local “ocultaria” a variável externa durante a execução da chamada, como mostra o exemplo abaixo, onde o programa chama a função $f$ que chama a função $g$ e todos definem uma variável $v$."
   ]
  },
  {
   "cell_type": "code",
   "execution_count": 26,
   "metadata": {},
   "outputs": [
    {
     "name": "stdout",
     "output_type": "stream",
     "text": [
      "g(): sou v e fui definida na função g\n",
      "f(): sou v e fui definida na função f\n",
      "pp:  sou v e fui definida no programa principal\n"
     ]
    }
   ],
   "source": [
    "%reset -f\n",
    "\n",
    "def g():\n",
    "    v = 'sou v e fui definida na função g'\n",
    "    print('g():', v)\n",
    "    \n",
    "def f():\n",
    "    v = 'sou v e fui definida na função f'\n",
    "    g()\n",
    "    print('f():', v)\n",
    "    \n",
    "v = 'sou v e fui definida no programa principal'\n",
    "f()\n",
    "print('pp: ', v)"
   ]
  },
  {
   "cell_type": "markdown",
   "metadata": {},
   "source": [
    "Você consegue dizer em que sequência os comandos do script acima foram executados?\n",
    "-   1, 3, 7, 12, 13, 8, 9, 4, 5, 10, 14"
   ]
  },
  {
   "cell_type": "markdown",
   "metadata": {},
   "source": [
    "A execução de um $\\mathit{def}$ apenas define o nome e o cabeçalho da função, habilitando a sua chamada em comandos posteriores.  \n",
    "O corpo da função só será executado posteriormente em resposta a essas chamadas.  \n",
    "Nesse exemplo, cada nova definição do nome $v$ oculta a definição anterior existente no mesmo espaço.\n",
    "\n",
    "**_O que acontece se o corpo de uma função se referir a uma variável que não está definida localmente?_**   \n",
    "Se a variável estiver definida no espaço que “contém” a função, essa definição será usada. Caso contrário, será gerada uma exceção."
   ]
  },
  {
   "cell_type": "markdown",
   "metadata": {},
   "source": [
    "Por exemplo, vamos “comentar” a linha 4 e, com isso, remover a definição de $v$ na função $g$."
   ]
  },
  {
   "cell_type": "code",
   "execution_count": 27,
   "metadata": {},
   "outputs": [
    {
     "name": "stdout",
     "output_type": "stream",
     "text": [
      "g(): sou v e fui definida no programa principal\n",
      "f(): sou v e fui definida na função f\n",
      "pp:  sou v e fui definida no programa principal\n"
     ]
    }
   ],
   "source": [
    "%reset -f\n",
    "\n",
    "def g():\n",
    "    # v = 'sou v e fui definida na função g'\n",
    "    print('g():', v)\n",
    "    \n",
    "def f():\n",
    "    v = 'sou v e fui definida na função f'\n",
    "    g()\n",
    "    print('f():', v)\n",
    "    \n",
    "v = 'sou v e fui definida no programa principal'\n",
    "f()\n",
    "print('pp: ', v)"
   ]
  },
  {
   "cell_type": "markdown",
   "metadata": {},
   "source": [
    "Como $v$ não está definida em $g$, foi usada a definição existente no espaço onde está contida a definição de $g$, ou seja, o programa principal.  \n",
    "Note que, se comentarmos também a linha 12, o programa passará a gerar uma exceção, uma vez que a definição de $v$ dentro de $f$ não é visível em $g$ (porque $f$ não “contém” $g$)."
   ]
  },
  {
   "cell_type": "code",
   "execution_count": 28,
   "metadata": {},
   "outputs": [
    {
     "ename": "NameError",
     "evalue": "name 'v' is not defined",
     "output_type": "error",
     "traceback": [
      "\u001b[0;31m---------------------------------------------------------------------------\u001b[0m",
      "\u001b[0;31mNameError\u001b[0m                                 Traceback (most recent call last)",
      "\u001b[0;32m<ipython-input-28-d6d837ffaf8a>\u001b[0m in \u001b[0;36m<module>\u001b[0;34m()\u001b[0m\n\u001b[1;32m     11\u001b[0m \u001b[0;34m\u001b[0m\u001b[0m\n\u001b[1;32m     12\u001b[0m \u001b[0;31m# v = 'sou v e fui definida no programa principal'\u001b[0m\u001b[0;34m\u001b[0m\u001b[0;34m\u001b[0m\u001b[0m\n\u001b[0;32m---> 13\u001b[0;31m \u001b[0mf\u001b[0m\u001b[0;34m(\u001b[0m\u001b[0;34m)\u001b[0m\u001b[0;34m\u001b[0m\u001b[0m\n\u001b[0m\u001b[1;32m     14\u001b[0m \u001b[0mprint\u001b[0m\u001b[0;34m(\u001b[0m\u001b[0;34m'pp: '\u001b[0m\u001b[0;34m,\u001b[0m \u001b[0mv\u001b[0m\u001b[0;34m)\u001b[0m\u001b[0;34m\u001b[0m\u001b[0m\n",
      "\u001b[0;32m<ipython-input-28-d6d837ffaf8a>\u001b[0m in \u001b[0;36mf\u001b[0;34m()\u001b[0m\n\u001b[1;32m      7\u001b[0m \u001b[0;32mdef\u001b[0m \u001b[0mf\u001b[0m\u001b[0;34m(\u001b[0m\u001b[0;34m)\u001b[0m\u001b[0;34m:\u001b[0m\u001b[0;34m\u001b[0m\u001b[0m\n\u001b[1;32m      8\u001b[0m     \u001b[0mv\u001b[0m \u001b[0;34m=\u001b[0m \u001b[0;34m'sou v e fui definida na função f'\u001b[0m\u001b[0;34m\u001b[0m\u001b[0m\n\u001b[0;32m----> 9\u001b[0;31m     \u001b[0mg\u001b[0m\u001b[0;34m(\u001b[0m\u001b[0;34m)\u001b[0m\u001b[0;34m\u001b[0m\u001b[0m\n\u001b[0m\u001b[1;32m     10\u001b[0m     \u001b[0mprint\u001b[0m\u001b[0;34m(\u001b[0m\u001b[0;34m'f():'\u001b[0m\u001b[0;34m,\u001b[0m \u001b[0mv\u001b[0m\u001b[0;34m)\u001b[0m\u001b[0;34m\u001b[0m\u001b[0m\n\u001b[1;32m     11\u001b[0m \u001b[0;34m\u001b[0m\u001b[0m\n",
      "\u001b[0;32m<ipython-input-28-d6d837ffaf8a>\u001b[0m in \u001b[0;36mg\u001b[0;34m()\u001b[0m\n\u001b[1;32m      3\u001b[0m \u001b[0;32mdef\u001b[0m \u001b[0mg\u001b[0m\u001b[0;34m(\u001b[0m\u001b[0;34m)\u001b[0m\u001b[0;34m:\u001b[0m\u001b[0;34m\u001b[0m\u001b[0m\n\u001b[1;32m      4\u001b[0m     \u001b[0;31m# v = 'sou v e fui definida na função g'\u001b[0m\u001b[0;34m\u001b[0m\u001b[0;34m\u001b[0m\u001b[0m\n\u001b[0;32m----> 5\u001b[0;31m     \u001b[0mprint\u001b[0m\u001b[0;34m(\u001b[0m\u001b[0;34m'g():'\u001b[0m\u001b[0;34m,\u001b[0m \u001b[0mv\u001b[0m\u001b[0;34m)\u001b[0m\u001b[0;34m\u001b[0m\u001b[0m\n\u001b[0m\u001b[1;32m      6\u001b[0m \u001b[0;34m\u001b[0m\u001b[0m\n\u001b[1;32m      7\u001b[0m \u001b[0;32mdef\u001b[0m \u001b[0mf\u001b[0m\u001b[0;34m(\u001b[0m\u001b[0;34m)\u001b[0m\u001b[0;34m:\u001b[0m\u001b[0;34m\u001b[0m\u001b[0m\n",
      "\u001b[0;31mNameError\u001b[0m: name 'v' is not defined"
     ]
    }
   ],
   "source": [
    "%reset -f\n",
    "\n",
    "def g():\n",
    "    # v = 'sou v e fui definida na função g'\n",
    "    print('g():', v)\n",
    "    \n",
    "def f():\n",
    "    v = 'sou v e fui definida na função f'\n",
    "    g()\n",
    "    print('f():', v)\n",
    "    \n",
    "# v = 'sou v e fui definida no programa principal'\n",
    "f()\n",
    "print('pp: ', v)"
   ]
  },
  {
   "cell_type": "markdown",
   "metadata": {},
   "source": [
    "### Exemplo: Verificar se uma cadeia de caracteres é palíndroma\n",
    "Criar uma função que diga se uma cadeia de caracteres é palíndroma, ignorando acentos, maiúsculas e pontuação.\n",
    "\n",
    "Vamos começar esboçando uma solução..."
   ]
  },
  {
   "cell_type": "code",
   "execution_count": 29,
   "metadata": {},
   "outputs": [],
   "source": [
    "def é_palíndroma(s):\n",
    "    s = sem_acentos(s)\n",
    "    s = s.lower()\n",
    "    s = só_letras(s)\n",
    "    return é_pal(s)"
   ]
  },
  {
   "cell_type": "markdown",
   "metadata": {},
   "source": [
    "Vamos definir as funções auxiliares..."
   ]
  },
  {
   "cell_type": "code",
   "execution_count": 30,
   "metadata": {},
   "outputs": [],
   "source": [
    "def sem_acentos(s):\n",
    "    acentos = {'á': 'a', 'à': 'a', 'ã': 'a', 'â': 'a',\n",
    "               'é': 'e', 'ê': 'e',\n",
    "               'í': 'i',\n",
    "               'ó': 'o', 'õ': 'o', 'ô': 'o',\n",
    "               'ú': 'u',\n",
    "               'ç': 'c'\n",
    "              }\n",
    "    rs = ''\n",
    "    for c in s:\n",
    "        rs = rs + acentos.get(c, c)\n",
    "    return rs"
   ]
  },
  {
   "cell_type": "code",
   "execution_count": 31,
   "metadata": {},
   "outputs": [],
   "source": [
    "def só_letras(s):\n",
    "    minúsculas = 'abcdefghijklmnopqrstuvwxyz'\n",
    "    rs = ''\n",
    "    for c in s:\n",
    "        if c in minúsculas:\n",
    "            rs = rs + c\n",
    "    return rs   "
   ]
  },
  {
   "cell_type": "markdown",
   "metadata": {},
   "source": [
    "E agora vamos definir a função local..."
   ]
  },
  {
   "cell_type": "code",
   "execution_count": 32,
   "metadata": {},
   "outputs": [
    {
     "name": "stdout",
     "output_type": "stream",
     "text": [
      "True\n"
     ]
    }
   ],
   "source": [
    "def é_palíndroma(s):\n",
    "    def é_pal(s):\n",
    "        return (len(s) == 0) or (s[0] == s[-1] and é_pal(s[1:-1]))\n",
    "    \n",
    "    s = sem_acentos(s)\n",
    "    s = s.lower()\n",
    "    s = só_letras(s)\n",
    "    return é_pal(s)\n",
    "\n",
    "print(é_palíndroma('Socorram-me subi no ônibus em Marrocos.'))"
   ]
  },
  {
   "cell_type": "markdown",
   "metadata": {},
   "source": [
    "## Mais exemplos..."
   ]
  },
  {
   "cell_type": "markdown",
   "metadata": {},
   "source": [
    "### Calcular o maior de três números\n",
    "Criar uma função $\\mathit{maior\\_de\\_3}(a, b, c)$ que calcule e retorne o valor do maior de seus três parâmetros."
   ]
  },
  {
   "cell_type": "markdown",
   "metadata": {},
   "source": [
    "**Desenvolvimento**  \n",
    "Ao procurar uma solução para um problema, é quase sempre útil começar com uma versão mais restrita em algum aspecto que nos permita exercitar o raciocínio num espaço mais limitado.  \n",
    "Frequentemente, a solução do problema real acaba sendo uma expansão dessa solução particular.  \n",
    "Neste caso, por exemplo, poderíamos pensar em criar uma função $\\mathit{maior\\_de\\_2}(a, b)$ que calcula e retorna o valor do maior de seus dois parâmetros."
   ]
  },
  {
   "cell_type": "code",
   "execution_count": 33,
   "metadata": {},
   "outputs": [],
   "source": [
    "%reset -f\n",
    "\n",
    "def maior_de_2(a, b):\n",
    "    if a > b:\n",
    "        return a\n",
    "    else:\n",
    "        return b\n",
    "\n",
    "tst = [(0, 0, 0), (1, 0, 1), (5, 1, 5), (-9, 1, 1)]\n",
    "\n",
    "for a, b, r in tst:\n",
    "    assert maior_de_2(a, b) == r, \\\n",
    "        f'maior_de_2({a}, {b}) = {maior_de_2(a, b)} (valor esperado: {r})'\n"
   ]
  },
  {
   "cell_type": "markdown",
   "metadata": {},
   "source": [
    "Tendo criado e testado a função $\\mathit{maior\\_de\\_2}$, fica fácil criar $\\mathit{maior\\_de\\_3}$ ..."
   ]
  },
  {
   "cell_type": "code",
   "execution_count": 34,
   "metadata": {},
   "outputs": [],
   "source": [
    "%reset -f\n",
    "\n",
    "def maior_de_2(a, b):\n",
    "    if a > b:\n",
    "        return a\n",
    "    else:\n",
    "        return b\n",
    "\n",
    "def maior_de_3(a, b, c):\n",
    "    if maior_de_2(a, b) == a:\n",
    "        return maior_de_2(a, c)\n",
    "    else:\n",
    "        return maior_de_2(b, c)\n",
    "        \n",
    "tst = [(0, 0, 0, 0), (1, 0, 0, 1), (0, 1, 0, 1), \n",
    "       (0, 0, 1, 1), (1, 2, 3, 3), (1, 5, -9, 5)]\n",
    "\n",
    "for (a, b, c, r) in tst:\n",
    "    assert maior_de_3(a, b, c) == r, \\\n",
    "        f'maior_de_3({a}, {b}, {c}) = {maior_de_3(a, b, c)} (valor esperado: {r})'\n"
   ]
  },
  {
   "cell_type": "markdown",
   "metadata": {},
   "source": [
    "Essas funções também poderiam ter sido escritas de forma ligeiramente mais compacta..."
   ]
  },
  {
   "cell_type": "code",
   "execution_count": 35,
   "metadata": {},
   "outputs": [],
   "source": [
    "%reset -f\n",
    "\n",
    "def maior_de_2(a, b):\n",
    "    return a if a > b else b\n",
    "\n",
    "def maior_de_3(a, b, c):\n",
    "    return maior_de_2(a, c) if maior_de_2(a, b) == a else maior_de_2(b, c)\n",
    "        \n",
    "tst = [(0, 0, 0, 0), (1, 0, 0, 1), (0, 1, 0, 1), \n",
    "       (0, 0, 1, 1), (1, 2, 3, 3), (1, 5, -9, 5)]\n",
    "\n",
    "for (a, b, c, r) in tst:\n",
    "    assert maior_de_3(a, b, c) == r, \\\n",
    "        f'maior_de_3({a}, {b}, {c}) = {maior_de_3(a, b, c)} (valor esperado: {r})'\n"
   ]
  },
  {
   "cell_type": "markdown",
   "metadata": {},
   "source": [
    "### Inverter uma cadeia de caracteres\n",
    "Criar uma função $\\mathit{inv\\_cadeia}(s)$ que inverta uma cadeia de caracteres passada como argumento."
   ]
  },
  {
   "cell_type": "markdown",
   "metadata": {},
   "source": [
    "Você consegue pensar em alguns casos particulares cuja solução seria trivial, ou pelo menos mais simples?"
   ]
  },
  {
   "cell_type": "markdown",
   "metadata": {},
   "source": [
    "Por exemplo, $\\mathit{inv\\_cadeia}(s) = s$, se $\\mathit{len}(s) \\le 1$."
   ]
  },
  {
   "cell_type": "markdown",
   "metadata": {},
   "source": [
    "Você consegue escrever uma definição de $\\mathit{inv\\_cadeia}(s)$, a partir de um caso mais simples?"
   ]
  },
  {
   "cell_type": "markdown",
   "metadata": {},
   "source": [
    "Por exemplo, $\\mathit{inv\\_cadeia}(s) = \\mathit{inv\\_cadeia}(s[1\\!:]) + s[0]$."
   ]
  },
  {
   "cell_type": "markdown",
   "metadata": {},
   "source": [
    "Essas duas definições são suficientes para que desenvolvamos uma versão recursiva de $\\mathit{inv\\_cadeia}(s)$."
   ]
  },
  {
   "cell_type": "code",
   "execution_count": 36,
   "metadata": {},
   "outputs": [],
   "source": [
    "def inv_cadeia(s):\n",
    "    if s:\n",
    "        return inv_cadeia(s[1:]) + s[0]\n",
    "    else:\n",
    "        return s\n",
    "\n",
    "la = ['123abc', '', 'x', 'anilina']\n",
    "lr = ['cba321', '', 'x', 'anilina']\n",
    "for a, r in zip(la, lr):\n",
    "    assert inv_cadeia(a) == r, \\\n",
    "        f\"inv_cadeia({a}) = {inv_cadeia(a)} (valor esperado: {r})\"\n"
   ]
  },
  {
   "cell_type": "markdown",
   "metadata": {},
   "source": [
    "Também é possível pensar numa versão recorrente (ou iterativa) de $\\mathit{inv\\_cadeia}(s)$.\n",
    "\n",
    "Num algoritmo recorrente, geralmente buscamos transformar o estado de um objeto de um valor inicial conhecido em um valor final desejado, tratando um componente desse objeto por iteração."
   ]
  },
  {
   "cell_type": "markdown",
   "metadata": {},
   "source": [
    "Neste caso, basta pegar os caracteres da cadeia de entrada $s$ um-a-um e colocá-los na posição apropriada da cadeia de saída $invs$.\n",
    "\n",
    "Como desejamos que $invs$ seja o inverso de $s$, cada caractere deverá ser colocado nela na posição oposta à em que ele se encontrava na cadeia original.\n",
    "\n",
    "Uma maneira simples de implementar essa solução é usando um comando $\\mathit{for}$:\n",
    "```python\n",
    "for c in s:\n",
    "    # colocar c na posição adequada de invs\n",
    "```\n",
    "\n",
    "Como $\\texttt{for}$ retira $\\texttt{c}$ do início da cadeia $\\texttt{s}$, $\\texttt{c}$ deverá ser colocado no final da cadeia $\\texttt{invs}$.  \n",
    "\n",
    "Por exemplo, suponha que $\\texttt{s == '12345'}$ e que já tenham sido processados os três primeiros caracteres.  \n",
    "Nesse momento $\\texttt{c == '4'}$ e $\\texttt{invs == '321'}$.  \n",
    "Para completar corretamente a iteração devemos colocar $\\texttt{c}$ \n",
    "no início da cadeia $\\texttt{invs}$ e, \n",
    "para isso, executar $\\texttt{invs = c + sinv}$.\n",
    "\n",
    "No início, a cadeia $\\texttt{invs}$ deverá estar vazia.\n",
    "\n"
   ]
  },
  {
   "cell_type": "code",
   "execution_count": 37,
   "metadata": {
    "ExecuteTime": {
     "end_time": "2018-04-25T20:42:12.074015Z",
     "start_time": "2018-04-25T20:42:12.069616Z"
    }
   },
   "outputs": [],
   "source": [
    "def inv_cadeia(s):\n",
    "    invs = ''\n",
    "    for c in s:\n",
    "        invs = c + invs\n",
    "    return invs\n",
    "\n",
    "la = ['123abc', '', 'x', 'anilina']\n",
    "lr = ['cba321', '', 'x', 'anilina']\n",
    "for a, r in zip(la, lr):\n",
    "    assert inv_cadeia(a) == r, \\\n",
    "        f'inv_cad({a}) = {inv_cad(a)} (valor esperado: {r})'\n"
   ]
  },
  {
   "cell_type": "markdown",
   "metadata": {},
   "source": [
    "### Ler uma lista e retornar outra sem os elementos repetidos na primeira"
   ]
  },
  {
   "cell_type": "markdown",
   "metadata": {},
   "source": [
    "Neste caso basta percorrer a lista original, extraindo seus itens um-a-um.  \n",
    "Se o item extraído ainda não estiver na lista de saída, ele é colocado lá.  \n",
    "Caso contrário, ele é ignorado."
   ]
  },
  {
   "cell_type": "code",
   "execution_count": 38,
   "metadata": {},
   "outputs": [
    {
     "name": "stdout",
     "output_type": "stream",
     "text": [
      "todos os testes ok...\n"
     ]
    }
   ],
   "source": [
    "%reset -f\n",
    "\n",
    "def vals_únicos(lista):\n",
    "    assert isinstance(lista, list), \\\n",
    "        f\"tipo do argumento = {type(lista)}, deveria ser <class 'list'>\"\n",
    "    \n",
    "    unilista = []\n",
    "    for x in lista:\n",
    "        if x not in unilista:\n",
    "            unilista += [x]\n",
    "    return unilista\n",
    "\n",
    "assert vals_únicos([]) == []\n",
    "assert vals_únicos([1]) == [1]\n",
    "assert vals_únicos([1, 1, 1, 1, 1]) == [1]\n",
    "assert vals_únicos([1, 2, 3, 4, 5]) == [1, 2, 3, 4, 5]\n",
    "assert vals_únicos([1, 2, 1, 2, 1, 2]) == [1, 2]\n",
    "\n",
    "print('todos os testes ok...')"
   ]
  },
  {
   "cell_type": "markdown",
   "metadata": {},
   "source": [
    "Esta solução também poderia ser “compactada” usando-se uma *list comprehension* que inclui na lista de saída todos os itens da lista de entrada que **_ainda_** não tiverem aparecido."
   ]
  },
  {
   "cell_type": "code",
   "execution_count": 39,
   "metadata": {},
   "outputs": [
    {
     "name": "stdout",
     "output_type": "stream",
     "text": [
      "todos os testes ok...\n"
     ]
    }
   ],
   "source": [
    "%reset -f\n",
    "\n",
    "def vals_únicos(lista):\n",
    "    assert isinstance(lista, list), \\\n",
    "        f\"tipo do argumento = {type(lista)}, \" +  \\\n",
    "        f\"deveria ser <class 'list'>\"\n",
    "    \n",
    "    return [x for i, x in enumerate(lista)\n",
    "              if x not in lista[:i]]\n",
    "\n",
    "assert vals_únicos([]) == []\n",
    "assert vals_únicos([1]) == [1]\n",
    "assert vals_únicos([1, 1, 1, 1, 1]) == [1]\n",
    "assert vals_únicos([1, 2, 3, 4, 5]) == [1, 2, 3, 4, 5]\n",
    "assert vals_únicos([1, 2, 1, 2, 1, 2]) == [1, 2]\n",
    "\n",
    "print('todos os testes ok...')"
   ]
  },
  {
   "cell_type": "markdown",
   "metadata": {},
   "source": [
    "### Exibir as $n$ primeiras linhas do “triângulo de Pascal”\n",
    "O “triângulo de Pascal” é uma figura geométrica e aritmética concebida por Blaise Pascal, em que cada número é igual à soma dos dois números que ficam imediatamente acima dele:  \n",
    "![](../img/Pascal triangle half-size.png)"
   ]
  },
  {
   "cell_type": "markdown",
   "metadata": {},
   "source": [
    "Você consegue escrever a expressão que gera os itens de uma linha genérica do triângulo?  \n",
    "Experimente começar com um caso particular. Por exemplo, o quarto item da linha 5 é formado pela soma do terceiro e quarto itens da linha 4. Podemos conseguir esse efeito somando duas cópias da linha 4, deslocadas de uma coluna, ..."
   ]
  },
  {
   "cell_type": "markdown",
   "metadata": {},
   "source": [
    "\\begin{array}{ r | c  c  c  c  c }\n",
    "   linha \\,4             & 1 & 3 & 3 & 1 &    \\\\ \n",
    "   linha \\,4\\, deslocada &   & 1 & 3 & 3 & 1  \\\\ \\hline\n",
    "   linha \\,5             & 1 & 4 & 6 & 4 & 1  \\\\ \n",
    "\\end{array}"
   ]
  },
  {
   "cell_type": "markdown",
   "metadata": {},
   "source": [
    "Suponha que a linha 4 esteja representada numa lista $\\mathit{tp}$.  \n",
    "Podemos ajustar o comprimento das duas linhas anexando uma lista $[0]$ nas posições adequadas.  \n",
    "A primeira linha da tabela será dada por $\\mathit{tp} + [0]$.  \n",
    "A segunda linha da tabela, por sua vez, será dada por $[0] + \\mathit{tp}$.  \n",
    "Para “emparelhar” essas duas linhas podemos usar a função $\\mathit{zip}$ e depois somar os itens correspondentes usando um $\\mathit{for}$."
   ]
  },
  {
   "cell_type": "code",
   "execution_count": 40,
   "metadata": {},
   "outputs": [
    {
     "name": "stdout",
     "output_type": "stream",
     "text": [
      "[1]\n",
      "[1, 1]\n",
      "[1, 2, 1]\n",
      "[1, 3, 3, 1]\n",
      "[1, 4, 6, 4, 1]\n",
      "[1, 5, 10, 10, 5, 1]\n"
     ]
    }
   ],
   "source": [
    "def triângulo_de_pascal(n):\n",
    "    \n",
    "    def próxima_linha(tp):\n",
    "        if tp:\n",
    "            ptp = []\n",
    "            for esq, dir in zip(tp + [0], [0] + tp):\n",
    "                ptp += [esq + dir]\n",
    "            return ptp\n",
    "        else:\n",
    "            return [1]\n",
    "\n",
    "    if not isinstance(n, int) or n < 1:\n",
    "        return None\n",
    "    else:\n",
    "        tp = []\n",
    "        for linha in range(n):\n",
    "            tp = próxima_linha(tp)\n",
    "            print(tp)\n",
    "        \n",
    "triângulo_de_pascal(6)"
   ]
  },
  {
   "cell_type": "markdown",
   "metadata": {},
   "source": [
    "Finalmente, é possível compactar a função $\\mathit{próxima\\_linha}$ usando uma _list comprehension_."
   ]
  },
  {
   "cell_type": "code",
   "execution_count": 41,
   "metadata": {},
   "outputs": [
    {
     "name": "stdout",
     "output_type": "stream",
     "text": [
      "[1]\n",
      "[1, 1]\n",
      "[1, 2, 1]\n",
      "[1, 3, 3, 1]\n",
      "[1, 4, 6, 4, 1]\n",
      "[1, 5, 10, 10, 5, 1]\n"
     ]
    }
   ],
   "source": [
    "def triângulo_de_pascal(n):\n",
    "    \n",
    "    def próxima_linha(tp):\n",
    "        if tp:\n",
    "            return [esq + dir for esq, dir in zip(tp + [0], [0] + tp)]\n",
    "        else:\n",
    "            return [1]\n",
    "\n",
    "    if not isinstance(n, int) or n < 1:\n",
    "        return None\n",
    "    else:\n",
    "        tp = []\n",
    "        for linha in range(n):\n",
    "            tp = próxima_linha(tp)\n",
    "            print(tp)\n",
    "        \n",
    "triângulo_de_pascal(6)"
   ]
  },
  {
   "cell_type": "code",
   "execution_count": null,
   "metadata": {},
   "outputs": [],
   "source": []
  }
 ],
 "metadata": {
  "celltoolbar": "Slideshow",
  "kernelspec": {
   "display_name": "Python 3",
   "language": "python",
   "name": "python3"
  },
  "language_info": {
   "codemirror_mode": {
    "name": "ipython",
    "version": 3
   },
   "file_extension": ".py",
   "mimetype": "text/x-python",
   "name": "python",
   "nbconvert_exporter": "python",
   "pygments_lexer": "ipython3",
   "version": "3.6.5"
  },
  "latex_envs": {
   "LaTeX_envs_menu_present": true,
   "autoclose": true,
   "autocomplete": false,
   "bibliofile": "biblio.bib",
   "cite_by": "apalike",
   "current_citInitial": 1,
   "eqLabelWithNumbers": true,
   "eqNumInitial": 1,
   "hotkeys": {
    "equation": "Ctrl-E",
    "itemize": "Ctrl-I"
   },
   "labels_anchors": false,
   "latex_user_defs": false,
   "report_style_numbering": false,
   "user_envs_cfg": false
  },
  "toc": {
   "base_numbering": 1,
   "nav_menu": {},
   "number_sections": true,
   "sideBar": true,
   "skip_h1_title": true,
   "title_cell": "Table of Contents",
   "title_sidebar": "Contents",
   "toc_cell": false,
   "toc_position": {},
   "toc_section_display": true,
   "toc_window_display": false
  },
  "varInspector": {
   "cols": {
    "lenName": 16,
    "lenType": 16,
    "lenVar": 40
   },
   "kernels_config": {
    "python": {
     "delete_cmd_postfix": "",
     "delete_cmd_prefix": "del ",
     "library": "var_list.py",
     "varRefreshCmd": "print(var_dic_list())"
    },
    "r": {
     "delete_cmd_postfix": ") ",
     "delete_cmd_prefix": "rm(",
     "library": "var_list.r",
     "varRefreshCmd": "cat(var_dic_list()) "
    }
   },
   "types_to_exclude": [
    "module",
    "function",
    "builtin_function_or_method",
    "instance",
    "_Feature"
   ],
   "window_display": false
  }
 },
 "nbformat": 4,
 "nbformat_minor": 2
}
