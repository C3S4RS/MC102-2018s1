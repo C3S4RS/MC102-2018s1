{
 "cells": [
  {
   "cell_type": "code",
   "execution_count": 1,
   "metadata": {
    "ExecuteTime": {
     "end_time": "2018-04-21T23:49:03.205752Z",
     "start_time": "2018-04-21T23:49:03.199883Z"
    },
    "init_cell": true,
    "slideshow": {
     "slide_type": "skip"
    }
   },
   "outputs": [
    {
     "name": "stdout",
     "output_type": "stream",
     "text": [
      "done\n"
     ]
    }
   ],
   "source": [
    "from IPython.core.interactiveshell import InteractiveShell\n",
    "InteractiveShell.ast_node_interactivity = \"all\"\n",
    "print('done')"
   ]
  },
  {
   "cell_type": "markdown",
   "metadata": {
    "slideshow": {
     "slide_type": "slide"
    }
   },
   "source": [
    "# Revisitando Strings"
   ]
  },
  {
   "cell_type": "markdown",
   "metadata": {
    "slideshow": {
     "slide_type": "slide"
    }
   },
   "source": [
    "## O modelo\n",
    "Uma _string_ é coleção sequencial e ordenada de caracteres. Os caracteres que compõem uma _string_ são idenficados por um _índice_ que indica sua posição na sequência.\n",
    "\n",
    "Os índices podem ser positivos (indicando a posição dos caracteres a partir do começo da _string_) ou negativos (indicando a posição dos caracteres a partir do fim da _string_), como mostra o diagrama abaixo.\n",
    "\n",
    "\n",
    "\n",
    "\\begin{array}{| c | c | c | c | c | c | c | c | c | c | }\n",
    " 0 & 1 & 2 & 3 & 4 & 5 & 6 & 7 & 8 & 9 & 10\\\\ \\hline\n",
    " U & m & a &   & s & t & r & i & n & g & . \\\\ \\hline\n",
    " -11 & -10 & -9 & -8 & -7 & -6 & -5 & -4 & -3 & -2 & -1   \n",
    "\\end{array}\n"
   ]
  },
  {
   "cell_type": "markdown",
   "metadata": {
    "slideshow": {
     "slide_type": "slide"
    }
   },
   "source": [
    "_Strings_ são representadas entre aspas simples, duplas ou “triplas”. Nos dois primeiros casos, a _string_ deve ficar toda contida numa única linha; no terceiro, ela pode ocupar um número arbitrário de linhas.  \n",
    "\n",
    "A _string_ nula ou vazia não contém caractere algum e é representada por '' ou \"\" (duas aspas simples ou duplas, sem nada no meio)."
   ]
  },
  {
   "cell_type": "code",
   "execution_count": null,
   "metadata": {
    "slideshow": {
     "slide_type": "fragment"
    }
   },
   "outputs": [],
   "source": [
    "cadeia_a = ''\n",
    "print(cadeia_a)  # não vai mostrar nada...\n",
    "print(repr(cadeia_a))  # repr mostra as aspas delimitadoras"
   ]
  },
  {
   "cell_type": "code",
   "execution_count": null,
   "metadata": {
    "slideshow": {
     "slide_type": "subslide"
    }
   },
   "outputs": [],
   "source": [
    "cadeia_b = 'Uma string.'\n",
    "print(cadeia_b)"
   ]
  },
  {
   "cell_type": "code",
   "execution_count": null,
   "metadata": {
    "slideshow": {
     "slide_type": "subslide"
    }
   },
   "outputs": [],
   "source": [
    "cadeia_c = \"Outra string.\"\n",
    "print(cadeia_c)"
   ]
  },
  {
   "cell_type": "code",
   "execution_count": null,
   "metadata": {
    "slideshow": {
     "slide_type": "subslide"
    }
   },
   "outputs": [],
   "source": [
    "cadeia_d = '''Uma cadeia\n",
    "com várias\n",
    "linhas'''\n",
    "print(cadeia_d)"
   ]
  },
  {
   "cell_type": "markdown",
   "metadata": {
    "slideshow": {
     "slide_type": "slide"
    }
   },
   "source": [
    "## Os operadores + e *\n",
    "O operador **+** concatena _strings_ enquanto o operador __\\*__ repete (e ao mesmo tempo concatena) _strings_."
   ]
  },
  {
   "cell_type": "code",
   "execution_count": null,
   "metadata": {
    "slideshow": {
     "slide_type": "fragment"
    }
   },
   "outputs": [],
   "source": [
    "string_a = 'á-'\n",
    "string_b = 'bl'"
   ]
  },
  {
   "cell_type": "code",
   "execution_count": null,
   "metadata": {
    "slideshow": {
     "slide_type": "fragment"
    }
   },
   "outputs": [],
   "source": [
    "string_c = string_b + string_a\n",
    "print(string_c)"
   ]
  },
  {
   "cell_type": "code",
   "execution_count": null,
   "metadata": {
    "slideshow": {
     "slide_type": "fragment"
    }
   },
   "outputs": [],
   "source": [
    "string_d = 3 * string_c\n",
    "print(string_d)"
   ]
  },
  {
   "cell_type": "markdown",
   "metadata": {
    "slideshow": {
     "slide_type": "slide"
    }
   },
   "source": [
    "## Alguns métodos e funções para _strings_"
   ]
  },
  {
   "cell_type": "markdown",
   "metadata": {
    "slideshow": {
     "slide_type": "subslide"
    }
   },
   "source": [
    "### Conversão para maiúsculas e minúsculas"
   ]
  },
  {
   "cell_type": "code",
   "execution_count": null,
   "metadata": {
    "slideshow": {
     "slide_type": "fragment"
    }
   },
   "outputs": [],
   "source": [
    "título = 'Laranja Madura na Beira da Estrada'"
   ]
  },
  {
   "cell_type": "code",
   "execution_count": null,
   "metadata": {
    "slideshow": {
     "slide_type": "fragment"
    }
   },
   "outputs": [],
   "source": [
    "print(título.lower())"
   ]
  },
  {
   "cell_type": "code",
   "execution_count": null,
   "metadata": {
    "slideshow": {
     "slide_type": "fragment"
    }
   },
   "outputs": [],
   "source": [
    "print(título.upper())"
   ]
  },
  {
   "cell_type": "code",
   "execution_count": null,
   "metadata": {
    "slideshow": {
     "slide_type": "fragment"
    }
   },
   "outputs": [],
   "source": [
    "print(título.capitalize())"
   ]
  },
  {
   "cell_type": "markdown",
   "metadata": {
    "slideshow": {
     "slide_type": "subslide"
    }
   },
   "source": [
    "### Remoção de espaços à esquerda e à direita"
   ]
  },
  {
   "cell_type": "code",
   "execution_count": null,
   "metadata": {
    "slideshow": {
     "slide_type": "fragment"
    }
   },
   "outputs": [],
   "source": [
    "título = '    Laranja Madura na Beira da Estrada   '"
   ]
  },
  {
   "cell_type": "code",
   "execution_count": null,
   "metadata": {
    "slideshow": {
     "slide_type": "fragment"
    }
   },
   "outputs": [],
   "source": [
    "print(repr(título.lstrip()))"
   ]
  },
  {
   "cell_type": "code",
   "execution_count": null,
   "metadata": {
    "slideshow": {
     "slide_type": "fragment"
    }
   },
   "outputs": [],
   "source": [
    "print(repr(título.rstrip()))"
   ]
  },
  {
   "cell_type": "code",
   "execution_count": null,
   "metadata": {
    "slideshow": {
     "slide_type": "fragment"
    }
   },
   "outputs": [],
   "source": [
    "print(repr(título.strip()))"
   ]
  },
  {
   "cell_type": "markdown",
   "metadata": {
    "slideshow": {
     "slide_type": "subslide"
    }
   },
   "source": [
    "### Contagem e substituição de _substrings_"
   ]
  },
  {
   "cell_type": "code",
   "execution_count": null,
   "metadata": {
    "slideshow": {
     "slide_type": "fragment"
    }
   },
   "outputs": [],
   "source": [
    "título = 'Laranja Madura na Beira da Estrada'.lower()\n",
    "print(título.count('ra'))"
   ]
  },
  {
   "cell_type": "code",
   "execution_count": null,
   "metadata": {
    "slideshow": {
     "slide_type": "fragment"
    }
   },
   "outputs": [],
   "source": [
    "print(título.replace('ra', 'RA', 2))\n",
    "print(título)"
   ]
  },
  {
   "cell_type": "code",
   "execution_count": null,
   "metadata": {
    "slideshow": {
     "slide_type": "fragment"
    }
   },
   "outputs": [],
   "source": [
    "print(título.replace('ra', 'RA'))\n",
    "print(título)"
   ]
  },
  {
   "cell_type": "markdown",
   "metadata": {
    "slideshow": {
     "slide_type": "subslide"
    }
   },
   "source": [
    "### Ajuste do comprimento da _string_"
   ]
  },
  {
   "cell_type": "code",
   "execution_count": null,
   "metadata": {
    "slideshow": {
     "slide_type": "fragment"
    }
   },
   "outputs": [],
   "source": [
    "título = 'Laranja Madura na Beira da Estrada'"
   ]
  },
  {
   "cell_type": "code",
   "execution_count": null,
   "metadata": {
    "slideshow": {
     "slide_type": "fragment"
    }
   },
   "outputs": [],
   "source": [
    "print(repr(título.ljust(50)))"
   ]
  },
  {
   "cell_type": "code",
   "execution_count": null,
   "metadata": {
    "slideshow": {
     "slide_type": "fragment"
    }
   },
   "outputs": [],
   "source": [
    "print(repr(título.rjust(50)))"
   ]
  },
  {
   "cell_type": "code",
   "execution_count": null,
   "metadata": {
    "slideshow": {
     "slide_type": "fragment"
    }
   },
   "outputs": [],
   "source": [
    "print(repr(título.center(50)))"
   ]
  },
  {
   "cell_type": "markdown",
   "metadata": {
    "slideshow": {
     "slide_type": "subslide"
    }
   },
   "source": [
    "### Localizar uma subcadeia"
   ]
  },
  {
   "cell_type": "code",
   "execution_count": null,
   "metadata": {
    "slideshow": {
     "slide_type": "fragment"
    }
   },
   "outputs": [],
   "source": [
    "título = 'Laranja Madura na Beira da Estrada'.lower()\n",
    "print(len(título))"
   ]
  },
  {
   "cell_type": "code",
   "execution_count": null,
   "metadata": {
    "slideshow": {
     "slide_type": "fragment"
    }
   },
   "outputs": [],
   "source": [
    "print(título.find('ra'))  ## acha primeira ocorrência do argumento a partir da esquerda"
   ]
  },
  {
   "cell_type": "code",
   "execution_count": null,
   "metadata": {
    "scrolled": true,
    "slideshow": {
     "slide_type": "fragment"
    }
   },
   "outputs": [],
   "source": [
    "print(título.rfind('ra'))  ## acha primeira ocorrência do argumento a partir da direita  "
   ]
  },
  {
   "cell_type": "code",
   "execution_count": null,
   "metadata": {
    "slideshow": {
     "slide_type": "subslide"
    }
   },
   "outputs": [],
   "source": [
    "título = 'Laranja Madura na Beira da Estrada'.lower()"
   ]
  },
  {
   "cell_type": "code",
   "execution_count": null,
   "metadata": {
    "slideshow": {
     "slide_type": "fragment"
    }
   },
   "outputs": [],
   "source": [
    "print(título.find('xx'))  ## find e rfind retornam -1 se a subcadeia não for encontrada\n",
    "print(título.rfind('xx'))"
   ]
  },
  {
   "cell_type": "code",
   "execution_count": null,
   "metadata": {
    "slideshow": {
     "slide_type": "subslide"
    }
   },
   "outputs": [],
   "source": [
    "título = 'Laranja Madura na Beira da Estrada'.lower()"
   ]
  },
  {
   "cell_type": "code",
   "execution_count": null,
   "metadata": {
    "slideshow": {
     "slide_type": "fragment"
    }
   },
   "outputs": [],
   "source": [
    "print(título.index('ra'))  ## o mesmo que find e rfind se a subcadeia for encontrada\n",
    "print(título.rindex('ra'))"
   ]
  },
  {
   "cell_type": "code",
   "execution_count": null,
   "metadata": {
    "slideshow": {
     "slide_type": "subslide"
    }
   },
   "outputs": [],
   "source": [
    "título = 'Laranja Madura na Beira da Estrada'.lower()"
   ]
  },
  {
   "cell_type": "code",
   "execution_count": null,
   "metadata": {
    "slideshow": {
     "slide_type": "fragment"
    }
   },
   "outputs": [],
   "source": [
    "print(título.index('xx'))  ## index e rindex causam um erro se a subcadeia não for encontrada"
   ]
  },
  {
   "cell_type": "code",
   "execution_count": null,
   "metadata": {
    "slideshow": {
     "slide_type": "fragment"
    }
   },
   "outputs": [],
   "source": [
    "print(título.rindex('xx'))"
   ]
  },
  {
   "cell_type": "markdown",
   "metadata": {
    "slideshow": {
     "slide_type": "subslide"
    }
   },
   "source": [
    "### Formatação\n",
    "Este é um método com muitos recursos que não podem ser completamente explorados aqui, mas os exemplos a seguir dão uma rápida ideia do que é possível fazer."
   ]
  },
  {
   "cell_type": "code",
   "execution_count": null,
   "metadata": {
    "slideshow": {
     "slide_type": "fragment"
    }
   },
   "outputs": [],
   "source": [
    "a = 10\n",
    "b = 3\n",
    "c = 7\n",
    "print('a média de {}, {} e {} é {}'.format(a, b, c, (a + b + c) / 3))"
   ]
  },
  {
   "cell_type": "markdown",
   "metadata": {
    "slideshow": {
     "slide_type": "subslide"
    }
   },
   "source": [
    "Suponha que quiséssemos que a média fosse exibida com uma casa decimal."
   ]
  },
  {
   "cell_type": "code",
   "execution_count": null,
   "metadata": {
    "scrolled": true,
    "slideshow": {
     "slide_type": "fragment"
    }
   },
   "outputs": [],
   "source": [
    "print('a média de {}, {} e {} é {:.1f}'.format(a, b, c, (a + b + c) / 3))"
   ]
  },
  {
   "cell_type": "markdown",
   "metadata": {
    "slideshow": {
     "slide_type": "subslide"
    }
   },
   "source": [
    "O mesmo efeito pode ser conseguido colocando um *f* à frente da _string_ de formato e incluindo as expressões a serem exibidas nas chaves correspondentes."
   ]
  },
  {
   "cell_type": "code",
   "execution_count": null,
   "metadata": {
    "slideshow": {
     "slide_type": "fragment"
    }
   },
   "outputs": [],
   "source": [
    "print(f'a média de {a}, {b} e {c} é {(a + b + c) / 3:.1f}')"
   ]
  },
  {
   "cell_type": "markdown",
   "metadata": {
    "slideshow": {
     "slide_type": "subslide"
    }
   },
   "source": [
    "Uma _string_ de formatação pode ser manipulada como qualquer outra _string_ de Python."
   ]
  },
  {
   "cell_type": "code",
   "execution_count": null,
   "metadata": {
    "slideshow": {
     "slide_type": "fragment"
    }
   },
   "outputs": [],
   "source": [
    "mens_1 = f'A média de {a}, {b} e {c} é '\n",
    "mens_2 = f'{(a + b + c) / 3:.1f}' \n",
    "print(mens_1 + mens_2)"
   ]
  },
  {
   "cell_type": "markdown",
   "metadata": {
    "slideshow": {
     "slide_type": "subslide"
    }
   },
   "source": [
    "### Comprimento\n",
    "A função `len` retorna o número de caracteres na _string_ à qual ela é aplicada."
   ]
  },
  {
   "cell_type": "code",
   "execution_count": null,
   "metadata": {
    "slideshow": {
     "slide_type": "fragment"
    }
   },
   "outputs": [],
   "source": [
    "mascote = 'tamanduá'\n",
    "print(mascote, len(mascote))"
   ]
  },
  {
   "cell_type": "markdown",
   "metadata": {
    "slideshow": {
     "slide_type": "subslide"
    }
   },
   "source": [
    "Note que os índices positivos válidos para uma _string_ $s$ são $0, 1, \\dots \\mathrm{len}\\left(s\\right)-1$, enquanto os negativos são $-1, -2, \\dots -\\mathrm{len}\\left(s\\right)$."
   ]
  },
  {
   "cell_type": "code",
   "execution_count": null,
   "metadata": {
    "slideshow": {
     "slide_type": "fragment"
    }
   },
   "outputs": [],
   "source": [
    "print(mascote)\n",
    "print(mascote[0], mascote[len(mascote)-1], mascote[-1], mascote[-len(mascote)])"
   ]
  },
  {
   "cell_type": "markdown",
   "metadata": {
    "slideshow": {
     "slide_type": "subslide"
    }
   },
   "source": [
    "### Fatiamento (_slicing_)\n",
    "_Slices_ (_fatias_) são subcadeias que podem ser extraídas pelo '_fatiador_', como no caso de listas."
   ]
  },
  {
   "cell_type": "code",
   "execution_count": null,
   "metadata": {
    "slideshow": {
     "slide_type": "fragment"
    }
   },
   "outputs": [],
   "source": [
    "título = 'Laranja Madura na Beira da Estrada'.lower()\n",
    "primeira = título[:7]\n",
    "última = título[-7:]\n",
    "print(repr(primeira), repr(última))"
   ]
  },
  {
   "cell_type": "markdown",
   "metadata": {
    "slideshow": {
     "slide_type": "subslide"
    }
   },
   "source": [
    "O fatiador não dá erro caso receba um índice inválido. Quando isso acontece, ele usa um índice razoável."
   ]
  },
  {
   "cell_type": "code",
   "execution_count": null,
   "metadata": {
    "slideshow": {
     "slide_type": "fragment"
    }
   },
   "outputs": [],
   "source": [
    "título = 'Laranja Madura na Beira da Estrada'.lower()\n",
    "sem_primeira = título[8:99]\n",
    "sem_última = título[-99:-8]\n",
    "print(repr(sem_primeira), repr(sem_última))"
   ]
  },
  {
   "cell_type": "code",
   "execution_count": null,
   "metadata": {
    "slideshow": {
     "slide_type": "subslide"
    }
   },
   "outputs": [],
   "source": [
    "nums = '0123456789'\n",
    "impares = nums[1::2]\n",
    "pares = nums[::2]\n",
    "inversa = nums[::-1]\n",
    "print(repr(nums), repr(impares), repr(pares), repr(inversa))"
   ]
  },
  {
   "cell_type": "markdown",
   "metadata": {
    "slideshow": {
     "slide_type": "subslide"
    }
   },
   "source": [
    "### Comparação de cadeias\n",
    "Os operadores de comparação podem ser usados normalmente.  \n",
    "A comparação é lexicográfica e baseia-se no código de caracteres ASCII."
   ]
  },
  {
   "cell_type": "code",
   "execution_count": null,
   "metadata": {
    "slideshow": {
     "slide_type": "fragment"
    }
   },
   "outputs": [],
   "source": [
    "print(\"'menor' < 'maior'  é\", 'menor' < 'maior')"
   ]
  },
  {
   "cell_type": "code",
   "execution_count": null,
   "metadata": {
    "slideshow": {
     "slide_type": "fragment"
    }
   },
   "outputs": [],
   "source": [
    "print(\"'maior' < 'Maior'  é\", 'maior' < 'Maior')"
   ]
  },
  {
   "cell_type": "code",
   "execution_count": null,
   "metadata": {
    "slideshow": {
     "slide_type": "subslide"
    }
   },
   "outputs": [],
   "source": [
    "print(\"'maior' == 'Maior'  é\", 'maior' == 'Maior')"
   ]
  },
  {
   "cell_type": "code",
   "execution_count": null,
   "metadata": {
    "slideshow": {
     "slide_type": "fragment"
    }
   },
   "outputs": [],
   "source": [
    "print(\"'maior' != 'Maior'  é\", 'maior' != 'Maior')"
   ]
  },
  {
   "cell_type": "markdown",
   "metadata": {
    "slideshow": {
     "slide_type": "subslide"
    }
   },
   "source": [
    "O código de um caractere na tabela ASCII é dado pela função `ord` e o caractere correspondente a um dado código é dado pela função `chr`."
   ]
  },
  {
   "cell_type": "code",
   "execution_count": null,
   "metadata": {
    "slideshow": {
     "slide_type": "fragment"
    }
   },
   "outputs": [],
   "source": [
    "print(f\"{ord('M'):3} {ord('m'):3} {ord('a'):3} {ord('e'):3}\")\n",
    "print(f'{chr(77):>3} {chr(109):>3} {chr(97):>3} {chr(101):>3}')"
   ]
  },
  {
   "cell_type": "markdown",
   "metadata": {
    "slideshow": {
     "slide_type": "slide"
    }
   },
   "source": [
    "## _Strings_ são imutáveis\n",
    "Ao contrário do que acontece com listas, não é possível alterar o conteúdo de uma _string_.  \n",
    "Qualquer tentativa nesse sentido causará um erro.  \n",
    "Para conseguir uma variante da _string_ original é preciso criar uma cópia modificada."
   ]
  },
  {
   "cell_type": "code",
   "execution_count": null,
   "metadata": {
    "slideshow": {
     "slide_type": "fragment"
    }
   },
   "outputs": [],
   "source": [
    "título = 'Laranja madura na Beira da Estrada'\n",
    "print(título[8])"
   ]
  },
  {
   "cell_type": "code",
   "execution_count": null,
   "metadata": {
    "slideshow": {
     "slide_type": "subslide"
    }
   },
   "outputs": [],
   "source": [
    "título[8] = 'M'"
   ]
  },
  {
   "cell_type": "code",
   "execution_count": null,
   "metadata": {
    "slideshow": {
     "slide_type": "fragment"
    }
   },
   "outputs": [],
   "source": [
    "título_corr = título[:8] + 'M' + título[9:]\n",
    "print(título_corr)"
   ]
  },
  {
   "cell_type": "markdown",
   "metadata": {
    "slideshow": {
     "slide_type": "slide"
    }
   },
   "source": [
    "## Percorrendo _strings_ com _for_"
   ]
  },
  {
   "cell_type": "markdown",
   "metadata": {},
   "source": [
    "Python permite que você percorra uma *string* sem se preocupar com índices... "
   ]
  },
  {
   "cell_type": "code",
   "execution_count": null,
   "metadata": {
    "slideshow": {
     "slide_type": "fragment"
    }
   },
   "outputs": [],
   "source": [
    "texto = 'Uma string.'\n",
    "for c in texto:\n",
    "    print(c, end='-')\n",
    "print()"
   ]
  },
  {
   "cell_type": "code",
   "execution_count": null,
   "metadata": {
    "slideshow": {
     "slide_type": "fragment"
    }
   },
   "outputs": [],
   "source": [
    "texto = 'Uma string.'\n",
    "for c in texto[::-1]:\n",
    "    print(c, end='-')\n",
    "print()"
   ]
  },
  {
   "cell_type": "markdown",
   "metadata": {},
   "source": [
    "Mas você também pode usar índices se isso for absolutamente necessário..."
   ]
  },
  {
   "cell_type": "code",
   "execution_count": null,
   "metadata": {
    "slideshow": {
     "slide_type": "fragment"
    }
   },
   "outputs": [],
   "source": [
    "texto = 'Uma string.'\n",
    "for i in range(len(texto)):\n",
    "    print(texto[i], end='-')\n",
    "print()"
   ]
  },
  {
   "cell_type": "code",
   "execution_count": null,
   "metadata": {
    "slideshow": {
     "slide_type": "subslide"
    }
   },
   "outputs": [],
   "source": [
    "texto = 'Uma string.'\n",
    "for i in range(-1, -len(texto) - 1, -1):\n",
    "    print(texto[i], end=' ')\n",
    "print()"
   ]
  },
  {
   "cell_type": "markdown",
   "metadata": {
    "slideshow": {
     "slide_type": "slide"
    }
   },
   "source": [
    "## Percorrendo _strings_ com _while_"
   ]
  },
  {
   "cell_type": "code",
   "execution_count": null,
   "metadata": {
    "slideshow": {
     "slide_type": "fragment"
    }
   },
   "outputs": [],
   "source": [
    "texto = 'Uma string.'\n",
    "i = 0\n",
    "while i < len(texto):\n",
    "    print(texto[i], end=' ')\n",
    "    i += 1\n",
    "print()"
   ]
  },
  {
   "cell_type": "code",
   "execution_count": null,
   "metadata": {
    "slideshow": {
     "slide_type": "subslide"
    }
   },
   "outputs": [],
   "source": [
    "texto = 'Uma string.'\n",
    "i = -1\n",
    "while i >= -len(texto):\n",
    "    print(texto[i], end=' ')\n",
    "    i -= 1\n",
    "print()"
   ]
  },
  {
   "cell_type": "markdown",
   "metadata": {
    "slideshow": {
     "slide_type": "slide"
    }
   },
   "source": [
    "## Os operadores *in* e *not in*\n",
    "Os operadores *in* e *not in* testam se uma _string_ é subcadeia de outra."
   ]
  },
  {
   "cell_type": "code",
   "execution_count": null,
   "metadata": {
    "slideshow": {
     "slide_type": "fragment"
    }
   },
   "outputs": [],
   "source": [
    "título = 'Laranja Madura na Beira da Estrada'.lower()\n",
    "fruta = 'banana'\n",
    "\n",
    "print(\"('banana' in título) é\", fruta in título)"
   ]
  },
  {
   "cell_type": "code",
   "execution_count": null,
   "metadata": {
    "slideshow": {
     "slide_type": "fragment"
    }
   },
   "outputs": [],
   "source": [
    "print(\"('banana' not in título) é\", fruta not in título)"
   ]
  },
  {
   "cell_type": "code",
   "execution_count": null,
   "metadata": {
    "slideshow": {
     "slide_type": "subslide"
    }
   },
   "outputs": [],
   "source": [
    "subs = 'na Beira'\n",
    "\n",
    "print(\"('\" + subs + \"' in título) é\", subs in título)\n",
    "print(\"('\" + subs + \"' not in título) é\", subs not in título)"
   ]
  },
  {
   "cell_type": "code",
   "execution_count": null,
   "metadata": {
    "slideshow": {
     "slide_type": "subslide"
    }
   },
   "outputs": [],
   "source": [
    "subs = 'na beira'\n",
    "\n",
    "print(\"('\" + subs + \"' in título) é\", subs in título)\n",
    "print(\"('\" + subs + \"' not in título) é\", subs not in título)"
   ]
  },
  {
   "cell_type": "markdown",
   "metadata": {
    "slideshow": {
     "slide_type": "slide"
    }
   },
   "source": [
    "## Exemplos"
   ]
  },
  {
   "cell_type": "markdown",
   "metadata": {
    "slideshow": {
     "slide_type": "subslide"
    }
   },
   "source": [
    "### Remover todas as vogais de uma linha de texto\n",
    "Como uma _string_ não pode ser modificada, temos que criar uma “cópia” selecionando os caracteres que devem ser incluídos nela."
   ]
  },
  {
   "cell_type": "markdown",
   "metadata": {
    "slideshow": {
     "slide_type": "fragment"
    },
    "solution": "hidden"
   },
   "source": [
    "Um esboço de solução com alto nível de abstração poderia ser:\n",
    "\n",
    "-   obter o texto original\n",
    "-   gerar o resultado eliminando todas as vogais\n",
    "-   exibir o resultado"
   ]
  },
  {
   "cell_type": "code",
   "execution_count": 3,
   "metadata": {
    "slideshow": {
     "slide_type": "subslide"
    }
   },
   "outputs": [],
   "source": [
    "# obter o texto original\n",
    "texto = 'É difícil não esquecer dos detalhes.'\n",
    "vogais = 'aáàãâeéêiíoóõôuú'\n",
    "vogais += vogais.upper()"
   ]
  },
  {
   "cell_type": "markdown",
   "metadata": {},
   "source": [
    "O *texto sem vogais* pode ser obtido de diversas maneiras. Vamos examinar três:"
   ]
  },
  {
   "cell_type": "markdown",
   "metadata": {},
   "source": [
    "- Usando uma *list comprehension* "
   ]
  },
  {
   "cell_type": "code",
   "execution_count": 7,
   "metadata": {},
   "outputs": [
    {
     "data": {
      "text/plain": [
       "' dfcl n sqcr ds dtlhs.'"
      ]
     },
     "execution_count": 7,
     "metadata": {},
     "output_type": "execute_result"
    }
   ],
   "source": [
    "#gerar o resultado eliminando todas as vogais\n",
    "texto_sem_vogais = ''.join([c for c in texto if c not in vogais])\n",
    "texto_sem_vogais"
   ]
  },
  {
   "cell_type": "markdown",
   "metadata": {},
   "source": [
    "- Usando um comando *for*"
   ]
  },
  {
   "cell_type": "code",
   "execution_count": 13,
   "metadata": {
    "slideshow": {
     "slide_type": "subslide"
    }
   },
   "outputs": [
    {
     "data": {
      "text/plain": [
       "' dfcl n sqcr ds dtlhs.'"
      ]
     },
     "execution_count": 13,
     "metadata": {},
     "output_type": "execute_result"
    }
   ],
   "source": [
    "#gerar o resultado eliminando todas as vogais\n",
    "texto_sem_vogais = ''\n",
    "for c in texto:\n",
    "    if c not in vogais:\n",
    "        texto_sem_vogais += c\n",
    "texto_sem_vogais"
   ]
  },
  {
   "cell_type": "markdown",
   "metadata": {},
   "source": [
    "- Usando um comando *while*"
   ]
  },
  {
   "cell_type": "code",
   "execution_count": 12,
   "metadata": {},
   "outputs": [
    {
     "data": {
      "text/plain": [
       "' dfcl n sqcr ds dtlhs.'"
      ]
     },
     "execution_count": 12,
     "metadata": {},
     "output_type": "execute_result"
    }
   ],
   "source": [
    "#gerar o resultado eliminando todas as vogais\n",
    "texto_sem_vogais = ''\n",
    "i = 0\n",
    "while i < len(texto):\n",
    "    if texto[i] not in vogais:\n",
    "        texto_sem_vogais += texto[i]\n",
    "    i += 1\n",
    "texto_sem_vogais"
   ]
  },
  {
   "cell_type": "code",
   "execution_count": null,
   "metadata": {
    "slideshow": {
     "slide_type": "subslide"
    }
   },
   "outputs": [],
   "source": [
    "# exibir o resultado\n",
    "print(repr(texto))\n",
    "print(repr(texto_sem_vogais))"
   ]
  },
  {
   "cell_type": "markdown",
   "metadata": {
    "slideshow": {
     "slide_type": "slide"
    }
   },
   "source": [
    "### Remover de um texto todas as ocorrências de uma subcadeia dada\n",
    "Remover de um texto todas as ocorrências de uma subcadeia dada."
   ]
  },
  {
   "cell_type": "markdown",
   "metadata": {
    "slideshow": {
     "slide_type": "fragment"
    },
    "solution": "hidden"
   },
   "source": [
    "Um esboço de solução com alto nível de abstração poderia ser:\n",
    "\n",
    "-   ler o texto original e a subcadeia a ser removida\n",
    "-   gerar o resultado eliminando todas as ocorrências da subcadeia do texto original\n",
    "-   exibir o resultado"
   ]
  },
  {
   "cell_type": "code",
   "execution_count": 28,
   "metadata": {
    "slideshow": {
     "slide_type": "subslide"
    }
   },
   "outputs": [
    {
     "name": "stdout",
     "output_type": "stream",
     "text": [
      "texto original = 'laranja madura na beira da estrada'\n",
      "          subs = 'ra'\n"
     ]
    }
   ],
   "source": [
    "# ler o texto original e a subcadeia a ser removida\n",
    "texto_original = 'Laranja Madura na Beira da Estrada'.lower()\n",
    "print('texto original =', repr(texto_original))\n",
    "subs = 'ra'\n",
    "print('          subs =', repr(subs))"
   ]
  },
  {
   "cell_type": "markdown",
   "metadata": {},
   "source": [
    "Há várias maneiras de *gerar o resultado eliminando todas as ocorrências da subcadeia do texto original*. Vamos examinar quatro delas:"
   ]
  },
  {
   "cell_type": "markdown",
   "metadata": {},
   "source": [
    "- Usando *replace*  \n",
    "  Esta é a maneira mais simples e direta"
   ]
  },
  {
   "cell_type": "code",
   "execution_count": 23,
   "metadata": {},
   "outputs": [
    {
     "data": {
      "text/plain": [
       "'lanja madu na bei da estda'"
      ]
     },
     "execution_count": 23,
     "metadata": {},
     "output_type": "execute_result"
    }
   ],
   "source": [
    "texto = texto_original.replace(subs, '')\n",
    "texto"
   ]
  },
  {
   "cell_type": "markdown",
   "metadata": {},
   "source": [
    "- Usando *count* e *find*  \n",
    "  Neste caso usamos *count* para descobrir quantas vezes *subs* aparece em *texto*. Esse valor vai controlar um *for* que eliminará essas ocorrências uma a uma, usando *slices*."
   ]
  },
  {
   "cell_type": "code",
   "execution_count": 19,
   "metadata": {},
   "outputs": [
    {
     "data": {
      "text/plain": [
       "4"
      ]
     },
     "execution_count": 19,
     "metadata": {},
     "output_type": "execute_result"
    }
   ],
   "source": [
    "num_subs = texto_original.count(subs)\n",
    "num_subs"
   ]
  },
  {
   "cell_type": "code",
   "execution_count": 24,
   "metadata": {},
   "outputs": [
    {
     "data": {
      "text/plain": [
       "'lanja madu na bei da estda'"
      ]
     },
     "execution_count": 24,
     "metadata": {},
     "output_type": "execute_result"
    }
   ],
   "source": [
    "texto = texto_original\n",
    "for i in range(num_subs):\n",
    "    ini = texto.find(subs)\n",
    "    texto = texto[:ini] + texto[ini+len(subs):]\n",
    "texto"
   ]
  },
  {
   "cell_type": "markdown",
   "metadata": {},
   "source": [
    "-   Usando apenas *find*  \n",
    "    Neste caso não sabemos quantas vezes *subs* aparece em *texto* e, portanto, não podemos usar o *for*. A saída é substituí-lo por um *while* controlado pelo resultado do *find*. Lembre-se de que um *find* mal-sucedido retorna `-1` e é isso que nos permitirá controlar o *while*."
   ]
  },
  {
   "cell_type": "code",
   "execution_count": 25,
   "metadata": {},
   "outputs": [
    {
     "data": {
      "text/plain": [
       "'lanja madu na bei da estda'"
      ]
     },
     "execution_count": 25,
     "metadata": {},
     "output_type": "execute_result"
    }
   ],
   "source": [
    "texto = texto_original\n",
    "devo_continuar = True\n",
    "while devo_continuar:\n",
    "    ini = texto.find(subs)\n",
    "    if ini == -1:\n",
    "        devo_continuar = False\n",
    "    else:\n",
    "        texto = texto[:ini] + texto[ini+len(subs):]\n",
    "texto"
   ]
  },
  {
   "cell_type": "markdown",
   "metadata": {},
   "source": [
    "- Na raça, sem usar qualquer função “mais esperta”  \n",
    "  Neste caso, só nos resta copiar o texto caractere a caractere, “saltando sobre” as possíveis ocorrências de *subs*.  \n",
    "  Dessa forma nosso *step* será `1` enquanto não encontrarmos uma ocorrência de *subs* e `len(subs)` quando a encontrarmos.  \n",
    "  Como *step* não será constante, implementaremos a iteração usando um *while* e não um *for*."
   ]
  },
  {
   "cell_type": "code",
   "execution_count": 33,
   "metadata": {
    "slideshow": {
     "slide_type": "subslide"
    }
   },
   "outputs": [
    {
     "data": {
      "text/plain": [
       "'lanja madu na bei da est'"
      ]
     },
     "execution_count": 33,
     "metadata": {},
     "output_type": "execute_result"
    }
   ],
   "source": [
    "# gerar o resultado eliminando todas as ocorrências da subcadeia do texto original\n",
    "texto = ''\n",
    "i = 0\n",
    "while i < len(texto_original) - len(subs):\n",
    "    if texto_original[i: i+len(subs)] == subs:\n",
    "        i += len(subs)\n",
    "    else:\n",
    "        texto += texto_original[i]\n",
    "        i += 1\n",
    "texto"
   ]
  },
  {
   "cell_type": "code",
   "execution_count": null,
   "metadata": {
    "slideshow": {
     "slide_type": "subslide"
    }
   },
   "outputs": [],
   "source": [
    "# exibir o resultado\n",
    "print('resultado =', repr(resultado))"
   ]
  },
  {
   "cell_type": "markdown",
   "metadata": {
    "slideshow": {
     "slide_type": "slide"
    }
   },
   "source": [
    "### Verificar se uma frase é palíndroma\n",
    "Dada uma frase, verificar se ela é palíndroma, desconsiderando acentos, espaços e pontuação. Uma frase é palíndroma se ela puder ser lida igualmente nos dois sentidos."
   ]
  },
  {
   "cell_type": "markdown",
   "metadata": {
    "slideshow": {
     "slide_type": "subslide"
    }
   },
   "source": [
    "Um esboço de solução com alto nível de abstração poderia ser:\n",
    "\n",
    "-   ler a frase\n",
    "-   eliminar caracteres a serem desconsiderados\n",
    "-   verificar se é palíndroma\n",
    "-   exibir o resultado da verificação"
   ]
  },
  {
   "cell_type": "code",
   "execution_count": 47,
   "metadata": {
    "slideshow": {
     "slide_type": "subslide"
    }
   },
   "outputs": [],
   "source": [
    "# ler a frase original\n",
    "frase_ori = input('Digite uma frase: ')"
   ]
  },
  {
   "cell_type": "code",
   "execution_count": 48,
   "metadata": {
    "slideshow": {
     "slide_type": "subslide"
    }
   },
   "outputs": [],
   "source": [
    "import string\n",
    "\n",
    "alfabeto = string.ascii_lowercase\n",
    "com_acentos = 'áàãâéêíóõôúç'\n",
    "sem_acentos = 'aaaaeeiooouc'"
   ]
  },
  {
   "cell_type": "code",
   "execution_count": 49,
   "metadata": {
    "slideshow": {
     "slide_type": "subslide"
    }
   },
   "outputs": [],
   "source": [
    "# criar frase modificada, \n",
    "# omitindo caracteres a serem desconsiderados\n",
    "\n",
    "frase_mod = ''\n",
    "for c in frase_ori.lower():\n",
    "    if c in alfabeto:\n",
    "        frase_mod += c\n",
    "    elif c in com_acentos:\n",
    "        frase_mod += sem_acentos[com_acentos.index(c)]"
   ]
  },
  {
   "cell_type": "code",
   "execution_count": 51,
   "metadata": {
    "slideshow": {
     "slide_type": "subslide"
    }
   },
   "outputs": [
    {
     "data": {
      "text/plain": [
       "(33, 16, 'socorrammesubino', 'onibusemmarrocos', 'socorrammesubino', True)"
      ]
     },
     "execution_count": 51,
     "metadata": {},
     "output_type": "execute_result"
    }
   ],
   "source": [
    "# verificar se a frase modificada é palíndroma\n",
    "\n",
    "meio = len(frase_mod) // 2\n",
    "\n",
    "metade_esq = frase_mod[:meio]\n",
    "metade_dir = frase_mod[-meio:]\n",
    "metade_dir_rev = metade_dir[::-1]\n",
    "\n",
    "eh_palíndroma = (metade_esq == metade_dir_rev)\n",
    "len(frase_mod), meio, metade_esq, metade_dir, metade_dir_rev, eh_palíndroma"
   ]
  },
  {
   "cell_type": "code",
   "execution_count": 39,
   "metadata": {
    "slideshow": {
     "slide_type": "subslide"
    }
   },
   "outputs": [
    {
     "name": "stdout",
     "output_type": "stream",
     "text": [
      "'Socorram-me, subi no ônibus em Marrocos!' é palíndroma.\n"
     ]
    }
   ],
   "source": [
    "# exibir o resultado da verificação\n",
    "if eh_palíndroma:\n",
    "    print(\"'\" + frase_ori + \"'\", 'é palíndroma.')\n",
    "else:\n",
    "    print(\"'\" + frase_ori + \"'\", 'não é palíndroma.')"
   ]
  },
  {
   "cell_type": "code",
   "execution_count": null,
   "metadata": {},
   "outputs": [],
   "source": []
  }
 ],
 "metadata": {
  "celltoolbar": "Slideshow",
  "kernelspec": {
   "display_name": "Python 3",
   "language": "python",
   "name": "python3"
  },
  "language_info": {
   "codemirror_mode": {
    "name": "ipython",
    "version": 3
   },
   "file_extension": ".py",
   "mimetype": "text/x-python",
   "name": "python",
   "nbconvert_exporter": "python",
   "pygments_lexer": "ipython3",
   "version": "3.6.5"
  },
  "latex_envs": {
   "LaTeX_envs_menu_present": true,
   "autoclose": false,
   "autocomplete": true,
   "bibliofile": "biblio.bib",
   "cite_by": "apalike",
   "current_citInitial": 1,
   "eqLabelWithNumbers": true,
   "eqNumInitial": 1,
   "hotkeys": {
    "equation": "Ctrl-E",
    "itemize": "Ctrl-I"
   },
   "labels_anchors": false,
   "latex_user_defs": false,
   "report_style_numbering": false,
   "user_envs_cfg": false
  },
  "toc": {
   "base_numbering": 1,
   "nav_menu": {},
   "number_sections": true,
   "sideBar": true,
   "skip_h1_title": true,
   "title_cell": "Table of Contents",
   "title_sidebar": "Contents",
   "toc_cell": false,
   "toc_position": {},
   "toc_section_display": true,
   "toc_window_display": false
  },
  "varInspector": {
   "cols": {
    "lenName": 16,
    "lenType": 16,
    "lenVar": 40
   },
   "kernels_config": {
    "python": {
     "delete_cmd_postfix": "",
     "delete_cmd_prefix": "del ",
     "library": "var_list.py",
     "varRefreshCmd": "print(var_dic_list())"
    },
    "r": {
     "delete_cmd_postfix": ") ",
     "delete_cmd_prefix": "rm(",
     "library": "var_list.r",
     "varRefreshCmd": "cat(var_dic_list()) "
    }
   },
   "types_to_exclude": [
    "module",
    "function",
    "builtin_function_or_method",
    "instance",
    "_Feature"
   ],
   "window_display": false
  }
 },
 "nbformat": 4,
 "nbformat_minor": 2
}
