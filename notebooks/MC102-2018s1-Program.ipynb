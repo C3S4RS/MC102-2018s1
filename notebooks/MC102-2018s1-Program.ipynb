{
 "cells": [
  {
   "cell_type": "code",
   "execution_count": 6,
   "metadata": {},
   "outputs": [
    {
     "name": "stdout",
     "output_type": "stream",
     "text": [
      "Programa da Disciplina\n",
      "Organização Básica de um Ambiente Computacional\n",
      "Variáveis, Constantes e Atribuições\n",
      "Entrada e Saída de Dados\n",
      "Expressões Aritméticas, Lógicas e Relacionais\n",
      "Comandos Condicionais\n",
      "Comandos de Repetição\n",
      "Vetores e Strings\n",
      "Matrizes\n",
      "Funções\n",
      "Escopo de Variáveis\n",
      "Algoritmos de Ordenação\n",
      "Algoritmos de Busca\n",
      "Tipos Enumerados e Registros\n",
      "Arquivos Textos e Binários\n",
      "Recursão\n"
     ]
    }
   ],
   "source": [
    "\n",
    "s = \"Programa da Disciplina • Organizacäo Bäsica de um Ambiente Computacional • Variaveis, Constantes e Atribuicoes • Entrada e Saida de Dados • Expressöes Aritmeti|cas, Lögicas e Relacionais • Comandos Condicionais • Comandos de Repeticäo • Vetores e Strings • Matrizes • Funcöes • Escopo de Variaveis • Algoritmos de Ordenacäo • Algoritmos de Busca • Tipos Enumerados e Registros • Arquivos Textos e Binärios • Recursäo\"\n",
    "\n",
    "lista = s.split(\" • \")\n",
    "programa = ['Programa da Disciplina', 'Organização Básica de um Ambiente Computacional', 'Variáveis, Constantes e Atribuições', 'Entrada e Saída de Dados', 'Expressões Aritméticas, Lógicas e Relacionais', 'Comandos Condicionais', 'Comandos de Repetição', 'Vetores e Strings', 'Matrizes', 'Funções', 'Escopo de Variáveis', 'Algoritmos de Ordenação', 'Algoritmos de Busca', 'Tipos Enumerados e Registros', 'Arquivos Textos e Binários', 'Recursão']\n",
    "\n",
    "for item in programa:\n",
    "    print(item)"
   ]
  },
  {
   "cell_type": "code",
   "execution_count": null,
   "metadata": {
    "collapsed": true
   },
   "outputs": [],
   "source": []
  }
 ],
 "metadata": {
  "kernelspec": {
   "display_name": "Python 3",
   "language": "python",
   "name": "python3"
  },
  "language_info": {
   "codemirror_mode": {
    "name": "ipython",
    "version": 3
   },
   "file_extension": ".py",
   "mimetype": "text/x-python",
   "name": "python",
   "nbconvert_exporter": "python",
   "pygments_lexer": "ipython3",
   "version": "3.6.4"
  },
  "toc": {
   "nav_menu": {},
   "number_sections": false,
   "sideBar": true,
   "skip_h1_title": false,
   "title_cell": "Table of Contents",
   "title_sidebar": "Contents",
   "toc_cell": false,
   "toc_position": {},
   "toc_section_display": true,
   "toc_window_display": false
  },
  "varInspector": {
   "cols": {
    "lenName": 16,
    "lenType": 16,
    "lenVar": 40
   },
   "kernels_config": {
    "python": {
     "delete_cmd_postfix": "",
     "delete_cmd_prefix": "del ",
     "library": "var_list.py",
     "varRefreshCmd": "print(var_dic_list())"
    },
    "r": {
     "delete_cmd_postfix": ") ",
     "delete_cmd_prefix": "rm(",
     "library": "var_list.r",
     "varRefreshCmd": "cat(var_dic_list()) "
    }
   },
   "types_to_exclude": [
    "module",
    "function",
    "builtin_function_or_method",
    "instance",
    "_Feature"
   ],
   "window_display": false
  }
 },
 "nbformat": 4,
 "nbformat_minor": 2
}
