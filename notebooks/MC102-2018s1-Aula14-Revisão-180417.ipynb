{
 "cells": [
  {
   "cell_type": "code",
   "execution_count": 3,
   "metadata": {
    "ExecuteTime": {
     "end_time": "2018-04-08T13:05:17.279859Z",
     "start_time": "2018-04-08T13:05:17.275510Z"
    },
    "init_cell": true,
    "slideshow": {
     "slide_type": "skip"
    },
    "solution": "hidden"
   },
   "outputs": [],
   "source": [
    "from IPython.core.interactiveshell import InteractiveShell\n",
    "InteractiveShell.ast_node_interactivity = \"all\""
   ]
  },
  {
   "cell_type": "markdown",
   "metadata": {
    "slideshow": {
     "slide_type": "slide"
    }
   },
   "source": [
    "# Revisão"
   ]
  },
  {
   "cell_type": "markdown",
   "metadata": {},
   "source": [
    "## Exemplo 1\n",
    "Dada uma lista de inteiros não negativos, encontre o perímetro máximo dos triângulos cujos lados fazem parte da lista.\n",
    "\n",
    "**Entrada:**  \n",
    "A primeira linha contém um inteiro $t$, que é o número de casos de teste.  \n",
    "Para cada caso de teste, a primeira linha contém um inteiro $n$, que é o tamanho da lista.  \n",
    "A próxima linha contém $n$ números inteiros não negativos, separados por espaços.\n",
    "\n",
    "**Saída:**  \n",
    "Para cada caso de teste, a saída é o valor do perímetro máximo, se o triângulo for possível, ou $-1$, caso não seja.\n",
    "\n",
    "**Restrições:**  \n",
    "$1 \\le t \\le 100$  \n",
    "$3 \\le n \\le 100$"
   ]
  },
  {
   "cell_type": "code",
   "execution_count": 83,
   "metadata": {},
   "outputs": [
    {
     "name": "stdout",
     "output_type": "stream",
     "text": [
      "\n",
      "*** Teste 1 ***\n",
      "sol1 1.3800289939972572\n",
      "20\n",
      "sol2 0.11898300895700231\n",
      "20\n",
      "sol3 0.0901119569898583\n",
      "20\n",
      "\n",
      "*** Teste 2 ***\n",
      "sol1 2.1064786450006068\n",
      "-1\n",
      "sol2 0.1323430429911241\n",
      "-1\n",
      "sol3 0.1633589050034061\n",
      "-1\n"
     ]
    }
   ],
   "source": [
    "%reset -f\n",
    "import timeit\n",
    "\n",
    "# solução \"força bruta\": x, y e z varrem todas as combinações possíveis\n",
    "def sol1(n, pts):\n",
    "    maxper = -1\n",
    "    for x in range(n - 2):\n",
    "        i = pts[x]\n",
    "        for y in range(x + 1, n - 1):\n",
    "            j = pts[y]\n",
    "            for z in range(y + 1, n):\n",
    "                k = pts[z]\n",
    "                triang = sorted([i, j, k])\n",
    "                é_triang = (triang[2] < triang[0] + triang[1])\n",
    "                per = i + j + k\n",
    "                if é_triang and per > maxper:\n",
    "                    maxper = i + j + k\n",
    "    return maxper\n",
    "\n",
    "# solução melhorada (usando for): a lista de pontos é colocada em ordem inversa antes da busca\n",
    "#     a resposta é o perímetro do triângulo pts[i], pts[i+1], pts[i+2] mais próximo do início da lista\n",
    "#     se o triângulo não existir, a resposta é -1\n",
    "def sol2(n, pts):\n",
    "    pts.sort(reverse=True)\n",
    "    per = -1\n",
    "    for i in range(n - 2):\n",
    "        é_triângulo = (pts[i] < pts[i + 1] + pts[i + 2])\n",
    "        if é_triângulo:\n",
    "            per = sum(pts[i:i + 3])\n",
    "            break\n",
    "    return per\n",
    "\n",
    "# solução melhorada (usando while): a lista de pontos é colocada em ordem inversa antes da busca\n",
    "#     a resposta é o perímetro do triângulo pts[i], pts[i+1], pts[i+2] mais próximo do início da lista\n",
    "#     se o triângulo não existir, a resposta é -1\n",
    "def sol3(n, pts):\n",
    "    pts.sort(reverse=True)\n",
    "    i = 0\n",
    "    ainda_não_achei = True\n",
    "    while ainda_não_achei and i < n - 2:\n",
    "        é_triângulo = (pts[i] < pts[i + 1] + pts[i + 2])\n",
    "        if é_triângulo:\n",
    "            ainda_não_achei = False\n",
    "        else:\n",
    "            i += 1\n",
    "    if ainda_não_achei:\n",
    "        return -1\n",
    "    else:\n",
    "        return sum(pts[i:i + 3])\n",
    "\n",
    "with open(\"../data/aula14ex1.txt\", \"r\") as f:\n",
    "    t = int(f.readline().split()[0])\n",
    "\n",
    "    for it in range(t):\n",
    "        print(f'\\n*** Teste {it + 1} ***')\n",
    "        n = int(f.readline().split()[0])\n",
    "        pts = f.readline()\n",
    "        pts = pts.split()[:n]\n",
    "        pts = [int(x) for x in pts]\n",
    "        \n",
    "        print('sol1', timeit.timeit(\"sol1(n, pts)\", number=100000, setup=\"from __main__ import sol1, n, pts\"))\n",
    "        maxper = sol1(n, pts)\n",
    "        print(maxper)\n",
    "        \n",
    "        print('sol2', timeit.timeit(\"sol2(n, pts)\", number=100000, setup=\"from __main__ import sol2, n, pts\"))\n",
    "        maxper = sol2(n, pts)\n",
    "        print(maxper)\n",
    "        \n",
    "        print('sol3', timeit.timeit(\"sol3(n, pts)\", number=100000, setup=\"from __main__ import sol3, n, pts\"))\n",
    "        maxper = sol3(n, pts)\n",
    "        print(maxper)\n"
   ]
  },
  {
   "cell_type": "markdown",
   "metadata": {},
   "source": [
    "### Observações"
   ]
  },
  {
   "cell_type": "markdown",
   "metadata": {},
   "source": [
    "#### Como obter a raiz quadrada “inteira” de $n$\n",
    "Caso você não queira usar o dicionário para relacionar os valores de $x^2$ e $x$, uma forma muito rápida para obter a raiz quadrada de um inteiro não negativo é o chamado “método babilônico”..."
   ]
  },
  {
   "cell_type": "code",
   "execution_count": 81,
   "metadata": {},
   "outputs": [],
   "source": [
    "%reset -f\n",
    "\n",
    "def isqrt(n):\n",
    "    x = n\n",
    "    y = 1\n",
    "    while x > y:\n",
    "        x = (x + y) // 2\n",
    "        y = n // x\n",
    "    return x"
   ]
  },
  {
   "cell_type": "code",
   "execution_count": 82,
   "metadata": {},
   "outputs": [
    {
     "name": "stdout",
     "output_type": "stream",
     "text": [
      "0 1 5 6 6\n"
     ]
    }
   ],
   "source": [
    "print(isqrt(0), isqrt(1), isqrt(35), isqrt(36), isqrt(37))"
   ]
  },
  {
   "cell_type": "markdown",
   "metadata": {},
   "source": [
    "#### Como separar os itens da lista na linha de entrada\n",
    "\n",
    "Vamos recriar uma situação do exemplo e depois examinar quatro maneiras de transformar uma linha de texto em uma lista de inteiros.  \n",
    "A última foi adotada no exemplo."
   ]
  },
  {
   "cell_type": "code",
   "execution_count": 89,
   "metadata": {},
   "outputs": [
    {
     "name": "stdout",
     "output_type": "stream",
     "text": [
      "pts após split = ['7', '55', '20', '1', '4', '33', '12'] \n",
      "\n",
      "Maneira 1: [7, 55, 20, 1, 4, 33, 12]\n",
      "Maneira 2: [7, 55, 20, 1, 4, 33, 12]\n",
      "Maneira 3: [7, 55, 20, 1, 4, 33, 12]\n",
      "Maneira 4: [7, 55, 20, 1, 4, 33, 12]\n"
     ]
    }
   ],
   "source": [
    "# vamos supor que a execução do comando \"pts = f.readline()\" no exemplo (linha 57)\n",
    "# deixe pts no mesmo estado que os comando abaixos\n",
    "n = 7\n",
    "pts = '7 55 20 1 4 33 12'\n",
    "\n",
    "# linha 58: separa os itens da entrada, coloca todos numa lista e pega uma fatia com os n primeiros\n",
    "pts = pts.split()[:n]\n",
    "\n",
    "# note que os itens de pts continuam sendo strings\n",
    "print('pts após split =', pts, '\\n')\n",
    "\n",
    "# vamos salvar uma cópia de pts para poder restaurá-la antes de cada exemplo\n",
    "cópia_pts = pts[:]\n",
    "\n",
    "# Maneira 1: percorrer a lista usando um comando for e converter item a item\n",
    "for i in range(len(pts)):\n",
    "    pts[i] = int(pts[i])\n",
    "\n",
    "print('Maneira 1:', pts)\n",
    "pts = cópia_pts[:]\n",
    "    \n",
    "# Maneira 2: percorrer a lista usando um comando for e converter item a item, criando uma nova lista\n",
    "pts = []\n",
    "for x in cópia_pts:\n",
    "    pts.append(int(x))\n",
    "\n",
    "print('Maneira 2:', pts)\n",
    "pts = cópia_pts[:]\n",
    "    \n",
    "# Maneira 3: percorrer a lista usando um comando for e converter item a item usando enumerate para manipular os índices\n",
    "for (i, x) in enumerate(pts):\n",
    "    pts[i] = int(x)\n",
    "\n",
    "print('Maneira 3:', pts)\n",
    "pts = cópia_pts[:]\n",
    "    \n",
    "# Maneira 4: usar uma \"list comprehension\" para converter item a item, enquanto atualiza a lista\n",
    "#     esta foi a técnica adotada no exemplo (linha 59)\n",
    "pts = [int(x) for x in pts]\n",
    "\n",
    "print('Maneira 4:', pts)"
   ]
  },
  {
   "cell_type": "markdown",
   "metadata": {
    "slideshow": {
     "slide_type": "subslide"
    }
   },
   "source": [
    "## Exemplo 2\n",
    "Se $p$ é o perímetro de um triângulo retângulo com lados de comprimento inteiro, $\\{a, b, c\\}$, com $ a \\lt b \\lt c$, há exatamente três soluções para $p = 120$.\n",
    "\n",
    "$\\{20,48,52\\}$, $\\{24,45,51\\}$, $\\{30,40,50\\}$\n",
    "\n",
    "Para qual valor de $p \\le 1000$ há o maior número de soluções?"
   ]
  },
  {
   "cell_type": "markdown",
   "metadata": {
    "slideshow": {
     "slide_type": "subslide"
    },
    "solution2": "shown",
    "solution2_first": true
   },
   "source": [
    "** Desenvolvimento**  \n",
    "O perímetro de um triângulo é dado por $p = a + b + c$.  \n",
    "Como $a \\lt b \\lt c$, o limite teórico para $a$ corresponderá a $b = a + 1$ e $c = a + 2$. Substituindo esses valores na equação do perímetro e resolvendo-a para $a$, obtemos $a_{máx} = \\dfrac{p - 3}{3}$.  \n",
    "Analogamente, o limite teórico para $b$ corresponderá a $c = b + 1$. Substituindo esse valor na equação do perímetro e resolvendo-a para $b$, \n",
    "obtemos $b_{máx} = \\dfrac{p - a - 1}{2}$."
   ]
  },
  {
   "cell_type": "code",
   "execution_count": 92,
   "metadata": {
    "solution2": "shown"
   },
   "outputs": [
    {
     "name": "stdout",
     "output_type": "stream",
     "text": [
      "perímetro  = 120\n",
      "# soluções = 3\n",
      "soluções   = [(20, 48, 52), (24, 45, 51), (30, 40, 50)]\n",
      "\n",
      "perímetro  = 840\n",
      "# soluções = 8\n",
      "soluções   = [(40, 399, 401), (56, 390, 394), (105, 360, 375), (120, 350, 370), (140, 336, 364), (168, 315, 357), (210, 280, 350), (240, 252, 348)]\n",
      "\n"
     ]
    }
   ],
   "source": [
    "%reset -f\n",
    "\n",
    "p = 1000\n",
    "\n",
    "# um dicionário relacionando x*x e x, evita a extração repetida da raiz quadrada inteira\n",
    "#     o limite para o índice é p // 2, que é a “maior” hipotenusa possível num triângulo de perímetro p\n",
    "#     somamos 1 porque range não inclui o valor de “stop”\n",
    "x2_x = {x * x: x for x in range(p // 2 + 1)}\n",
    "\n",
    "# criamos uma lista para conter as soluções encontradas\n",
    "# soluções[k] = lista de todos os triângulos retângulos inteiros com perímetro k\n",
    "# nessa lista, cada triângulo é representado por uma tupla (a, b, c)\n",
    "# inicialmente, a lista está vazia\n",
    "soluções = [[] for _ in range(p + 1)]\n",
    "\n",
    "# vamos examinar a e b exaustivamente, sujeitos aos limites calculados acima\n",
    "# para cada par de catetos (a, b) calculamos a hipotenusa c e, se ela for inteira, salvamos o triângulo\n",
    "\n",
    "for a in range(1, (p - 3) // 3 + 1):\n",
    "    for b in range (a + 1, (p - a - 1) // 2 + 1):\n",
    "        c2 = a * a + b * b\n",
    "        # se c2 for um quadrado perfeito estará no dicionário\n",
    "        c = x2_x.get(c2, None)\n",
    "        \n",
    "        # se c2 for um quadrado perfeito, c não é None\n",
    "        # nesse caso, se o perímetro do triângulo estiver na faixa desejada, salvamos a solução\n",
    "        if c is not None and (a + b + c) <= p:\n",
    "            soluções[a + b + c].append((a, b, c))\n",
    "\n",
    "# criamos uma lista paralela a sols, com o número de soluções encontradas para cada perímetro\n",
    "len_soluções = [len(x) for x in soluções]\n",
    "\n",
    "# para conferir... vamos exibir a resposta para um perímetro 120 (resposta no enunciado)\n",
    "print(f'perímetro  = 120')\n",
    "print(f'# soluções = {len_soluções[120]}')\n",
    "print(f'soluções   = {soluções[120]}')\n",
    "print()\n",
    "\n",
    "# agora vamos calcular a resposta do problema: o maior número de soluções é max(len_soluções) e\n",
    "#     esse valor está na posição len_soluções.index(max(len_soluções))\n",
    "ip = len_soluções.index(max(len_soluções))\n",
    "print(f'perímetro  = {ip}')\n",
    "print(f'# soluções = {len_soluções[ip]}')\n",
    "print(f'soluções   = {soluções[ip]}')\n",
    "print()\n"
   ]
  },
  {
   "cell_type": "markdown",
   "metadata": {
    "slideshow": {
     "slide_type": "subslide"
    }
   },
   "source": [
    "## Exemplo 3\n",
    "\n",
    "Há 100 lâmpadas em fila, numeradas sequencialmente de 1 a 100. Inicialmente todas estão apagadas.  \n",
    "Você vai passar 100 vezes pela fila, examinando as lâmpadas de acordo com as seguintes regras:\n",
    "\n",
    "-   Ao examinar uma lâmpada você sempre muda o estado dela (se a lâmpada estiver apagada, você a acende; se estiver acesa, você a apaga).  \n",
    "-   Na primeira vez, examine todas as lâmpadas.   \n",
    "-   Na segunda vez, examine apenas as lâmpadas 2, 4, 6, ...  \n",
    "-   Na terceira vez, examine apenas as lâmpadas 3, 6, 9, ...  \n",
    "-   Repita esse processo até examinar apenas a lâmpada número 100.  \n",
    "\n",
    "Quando você terminar, quais lâmpadas estarão acesas?"
   ]
  },
  {
   "cell_type": "markdown",
   "metadata": {
    "slideshow": {
     "slide_type": "subslide"
    },
    "solution2": "hidden",
    "solution2_first": true
   },
   "source": [
    "**Desenvolvimento**\n",
    "Vamos usar uma lista de *bools* para representar o estado das lâmpadas (True = acesa, False = apagada).  \n",
    "Vamos modelar o processo usando dois comandos *for* aninhados:\n",
    "\n",
    "-   O *for i...* externo modelará as 100 passagens pela fila de lâmpadas\n",
    "-   O *for j...* interno modelará o que acontece na passagem *i*.  \n",
    "    Portanto, ele começará na lâmpada *i* e irá até o fim, examinando as lâmpadas de *i* em *i*.  \n",
    "    Cada lâmpada examinada terá seu estado mudado."
   ]
  },
  {
   "cell_type": "code",
   "execution_count": 93,
   "metadata": {
    "solution2": "hidden"
   },
   "outputs": [
    {
     "name": "stdout",
     "output_type": "stream",
     "text": [
      "lâmpadas acesas = [1, 4, 9, 16, 25, 36, 49, 64, 81, 100]\n"
     ]
    }
   ],
   "source": [
    "lâmpadas = [False] * 101\n",
    "for i in range (1, 101):\n",
    "    for j in range (i, 101, i):\n",
    "        lâmpadas[j] = not lâmpadas[j]\n",
    "\n",
    "# se lâmpadas[i] for True, ela está acesa\n",
    "acesas = [i for i in range(1, 101) if lâmpadas[i]]\n",
    "print('lâmpadas acesas =', acesas)"
   ]
  },
  {
   "cell_type": "markdown",
   "metadata": {},
   "source": [
    "**Análise do resultado**  \n",
    "Só ficaram acesas as lâmpadas cujos números são quadrados perfeitos. Será que conseguimos explicar isso?\n",
    "> Toda lâmpada $i$, onde $i$ é primos, estará apagada. Ela foi acesa no primeiro passo e foi apagada no passo $i$. Como $i$ é primo, ela não foi examinada em qualquer outro passo.\n",
    "\n",
    "> Toda lâmpada $i$, onde $i$ não é primo, pode ter seu número expresso como um produto de potências de números primos, isto é $i = p_1^{e_1} \\cdot p_2^{e_2} \\cdot \\dots p_n^{e_n}$.  \n",
    "  Essa lâmpada será examinada em todo passo que seja um fator de $i$, isto é, $(e_1 + 1) \\cdot (e_2 + 1) \\cdot \\dots (e_n + 1)$ vezes.  \n",
    "  Para que ela esteja acesa ao final, é preciso que esse produto seja ímpar.  \n",
    "  Para que esse produto seja ímpar, é preciso que todos os fatores sejam ímpares.  \n",
    "  Para que todos os fatores $(e_k + 1)$ sejam ímpares, todos $e_k$ devem ser pares.  \n",
    "  Se $e_k$ é par, ele pode ser escrito como $2 \\frac{e_k}{2}$.  \n",
    "  Assim, para toda lâmpada $i$ que estiver acesa no final do processo, poderemos escrever $i = p_1^{2\\frac{e_1}{2}} \\cdot p_2^{2\\frac{e_2}{2}} \\cdot \\dots p_n^{2\\frac{e_n}{2}}$ e, portanto, $i = (p_1^{\\frac{e_1}{2}} \\cdot p_2^{\\frac{e_2}{2}} \\cdot \\dots p_n^{\\frac{e_n}{2}})^2$, isto é, $i$ é um quadrado perfeito.  \n",
    "  Conhecida essa relação, podemos reescrever nossa solução como..."
   ]
  },
  {
   "cell_type": "code",
   "execution_count": 103,
   "metadata": {},
   "outputs": [
    {
     "name": "stdout",
     "output_type": "stream",
     "text": [
      "lâmpadas acesas = [1, 4, 9, 16, 25, 36, 49, 64, 81, 100]\n"
     ]
    }
   ],
   "source": [
    "%reset -f\n",
    "\n",
    "acesas = [i * i for i in range(1, int(100 ** 0.5) + 1)]\n",
    "print('lâmpadas acesas =', acesas)"
   ]
  },
  {
   "cell_type": "markdown",
   "metadata": {},
   "source": [
    "## Exemplo 4\n",
    "Dada uma lista de tamanho $n$ e um número $k$, encontre todos os elementos que aparecem na lista mais do que $\\dfrac{n}{k}$ vezes.  \n",
    "Por exemplo, se a lista de entrada for $[3, 1, 2, 2, 1, 2, 3, 3]$ e $k = 4$, a saída deverá ser $[2, 3]$.  \n",
    "Note que o tamanho da lista é $8$ (ou $n = 8$), portanto, precisamos encontrar todos os elementos que aparecem mais de $2$ (ou $\\dfrac{8}{4}$) vezes.  \n",
    "Existem dois elementos que aparecem mais de duas vezes, $2$ e $3$."
   ]
  },
  {
   "cell_type": "markdown",
   "metadata": {},
   "source": [
    "Vamos usar um gerador de aleatórios para criar listas de tamanho arbitrário..."
   ]
  },
  {
   "cell_type": "markdown",
   "metadata": {},
   "source": [
    "Uma solução simples é percorrer a lista e, para cada novo valor encontrado, contar quantos iguais a ele existem até o final da lista, salvando todos aqueles que aparecerem mais do que $\\frac{n}{k}$ vezes."
   ]
  },
  {
   "cell_type": "code",
   "execution_count": 117,
   "metadata": {},
   "outputs": [
    {
     "name": "stdout",
     "output_type": "stream",
     "text": [
      "      10    0.00002    10     1      2 [6, 9]\n",
      "     100    0.00050    50     2      7 [17, 25, 44, 49, 53, 59, 61]\n",
      "    1000    0.03257   333     3     15 [51, 155, 176, 328, 361, 424, 490, 536, 610, 628]\n",
      "   10000    2.38959  2500     4     33 [232, 759, 1344, 1852, 1947, 2524, 2657, 2693, 2776, 3022]\n"
     ]
    },
    {
     "ename": "KeyboardInterrupt",
     "evalue": "",
     "output_type": "error",
     "traceback": [
      "\u001b[0;31m---------------------------------------------------------------------------\u001b[0m",
      "\u001b[0;31mKeyboardInterrupt\u001b[0m                         Traceback (most recent call last)",
      "\u001b[0;32m<ipython-input-117-f448f276087c>\u001b[0m in \u001b[0;36m<module>\u001b[0;34m()\u001b[0m\n\u001b[1;32m     18\u001b[0m             \u001b[0mcnt\u001b[0m \u001b[0;34m=\u001b[0m \u001b[0;36m0\u001b[0m\u001b[0;34m\u001b[0m\u001b[0m\n\u001b[1;32m     19\u001b[0m             \u001b[0;32mfor\u001b[0m \u001b[0mlj\u001b[0m \u001b[0;32min\u001b[0m \u001b[0mlista\u001b[0m\u001b[0;34m[\u001b[0m\u001b[0mi\u001b[0m\u001b[0;34m:\u001b[0m\u001b[0;34m]\u001b[0m\u001b[0;34m:\u001b[0m\u001b[0;34m\u001b[0m\u001b[0m\n\u001b[0;32m---> 20\u001b[0;31m                 \u001b[0;32mif\u001b[0m \u001b[0mlj\u001b[0m \u001b[0;34m==\u001b[0m \u001b[0mli\u001b[0m\u001b[0;34m:\u001b[0m\u001b[0;34m\u001b[0m\u001b[0m\n\u001b[0m\u001b[1;32m     21\u001b[0m                     \u001b[0mcnt\u001b[0m \u001b[0;34m+=\u001b[0m \u001b[0;36m1\u001b[0m\u001b[0;34m\u001b[0m\u001b[0m\n\u001b[1;32m     22\u001b[0m                     \u001b[0;32mif\u001b[0m \u001b[0mcnt\u001b[0m \u001b[0;34m>\u001b[0m \u001b[0mn\u001b[0m \u001b[0;34m//\u001b[0m \u001b[0mk\u001b[0m\u001b[0;34m:\u001b[0m\u001b[0;34m\u001b[0m\u001b[0m\n",
      "\u001b[0;31mKeyboardInterrupt\u001b[0m: "
     ]
    }
   ],
   "source": [
    "%reset -f\n",
    "\n",
    "from time import perf_counter\n",
    "from random import seed, choices\n",
    "\n",
    "for p in range(1, 7):\n",
    "    n = 10 ** p\n",
    "    k = n // p\n",
    "    seed(10)\n",
    "    lista = choices(range(1, n+1), k=n)\n",
    "    \n",
    "    start = perf_counter()\n",
    "    vistos = []\n",
    "    resp = []\n",
    "    for i, li in enumerate(lista):\n",
    "        if li not in vistos:\n",
    "            vistos.append(li)\n",
    "            cnt = 0\n",
    "            for lj in lista[i:]:\n",
    "                if lj == li:\n",
    "                    cnt += 1\n",
    "                    if cnt > n // k:\n",
    "                        resp.append(li)\n",
    "                        break\n",
    "    end = perf_counter()\n",
    "    print(f'{n:8} {end-start:10.5f} {k:5} {n // k:5} {len(resp):6} {sorted(resp)[:10]}')"
   ]
  },
  {
   "cell_type": "markdown",
   "metadata": {},
   "source": [
    "O problema é que essa solução tem complexidade $\\mathcal{O}(n^2)$, o que pode não ser aceitável.  \n",
    "Uma solução com complexidade $\\mathcal{O}(n \\cdot \\log_{2}{n})$ pode ser obtida ordenando-se primeiramente a lista, como mostrado abaixo."
   ]
  },
  {
   "cell_type": "code",
   "execution_count": 116,
   "metadata": {},
   "outputs": [
    {
     "name": "stdout",
     "output_type": "stream",
     "text": [
      "      10    0.00001       10     1      2 [6, 9]\n",
      "     100    0.00004       50     2      7 [17, 25, 44, 49, 53, 59, 61]\n",
      "    1000    0.00039      333     3     15 [51, 155, 176, 328, 361, 424, 490, 536, 610, 628]\n",
      "   10000    0.00494     2500     4     33 [232, 759, 1344, 1852, 1947, 2524, 2657, 2693, 2776, 3022]\n",
      "  100000    0.06476    20000     5     61 [297, 2927, 3549, 4273, 5158, 5715, 7310, 8570, 8662, 12029]\n",
      " 1000000    0.87014   166666     6     87 [5104, 6475, 12461, 14135, 24975, 39261, 41184, 46269, 73676, 109298]\n"
     ]
    }
   ],
   "source": [
    "%reset -f\n",
    "\n",
    "from time import perf_counter\n",
    "from random import seed, choices\n",
    "\n",
    "for p in range(1, 7):\n",
    "    n = 10 ** p\n",
    "    k = n // p\n",
    "    seed(10)\n",
    "    lista = choices(range(1, n+1), k=n)\n",
    "\n",
    "    start = perf_counter()\n",
    "    resp = []\n",
    "    lista.sort()\n",
    "    ia = None\n",
    "    cnt = 0\n",
    "    for i in lista:\n",
    "        if i != ia:\n",
    "            if cnt > n // k:\n",
    "                resp.append(ia)\n",
    "            cnt = 1\n",
    "            ia = i\n",
    "        else:\n",
    "            cnt += 1\n",
    "    if cnt > n // k:\n",
    "        resp.append(ia)\n",
    "\n",
    "    end = perf_counter()\n",
    "    print(f'{n:8} {end-start:10.5f} {k:8} {n // k:5} {len(resp):6} {sorted(resp)[:10]}')"
   ]
  },
  {
   "cell_type": "markdown",
   "metadata": {},
   "source": [
    "Esse desempenho pode ser melhorado ainda mais se, em vez de uma lista, usarmos um dicionário."
   ]
  },
  {
   "cell_type": "code",
   "execution_count": 119,
   "metadata": {},
   "outputs": [
    {
     "name": "stdout",
     "output_type": "stream",
     "text": [
      "      10    0.00001       10     1      2 [6, 9]\n",
      "     100    0.00003       50     2      7 [17, 25, 44, 49, 53, 59, 61]\n",
      "    1000    0.00026      333     3     15 [51, 155, 176, 328, 361, 424, 490, 536, 610, 628]\n",
      "   10000    0.00286     2500     4     33 [232, 759, 1344, 1852, 1947, 2524, 2657, 2693, 2776, 3022]\n",
      "  100000    0.02617    20000     5     61 [297, 2927, 3549, 4273, 5158, 5715, 7310, 8570, 8662, 12029]\n",
      " 1000000    0.40616   166666     6     87 [5104, 6475, 12461, 14135, 24975, 39261, 41184, 46269, 73676, 109298]\n"
     ]
    }
   ],
   "source": [
    "%reset -f\n",
    "\n",
    "from time import perf_counter\n",
    "from random import seed, choices\n",
    "\n",
    "for p in range(1, 7):\n",
    "    n = 10 ** p\n",
    "    k = n // p\n",
    "    seed(10)\n",
    "    lista = choices(range(1, n+1), k=n)\n",
    "\n",
    "    start = perf_counter()\n",
    "    resp = {}\n",
    "    for i in lista:\n",
    "        if i not in resp:\n",
    "            resp[i] = 1\n",
    "        else:\n",
    "            resp[i] += 1\n",
    "    resp = [key for key, cnt in resp.items() if cnt > n // k]\n",
    "    \n",
    "    end = perf_counter()\n",
    "    print(f'{n:8} {end-start:10.5f} {k:8} {n // k:5} {len(resp):6} {sorted(resp)[:10]}')"
   ]
  },
  {
   "cell_type": "markdown",
   "metadata": {},
   "source": [
    "## Exemplo 5\n",
    "Dada uma lista de inteiros positivos, colocar os itens pares em ordem crescente e os ímpares em ordem decrescente, mantendo os respectivos grupos em suas posições originais."
   ]
  },
  {
   "cell_type": "code",
   "execution_count": 124,
   "metadata": {},
   "outputs": [
    {
     "name": "stdout",
     "output_type": "stream",
     "text": [
      "lista original\n",
      "   35    7   14   30   19    2   25   47   47    2\n",
      "   18   39   15    9   10    7   45   31   37   29\n",
      "   23    4   29   44   46   34   37   47   50   20\n",
      "   38   48   36   15   15   13   31   27   41   24\n",
      "   38   12   27   26    2   27   11   19   14   19\n",
      "\n",
      "pares\n",
      "    2    2    2    4   10   12   14   14   18   20\n",
      "   24   26   30   34   36   38   38   44   46   48\n",
      "   50\n",
      "\n",
      "ímpares\n",
      "   47   47   47   45   41   39   37   37   35   31\n",
      "   31   29   29   27   27   27   25   23   19   19\n",
      "   19   15   15   15   13   11    9    7    7\n",
      "\n",
      "lista ordenada\n",
      "   47   47    2    2   47    2   45   41   39    4\n",
      "   10   37   37   35   12   31   31   29   29   27\n",
      "   27   14   27   14   18   20   25   23   24   26\n",
      "   30   34   36   19   19   19   15   15   15   38\n",
      "   38   44   13   46   48   11    9    7   50    7\n",
      "\n"
     ]
    }
   ],
   "source": [
    "%reset -f\n",
    "\n",
    "from random import choices\n",
    "\n",
    "def pprint(título, lista, n):\n",
    "    print(título)\n",
    "    cnt = 0\n",
    "    for k in range(n):\n",
    "        print(f'{lista[k]:5}', end='')\n",
    "        cnt += 1\n",
    "        if cnt % 10 == 0:\n",
    "            print()\n",
    "    if cnt % 10 != 0:\n",
    "        print()\n",
    "    print()\n",
    "\n",
    "n = 50\n",
    "lista = choices(range(1, n+1), k=n)\n",
    "pprint('lista original', lista, n)\n",
    "\n",
    "é_par = [x % 2 == 0 for x in lista]\n",
    "pares = sorted([x for x in lista if x % 2 == 0])\n",
    "pprint('pares ordenados', pares, len(pares))\n",
    "\n",
    "ímpares = sorted([x for x in lista if x % 2 == 1], reverse=True)\n",
    "pprint('ímpares ordenados', ímpares, len(ímpares))\n",
    "\n",
    "ip = 0\n",
    "ii = 0\n",
    "resp = []\n",
    "for i in range(len(lista)):\n",
    "    if é_par[i]:\n",
    "        resp.append(pares[ip])\n",
    "        ip += 1\n",
    "    else:\n",
    "        resp.append(ímpares[ii])\n",
    "        ii += 1\n",
    "pprint('lista ordenada', resp, n)"
   ]
  },
  {
   "cell_type": "markdown",
   "metadata": {
    "slideshow": {
     "slide_type": "subslide"
    }
   },
   "source": [
    "## Exercício 2: Contagem de letras\n",
    "Escreva um programa que:\n",
    "\n",
    "1. leia uma linha de texto\n",
    "2. imprima uma tabela com cada uma das letras que existem no texto, em ordem alfabética, junto com o número de vezes em que essa letra ocorre. \n",
    "\n",
    "Ignore maiúsculas/minúsculas e acentuação."
   ]
  },
  {
   "cell_type": "code",
   "execution_count": 141,
   "metadata": {
    "slideshow": {
     "slide_type": "subslide"
    },
    "solution2": "hidden",
    "solution2_first": true
   },
   "outputs": [
    {
     "name": "stdout",
     "output_type": "stream",
     "text": [
      "a 7\n",
      "b 1\n",
      "c 3\n",
      "d 3\n",
      "e 12\n",
      "i 2\n",
      "l 4\n",
      "m 3\n",
      "n 2\n",
      "o 9\n",
      "p 3\n",
      "q 2\n",
      "r 2\n",
      "s 4\n",
      "t 2\n",
      "u 3\n",
      "v 1\n",
      "x 1\n"
     ]
    }
   ],
   "source": [
    "%reset -f\n",
    "import string\n",
    "\n",
    "#ler uma linha de texto\n",
    "texto = 'O problema é que essa solução tem complexidade  O(n2), o que pode não ser aceitável.'\n",
    "\n",
    "# converter para minúsculas\n",
    "texto = texto.lower()\n",
    "\n",
    "# remover acentos\n",
    "com_acento = ['á', 'à', 'ã', 'â', 'é', 'ê', 'í', 'ó', 'õ', 'ô', 'ú', 'ç']\n",
    "sem_acento = ['a', 'a', 'a', 'a', 'e', 'e', 'i', 'o', 'o', 'o', 'u', 'c']\n",
    "for i, c in enumerate(com_acento):\n",
    "    texto = texto.replace(c, sem_acento[i])\n",
    "\n",
    "# remover algarismos e pontuação\n",
    "for c in string.digits + string.punctuation + string.whitespace:\n",
    "    texto = texto.replace(c, '')\n",
    "    \n",
    "# criar um dicionário contando as ocorrências de cada caractere\n",
    "ocorrências = {}\n",
    "for c in texto:\n",
    "    if c in ocorrências:\n",
    "        ocorrências[c] += 1\n",
    "    else:\n",
    "        ocorrências[c] = 1\n",
    "\n",
    "for c in sorted(ocorrências):\n",
    "    print(c, ocorrências[c])\n"
   ]
  },
  {
   "cell_type": "markdown",
   "metadata": {
    "slideshow": {
     "slide_type": "subslide"
    }
   },
   "source": [
    "## Exercício 3: Substituição de texto\n",
    "Escreva um programa que:\n",
    "\n",
    "1.   leia uma linha de texto \n",
    "2.   leia uma segunda linha, com duas *strings* `antes` e `depois` separadas por espaços\n",
    "3.   exiba o texto lido inicialmente com todas as ocorrências de `antes` substituídas por `depois`."
   ]
  },
  {
   "cell_type": "code",
   "execution_count": 144,
   "metadata": {
    "solution2": "hidden",
    "solution2_first": true
   },
   "outputs": [
    {
     "name": "stdout",
     "output_type": "stream",
     "text": [
      "texto original: Laranja madura na beira da estrada... tá bichada, Zé... ou tem marimbondo no pé...\n",
      "antes: ra\n",
      "depois: RA\n",
      "novo texto: LaRAnja maduRA na beiRA da estRAda... tá bichada, Zé... ou tem marimbondo no pé...\n"
     ]
    }
   ],
   "source": [
    "%reset -f\n",
    "\n",
    "#ler uma linha de texto\n",
    "\n",
    "texto = input()\n",
    "print('texto original:', texto)\n",
    "strs = input().split()\n",
    "antes, depois = strs[:2]\n",
    "print('antes:', antes)\n",
    "print('depois:', depois)\n",
    "\n",
    "novo_texto = ''\n",
    "i = 0\n",
    "while i < len(texto) - len(antes):\n",
    "    if texto[i : i + len(antes)] == antes:\n",
    "        novo_texto += depois\n",
    "        i += len(antes)\n",
    "    else:\n",
    "        novo_texto += texto[i]\n",
    "        i += 1\n",
    "novo_texto += texto[i:]\n",
    "print('novo texto:', novo_texto)"
   ]
  }
 ],
 "metadata": {
  "celltoolbar": "Slideshow",
  "kernelspec": {
   "display_name": "Python 3",
   "language": "python",
   "name": "python3"
  },
  "language_info": {
   "codemirror_mode": {
    "name": "ipython",
    "version": 3
   },
   "file_extension": ".py",
   "mimetype": "text/x-python",
   "name": "python",
   "nbconvert_exporter": "python",
   "pygments_lexer": "ipython3",
   "version": "3.6.5"
  },
  "latex_envs": {
   "LaTeX_envs_menu_present": true,
   "autocomplete": true,
   "bibliofile": "biblio.bib",
   "cite_by": "apalike",
   "current_citInitial": 1,
   "eqLabelWithNumbers": true,
   "eqNumInitial": 1,
   "hotkeys": {
    "equation": "Ctrl-E",
    "itemize": "Ctrl-I"
   },
   "labels_anchors": false,
   "latex_user_defs": false,
   "report_style_numbering": false,
   "user_envs_cfg": false
  },
  "toc": {
   "nav_menu": {
    "height": "188px",
    "width": "297px"
   },
   "number_sections": false,
   "sideBar": true,
   "skip_h1_title": true,
   "title_cell": "Table of Contents",
   "title_sidebar": "Contents",
   "toc_cell": false,
   "toc_position": {},
   "toc_section_display": true,
   "toc_window_display": false
  },
  "varInspector": {
   "cols": {
    "lenName": 16,
    "lenType": 16,
    "lenVar": 40
   },
   "kernels_config": {
    "python": {
     "delete_cmd_postfix": "",
     "delete_cmd_prefix": "del ",
     "library": "var_list.py",
     "varRefreshCmd": "print(var_dic_list())"
    },
    "r": {
     "delete_cmd_postfix": ") ",
     "delete_cmd_prefix": "rm(",
     "library": "var_list.r",
     "varRefreshCmd": "cat(var_dic_list()) "
    }
   },
   "position": {
    "height": "518px",
    "left": "1310px",
    "right": "20px",
    "top": "120px",
    "width": "350px"
   },
   "types_to_exclude": [
    "module",
    "function",
    "builtin_function_or_method",
    "instance",
    "_Feature"
   ],
   "window_display": false
  }
 },
 "nbformat": 4,
 "nbformat_minor": 2
}
