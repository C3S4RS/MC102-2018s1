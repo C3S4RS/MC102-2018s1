{
 "cells": [
  {
   "cell_type": "code",
   "execution_count": 1,
   "metadata": {},
   "outputs": [],
   "source": [
    "from IPython.core.interactiveshell import InteractiveShell\n",
    "InteractiveShell.ast_node_interactivity = \"all\""
   ]
  },
  {
   "cell_type": "markdown",
   "metadata": {},
   "source": [
    "# Laços encaixados e uma introdução à sua otimização"
   ]
  },
  {
   "cell_type": "markdown",
   "metadata": {},
   "source": [
    "## Exemplo: _Dada uma sequência arbitrária de inteiros não-negativos, encontrar o par mais próximo_\n",
    "Ler uma sequência arbitrária $S$ de $n$ inteiros não-negativos e ___depois___ encontrar $i, 0 \\le i \\lt n$ e $j, 0 \\le j \\lt n$, $i \\ne j$, tais que a distância entre $S_i$ e $S_j$, isto é,  $\\lvert S_i - S_j \\rvert$, seja mínima."
   ]
  },
  {
   "cell_type": "markdown",
   "metadata": {},
   "source": [
    "### Desenvolvimento da solução"
   ]
  },
  {
   "cell_type": "markdown",
   "metadata": {},
   "source": [
    "Em nível mais abstrato, a solução deste problema tem estrutura semelhante à de vários exemplos anteriores:\n",
    "```python\n",
    "ler a sequência S\n",
    "encontrar os dois elementos mais próximos em S\n",
    "exibir a solução\n",
    "```"
   ]
  },
  {
   "cell_type": "markdown",
   "metadata": {},
   "source": [
    "Para `“ler a sequência S”` temos pelo menos duas saídas já conhecidas:"
   ]
  },
  {
   "cell_type": "code",
   "execution_count": 2,
   "metadata": {},
   "outputs": [
    {
     "name": "stdout",
     "output_type": "stream",
     "text": [
      "[12, 23, 34, 45, 56]\n"
     ]
    }
   ],
   "source": [
    "n = int(input('Número de elementos? '))\n",
    "S = []\n",
    "for i in range(n):\n",
    "    S.append(int(input('Elemento #' + str(i + 1) + '? ')))\n",
    "print(S)"
   ]
  },
  {
   "cell_type": "code",
   "execution_count": 3,
   "metadata": {},
   "outputs": [
    {
     "name": "stdout",
     "output_type": "stream",
     "text": [
      "[12, 23, 34, 45, 56]\n"
     ]
    }
   ],
   "source": [
    "S = [int(x) for x in input('Sequência de inteiros? ').split()]\n",
    "print(S)"
   ]
  },
  {
   "cell_type": "markdown",
   "metadata": {},
   "source": [
    "No entanto, em problemas como este, em geral vamos querer trabalhar com sequências mais longas.  \n",
    "Isso inviabiliza a digitação de valores, especialmente quando se lembra que a execução poderá ter que ser repetida diversas vezes enquanto depuramos o algoritmo.\n",
    "\n",
    "Uma saída mais apropriada é gerar uma sequência de valores psudo-aleatórios usando o módulo _random_."
   ]
  },
  {
   "cell_type": "code",
   "execution_count": 4,
   "metadata": {},
   "outputs": [
    {
     "name": "stdout",
     "output_type": "stream",
     "text": [
      "[500815, 694131, 372196, 892086, 397934, 4934, 813883, 901277, 767670, 261677]\n",
      "[500815, 694131, 372196, 892086, 397934, 4934, 813883, 901277, 767670, 261677]\n"
     ]
    }
   ],
   "source": [
    "from random import choices\n",
    "\n",
    "n = 10\n",
    "S = choices(range(1000000), k=n)\n",
    "print(S[:10])\n",
    "print(S[-10:])"
   ]
  },
  {
   "cell_type": "markdown",
   "metadata": {},
   "source": [
    "Sequências de números pseudo-aleatórios são geradas a partir de uma *semente*. Se usarmos uma mesma *semente* seremos capazes de repetir uma sequência quantas vezes quisermos. \n",
    "\n",
    "Para gerar uma sequência “imprevisível”, em geral usamos o valor do relógio da máquina como *semente*.  \n",
    "Se salvarmos o valor usado como *semente*, a sequência poderá ser repetida. Por exemplo,..."
   ]
  },
  {
   "cell_type": "code",
   "execution_count": 5,
   "metadata": {},
   "outputs": [],
   "source": [
    "import time\n",
    "import random"
   ]
  },
  {
   "cell_type": "code",
   "execution_count": 6,
   "metadata": {},
   "outputs": [
    {
     "data": {
      "text/plain": [
       "1522894266.992621"
      ]
     },
     "execution_count": 6,
     "metadata": {},
     "output_type": "execute_result"
    }
   ],
   "source": [
    "t_inicial = time.time()\n",
    "t_inicial"
   ]
  },
  {
   "cell_type": "code",
   "execution_count": 7,
   "metadata": {},
   "outputs": [
    {
     "name": "stdout",
     "output_type": "stream",
     "text": [
      "[683022, 240020, 532725, 677507, 228121, 376049, 469446, 138107, 901865, 869104]\n"
     ]
    }
   ],
   "source": [
    "random.seed(t_inicial)\n",
    "\n",
    "S1 = random.choices(range(1000000), k=10)\n",
    "print(S1)"
   ]
  },
  {
   "cell_type": "code",
   "execution_count": 8,
   "metadata": {},
   "outputs": [
    {
     "name": "stdout",
     "output_type": "stream",
     "text": [
      "[66377, 243989, 165177, 620341, 80404, 718506, 632689, 508072, 364610, 835636]\n"
     ]
    }
   ],
   "source": [
    "S2 = random.choices(range(1000000), k=10)\n",
    "print(S2)"
   ]
  },
  {
   "cell_type": "code",
   "execution_count": 9,
   "metadata": {},
   "outputs": [
    {
     "data": {
      "text/plain": [
       "False"
      ]
     },
     "execution_count": 9,
     "metadata": {},
     "output_type": "execute_result"
    }
   ],
   "source": [
    "S1 == S2"
   ]
  },
  {
   "cell_type": "markdown",
   "metadata": {},
   "source": [
    "Neste caso, geramos `S1` e depois `S2`, sem “re-semear” o gerador de aleatórios. Por causa disso, `S1` e `S2` são diferentes.\n",
    "\n",
    "No entanto, quando “re-semeamos” o gerador, obtemos `S3` igual a `S1`."
   ]
  },
  {
   "cell_type": "code",
   "execution_count": 10,
   "metadata": {},
   "outputs": [
    {
     "name": "stdout",
     "output_type": "stream",
     "text": [
      "[683022, 240020, 532725, 677507, 228121, 376049, 469446, 138107, 901865, 869104]\n"
     ]
    }
   ],
   "source": [
    "random.seed(t_inicial)\n",
    "\n",
    "S3 = random.choices(range(1000000), k=10)\n",
    "print(S3)"
   ]
  },
  {
   "cell_type": "code",
   "execution_count": 11,
   "metadata": {},
   "outputs": [
    {
     "data": {
      "text/plain": [
       "True"
      ]
     },
     "execution_count": 11,
     "metadata": {},
     "output_type": "execute_result"
    }
   ],
   "source": [
    "S1 == S3"
   ]
  },
  {
   "cell_type": "markdown",
   "metadata": {},
   "source": [
    "Com isso, nossa geração de dados fica assim..."
   ]
  },
  {
   "cell_type": "code",
   "execution_count": 12,
   "metadata": {},
   "outputs": [],
   "source": [
    "import time\n",
    "import random"
   ]
  },
  {
   "cell_type": "code",
   "execution_count": 13,
   "metadata": {},
   "outputs": [],
   "source": [
    "t_inicial = time.time()"
   ]
  },
  {
   "cell_type": "code",
   "execution_count": 14,
   "metadata": {},
   "outputs": [],
   "source": [
    "random.seed(t_inicial)\n",
    "\n",
    "n = 10\n",
    "S = random.choices(range(1000000), k=n)"
   ]
  },
  {
   "cell_type": "markdown",
   "metadata": {},
   "source": [
    "Uma vez obtida a sequência, vamos procurar o par mais próximo. Para isso temos que comparar todos os pares possíveis, isto é, o problema pede uma solução por enumeração exaustiva."
   ]
  },
  {
   "cell_type": "markdown",
   "metadata": {},
   "source": [
    "Aproveitando exemplos anteriores, podemos esboçar nossa solução como:\n",
    "```Python\n",
    "for i in range(n):\n",
    "    for j in range(n):\n",
    "        se i diferente de j e distância entre S[i] e S[j] menor que a menor já observada:\n",
    "            salvar i, j, distância entre S[i] e S[j]\n",
    "```"
   ]
  },
  {
   "cell_type": "markdown",
   "metadata": {},
   "source": [
    "Vamos representar esse esboço em Python?"
   ]
  },
  {
   "cell_type": "code",
   "execution_count": 15,
   "metadata": {},
   "outputs": [],
   "source": [
    "min_dist = 10e10\n",
    "for i in range(n):\n",
    "    for j in range(n):\n",
    "        if i != j and abs(S[i] - S[j]) < min_dist:\n",
    "            min_i, min_j, min_dist = i, j, abs(S[i] - S[j])"
   ]
  },
  {
   "cell_type": "markdown",
   "metadata": {},
   "source": [
    "Agora só falta exibir o resultado..."
   ]
  },
  {
   "cell_type": "code",
   "execution_count": 16,
   "metadata": {},
   "outputs": [
    {
     "name": "stdout",
     "output_type": "stream",
     "text": [
      "     10       1  266874       3  282097   15223\n"
     ]
    }
   ],
   "source": [
    "print(f'{n:7}  {min_i:6}  {S[min_i]:6}  {min_j:6}  {S[min_j]:6}  {min_dist:6}')"
   ]
  },
  {
   "cell_type": "markdown",
   "metadata": {},
   "source": [
    "E se quisermos testar nosso programa com diferentes sequências?  \n",
    "\n",
    "*   Podemos, por exemplo, gerar uma longa sequência S e depois extrair dela subsequências a serem estudadas."
   ]
  },
  {
   "cell_type": "code",
   "execution_count": 17,
   "metadata": {},
   "outputs": [
    {
     "name": "stdout",
     "output_type": "stream",
     "text": [
      "[87431599, 80651501, 52357837, 77625915, 85708491, 98761912, 88616489, 32882510, 57082936, 97537141]\n",
      "[37269349, 89051813, 34438878, 71097816, 72041190, 23154799, 11812074, 46524083, 17160639, 36946252]\n"
     ]
    }
   ],
   "source": [
    "from random import choices\n",
    "\n",
    "S = choices(range(100000000), k=10000000)\n",
    "print(S[:10])\n",
    "print(S[-10:])"
   ]
  },
  {
   "cell_type": "markdown",
   "metadata": {},
   "source": [
    "Para poder analisar o desempenho do nosso algoritmo para sequências de diversos tamanhos, vamos medir o tempo gasto usando a função `perf_counter` do módulo `time`."
   ]
  },
  {
   "cell_type": "code",
   "execution_count": 18,
   "metadata": {},
   "outputs": [
    {
     "name": "stdout",
     "output_type": "stream",
     "text": [
      "      n      demora         i      S[i]         j      S[j]      dist\n",
      "     10     0.00003         0  87431599         6  88616489   1184890\n",
      "    100     0.00245        47   1423628        53   1420597      3031\n",
      "   1000     0.24583       167  21009646       891  21009553        93\n",
      "  10000    25.34181       855  15585938      6203  15585940         2\n"
     ]
    }
   ],
   "source": [
    "from time import perf_counter\n",
    "\n",
    "print(f\"{'n':>7}  {'demora':>10}  {'i':>8}  {'S[i]':>8}  {'j':>8}  {'S[j]':>8}  {'dist':>8}\")\n",
    "for n in [10, 100, 1000, 10000]:\n",
    "    start = perf_counter()\n",
    "    min_dist = 10e10\n",
    "    for i in range(n):\n",
    "        for j in range(n):\n",
    "            if i != j and abs(S[i] - S[j]) < min_dist:\n",
    "                min_i, min_j, min_dist = i, j, abs(S[i] - S[j])\n",
    "    end = perf_counter()\n",
    "    print(f'{n:7}  {end - start:10.5f}  {min_i:8}  {S[min_i]:8}  {min_j:8}  {S[min_j]:8}  {min_dist:8}')"
   ]
  },
  {
   "cell_type": "markdown",
   "metadata": {},
   "source": [
    "Você consegue notar algum padrão no tempo gasto pelo algoritmo?"
   ]
  },
  {
   "cell_type": "markdown",
   "metadata": {},
   "source": [
    "-   Sim, quando o tamanho da amostra cresce 10 vezes, o tempo gasto cresce 100!"
   ]
  },
  {
   "cell_type": "markdown",
   "metadata": {},
   "source": [
    "O que você espera que vá acontecer se tivermos 100.000 elementos para examinar?"
   ]
  },
  {
   "cell_type": "markdown",
   "metadata": {},
   "source": [
    "*   A execução vai demorar cerca de 40 minutos!"
   ]
  },
  {
   "cell_type": "markdown",
   "metadata": {},
   "source": [
    "Será possível melhorar esse desempenho?\n",
    "\n",
    "-   Como tanto $i$ quanto $j$ assumem valores em `range(n)` estamos calculando não só $\\lvert\\, S[i] - S[j] \\,\\rvert$ mas também $\\lvert\\, S[j] - S[i] \\,\\rvert$.  \n",
    "    Deve ser possível eliminar o teste redundante. Você consegue fazer isso?"
   ]
  },
  {
   "cell_type": "code",
   "execution_count": 21,
   "metadata": {},
   "outputs": [
    {
     "name": "stdout",
     "output_type": "stream",
     "text": [
      "      n      demora         i      S[i]         j      S[j]      dist\n",
      "     10     0.00005         0  87431599         6  88616489   1184890\n",
      "    100     0.00411        47   1423628        53   1420597      3031\n",
      "   1000     0.28050       167  21009646       891  21009553        93\n",
      "  10000    27.01262       855  15585938      6203  15585940         2\n"
     ]
    }
   ],
   "source": [
    "from time import perf_counter\n",
    "\n",
    "print(f\"{'n':>7}  {'demora':>10}  {'i':>8}  {'S[i]':>8}  {'j':>8}  {'S[j]':>8}  {'dist':>8}\")\n",
    "\n",
    "for n in [10, 100, 1000, 10000]:\n",
    "    start = perf_counter()\n",
    "    \n",
    "    min_dist = 10e10\n",
    "    for i in range(n):\n",
    "        for j in range(n):\n",
    "            if i != j and abs(S[i] - S[j]) < min_dist:\n",
    "                min_i, min_j, min_dist = i, j, abs(S[i] - S[j])\n",
    "                \n",
    "    end = perf_counter()\n",
    "    print(f'{n:7}  {end - start:10.5f}  {min_i:8}  {S[min_i]:8}  {min_j:8}  {S[min_j]:8}  {min_dist:8}')"
   ]
  },
  {
   "cell_type": "markdown",
   "metadata": {},
   "source": [
    "##### Solução"
   ]
  },
  {
   "cell_type": "code",
   "execution_count": 20,
   "metadata": {},
   "outputs": [
    {
     "name": "stdout",
     "output_type": "stream",
     "text": [
      "      n      demora         i      S[i]         j      S[j]      dist\n",
      "     10     0.00002         0  87431599         6  88616489   1184890\n",
      "    100     0.00150        47   1423628        53   1420597      3031\n",
      "   1000     0.14854       167  21009646       891  21009553        93\n",
      "  10000    12.94000       855  15585938      6203  15585940         2\n"
     ]
    }
   ],
   "source": [
    "from time import perf_counter\n",
    "\n",
    "print(f\"{'n':>7}  {'demora':>10}  {'i':>8}  {'S[i]':>8}  {'j':>8}  {'S[j]':>8}  {'dist':>8}\")\n",
    "\n",
    "for n in [10, 100, 1000, 10000]:\n",
    "    start = perf_counter()\n",
    "    \n",
    "    min_dist = 10e10\n",
    "    for i in range(n):\n",
    "        for j in range(i + 1, n):\n",
    "            if i != j and abs(S[i] - S[j]) < min_dist:\n",
    "                min_i, min_j, min_dist = i, j, abs(S[i] - S[j])\n",
    "                \n",
    "    end = perf_counter()\n",
    "    print(f'{n:7}  {end - start:10.5f}  {min_i:8}  {S[min_i]:8}  {min_j:8}  {S[min_j]:8}  {min_dist:8}')"
   ]
  },
  {
   "cell_type": "markdown",
   "metadata": {},
   "source": [
    "Melhorou, mas, mesmo assim, quando o tamanho da amostra cresce 10 vezes, o tempo gasto continua crescendo 100.  \n",
    "De uma maneira mais formal, dizemos que a complexidade desse algoritmo é da ordem de $n^2$ e representamos essa relação como $\\mathcal{O}(n^2)$.  \n",
    "Esse comportamento pode inviabilizar o uso desta solução para grandes amostras.\n",
    "\n",
    "Você consegue identificar onde está essa demora e por que isso acontece?"
   ]
  },
  {
   "cell_type": "markdown",
   "metadata": {},
   "source": [
    "-   O problema é que temos dois _loops_ aninhados percorrendo a amostra. Para cada valor do _loop_ externo, o _loop_ interno faz uma varredura completa, isto é, examina da ordem de $n$ valores. O _loop_ externo também examina $n$ valores.  \n",
    "    Portanto, para uma amostra de tamanho $n$, os dois _loops_ combinados realizam da ordem de $n^2$ operações, o que explica o comportamento do algoritmo. \n",
    "\n",
    "Não importa o que a gente faça, se continuarmos com dois _loops_ aninhados como esses, o tempo gasto na solução será da ordem de $n^2$.\n",
    "\n",
    "Para alterar esse comportamento, temos que mudar a nossa abordagem."
   ]
  },
  {
   "cell_type": "markdown",
   "metadata": {},
   "source": [
    "Você consegue pensar em algum caso particular no qual a solução do problema seria mais rápida?"
   ]
  },
  {
   "cell_type": "markdown",
   "metadata": {},
   "source": [
    "-   Por exemplo, se a lista estivesse ordenada, isso nos ajudaria?  \n",
    "    Sim, porque aí o par mais próximo seria sempre composto por dois elementos adjacentes."
   ]
  },
  {
   "cell_type": "markdown",
   "metadata": {},
   "source": [
    "-   E daí?  \n",
    "    Daí, nós poderíamos dispensar o _loop_ interno."
   ]
  },
  {
   "cell_type": "markdown",
   "metadata": {},
   "source": [
    "Como a lista pode não estar ordenada, vamos ordená-la usando uma função disponível em Python.  \n",
    "Um bom algoritmo de ordenação de listas tem complexidade $\\mathcal{O}(n \\cdot \\log_2 n)$, o que é muito melhor do que $\\mathcal{O}(n^2)$."
   ]
  },
  {
   "cell_type": "markdown",
   "metadata": {},
   "source": [
    "Você consegue incorporar essas alterações à nossa solução?"
   ]
  },
  {
   "cell_type": "code",
   "execution_count": 22,
   "metadata": {},
   "outputs": [
    {
     "name": "stdout",
     "output_type": "stream",
     "text": [
      "      n       tempo       i    S[i]       j    S[j]    dist\n",
      "     10     0.00004       0  87431599       6  88616489  1184890\n",
      "    100     0.00216      47  1423628      53  1420597    3031\n",
      "   1000     0.15759     167  21009646     891  21009553      93\n",
      "  10000    13.16114     855  15585938    6203  15585940       2\n"
     ]
    }
   ],
   "source": [
    "from time import perf_counter\n",
    "\n",
    "print(f\"{'n':>7}  {'tempo':>10}  {'i':>6}  {'S[i]':>6}  {'j':>6}  {'S[j]':>6}  {'dist':>6}\")\n",
    "for n in [10, 100, 1000, 10000]:\n",
    "    start = perf_counter()\n",
    "    min_dist = 10e10\n",
    "    for i in range(n):\n",
    "        for j in range(i + 1, n):\n",
    "            if i != j and abs(S[i] - S[j]) < min_dist:\n",
    "                min_i, min_j, min_dist = i, j, abs(S[i] - S[j])\n",
    "    end = perf_counter()\n",
    "    print(f'{n:7}  {end - start:10.5f}  {min_i:6}  {S[min_i]:6}  {min_j:6}  {S[min_j]:6}  {min_dist:6}')"
   ]
  },
  {
   "cell_type": "markdown",
   "metadata": {},
   "source": [
    "### Solução"
   ]
  },
  {
   "cell_type": "code",
   "execution_count": 23,
   "metadata": {
    "scrolled": true
   },
   "outputs": [
    {
     "name": "stdout",
     "output_type": "stream",
     "text": [
      "       n       tempo         i      S[i]         j      S[j]      dist\n",
      "      10     0.00001         6  87431599         7  88616489   1184890\n",
      "     100     0.00004         1   1420597         2   1423628      3031\n",
      "    1000     0.00046       226  21009553       227  21009646        93\n",
      "   10000     0.00539      1565  15585938      1566  15585940         2\n",
      "  100000     0.07483      2767   2713006      2768   2713006         0\n",
      " 1000000     1.00394        93     10888        94     10888         0\n",
      "10000000    15.02493        28       258        29       258         0\n"
     ]
    }
   ],
   "source": [
    "from time import perf_counter\n",
    "\n",
    "print(f\"{'n':>8}  {'tempo':>10}  {'i':>8}  {'S[i]':>8}  {'j':>8}  {'S[j]':>8}  {'dist':>8}\")\n",
    "for n in [10, 100, 1000, 10000, 100000, 1000000, 10000000]:\n",
    "    start = perf_counter()\n",
    "    Sord = sorted(S[:n])\n",
    "    min_dist = 10e10\n",
    "    for i in range(n - 1):\n",
    "        if abs(Sord[i] - Sord[i + 1]) < min_dist:\n",
    "            min_i, min_dist = i, abs(Sord[i] - Sord[i + 1])\n",
    "    end = perf_counter()\n",
    "    print(f'{n:8}  {end - start:10.5f}  {min_i:8}  {Sord[min_i]:8}  {min_i + 1:8}  {Sord[min_i + 1]:8}  {min_dist:8}')"
   ]
  },
  {
   "cell_type": "markdown",
   "metadata": {},
   "source": [
    "Nosso algoritmo agora passa a ter um bom desempenho, mesmo para grandes valores de $n$.  "
   ]
  },
  {
   "cell_type": "markdown",
   "metadata": {},
   "source": [
    "## Exemplo: _Gerar todos os números primos menores que um valor dado_\n",
    "Ler um inteiro $n$ e criar uma lista $P$ com todos os números primos menores do que $n$."
   ]
  },
  {
   "cell_type": "markdown",
   "metadata": {},
   "source": [
    "### Desenvolvimento da solução"
   ]
  },
  {
   "cell_type": "markdown",
   "metadata": {},
   "source": [
    "Este problema também pode ser resolvido por _enumeração exaustiva_. Vamos tentar?"
   ]
  },
  {
   "cell_type": "code",
   "execution_count": null,
   "metadata": {},
   "outputs": [],
   "source": [
    "# ler n"
   ]
  },
  {
   "cell_type": "code",
   "execution_count": null,
   "metadata": {},
   "outputs": [],
   "source": [
    "P = []\n",
    "for k in range(2, n):\n",
    "    # verificar se k é primo\n",
    "    # se k é primo: adicionar k à lista P"
   ]
  },
  {
   "cell_type": "code",
   "execution_count": null,
   "metadata": {},
   "outputs": [],
   "source": [
    "print(P)"
   ]
  },
  {
   "cell_type": "markdown",
   "metadata": {},
   "source": [
    "Feito o primeiro esboço, podemos começar a detalhá-lo..."
   ]
  },
  {
   "cell_type": "code",
   "execution_count": 24,
   "metadata": {},
   "outputs": [],
   "source": [
    "# ler n\n",
    "n = int(input('Primos até quanto? '))"
   ]
  },
  {
   "cell_type": "code",
   "execution_count": 25,
   "metadata": {},
   "outputs": [],
   "source": [
    "P = []\n",
    "for k in range(2, n):\n",
    "    # testar se k é primo\n",
    "    k_eh_primo = True\n",
    "    d = 2\n",
    "    while k_eh_primo and d < k:\n",
    "        if k % d == 0:\n",
    "            k_eh_primo = False\n",
    "        else:\n",
    "            d += 1\n",
    "    # se k é primo: adicionar k à lista primos\n",
    "    if k_eh_primo:\n",
    "        P += [k]"
   ]
  },
  {
   "cell_type": "code",
   "execution_count": 26,
   "metadata": {},
   "outputs": [
    {
     "name": "stdout",
     "output_type": "stream",
     "text": [
      "[2, 3, 5, 7, 11, 13, 17, 19, 23, 29, 31, 37, 41, 43, 47]\n"
     ]
    }
   ],
   "source": [
    "print(P)"
   ]
  },
  {
   "cell_type": "markdown",
   "metadata": {},
   "source": [
    "Lembrando do exemplo anterior...  \n",
    "Será que esse algoritmo funciona bem para qualquer tamanho de amostra?\n",
    "\n",
    "Você consegue antecipar uma resposta antes de testá-lo?  \n",
    "Por que?"
   ]
  },
  {
   "cell_type": "code",
   "execution_count": 27,
   "metadata": {},
   "outputs": [
    {
     "name": "stdout",
     "output_type": "stream",
     "text": [
      "       n      demora   #primos  P[:4]         P[-4:]\n",
      "      10     0.00001         4  [2, 3, 5, 7]  [2, 3, 5, 7]\n",
      "     100     0.00024        25  [2, 3, 5, 7]  [79, 83, 89, 97]\n",
      "    1000     0.01881       168  [2, 3, 5, 7]  [977, 983, 991, 997]\n",
      "   10000     0.91895      1229  [2, 3, 5, 7]  [9941, 9949, 9967, 9973]\n"
     ]
    }
   ],
   "source": [
    "from time import perf_counter\n",
    "\n",
    "print(f\"{'n':>8}  {'demora':>10}  {'#primos':>8}  {'P[:4]':12}  {'P[-4:]'}\")\n",
    "\n",
    "for n in [10, 100, 1000, 10000]:\n",
    "    start = perf_counter()\n",
    "    \n",
    "    P = []\n",
    "    for k in range(2, n):\n",
    "        # testar se k é primo\n",
    "        k_eh_primo = True\n",
    "        d = 2\n",
    "        while k_eh_primo and d < k:\n",
    "            if k % d == 0:\n",
    "                k_eh_primo = False\n",
    "            else:\n",
    "                d += 1\n",
    "                \n",
    "        # se k é primo: adicionar k à lista primos\n",
    "        if k_eh_primo:\n",
    "            P += [k]\n",
    "    \n",
    "    end = perf_counter()\n",
    "    \n",
    "    print(f'{n:8}  {end - start:10.5f}  {len(P):8}  {P[:4]}  {P[-4:]}')"
   ]
  },
  {
   "cell_type": "markdown",
   "metadata": {},
   "source": [
    "Com os dois _loops_ aninhados, o tempo gasto por este algoritmo para examinar $n$ candiadatos é da ordem de $n^2$, o que o torna impraticável para grandes valores de $n$. "
   ]
  },
  {
   "cell_type": "markdown",
   "metadata": {},
   "source": [
    "Podemos melhorar esse desempenho, se nos lembrarmos de que:\n",
    "\n",
    "-   O único primo par é $2$ e, portanto, podemos examinar apenas candidatos ímpares.\n",
    "-   Como os candidatos serão ímpares, não faz sentido tentar dividi-los por números pares, o que também reduz o número de divisores à metade."
   ]
  },
  {
   "cell_type": "markdown",
   "metadata": {},
   "source": [
    "Vamos incorporar essas alterações ao nosso algoritmo."
   ]
  },
  {
   "cell_type": "code",
   "execution_count": 28,
   "metadata": {
    "scrolled": true
   },
   "outputs": [
    {
     "name": "stdout",
     "output_type": "stream",
     "text": [
      "       n      demora   #primos  P[:4]         P[-4:]\n",
      "      10     0.00002         4  [2, 3, 5, 7]  [2, 3, 5, 7]\n",
      "     100     0.00013        25  [2, 3, 5, 7]  [79, 83, 89, 97]\n",
      "    1000     0.00790       168  [2, 3, 5, 7]  [977, 983, 991, 997]\n",
      "   10000     0.47398      1229  [2, 3, 5, 7]  [9941, 9949, 9967, 9973]\n",
      "  100000    35.98243      9592  [2, 3, 5, 7]  [99961, 99971, 99989, 99991]\n"
     ]
    }
   ],
   "source": [
    "from time import perf_counter\n",
    "\n",
    "print(f\"{'n':>8}  {'demora':>10}  {'#primos':>8}  {'P[:4]':12}  {'P[-4:]'}\")\n",
    "\n",
    "for n in [10, 100, 1000, 10000, 100000]:\n",
    "    \n",
    "    start = perf_counter()\n",
    "    \n",
    "    P = [2]\n",
    "    for k in range(3, n, 2):\n",
    "        # testar se k é primo\n",
    "        k_eh_primo = True\n",
    "        d = 3\n",
    "        while k_eh_primo and d < k:\n",
    "            if k % d == 0:\n",
    "                k_eh_primo = False\n",
    "            else:\n",
    "                d += 2\n",
    "                \n",
    "        # se k é primo: adicionar k à lista primos\n",
    "        if k_eh_primo:\n",
    "            P += [k]\n",
    "            \n",
    "    end = perf_counter()\n",
    "    \n",
    "    print(f'{n:8}  {end - start:10.5f}  {len(P):8}  {P[:4]}  {P[-4:]}')"
   ]
  },
  {
   "cell_type": "markdown",
   "metadata": {},
   "source": [
    "O desempenho melhorou, mas mudou a sua relação com $n$?  \n",
    "Não, sua complexidade continua sendo $\\mathcal{O}(n^2)$.\n",
    "\n",
    "Por que será?"
   ]
  },
  {
   "cell_type": "markdown",
   "metadata": {},
   "source": [
    "Você consegue pensar em alguma melhoria simples?  \n",
    "Você está satisfeito com os limites dos _loops_?"
   ]
  },
  {
   "cell_type": "markdown",
   "metadata": {},
   "source": [
    "-   Não parece ser possível alterar o _loop_ externo.\n",
    "-   Mas é possível limitar a `range` do _loop_ interno a $\\sqrt{n}$.  \n",
    "    Por que?"
   ]
  },
  {
   "cell_type": "code",
   "execution_count": 29,
   "metadata": {},
   "outputs": [
    {
     "name": "stdout",
     "output_type": "stream",
     "text": [
      "       n      demora   #primos  P[:4]         P[-4:]\n",
      "      10     0.00011         4  [2, 3, 5, 7]  [2, 3, 5, 7]\n",
      "     100     0.00004        46  [2, 3, 5, 7]  [93, 95, 97, 99]\n",
      "    1000     0.00031       489  [2, 3, 5, 7]  [993, 995, 997, 999]\n",
      "   10000     0.00279      4966  [2, 3, 5, 7]  [9993, 9995, 9997, 9999]\n",
      "  100000     0.03011     49892  [2, 3, 5, 7]  [99993, 99995, 99997, 99999]\n",
      " 1000000     0.21948    499658  [2, 3, 5, 7]  [999993, 999995, 999997, 999999]\n"
     ]
    }
   ],
   "source": [
    "from time import perf_counter\n",
    "\n",
    "print(f\"{'n':>8}  {'demora':>10}  {'#primos':>8}  {'P[:4]':12}  {'P[-4:]'}\")\n",
    "\n",
    "for n in [10, 100, 1000, 10000, 100000, 1000000]:\n",
    "    \n",
    "    start = perf_counter()\n",
    "    \n",
    "    P = [2]\n",
    "    for k in range(3, n, 2):\n",
    "        # testar se k é primo\n",
    "        k_eh_primo = True\n",
    "        while k_eh_primo and d <= int(k**0.5):\n",
    "            if k % d == 0:\n",
    "                k_eh_primo = False\n",
    "            else:\n",
    "                d += 2\n",
    "                \n",
    "        # se k for primo, adicionar k à lista primos\n",
    "        if k_eh_primo:\n",
    "            P += [k]\n",
    "            \n",
    "    end = perf_counter()\n",
    "    \n",
    "    print(f'{n:8}  {end - start:10.5f}  {len(P):8}  {P[:4]}  {P[-4:]}')"
   ]
  },
  {
   "cell_type": "markdown",
   "metadata": {},
   "source": [
    "O desempenho já melhorou bastante e talvez seja suficiente para um grande número de aplicações.  \n",
    "Mas, e se quiséssemos algo mais rápido?"
   ]
  },
  {
   "cell_type": "markdown",
   "metadata": {},
   "source": [
    "Podemos tentar outra abordagem. Por exemplo, a estratégia do _crivo de Eratóstenes_:\n",
    "\n",
    "1.  Criamos uma lista com todos os candidatos possíveis.\n",
    "1.  Percorremos a lista da esquerda para a direita e, para cada candidato ainda não riscado, riscamos todos os seus múltiplos.\n",
    "1.  Ao chegar ao final, todos os candidatos não riscados serão primos."
   ]
  },
  {
   "cell_type": "markdown",
   "metadata": {},
   "source": [
    "Para representar o *crivo* e os candidatos *riscados* ou não, vamos usar uma lista de *bools*. \n",
    "\n",
    "-   `crivo[i] = True` representará *i não está riscado*\n",
    "-   `crivo[i] = False` representará *i está riscado*\n",
    "\n",
    "Inicialmente, todos os itens do *crivo* serão `True` e esse valor será convertido para `False` se (e quando) o item for riscado.\n",
    "\n",
    "Vamos ver como fica..."
   ]
  },
  {
   "cell_type": "code",
   "execution_count": 30,
   "metadata": {},
   "outputs": [
    {
     "name": "stdout",
     "output_type": "stream",
     "text": [
      "       n      demora   #primos  P[:4]         P[-4:]\n",
      "      10     0.02260         4  [2, 3, 5, 7]  [2, 3, 5, 7]\n",
      "     100     0.00002        25  [2, 3, 5, 7]  [79, 83, 89, 97]\n",
      "    1000     0.00016       168  [2, 3, 5, 7]  [977, 983, 991, 997]\n",
      "   10000     0.00105      1229  [2, 3, 5, 7]  [9941, 9949, 9967, 9973]\n",
      "  100000     0.01105      9592  [2, 3, 5, 7]  [99961, 99971, 99989, 99991]\n",
      " 1000000     0.12093     78498  [2, 3, 5, 7]  [999959, 999961, 999979, 999983]\n"
     ]
    }
   ],
   "source": [
    "from time import perf_counter\n",
    "\n",
    "print(f\"{'n':>8}  {'demora':>10}  {'#primos':>8}  {'P[:4]':12}  {'P[-4:]'}\")\n",
    "\n",
    "for n in [10, 100, 1000, 10000, 100000, 1000000]:\n",
    "        \n",
    "    start = perf_counter()\n",
    "    \n",
    "    crivo = [True] * n\n",
    "    for k in range(3, int(n**0.5) + 1, 2):\n",
    "        if crivo[k]:\n",
    "            for i in range(k*k, n, 2*k):\n",
    "                crivo[i] = False\n",
    "                \n",
    "    P = [2]\n",
    "    for i in range(3, n, 2):\n",
    "        if crivo[i]:\n",
    "            P += [i]\n",
    "    \n",
    "    end = perf_counter()\n",
    "    \n",
    "    print(f'{n:8}  {end - start:10.5f}  {len(P):8}  {P[:4]}  {P[-4:]}')"
   ]
  },
  {
   "cell_type": "markdown",
   "metadata": {},
   "source": [
    "É possível transformar a iteração das linhas 15-18 em uma *list comprehension*:"
   ]
  },
  {
   "cell_type": "code",
   "execution_count": 31,
   "metadata": {},
   "outputs": [
    {
     "name": "stdout",
     "output_type": "stream",
     "text": [
      "       n      demora   #primos  P[:4]         P[-4:]\n",
      "      10     0.00234         4  [2, 3, 5, 7]  [2, 3, 5, 7]\n",
      "     100     0.00002        25  [2, 3, 5, 7]  [79, 83, 89, 97]\n",
      "    1000     0.00009       168  [2, 3, 5, 7]  [977, 983, 991, 997]\n",
      "   10000     0.00090      1229  [2, 3, 5, 7]  [9941, 9949, 9967, 9973]\n",
      "  100000     0.01182      9592  [2, 3, 5, 7]  [99961, 99971, 99989, 99991]\n",
      " 1000000     0.12185     78498  [2, 3, 5, 7]  [999959, 999961, 999979, 999983]\n"
     ]
    }
   ],
   "source": [
    "from time import perf_counter\n",
    "\n",
    "print(f\"{'n':>8}  {'demora':>10}  {'#primos':>8}  {'P[:4]':12}  {'P[-4:]'}\")\n",
    "\n",
    "for n in [10, 100, 1000, 10000, 100000, 1000000]:\n",
    "        \n",
    "    start = perf_counter()\n",
    "    \n",
    "    crivo = [True] * n\n",
    "    for k in range(3, int(n**0.5) + 1, 2):\n",
    "        if crivo[k]:\n",
    "            for i in range(k*k, n, 2*k):\n",
    "                crivo[i] = False\n",
    "    P = [2] + [i for i in range(3, n, 2) if crivo[i]]\n",
    "    \n",
    "    end = perf_counter()\n",
    "    \n",
    "    print(f'{n:8}  {end - start:10.5f}  {len(P):8}  {P[:4]}  {P[-4:]}')"
   ]
  },
  {
   "cell_type": "markdown",
   "metadata": {},
   "source": [
    "Finalmente, podemos acelerar nosso algoritmo ainda mais substituindo o _loop_ das linhas 12-13 por outra _list comprehension_...\n",
    "\n",
    "-   Os elementos selecionados pela `range` da linha 11 são `crivo[k*k], crivo[k*k + 2*k], ...`.  \n",
    "-   Numa faixa `[esq...dir)` há `(dir - 1 - esq) // larg` intervalos de largura `larg`.\n",
    "    - Por exemplo, veja a figura abaixo, supondo $esq = 1$, $dir = 10$ e $larg = 1, 2, \\dots5$  \n",
    "    ![](img/intervalos.png)\n",
    "-   Adaptando para o nosso caso e incluindo o elemento inicial, ao todo serão afetados  \n",
    "`(n - 1 - k*k) // (2*k) + 1` elementos, cujos valores devem passar para `False`.\n",
    "\n",
    "Depois de implementar essa alteração, chegamos à nossa versão definitiva."
   ]
  },
  {
   "cell_type": "markdown",
   "metadata": {},
   "source": [
    "### Solução"
   ]
  },
  {
   "cell_type": "code",
   "execution_count": 32,
   "metadata": {},
   "outputs": [
    {
     "name": "stdout",
     "output_type": "stream",
     "text": [
      "       n      demora   #primos  P[:4]         P[-4:]\n",
      "      10     0.00194         4  [2, 3, 5, 7]  [2, 3, 5, 7]\n",
      "     100     0.00001        25  [2, 3, 5, 7]  [79, 83, 89, 97]\n",
      "    1000     0.00006       168  [2, 3, 5, 7]  [977, 983, 991, 997]\n",
      "   10000     0.00034      1229  [2, 3, 5, 7]  [9941, 9949, 9967, 9973]\n",
      "  100000     0.00377      9592  [2, 3, 5, 7]  [99961, 99971, 99989, 99991]\n",
      " 1000000     0.04960     78498  [2, 3, 5, 7]  [999959, 999961, 999979, 999983]\n"
     ]
    }
   ],
   "source": [
    "from time import perf_counter\n",
    "\n",
    "print(f\"{'n':>8}  {'demora':>10}  {'#primos':>8}  {'P[:4]':12}  {'P[-4:]'}\")\n",
    "\n",
    "for n in [10, 100, 1000, 10000, 100000, 1000000]:\n",
    "        \n",
    "    start = perf_counter()\n",
    "    \n",
    "    crivo = [True] * n\n",
    "    for k in range(3, int(n**0.5) + 1, 2):\n",
    "        if crivo[k]:\n",
    "            crivo[k*k::2*k] = [False] * ((n - 1 - k * k) // (2 * k) + 1)\n",
    "            \n",
    "    P = [2] + [i for i in range(3, n, 2) if crivo[i]]\n",
    "\n",
    "    end = perf_counter()\n",
    "    \n",
    "    print(f'{n:8}  {end - start:10.5f}  {len(P):8}  {P[:4]}  {P[-4:]}')"
   ]
  },
  {
   "cell_type": "markdown",
   "metadata": {},
   "source": [
    "E, agora, nosso algoritmo tem desempenho de gente grande..."
   ]
  }
 ],
 "metadata": {
  "kernelspec": {
   "display_name": "Python 3",
   "language": "python",
   "name": "python3"
  },
  "language_info": {
   "codemirror_mode": {
    "name": "ipython",
    "version": 3
   },
   "file_extension": ".py",
   "mimetype": "text/x-python",
   "name": "python",
   "nbconvert_exporter": "python",
   "pygments_lexer": "ipython3",
   "version": "3.6.4"
  },
  "latex_envs": {
   "LaTeX_envs_menu_present": true,
   "autocomplete": true,
   "bibliofile": "biblio.bib",
   "cite_by": "apalike",
   "current_citInitial": 1,
   "eqLabelWithNumbers": true,
   "eqNumInitial": 1,
   "hotkeys": {
    "equation": "Ctrl-E",
    "itemize": "Ctrl-I"
   },
   "labels_anchors": false,
   "latex_user_defs": false,
   "report_style_numbering": false,
   "user_envs_cfg": false
  },
  "toc": {
   "nav_menu": {},
   "number_sections": false,
   "sideBar": true,
   "skip_h1_title": true,
   "title_cell": "Table of Contents",
   "title_sidebar": "Contents",
   "toc_cell": false,
   "toc_position": {},
   "toc_section_display": true,
   "toc_window_display": false
  }
 },
 "nbformat": 4,
 "nbformat_minor": 2
}
