{
 "cells": [
  {
   "cell_type": "code",
   "execution_count": 1,
   "metadata": {
    "init_cell": true
   },
   "outputs": [],
   "source": [
    "from IPython.core.interactiveshell import InteractiveShell\n",
    "InteractiveShell.ast_node_interactivity = \"all\""
   ]
  },
  {
   "cell_type": "markdown",
   "metadata": {},
   "source": [
    "# Tuplas"
   ]
  },
  {
   "cell_type": "markdown",
   "metadata": {},
   "source": [
    "## O modelo\n",
    "Uma **_tupla_** é uma **_sequência de objetos_**, **_ordenada_**, **_imutável_**, **_iterável_** e **_tipicamente heterogênea_**.  \n",
    "\n",
    "*Tuplas* em Python são úteis para modelar o que outras linguagens de alto nível geralmente chamam de *records*. No entanto, ao invés de ter um nome como um campo de um *record*, cada elemento de uma tupla é identificado por um *índice* que indica sua posição na estrutura. A indexação é a única forma de acesso aos elementos de uma tupla.\n",
    "\n",
    "Uma *tupla* é sempre uma estrutura ad-hoc, isto é, definida no momento de sua criação. Por isso, é difícil garantir que duas tuplas, mesmo que relacionadas, tenham o mesmo número de campos e as mesmas propriedades associadas a eles.\n",
    "\n",
    "Assim, é fácil cometer erros difíceis de localizar, como a introdução de campos extras ou a inversão de ordem entre campos. *Namedtuples*, discutidas no final desta aula, representam uma extensão interessante desse modelo e procuram atacar alguns desses problemas."
   ]
  },
  {
   "cell_type": "markdown",
   "metadata": {},
   "source": [
    "Uma tupla é representada como uma sequência de valores (usualmente entre parênteses) separados por vírgulas."
   ]
  },
  {
   "cell_type": "code",
   "execution_count": 2,
   "metadata": {},
   "outputs": [
    {
     "data": {
      "text/plain": [
       "('Honda', 'City', 'DX 1.5', 2016, 52500.0)"
      ]
     },
     "execution_count": 2,
     "metadata": {},
     "output_type": "execute_result"
    }
   ],
   "source": [
    "auto = ('Honda', 'City', 'DX 1.5', 2016, 52500.0)\n",
    "auto"
   ]
  },
  {
   "cell_type": "markdown",
   "metadata": {},
   "source": [
    "O número de elementos em uma *tupla* é dado pela função `len`."
   ]
  },
  {
   "cell_type": "code",
   "execution_count": 3,
   "metadata": {},
   "outputs": [
    {
     "data": {
      "text/plain": [
       "5"
      ]
     },
     "execution_count": 3,
     "metadata": {},
     "output_type": "execute_result"
    }
   ],
   "source": [
    "len(auto)"
   ]
  },
  {
   "cell_type": "markdown",
   "metadata": {},
   "source": [
    "Podemos obter os elementos de uma *tupla* por indexação direta, iterando em um `for`, um `while` ou por fatiamento."
   ]
  },
  {
   "cell_type": "code",
   "execution_count": 5,
   "metadata": {},
   "outputs": [
    {
     "name": "stdout",
     "output_type": "stream",
     "text": [
      "Honda\n",
      "City\n",
      "DX 1.5\n",
      "2016\n",
      "52500.0\n"
     ]
    }
   ],
   "source": [
    "for campo in auto:\n",
    "    print(campo)"
   ]
  },
  {
   "cell_type": "code",
   "execution_count": 6,
   "metadata": {},
   "outputs": [
    {
     "name": "stdout",
     "output_type": "stream",
     "text": [
      "Honda\n",
      "City\n",
      "DX 1.5\n",
      "2016\n",
      "52500.0\n"
     ]
    }
   ],
   "source": [
    "i = 0\n",
    "while i < len(auto):\n",
    "    print(auto[i])\n",
    "    i += 1"
   ]
  },
  {
   "cell_type": "code",
   "execution_count": 7,
   "metadata": {},
   "outputs": [
    {
     "name": "stdout",
     "output_type": "stream",
     "text": [
      "('Honda', 'City', 'EX 1.5', 2018, 69650.0)\n"
     ]
    }
   ],
   "source": [
    "auto_2 = auto[:2] + ('EX 1.5', 2018, 69650.0)\n",
    "print(auto_2)"
   ]
  },
  {
   "cell_type": "markdown",
   "metadata": {},
   "source": [
    "Uma *tupla* nula ou vazia é representada apenas por um par de parênteses."
   ]
  },
  {
   "cell_type": "code",
   "execution_count": 9,
   "metadata": {},
   "outputs": [
    {
     "name": "stdout",
     "output_type": "stream",
     "text": [
      "<class 'tuple'> ()\n"
     ]
    }
   ],
   "source": [
    "nada = ()\n",
    "print(type(nada), nada)"
   ]
  },
  {
   "cell_type": "markdown",
   "metadata": {},
   "source": [
    "A criação de uma *tupla* com um único elemento já requer um cuidado extra. Veja o que acontece..."
   ]
  },
  {
   "cell_type": "code",
   "execution_count": 11,
   "metadata": {},
   "outputs": [
    {
     "name": "stdout",
     "output_type": "stream",
     "text": [
      "<class 'str'>\n"
     ]
    }
   ],
   "source": [
    "marca = ('Honda')  # isto é considerado uso normal de parênteses\n",
    "print(type(marca))"
   ]
  },
  {
   "cell_type": "code",
   "execution_count": 12,
   "metadata": {},
   "outputs": [
    {
     "name": "stdout",
     "output_type": "stream",
     "text": [
      "<class 'tuple'>\n"
     ]
    }
   ],
   "source": [
    "marca = ('Honda',)  # uma vírgula antes do parêntese direito faz com que a expressão seja reconhecida corretamente\n",
    "print(type(marca))"
   ]
  },
  {
   "cell_type": "markdown",
   "metadata": {},
   "source": [
    "## Como “desempacotar” uma tupla\n",
    "Numa atribuição é possível associar os elementos de uma tupla colocada do lado direito a uma tupla de variáveis colocada do lado esquerdo."
   ]
  },
  {
   "cell_type": "code",
   "execution_count": 14,
   "metadata": {},
   "outputs": [
    {
     "name": "stdout",
     "output_type": "stream",
     "text": [
      "2016 Honda City DX 1.5 52500.0\n"
     ]
    }
   ],
   "source": [
    "marca, modelo, motor, ano, valor = auto\n",
    "print(ano, marca, modelo, motor, valor)"
   ]
  },
  {
   "cell_type": "code",
   "execution_count": 15,
   "metadata": {},
   "outputs": [
    {
     "name": "stdout",
     "output_type": "stream",
     "text": [
      "Honda City ['DX 1.5', 2016, 52500.0]\n"
     ]
    }
   ],
   "source": [
    "marca, modelo, *outros = auto\n",
    "print(marca, modelo, outros)"
   ]
  },
  {
   "cell_type": "markdown",
   "metadata": {},
   "source": [
    "Também é possível usar uma tupla de expressões do lado direito do operador de atribuição. Nesse caso, as expressões são avaliadas da esquerda para a direita e seus resultados atribuídos às variáveis da tupla do lado esquerdo, também da esquerda para a direita.\n",
    "\n",
    "Essa propriedade permite uma forma simples para permutar os valores de duas variáveis ou para “rodar” os valores de três ou mais variáveis."
   ]
  },
  {
   "cell_type": "code",
   "execution_count": null,
   "metadata": {},
   "outputs": [],
   "source": [
    "a = 10\n",
    "b = 20\n",
    "a, b = b, a\n",
    "print('a =', a, '  b =', b)"
   ]
  },
  {
   "cell_type": "code",
   "execution_count": null,
   "metadata": {},
   "outputs": [],
   "source": [
    "a, b, a = 100, 200, 300  # a aparece duas vezes na lista de variáveis\n",
    "print('a =', a, '  b =', b)"
   ]
  },
  {
   "cell_type": "code",
   "execution_count": null,
   "metadata": {},
   "outputs": [],
   "source": [
    "a, b, c = 100, 200, 300\n",
    "print('a =', a, '  b =', b, '  c =', c)\n",
    "\n",
    "a, b, c = b, c, a\n",
    "print('a =', a, '  b =', b, '  c =', c)"
   ]
  },
  {
   "cell_type": "markdown",
   "metadata": {},
   "source": [
    "O módulo `operator` oferece o extrator `itemgetter` que pode ser usado para obter um ou mais elementos de uma tupla. Na sua forma mais simples, aplicando-se `itemgetter` a um valor que representa um índice, ele gera uma função capaz de extrair o elemento naquela posição em uma sequência. Por exemplo, no caso de uma tupla..."
   ]
  },
  {
   "cell_type": "code",
   "execution_count": 16,
   "metadata": {},
   "outputs": [
    {
     "data": {
      "text/plain": [
       "30"
      ]
     },
     "execution_count": 16,
     "metadata": {},
     "output_type": "execute_result"
    }
   ],
   "source": [
    "from operator import itemgetter\n",
    "\n",
    "t = (10, 20, 30)\n",
    "itemgetter(2)(t)"
   ]
  },
  {
   "cell_type": "markdown",
   "metadata": {},
   "source": [
    "## Como criar tuplas a partir de listas “paralelas”\n",
    "A função *zip* retorna um iterador de tuplas, onde a i-ésima tupla contém o i-ésimo elemento de cada uma das sequências ou iteradores passados como argumentos.  \n",
    "O iterador para quando o argumento “mais curto” se esgota.  \n",
    "Se for passado um único argumento, ela retorna um iterador de 1-tuplas.  \n",
    "Sem argumentos, ela retorna um iterador vazio.  \n",
    "Os argumentos iteráveis são avaliados da esquerda para a direita."
   ]
  },
  {
   "cell_type": "code",
   "execution_count": 3,
   "metadata": {},
   "outputs": [
    {
     "data": {
      "text/plain": [
       "[(1, 4, 7), (2, 5, 8), (3, 6, 9)]"
      ]
     },
     "execution_count": 3,
     "metadata": {},
     "output_type": "execute_result"
    }
   ],
   "source": [
    "la = [1, 2, 3]\n",
    "lb = [4, 5, 6]\n",
    "lc = [7, 8, 9]\n",
    "lz = zip(la, lb, lc)\n",
    "list(lz)"
   ]
  },
  {
   "cell_type": "markdown",
   "metadata": {},
   "source": [
    "Quando combinados, a função *zip*, o comando *for* e a decomposição de tuplas permitem manipular várias sequências em paralelo, tratando os elementos correspondentes sem o uso explícito de índices.  \n",
    "Por exemplo, ..."
   ]
  },
  {
   "cell_type": "code",
   "execution_count": 5,
   "metadata": {},
   "outputs": [
    {
     "data": {
      "text/plain": [
       "[12, 15, 18]"
      ]
     },
     "execution_count": 5,
     "metadata": {},
     "output_type": "execute_result"
    }
   ],
   "source": [
    "ls = []\n",
    "for a, b, c in zip(la, lb, lc):\n",
    "    ls += [a + b + c]\n",
    "ls"
   ]
  },
  {
   "cell_type": "markdown",
   "metadata": {},
   "source": [
    "### Exemplo: Cálculo do produto interno de duas listas\n",
    "Dadas duas listas de elementos numéricos, calcular seu produto interno.\n",
    "\n",
    "Este problema foi resolvido como parte do exemplo *Cálculo da média ponderada* na *Aula 11*. Aqui nos interessam apenas as linhas 9-11.\n",
    "\n",
    "O uso de *zip* para criar um iterador combinando as listas *notas* e *pesos* e depois a extração das duplas uma a uma, permitem dispensar a manipulação de índices que era necessária na implementação anterior."
   ]
  },
  {
   "cell_type": "code",
   "execution_count": 17,
   "metadata": {},
   "outputs": [
    {
     "name": "stdout",
     "output_type": "stream",
     "text": [
      "pesos [3, 1, 2, 2, 3, 2, 3, 1, 1, 1]\n",
      "notas [3, 3, 7, 5, 5, 5, 0, 8, 4, 7]\n",
      "total 80   média 4.2\n"
     ]
    }
   ],
   "source": [
    "from random import choice\n",
    "\n",
    "pesos = [choice(range(1, 4)) for _ in range(10)]\n",
    "print('pesos', pesos)\n",
    "\n",
    "notas = [choice(range(11)) for _ in range(10)]\n",
    "print('notas', notas)\n",
    "\n",
    "total = 0\n",
    "for nota, peso in zip(notas, pesos):\n",
    "    total += nota * peso\n",
    "\n",
    "média = total / sum(pesos)\n",
    "print(f'total {total}   média {média:.1f}')"
   ]
  },
  {
   "cell_type": "markdown",
   "metadata": {},
   "source": [
    "## *Muito cuidado com aliasing*\n",
    "**Python tuples: immutable but potentially changing**  \n",
    "Think labels, not boxes  \n",
    "by Luciano Ramalho"
   ]
  },
  {
   "cell_type": "markdown",
   "metadata": {},
   "source": [
    "Tweeddledee e Tweeddledum são os gêmeos que Alice encontra em \"Através do Espelho\". Vamos chamá-los Dee e Dum e representá-los como _tuplas_ com sua data de nascimento e habilidades. "
   ]
  },
  {
   "cell_type": "code",
   "execution_count": 18,
   "metadata": {},
   "outputs": [],
   "source": [
    "dee = ('1861-10-23', ['poesia', 'briga-simulada'])\n",
    "dum = ('1861-10-23', ['poesia', 'briga-simulada'])"
   ]
  },
  {
   "cell_type": "markdown",
   "metadata": {},
   "source": [
    "Como Dee e Dum são gêmeos, suas representações são iguais, embora não sejam uma só."
   ]
  },
  {
   "cell_type": "code",
   "execution_count": 19,
   "metadata": {},
   "outputs": [
    {
     "data": {
      "text/plain": [
       "True"
      ]
     },
     "execution_count": 19,
     "metadata": {},
     "output_type": "execute_result"
    }
   ],
   "source": [
    "dum == dee"
   ]
  },
  {
   "cell_type": "code",
   "execution_count": 20,
   "metadata": {},
   "outputs": [
    {
     "data": {
      "text/plain": [
       "False"
      ]
     },
     "execution_count": 20,
     "metadata": {},
     "output_type": "execute_result"
    }
   ],
   "source": [
    "dum is dee"
   ]
  },
  {
   "cell_type": "code",
   "execution_count": 21,
   "metadata": {},
   "outputs": [
    {
     "data": {
      "text/plain": [
       "(4521652296, 4521417544)"
      ]
     },
     "execution_count": 21,
     "metadata": {},
     "output_type": "execute_result"
    }
   ],
   "source": [
    "id(dum), id(dee)"
   ]
  },
  {
   "cell_type": "markdown",
   "metadata": {},
   "source": [
    "Por outro lado, como ambos estão representados como tuplas, que são objetos imutáveis, não deve ser possível destruir a igualdade entre eles, certo?"
   ]
  },
  {
   "cell_type": "markdown",
   "metadata": {},
   "source": [
    "Vamos criar um *clone* de Dum."
   ]
  },
  {
   "cell_type": "code",
   "execution_count": 22,
   "metadata": {},
   "outputs": [],
   "source": [
    "doom = dum"
   ]
  },
  {
   "cell_type": "code",
   "execution_count": 23,
   "metadata": {},
   "outputs": [
    {
     "data": {
      "text/plain": [
       "True"
      ]
     },
     "execution_count": 23,
     "metadata": {},
     "output_type": "execute_result"
    }
   ],
   "source": [
    "doom == dum"
   ]
  },
  {
   "cell_type": "code",
   "execution_count": 24,
   "metadata": {},
   "outputs": [
    {
     "data": {
      "text/plain": [
       "True"
      ]
     },
     "execution_count": 24,
     "metadata": {},
     "output_type": "execute_result"
    }
   ],
   "source": [
    "doom is dum"
   ]
  },
  {
   "cell_type": "code",
   "execution_count": 25,
   "metadata": {},
   "outputs": [
    {
     "data": {
      "text/plain": [
       "(4521652296, 4521652296)"
      ]
     },
     "execution_count": 25,
     "metadata": {},
     "output_type": "execute_result"
    }
   ],
   "source": [
    "id(doom), id(dum)"
   ]
  },
  {
   "cell_type": "markdown",
   "metadata": {},
   "source": [
    "Suponha agora que Doom tenha se tornado *rapper*. Vamos acrescentar isso às suas habilidades. Estas estão representadas em `doom[1]`, certo?"
   ]
  },
  {
   "cell_type": "code",
   "execution_count": 26,
   "metadata": {},
   "outputs": [
    {
     "data": {
      "text/plain": [
       "['poesia', 'briga-simulada']"
      ]
     },
     "execution_count": 26,
     "metadata": {},
     "output_type": "execute_result"
    }
   ],
   "source": [
    "doom[1]"
   ]
  },
  {
   "cell_type": "code",
   "execution_count": 27,
   "metadata": {},
   "outputs": [
    {
     "data": {
      "text/plain": [
       "('1861-10-23', ['poesia', 'briga-simulada', 'rap'])"
      ]
     },
     "execution_count": 27,
     "metadata": {},
     "output_type": "execute_result"
    }
   ],
   "source": [
    "doom[1].append('rap')\n",
    "doom"
   ]
  },
  {
   "cell_type": "markdown",
   "metadata": {},
   "source": [
    "Vamos exibir as _tuplas_ que representam Dee, Dum e Doom novamente."
   ]
  },
  {
   "cell_type": "code",
   "execution_count": 28,
   "metadata": {},
   "outputs": [
    {
     "data": {
      "text/plain": [
       "('1861-10-23', ['poesia', 'briga-simulada'])"
      ]
     },
     "execution_count": 28,
     "metadata": {},
     "output_type": "execute_result"
    },
    {
     "data": {
      "text/plain": [
       "('1861-10-23', ['poesia', 'briga-simulada', 'rap'])"
      ]
     },
     "execution_count": 28,
     "metadata": {},
     "output_type": "execute_result"
    },
    {
     "data": {
      "text/plain": [
       "('1861-10-23', ['poesia', 'briga-simulada', 'rap'])"
      ]
     },
     "execution_count": 28,
     "metadata": {},
     "output_type": "execute_result"
    }
   ],
   "source": [
    "dee\n",
    "dum\n",
    "doom"
   ]
  },
  {
   "cell_type": "code",
   "execution_count": 29,
   "metadata": {},
   "outputs": [
    {
     "data": {
      "text/plain": [
       "False"
      ]
     },
     "execution_count": 29,
     "metadata": {},
     "output_type": "execute_result"
    }
   ],
   "source": [
    "dum == dee"
   ]
  },
  {
   "cell_type": "markdown",
   "metadata": {},
   "source": [
    "Ooops! `dum` e `dee` deixaram de ser iguais!  \n",
    "Mas tuplas não são imutáveis?\n",
    "\n",
    "-   Sim, isto é, **nem sempre**..."
   ]
  },
  {
   "cell_type": "markdown",
   "metadata": {},
   "source": [
    "#### Moral da história\n",
    ">   Nunca use um objeto mutável como componente de um objeto “teoricamente” imutável.  \n",
    "    Você pode se surpreender!"
   ]
  },
  {
   "cell_type": "markdown",
   "metadata": {},
   "source": [
    "## Named tuples\n",
    "*Named tuples* representam uma extensão ao modelo de _tuplas_ buscando atacar alguns dos problemas acima.  \n",
    "Elas são sequências ordenadas, “imutáveis” e iteráveis como _tuplas_ normais, mas seus elementos podem também ser referenciados por nome, como os campos dos *records* de outras linguagens de alto nível.\n",
    "\n"
   ]
  },
  {
   "cell_type": "code",
   "execution_count": 30,
   "metadata": {},
   "outputs": [
    {
     "name": "stdout",
     "output_type": "stream",
     "text": [
      "Auto(marca='Honda', modelo='City', motor='DX 1.5', ano=2016, valor=52500.0)\n"
     ]
    }
   ],
   "source": [
    "from collections import namedtuple\n",
    "\n",
    "Auto = namedtuple('Auto', 'marca modelo motor ano valor')\n",
    "\n",
    "auto = Auto('Honda', 'City', 'DX 1.5', 2016, 52500.0)\n",
    "print(auto)"
   ]
  },
  {
   "cell_type": "code",
   "execution_count": 32,
   "metadata": {},
   "outputs": [
    {
     "ename": "AttributeError",
     "evalue": "can't set attribute",
     "output_type": "error",
     "traceback": [
      "\u001b[0;31m---------------------------------------------------------------------------\u001b[0m",
      "\u001b[0;31mAttributeError\u001b[0m                            Traceback (most recent call last)",
      "\u001b[0;32m<ipython-input-32-d0999d039f0b>\u001b[0m in \u001b[0;36m<module>\u001b[0;34m()\u001b[0m\n\u001b[0;32m----> 1\u001b[0;31m \u001b[0mauto\u001b[0m\u001b[0;34m.\u001b[0m\u001b[0mano\u001b[0m \u001b[0;34m=\u001b[0m \u001b[0;36m2018\u001b[0m\u001b[0;34m\u001b[0m\u001b[0m\n\u001b[0m",
      "\u001b[0;31mAttributeError\u001b[0m: can't set attribute"
     ]
    }
   ],
   "source": [
    "auto.ano = 2018"
   ]
  },
  {
   "cell_type": "code",
   "execution_count": 33,
   "metadata": {},
   "outputs": [
    {
     "name": "stdout",
     "output_type": "stream",
     "text": [
      "52500.0 52500.0\n"
     ]
    }
   ],
   "source": [
    "print(auto.valor, auto[4])"
   ]
  },
  {
   "cell_type": "markdown",
   "metadata": {},
   "source": [
    "### No entanto, o problema com aliasing permanece"
   ]
  },
  {
   "cell_type": "markdown",
   "metadata": {},
   "source": [
    "Vamos criar uma *namedtuple* para conter os dados pessoais dos gêmeos e depois criar as respectivas entradas."
   ]
  },
  {
   "cell_type": "code",
   "execution_count": 44,
   "metadata": {},
   "outputs": [],
   "source": [
    "Bio = namedtuple('Bio', 'aniversário habilidades')"
   ]
  },
  {
   "cell_type": "code",
   "execution_count": 45,
   "metadata": {},
   "outputs": [
    {
     "data": {
      "text/plain": [
       "Bio(aniversário='1861-10-23', habilidades=['poesia', 'briga-simulada'])"
      ]
     },
     "execution_count": 45,
     "metadata": {},
     "output_type": "execute_result"
    }
   ],
   "source": [
    "dee = Bio('1861-10-23', ['poesia', 'briga-simulada'])\n",
    "dee"
   ]
  },
  {
   "cell_type": "code",
   "execution_count": 46,
   "metadata": {},
   "outputs": [
    {
     "data": {
      "text/plain": [
       "Bio(aniversário='1861-10-23', habilidades=['poesia', 'briga-simulada'])"
      ]
     },
     "execution_count": 46,
     "metadata": {},
     "output_type": "execute_result"
    }
   ],
   "source": [
    "dum = Bio('1861-10-23', ['poesia', 'briga-simulada'])\n",
    "dum"
   ]
  },
  {
   "cell_type": "markdown",
   "metadata": {},
   "source": [
    "Vamos verificar a igualdade e a distinção das *namedtuples*."
   ]
  },
  {
   "cell_type": "code",
   "execution_count": 47,
   "metadata": {},
   "outputs": [
    {
     "data": {
      "text/plain": [
       "True"
      ]
     },
     "execution_count": 47,
     "metadata": {},
     "output_type": "execute_result"
    }
   ],
   "source": [
    "dee == dum"
   ]
  },
  {
   "cell_type": "code",
   "execution_count": 48,
   "metadata": {},
   "outputs": [
    {
     "data": {
      "text/plain": [
       "False"
      ]
     },
     "execution_count": 48,
     "metadata": {},
     "output_type": "execute_result"
    }
   ],
   "source": [
    "dee is dum"
   ]
  },
  {
   "cell_type": "code",
   "execution_count": 49,
   "metadata": {},
   "outputs": [
    {
     "data": {
      "text/plain": [
       "(4523418032, 4523417744)"
      ]
     },
     "execution_count": 49,
     "metadata": {},
     "output_type": "execute_result"
    }
   ],
   "source": [
    "id(dum), id(dee)"
   ]
  },
  {
   "cell_type": "markdown",
   "metadata": {},
   "source": [
    "Vamos criar Doom, o clone de Dum."
   ]
  },
  {
   "cell_type": "code",
   "execution_count": 50,
   "metadata": {},
   "outputs": [
    {
     "data": {
      "text/plain": [
       "Bio(aniversário='1861-10-23', habilidades=['poesia', 'briga-simulada'])"
      ]
     },
     "execution_count": 50,
     "metadata": {},
     "output_type": "execute_result"
    }
   ],
   "source": [
    "doom = dum\n",
    "doom"
   ]
  },
  {
   "cell_type": "code",
   "execution_count": 51,
   "metadata": {},
   "outputs": [
    {
     "data": {
      "text/plain": [
       "True"
      ]
     },
     "execution_count": 51,
     "metadata": {},
     "output_type": "execute_result"
    }
   ],
   "source": [
    "doom == dum"
   ]
  },
  {
   "cell_type": "code",
   "execution_count": 52,
   "metadata": {},
   "outputs": [
    {
     "data": {
      "text/plain": [
       "True"
      ]
     },
     "execution_count": 52,
     "metadata": {},
     "output_type": "execute_result"
    }
   ],
   "source": [
    "doom is dum"
   ]
  },
  {
   "cell_type": "markdown",
   "metadata": {},
   "source": [
    "Vamos acrescentar `rap` às habilidades de Doom."
   ]
  },
  {
   "cell_type": "code",
   "execution_count": 53,
   "metadata": {},
   "outputs": [
    {
     "data": {
      "text/plain": [
       "Bio(aniversário='1861-10-23', habilidades=['poesia', 'briga-simulada', 'rap'])"
      ]
     },
     "execution_count": 53,
     "metadata": {},
     "output_type": "execute_result"
    }
   ],
   "source": [
    "doom[1].append('rap')\n",
    "doom"
   ]
  },
  {
   "cell_type": "markdown",
   "metadata": {},
   "source": [
    "Como `doom` e `dum` são “rótulos” que estão “colados” no mesmo objeto, isto também afeta as habilidades de Dum que, por estarem representadas numa *namedtuple*, **deveriam ser imutáveis**."
   ]
  },
  {
   "cell_type": "code",
   "execution_count": 54,
   "metadata": {},
   "outputs": [
    {
     "data": {
      "text/plain": [
       "Bio(aniversário='1861-10-23', habilidades=['poesia', 'briga-simulada', 'rap'])"
      ]
     },
     "execution_count": 54,
     "metadata": {},
     "output_type": "execute_result"
    }
   ],
   "source": [
    "dum"
   ]
  },
  {
   "cell_type": "markdown",
   "metadata": {},
   "source": [
    "Como `dee` continua o mesmo, `dum` e `dee` deixaram de ser iguais, o que, teoricamente, não poderia acontecer."
   ]
  },
  {
   "cell_type": "code",
   "execution_count": 55,
   "metadata": {},
   "outputs": [
    {
     "data": {
      "text/plain": [
       "Bio(aniversário='1861-10-23', habilidades=['poesia', 'briga-simulada'])"
      ]
     },
     "execution_count": 55,
     "metadata": {},
     "output_type": "execute_result"
    }
   ],
   "source": [
    "dee"
   ]
  },
  {
   "cell_type": "code",
   "execution_count": 56,
   "metadata": {},
   "outputs": [
    {
     "data": {
      "text/plain": [
       "False"
      ]
     },
     "execution_count": 56,
     "metadata": {},
     "output_type": "execute_result"
    }
   ],
   "source": [
    "dee == dum"
   ]
  }
 ],
 "metadata": {
  "kernelspec": {
   "display_name": "Python 3",
   "language": "python",
   "name": "python3"
  },
  "language_info": {
   "codemirror_mode": {
    "name": "ipython",
    "version": 3
   },
   "file_extension": ".py",
   "mimetype": "text/x-python",
   "name": "python",
   "nbconvert_exporter": "python",
   "pygments_lexer": "ipython3",
   "version": "3.6.4"
  }
 },
 "nbformat": 4,
 "nbformat_minor": 2
}
