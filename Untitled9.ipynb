{
 "cells": [
  {
   "cell_type": "code",
   "execution_count": 1,
   "metadata": {},
   "outputs": [
    {
     "data": {
      "text/html": [
       "\n",
       " \n",
       "div.input {\n",
       "width: 105ex; /* about 80 chars + buffer */\n",
       "}\n",
       " \n",
       "div.text_cell {\n",
       "width: 105ex /* instead of 100%, */\n",
       "}\n",
       " \n",
       "div.text_cell_render {\n",
       "/*font-family: \"Helvetica Neue\", Arial, Helvetica, Geneva, sans-serif;*/\n",
       "font-family: \"Charis SIL\", serif; /* Make non-code text serif. */\n",
       "line-height: 145%; /* added for some line spacing of text. */\n",
       "width: 105ex; /* instead of 'inherit' for shorter lines */\n",
       "}\n",
       " \n",
       "/* Set the size of the headers */\n",
       "div.text_cell_render h1 {\n",
       "font-size: 18pt;\n",
       "}\n",
       " \n",
       "div.text_cell_render h2 {\n",
       "font-size: 14pt;\n",
       "}\n",
       " \n",
       ".CodeMirror {\n",
       " font-family: Consolas, monospace;\n",
       " }\n",
       " \n",
       " \n"
      ],
      "text/plain": [
       "<IPython.core.display.HTML object>"
      ]
     },
     "execution_count": 1,
     "metadata": {},
     "output_type": "execute_result"
    }
   ],
   "source": [
    "import IPython.core.display\n",
    " \n",
    "IPython.core.display.HTML(\"\"\"\n",
    " \n",
    "div.input {\n",
    "width: 105ex; /* about 80 chars + buffer */\n",
    "}\n",
    " \n",
    "div.text_cell {\n",
    "width: 105ex /* instead of 100%, */\n",
    "}\n",
    " \n",
    "div.text_cell_render {\n",
    "/*font-family: \"Helvetica Neue\", Arial, Helvetica, Geneva, sans-serif;*/\n",
    "font-family: \"Charis SIL\", serif; /* Make non-code text serif. */\n",
    "line-height: 145%; /* added for some line spacing of text. */\n",
    "width: 105ex; /* instead of 'inherit' for shorter lines */\n",
    "}\n",
    " \n",
    "/* Set the size of the headers */\n",
    "div.text_cell_render h1 {\n",
    "font-size: 18pt;\n",
    "}\n",
    " \n",
    "div.text_cell_render h2 {\n",
    "font-size: 14pt;\n",
    "}\n",
    " \n",
    ".CodeMirror {\n",
    " font-family: Consolas, monospace;\n",
    " }\n",
    " \n",
    " \n",
    "\"\"\")\n"
   ]
  },
  {
   "cell_type": "markdown",
   "metadata": {},
   "source": [
    "## Teste de Título"
   ]
  },
  {
   "cell_type": "code",
   "execution_count": null,
   "metadata": {},
   "outputs": [],
   "source": [
    "la = [1, 2, 3]\n",
    "print(la)"
   ]
  }
 ],
 "metadata": {
  "kernelspec": {
   "display_name": "Python 3",
   "language": "python",
   "name": "python3"
  },
  "language_info": {
   "codemirror_mode": {
    "name": "ipython",
    "version": 3
   },
   "file_extension": ".py",
   "mimetype": "text/x-python",
   "name": "python",
   "nbconvert_exporter": "python",
   "pygments_lexer": "ipython3",
   "version": "3.6.4"
  },
  "latex_envs": {
   "LaTeX_envs_menu_present": true,
   "autocomplete": true,
   "bibliofile": "biblio.bib",
   "cite_by": "apalike",
   "current_citInitial": 1,
   "eqLabelWithNumbers": true,
   "eqNumInitial": 1,
   "hotkeys": {
    "equation": "Ctrl-E",
    "itemize": "Ctrl-I"
   },
   "labels_anchors": false,
   "latex_user_defs": false,
   "report_style_numbering": false,
   "user_envs_cfg": false
  },
  "toc": {
   "nav_menu": {},
   "number_sections": true,
   "sideBar": true,
   "skip_h1_title": true,
   "title_cell": "Table of Contents",
   "title_sidebar": "Contents",
   "toc_cell": false,
   "toc_position": {},
   "toc_section_display": true,
   "toc_window_display": false
  },
  "varInspector": {
   "cols": {
    "lenName": 16,
    "lenType": 16,
    "lenVar": 40
   },
   "kernels_config": {
    "python": {
     "delete_cmd_postfix": "",
     "delete_cmd_prefix": "del ",
     "library": "var_list.py",
     "varRefreshCmd": "print(var_dic_list())"
    },
    "r": {
     "delete_cmd_postfix": ") ",
     "delete_cmd_prefix": "rm(",
     "library": "var_list.r",
     "varRefreshCmd": "cat(var_dic_list()) "
    }
   },
   "types_to_exclude": [
    "module",
    "function",
    "builtin_function_or_method",
    "instance",
    "_Feature"
   ],
   "window_display": false
  }
 },
 "nbformat": 4,
 "nbformat_minor": 2
}
