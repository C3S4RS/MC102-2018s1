{
 "cells": [
  {
   "cell_type": "code",
   "execution_count": 1,
   "metadata": {
    "ExecuteTime": {
     "end_time": "2018-04-08T13:05:17.279859Z",
     "start_time": "2018-04-08T13:05:17.275510Z"
    },
    "init_cell": true,
    "slideshow": {
     "slide_type": "skip"
    }
   },
   "outputs": [],
   "source": [
    "from IPython.core.interactiveshell import InteractiveShell\n",
    "InteractiveShell.ast_node_interactivity = \"all\""
   ]
  },
  {
   "cell_type": "markdown",
   "metadata": {
    "slideshow": {
     "slide_type": "slide"
    }
   },
   "source": [
    "# Dicionários"
   ]
  },
  {
   "cell_type": "markdown",
   "metadata": {
    "slideshow": {
     "slide_type": "slide"
    }
   },
   "source": [
    "## O modelo\n",
    "Listas em Python são um instrumento muito poderoso quando desejamos extrair itens com base na sua posição em uma sequência.\n",
    "\n",
    "Por exemplo, suponha a tabela com os nomes das cidades brasileiras mais populosas publicada pelo IBGE:"
   ]
  },
  {
   "cell_type": "markdown",
   "metadata": {},
   "source": [
    "<img src=\"img/IBGE Maiores cidades.pdf\" alt=\"\" title=\"\" />"
   ]
  },
  {
   "cell_type": "markdown",
   "metadata": {},
   "source": [
    "Se criarmos uma lista como..."
   ]
  },
  {
   "cell_type": "code",
   "execution_count": 2,
   "metadata": {
    "slideshow": {
     "slide_type": "fragment"
    }
   },
   "outputs": [],
   "source": [
    "cidades = ['São Paulo', 'Rio de Janeiro', 'Brasíia', 'Salvador', 'Fortaleza']"
   ]
  },
  {
   "cell_type": "markdown",
   "metadata": {
    "slideshow": {
     "slide_type": "fragment"
    }
   },
   "source": [
    "... é possível responder diretamente a uma pergunta como “Qual a $n$-ésima maior cidade do Brasil?”."
   ]
  },
  {
   "cell_type": "code",
   "execution_count": 11,
   "metadata": {
    "slideshow": {
     "slide_type": "fragment"
    }
   },
   "outputs": [
    {
     "name": "stdout",
     "output_type": "stream",
     "text": [
      "A 2a maior cidade do Brasil é Rio de Janeiro.\n"
     ]
    }
   ],
   "source": [
    "n = int(input(\"Qual a posição da cidade desejada? \"))\n",
    "print(f'A {n}a maior cidade do Brasil é {cidades[n - 1]}.')"
   ]
  },
  {
   "cell_type": "markdown",
   "metadata": {
    "slideshow": {
     "slide_type": "subslide"
    }
   },
   "source": [
    "Numa lista, o valor do item que se acha numa determinada posição é recuperado de forma direta. Essa operação tem “custo” constante, isto é, independente da posição do item e do tamanho da lista. "
   ]
  },
  {
   "cell_type": "markdown",
   "metadata": {
    "slideshow": {
     "slide_type": "fragment"
    }
   },
   "source": [
    "Suponha que quiséssemos também responder a “Qual a população de $x$?”, onde $x$ é o nome de uma cidade na tabela.  \n",
    "Como fazer isso?"
   ]
  },
  {
   "cell_type": "markdown",
   "metadata": {
    "slideshow": {
     "slide_type": "fragment"
    }
   },
   "source": [
    "Seria possível, por exemplo, criar uma segunda lista, com a população de cada cidade, na mesma ordem."
   ]
  },
  {
   "cell_type": "code",
   "execution_count": 5,
   "metadata": {
    "slideshow": {
     "slide_type": "fragment"
    }
   },
   "outputs": [],
   "source": [
    "população = [12106920, 6520266, 3039444, 2953986, 2627482]"
   ]
  },
  {
   "cell_type": "markdown",
   "metadata": {
    "slideshow": {
     "slide_type": "subslide"
    }
   },
   "source": [
    "Nesse caso, para obter a população de $x$, será necessário fazer uma busca, explicitamente ou usando uma função do sistema. Supondo que $x$ esteja na lista..."
   ]
  },
  {
   "cell_type": "code",
   "execution_count": 12,
   "metadata": {
    "slideshow": {
     "slide_type": "fragment"
    }
   },
   "outputs": [
    {
     "name": "stdout",
     "output_type": "stream",
     "text": [
      "A população de Salvador é 2953986.\n"
     ]
    }
   ],
   "source": [
    "cidade = input(\"Qual a cidade desejada? \")\n",
    "i = 0\n",
    "while cidades[i] != cidade:\n",
    "    i += 1\n",
    "print(f'A população de {cidade} é {população[i]}.') "
   ]
  },
  {
   "cell_type": "markdown",
   "metadata": {},
   "source": [
    "ou..."
   ]
  },
  {
   "cell_type": "code",
   "execution_count": 13,
   "metadata": {},
   "outputs": [
    {
     "name": "stdout",
     "output_type": "stream",
     "text": [
      "A população de Salvador é 2953986.\n"
     ]
    }
   ],
   "source": [
    "cidade = input(\"Qual a cidade desejada? \")\n",
    "print(f'A população de {cidade} é {população[cidades.index(cidade)]}.')"
   ]
  },
  {
   "cell_type": "markdown",
   "metadata": {},
   "source": [
    "É possível também, por exemplo, criar uma lista de tuplas, reunindo a cidade e a respectiva população."
   ]
  },
  {
   "cell_type": "code",
   "execution_count": 15,
   "metadata": {},
   "outputs": [],
   "source": [
    "cid_pop = [('São Paulo', 12106920), \n",
    "           ('Rio de Janeiro', 6520266), \n",
    "           ('Brasíia', 3039444), \n",
    "           ('Salvador', 2953986), \n",
    "           ('Fortaleza', 2627482)\n",
    "          ]"
   ]
  },
  {
   "cell_type": "markdown",
   "metadata": {},
   "source": [
    "E nesse caso, a resposta à pergunta pode ser obtida, por exemplo, por..."
   ]
  },
  {
   "cell_type": "code",
   "execution_count": 17,
   "metadata": {},
   "outputs": [
    {
     "name": "stdout",
     "output_type": "stream",
     "text": [
      "A população de Salvador é 2953986.\n"
     ]
    }
   ],
   "source": [
    "x = input(\"Qual a cidade desejada? \")\n",
    "for cidade, população in cid_pop:\n",
    "    if cidade == x:\n",
    "        break\n",
    "print(f'A população de {cidade} é {população}.') "
   ]
  },
  {
   "cell_type": "markdown",
   "metadata": {
    "slideshow": {
     "slide_type": "fragment"
    }
   },
   "source": [
    "Em todos os casos, a operação de busca tem complexidade $\\mathcal{O}(n)$, isto é o tempo de execução passa a ser proporcional ao tamanho da lista."
   ]
  },
  {
   "cell_type": "markdown",
   "metadata": {
    "slideshow": {
     "slide_type": "subslide"
    }
   },
   "source": [
    "Um **_dicionário_** em Python permite resolver esse problema de uma forma muito mais eficiente.\n",
    "\n",
    "Um **_dicionário_** é uma **_coleção não ordenada de objetos_**, **_mutável_**, **_iterável_** e **_potencialmente heterogênea_**.\n",
    "\n",
    "Os itens de um dicionários são acessíveis por **_chaves_** e não por índices, como nas estruturas sequenciais (listas, strings e tuplas) que já estudamos."
   ]
  },
  {
   "cell_type": "markdown",
   "metadata": {
    "slideshow": {
     "slide_type": "subslide"
    }
   },
   "source": [
    "A implementação de dicionários usa uma técnica chmada *hashing* (que estudaremos mais à frente).\n",
    "\n",
    "O uso de *hashing* faz com que o tempo de busca de um determinado valor seja potencialmente constante, em vez de crescer linearmente com o tamanho da estrutura, como acontece nas listas."
   ]
  },
  {
   "cell_type": "markdown",
   "metadata": {
    "slideshow": {
     "slide_type": "subslide"
    }
   },
   "source": [
    "Um dicionário é representado por um conjunto de pares **_chave: valor_**, entre **{** e **}** e separados por **_vírgulas_**. \n",
    "\n",
    "A **_chave_** deve pertencer a um tipo imutável (isto é, nada de *listas* ou *dicionários*), enquanto o **_valor_** pode ser de qualquer tipo."
   ]
  },
  {
   "cell_type": "markdown",
   "metadata": {
    "slideshow": {
     "slide_type": "subslide"
    }
   },
   "source": [
    "Por exemplo:"
   ]
  },
  {
   "cell_type": "code",
   "execution_count": 24,
   "metadata": {
    "ExecuteTime": {
     "end_time": "2018-04-08T13:05:44.043328Z",
     "start_time": "2018-04-08T13:05:44.040012Z"
    },
    "slideshow": {
     "slide_type": "fragment"
    }
   },
   "outputs": [],
   "source": [
    "cid2pop = {'São Paulo': 12106920, \n",
    "             'Rio de Janeiro': 6520266, \n",
    "             'Brasília': 3039400,\n",
    "             'Salvador': 2953986, \n",
    "             'Fortaleza': 2627482\n",
    "            }"
   ]
  },
  {
   "cell_type": "markdown",
   "metadata": {
    "slideshow": {
     "slide_type": "fragment"
    }
   },
   "source": [
    "E agora, para obter a população de $x$, basta dizer"
   ]
  },
  {
   "cell_type": "code",
   "execution_count": 25,
   "metadata": {
    "slideshow": {
     "slide_type": "fragment"
    }
   },
   "outputs": [
    {
     "name": "stdout",
     "output_type": "stream",
     "text": [
      "A população de Salvador é 2953986.\n"
     ]
    }
   ],
   "source": [
    "x = input(\"Qual a cidade desejada? \")\n",
    "print(f'A população de {cidade} é {cid2pop[x]}.')"
   ]
  },
  {
   "cell_type": "markdown",
   "metadata": {},
   "source": [
    "Em compensação, os itens de um dicionário não são acessíveis por índices..."
   ]
  },
  {
   "cell_type": "code",
   "execution_count": 26,
   "metadata": {},
   "outputs": [
    {
     "ename": "KeyError",
     "evalue": "1",
     "output_type": "error",
     "traceback": [
      "\u001b[0;31m---------------------------------------------------------------------------\u001b[0m",
      "\u001b[0;31mKeyError\u001b[0m                                  Traceback (most recent call last)",
      "\u001b[0;32m<ipython-input-26-019bd9c87f36>\u001b[0m in \u001b[0;36m<module>\u001b[0;34m()\u001b[0m\n\u001b[0;32m----> 1\u001b[0;31m \u001b[0mcid2pop\u001b[0m\u001b[0;34m[\u001b[0m\u001b[0;36m1\u001b[0m\u001b[0;34m]\u001b[0m\u001b[0;34m\u001b[0m\u001b[0m\n\u001b[0m",
      "\u001b[0;31mKeyError\u001b[0m: 1"
     ]
    }
   ],
   "source": [
    "cid2pop[1]"
   ]
  },
  {
   "cell_type": "markdown",
   "metadata": {
    "slideshow": {
     "slide_type": "slide"
    }
   },
   "source": [
    "## Como criar um dicionário"
   ]
  },
  {
   "cell_type": "markdown",
   "metadata": {
    "slideshow": {
     "slide_type": "fragment"
    }
   },
   "source": [
    "O exemplo acima mostrou como criar um dicionário. Se quiséssemos um dicionário *dic* vazio faríamos"
   ]
  },
  {
   "cell_type": "code",
   "execution_count": 53,
   "metadata": {
    "slideshow": {
     "slide_type": "fragment"
    }
   },
   "outputs": [
    {
     "data": {
      "text/plain": [
       "{}"
      ]
     },
     "execution_count": 53,
     "metadata": {},
     "output_type": "execute_result"
    }
   ],
   "source": [
    "dic = {}\n",
    "dic"
   ]
  },
  {
   "cell_type": "markdown",
   "metadata": {
    "slideshow": {
     "slide_type": "slide"
    }
   },
   "source": [
    "## Como obter e modificar os itens de um dicionário\n",
    "Já vimos como obter o valor associado a uma chave.  \n",
    "A população de Brasília está errada. Vamos corrigi-la..."
   ]
  },
  {
   "cell_type": "code",
   "execution_count": 27,
   "metadata": {
    "slideshow": {
     "slide_type": "fragment"
    }
   },
   "outputs": [],
   "source": [
    "cid2pop['Brasília'] = 3039444"
   ]
  },
  {
   "cell_type": "markdown",
   "metadata": {
    "slideshow": {
     "slide_type": "subslide"
    }
   },
   "source": [
    "O mesmo procedimento permite incluir novos itens no dicionário:"
   ]
  },
  {
   "cell_type": "code",
   "execution_count": 28,
   "metadata": {
    "slideshow": {
     "slide_type": "fragment"
    }
   },
   "outputs": [],
   "source": [
    "cid2pop['Belo Horizonte'] = 2523000\n",
    "cid2pop['Manaus'] = 2130264"
   ]
  },
  {
   "cell_type": "code",
   "execution_count": 29,
   "metadata": {
    "slideshow": {
     "slide_type": "fragment"
    }
   },
   "outputs": [
    {
     "data": {
      "text/plain": [
       "{'Belo Horizonte': 2523000,\n",
       " 'Brasília': 3039444,\n",
       " 'Fortaleza': 2627482,\n",
       " 'Manaus': 2130264,\n",
       " 'Rio de Janeiro': 6520266,\n",
       " 'Salvador': 2953986,\n",
       " 'São Paulo': 12106920}"
      ]
     },
     "execution_count": 29,
     "metadata": {},
     "output_type": "execute_result"
    }
   ],
   "source": [
    "cid2pop"
   ]
  },
  {
   "cell_type": "markdown",
   "metadata": {
    "slideshow": {
     "slide_type": "subslide"
    }
   },
   "source": [
    "É possível também incluir ou atualizar mais do que um novo item de uma vez só, mesclando-se (*merging*) um outro dicionário com o método **update**."
   ]
  },
  {
   "cell_type": "code",
   "execution_count": 30,
   "metadata": {
    "slideshow": {
     "slide_type": "fragment"
    }
   },
   "outputs": [
    {
     "data": {
      "text/plain": [
       "{'Belo Horizonte': 2523794,\n",
       " 'Brasília': 3039444,\n",
       " 'Curitiba': 1908359,\n",
       " 'Fortaleza': 2627482,\n",
       " 'Manaus': 2130264,\n",
       " 'Porto Alegre': 1484941,\n",
       " 'Recife': 1633697,\n",
       " 'Rio de Janeiro': 6520266,\n",
       " 'Salvador': 2953986,\n",
       " 'São Paulo': 12106920}"
      ]
     },
     "execution_count": 30,
     "metadata": {},
     "output_type": "execute_result"
    }
   ],
   "source": [
    "cid2pop.update({'Curitiba': 1908359, 'Recife': 1633697, 'Porto Alegre': 1484941, 'Belo Horizonte': 2523794})\n",
    "cid2pop"
   ]
  },
  {
   "cell_type": "markdown",
   "metadata": {
    "slideshow": {
     "slide_type": "subslide"
    }
   },
   "source": [
    "O acesso com uma chave inexistente provoca um erro"
   ]
  },
  {
   "cell_type": "code",
   "execution_count": 31,
   "metadata": {
    "slideshow": {
     "slide_type": "fragment"
    }
   },
   "outputs": [
    {
     "ename": "KeyError",
     "evalue": "'Campinas'",
     "output_type": "error",
     "traceback": [
      "\u001b[0;31m---------------------------------------------------------------------------\u001b[0m",
      "\u001b[0;31mKeyError\u001b[0m                                  Traceback (most recent call last)",
      "\u001b[0;32m<ipython-input-31-e39e634706f3>\u001b[0m in \u001b[0;36m<module>\u001b[0;34m()\u001b[0m\n\u001b[0;32m----> 1\u001b[0;31m \u001b[0mcid2pop\u001b[0m\u001b[0;34m[\u001b[0m\u001b[0;34m'Campinas'\u001b[0m\u001b[0;34m]\u001b[0m\u001b[0;34m\u001b[0m\u001b[0m\n\u001b[0m",
      "\u001b[0;31mKeyError\u001b[0m: 'Campinas'"
     ]
    }
   ],
   "source": [
    "cid2pop['Campinas']"
   ]
  },
  {
   "cell_type": "markdown",
   "metadata": {
    "slideshow": {
     "slide_type": "subslide"
    }
   },
   "source": [
    "Para evitar o erro, usa-se o método **get** que aceita um parâmetro com o valor que deve ser retornado, caso a chave consultada não seja encontrada."
   ]
  },
  {
   "cell_type": "code",
   "execution_count": 32,
   "metadata": {
    "slideshow": {
     "slide_type": "fragment"
    }
   },
   "outputs": [
    {
     "data": {
      "text/plain": [
       "'Não sei...'"
      ]
     },
     "execution_count": 32,
     "metadata": {},
     "output_type": "execute_result"
    }
   ],
   "source": [
    "cid2pop.get('Campinas', 'Não sei...')"
   ]
  },
  {
   "cell_type": "markdown",
   "metadata": {
    "slideshow": {
     "slide_type": "slide"
    }
   },
   "source": [
    "## Como testar a existência de um item num dicionário\n",
    "O erro numa consulta com uma chave inexistente também pode ser evitado protegendo-se a consulta por um teste de existência com os operadores **in** e **not in**."
   ]
  },
  {
   "cell_type": "code",
   "execution_count": 33,
   "metadata": {
    "scrolled": true,
    "slideshow": {
     "slide_type": "fragment"
    }
   },
   "outputs": [
    {
     "data": {
      "text/plain": [
       "False"
      ]
     },
     "execution_count": 33,
     "metadata": {},
     "output_type": "execute_result"
    }
   ],
   "source": [
    "'Campinas' in cid2pop"
   ]
  },
  {
   "cell_type": "code",
   "execution_count": 34,
   "metadata": {
    "slideshow": {
     "slide_type": "fragment"
    }
   },
   "outputs": [
    {
     "data": {
      "text/plain": [
       "True"
      ]
     },
     "execution_count": 34,
     "metadata": {},
     "output_type": "execute_result"
    }
   ],
   "source": [
    "'Campinas' not in cid2pop"
   ]
  },
  {
   "cell_type": "markdown",
   "metadata": {
    "slideshow": {
     "slide_type": "subslide"
    }
   },
   "source": [
    "... o que nos permite fazer..."
   ]
  },
  {
   "cell_type": "code",
   "execution_count": 35,
   "metadata": {
    "slideshow": {
     "slide_type": "fragment"
    }
   },
   "outputs": [
    {
     "data": {
      "text/plain": [
       "'não sei'"
      ]
     },
     "execution_count": 35,
     "metadata": {},
     "output_type": "execute_result"
    }
   ],
   "source": [
    "if 'Campinas' in cid2pop:\n",
    "    resposta = cid2pop['Campinas']\n",
    "else:\n",
    "    resposta = 'não sei'\n",
    "resposta"
   ]
  },
  {
   "cell_type": "markdown",
   "metadata": {
    "slideshow": {
     "slide_type": "subslide"
    }
   },
   "source": [
    "Esse comando também pode ser escrito de forma mais simples como"
   ]
  },
  {
   "cell_type": "code",
   "execution_count": 36,
   "metadata": {
    "slideshow": {
     "slide_type": "fragment"
    }
   },
   "outputs": [
    {
     "data": {
      "text/plain": [
       "'não sei'"
      ]
     },
     "execution_count": 36,
     "metadata": {},
     "output_type": "execute_result"
    }
   ],
   "source": [
    "resposta = cid2pop['Campinas'] if 'Campinas' in cid2pop else 'não sei'\n",
    "resposta"
   ]
  },
  {
   "cell_type": "markdown",
   "metadata": {
    "slideshow": {
     "slide_type": "slide"
    }
   },
   "source": [
    "## Como remover itens de um dicionário\n",
    "Para remover um item de um dicionário usa-se o comando **del**"
   ]
  },
  {
   "cell_type": "code",
   "execution_count": 37,
   "metadata": {
    "slideshow": {
     "slide_type": "fragment"
    }
   },
   "outputs": [
    {
     "data": {
      "text/plain": [
       "{'Belo Horizonte': 2523794,\n",
       " 'Brasília': 3039444,\n",
       " 'Curitiba': 1908359,\n",
       " 'Fortaleza': 2627482,\n",
       " 'Porto Alegre': 1484941,\n",
       " 'Recife': 1633697,\n",
       " 'Rio de Janeiro': 6520266,\n",
       " 'Salvador': 2953986,\n",
       " 'São Paulo': 12106920}"
      ]
     },
     "execution_count": 37,
     "metadata": {},
     "output_type": "execute_result"
    }
   ],
   "source": [
    "del cid2pop['Manaus']\n",
    "cid2pop"
   ]
  },
  {
   "cell_type": "markdown",
   "metadata": {
    "slideshow": {
     "slide_type": "subslide"
    }
   },
   "source": [
    "É possível obter o valor de um item e, ao mesmo tempo, removê-lo usando-se o método **pop**."
   ]
  },
  {
   "cell_type": "code",
   "execution_count": 39,
   "metadata": {
    "slideshow": {
     "slide_type": "fragment"
    }
   },
   "outputs": [
    {
     "name": "stdout",
     "output_type": "stream",
     "text": [
      "2627482\n"
     ]
    }
   ],
   "source": [
    "print(cid2pop.pop('Fortaleza'))"
   ]
  },
  {
   "cell_type": "code",
   "execution_count": 40,
   "metadata": {
    "slideshow": {
     "slide_type": "fragment"
    }
   },
   "outputs": [
    {
     "data": {
      "text/plain": [
       "{'Belo Horizonte': 2523794,\n",
       " 'Brasília': 3039444,\n",
       " 'Curitiba': 1908359,\n",
       " 'Porto Alegre': 1484941,\n",
       " 'Recife': 1633697,\n",
       " 'Rio de Janeiro': 6520266,\n",
       " 'Salvador': 2953986,\n",
       " 'São Paulo': 12106920}"
      ]
     },
     "execution_count": 40,
     "metadata": {},
     "output_type": "execute_result"
    }
   ],
   "source": [
    "cid2pop"
   ]
  },
  {
   "cell_type": "markdown",
   "metadata": {
    "slideshow": {
     "slide_type": "subslide"
    }
   },
   "source": [
    "A tentativa de remoção de uma chave inexistente gera um erro..."
   ]
  },
  {
   "cell_type": "code",
   "execution_count": 41,
   "metadata": {
    "slideshow": {
     "slide_type": "fragment"
    }
   },
   "outputs": [
    {
     "ename": "KeyError",
     "evalue": "'Campinas'",
     "output_type": "error",
     "traceback": [
      "\u001b[0;31m---------------------------------------------------------------------------\u001b[0m",
      "\u001b[0;31mKeyError\u001b[0m                                  Traceback (most recent call last)",
      "\u001b[0;32m<ipython-input-41-bd09199dcbe3>\u001b[0m in \u001b[0;36m<module>\u001b[0;34m()\u001b[0m\n\u001b[0;32m----> 1\u001b[0;31m \u001b[0mprint\u001b[0m\u001b[0;34m(\u001b[0m\u001b[0mcid2pop\u001b[0m\u001b[0;34m.\u001b[0m\u001b[0mpop\u001b[0m\u001b[0;34m(\u001b[0m\u001b[0;34m'Campinas'\u001b[0m\u001b[0;34m)\u001b[0m\u001b[0;34m)\u001b[0m\u001b[0;34m\u001b[0m\u001b[0m\n\u001b[0m",
      "\u001b[0;31mKeyError\u001b[0m: 'Campinas'"
     ]
    }
   ],
   "source": [
    "print(cid2pop.pop('Campinas'))"
   ]
  },
  {
   "cell_type": "markdown",
   "metadata": {
    "slideshow": {
     "slide_type": "subslide"
    }
   },
   "source": [
    "É possível evitar o erro na remoção de uma chave inexistente dando *None* como um segundo argumento para **pop**."
   ]
  },
  {
   "cell_type": "code",
   "execution_count": 42,
   "metadata": {
    "slideshow": {
     "slide_type": "fragment"
    }
   },
   "outputs": [
    {
     "name": "stdout",
     "output_type": "stream",
     "text": [
      "None\n"
     ]
    }
   ],
   "source": [
    "print(população.pop('Campinas', None))"
   ]
  },
  {
   "cell_type": "markdown",
   "metadata": {
    "slideshow": {
     "slide_type": "subslide"
    }
   },
   "source": [
    "Para remover todas os itens de um dicionário usa-se o método **clear**.\n",
    "\n",
    "**Clear** esvazia o dicionário associado à variável à qual ele é aplicado.\n",
    "\n",
    "- A variável continua associada ao mesmo objeto (isto é, seu **id** não se altera).\n",
    "- Apenas o valor do objeto é que foi alterado (neste caso para *vazio*)."
   ]
  },
  {
   "cell_type": "code",
   "execution_count": 43,
   "metadata": {
    "slideshow": {
     "slide_type": "fragment"
    }
   },
   "outputs": [
    {
     "data": {
      "text/plain": [
       "(4463474728, {'a': 123, 'b': 456, 'c': 789})"
      ]
     },
     "execution_count": 43,
     "metadata": {},
     "output_type": "execute_result"
    }
   ],
   "source": [
    "dic = {'a': 123, 'b': 456, 'c': 789}\n",
    "id(dic), dic"
   ]
  },
  {
   "cell_type": "code",
   "execution_count": 44,
   "metadata": {
    "slideshow": {
     "slide_type": "fragment"
    }
   },
   "outputs": [
    {
     "data": {
      "text/plain": [
       "(4463474728, {})"
      ]
     },
     "execution_count": 44,
     "metadata": {},
     "output_type": "execute_result"
    }
   ],
   "source": [
    "dic.clear()\n",
    "id(dic), dic"
   ]
  },
  {
   "cell_type": "markdown",
   "metadata": {
    "slideshow": {
     "slide_type": "subslide"
    }
   },
   "source": [
    "Note que isto não é o mesmo que atribuir **{}** à variável. Neste caso a variável deixa de estar associada ao antigo dicionário (que continua existindo) e passa a estar associada a outro dicionário (neste caso um dicionário vazio). Com isso, o **id** da variável muda, como mostram os exemplos a seguir. "
   ]
  },
  {
   "cell_type": "code",
   "execution_count": 45,
   "metadata": {
    "slideshow": {
     "slide_type": "fragment"
    }
   },
   "outputs": [
    {
     "data": {
      "text/plain": [
       "(4435158072, {'a': 123, 'b': 456, 'c': 789})"
      ]
     },
     "execution_count": 45,
     "metadata": {},
     "output_type": "execute_result"
    }
   ],
   "source": [
    "dic = {'a': 123, 'b': 456, 'c': 789}\n",
    "id(dic), dic"
   ]
  },
  {
   "cell_type": "code",
   "execution_count": 46,
   "metadata": {
    "slideshow": {
     "slide_type": "fragment"
    }
   },
   "outputs": [
    {
     "data": {
      "text/plain": [
       "(4435383136, {})"
      ]
     },
     "execution_count": 46,
     "metadata": {},
     "output_type": "execute_result"
    }
   ],
   "source": [
    "dic = {}\n",
    "id(dic), dic"
   ]
  },
  {
   "cell_type": "markdown",
   "metadata": {
    "slideshow": {
     "slide_type": "slide"
    }
   },
   "source": [
    "## Iterações sobre dicionários\n",
    "É possível iterar facilmente sobre as chaves ou valores de um dicionário"
   ]
  },
  {
   "cell_type": "code",
   "execution_count": 63,
   "metadata": {
    "slideshow": {
     "slide_type": "fragment"
    }
   },
   "outputs": [],
   "source": [
    "cid2pop = {'Salvador': 2954000,\n",
    "             'Fortaleza': 2627482,\n",
    "             'Belo Horizonte': 2523794,\n",
    "             'São Paulo': 12106920,\n",
    "             'Brasília': 3039444,\n",
    "             'Rio de Janeiro': 6520266,\n",
    "             'Manaus': 2130264}"
   ]
  },
  {
   "cell_type": "code",
   "execution_count": 51,
   "metadata": {
    "slideshow": {
     "slide_type": "subslide"
    }
   },
   "outputs": [
    {
     "name": "stdout",
     "output_type": "stream",
     "text": [
      "São Paulo         12106920\n",
      "Rio de Janeiro     6520266\n",
      "Brasília           3039444\n",
      "Salvador           2953986\n",
      "Belo Horizonte     2523794\n",
      "Curitiba           1908359\n",
      "Recife             1633697\n",
      "Porto Alegre       1484941\n"
     ]
    }
   ],
   "source": [
    "for x in cid2pop:\n",
    "    print(f'{x:16}  {cid2pop[x]:8}')"
   ]
  },
  {
   "cell_type": "markdown",
   "metadata": {
    "slideshow": {
     "slide_type": "subslide"
    }
   },
   "source": [
    "O mesmo resultado pode ser conseguido de um jeito mais *pythoniano* por"
   ]
  },
  {
   "cell_type": "code",
   "execution_count": 50,
   "metadata": {
    "slideshow": {
     "slide_type": "fragment"
    }
   },
   "outputs": [
    {
     "name": "stdout",
     "output_type": "stream",
     "text": [
      "São Paulo         12106920\n",
      "Rio de Janeiro     6520266\n",
      "Brasília           3039444\n",
      "Salvador           2953986\n",
      "Belo Horizonte     2523794\n",
      "Curitiba           1908359\n",
      "Recife             1633697\n",
      "Porto Alegre       1484941\n"
     ]
    }
   ],
   "source": [
    "for x, popx in cid2pop.items():\n",
    "    print(f'{x:16}  {popx:8}')"
   ]
  },
  {
   "cell_type": "markdown",
   "metadata": {
    "slideshow": {
     "slide_type": "slide"
    }
   },
   "source": [
    "## Exemplos"
   ]
  },
  {
   "cell_type": "markdown",
   "metadata": {
    "slideshow": {
     "slide_type": "subslide"
    }
   },
   "source": [
    "### Quais as três cidades brasileiras mais populosas?"
   ]
  },
  {
   "cell_type": "code",
   "execution_count": 55,
   "metadata": {
    "slideshow": {
     "slide_type": "fragment"
    }
   },
   "outputs": [],
   "source": [
    "cid2pop = {'Salvador': 2954000,\n",
    "           'Fortaleza': 2627482,\n",
    "           'Belo Horizonte': 2523794,\n",
    "           'São Paulo': 12106920,\n",
    "           'Brasília': 3039444,\n",
    "           'Rio de Janeiro': 6520266,\n",
    "           'Manaus': 2130264,\n",
    "           'Curitiba': 1908359,\n",
    "           'Recife': 1633697,\n",
    "           'Porto Alegre': 1484941\n",
    "          }"
   ]
  },
  {
   "cell_type": "code",
   "execution_count": 56,
   "metadata": {
    "slideshow": {
     "slide_type": "subslide"
    }
   },
   "outputs": [
    {
     "data": {
      "text/plain": [
       "[('São Paulo', 12106920), ('Rio de Janeiro', 6520266), ('Brasília', 3039444)]"
      ]
     },
     "execution_count": 56,
     "metadata": {},
     "output_type": "execute_result"
    }
   ],
   "source": [
    "from operator import itemgetter\n",
    "\n",
    "scid2pop = sorted(cid2pop.items(), key=itemgetter(1), reverse=True)\n",
    "scid2pop[:3]"
   ]
  },
  {
   "cell_type": "markdown",
   "metadata": {
    "slideshow": {
     "slide_type": "subslide"
    }
   },
   "source": [
    "### Quais cidades brasileiras têm mais do que 2 milhões de habitantes?"
   ]
  },
  {
   "cell_type": "code",
   "execution_count": 57,
   "metadata": {
    "slideshow": {
     "slide_type": "fragment"
    }
   },
   "outputs": [],
   "source": [
    "cid2pop = {'Salvador': 2954000,\n",
    "           'Fortaleza': 2627482,\n",
    "           'Belo Horizonte': 2523794,\n",
    "           'São Paulo': 12106920,\n",
    "           'Brasília': 3039444,\n",
    "           'Rio de Janeiro': 6520266,\n",
    "           'Manaus': 2130264,\n",
    "           'Curitiba': 1908359,\n",
    "           'Recife': 1633697,\n",
    "           'Porto Alegre': 1484941\n",
    "          }"
   ]
  },
  {
   "cell_type": "code",
   "execution_count": 60,
   "metadata": {
    "slideshow": {
     "slide_type": "subslide"
    }
   },
   "outputs": [
    {
     "data": {
      "text/plain": [
       "[('São Paulo', 12106920),\n",
       " ('Rio de Janeiro', 6520266),\n",
       " ('Brasília', 3039444),\n",
       " ('Salvador', 2954000),\n",
       " ('Fortaleza', 2627482),\n",
       " ('Belo Horizonte', 2523794),\n",
       " ('Manaus', 2130264)]"
      ]
     },
     "execution_count": 60,
     "metadata": {},
     "output_type": "execute_result"
    }
   ],
   "source": [
    "from operator import itemgetter\n",
    "\n",
    "grandes = [(rm, pop) for rm, pop in cid2pop.items() if pop > 2000000]\n",
    "grandes = sorted(grandes, key=itemgetter(1), reverse=True)\n",
    "grandes"
   ]
  },
  {
   "cell_type": "markdown",
   "metadata": {
    "slideshow": {
     "slide_type": "subslide"
    }
   },
   "source": [
    "### Dentre as cidades brasileiras com mais de 1,5 milhões de habitantes, quais as duas com nome mais curto?"
   ]
  },
  {
   "cell_type": "code",
   "execution_count": 61,
   "metadata": {
    "slideshow": {
     "slide_type": "fragment"
    }
   },
   "outputs": [],
   "source": [
    "cid2pop = {'São Paulo': 12106920, 'Rio de Janeiro': 6520266,\n",
    "           'Brasília': 3039444,   'Salvador': 2953986,\n",
    "           'Fortaleza': 2627482,  'Belo Horizonte': 2523794,\n",
    "           'Manaus': 2130264,     'Curitiba': 1908359,\n",
    "           'Recife': 1633697,     'Porto Alegre': 1484941,\n",
    "           'Goiânia': 1466105,    'Belém': 1452275,\n",
    "           'Guarulhos': 1349113,  'Campinas': 1182429,\n",
    "           'São Luís': 1091868,   'São Gonçalo': 1049826,\n",
    "           'Maceió': 1029129\n",
    "          }"
   ]
  },
  {
   "cell_type": "code",
   "execution_count": 62,
   "metadata": {
    "slideshow": {
     "slide_type": "subslide"
    }
   },
   "outputs": [
    {
     "data": {
      "text/plain": [
       "[('Manaus', 2130264, 6),\n",
       " ('Recife', 1633697, 6),\n",
       " ('Brasília', 3039444, 8),\n",
       " ('Salvador', 2953986, 8),\n",
       " ('Curitiba', 1908359, 8),\n",
       " ('São Paulo', 12106920, 9),\n",
       " ('Fortaleza', 2627482, 9),\n",
       " ('Rio de Janeiro', 6520266, 14),\n",
       " ('Belo Horizonte', 2523794, 14)]"
      ]
     },
     "execution_count": 62,
     "metadata": {},
     "output_type": "execute_result"
    },
    {
     "data": {
      "text/plain": [
       "[('Manaus', 2130264, 6), ('Recife', 1633697, 6)]"
      ]
     },
     "execution_count": 62,
     "metadata": {},
     "output_type": "execute_result"
    }
   ],
   "source": [
    "from operator import itemgetter\n",
    "\n",
    "tam_nomes = [(nome, pop, len(nome)) for nome, pop in cid2pop.items() if pop > 1500000]\n",
    "tam_nomes = sorted(tam_nomes, key=itemgetter(2))\n",
    "tam_nomes\n",
    "tam_nomes[:2]"
   ]
  },
  {
   "cell_type": "code",
   "execution_count": null,
   "metadata": {},
   "outputs": [],
   "source": []
  }
 ],
 "metadata": {
  "celltoolbar": "Slideshow",
  "kernelspec": {
   "display_name": "Python 3",
   "language": "python",
   "name": "python3"
  },
  "language_info": {
   "codemirror_mode": {
    "name": "ipython",
    "version": 3
   },
   "file_extension": ".py",
   "mimetype": "text/x-python",
   "name": "python",
   "nbconvert_exporter": "python",
   "pygments_lexer": "ipython3",
   "version": "3.6.4"
  },
  "latex_envs": {
   "LaTeX_envs_menu_present": true,
   "autocomplete": true,
   "bibliofile": "biblio.bib",
   "cite_by": "apalike",
   "current_citInitial": 1,
   "eqLabelWithNumbers": true,
   "eqNumInitial": 1,
   "hotkeys": {
    "equation": "Ctrl-E",
    "itemize": "Ctrl-I"
   },
   "labels_anchors": false,
   "latex_user_defs": false,
   "report_style_numbering": false,
   "user_envs_cfg": false
  },
  "toc": {
   "nav_menu": {},
   "number_sections": true,
   "sideBar": true,
   "skip_h1_title": true,
   "title_cell": "Table of Contents",
   "title_sidebar": "Contents",
   "toc_cell": false,
   "toc_position": {},
   "toc_section_display": true,
   "toc_window_display": false
  },
  "varInspector": {
   "cols": {
    "lenName": 16,
    "lenType": 16,
    "lenVar": 40
   },
   "kernels_config": {
    "python": {
     "delete_cmd_postfix": "",
     "delete_cmd_prefix": "del ",
     "library": "var_list.py",
     "varRefreshCmd": "print(var_dic_list())"
    },
    "r": {
     "delete_cmd_postfix": ") ",
     "delete_cmd_prefix": "rm(",
     "library": "var_list.r",
     "varRefreshCmd": "cat(var_dic_list()) "
    }
   },
   "types_to_exclude": [
    "module",
    "function",
    "builtin_function_or_method",
    "instance",
    "_Feature"
   ],
   "window_display": false
  }
 },
 "nbformat": 4,
 "nbformat_minor": 2
}
