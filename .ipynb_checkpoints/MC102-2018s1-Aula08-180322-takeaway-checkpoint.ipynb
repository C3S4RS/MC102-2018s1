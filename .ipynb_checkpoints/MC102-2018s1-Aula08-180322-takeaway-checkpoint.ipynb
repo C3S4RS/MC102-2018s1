{
 "cells": [
  {
   "cell_type": "code",
   "execution_count": 19,
   "metadata": {},
   "outputs": [],
   "source": [
    "from IPython.core.interactiveshell import InteractiveShell\n",
    "InteractiveShell.ast_node_interactivity = \"all\""
   ]
  },
  {
   "cell_type": "markdown",
   "metadata": {},
   "source": [
    "# Um pouco mais sobre iterações"
   ]
  },
  {
   "cell_type": "markdown",
   "metadata": {},
   "source": [
    "## Revisitando `input`"
   ]
  },
  {
   "cell_type": "markdown",
   "metadata": {},
   "source": [
    "Sabemos que `input` retorna uma _string_, p.ex."
   ]
  },
  {
   "cell_type": "code",
   "execution_count": null,
   "metadata": {
    "scrolled": true
   },
   "outputs": [],
   "source": [
    "s = input('Dados? ')\n",
    "print(type(s), repr(s))"
   ]
  },
  {
   "cell_type": "markdown",
   "metadata": {},
   "source": [
    "Os itens nessa _`string`_ podem ser separados por `split` e colocados numa _`lista`_..."
   ]
  },
  {
   "cell_type": "code",
   "execution_count": null,
   "metadata": {},
   "outputs": [],
   "source": [
    "s = '1,2.34,5.67,89'\n",
    "\n",
    "ss = s.split('.')\n",
    "print(type(ss), repr(ss))\n",
    "print(repr(s))"
   ]
  },
  {
   "cell_type": "markdown",
   "metadata": {},
   "source": [
    "... mas os itens dessa _`lista`_ continuam sendo _`strings`_.\n",
    "\n",
    "Veja o que acontece quando tentamos somar os dois primeiros itens da lista..."
   ]
  },
  {
   "cell_type": "code",
   "execution_count": null,
   "metadata": {},
   "outputs": [],
   "source": [
    "s = '1  2.34 5.67 89'\n",
    "\n",
    "ss = s.split()\n",
    "print(ss[0] + ss[1], repr(ss[0] + ss[1]), type(ss[0] + ss[1]))"
   ]
  },
  {
   "cell_type": "markdown",
   "metadata": {},
   "source": [
    "... como esses itens são _strings_ eles foram concatenados e não somados...\n",
    "\n",
    "Podemos usar um `for` para converter _`string`_ em _`int`_ ou _`float`_..."
   ]
  },
  {
   "cell_type": "code",
   "execution_count": null,
   "metadata": {},
   "outputs": [],
   "source": [
    "nums = []\n",
    "for k in range(4):\n",
    "    nums.append(k)"
   ]
  },
  {
   "cell_type": "code",
   "execution_count": 5,
   "metadata": {},
   "outputs": [
    {
     "name": "stdout",
     "output_type": "stream",
     "text": [
      "['1', '2.34', '5.67', '89']\n",
      "<class 'float'> 3.34\n"
     ]
    }
   ],
   "source": [
    "s = '1  2.34 5.67 89'\n",
    "\n",
    "ss = s.split()\n",
    "print(ss)\n",
    "ssf = []\n",
    "for x in ss:\n",
    "    ssf += [float(x)]\n",
    "print(type(ssf[0] + ssf[1]), ssf[0] + ssf[1])"
   ]
  },
  {
   "cell_type": "markdown",
   "metadata": {},
   "source": [
    "E podemos combinar tudo isso num único comando, se repetirmos com cuidado todos os passos dados...\n",
    "\n",
    "1. Lemos uma linha de texto: `input('Dados? ')`\n",
    "2. Separamos os itens nessa linha: `input('Dados? ').split()`\n",
    "3. Construímos uma lista com os itens separados:  \n",
    "`[x for x in input('Dados? ').split()]`\n",
    "4. Como os `x` são _`strings`_ mas queremos _`floats`_, corrigimos isso:  \n",
    "`[float(x) for x in input('Dados? ').split()]`\n",
    "5. E atribuímos um nome ao resultado:  \n",
    "`ssf = [float(x) for x in input('Dados? ').split()]`"
   ]
  },
  {
   "cell_type": "code",
   "execution_count": 6,
   "metadata": {},
   "outputs": [
    {
     "name": "stdout",
     "output_type": "stream",
     "text": [
      "Dados? 1  2.34 5.67 89\n",
      "[1.0, 2.34, 5.67, 89.0]\n"
     ]
    }
   ],
   "source": [
    "ssf = [float(x) for x in input('Dados? ').split()]\n",
    "print(ssf)"
   ]
  },
  {
   "cell_type": "markdown",
   "metadata": {},
   "source": [
    "## List comprehensions"
   ]
  },
  {
   "cell_type": "markdown",
   "metadata": {},
   "source": [
    "No exemplo anterior, usamos informalmente List Comprehensions — um conceito de Python que a definição de listas de modo conciso.\n",
    "\n",
    "Você certamente já encontrou definições matemáticas como...\n",
    "\n",
    "- $s = \\{x^2 : x\\ in \\{0...9\\}\\}$\n",
    "- $v = (1, 2, 4, 8, ..., 2^{12})$\n",
    "- $m = \\{x\\ |\\ x$ **in** $s$ e $x$ é par$\\}$"
   ]
  },
  {
   "cell_type": "markdown",
   "metadata": {},
   "source": [
    "Python permite representá-las como listas, de uma forma muito natural..."
   ]
  },
  {
   "cell_type": "code",
   "execution_count": 7,
   "metadata": {},
   "outputs": [
    {
     "name": "stdout",
     "output_type": "stream",
     "text": [
      "[0, 1, 4, 9, 16, 25, 36, 49, 64, 81]\n"
     ]
    }
   ],
   "source": [
    "s = [ x ** 2 for x in range(10)]\n",
    "print(s)"
   ]
  },
  {
   "cell_type": "code",
   "execution_count": 8,
   "metadata": {},
   "outputs": [
    {
     "name": "stdout",
     "output_type": "stream",
     "text": [
      "[1, 2, 4, 8, 16, 32, 64, 128, 256, 512, 1024, 2048, 4096]\n"
     ]
    }
   ],
   "source": [
    "t = [ 2 ** k for k in range(13)]\n",
    "print(t)"
   ]
  },
  {
   "cell_type": "code",
   "execution_count": 9,
   "metadata": {},
   "outputs": [
    {
     "name": "stdout",
     "output_type": "stream",
     "text": [
      "[0, 4, 16, 36, 64]\n"
     ]
    }
   ],
   "source": [
    "u = [x \n",
    "     for x in s \n",
    "     if x % 2 == 0]\n",
    "print(u)"
   ]
  },
  {
   "cell_type": "markdown",
   "metadata": {},
   "source": [
    "Uma _list comprehension_ tem a forma geral \n",
    "```\n",
    "vals = [expression \n",
    "        for value in collection \n",
    "        if condition]\n",
    "```\n",
    "e é equivalente à seguinte sequência de comandos\n",
    "```\n",
    "vals = []\n",
    "for value in collection:\n",
    "    if condition:\n",
    "        vals.append(expression)\n",
    "```"
   ]
  },
  {
   "cell_type": "code",
   "execution_count": 10,
   "metadata": {},
   "outputs": [
    {
     "name": "stdout",
     "output_type": "stream",
     "text": [
      "[0, 12, 48, 108, 192]\n"
     ]
    }
   ],
   "source": [
    "v = [3 * x for x in u]\n",
    "print(v)"
   ]
  },
  {
   "cell_type": "code",
   "execution_count": 2,
   "metadata": {},
   "outputs": [
    {
     "name": "stdout",
     "output_type": "stream",
     "text": [
      "['the', 'quick', 'brown', 'fox', 'jumps', 'over', 'the', 'lazy', 'dog']\n"
     ]
    }
   ],
   "source": [
    "pals = \"the quick brown fox jumps over the lazy dog\".split()\n",
    "print(pals)"
   ]
  },
  {
   "cell_type": "code",
   "execution_count": 4,
   "metadata": {},
   "outputs": [
    {
     "name": "stdout",
     "output_type": "stream",
     "text": [
      "the quick brown fox jumps over the lazy dog \n",
      "\n",
      "the quick brown fox jumps over the lazy dog \n"
     ]
    }
   ],
   "source": [
    "for i in range(0, len(pals)):\n",
    "    print(pals[i], end=' ')\n",
    "\n",
    "print('\\n')    \n",
    "\n",
    "for pal in pals:\n",
    "    print(pal, end=' ')\n",
    "print()"
   ]
  },
  {
   "cell_type": "code",
   "execution_count": 12,
   "metadata": {},
   "outputs": [
    {
     "name": "stdout",
     "output_type": "stream",
     "text": [
      "['t', 'q', 'b', 'f', 'j', 'o', 't', 'l', 'd']\n"
     ]
    }
   ],
   "source": [
    "prim_letras = [p[0] for p in pals]\n",
    "print(prim_letras)"
   ]
  },
  {
   "cell_type": "code",
   "execution_count": 17,
   "metadata": {
    "scrolled": true
   },
   "outputs": [
    {
     "name": "stdout",
     "output_type": "stream",
     "text": [
      "['the', 'quick', 'brown', 'fox', 'jumps', 'over', 'the', 'lazy', 'dog']\n",
      "['THE', 'the', 3]\n",
      "['QUICK', 'quick', 5]\n",
      "['BROWN', 'brown', 5]\n",
      "['FOX', 'fox', 3]\n",
      "['JUMPS', 'jumps', 5]\n",
      "['OVER', 'over', 4]\n",
      "['THE', 'the', 3]\n",
      "['LAZY', 'lazy', 4]\n",
      "['DOG', 'dog', 3]\n"
     ]
    }
   ],
   "source": [
    "print(pals)\n",
    "pals_mod = [[x.upper(), x.lower(), len(x)] for x in pals]\n",
    "for x in pals_mod:\n",
    "    print(x)"
   ]
  },
  {
   "cell_type": "code",
   "execution_count": 19,
   "metadata": {},
   "outputs": [
    {
     "name": "stdout",
     "output_type": "stream",
     "text": [
      "[1, 2, 3, 4, 5, 6, 7, 8, 9, 0]\n"
     ]
    }
   ],
   "source": [
    "texto = \"letras123-_45+=símbolos67e números 89misturados 0\"\n",
    "nums = [int(c) \n",
    "        for c in texto \n",
    "        if c.isdigit()]\n",
    "print(nums)"
   ]
  },
  {
   "cell_type": "markdown",
   "metadata": {},
   "source": [
    "Na aula passada, linearizamos uma lista de listas usando o código abaixo..."
   ]
  },
  {
   "cell_type": "code",
   "execution_count": 21,
   "metadata": {},
   "outputs": [
    {
     "name": "stdout",
     "output_type": "stream",
     "text": [
      "[11, 12, 13, 21, 22, 23, 31, 32, 33]\n",
      "[[11, 12, 13], [21, 22, 23], [31, 32, 33]]\n"
     ]
    }
   ],
   "source": [
    "llista = [[11, 12, 13], [21, 22, 23], [31, 32, 33]]\n",
    "llin = []\n",
    "for x in llista:\n",
    "    llin += x\n",
    "print(llin)\n",
    "print(llista)"
   ]
  },
  {
   "cell_type": "markdown",
   "metadata": {},
   "source": [
    "O mesmo resultado pode ser obtido com uma _list comprehension_..."
   ]
  },
  {
   "cell_type": "code",
   "execution_count": 22,
   "metadata": {},
   "outputs": [
    {
     "name": "stdout",
     "output_type": "stream",
     "text": [
      "[11, 12, 13, 21, 22, 23, 31, 32, 33]\n"
     ]
    }
   ],
   "source": [
    "llista = [[11, 12, 13], [21, 22, 23], [31, 32, 33]]\n",
    "llin = [x \n",
    "        for y in llista \n",
    "        for x in y]\n",
    "print(llin)"
   ]
  },
  {
   "cell_type": "markdown",
   "metadata": {
    "slideshow": {
     "slide_type": "subslide"
    }
   },
   "source": [
    "### Exemplo: *Dada uma linha de texto contendo  inteiros não-negativos, exibir o maior ímpar dentre eles*\n",
    "Já vimos que uma solução para um problema semelhante pode ser expressa como uma sequência de três ações:\n",
    "\n",
    "- Ler todos os candidatos\n",
    "- Encontrar o maior número ímpar dentre os candidatos lidos\n",
    "- Exibir o resultado ou uma mensagem apropriada caso todos os candidatos sejam pares."
   ]
  },
  {
   "cell_type": "code",
   "execution_count": 4,
   "metadata": {
    "slideshow": {
     "slide_type": "subslide"
    }
   },
   "outputs": [
    {
     "name": "stdout",
     "output_type": "stream",
     "text": [
      "Dados? 12 24 54 64 78 98\n",
      "[12, 24, 54, 64, 78, 98]\n"
     ]
    }
   ],
   "source": [
    "# Ler todos os candidatos\n",
    "cands = [int(x) for x in input('Dados? ').split()]\n",
    "print(cands)"
   ]
  },
  {
   "cell_type": "code",
   "execution_count": 2,
   "metadata": {
    "slideshow": {
     "slide_type": "subslide"
    }
   },
   "outputs": [],
   "source": [
    "# Encontrar o maior número ímpar dentre os candidatos lidos\n",
    "maior_impar = -1\n",
    "for cand in cands:\n",
    "    if (cand % 2 == 1) and (cand > maior_impar):\n",
    "        maior_impar = cand        "
   ]
  },
  {
   "cell_type": "code",
   "execution_count": 3,
   "metadata": {
    "slideshow": {
     "slide_type": "subslide"
    }
   },
   "outputs": [
    {
     "name": "stdout",
     "output_type": "stream",
     "text": [
      "maior ímpar = 89\n"
     ]
    }
   ],
   "source": [
    "# Exibir o resultado ou uma mensagem de erro apropriada\n",
    "if maior_impar == -1:\n",
    "    print(\"Nenhum candidato ímpar.\")\n",
    "else:\n",
    "    print(\"maior ímpar =\", maior_impar)"
   ]
  },
  {
   "cell_type": "markdown",
   "metadata": {},
   "source": [
    "É possível obter o mesmo resultado reescrevendo os dois últimos blocos para aproveitar a simplicidade de _list comprehensions_..."
   ]
  },
  {
   "cell_type": "code",
   "execution_count": 6,
   "metadata": {},
   "outputs": [
    {
     "name": "stdout",
     "output_type": "stream",
     "text": [
      "[]\n"
     ]
    }
   ],
   "source": [
    "# Separar os ímpares dentre os candidatos lidos\n",
    "impares = [x for x in cands if x % 2 == 1]\n",
    "print(impares)"
   ]
  },
  {
   "cell_type": "code",
   "execution_count": 7,
   "metadata": {
    "scrolled": true
   },
   "outputs": [
    {
     "name": "stdout",
     "output_type": "stream",
     "text": [
      "Nenhum candidato ímpar.\n"
     ]
    }
   ],
   "source": [
    "if len(impares) == 0:\n",
    "    print(\"Nenhum candidato ímpar.\")\n",
    "else:\n",
    "    print(\"maior ímpar =\", max(impares))"
   ]
  },
  {
   "cell_type": "markdown",
   "metadata": {
    "slideshow": {
     "slide_type": "subslide"
    }
   },
   "source": [
    "## Outros objetos iteráveis\n",
    "Há vários tipos de objetos iteráveis que podem ser usados num **for**. Por exemplo ...\n",
    "\n",
    "- listas\n",
    "- _`ranges`_\n",
    "- cadeias de caracteres (*`strings`*)\n",
    "- conjuntos\n",
    "- tuplas"
   ]
  },
  {
   "cell_type": "markdown",
   "metadata": {
    "slideshow": {
     "slide_type": "subslide"
    }
   },
   "source": [
    "Por exemplo, examine os códigos abaixo e tente prever o resultado dos `prints`..."
   ]
  },
  {
   "cell_type": "code",
   "execution_count": 41,
   "metadata": {
    "slideshow": {
     "slide_type": "fragment"
    }
   },
   "outputs": [
    {
     "name": "stdout",
     "output_type": "stream",
     "text": [
      "10 7 4 \n"
     ]
    }
   ],
   "source": [
    "for x in range(10, 1, -3):    # aqui o objeto iterável é uma range\n",
    "    print(x, end=' ')\n",
    "print()"
   ]
  },
  {
   "cell_type": "code",
   "execution_count": 43,
   "metadata": {
    "slideshow": {
     "slide_type": "fragment"
    }
   },
   "outputs": [
    {
     "name": "stdout",
     "output_type": "stream",
     "text": [
      "c-a-r-r-a-n-c-a-\n"
     ]
    }
   ],
   "source": [
    "for x in 'carranca':    # aqui o objeto iterável é uma string\n",
    "    print(x, end='-')\n",
    "print()"
   ]
  },
  {
   "cell_type": "code",
   "execution_count": 24,
   "metadata": {
    "slideshow": {
     "slide_type": "fragment"
    }
   },
   "outputs": [
    {
     "name": "stdout",
     "output_type": "stream",
     "text": [
      "c-a-r-r-a-n-c-a-\n"
     ]
    }
   ],
   "source": [
    "lista = list('carranca')   # aqui o objeto iterável é uma lista\n",
    "for x in lista:\n",
    "    print(x, end='-')\n",
    "print()"
   ]
  },
  {
   "cell_type": "code",
   "execution_count": 25,
   "metadata": {
    "slideshow": {
     "slide_type": "fragment"
    }
   },
   "outputs": [
    {
     "name": "stdout",
     "output_type": "stream",
     "text": [
      "n-r-a-c-\n"
     ]
    }
   ],
   "source": [
    "for x in {'c', 'a', 'r', 'r', 'a', 'n', 'c', 'a'}:    # aqui o objeto iterável é um conjunto\n",
    "    print(x, end='-')\n",
    "print()"
   ]
  },
  {
   "cell_type": "code",
   "execution_count": 26,
   "metadata": {
    "slideshow": {
     "slide_type": "fragment"
    }
   },
   "outputs": [
    {
     "name": "stdout",
     "output_type": "stream",
     "text": [
      "n-r-a-c-\n"
     ]
    }
   ],
   "source": [
    "conj = set('carranca')\n",
    "for x in conj:    # aqui o iterador é um conjunto\n",
    "    print(x, end='-')\n",
    "print()"
   ]
  },
  {
   "cell_type": "markdown",
   "metadata": {
    "slideshow": {
     "slide_type": "slide"
    }
   },
   "source": [
    "### Exercício rápido\n",
    "Substitua o comentário no código abaixo por um comando **for**."
   ]
  },
  {
   "cell_type": "code",
   "execution_count": null,
   "metadata": {
    "slideshow": {
     "slide_type": "fragment"
    }
   },
   "outputs": [],
   "source": [
    "numXs = int(input('Quantos X eu devo imprimir? '))\n",
    "# imprimir numXs Xs"
   ]
  },
  {
   "cell_type": "markdown",
   "metadata": {},
   "source": [
    "##### Solução"
   ]
  },
  {
   "cell_type": "code",
   "execution_count": 10,
   "metadata": {
    "slideshow": {
     "slide_type": "fragment"
    }
   },
   "outputs": [
    {
     "name": "stdout",
     "output_type": "stream",
     "text": [
      "Quantos X eu devo imprimir? 5\n",
      "XXXXX\n"
     ]
    }
   ],
   "source": [
    "numXs = int(input('Quantos X eu devo imprimir? '))\n",
    "# imprimir numXs Xs\n",
    "for _ in range(numXs):\n",
    "    print('X', end='')\n",
    "print()"
   ]
  },
  {
   "cell_type": "markdown",
   "metadata": {
    "slideshow": {
     "slide_type": "slide"
    }
   },
   "source": [
    "### Exercício rápido\n",
    "Substitua o comentário no código abaixo pelos comandos necessários, incluindo um **for**"
   ]
  },
  {
   "cell_type": "code",
   "execution_count": null,
   "metadata": {},
   "outputs": [],
   "source": [
    "palavra = input('Digite uma palavra qualquer: ')\n",
    "\n",
    "# contar o número de vogais e consoantes em palavra\n",
    "\n",
    "print(palavra, 'tem', n_caracteres, 'caracters,', end=' ')\n",
    "print('incluindo', n_vogais, 'vogais e', n_consoantes, 'consoantes.')"
   ]
  },
  {
   "cell_type": "markdown",
   "metadata": {},
   "source": [
    "#### Solução 1"
   ]
  },
  {
   "cell_type": "code",
   "execution_count": 29,
   "metadata": {
    "slideshow": {
     "slide_type": "subslide"
    }
   },
   "outputs": [
    {
     "name": "stdout",
     "output_type": "stream",
     "text": [
      "Digite uma linha de texto qualquer: the quick brown fox jumps over the lazy dog\n",
      "the quick brown fox jumps over the lazy dog tem 43 caracters, incluindo 11 vogais e 24 consoantes.\n"
     ]
    }
   ],
   "source": [
    "texto = input('Digite uma linha de texto qualquer: ')\n",
    "n_caracteres = len(texto)\n",
    "n_vogais = 0\n",
    "n_consoantes = 0\n",
    "for c in texto:\n",
    "    if c in 'aáàãâeéêiíoóõôuú':\n",
    "        n_vogais += 1\n",
    "    elif c in 'bcçdfghjklmnpqrstvwxyz':\n",
    "        n_consoantes += 1\n",
    "print(texto, 'tem', n_caracteres, 'caracters,', end=' ')\n",
    "print('incluindo', n_vogais, 'vogais e', n_consoantes, 'consoantes.')"
   ]
  },
  {
   "cell_type": "markdown",
   "metadata": {},
   "source": [
    "#### Solução 2"
   ]
  },
  {
   "cell_type": "code",
   "execution_count": 28,
   "metadata": {
    "slideshow": {
     "slide_type": "subslide"
    }
   },
   "outputs": [
    {
     "name": "stdout",
     "output_type": "stream",
     "text": [
      "Digite uma linha de texto qualquer: the quick brown fox jumps over the lazy dog\n",
      "the quick brown fox jumps over the lazy dog tem 43 caracters, incluindo 11 vogais e 24 consoantes.\n"
     ]
    }
   ],
   "source": [
    "texto = input('Digite uma linha de texto qualquer: ')\n",
    "vogais = [c for c in texto if c in 'aáàãâeéêiíoóõôuú']\n",
    "consoantes = [c for c in texto if c in 'bcçdfghjklmnpqrstvwxyz']\n",
    "print(texto, 'tem', len(texto), 'caracters,', end=' ')\n",
    "print('incluindo', len(vogais), 'vogais e', len(consoantes), 'consoantes.')"
   ]
  },
  {
   "cell_type": "markdown",
   "metadata": {
    "slideshow": {
     "slide_type": "slide"
    }
   },
   "source": [
    "### Exercício rápido\n",
    "Ler uma linha de texto com uma sequência de inteiros e exibir a soma dessa sequência."
   ]
  },
  {
   "cell_type": "code",
   "execution_count": null,
   "metadata": {},
   "outputs": [],
   "source": [
    "# Ler uma sequência de inteiros\n",
    "# Calcular a soma dessa sequência\n",
    "# Exibir o resultado"
   ]
  },
  {
   "cell_type": "code",
   "execution_count": null,
   "metadata": {},
   "outputs": [],
   "source": [
    "# Ler uma sequência de inteiros de uma linha de texto\n",
    "\n",
    "\n",
    "\n"
   ]
  },
  {
   "cell_type": "code",
   "execution_count": null,
   "metadata": {},
   "outputs": [],
   "source": [
    "# Calcular a soma dessa sequência\n",
    "\n",
    "\n",
    "\n"
   ]
  },
  {
   "cell_type": "code",
   "execution_count": null,
   "metadata": {},
   "outputs": [],
   "source": [
    "# Exibir o resultado\n",
    "print(\"soma da lista =\", soma)"
   ]
  },
  {
   "cell_type": "markdown",
   "metadata": {},
   "source": [
    "#### Solução"
   ]
  },
  {
   "cell_type": "code",
   "execution_count": null,
   "metadata": {},
   "outputs": [],
   "source": [
    "# Ler uma sequência de inteiros de uma linha de texto\n",
    "print(\"Digite uma sequência de inteiros: \")\n",
    "nums = [int(x) for x in input().split())"
   ]
  },
  {
   "cell_type": "code",
   "execution_count": null,
   "metadata": {},
   "outputs": [],
   "source": [
    "# Calcular a soma dessa sequência\n",
    "soma = 0\n",
    "for x in nums:\n",
    "    soma += x"
   ]
  },
  {
   "cell_type": "code",
   "execution_count": null,
   "metadata": {},
   "outputs": [],
   "source": [
    "# Exibir o resultado\n",
    "print(\"soma da lista =\", soma)"
   ]
  },
  {
   "cell_type": "markdown",
   "metadata": {
    "slideshow": {
     "slide_type": "slide"
    }
   },
   "source": [
    "### Exercício\n",
    "Ler uma linha de texto e, depois, uma palavra e contar quantas vezes essa palavra aparece na linha de texto lida.\n",
    "\n",
    "#### Exemplo de teste\n",
    "Linha de texto: 'Onde digo \"Digo\", não digo \"Digo\", digo \"Diogo\".'  \n",
    "Palavra: digo  \n",
    "Resposta: 5"
   ]
  },
  {
   "cell_type": "markdown",
   "metadata": {},
   "source": [
    "Um esboço de solução poderia ser..."
   ]
  },
  {
   "cell_type": "code",
   "execution_count": null,
   "metadata": {},
   "outputs": [],
   "source": [
    "# Ler uma linha de texto e, depois, uma palavra\n",
    "# Remover a pontuação da linha de texto e convertê-la em minúsculas\n",
    "# Separar as palavras da linha de texto e colocá-las numa lista\n",
    "# Contar quantas vezes a palavra dada aparece na lista\n",
    "# Exibir o resultado"
   ]
  },
  {
   "cell_type": "markdown",
   "metadata": {},
   "source": [
    "Tente expandir cada um dos comentários abaixo para chegar à solução do problema..."
   ]
  },
  {
   "cell_type": "code",
   "execution_count": null,
   "metadata": {},
   "outputs": [],
   "source": [
    "# Ler uma linha de texto e, depois, uma palavra"
   ]
  },
  {
   "cell_type": "code",
   "execution_count": null,
   "metadata": {},
   "outputs": [],
   "source": [
    "# Remover a pontuação da linha de texto e convertê-la em minúsculas"
   ]
  },
  {
   "cell_type": "code",
   "execution_count": null,
   "metadata": {},
   "outputs": [],
   "source": [
    "# Separar as palavras da linha de texto e colocá-las numa lista"
   ]
  },
  {
   "cell_type": "code",
   "execution_count": null,
   "metadata": {},
   "outputs": [],
   "source": [
    "# Contar quantas vezes a palavra dada aparece na lista"
   ]
  },
  {
   "cell_type": "code",
   "execution_count": null,
   "metadata": {},
   "outputs": [],
   "source": [
    "# Exibir o resultado"
   ]
  },
  {
   "cell_type": "markdown",
   "metadata": {},
   "source": [
    "##### Solução"
   ]
  },
  {
   "cell_type": "code",
   "execution_count": 12,
   "metadata": {},
   "outputs": [
    {
     "name": "stdout",
     "output_type": "stream",
     "text": [
      "Texto? Onde digo \"Digo\", não digo \"Digo\", digo \"Diogo\".\n",
      "Palavra? Digo\n"
     ]
    }
   ],
   "source": [
    "# Ler uma linha de texto e, depois, uma palavra\n",
    "texto = input(\"Texto? \")\n",
    "palavra = input(\"Palavra? \").lower()"
   ]
  },
  {
   "cell_type": "code",
   "execution_count": 13,
   "metadata": {},
   "outputs": [
    {
     "name": "stdout",
     "output_type": "stream",
     "text": [
      "Onde digo  Digo   não digo  Digo   digo  Diogo  \n"
     ]
    }
   ],
   "source": [
    "# Remover a pontuação da linha de texto\n",
    "pontuacao = set(',.;:?!\"' + \"'\")\n",
    "palavras = ''\n",
    "for caracter in texto:\n",
    "    if caracter in pontuacao:\n",
    "        palavras += ' '\n",
    "    else:\n",
    "        palavras += caracter\n",
    "print(palavras)"
   ]
  },
  {
   "cell_type": "code",
   "execution_count": 14,
   "metadata": {},
   "outputs": [
    {
     "name": "stdout",
     "output_type": "stream",
     "text": [
      "onde digo  digo   não digo  digo   digo  diogo  \n",
      "digo\n"
     ]
    }
   ],
   "source": [
    "# Converter a linha e a palavra para minúsculas\n",
    "palavras = palavras.lower()\n",
    "print(palavras)\n",
    "palavra = palavra.lower()\n",
    "print(palavra)"
   ]
  },
  {
   "cell_type": "code",
   "execution_count": 15,
   "metadata": {},
   "outputs": [
    {
     "data": {
      "text/plain": [
       "['onde', 'digo', 'digo', 'não', 'digo', 'digo', 'digo', 'diogo']"
      ]
     },
     "execution_count": 15,
     "metadata": {},
     "output_type": "execute_result"
    }
   ],
   "source": [
    "# Separar as palavras da linha de texto e colocá-las numa lista\n",
    "palavras = palavras.split()\n",
    "palavras"
   ]
  },
  {
   "cell_type": "code",
   "execution_count": null,
   "metadata": {},
   "outputs": [],
   "source": [
    "# Contar quantas vezes a palavra dada aparece na lista\n",
    "quantas = 0\n",
    "for p in palavras:\n",
    "    if p == palavra:\n",
    "        quantas += 1"
   ]
  },
  {
   "cell_type": "markdown",
   "metadata": {},
   "source": [
    "... ok, mas esse não é o único jeito..."
   ]
  },
  {
   "cell_type": "code",
   "execution_count": 16,
   "metadata": {},
   "outputs": [
    {
     "data": {
      "text/plain": [
       "5"
      ]
     },
     "execution_count": 16,
     "metadata": {},
     "output_type": "execute_result"
    }
   ],
   "source": [
    "# Contar quantas vezes a palavra dada aparece na lista\n",
    "quantas = palavras.count(palavra)\n",
    "quantas"
   ]
  },
  {
   "cell_type": "code",
   "execution_count": 17,
   "metadata": {},
   "outputs": [
    {
     "name": "stdout",
     "output_type": "stream",
     "text": [
      "digo aparece 5 vezes\n",
      "em 'Onde digo \"Digo\", não digo \"Digo\", digo \"Diogo\".'.\n"
     ]
    }
   ],
   "source": [
    "# Exibir o resultado\n",
    "print(palavra, 'aparece', quantas, 'vezes')\n",
    "print('em', \"'\" + texto + \"'.\")"
   ]
  },
  {
   "cell_type": "code",
   "execution_count": null,
   "metadata": {},
   "outputs": [],
   "source": []
  }
 ],
 "metadata": {
  "kernelspec": {
   "display_name": "Python 3",
   "language": "python",
   "name": "python3"
  },
  "language_info": {
   "codemirror_mode": {
    "name": "ipython",
    "version": 3
   },
   "file_extension": ".py",
   "mimetype": "text/x-python",
   "name": "python",
   "nbconvert_exporter": "python",
   "pygments_lexer": "ipython3",
   "version": "3.6.4"
  },
  "latex_envs": {
   "LaTeX_envs_menu_present": true,
   "autocomplete": true,
   "bibliofile": "biblio.bib",
   "cite_by": "apalike",
   "current_citInitial": 1,
   "eqLabelWithNumbers": true,
   "eqNumInitial": 1,
   "hotkeys": {
    "equation": "Ctrl-E",
    "itemize": "Ctrl-I"
   },
   "labels_anchors": false,
   "latex_user_defs": false,
   "report_style_numbering": false,
   "user_envs_cfg": false
  },
  "toc": {
   "nav_menu": {},
   "number_sections": false,
   "sideBar": true,
   "skip_h1_title": true,
   "title_cell": "Table of Contents",
   "title_sidebar": "Contents",
   "toc_cell": false,
   "toc_position": {},
   "toc_section_display": true,
   "toc_window_display": false
  },
  "varInspector": {
   "cols": {
    "lenName": 16,
    "lenType": 16,
    "lenVar": 40
   },
   "kernels_config": {
    "python": {
     "delete_cmd_postfix": "",
     "delete_cmd_prefix": "del ",
     "library": "var_list.py",
     "varRefreshCmd": "print(var_dic_list())"
    },
    "r": {
     "delete_cmd_postfix": ") ",
     "delete_cmd_prefix": "rm(",
     "library": "var_list.r",
     "varRefreshCmd": "cat(var_dic_list()) "
    }
   },
   "types_to_exclude": [
    "module",
    "function",
    "builtin_function_or_method",
    "instance",
    "_Feature"
   ],
   "window_display": false
  }
 },
 "nbformat": 4,
 "nbformat_minor": 2
}
