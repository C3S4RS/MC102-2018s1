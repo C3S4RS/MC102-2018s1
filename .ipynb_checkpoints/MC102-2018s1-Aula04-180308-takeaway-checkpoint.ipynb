{
 "cells": [
  {
   "cell_type": "markdown",
   "metadata": {
    "slideshow": {
     "slide_type": "slide"
    }
   },
   "source": [
    "# Lógica e Escolhas"
   ]
  },
  {
   "cell_type": "markdown",
   "metadata": {
    "slideshow": {
     "slide_type": "fragment"
    }
   },
   "source": [
    "Vimos como resolver um problema com uma sequência de ações:"
   ]
  },
  {
   "cell_type": "markdown",
   "metadata": {
    "slideshow": {
     "slide_type": "fragment"
    }
   },
   "source": [
    "```python\n",
    "hora_atual = int(input(\"Que horas são? (0-23) \"))\n",
    "horas_espera = int(input(\"Quantas horas você vai esperar? (>=0) \"))\n",
    "hora_alarme = (hora_atual + horas_espera) % 24\n",
    "print(\"O alarme vai tocar às\", hora_alarme, \"horas.\")\n",
    "```"
   ]
  },
  {
   "cell_type": "markdown",
   "metadata": {
    "slideshow": {
     "slide_type": "fragment"
    }
   },
   "source": [
    "Mas nem sempre se consegue resolver um problema dessa maneira..."
   ]
  },
  {
   "cell_type": "markdown",
   "metadata": {
    "slideshow": {
     "slide_type": "slide"
    }
   },
   "source": [
    "## Exemplo: *Ler dois valores inteiros e exibir o maior deles*\n",
    "\n",
    "Suponha que os valores lidos sejam associados a duas variáveis $a$ e $b$, por exemplo.\n",
    "\n",
    "Você consegue encontrar uma heurística que, sozinha, resolva todos os casos possíveis?"
   ]
  },
  {
   "cell_type": "markdown",
   "metadata": {
    "slideshow": {
     "slide_type": "fragment"
    }
   },
   "source": [
    "Você consegue imaginar uma heurística que resolva pelo menos alguns casos?"
   ]
  },
  {
   "cell_type": "markdown",
   "metadata": {
    "slideshow": {
     "slide_type": "fragment"
    }
   },
   "source": [
    "Sim, o comando `print(a)` resolve o problema desde que `a > b`."
   ]
  },
  {
   "cell_type": "markdown",
   "metadata": {
    "slideshow": {
     "slide_type": "fragment"
    }
   },
   "source": [
    "Para garantir que `print(a)` seja executado somente se `a > b`, usamos um *comando condicional*."
   ]
  },
  {
   "cell_type": "markdown",
   "metadata": {
    "slideshow": {
     "slide_type": "slide"
    }
   },
   "source": [
    "### Comando condicional\n",
    "Um comando condicional é um comando capaz de executar um grupo de um ou mais comandos, desde que uma dada condição seja satisfeita.\n",
    "```python\n",
    "if condição:\n",
    "    bloco\n",
    "```"
   ]
  },
  {
   "cell_type": "markdown",
   "metadata": {
    "slideshow": {
     "slide_type": "slide"
    }
   },
   "source": [
    "Um comando condicional permite resolver um problema quando não se encontra uma heurística que, sozinha, resolva todos os casos possíveis.\n",
    "\n",
    "Quando isso acontecer  \n",
    "- Procure uma heurística que resolva pelo menos alguns casos e faça com que ela seja executada apenas quando ocorrer um deles.\n",
    "- Procure outra heurística que resolva pelo menos alguns dos casos que não foram cobertos e faça com que ela seja executada apenas quando ocorrer um deles.\n",
    "- Repita esse processo até ter coberto todos os casos possíveis."
   ]
  },
  {
   "cell_type": "markdown",
   "metadata": {
    "slideshow": {
     "slide_type": "slide"
    }
   },
   "source": [
    "No exemplo dado..."
   ]
  },
  {
   "cell_type": "code",
   "execution_count": null,
   "metadata": {
    "slideshow": {
     "slide_type": "skip"
    }
   },
   "outputs": [],
   "source": [
    "a = 15\n",
    "b = 5\n",
    "\n",
    "if a > b:\n",
    "    print(\"a é maior\")    \n",
    "if a < b:\n",
    "    print(\"b é maior\")\n",
    "if a == b:\n",
    "    print(\"a e b são iguais\")\n"
   ]
  },
  {
   "cell_type": "code",
   "execution_count": null,
   "metadata": {
    "slideshow": {
     "slide_type": "-"
    }
   },
   "outputs": [],
   "source": [
    "a = int(input(\"Primeiro valor? \"))\n",
    "b = int(input(\"Segundo valor? \"))\n",
    "if a > b:\n",
    "    print(\"O maior valor é\", a)\n",
    "if a < b:\n",
    "    print(\"O maior valor é\", b)\n",
    "if a == b:\n",
    "    print(\"Os dois valores são iguais a\", a)"
   ]
  },
  {
   "cell_type": "markdown",
   "metadata": {
    "slideshow": {
     "slide_type": "fragment"
    }
   },
   "source": [
    "Todos os casos estão cobertos?  \n",
    "Estamos satisfeitos com o resultado?"
   ]
  },
  {
   "cell_type": "markdown",
   "metadata": {
    "slideshow": {
     "slide_type": "slide"
    }
   },
   "source": [
    "O comando condicional tem uma outra forma que permite tratar melhor situações como essa...\n",
    "```python\n",
    "if condição_1:\n",
    "    bloco_1\n",
    "elif condição_2:\n",
    "    bloco_2\n",
    "#...\n",
    "else:\n",
    "    bloco_n\n",
    "```\n",
    "\n",
    "Nós podemos usar a cláusula `else` para tratar um último caso ou, por exemplo, para apanhar uma exceção."
   ]
  },
  {
   "cell_type": "markdown",
   "metadata": {},
   "source": [
    "### Uso do `else` para tratar um caso final"
   ]
  },
  {
   "cell_type": "code",
   "execution_count": null,
   "metadata": {
    "cell_style": "center",
    "slideshow": {
     "slide_type": "-"
    }
   },
   "outputs": [],
   "source": [
    "a = int(input(\"Primeiro valor? \"))\n",
    "b = int(input(\"Segundo valor? \"))\n",
    "if a > b:\n",
    "    print(\"O maior valor é\", a)\n",
    "elif a < b:\n",
    "    print(\"O maior valor é\", b)\n",
    "else:\n",
    "    print(\"Os dois valores são iguais a\", a)"
   ]
  },
  {
   "cell_type": "markdown",
   "metadata": {
    "slideshow": {
     "slide_type": "slide"
    }
   },
   "source": [
    "## Uso do `else` para apanhar uma exceção"
   ]
  },
  {
   "cell_type": "code",
   "execution_count": null,
   "metadata": {
    "slideshow": {
     "slide_type": "-"
    }
   },
   "outputs": [],
   "source": [
    "a = int(input(\"Primeiro valor? \"))\n",
    "b = int(input(\"Segundo valor? \"))\n",
    "if a > b:\n",
    "    print(\"O maior valor é\", a)\n",
    "elif a < b:\n",
    "    print(\"O maior valor é\", b)\n",
    "elif a == b:\n",
    "    print(\"Os dois valores são iguais a\", a)\n",
    "else:\n",
    "    print(\"Tem alguma coisa errada com este computador!\")"
   ]
  },
  {
   "cell_type": "markdown",
   "metadata": {
    "slideshow": {
     "slide_type": "slide"
    }
   },
   "source": [
    "## O tipo `bool`"
   ]
  },
  {
   "cell_type": "markdown",
   "metadata": {
    "slideshow": {
     "slide_type": "fragment"
    }
   },
   "source": [
    "Num comando condicional, a *condição* é uma *asserção* (ou *expressão lógica*), isto é, uma afirmação que pode ser *verdadeira* ou *falsa*."
   ]
  },
  {
   "cell_type": "markdown",
   "metadata": {
    "slideshow": {
     "slide_type": "fragment"
    }
   },
   "source": [
    "Como a maioria das linguagens de alto-nível, Python também tem um tipo de dados para representar valores lógicos: `bool`."
   ]
  },
  {
   "cell_type": "markdown",
   "metadata": {
    "slideshow": {
     "slide_type": "subslide"
    }
   },
   "source": [
    "O tipo `bool` possui apenas dois valores (`True` e `False`) e três operadores (`not`, `and` e `or`)."
   ]
  },
  {
   "cell_type": "markdown",
   "metadata": {
    "slideshow": {
     "slide_type": "fragment"
    }
   },
   "source": [
    "`not` é um operador unário, enquanto `and` e `or` são binários. Essa é também a ordem de precedência entre eles.\n",
    "\n",
    "`not` nega o valor de seu operando. Assim, `not True` é `False` e `not False` é `True`.\n",
    "\n",
    "`and` produz `True` se *ambos* operandos forem `True` ou `False`, caso contrário.\n",
    "\n",
    "`or` produz `False` se *ambos* operandos forem `False` ou `True`, caso contrário."
   ]
  },
  {
   "cell_type": "code",
   "execution_count": 1,
   "metadata": {
    "slideshow": {
     "slide_type": "subslide"
    }
   },
   "outputs": [
    {
     "data": {
      "text/plain": [
       "True"
      ]
     },
     "execution_count": 1,
     "metadata": {},
     "output_type": "execute_result"
    }
   ],
   "source": [
    "not 3 > 5"
   ]
  },
  {
   "cell_type": "markdown",
   "metadata": {
    "slideshow": {
     "slide_type": "slide"
    }
   },
   "source": [
    "## Operadores relacionais"
   ]
  },
  {
   "cell_type": "markdown",
   "metadata": {
    "slideshow": {
     "slide_type": "fragment"
    }
   },
   "source": [
    "Uma condição é frequentemente expressa como uma comparação que usa um *operador relacional* e produz um resultado do tipo `bool`."
   ]
  },
  {
   "cell_type": "markdown",
   "metadata": {
    "slideshow": {
     "slide_type": "fragment"
    }
   },
   "source": [
    "Há seis operadores relacionais em Python: `>`, `<`, `>=`, `<=`, `==` (igual) e `!=` (diferente)."
   ]
  },
  {
   "cell_type": "markdown",
   "metadata": {
    "slideshow": {
     "slide_type": "fragment"
    }
   },
   "source": [
    "É possível comparar `int` com `int`, `float` com `float`, `int` com `float` e `str` com `str`.\n",
    "> No caso de `str`, a comparação é lexicográfica e usa a tabela ASCII. Nessa tabela, as letras estão na ordem do alfabeto inglês e maiúsculas são \"menores\" do que as minúsculas."
   ]
  },
  {
   "cell_type": "code",
   "execution_count": 2,
   "metadata": {},
   "outputs": [
    {
     "data": {
      "text/plain": [
       "True"
      ]
     },
     "execution_count": 2,
     "metadata": {},
     "output_type": "execute_result"
    }
   ],
   "source": [
    "'abc' > \"ABC\""
   ]
  },
  {
   "cell_type": "markdown",
   "metadata": {
    "slideshow": {
     "slide_type": "slide"
    }
   },
   "source": [
    "## Expressões contendo operadores lógicos e relacionais"
   ]
  },
  {
   "cell_type": "markdown",
   "metadata": {
    "slideshow": {
     "slide_type": "fragment"
    }
   },
   "source": [
    "Os operadores aritméticos têm precedência sobre os operadores relacionais."
   ]
  },
  {
   "cell_type": "markdown",
   "metadata": {
    "slideshow": {
     "slide_type": "fragment"
    }
   },
   "source": [
    "Os operadores relacionais têm precedência sobre os operadores lógicos."
   ]
  },
  {
   "cell_type": "markdown",
   "metadata": {
    "slideshow": {
     "slide_type": "fragment"
    }
   },
   "source": [
    "`not` tem precedência sobre `and`, que tem precedência sobre `or`."
   ]
  },
  {
   "cell_type": "code",
   "execution_count": 3,
   "metadata": {
    "slideshow": {
     "slide_type": "slide"
    }
   },
   "outputs": [
    {
     "data": {
      "text/plain": [
       "False"
      ]
     },
     "execution_count": 3,
     "metadata": {},
     "output_type": "execute_result"
    }
   ],
   "source": [
    "\n",
    "3 + 5 > 10 and 5 / 0 > 0"
   ]
  },
  {
   "cell_type": "markdown",
   "metadata": {
    "slideshow": {
     "slide_type": "fragment"
    }
   },
   "source": [
    "## Particularidades de Python"
   ]
  },
  {
   "cell_type": "markdown",
   "metadata": {
    "slideshow": {
     "slide_type": "fragment"
    }
   },
   "source": [
    "#### `bool` é mapeado sobre `int`"
   ]
  },
  {
   "cell_type": "markdown",
   "metadata": {
    "slideshow": {
     "slide_type": "fragment"
    }
   },
   "source": [
    "`True` é mapeado sobre `1` e `False` é mapeado sobre `0`. Com isso..."
   ]
  },
  {
   "cell_type": "code",
   "execution_count": 4,
   "metadata": {
    "slideshow": {
     "slide_type": "-"
    }
   },
   "outputs": [
    {
     "data": {
      "text/plain": [
       "6"
      ]
     },
     "execution_count": 4,
     "metadata": {},
     "output_type": "execute_result"
    }
   ],
   "source": [
    "5 + (3 < 5)"
   ]
  },
  {
   "cell_type": "markdown",
   "metadata": {
    "slideshow": {
     "slide_type": "subslide"
    }
   },
   "source": [
    "#### `int`, `float` e `str` também podem ser mapeados sobre `bool`"
   ]
  },
  {
   "cell_type": "markdown",
   "metadata": {
    "slideshow": {
     "slide_type": "fragment"
    }
   },
   "source": [
    "Quando aparecem numa expressão lógica, os zeros dos tipos `int` e `float` são considerados `False` e o mesmo vale para a `str` vazia (`\"\"`).\n",
    "\n",
    "Todos os demais valores de `int`, `float` e `str` são considerados `True`."
   ]
  },
  {
   "cell_type": "code",
   "execution_count": 5,
   "metadata": {},
   "outputs": [
    {
     "name": "stdout",
     "output_type": "stream",
     "text": [
      "Escreva alguma coisa.\n"
     ]
    }
   ],
   "source": [
    "s = \"\"\n",
    "if s:\n",
    "    print(\"Ok\")\n",
    "else:\n",
    "    print(\"Escreva alguma coisa.\")"
   ]
  },
  {
   "cell_type": "markdown",
   "metadata": {
    "slideshow": {
     "slide_type": "subslide"
    }
   },
   "source": [
    "#### A avaliação de expressões lógicas é *preguiçosa* (ou em *curto-circuito*)"
   ]
  },
  {
   "cell_type": "markdown",
   "metadata": {
    "slideshow": {
     "slide_type": "fragment"
    }
   },
   "source": [
    "Isto quer dizer que uma expressão é avaliada apenas até que se possa ter certeza sobre seu resultado."
   ]
  },
  {
   "cell_type": "markdown",
   "metadata": {
    "slideshow": {
     "slide_type": "fragment"
    }
   },
   "source": [
    "- Quando `x` é `False`, o resultado de `x and y` é `x` (e `y` não é avaliado). Caso contrário, o resultado é `y`."
   ]
  },
  {
   "cell_type": "markdown",
   "metadata": {
    "slideshow": {
     "slide_type": "fragment"
    }
   },
   "source": [
    "- Quando `x` é `True`, o resultado de `x or y` é `x` (e `y` não é avaliado). Caso contrário, o resultado é `y`."
   ]
  },
  {
   "cell_type": "code",
   "execution_count": 6,
   "metadata": {
    "slideshow": {
     "slide_type": "-"
    }
   },
   "outputs": [
    {
     "data": {
      "text/plain": [
       "5"
      ]
     },
     "execution_count": 6,
     "metadata": {},
     "output_type": "execute_result"
    }
   ],
   "source": [
    "5 or 4"
   ]
  },
  {
   "cell_type": "code",
   "execution_count": 7,
   "metadata": {},
   "outputs": [
    {
     "data": {
      "text/plain": [
       "4"
      ]
     },
     "execution_count": 7,
     "metadata": {},
     "output_type": "execute_result"
    }
   ],
   "source": [
    "5 and 4"
   ]
  },
  {
   "cell_type": "markdown",
   "metadata": {
    "slideshow": {
     "slide_type": "subslide"
    }
   },
   "source": [
    "#### Há uma forma \"aumentada\" de atribuição"
   ]
  },
  {
   "cell_type": "markdown",
   "metadata": {
    "slideshow": {
     "slide_type": "fragment"
    }
   },
   "source": [
    "Comandos como `x = x + 1` são tão comuns que Python implementa uma notação abreviada: `x += 1`."
   ]
  },
  {
   "cell_type": "code",
   "execution_count": 8,
   "metadata": {},
   "outputs": [
    {
     "data": {
      "text/plain": [
       "0.625"
      ]
     },
     "execution_count": 8,
     "metadata": {},
     "output_type": "execute_result"
    }
   ],
   "source": [
    "a = 5\n",
    "a /= 8\n",
    "a"
   ]
  },
  {
   "cell_type": "markdown",
   "metadata": {
    "slideshow": {
     "slide_type": "subslide"
    }
   },
   "source": [
    "#### Operadores relacionais podem ser encadeados"
   ]
  },
  {
   "cell_type": "markdown",
   "metadata": {
    "slideshow": {
     "slide_type": "fragment"
    }
   },
   "source": [
    "Expressões como `0 <= x and x < n` são tão comuns que Python permite encadear as comparações: `0 <= x < n`."
   ]
  },
  {
   "cell_type": "code",
   "execution_count": 10,
   "metadata": {},
   "outputs": [
    {
     "data": {
      "text/plain": [
       "False"
      ]
     },
     "execution_count": 10,
     "metadata": {},
     "output_type": "execute_result"
    }
   ],
   "source": [
    "3 < 5 == True"
   ]
  },
  {
   "cell_type": "code",
   "execution_count": 9,
   "metadata": {},
   "outputs": [
    {
     "data": {
      "text/plain": [
       "False"
      ]
     },
     "execution_count": 9,
     "metadata": {},
     "output_type": "execute_result"
    }
   ],
   "source": [
    "3 < 5 and 5 == True"
   ]
  },
  {
   "cell_type": "markdown",
   "metadata": {
    "slideshow": {
     "slide_type": "fragment"
    }
   },
   "source": [
    "##### Dica\n",
    "- Evite efeitos colaterais e comandos \"*originais e criativos*\"."
   ]
  },
  {
   "cell_type": "markdown",
   "metadata": {
    "slideshow": {
     "slide_type": "subslide"
    }
   },
   "source": [
    "#### É possível criar uma expressão condicional\n",
    "Um comando como\n",
    "```python\n",
    "if condição:\n",
    "    x = valor_cond_ok\n",
    "else:\n",
    "    x = valor_cond_nok\n",
    "```\n",
    "é equivalente à seguinte *expressão condicional* (que também é avaliada de forma preguiçosa)\n",
    "```python\n",
    "x = valor_cond_ok if condição else valor_cond_nok\n",
    "```"
   ]
  },
  {
   "cell_type": "code",
   "execution_count": null,
   "metadata": {
    "slideshow": {
     "slide_type": "fragment"
    }
   },
   "outputs": [],
   "source": [
    "x = a if a > b else b"
   ]
  },
  {
   "cell_type": "markdown",
   "metadata": {
    "slideshow": {
     "slide_type": "slide"
    }
   },
   "source": [
    "## Exemplo: *Ordenar três valores inteiros*\n",
    "**Problema**  \n",
    "Dados três valores inteiros exibi-los em ordem crescente.\n",
    "\n",
    "**Entrada**  \n",
    "Três valores inteiros quaisquer que devem ser associados a três variáveis `a`, `b` e `c`.\n",
    "\n",
    "**Saída**  \n",
    "Um comando `print(a, b, c)` que exiba os mesmos valores lidos, mas em ordem crescente."
   ]
  },
  {
   "cell_type": "markdown",
   "metadata": {
    "slideshow": {
     "slide_type": "subslide"
    }
   },
   "source": [
    "É possível resolver esse problema usando um único comando?"
   ]
  },
  {
   "cell_type": "markdown",
   "metadata": {
    "slideshow": {
     "slide_type": "fragment"
    }
   },
   "source": [
    "- Não."
   ]
  },
  {
   "cell_type": "markdown",
   "metadata": {
    "slideshow": {
     "slide_type": "fragment"
    }
   },
   "source": [
    "É possível resolver esse problema usando uma sequência de comandos?"
   ]
  },
  {
   "cell_type": "markdown",
   "metadata": {
    "slideshow": {
     "slide_type": "fragment"
    }
   },
   "source": [
    "- Sim, o problema pode ser resolvido por uma sequência de comandos, cada um deles desfazendo uma possível inversão entre os valores lidos."
   ]
  },
  {
   "cell_type": "markdown",
   "metadata": {
    "slideshow": {
     "slide_type": "subslide"
    }
   },
   "source": [
    "Como é que se desfaz uma inversão?"
   ]
  },
  {
   "cell_type": "markdown",
   "metadata": {
    "slideshow": {
     "slide_type": "fragment"
    }
   },
   "source": [
    "- Permutando os valores de duas variáveis que estejam fora de ordem."
   ]
  },
  {
   "cell_type": "markdown",
   "metadata": {
    "slideshow": {
     "slide_type": "subslide"
    }
   },
   "source": [
    "Como é que se permutam os valores de duas variáveis `x` e `y`?"
   ]
  },
  {
   "cell_type": "markdown",
   "metadata": {
    "slideshow": {
     "slide_type": "fragment"
    }
   },
   "source": [
    "- Usando uma variável auxiliar ou uma *atribuição múltipla*."
   ]
  },
  {
   "cell_type": "markdown",
   "metadata": {
    "slideshow": {
     "slide_type": "fragment"
    }
   },
   "source": [
    "```python\n",
    "t = x\n",
    "x = y\n",
    "y = t\n",
    "```"
   ]
  },
  {
   "cell_type": "markdown",
   "metadata": {
    "slideshow": {
     "slide_type": "fragment"
    }
   },
   "source": [
    "ou\n",
    "```python\n",
    "x, y = y, x\n",
    "```"
   ]
  },
  {
   "cell_type": "markdown",
   "metadata": {
    "slideshow": {
     "slide_type": "fragment"
    }
   },
   "source": [
    "***Nota***: numa atribuição múltipla, primeiro são avaliadas todas as expressões, na ordem em que aparecem no comando, e depois são feitas todas as associações, na mesma ordem."
   ]
  },
  {
   "cell_type": "markdown",
   "metadata": {
    "slideshow": {
     "slide_type": "slide"
    }
   },
   "source": [
    "### Solução: Ordenar três valores inteiros"
   ]
  },
  {
   "cell_type": "code",
   "execution_count": null,
   "metadata": {
    "slideshow": {
     "slide_type": "fragment"
    }
   },
   "outputs": [],
   "source": [
    "x = int(input(\"Primeiro valor? \"))\n",
    "y = int(input(\"Segundo valor? \"))\n",
    "z = int(input(\"Terceiro valor? \"))\n",
    "if x > y:\n",
    "    x, y = y, x\n",
    "if x > z:\n",
    "    x, z = z, x\n",
    "if y > z:\n",
    "    y, z = z, y\n",
    "print(x, y, z)"
   ]
  },
  {
   "cell_type": "markdown",
   "metadata": {
    "slideshow": {
     "slide_type": "subslide"
    }
   },
   "source": [
    "#### Como você se convence de que a solução está correta?\n",
    "1. No início da solução nada se sabe sobre $x$, $y$ e $z$.\n",
    "1. Depois do primeiro `if`, sabemos que $x \\le y$.\n",
    "1. Depois do segundo `if`, sabemos também que $x \\le z$. Portanto, $x$ é o menor dos três valores.\n",
    "1. Depois do terceiro `if`, sabemos que $y \\le z$.\n",
    "1. Portanto, $x \\le y \\le z$ e o problema está resolvido."
   ]
  }
 ],
 "metadata": {
  "celltoolbar": "Slideshow",
  "kernelspec": {
   "display_name": "Python 3",
   "language": "python",
   "name": "python3"
  },
  "language_info": {
   "codemirror_mode": {
    "name": "ipython",
    "version": 3
   },
   "file_extension": ".py",
   "mimetype": "text/x-python",
   "name": "python",
   "nbconvert_exporter": "python",
   "pygments_lexer": "ipython3",
   "version": "3.6.4"
  },
  "latex_envs": {
   "LaTeX_envs_menu_present": true,
   "autocomplete": true,
   "bibliofile": "biblio.bib",
   "cite_by": "apalike",
   "current_citInitial": 1,
   "eqLabelWithNumbers": true,
   "eqNumInitial": 1,
   "hotkeys": {
    "equation": "Ctrl-E",
    "itemize": "Ctrl-I"
   },
   "labels_anchors": false,
   "latex_user_defs": false,
   "report_style_numbering": false,
   "user_envs_cfg": false
  },
  "toc": {
   "nav_menu": {},
   "number_sections": false,
   "sideBar": true,
   "skip_h1_title": false,
   "title_cell": "Table of Contents",
   "title_sidebar": "Contents",
   "toc_cell": false,
   "toc_position": {},
   "toc_section_display": true,
   "toc_window_display": false
  },
  "varInspector": {
   "cols": {
    "lenName": 16,
    "lenType": 16,
    "lenVar": 40
   },
   "kernels_config": {
    "python": {
     "delete_cmd_postfix": "",
     "delete_cmd_prefix": "del ",
     "library": "var_list.py",
     "varRefreshCmd": "print(var_dic_list())"
    },
    "r": {
     "delete_cmd_postfix": ") ",
     "delete_cmd_prefix": "rm(",
     "library": "var_list.r",
     "varRefreshCmd": "cat(var_dic_list()) "
    }
   },
   "types_to_exclude": [
    "module",
    "function",
    "builtin_function_or_method",
    "instance",
    "_Feature"
   ],
   "window_display": false
  }
 },
 "nbformat": 4,
 "nbformat_minor": 2
}
