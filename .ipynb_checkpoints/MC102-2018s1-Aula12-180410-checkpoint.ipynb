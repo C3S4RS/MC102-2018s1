{
 "cells": [
  {
   "cell_type": "code",
   "execution_count": 1,
   "metadata": {
    "init_cell": true
   },
   "outputs": [],
   "source": [
    "from IPython.core.interactiveshell import InteractiveShell\n",
    "InteractiveShell.ast_node_interactivity = \"all\""
   ]
  },
  {
   "cell_type": "markdown",
   "metadata": {
    "slideshow": {
     "slide_type": "slide"
    }
   },
   "source": [
    "# Revisitando Strings"
   ]
  },
  {
   "cell_type": "markdown",
   "metadata": {
    "slideshow": {
     "slide_type": "slide"
    }
   },
   "source": [
    "## O modelo\n",
    "Uma _string_ é coleção sequencial e ordenada de caracteres. Os caracteres que compõem uma _string_ são idenficados por um _índice_ que indica sua posição na sequência.\n",
    "\n",
    "Os índices podem ser positivos (indicando a posição dos caracteres a partir do começo da _string_) ou negativos (indicando a posição dos caracteres a partir do fim da _string_), como mostra o diagrama abaixo.\n",
    "\n",
    "\n",
    "\n",
    "\\begin{array}{| c | c | c | c | c | c | c | c | c | c | }\n",
    " 0 & 1 & 2 & 3 & 4 & 5 & 6 & 7 & 8 & 9 & 10\\\\ \\hline\n",
    " U & m & a &   & s & t & r & i & n & g & . \\\\ \\hline\n",
    " -11 & -10 & -9 & -8 & -7 & -6 & -5 & -4 & -3 & -2 & -1   \n",
    "\\end{array}\n"
   ]
  },
  {
   "cell_type": "markdown",
   "metadata": {
    "slideshow": {
     "slide_type": "slide"
    }
   },
   "source": [
    "_Strings_ são representadas entre aspas simples, duplas ou “triplas”. Nos dois primeiros casos, a _string_ deve ficar toda contida numa única linha; no terceiro, ela pode ocupar um número arbitrário de linhas.  \n",
    "\n",
    "A _string_ nula ou vazia não contém caractere algum e é representada por '' ou \"\" (duas aspas simples ou duplas, sem nada no meio)."
   ]
  },
  {
   "cell_type": "code",
   "execution_count": 3,
   "metadata": {
    "slideshow": {
     "slide_type": "fragment"
    }
   },
   "outputs": [
    {
     "name": "stdout",
     "output_type": "stream",
     "text": [
      "\n",
      "''\n"
     ]
    }
   ],
   "source": [
    "cadeia_a = ''\n",
    "print(cadeia_a)  # não vai mostrar nada...\n",
    "print(repr(cadeia_a))  # repr mostra as aspas delimitadoras"
   ]
  },
  {
   "cell_type": "code",
   "execution_count": 4,
   "metadata": {
    "slideshow": {
     "slide_type": "subslide"
    }
   },
   "outputs": [
    {
     "name": "stdout",
     "output_type": "stream",
     "text": [
      "Uma string.\n"
     ]
    }
   ],
   "source": [
    "cadeia_b = 'Uma string.'\n",
    "print(cadeia_b)"
   ]
  },
  {
   "cell_type": "code",
   "execution_count": 5,
   "metadata": {
    "slideshow": {
     "slide_type": "subslide"
    }
   },
   "outputs": [
    {
     "name": "stdout",
     "output_type": "stream",
     "text": [
      "Outra string.\n"
     ]
    }
   ],
   "source": [
    "cadeia_c = \"Outra string.\"\n",
    "print(cadeia_c)"
   ]
  },
  {
   "cell_type": "code",
   "execution_count": 6,
   "metadata": {
    "slideshow": {
     "slide_type": "subslide"
    }
   },
   "outputs": [
    {
     "name": "stdout",
     "output_type": "stream",
     "text": [
      "Uma cadeia\n",
      "com várias\n",
      "linhas\n"
     ]
    }
   ],
   "source": [
    "cadeia_d = '''Uma cadeia\n",
    "com várias\n",
    "linhas'''\n",
    "print(cadeia_d)"
   ]
  },
  {
   "cell_type": "markdown",
   "metadata": {
    "slideshow": {
     "slide_type": "slide"
    }
   },
   "source": [
    "## Os operadores + e *\n",
    "O operador **+** concatena _strings_ e o operador __\\*__ repete (e ao mesmo tempo concatena) _strings_."
   ]
  },
  {
   "cell_type": "code",
   "execution_count": 7,
   "metadata": {
    "slideshow": {
     "slide_type": "fragment"
    }
   },
   "outputs": [],
   "source": [
    "string_a = 'a-'\n",
    "string_b = 'bl'"
   ]
  },
  {
   "cell_type": "code",
   "execution_count": 8,
   "metadata": {
    "slideshow": {
     "slide_type": "fragment"
    }
   },
   "outputs": [
    {
     "name": "stdout",
     "output_type": "stream",
     "text": [
      "bla-\n"
     ]
    }
   ],
   "source": [
    "string_c = string_b + string_a\n",
    "print(string_c)"
   ]
  },
  {
   "cell_type": "code",
   "execution_count": 9,
   "metadata": {
    "slideshow": {
     "slide_type": "fragment"
    }
   },
   "outputs": [
    {
     "name": "stdout",
     "output_type": "stream",
     "text": [
      "bla-bla-bla-\n"
     ]
    }
   ],
   "source": [
    "string_d = 3 * string_c\n",
    "print(string_d)"
   ]
  },
  {
   "cell_type": "markdown",
   "metadata": {
    "slideshow": {
     "slide_type": "slide"
    }
   },
   "source": [
    "## Métodos e funções para _strings_"
   ]
  },
  {
   "cell_type": "markdown",
   "metadata": {
    "slideshow": {
     "slide_type": "subslide"
    }
   },
   "source": [
    "### Conversão para maiúsculas e minúsculas"
   ]
  },
  {
   "cell_type": "code",
   "execution_count": 10,
   "metadata": {
    "slideshow": {
     "slide_type": "fragment"
    }
   },
   "outputs": [],
   "source": [
    "titulo = 'Laranja Madura na Beira da Estrada'"
   ]
  },
  {
   "cell_type": "code",
   "execution_count": 11,
   "metadata": {
    "slideshow": {
     "slide_type": "fragment"
    }
   },
   "outputs": [
    {
     "name": "stdout",
     "output_type": "stream",
     "text": [
      "laranja madura na beira da estrada\n"
     ]
    }
   ],
   "source": [
    "print(titulo.lower())"
   ]
  },
  {
   "cell_type": "code",
   "execution_count": 12,
   "metadata": {
    "slideshow": {
     "slide_type": "fragment"
    }
   },
   "outputs": [
    {
     "name": "stdout",
     "output_type": "stream",
     "text": [
      "LARANJA MADURA NA BEIRA DA ESTRADA\n"
     ]
    }
   ],
   "source": [
    "print(titulo.upper())"
   ]
  },
  {
   "cell_type": "code",
   "execution_count": 13,
   "metadata": {
    "slideshow": {
     "slide_type": "fragment"
    }
   },
   "outputs": [
    {
     "name": "stdout",
     "output_type": "stream",
     "text": [
      "Laranja madura na beira da estrada\n"
     ]
    }
   ],
   "source": [
    "print(titulo.capitalize())"
   ]
  },
  {
   "cell_type": "markdown",
   "metadata": {
    "slideshow": {
     "slide_type": "subslide"
    }
   },
   "source": [
    "### Remoção de espaços à esquerda e à direita"
   ]
  },
  {
   "cell_type": "code",
   "execution_count": 14,
   "metadata": {
    "slideshow": {
     "slide_type": "fragment"
    }
   },
   "outputs": [],
   "source": [
    "titulo = '    Laranja Madura na Beira da Estrada   '"
   ]
  },
  {
   "cell_type": "code",
   "execution_count": 15,
   "metadata": {
    "slideshow": {
     "slide_type": "fragment"
    }
   },
   "outputs": [
    {
     "name": "stdout",
     "output_type": "stream",
     "text": [
      "'Laranja Madura na Beira da Estrada   '\n"
     ]
    }
   ],
   "source": [
    "print(repr(titulo.lstrip()))"
   ]
  },
  {
   "cell_type": "code",
   "execution_count": 16,
   "metadata": {
    "slideshow": {
     "slide_type": "fragment"
    }
   },
   "outputs": [
    {
     "name": "stdout",
     "output_type": "stream",
     "text": [
      "'    Laranja Madura na Beira da Estrada'\n"
     ]
    }
   ],
   "source": [
    "print(repr(titulo.rstrip()))"
   ]
  },
  {
   "cell_type": "code",
   "execution_count": 17,
   "metadata": {
    "slideshow": {
     "slide_type": "fragment"
    }
   },
   "outputs": [
    {
     "name": "stdout",
     "output_type": "stream",
     "text": [
      "'Laranja Madura na Beira da Estrada'\n"
     ]
    }
   ],
   "source": [
    "print(repr(titulo.strip()))"
   ]
  },
  {
   "cell_type": "markdown",
   "metadata": {
    "slideshow": {
     "slide_type": "subslide"
    }
   },
   "source": [
    "### Contagem e substituição de _substrings_"
   ]
  },
  {
   "cell_type": "code",
   "execution_count": 18,
   "metadata": {
    "slideshow": {
     "slide_type": "fragment"
    }
   },
   "outputs": [],
   "source": [
    "titulo = 'Laranja Madura na Beira da Estrada'.lower()"
   ]
  },
  {
   "cell_type": "code",
   "execution_count": 19,
   "metadata": {
    "slideshow": {
     "slide_type": "fragment"
    }
   },
   "outputs": [
    {
     "name": "stdout",
     "output_type": "stream",
     "text": [
      "4\n"
     ]
    }
   ],
   "source": [
    "print(titulo.count('ra'))"
   ]
  },
  {
   "cell_type": "code",
   "execution_count": 20,
   "metadata": {
    "slideshow": {
     "slide_type": "fragment"
    }
   },
   "outputs": [
    {
     "name": "stdout",
     "output_type": "stream",
     "text": [
      "laRAnja maduRA na beiRA da estRAda\n"
     ]
    }
   ],
   "source": [
    "print(titulo.replace('ra', 'RA'))"
   ]
  },
  {
   "cell_type": "markdown",
   "metadata": {
    "slideshow": {
     "slide_type": "subslide"
    }
   },
   "source": [
    "### Ajuste do comprimento da _string_"
   ]
  },
  {
   "cell_type": "code",
   "execution_count": 21,
   "metadata": {
    "slideshow": {
     "slide_type": "fragment"
    }
   },
   "outputs": [],
   "source": [
    "titulo = 'Laranja Madura na Beira da Estrada'"
   ]
  },
  {
   "cell_type": "code",
   "execution_count": 22,
   "metadata": {
    "slideshow": {
     "slide_type": "fragment"
    }
   },
   "outputs": [
    {
     "name": "stdout",
     "output_type": "stream",
     "text": [
      "'Laranja Madura na Beira da Estrada                '\n"
     ]
    }
   ],
   "source": [
    "print(repr(titulo.ljust(50)))"
   ]
  },
  {
   "cell_type": "code",
   "execution_count": 23,
   "metadata": {
    "slideshow": {
     "slide_type": "fragment"
    }
   },
   "outputs": [
    {
     "name": "stdout",
     "output_type": "stream",
     "text": [
      "'                Laranja Madura na Beira da Estrada'\n"
     ]
    }
   ],
   "source": [
    "print(repr(titulo.rjust(50)))"
   ]
  },
  {
   "cell_type": "code",
   "execution_count": 24,
   "metadata": {
    "slideshow": {
     "slide_type": "fragment"
    }
   },
   "outputs": [
    {
     "name": "stdout",
     "output_type": "stream",
     "text": [
      "'        Laranja Madura na Beira da Estrada        '\n"
     ]
    }
   ],
   "source": [
    "print(repr(titulo.center(50)))"
   ]
  },
  {
   "cell_type": "markdown",
   "metadata": {
    "slideshow": {
     "slide_type": "subslide"
    }
   },
   "source": [
    "### Localizar uma subcadeia"
   ]
  },
  {
   "cell_type": "code",
   "execution_count": 25,
   "metadata": {
    "slideshow": {
     "slide_type": "fragment"
    }
   },
   "outputs": [],
   "source": [
    "titulo = 'Laranja Madura na Beira da Estrada'.lower()"
   ]
  },
  {
   "cell_type": "code",
   "execution_count": 26,
   "metadata": {
    "slideshow": {
     "slide_type": "fragment"
    }
   },
   "outputs": [
    {
     "name": "stdout",
     "output_type": "stream",
     "text": [
      "2\n"
     ]
    }
   ],
   "source": [
    "print(titulo.find('ra'))  ## acha primeira ocorrência do argumento a partir da esquerda"
   ]
  },
  {
   "cell_type": "code",
   "execution_count": 27,
   "metadata": {
    "slideshow": {
     "slide_type": "fragment"
    }
   },
   "outputs": [
    {
     "name": "stdout",
     "output_type": "stream",
     "text": [
      "30\n"
     ]
    }
   ],
   "source": [
    "print(titulo.rfind('ra'))  ## acha primeira ocorrência do argumento a partir da direita"
   ]
  },
  {
   "cell_type": "code",
   "execution_count": 28,
   "metadata": {
    "slideshow": {
     "slide_type": "subslide"
    }
   },
   "outputs": [],
   "source": [
    "titulo = 'Laranja Madura na Beira da Estrada'.lower()"
   ]
  },
  {
   "cell_type": "code",
   "execution_count": 29,
   "metadata": {
    "slideshow": {
     "slide_type": "fragment"
    }
   },
   "outputs": [
    {
     "name": "stdout",
     "output_type": "stream",
     "text": [
      "-1\n",
      "-1\n"
     ]
    }
   ],
   "source": [
    "print(titulo.find('xx'))  ## find e rfind retornam -1 se a subcadeia não for encontrada\n",
    "print(titulo.rfind('xx'))"
   ]
  },
  {
   "cell_type": "code",
   "execution_count": 30,
   "metadata": {
    "slideshow": {
     "slide_type": "subslide"
    }
   },
   "outputs": [],
   "source": [
    "titulo = 'Laranja Madura na Beira da Estrada'.lower()"
   ]
  },
  {
   "cell_type": "code",
   "execution_count": 31,
   "metadata": {
    "slideshow": {
     "slide_type": "fragment"
    }
   },
   "outputs": [
    {
     "name": "stdout",
     "output_type": "stream",
     "text": [
      "2\n",
      "30\n"
     ]
    }
   ],
   "source": [
    "print(titulo.index('ra'))  ## o mesmo que find e rfind se a subcadeia for encontrada\n",
    "print(titulo.rindex('ra'))"
   ]
  },
  {
   "cell_type": "code",
   "execution_count": 32,
   "metadata": {
    "slideshow": {
     "slide_type": "subslide"
    }
   },
   "outputs": [],
   "source": [
    "titulo = 'Laranja Madura na Beira da Estrada'.lower()"
   ]
  },
  {
   "cell_type": "code",
   "execution_count": 33,
   "metadata": {
    "slideshow": {
     "slide_type": "fragment"
    }
   },
   "outputs": [
    {
     "ename": "ValueError",
     "evalue": "substring not found",
     "output_type": "error",
     "traceback": [
      "\u001b[0;31m---------------------------------------------------------------------------\u001b[0m",
      "\u001b[0;31mValueError\u001b[0m                                Traceback (most recent call last)",
      "\u001b[0;32m<ipython-input-33-81a3cb646268>\u001b[0m in \u001b[0;36m<module>\u001b[0;34m()\u001b[0m\n\u001b[0;32m----> 1\u001b[0;31m \u001b[0mprint\u001b[0m\u001b[0;34m(\u001b[0m\u001b[0mtitulo\u001b[0m\u001b[0;34m.\u001b[0m\u001b[0mindex\u001b[0m\u001b[0;34m(\u001b[0m\u001b[0;34m'xx'\u001b[0m\u001b[0;34m)\u001b[0m\u001b[0;34m)\u001b[0m  \u001b[0;31m## index e rindex causam um erro se a subcadeia não for encontrada\u001b[0m\u001b[0;34m\u001b[0m\u001b[0m\n\u001b[0m",
      "\u001b[0;31mValueError\u001b[0m: substring not found"
     ]
    }
   ],
   "source": [
    "print(titulo.index('xx'))  ## index e rindex causam um erro se a subcadeia não for encontrada"
   ]
  },
  {
   "cell_type": "code",
   "execution_count": 42,
   "metadata": {
    "slideshow": {
     "slide_type": "fragment"
    }
   },
   "outputs": [
    {
     "ename": "ValueError",
     "evalue": "substring not found",
     "output_type": "error",
     "traceback": [
      "\u001b[0;31m---------------------------------------------------------------------------\u001b[0m",
      "\u001b[0;31mValueError\u001b[0m                                Traceback (most recent call last)",
      "\u001b[0;32m<ipython-input-42-4c71121bc196>\u001b[0m in \u001b[0;36m<module>\u001b[0;34m()\u001b[0m\n\u001b[0;32m----> 1\u001b[0;31m \u001b[0mprint\u001b[0m\u001b[0;34m(\u001b[0m\u001b[0mtitulo\u001b[0m\u001b[0;34m.\u001b[0m\u001b[0mrindex\u001b[0m\u001b[0;34m(\u001b[0m\u001b[0;34m'xx'\u001b[0m\u001b[0;34m)\u001b[0m\u001b[0;34m)\u001b[0m\u001b[0;34m\u001b[0m\u001b[0m\n\u001b[0m",
      "\u001b[0;31mValueError\u001b[0m: substring not found"
     ]
    }
   ],
   "source": [
    "print(titulo.rindex('xx'))"
   ]
  },
  {
   "cell_type": "markdown",
   "metadata": {
    "slideshow": {
     "slide_type": "subslide"
    }
   },
   "source": [
    "### Formatação\n",
    "Este é um método com muitos recursos que não podem ser completamente explorados aqui, mas os exemplos a seguir dão uma rápida ideia do que é possível fazer."
   ]
  },
  {
   "cell_type": "code",
   "execution_count": 43,
   "metadata": {
    "slideshow": {
     "slide_type": "fragment"
    }
   },
   "outputs": [
    {
     "name": "stdout",
     "output_type": "stream",
     "text": [
      "A média de 10, 3 e 7 é 6.666666666666667.\n"
     ]
    }
   ],
   "source": [
    "a = 10\n",
    "b = 3\n",
    "c = 7\n",
    "print('A média de {}, {} e {} é {}.'.format(a, b, c, (a + b + c) / 3))"
   ]
  },
  {
   "cell_type": "markdown",
   "metadata": {
    "slideshow": {
     "slide_type": "subslide"
    }
   },
   "source": [
    "Suponha que quiséssemos que todos os valores fossem exibidos com uma casa decimal."
   ]
  },
  {
   "cell_type": "code",
   "execution_count": 44,
   "metadata": {
    "slideshow": {
     "slide_type": "fragment"
    }
   },
   "outputs": [
    {
     "name": "stdout",
     "output_type": "stream",
     "text": [
      "A média de 10.0, 3.0 e 7.0 é 6.7.\n"
     ]
    }
   ],
   "source": [
    "print('A média de {:.1f}, {:.1f} e {:.1f} é {:.1f}.'.format(a, b, c, (a + b + c) / 3))"
   ]
  },
  {
   "cell_type": "markdown",
   "metadata": {
    "slideshow": {
     "slide_type": "subslide"
    }
   },
   "source": [
    "O mesmo efeito pode ser conseguido colocando um *f* à frente da _string_ de formato e incluindo as expressões nas chaves correspondentes."
   ]
  },
  {
   "cell_type": "code",
   "execution_count": 45,
   "metadata": {
    "slideshow": {
     "slide_type": "fragment"
    }
   },
   "outputs": [
    {
     "name": "stdout",
     "output_type": "stream",
     "text": [
      "A média de 10.0, 3.0 e 7.0 é 6.7.\n"
     ]
    }
   ],
   "source": [
    "print(f'A média de {a:.1f}, {b:.1f} e {c:.1f} é {(a + b + c) / 3:.1f}.')"
   ]
  },
  {
   "cell_type": "markdown",
   "metadata": {
    "slideshow": {
     "slide_type": "subslide"
    }
   },
   "source": [
    "Uma _string_ de formatação pode ser manipulada como qualquer outra _string_ de Python."
   ]
  },
  {
   "cell_type": "code",
   "execution_count": 46,
   "metadata": {
    "slideshow": {
     "slide_type": "fragment"
    }
   },
   "outputs": [
    {
     "name": "stdout",
     "output_type": "stream",
     "text": [
      "A média de 10.0, 3.0 e 7.0 é 6.7.\n"
     ]
    }
   ],
   "source": [
    "mens_1 = f'A média de {a:.1f}, {b:.1f} e {c:.1f} é '\n",
    "mens_2 = f'{(a + b + c) / 3:.1f}.' \n",
    "print(mens_1 + mens_2)"
   ]
  },
  {
   "cell_type": "markdown",
   "metadata": {
    "slideshow": {
     "slide_type": "subslide"
    }
   },
   "source": [
    "### Comprimento\n",
    "A função `len` retorna o número de caracteres na _string_ à qual ela é aplicada."
   ]
  },
  {
   "cell_type": "code",
   "execution_count": 47,
   "metadata": {
    "slideshow": {
     "slide_type": "fragment"
    }
   },
   "outputs": [
    {
     "name": "stdout",
     "output_type": "stream",
     "text": [
      "tamanduá 8\n"
     ]
    }
   ],
   "source": [
    "mascote = 'tamanduá'\n",
    "print(mascote, len(mascote))"
   ]
  },
  {
   "cell_type": "markdown",
   "metadata": {
    "slideshow": {
     "slide_type": "subslide"
    }
   },
   "source": [
    "Note que os índices positivos válidos para uma _string_ $s$ são $0, 1, \\dots \\mathrm{len}\\left(s\\right)-1$, enquanto os negativos são $-1, -2, \\dots -\\mathrm{len}\\left(s\\right)$."
   ]
  },
  {
   "cell_type": "code",
   "execution_count": 48,
   "metadata": {
    "slideshow": {
     "slide_type": "fragment"
    }
   },
   "outputs": [
    {
     "name": "stdout",
     "output_type": "stream",
     "text": [
      "t á á t\n"
     ]
    }
   ],
   "source": [
    "print(mascote[0], mascote[len(mascote)-1], mascote[-1], mascote[-len(mascote)])"
   ]
  },
  {
   "cell_type": "markdown",
   "metadata": {
    "slideshow": {
     "slide_type": "subslide"
    }
   },
   "source": [
    "### Fatiamento (_slicing_)\n",
    "_Slices_ (_fatias_) são subcadeias que podem ser extraídas pelo '_fatiador_', como no caso de listas."
   ]
  },
  {
   "cell_type": "code",
   "execution_count": 49,
   "metadata": {
    "slideshow": {
     "slide_type": "fragment"
    }
   },
   "outputs": [
    {
     "name": "stdout",
     "output_type": "stream",
     "text": [
      "'laranja' 'estrada'\n"
     ]
    }
   ],
   "source": [
    "titulo = 'Laranja Madura na Beira da Estrada'.lower()\n",
    "fruta = titulo[:7]\n",
    "local = titulo[-7:]\n",
    "print(repr(fruta), repr(local))"
   ]
  },
  {
   "cell_type": "markdown",
   "metadata": {
    "slideshow": {
     "slide_type": "subslide"
    }
   },
   "source": [
    "O fatiador não dá erro caso receba um índice inválido. Quando isso acontece, ele usa um índice razoável."
   ]
  },
  {
   "cell_type": "code",
   "execution_count": 50,
   "metadata": {
    "slideshow": {
     "slide_type": "fragment"
    }
   },
   "outputs": [
    {
     "name": "stdout",
     "output_type": "stream",
     "text": [
      "'madura na beira da estrada' 'laranja madura na beira da'\n"
     ]
    }
   ],
   "source": [
    "titulo = 'Laranja Madura na Beira da Estrada'.lower()\n",
    "sem_fruta = titulo[8:99]\n",
    "sem_local = titulo[-99:-8]\n",
    "print(repr(sem_fruta), repr(sem_local))"
   ]
  },
  {
   "cell_type": "code",
   "execution_count": 51,
   "metadata": {
    "slideshow": {
     "slide_type": "subslide"
    }
   },
   "outputs": [
    {
     "name": "stdout",
     "output_type": "stream",
     "text": [
      "'0123456789' '13579' '02468' '9876543210'\n"
     ]
    }
   ],
   "source": [
    "nums = '0123456789'\n",
    "impares = nums[1::2]\n",
    "pares = nums[::2]\n",
    "inversa = nums[::-1]\n",
    "print(repr(nums), repr(impares), repr(pares), repr(inversa))"
   ]
  },
  {
   "cell_type": "markdown",
   "metadata": {
    "slideshow": {
     "slide_type": "subslide"
    }
   },
   "source": [
    "### Comparação de cadeias\n",
    "Os operadores de comparação podem ser usados normalmente. A comparação é lexicográfica e baseia-se no código de caracteres ASCII."
   ]
  },
  {
   "cell_type": "code",
   "execution_count": 52,
   "metadata": {
    "slideshow": {
     "slide_type": "fragment"
    }
   },
   "outputs": [
    {
     "name": "stdout",
     "output_type": "stream",
     "text": [
      "'menor' < 'maior'  é False\n"
     ]
    }
   ],
   "source": [
    "print(\"'menor' < 'maior'  é\", 'menor' < 'maior')"
   ]
  },
  {
   "cell_type": "code",
   "execution_count": 53,
   "metadata": {
    "slideshow": {
     "slide_type": "fragment"
    }
   },
   "outputs": [
    {
     "name": "stdout",
     "output_type": "stream",
     "text": [
      "'maior' < 'Maior'  é False\n"
     ]
    }
   ],
   "source": [
    "print(\"'maior' < 'Maior'  é\", 'maior' < 'Maior')"
   ]
  },
  {
   "cell_type": "code",
   "execution_count": 54,
   "metadata": {
    "slideshow": {
     "slide_type": "subslide"
    }
   },
   "outputs": [
    {
     "name": "stdout",
     "output_type": "stream",
     "text": [
      "'maior' == 'Maior'  é False\n"
     ]
    }
   ],
   "source": [
    "print(\"'maior' == 'Maior'  é\", 'maior' == 'Maior')"
   ]
  },
  {
   "cell_type": "code",
   "execution_count": 55,
   "metadata": {
    "slideshow": {
     "slide_type": "fragment"
    }
   },
   "outputs": [
    {
     "name": "stdout",
     "output_type": "stream",
     "text": [
      "'maior' != 'Maior'  é True\n"
     ]
    }
   ],
   "source": [
    "print(\"'maior' != 'Maior'  é\", 'maior' != 'Maior')"
   ]
  },
  {
   "cell_type": "markdown",
   "metadata": {
    "slideshow": {
     "slide_type": "subslide"
    }
   },
   "source": [
    "O código de um caractere na tabela ASCII é dado pela função `ord` e o caractere correspondente a um dado código é dado pela função `chr`."
   ]
  },
  {
   "cell_type": "code",
   "execution_count": 56,
   "metadata": {
    "slideshow": {
     "slide_type": "fragment"
    }
   },
   "outputs": [
    {
     "name": "stdout",
     "output_type": "stream",
     "text": [
      " 77 M\n",
      "109 m\n",
      " 97 a\n",
      "101 e\n"
     ]
    }
   ],
   "source": [
    "print(f\"{ord('M'):3} {chr(77)}\")\n",
    "print(f\"{ord('m'):3} {chr(109)}\")\n",
    "print(f\"{ord('a'):3} {chr(97)}\")\n",
    "print(f\"{ord('e'):3} {chr(101)}\")"
   ]
  },
  {
   "cell_type": "markdown",
   "metadata": {
    "slideshow": {
     "slide_type": "slide"
    }
   },
   "source": [
    "## _Strings_ são imutáveis\n",
    "Ao contrário do que acontece com listas, não é possível alterar o conteúdo de uma _string_.  \n",
    "Qualquer tentativa nesse sentido causará um erro.  \n",
    "Para conseguir uma variante da _string_ original primeiro é preciso criar uma cópia."
   ]
  },
  {
   "cell_type": "code",
   "execution_count": 57,
   "metadata": {
    "slideshow": {
     "slide_type": "fragment"
    }
   },
   "outputs": [
    {
     "name": "stdout",
     "output_type": "stream",
     "text": [
      "o\n"
     ]
    }
   ],
   "source": [
    "titulo = 'Laranja Maduro na Beira da Estrada'\n",
    "print(titulo[13])"
   ]
  },
  {
   "cell_type": "code",
   "execution_count": 58,
   "metadata": {
    "slideshow": {
     "slide_type": "subslide"
    }
   },
   "outputs": [
    {
     "ename": "TypeError",
     "evalue": "'str' object does not support item assignment",
     "output_type": "error",
     "traceback": [
      "\u001b[0;31m---------------------------------------------------------------------------\u001b[0m",
      "\u001b[0;31mTypeError\u001b[0m                                 Traceback (most recent call last)",
      "\u001b[0;32m<ipython-input-58-1be28549ced2>\u001b[0m in \u001b[0;36m<module>\u001b[0;34m()\u001b[0m\n\u001b[0;32m----> 1\u001b[0;31m \u001b[0mtitulo\u001b[0m\u001b[0;34m[\u001b[0m\u001b[0;36m13\u001b[0m\u001b[0;34m]\u001b[0m \u001b[0;34m=\u001b[0m \u001b[0;34m'a'\u001b[0m\u001b[0;34m\u001b[0m\u001b[0m\n\u001b[0m",
      "\u001b[0;31mTypeError\u001b[0m: 'str' object does not support item assignment"
     ]
    }
   ],
   "source": [
    "titulo[13] = 'a'"
   ]
  },
  {
   "cell_type": "code",
   "execution_count": 59,
   "metadata": {
    "slideshow": {
     "slide_type": "fragment"
    }
   },
   "outputs": [
    {
     "name": "stdout",
     "output_type": "stream",
     "text": [
      "Laranja Madura na Beira da Estrada\n"
     ]
    }
   ],
   "source": [
    "titulo_corr = titulo[:13] + 'a' + titulo[14:]\n",
    "print(titulo_corr)"
   ]
  },
  {
   "cell_type": "markdown",
   "metadata": {
    "slideshow": {
     "slide_type": "slide"
    }
   },
   "source": [
    "## Percorrendo _strings_ com _for_"
   ]
  },
  {
   "cell_type": "code",
   "execution_count": 60,
   "metadata": {
    "slideshow": {
     "slide_type": "fragment"
    }
   },
   "outputs": [
    {
     "name": "stdout",
     "output_type": "stream",
     "text": [
      "U m a   s t r i n g . \n"
     ]
    }
   ],
   "source": [
    "texto = 'Uma string.'\n",
    "for c in texto:\n",
    "    print(c, end=' ')\n",
    "print()"
   ]
  },
  {
   "cell_type": "code",
   "execution_count": 61,
   "metadata": {
    "slideshow": {
     "slide_type": "fragment"
    }
   },
   "outputs": [
    {
     "name": "stdout",
     "output_type": "stream",
     "text": [
      "U m a   s t r i n g . \n"
     ]
    }
   ],
   "source": [
    "texto = 'Uma string.'\n",
    "for i in range(len(texto)):\n",
    "    print(texto[i], end=' ')\n",
    "print()"
   ]
  },
  {
   "cell_type": "code",
   "execution_count": 62,
   "metadata": {
    "slideshow": {
     "slide_type": "subslide"
    }
   },
   "outputs": [
    {
     "name": "stdout",
     "output_type": "stream",
     "text": [
      ". g n i r t s   a m U \n"
     ]
    }
   ],
   "source": [
    "texto = 'Uma string.'\n",
    "for i in range(-1, -len(texto) - 1, -1):\n",
    "    print(texto[i], end=' ')\n",
    "print()"
   ]
  },
  {
   "cell_type": "markdown",
   "metadata": {
    "slideshow": {
     "slide_type": "slide"
    }
   },
   "source": [
    "## Percorrendo _strings_ com _while_"
   ]
  },
  {
   "cell_type": "code",
   "execution_count": 63,
   "metadata": {
    "slideshow": {
     "slide_type": "fragment"
    }
   },
   "outputs": [
    {
     "name": "stdout",
     "output_type": "stream",
     "text": [
      "U m a   s t r i n g . \n"
     ]
    }
   ],
   "source": [
    "texto = 'Uma string.'\n",
    "i = 0\n",
    "while i < len(texto):\n",
    "    print(texto[i], end=' ')\n",
    "    i += 1\n",
    "print()"
   ]
  },
  {
   "cell_type": "code",
   "execution_count": 64,
   "metadata": {
    "slideshow": {
     "slide_type": "subslide"
    }
   },
   "outputs": [
    {
     "name": "stdout",
     "output_type": "stream",
     "text": [
      ". g n i r t s   a m U \n"
     ]
    }
   ],
   "source": [
    "texto = 'Uma string.'\n",
    "i = -1\n",
    "while i >= -len(texto):\n",
    "    print(texto[i], end=' ')\n",
    "    i -= 1\n",
    "print()"
   ]
  },
  {
   "cell_type": "markdown",
   "metadata": {
    "slideshow": {
     "slide_type": "slide"
    }
   },
   "source": [
    "## Os operadores *in* e *not in*\n",
    "Os operadores *in* e *not in* testam se uma _string_ é subcadeia de outra."
   ]
  },
  {
   "cell_type": "code",
   "execution_count": 65,
   "metadata": {
    "slideshow": {
     "slide_type": "fragment"
    }
   },
   "outputs": [
    {
     "name": "stdout",
     "output_type": "stream",
     "text": [
      "'banana' in titulo    False\n"
     ]
    }
   ],
   "source": [
    "titulo = 'Laranja Madura na Beira da Estrada'.lower()\n",
    "fruta = 'banana'\n",
    "\n",
    "print(\"'banana' in titulo   \", fruta in titulo)"
   ]
  },
  {
   "cell_type": "code",
   "execution_count": 66,
   "metadata": {
    "slideshow": {
     "slide_type": "fragment"
    }
   },
   "outputs": [
    {
     "name": "stdout",
     "output_type": "stream",
     "text": [
      "'banana' not in titulo    True\n"
     ]
    }
   ],
   "source": [
    "print(\"'banana' not in titulo   \", fruta not in titulo)"
   ]
  },
  {
   "cell_type": "code",
   "execution_count": 67,
   "metadata": {
    "slideshow": {
     "slide_type": "subslide"
    }
   },
   "outputs": [
    {
     "name": "stdout",
     "output_type": "stream",
     "text": [
      "'na Beira' in titulo    False\n",
      "'na Beira' not in titulo    True\n"
     ]
    }
   ],
   "source": [
    "subs = 'na Beira'\n",
    "\n",
    "print(\"'\" + subs + \"' in titulo   \", subs in titulo)\n",
    "print(\"'\" + subs + \"' not in titulo   \", subs not in titulo)"
   ]
  },
  {
   "cell_type": "code",
   "execution_count": 68,
   "metadata": {
    "slideshow": {
     "slide_type": "subslide"
    }
   },
   "outputs": [
    {
     "name": "stdout",
     "output_type": "stream",
     "text": [
      "'na beira' in titulo    True\n",
      "'na beira' not in titulo    False\n"
     ]
    }
   ],
   "source": [
    "subs = 'na beira'\n",
    "\n",
    "print(\"'\" + subs + \"' in titulo   \", subs in titulo)\n",
    "print(\"'\" + subs + \"' not in titulo   \", subs not in titulo)"
   ]
  },
  {
   "cell_type": "markdown",
   "metadata": {
    "slideshow": {
     "slide_type": "slide"
    }
   },
   "source": [
    "## Exemplos"
   ]
  },
  {
   "cell_type": "markdown",
   "metadata": {
    "slideshow": {
     "slide_type": "subslide"
    }
   },
   "source": [
    "### Remover todas as vogais de uma linha de texto\n",
    "Como uma _string_ não pode ser modificada, temos que criar uma “cópia” selecionando os caracteres que devem ser incluídos nela."
   ]
  },
  {
   "cell_type": "code",
   "execution_count": 34,
   "metadata": {
    "slideshow": {
     "slide_type": "subslide"
    }
   },
   "outputs": [
    {
     "name": "stdout",
     "output_type": "stream",
     "text": [
      "'É difícil não esquecer dos detalhes.'\n",
      "' dfcl n sqcr ds dtlhs.'\n"
     ]
    }
   ],
   "source": [
    "texto = 'É difícil não esquecer dos detalhes.'\n",
    "vogais = 'aáàãâeéêiíoóõôuú'\n",
    "vogais += vogais.upper()\n",
    "\n",
    "texto_sem_vogais = ''\n",
    "for c in texto:\n",
    "    if c not in vogais:\n",
    "        texto_sem_vogais += c\n",
    "print(repr(texto))\n",
    "print(repr(texto_sem_vogais))"
   ]
  },
  {
   "cell_type": "markdown",
   "metadata": {
    "slideshow": {
     "slide_type": "slide"
    }
   },
   "source": [
    "### Remover de uma cadeia todas as ocorrências de uma subcadeia dada"
   ]
  },
  {
   "cell_type": "code",
   "execution_count": 35,
   "metadata": {
    "slideshow": {
     "slide_type": "subslide"
    }
   },
   "outputs": [
    {
     "name": "stdout",
     "output_type": "stream",
     "text": [
      "    texto = 'laranja madura na beira da estrada'\n",
      "     subs = 'ra'\n",
      "resultado = 'lanja madu na bei da estda'\n"
     ]
    }
   ],
   "source": [
    "texto = 'Laranja Madura na Beira da Estrada'.lower()\n",
    "print('    texto =', repr(texto))\n",
    "subs = 'ra'\n",
    "print('     subs =', repr(subs))\n",
    "resultado = texto\n",
    "\n",
    "continuar = True\n",
    "while continuar:\n",
    "    ix = resultado.find(subs)\n",
    "    if ix != -1:\n",
    "        resultado = resultado[:ix] + resultado[ix + len(subs):]\n",
    "    else:\n",
    "        continuar = False\n",
    "print('resultado =', repr(resultado))\n"
   ]
  },
  {
   "cell_type": "markdown",
   "metadata": {
    "slideshow": {
     "slide_type": "slide"
    }
   },
   "source": [
    "### Verificar se uma frase é palíndroma\n",
    "Dada uma frase, verificar se ela é palíndroma, desconsiderando acentos, espaços e pontuação. Uma frase é palíndroma se ela puder ser lida igualmente nos dois sentidos."
   ]
  },
  {
   "cell_type": "markdown",
   "metadata": {
    "slideshow": {
     "slide_type": "subslide"
    }
   },
   "source": [
    "Um esboço de solução com alto nível de abstração poderia ser:\n",
    "\n",
    "-   ler a frase\n",
    "-   eliminar caracteres a serem desconsiderados\n",
    "-   verificar se é palíndroma\n",
    "-   exibir o resultado da verificação"
   ]
  },
  {
   "cell_type": "code",
   "execution_count": 36,
   "metadata": {
    "slideshow": {
     "slide_type": "subslide"
    }
   },
   "outputs": [
    {
     "name": "stdout",
     "output_type": "stream",
     "text": [
      "Digite uma frase: Socorram-me, subi no ônibus em Marrocos!\n"
     ]
    }
   ],
   "source": [
    "# ler a frase original\n",
    "frase_ori = input('Digite uma frase: ')"
   ]
  },
  {
   "cell_type": "code",
   "execution_count": 37,
   "metadata": {
    "slideshow": {
     "slide_type": "subslide"
    }
   },
   "outputs": [],
   "source": [
    "import string\n",
    "\n",
    "alfabeto = string.ascii_lowercase\n",
    "Alfabeto = string.ascii_uppercase\n",
    "acentos = 'áàãâéêíóõôúç'\n",
    "sem_acentos = 'aaaaeeiooouc'\n",
    "acentos += acentos.upper()\n",
    "sem_acentos = sem_acentos * 2"
   ]
  },
  {
   "cell_type": "code",
   "execution_count": 38,
   "metadata": {
    "slideshow": {
     "slide_type": "subslide"
    }
   },
   "outputs": [],
   "source": [
    "# criar frase modificada, \n",
    "# omitindo caracteres a serem desconsiderados\n",
    "\n",
    "frase_mod = ''\n",
    "for c in frase_ori:\n",
    "    if c in alfabeto:\n",
    "        frase_mod += c\n",
    "    elif c in Alfabeto:\n",
    "        frase_mod += alfabeto[Alfabeto.index(c)]\n",
    "    elif c in acentos:\n",
    "        frase_mod += sem_acentos[acentos.index(c)]"
   ]
  },
  {
   "cell_type": "code",
   "execution_count": 39,
   "metadata": {
    "slideshow": {
     "slide_type": "subslide"
    }
   },
   "outputs": [],
   "source": [
    "# verificar se a frase modificada é palíndroma\n",
    "\n",
    "meio = len(frase_mod) // 2\n",
    "\n",
    "metade_esq = frase_mod[:meio]\n",
    "metade_dir_rev = frase_mod[:-meio-1:-1]\n",
    "\n",
    "eh_palindroma = (metade_esq == metade_dir_rev)"
   ]
  },
  {
   "cell_type": "code",
   "execution_count": 40,
   "metadata": {
    "slideshow": {
     "slide_type": "subslide"
    }
   },
   "outputs": [
    {
     "name": "stdout",
     "output_type": "stream",
     "text": [
      "'Socorram-me, subi no ônibus em Marrocos!' é palíndroma.\n"
     ]
    }
   ],
   "source": [
    "# exibir o resultado da verificação\n",
    "if eh_palindroma:\n",
    "    print(\"'\" + frase_ori + \"'\", 'é palíndroma.')\n",
    "else:\n",
    "    print(\"'\" + frase_ori + \"'\", 'não é palíndroma.')"
   ]
  },
  {
   "cell_type": "code",
   "execution_count": null,
   "metadata": {},
   "outputs": [],
   "source": []
  }
 ],
 "metadata": {
  "celltoolbar": "Slideshow",
  "kernelspec": {
   "display_name": "Python 3",
   "language": "python",
   "name": "python3"
  },
  "language_info": {
   "codemirror_mode": {
    "name": "ipython",
    "version": 3
   },
   "file_extension": ".py",
   "mimetype": "text/x-python",
   "name": "python",
   "nbconvert_exporter": "python",
   "pygments_lexer": "ipython3",
   "version": "3.6.4"
  },
  "latex_envs": {
   "LaTeX_envs_menu_present": true,
   "autocomplete": true,
   "bibliofile": "biblio.bib",
   "cite_by": "apalike",
   "current_citInitial": 1,
   "eqLabelWithNumbers": true,
   "eqNumInitial": 1,
   "hotkeys": {
    "equation": "Ctrl-E",
    "itemize": "Ctrl-I"
   },
   "labels_anchors": false,
   "latex_user_defs": false,
   "report_style_numbering": false,
   "user_envs_cfg": false
  },
  "toc": {
   "nav_menu": {},
   "number_sections": true,
   "sideBar": true,
   "skip_h1_title": true,
   "title_cell": "Table of Contents",
   "title_sidebar": "Contents",
   "toc_cell": false,
   "toc_position": {},
   "toc_section_display": true,
   "toc_window_display": false
  },
  "varInspector": {
   "cols": {
    "lenName": 16,
    "lenType": 16,
    "lenVar": 40
   },
   "kernels_config": {
    "python": {
     "delete_cmd_postfix": "",
     "delete_cmd_prefix": "del ",
     "library": "var_list.py",
     "varRefreshCmd": "print(var_dic_list())"
    },
    "r": {
     "delete_cmd_postfix": ") ",
     "delete_cmd_prefix": "rm(",
     "library": "var_list.r",
     "varRefreshCmd": "cat(var_dic_list()) "
    }
   },
   "types_to_exclude": [
    "module",
    "function",
    "builtin_function_or_method",
    "instance",
    "_Feature"
   ],
   "window_display": false
  }
 },
 "nbformat": 4,
 "nbformat_minor": 2
}
