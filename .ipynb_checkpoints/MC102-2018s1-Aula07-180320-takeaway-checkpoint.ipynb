{
 "cells": [
  {
   "cell_type": "markdown",
   "metadata": {
    "slideshow": {
     "slide_type": "subslide"
    }
   },
   "source": [
    "## Introdução ao conceito de *lista*\n",
    "Uma *lista* é uma sequência ordenada de objetos, não necessariamente do mesmo tipo, cada um deles identificado por um *índice* indicando sua posição na *lista*.\n",
    "\n",
    "- Uma lista vazia é representada como `[]`."
   ]
  },
  {
   "cell_type": "code",
   "execution_count": 1,
   "metadata": {},
   "outputs": [
    {
     "name": "stdout",
     "output_type": "stream",
     "text": [
      "<class 'list'> []\n",
      "<class 'list'> [1, 2, 3.14, 'abc']\n"
     ]
    }
   ],
   "source": [
    "lst = []\n",
    "print(type(lst), lst)\n",
    "\n",
    "lst = [1, 2, 3.14, 'abc']\n",
    "print(type(lst), lst)"
   ]
  },
  {
   "cell_type": "markdown",
   "metadata": {
    "slideshow": {
     "slide_type": "subslide"
    }
   },
   "source": [
    "\n",
    "- Os *índices* de uma lista são inteiros não-negativos, consecutivos, começando por `0`.\n",
    "\n",
    "  - O item na posição `i` de uma lista `lst` é referenciado por `lst[i]`.\n",
    "  - O último item de uma lista `lst` também pode ser referenciado por `lst[-1]`, o penúltimo por `lst[-2]`, etc."
   ]
  },
  {
   "cell_type": "code",
   "execution_count": 5,
   "metadata": {},
   "outputs": [
    {
     "name": "stdout",
     "output_type": "stream",
     "text": [
      "<class 'list'> [1, 2, 3.14, 'abc']\n",
      "<class 'int'> 1 2 3.14 abc\n",
      "<class 'str'> abc 3.14 2 1\n"
     ]
    }
   ],
   "source": [
    "lst = [1, 2, 3.14, 'abc']\n",
    "print(type(lst), lst)\n",
    "\n",
    "print(type(lst[0]), lst[0], lst[1], lst[2], lst[3])\n",
    "print(type(lst[-1]), lst[-1], lst[-2], lst[-3], lst[-4])"
   ]
  },
  {
   "cell_type": "markdown",
   "metadata": {
    "slideshow": {
     "slide_type": "subslide"
    }
   },
   "source": [
    "\n",
    "- Um item `x` pode ser adicionado a uma lista `lst` executando-se <br>\n",
    "`lst.append(x)` ou `lst = lst + [x]`."
   ]
  },
  {
   "cell_type": "code",
   "execution_count": 15,
   "metadata": {},
   "outputs": [
    {
     "name": "stdout",
     "output_type": "stream",
     "text": [
      "<class 'list'> [1, 2, 3.14, 'abc']\n",
      "<class 'list'> [1, 2, 3.14, 'abc', 56]\n",
      "<class 'list'> ['xyz', 1, 2, 3.14, 'abc', 56, 'e', 't', 'c']\n"
     ]
    }
   ],
   "source": [
    "lst = [1, 2, 3.14, 'abc']\n",
    "print(type(lst), lst)\n",
    "\n",
    "lst.append(56)\n",
    "print(type(lst), lst)\n",
    "\n",
    "lst = ['xyz'] + lst + list('etc')\n",
    "print(type(lst), lst)"
   ]
  },
  {
   "cell_type": "markdown",
   "metadata": {
    "slideshow": {
     "slide_type": "subslide"
    }
   },
   "source": [
    "\n",
    "- A primeira ocorrência de um valor `x` numa lista `lst` pode ser removida executando-se `lst.remove(x)`.\n",
    "- O item na posição `i` da lista `lst` pode ser removido executando-se `lst.pop(i)`."
   ]
  },
  {
   "cell_type": "code",
   "execution_count": 19,
   "metadata": {},
   "outputs": [
    {
     "name": "stdout",
     "output_type": "stream",
     "text": [
      "<class 'list'> [1, 'abc', 2, 3.14, 'abc ']\n",
      "<class 'list'> None [1, 2, 3.14, 'abc ']\n",
      "<class 'list'> <class 'str'> 'abc ' [1, 2, 3.14]\n"
     ]
    }
   ],
   "source": [
    "lst = [1, 'abc', 2, 3.14, 'abc ']\n",
    "print(type(lst), lst)\n",
    "\n",
    "x = lst.remove('abc')\n",
    "print(type(lst), x, lst)\n",
    "\n",
    "x = lst.pop(3)\n",
    "print(type(lst), type(x), repr(x), lst)"
   ]
  },
  {
   "cell_type": "markdown",
   "metadata": {
    "slideshow": {
     "slide_type": "slide"
    }
   },
   "source": [
    "## O comando **for**\n",
    "Este é um recurso poderoso e versátil para a implementação de iterações.\n",
    "\n",
    "Sua forma básica é...\n",
    "```python\n",
    "for variável in objeto_iterável:  \n",
    "    suite\n",
    "```\n",
    "Um `objeto_iterável` é algum objeto composto que possa fornecer itens, um a um, p.ex. listas, strings, tuplas, etc.\n",
    "\n",
    "Um comando __`for`__ extrai um item do `objeto_iterável`, associa esse item à `variável` e executa a `suite`.\n",
    "\n",
    "Quando a `suite` termina, o processo se repete.\n",
    "\n",
    "Quando o `objeto_iterável` se esgota, o comando __`for`__ termina. Se, no início, o `objeto_iterável` já estiver vazio, o comando __`for`__ termina sem produzir qualquer efeito."
   ]
  },
  {
   "cell_type": "markdown",
   "metadata": {
    "slideshow": {
     "slide_type": "slide"
    }
   },
   "source": [
    "Examine o código abaixo..."
   ]
  },
  {
   "cell_type": "code",
   "execution_count": 34,
   "metadata": {
    "scrolled": true,
    "slideshow": {
     "slide_type": "fragment"
    }
   },
   "outputs": [
    {
     "name": "stdout",
     "output_type": "stream",
     "text": [
      "<class 'int'> 123\n",
      "<class 'str'> 'Maria'\n",
      "<class 'float'> 3.14\n",
      "<class 'str'> 'Ana'\n",
      "[123, 'Maria', 3.14, 'Ana'] Ana\n"
     ]
    }
   ],
   "source": [
    "nomes = [123, \"Maria\", 3.14, \"Ana\"]\n",
    "for estudante in nomes:\n",
    "    # print(\"Olá, \" + estudante + \". Você está gostando de MC102?\")\n",
    "    print(type(estudante), repr(estudante))\n",
    "print(nomes, estudante)"
   ]
  },
  {
   "cell_type": "code",
   "execution_count": 39,
   "metadata": {},
   "outputs": [
    {
     "data": {
      "text/plain": [
       "[6]"
      ]
     },
     "execution_count": 39,
     "metadata": {},
     "output_type": "execute_result"
    }
   ],
   "source": [
    "[3 + 3] "
   ]
  },
  {
   "cell_type": "markdown",
   "metadata": {
    "slideshow": {
     "slide_type": "fragment"
    }
   },
   "source": [
    "Vamos examinar a estrutura do **`for`** neste exemplo:\n",
    "\n",
    "- Na linha 1, `estudante` representa a *`variável`* do loop.\n",
    "- Os nomes entre colchetes compõem uma *`lista`* (que é um *`objeto_iterável`*).\n",
    "- O operador **`in`** tem o significado `que faça parte de`.\n",
    "- A linha 2 é a *`suite`*. Uma *`suite`* é composta por um ou mais comandos igualmente indentados e fica recuada em relação ao **`for`** (tipicamente 4 espaços).\n",
    "\n",
    "Você pode ler esse comando como...\n",
    "> para todo `estudante` que faça parte da *`lista`* execute a *`suite`*"
   ]
  },
  {
   "cell_type": "markdown",
   "metadata": {
    "slideshow": {
     "slide_type": "subslide"
    }
   },
   "source": [
    "```python\n",
    "for estudante in [\"José\", \"Maria\", \"Francisco\", \"Ana\"]:\n",
    "    print(\"Olá,\", estudante + \".\", \"Você está gostando de MC102?\")\n",
    "```"
   ]
  },
  {
   "cell_type": "markdown",
   "metadata": {
    "slideshow": {
     "slide_type": "fragment"
    }
   },
   "source": [
    "Vamos entender como esse **`for`** funciona:\n",
    "\n",
    "- O comando começa examinando o *`objeto_iterável`*, neste caso uma lista.\n",
    "\n",
    "  - Como ela não está vazia, a *`variável`* é associada ao primeiro item da lista, neste caso `'José'` e a *`suite`* é executada.\n",
    "- No final de uma execução da *`suite`*, Python retorna ao início para ver se há mais itens a serem processados. \n",
    "\n",
    "  - Se não houver nenhum, o **for** termina e a execução do programa continua no comando seguinte à *suite*.\n",
    "  - Caso contrário, a *variável* é associada ao próximo item da *lista* e a *suite* é executada novamente."
   ]
  },
  {
   "cell_type": "markdown",
   "metadata": {
    "slideshow": {
     "slide_type": "subslide"
    }
   },
   "source": [
    "Por exemplo, entenda e depois execute o código abaixo..."
   ]
  },
  {
   "cell_type": "code",
   "execution_count": 40,
   "metadata": {
    "slideshow": {
     "slide_type": "-"
    }
   },
   "outputs": [
    {
     "name": "stdout",
     "output_type": "stream",
     "text": [
      "0 0\n",
      "1 1\n",
      "2 4\n",
      "3 9\n",
      "4 16\n"
     ]
    }
   ],
   "source": [
    "for x in [0, 1, 2, 3, 4]:\n",
    "    print(x, x ** 2)"
   ]
  },
  {
   "cell_type": "markdown",
   "metadata": {},
   "source": [
    "É possível aninhar `for`s para gerar combinações. Por exemplo..."
   ]
  },
  {
   "cell_type": "code",
   "execution_count": 51,
   "metadata": {},
   "outputs": [
    {
     "name": "stdout",
     "output_type": "stream",
     "text": [
      "Ford   preto\n",
      "Ford   branco\n",
      "-----------------\n",
      "Volkswagen  preto\n",
      "Volkswagen  branco\n",
      "-----------------\n",
      "Kia    preto\n",
      "Kia    branco\n",
      "-----------------\n",
      "Fim da tabela\n"
     ]
    }
   ],
   "source": [
    "marcas = ['Ford', 'Volkswagen', 'Kia']\n",
    "cores = ['preto', 'branco']\n",
    "\n",
    "for marca in marcas:\n",
    "    for cor in cores:\n",
    "        # print(format(marca, '10'), cor)\n",
    "        print(f'{marca:5}  {cor}')\n",
    "    print('-'*17)\n",
    "print('Fim da tabela')"
   ]
  },
  {
   "cell_type": "markdown",
   "metadata": {},
   "source": [
    "O aninhamento de `for`s também nos permite percorrer listas de listas. Por exemplo..."
   ]
  },
  {
   "cell_type": "code",
   "execution_count": 58,
   "metadata": {},
   "outputs": [
    {
     "name": "stdout",
     "output_type": "stream",
     "text": [
      "11 12 13 \n",
      "21 22 23 \n",
      "31 32 33 \n"
     ]
    }
   ],
   "source": [
    "llista = [[11, 12, 13], [21, 22, 23], [31, 32, 33]]\n",
    "for linha in llista:\n",
    "    for x in linha:\n",
    "        print(x, end=' ')\n",
    "    print()"
   ]
  },
  {
   "cell_type": "markdown",
   "metadata": {},
   "source": [
    "Da mesma forma, poderíamos linearizar `llista`,..."
   ]
  },
  {
   "cell_type": "code",
   "execution_count": 60,
   "metadata": {},
   "outputs": [
    {
     "name": "stdout",
     "output_type": "stream",
     "text": [
      "[11, 12, 13, 21, 22, 23, 31, 32, 33]\n"
     ]
    }
   ],
   "source": [
    "llista = [[11, 12, 13], [21, 22, 23], [31, 32, 33]]\n",
    "llin = []\n",
    "for linha in llista:\n",
    "    for x in linha:\n",
    "        llin += [x]\n",
    "print(llin)"
   ]
  },
  {
   "cell_type": "markdown",
   "metadata": {},
   "source": [
    "... mas neste caso dá pra fazer mais simples..."
   ]
  },
  {
   "cell_type": "code",
   "execution_count": 61,
   "metadata": {},
   "outputs": [
    {
     "name": "stdout",
     "output_type": "stream",
     "text": [
      "[11, 12, 13, 21, 22, 23, 31, 32, 33]\n"
     ]
    }
   ],
   "source": [
    "llista = [[11, 12, 13], [21, 22, 23], [31, 32, 33]]\n",
    "llin = []\n",
    "for linha in llista:\n",
    "    llin += linha\n",
    "print(llin)"
   ]
  },
  {
   "cell_type": "markdown",
   "metadata": {
    "slideshow": {
     "slide_type": "fragment"
    }
   },
   "source": [
    "O uso de uma sequência de inteiros como *objeto iterável* num `for` é frequente e mereceu uma função específica..."
   ]
  },
  {
   "cell_type": "markdown",
   "metadata": {
    "slideshow": {
     "slide_type": "subslide"
    }
   },
   "source": [
    "### A função `range()`"
   ]
  },
  {
   "cell_type": "markdown",
   "metadata": {},
   "source": [
    "Uma chamada `range(`_stop_`)` gera todos os valores inteiros pertencentes ao intervalo `[0..`_`stop`_`)`.\n",
    "\n",
    "Note que o intervalo é fechado à esquerda (inclui o `0`), mas é aberto à direita (__não__ inclui _`stop`_)."
   ]
  },
  {
   "cell_type": "code",
   "execution_count": 62,
   "metadata": {
    "scrolled": false,
    "slideshow": {
     "slide_type": "-"
    }
   },
   "outputs": [
    {
     "name": "stdout",
     "output_type": "stream",
     "text": [
      "0\n",
      "1\n",
      "2\n"
     ]
    }
   ],
   "source": [
    "for x in range(3):\n",
    "    print(x)"
   ]
  },
  {
   "cell_type": "markdown",
   "metadata": {},
   "source": [
    "Uma chamada `range(`_start_, _stop_`)` gera todos os valores inteiros pertencentes ao intervalo `[`_start_ .. _stop_`)`.\n",
    "\n",
    "Note que o intervalo é fechado à esquerda (inclui _start_), mas é aberto à direita (__não__ inclui _stop_)."
   ]
  },
  {
   "cell_type": "code",
   "execution_count": 66,
   "metadata": {
    "scrolled": false,
    "slideshow": {
     "slide_type": "-"
    }
   },
   "outputs": [],
   "source": [
    "for x in range(4, 3):\n",
    "    print(x)"
   ]
  },
  {
   "cell_type": "markdown",
   "metadata": {},
   "source": [
    "Se _start_ `>` _stop_, `range` não produz qualquer efeito, mas também não gera uma exceção."
   ]
  },
  {
   "cell_type": "code",
   "execution_count": null,
   "metadata": {
    "scrolled": false,
    "slideshow": {
     "slide_type": "-"
    }
   },
   "outputs": [],
   "source": [
    "for x in range(4, 3):\n",
    "    print(x)"
   ]
  },
  {
   "cell_type": "markdown",
   "metadata": {},
   "source": [
    "Finalmente, uma chamada `range(`_start_, _stop_, _step_`)` gera todos os valores inteiros no intervalo `[`_start_, _start_ + _step_, ... _stop_`)`, onde...  \n",
    "\n",
    "- _start_: limite inferior\n",
    "- _stop_: limite superior\n",
    "- _step_: tamanho do passo, isto é valor adicionado ao item atual para gerar o próximo\n",
    "\n",
    "O intervalo é fechado à esquerda (inclui _start_), mas é aberto à direita (**não** inclui _stop_)."
   ]
  },
  {
   "cell_type": "code",
   "execution_count": 67,
   "metadata": {
    "scrolled": true
   },
   "outputs": [
    {
     "name": "stdout",
     "output_type": "stream",
     "text": [
      "1\n",
      "4\n",
      "7\n"
     ]
    }
   ],
   "source": [
    "for x in range(1, 10, 3):\n",
    "    print(x)"
   ]
  },
  {
   "cell_type": "markdown",
   "metadata": {},
   "source": [
    "Respeitada a definição, é possível usar valores negativos como argumentos numa chamada de `range`..."
   ]
  },
  {
   "cell_type": "code",
   "execution_count": 69,
   "metadata": {
    "scrolled": true
   },
   "outputs": [
    {
     "name": "stdout",
     "output_type": "stream",
     "text": [
      "2\n",
      "0\n",
      "-2\n"
     ]
    }
   ],
   "source": [
    "for x in range(2,-4,-2):\n",
    "    print(x)"
   ]
  },
  {
   "cell_type": "markdown",
   "metadata": {},
   "source": [
    "O fato de o intervalo ser fechado à esquerda e aberto à direita tem propriedades interessantes. Por exemplo, intervalos adjacentes fundem-se naturalmente..."
   ]
  },
  {
   "cell_type": "code",
   "execution_count": 70,
   "metadata": {},
   "outputs": [
    {
     "name": "stdout",
     "output_type": "stream",
     "text": [
      "n = 8   k = 5\n"
     ]
    }
   ],
   "source": [
    "n = 8\n",
    "k = 5\n",
    "print('n =', n, '  k =', k)"
   ]
  },
  {
   "cell_type": "code",
   "execution_count": 71,
   "metadata": {},
   "outputs": [
    {
     "name": "stdout",
     "output_type": "stream",
     "text": [
      "range(0, n) = [0, 1, 2, 3, 4, 5, 6, 7]\n"
     ]
    }
   ],
   "source": [
    "print('range(0, n) =', list(range(0, n)))"
   ]
  },
  {
   "cell_type": "code",
   "execution_count": 72,
   "metadata": {},
   "outputs": [
    {
     "name": "stdout",
     "output_type": "stream",
     "text": [
      "range(0, k) = [0, 1, 2, 3, 4]\n"
     ]
    }
   ],
   "source": [
    "print('range(0, k) =', list(range(0, k)))"
   ]
  },
  {
   "cell_type": "code",
   "execution_count": 73,
   "metadata": {},
   "outputs": [
    {
     "name": "stdout",
     "output_type": "stream",
     "text": [
      "range(k, n) = [5, 6, 7]\n"
     ]
    }
   ],
   "source": [
    "print('range(k, n) =', list(range(k, n)))"
   ]
  },
  {
   "cell_type": "code",
   "execution_count": 74,
   "metadata": {
    "scrolled": true
   },
   "outputs": [
    {
     "name": "stdout",
     "output_type": "stream",
     "text": [
      "range(0, k) + range(k, n) = [0, 1, 2, 3, 4, 5, 6, 7]\n"
     ]
    }
   ],
   "source": [
    "print('range(0, k) + range(k, n) =', \n",
    "      list(range(0, k)) + list(range(k, n)))"
   ]
  }
 ],
 "metadata": {
  "kernelspec": {
   "display_name": "Python 3",
   "language": "python",
   "name": "python3"
  },
  "language_info": {
   "codemirror_mode": {
    "name": "ipython",
    "version": 3
   },
   "file_extension": ".py",
   "mimetype": "text/x-python",
   "name": "python",
   "nbconvert_exporter": "python",
   "pygments_lexer": "ipython3",
   "version": "3.6.4"
  },
  "latex_envs": {
   "LaTeX_envs_menu_present": true,
   "autocomplete": true,
   "bibliofile": "biblio.bib",
   "cite_by": "apalike",
   "current_citInitial": 1,
   "eqLabelWithNumbers": true,
   "eqNumInitial": 1,
   "hotkeys": {
    "equation": "Ctrl-E",
    "itemize": "Ctrl-I"
   },
   "labels_anchors": false,
   "latex_user_defs": false,
   "report_style_numbering": false,
   "user_envs_cfg": false
  },
  "toc": {
   "nav_menu": {},
   "number_sections": false,
   "sideBar": true,
   "skip_h1_title": false,
   "title_cell": "Table of Contents",
   "title_sidebar": "Contents",
   "toc_cell": false,
   "toc_position": {},
   "toc_section_display": true,
   "toc_window_display": false
  },
  "varInspector": {
   "cols": {
    "lenName": 16,
    "lenType": 16,
    "lenVar": 40
   },
   "kernels_config": {
    "python": {
     "delete_cmd_postfix": "",
     "delete_cmd_prefix": "del ",
     "library": "var_list.py",
     "varRefreshCmd": "print(var_dic_list())"
    },
    "r": {
     "delete_cmd_postfix": ") ",
     "delete_cmd_prefix": "rm(",
     "library": "var_list.r",
     "varRefreshCmd": "cat(var_dic_list()) "
    }
   },
   "types_to_exclude": [
    "module",
    "function",
    "builtin_function_or_method",
    "instance",
    "_Feature"
   ],
   "window_display": false
  }
 },
 "nbformat": 4,
 "nbformat_minor": 2
}
