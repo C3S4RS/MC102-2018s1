{
 "cells": [
  {
   "cell_type": "markdown",
   "metadata": {
    "slideshow": {
     "slide_type": "slide"
    }
   },
   "source": [
    "# Iteração"
   ]
  },
  {
   "cell_type": "markdown",
   "metadata": {
    "slideshow": {
     "slide_type": "fragment"
    }
   },
   "source": [
    "Os recursos de programação que vimos até agora não nos habilitam a resolver qualquer classe de problemas.\n",
    "\n",
    "Imagine, por exemplo, um programa que deva ler um inteiro positivo e depois imprimir essa quantidade de Xs."
   ]
  },
  {
   "cell_type": "markdown",
   "metadata": {
    "slideshow": {
     "slide_type": "subslide"
    }
   },
   "source": [
    "Para resolver esse problema, poderíamos pensar em algo como...\n",
    "```python\n",
    "numXs = int(input(\"Quantos Xs? \"))\n",
    "if numXs == 1:\n",
    "   print(\"X\")\n",
    "elif numXs == 2:\n",
    "   print(\"XX\")\n",
    "elif numXs == 3:\n",
    "   print(\"XXX\")\n",
    "...\n",
    "```"
   ]
  },
  {
   "cell_type": "markdown",
   "metadata": {
    "slideshow": {
     "slide_type": "fragment"
    }
   },
   "source": [
    "Isso funciona?"
   ]
  },
  {
   "cell_type": "markdown",
   "metadata": {
    "slideshow": {
     "slide_type": "subslide"
    }
   },
   "source": [
    "Quantos testes serão necessários?  \n",
    "O que fazer para adivinhar a resposta do usuário?"
   ]
  },
  {
   "cell_type": "markdown",
   "metadata": {
    "slideshow": {
     "slide_type": "subslide"
    }
   },
   "source": [
    "E se nossa solução fosse esta?"
   ]
  },
  {
   "cell_type": "code",
   "execution_count": 17,
   "metadata": {},
   "outputs": [
    {
     "name": "stdout",
     "output_type": "stream",
     "text": [
      "1\n",
      "2\n"
     ]
    }
   ],
   "source": [
    "print(1, end='\\n')\n",
    "print(2)"
   ]
  },
  {
   "cell_type": "markdown",
   "metadata": {
    "slideshow": {
     "slide_type": "fragment"
    }
   },
   "source": [
    "```python\n",
    "numXs = int(input(\"Quantos Xs? \"))\n",
    "ainda_faltam = numXs\n",
    "if ainda_faltam > 0:\n",
    "   print(\"X\", end='')\n",
    "   ainda_faltam -= 1\n",
    "if ainda_faltam > 0:\n",
    "   print(\"X\", end='')\n",
    "   ainda_faltam -= 1\n",
    "if ...\n",
    "```"
   ]
  },
  {
   "cell_type": "markdown",
   "metadata": {
    "slideshow": {
     "slide_type": "subslide"
    }
   },
   "source": [
    "E se fosse esta outra?"
   ]
  },
  {
   "cell_type": "markdown",
   "metadata": {
    "slideshow": {
     "slide_type": "fragment"
    }
   },
   "source": [
    "```python\n",
    "numXs = int(input(\"Quantos Xs? \"))\n",
    "ja_fiz = 0\n",
    "if ja_fiz < numXs:\n",
    "   print(\"X\")\n",
    "   ja_fiz += 1\n",
    "elif ja_fiz < numXs:\n",
    "   print(\"X\")\n",
    "   ja_fiz += 1\n",
    "elif ...\n",
    "```"
   ]
  },
  {
   "cell_type": "markdown",
   "metadata": {
    "slideshow": {
     "slide_type": "subslide"
    }
   },
   "source": [
    "A diferença, nesses dois últimos casos, é que um mesmo conjunto de comandos foi usado repetidas vezes.\n",
    "\n",
    "Nesses dois casos, `ainda_faltam` e `ja_fiz` são chamadas *variáveis contadoras* — variáveis auxiliares cujos valores vão sendo incrementados ou decrementados passo a passo até que satisfaçam uma dada condição.\n",
    "\n",
    "Uma vez satisfeita essa condição, nenhum outro `if` consegue ser executado."
   ]
  },
  {
   "cell_type": "markdown",
   "metadata": {
    "slideshow": {
     "slide_type": "subslide"
    }
   },
   "source": [
    "O problema, no entanto, permanece.\n",
    "\n",
    "Quantos `if`s são necessários?"
   ]
  },
  {
   "cell_type": "markdown",
   "metadata": {
    "slideshow": {
     "slide_type": "subslide"
    }
   },
   "source": [
    "A execução repetida de um conjunto de comandos é chamada *iteração* e é implementada por comandos específicos em todas as linguagens de alto nível.\n",
    "\n",
    "Python, em particular, oferece duas estruturas, que serão examinadas em seguida."
   ]
  },
  {
   "cell_type": "markdown",
   "metadata": {
    "slideshow": {
     "slide_type": "slide"
    }
   },
   "source": [
    "## O comando `while`"
   ]
  },
  {
   "cell_type": "markdown",
   "metadata": {
    "slideshow": {
     "slide_type": "fragment"
    }
   },
   "source": [
    "Um comando `while` executa repetidamente uma *suite* de comandos **enquanto** uma dada *condição* for verdadeira e tem a seguinte estrutura básica...\n",
    "```python\n",
    "while condição:\n",
    "    suite\n",
    "```\n",
    "\n",
    "Um comando `while` começa avaliando a *condição*. \n",
    "- Se a *condição* for considerada `False`, o `while` termina sem qualquer efeito e o controle passa para o próximo comando na sequência.\n",
    "- Se a *condição* for considerada `True`, a *suite* é executada, após o que a *condição* é reavaliada e o processo se repete. "
   ]
  },
  {
   "cell_type": "markdown",
   "metadata": {
    "slideshow": {
     "slide_type": "subslide"
    }
   },
   "source": [
    "Examinando a estrutura típica de um `while`...\n",
    "```python\n",
    "while condição:\n",
    "    suite\n",
    "```\n",
    "podemos tirar duas conclusões importantes:"
   ]
  },
  {
   "cell_type": "markdown",
   "metadata": {
    "slideshow": {
     "slide_type": "fragment"
    }
   },
   "source": [
    "- O código que antecede o `while` deve inicializar as variáveis que aparecem na *condição* para permitir sua avaliação inicial."
   ]
  },
  {
   "cell_type": "markdown",
   "metadata": {
    "slideshow": {
     "slide_type": "fragment"
    }
   },
   "source": [
    "- Para evitar que o `while` execute eternamente, a *suite* deve atualizar os valores associados a algumas variáveis da *condição* de modo que, após um número finito de iterações, esta seja avaliada como `False`. "
   ]
  },
  {
   "cell_type": "markdown",
   "metadata": {
    "slideshow": {
     "slide_type": "subslide"
    }
   },
   "source": [
    "### Exemplo: Exibir um número arbitrário de Xs\n",
    "Uma vez entendido o funcionamento do `while`, será possível resolver o exemplo anterior?"
   ]
  },
  {
   "cell_type": "code",
   "execution_count": null,
   "metadata": {
    "slideshow": {
     "slide_type": "fragment"
    }
   },
   "outputs": [],
   "source": [
    "numXs = int(input(\"Quantos Xs? \"))\n",
    "ainda_faltam = numXs\n",
    "while ainda_faltam > 0:\n",
    "   print(\"X\")\n",
    "   ainda_faltam -= 1"
   ]
  },
  {
   "cell_type": "markdown",
   "metadata": {
    "slideshow": {
     "slide_type": "subslide"
    }
   },
   "source": [
    "Note que...\n",
    "- `ainda_faltam` é inicializado na linha 2, antes de ser usado na *condição* da linha 3.\n",
    "- `ainda_faltam` é decrementado na linha 5, o que faz com que o resultado da avaliação da *condição* da linha 3 se torne `False` após um número finito de iterações."
   ]
  },
  {
   "cell_type": "code",
   "execution_count": null,
   "metadata": {
    "slideshow": {
     "slide_type": "skip"
    }
   },
   "outputs": [],
   "source": [
    "numXs = int(input(\"Quantos Xs? \"))\n",
    "ja_fiz = 0\n",
    "while :\n",
    "   print(\"X\")\n",
    "   "
   ]
  },
  {
   "cell_type": "markdown",
   "metadata": {
    "slideshow": {
     "slide_type": "subslide"
    }
   },
   "source": [
    "Note que...\n",
    "- `ja_fiz` é inicializado na linha 2, antes de ser usado na *condição* da linha 3.\n",
    "- `ja_fiz` é incrementado na linha 5, o que faz com que o resultado da avaliação da *condição* da linha 3 se torne `False` após um número finito de iterações."
   ]
  },
  {
   "cell_type": "markdown",
   "metadata": {
    "slideshow": {
     "slide_type": "subslide"
    }
   },
   "source": [
    "### Exemplo: *Encontrar o mínimo múltiplo comum de dois inteiros positivos dados*\n",
    "\n",
    "**Problema.** Ler dois inteiros positivos e exibir o menor inteiro que pode ser dividido por ambos, sem deixar resto."
   ]
  },
  {
   "cell_type": "markdown",
   "metadata": {
    "slideshow": {
     "slide_type": "subslide"
    }
   },
   "source": [
    "**Solução.** Este problema pode ser resolvido por força bruta, se testarmos possíveis candidatos em ordem crescente."
   ]
  },
  {
   "cell_type": "code",
   "execution_count": 20,
   "metadata": {
    "slideshow": {
     "slide_type": "fragment"
    }
   },
   "outputs": [
    {
     "name": "stdout",
     "output_type": "stream",
     "text": [
      "Primeiro número? 4\n",
      "Segundo número? 5\n",
      "O mínimo múltiplo comum de 4 e 5 é 20\n"
     ]
    }
   ],
   "source": [
    "a = int(input('Primeiro número? '))\n",
    "b = int(input('Segundo número? '))\n",
    "mmc = 1\n",
    "while (mmc % a != 0) or (mmc % b != 0):\n",
    "    mmc += 1\n",
    "print('O mínimo múltiplo comum de', a, 'e', b, 'é', mmc)"
   ]
  },
  {
   "cell_type": "code",
   "execution_count": null,
   "metadata": {},
   "outputs": [],
   "source": [
    "(mmc é divisível por a) e (mmc é divisível por b)"
   ]
  },
  {
   "cell_type": "code",
   "execution_count": null,
   "metadata": {
    "slideshow": {
     "slide_type": "skip"
    }
   },
   "outputs": [],
   "source": [
    "a = int(input('Primeiro número? '))\n",
    "b = int(input('Segundo número? '))\n",
    "mmc = 1\n",
    "while (mmc % a != 0) or (mmc % b != 0):\n",
    "    mmc += 1\n",
    "print('O mínimo múltiplo comum de', a, 'e', b, 'é', mmc)"
   ]
  },
  {
   "cell_type": "markdown",
   "metadata": {
    "slideshow": {
     "slide_type": "subslide"
    }
   },
   "source": [
    "### Exemplo: *Achar o maior número ímpar entre 5 candidatos inteiros não-negativos*\n",
    "**Problema.** Ler 5 inteiros não-negativos e mostrar o maior número ímpar dentre eles ou uma mensagem apropriada caso todos sejam pares."
   ]
  },
  {
   "cell_type": "markdown",
   "metadata": {
    "slideshow": {
     "slide_type": "subslide"
    }
   },
   "source": [
    "**Raciocínio**\n",
    "- Como ainda não sabemos como armazenar uma coleção de objetos, vamos ter que tomar decisões à medida em que formos lendo os candidatos."
   ]
  },
  {
   "cell_type": "markdown",
   "metadata": {
    "slideshow": {
     "slide_type": "subslide"
    }
   },
   "source": [
    "**Raciocínio**\n",
    "- Pense numa variável como sendo um *post-it* que pode ser aplicado a um objeto qualquer.\n",
    "- Suponha que o *post-it* esteja grudado no maior ímpar já lido. Ao lermos um novo ímpar __maior do que aquele que está com o *post-it*__, transferimos o *post-it* para ele."
   ]
  },
  {
   "cell_type": "markdown",
   "metadata": {
    "slideshow": {
     "slide_type": "subslide"
    }
   },
   "source": [
    "**Raciocínio**\n",
    "- Repetimos esse raciocínio 5 vezes e, ao final, quem estiver com o *post-it* será a resposta desejada."
   ]
  },
  {
   "cell_type": "markdown",
   "metadata": {
    "slideshow": {
     "slide_type": "subslide"
    }
   },
   "source": [
    "**Pergunta**: Quem vai estar com o *post-it* no início do programa?"
   ]
  },
  {
   "cell_type": "markdown",
   "metadata": {
    "slideshow": {
     "slide_type": "fragment"
    }
   },
   "source": [
    "- Como ainda não lemos número algum, uma saída é colar o *post-it* num ___\"candidato imaginário e impossível\"___ que seja superado pelo primeiro número ímpar que aparecer, qualquer que seja ele."
   ]
  },
  {
   "cell_type": "markdown",
   "metadata": {
    "slideshow": {
     "slide_type": "subslide"
    }
   },
   "source": [
    "Como encontrar um ***\"candidato imaginário e impossível\"***?"
   ]
  },
  {
   "cell_type": "markdown",
   "metadata": {
    "slideshow": {
     "slide_type": "fragment"
    }
   },
   "source": [
    "- Como o enunciado nos diz que todos os candidatos serão não-negativos, qualquer inteiro negativo (p.ex. `-1`) pode servir como *\"candidato impossível\"*.\n",
    "- Além disso, se ao final o *post-it* ainda estiver com ele, saberemos com certeza que todos os números lidos foram pares."
   ]
  },
  {
   "cell_type": "markdown",
   "metadata": {
    "slideshow": {
     "slide_type": "subslide"
    }
   },
   "source": [
    "Com isso já podemos esboçar uma solução para o nosso problema.\n",
    "\n",
    "Vamos usar o modelo de *engenharia reversa* e supor que o resultado desejado seja associado a uma variável `maior_impar`, inicializada com o valor do *candidato imaginário e impossível* `-1`.\n",
    "\n",
    "Qual seria um possível *último comando*?"
   ]
  },
  {
   "cell_type": "code",
   "execution_count": null,
   "metadata": {
    "slideshow": {
     "slide_type": "subslide"
    }
   },
   "outputs": [],
   "source": [
    "maior_impar = -1\n",
    "\n",
    "\n",
    "if maior_impar == -1:"
   ]
  },
  {
   "cell_type": "code",
   "execution_count": null,
   "metadata": {
    "slideshow": {
     "slide_type": "skip"
    }
   },
   "outputs": [],
   "source": [
    "maior_impar = -1\n",
    "i = 0\n",
    "while i < 5:\n",
    "    cand = int(input('Próximo número? '))\n",
    "    if (cand % 2 != 0) and (cand > maior_impar):\n",
    "        maior_impar = cand\n",
    "    i += 1\n",
    "if maior_impar != -1:\n",
    "    print(\"maior ímpar =\", maior_impar)\n",
    "else:\n",
    "    print(\"Nenhum candidato ímpar.\")"
   ]
  },
  {
   "cell_type": "markdown",
   "metadata": {},
   "source": [
    "Podemos agora criar o loop usando uma variável contadora..."
   ]
  },
  {
   "cell_type": "code",
   "execution_count": null,
   "metadata": {},
   "outputs": [],
   "source": [
    "maior_impar = -1\n",
    "num_cands_lidos = 0\n",
    "while :\n",
    "\n",
    "    \n",
    "if maior_impar != -1:\n",
    "    print(\"maior ímpar =\", maior_impar)\n",
    "else:\n",
    "    print(\"Nenhum candidato ímpar.\")"
   ]
  },
  {
   "cell_type": "code",
   "execution_count": null,
   "metadata": {
    "slideshow": {
     "slide_type": "skip"
    }
   },
   "outputs": [],
   "source": [
    "maior_impar = -1\n",
    "num_cands_lidos = 0\n",
    "while num_cands_lidos < 5:\n",
    "\n",
    "    \n",
    "    num_cands_lidos += 1\n",
    "if maior_impar != -1:\n",
    "    print(\"maior ímpar =\", maior_impar)\n",
    "else:\n",
    "    print(\"Nenhum candidato ímpar.\")"
   ]
  },
  {
   "cell_type": "markdown",
   "metadata": {
    "slideshow": {
     "slide_type": "subslide"
    }
   },
   "source": [
    "Agora podemos ler um candidato..."
   ]
  },
  {
   "cell_type": "code",
   "execution_count": null,
   "metadata": {
    "slideshow": {
     "slide_type": "fragment"
    }
   },
   "outputs": [],
   "source": [
    "maior_impar = -1\n",
    "num_cands_lidos = 0\n",
    "while num_cands_lidos < 5:\n",
    "\n",
    "    \n",
    "    num_cands_lidos += 1\n",
    "if maior_impar != -1:\n",
    "    print(\"maior ímpar =\", maior_impar)\n",
    "else:\n",
    "    print(\"Nenhum candidato ímpar.\")"
   ]
  },
  {
   "cell_type": "code",
   "execution_count": null,
   "metadata": {
    "slideshow": {
     "slide_type": "skip"
    }
   },
   "outputs": [],
   "source": [
    "maior_impar = -1\n",
    "num_cands_lidos = 0\n",
    "while num_cands_lidos < 5:\n",
    "    cand = int(input(\"Candidato \" + str(num_cands_lidos) + \"? \"))\n",
    "\n",
    "    num_cands_lidos += 1\n",
    "if maior_impar != -1:\n",
    "    print(\"maior ímpar =\", maior_impar)\n",
    "else:\n",
    "    print(\"Nenhum candidato ímpar.\")"
   ]
  },
  {
   "cell_type": "markdown",
   "metadata": {
    "slideshow": {
     "slide_type": "subslide"
    }
   },
   "source": [
    "E, finalmente, testar se o *post-it* deve ser passado para ele..."
   ]
  },
  {
   "cell_type": "code",
   "execution_count": null,
   "metadata": {
    "slideshow": {
     "slide_type": "fragment"
    }
   },
   "outputs": [],
   "source": [
    "maior_impar = -1\n",
    "num_cands_lidos = 0\n",
    "while num_cands_lidos < 5:\n",
    "    cand = int(input(\"Candidato \" + str(num_cands_lidos) + \"? \"))\n",
    "\n",
    "    num_cands_lidos += 1\n",
    "if maior_impar != -1:\n",
    "    print(\"maior ímpar =\", maior_impar)\n",
    "else:\n",
    "    print(\"Nenhum candidato ímpar.\")"
   ]
  },
  {
   "cell_type": "code",
   "execution_count": null,
   "metadata": {
    "slideshow": {
     "slide_type": "skip"
    }
   },
   "outputs": [],
   "source": [
    "maior_impar = -1\n",
    "num_cands_lidos = 0\n",
    "while num_cands_lidos < 5:\n",
    "    cand = int(input(\"Candidato \" + str(num_cands_lidos) + \"? \"))\n",
    "    if cand % 2 == 1 and cand > maior_impar:\n",
    "        maior_impar = cand\n",
    "    num_cands_lidos += 1\n",
    "if maior_impar != -1:\n",
    "    print(\"maior ímpar =\", maior_impar)\n",
    "else:\n",
    "    print(\"Nenhum candidato ímpar.\")"
   ]
  },
  {
   "cell_type": "markdown",
   "metadata": {
    "slideshow": {
     "slide_type": "skip"
    }
   },
   "source": [
    "E assim temos uma solução para o nosso problema...\n",
    "```Python\n",
    "maior_impar = -1\n",
    "num_cands_lidos = 0\n",
    "while num_cands_lidos < 5:\n",
    "    cand = int(input(\"Candidato \" + num_cands_lidos + \"? \"))\n",
    "    if cand % 2 == 1 and cand > maior_impar:\n",
    "        maior_impar = cand\n",
    "    num_cands_lidos += 1\n",
    "if maior_impar != -1:\n",
    "    print(\"maior ímpar =\", maior_impar)\n",
    "else:\n",
    "    print(\"Nenhum candidato ímpar.\")\n",
    "```"
   ]
  },
  {
   "cell_type": "markdown",
   "metadata": {
    "slideshow": {
     "slide_type": "subslide"
    }
   },
   "source": [
    "Embora correta, essa solução desperta pelo menos duas preocupações:\n",
    "- Nem sempre será possível tomar decisões sem poder examinar simultaneamente todos os candidatos.\n",
    "- Para controlar o loop, tivemos que criar e gerenciar uma variável `num_cands_lidos` que não nos interessava diretamente."
   ]
  },
  {
   "cell_type": "markdown",
   "metadata": {
    "slideshow": {
     "slide_type": "subslide"
    }
   },
   "source": [
    "## Introdução ao conceito de *lista*\n",
    "Uma *lista* é uma sequência ordenada de objetos, cada um deles identificado por um *índice* indicando sua posição na *lista*.\n",
    "- Os *índices* de uma lista são inteiros não-negativos, consecutivos, começando por `0`.\n",
    "- Uma lista vazia é representada como `[]`.\n",
    "- Um item `x` pode ser adicionado a uma lista `lst` executando-se <br>\n",
    "`lst.append(x)` ou `lst = lst + [x]`.\n",
    "- O item na posição `i` de uma lista `lst` é referenciado por `lst[i]`.\n",
    "- A primeira ocorrência de um valor `x` numa lista `lst` pode ser removida executando-se `lst.remove(x)`.\n",
    "- O item na posição `i` da lista `lst` pode ser removido executando-se `lst.pop(i)`."
   ]
  },
  {
   "cell_type": "code",
   "execution_count": 40,
   "metadata": {},
   "outputs": [
    {
     "name": "stdout",
     "output_type": "stream",
     "text": [
      "<class 'list'> [4, 2]\n"
     ]
    }
   ],
   "source": [
    "lst = [1, 4, 2, 5, 9]\n",
    "\n",
    "print(type(lst), lst[1:3])"
   ]
  },
  {
   "cell_type": "markdown",
   "metadata": {
    "slideshow": {
     "slide_type": "slide"
    }
   },
   "source": [
    "## O comando **for**\n",
    "Este é um recurso poderoso e uma das principais ferramentas auxiliares para a implementação de iterações.\n",
    "\n",
    "Examine o código abaixo..."
   ]
  },
  {
   "cell_type": "code",
   "execution_count": null,
   "metadata": {
    "slideshow": {
     "slide_type": "fragment"
    }
   },
   "outputs": [],
   "source": [
    "for estudante in [\"José\", \"Maria\", \"Francisco\", \"Ana\"]:\n",
    "    print(\"Olá,\", estudante + \".\", \"Você está gostando de MC102?\")"
   ]
  },
  {
   "cell_type": "markdown",
   "metadata": {
    "slideshow": {
     "slide_type": "subslide"
    }
   },
   "source": [
    "```python\n",
    "for estudante in [\"José\", \"Maria\", \"Francisco\", \"Ana\"]:\n",
    "    print(\"Olá,\", estudante + \".\", \"Você está gostando de MC102?\")\n",
    "```"
   ]
  },
  {
   "cell_type": "markdown",
   "metadata": {
    "slideshow": {
     "slide_type": "fragment"
    }
   },
   "source": [
    "Vamos examinar a estrutura do **for** neste exemplo:\n",
    "- Na linha 1, `estudante` representa a *variável do loop*.\n",
    "- Os nomes entre colchetes compõem uma *lista* que é um *objeto iterável*.\n",
    "- O operador `in` tem o significado `que faça parte de`.\n",
    "- A linha 2 é o *corpo do loop*. O corpo do loop tem um ou mais comandos e fica recuado em relação ao **for** (tipicamente 4 espaços).\n",
    "\n",
    "Você pode ler esse comando como...\n",
    "> para todo `estudante` que faça parte de *lista* execute *corpo do loop*"
   ]
  },
  {
   "cell_type": "markdown",
   "metadata": {
    "slideshow": {
     "slide_type": "subslide"
    }
   },
   "source": [
    "```python\n",
    "for estudante in [\"José\", \"Maria\", \"Francisco\", \"Ana\"]:\n",
    "    print(\"Olá,\", estudante + \".\", \"Você está gostando de MC102?\")\n",
    "```"
   ]
  },
  {
   "cell_type": "markdown",
   "metadata": {
    "slideshow": {
     "slide_type": "fragment"
    }
   },
   "source": [
    "Vamos entender como esse **for** funciona:\n",
    "- O comando começa examinando o *iterador*, neste caso uma lista.\n",
    "  - Se ela for vazia, o **for** termina e a execução do programa continua no comando seguinte ao *corpo do loop*.\n",
    "  - Se ela não for vazia, a *variável do loop* é associada ao primeiro item da lista e o *corpo do loop* é executado.\n",
    "- No final de uma execução do *corpo do loop*, Python retorna ao início para ver se há mais itens a serem processados. \n",
    "  - Se não houver nenhum, o **for** termina e a execução do programa continua no comando seguinte ao *corpo do loop*.\n",
    "  - Caso contrário, a *variável do loop* é atualizada para se referir ao próximo item da *lista* e o *corpo do loop* é executado novamente."
   ]
  },
  {
   "cell_type": "markdown",
   "metadata": {
    "slideshow": {
     "slide_type": "subslide"
    }
   },
   "source": [
    "A *lista* pode ser composta por objetos de diversos tipos, incluindo inteiros. Por exemplo, ..."
   ]
  },
  {
   "cell_type": "code",
   "execution_count": null,
   "metadata": {
    "slideshow": {
     "slide_type": "-"
    }
   },
   "outputs": [],
   "source": [
    "for x in [0, 1, 2, 3, 4]:\n",
    "    print(x, x ** 2)"
   ]
  },
  {
   "cell_type": "markdown",
   "metadata": {
    "slideshow": {
     "slide_type": "fragment"
    }
   },
   "source": [
    "Essa situação é tão frequente que há uma função dedicada à sua implementação..."
   ]
  },
  {
   "cell_type": "code",
   "execution_count": null,
   "metadata": {
    "scrolled": false,
    "slideshow": {
     "slide_type": "-"
    }
   },
   "outputs": [],
   "source": [
    "for x in range(5):\n",
    "    print(x, x ** 2)"
   ]
  },
  {
   "cell_type": "markdown",
   "metadata": {
    "slideshow": {
     "slide_type": "subslide"
    }
   },
   "source": [
    "### A função `range()`"
   ]
  },
  {
   "cell_type": "markdown",
   "metadata": {},
   "source": [
    "A função `range`(_start_, _stop_, _step_) gera todos os valores pertencentes à faixa definida por...\n",
    "- _start_: limite inferior\n",
    "- _stop_: limite superior\n",
    "- _step_: tamanho do passo, isto é valor adicionado ao item atual para gerar o próximo\n",
    "\n",
    "A faixa é um intervalo fechado à esquerda (inclui _start_) e aberto à direita (**não** inclui _stop_)."
   ]
  },
  {
   "cell_type": "code",
   "execution_count": null,
   "metadata": {
    "scrolled": true
   },
   "outputs": [],
   "source": [
    "for x in range(1, 10, 3):\n",
    "    print(x, end=' ')\n",
    "print()"
   ]
  },
  {
   "cell_type": "markdown",
   "metadata": {
    "slideshow": {
     "slide_type": "subslide"
    }
   },
   "source": [
    "### Exemplo: *Achar o maior número ímpar entre 5 candidatos inteiros não-negativos*\n",
    "Esses novos conceitos nos permitem rever nossa solução original para esse problema e expressá-la como uma sequência de três ações:\n",
    "- Ler todos os candidatos\n",
    "- Encontrar o maior número ímpar dentre os candidatos lidos\n",
    "- Exibir o resultado ou uma mensagem de erro apropriada"
   ]
  },
  {
   "cell_type": "code",
   "execution_count": null,
   "metadata": {
    "slideshow": {
     "slide_type": "subslide"
    }
   },
   "outputs": [],
   "source": [
    "# Ler todos os candidatos\n",
    "\n",
    "for :\n",
    "    \n",
    "    "
   ]
  },
  {
   "cell_type": "code",
   "execution_count": null,
   "metadata": {
    "slideshow": {
     "slide_type": "subslide"
    }
   },
   "outputs": [],
   "source": [
    "# Encontrar o maior número ímpar dentre os candidatos lidos\n",
    "maior_impar = -1\n",
    "for \n",
    "    \n",
    "        "
   ]
  },
  {
   "cell_type": "code",
   "execution_count": null,
   "metadata": {
    "slideshow": {
     "slide_type": "subslide"
    }
   },
   "outputs": [],
   "source": [
    "# Exibir o resultado ou uma mensagem de erro apropriada\n",
    "if maior_impar == -1:\n",
    "    print(\"Nenhum candidato ímpar.\")\n",
    "else:\n",
    "    print(\"maior ímpar =\", maior_impar)"
   ]
  },
  {
   "cell_type": "code",
   "execution_count": null,
   "metadata": {
    "slideshow": {
     "slide_type": "subslide"
    }
   },
   "outputs": [],
   "source": [
    "# Ler todos os candidatos\n",
    "cands = []\n",
    "for i in range(10):\n",
    "    prox_cand = int(input(\"Próximo candidato? \"))\n",
    "    cands += [prox_cand]"
   ]
  },
  {
   "cell_type": "code",
   "execution_count": null,
   "metadata": {
    "slideshow": {
     "slide_type": "subslide"
    }
   },
   "outputs": [],
   "source": [
    "# Encontrar o maior número ímpar dentre os candidatos lidos\n",
    "maior_impar = -1\n",
    "for cand in cands:\n",
    "    if cand % 2 == 1 and cand > maior_impar:\n",
    "        maior_impar = cand"
   ]
  },
  {
   "cell_type": "code",
   "execution_count": null,
   "metadata": {
    "slideshow": {
     "slide_type": "subslide"
    }
   },
   "outputs": [],
   "source": [
    "# Exibir o resultado ou uma mensagem de erro apropriada\n",
    "if maior_impar == -1:\n",
    "    print(\"Nenhum candidato ímpar.\")\n",
    "else:\n",
    "    print(\"maior ímpar =\", maior_impar)"
   ]
  },
  {
   "cell_type": "markdown",
   "metadata": {
    "slideshow": {
     "slide_type": "subslide"
    }
   },
   "source": [
    "E se em *Ler todos os candidatos* quiséssemos trabalhar com um número qualquer deles?"
   ]
  },
  {
   "cell_type": "markdown",
   "metadata": {
    "slideshow": {
     "slide_type": "fragment"
    }
   },
   "source": [
    "- Poderíamos ler o *número de candidatos* antes de ler a lista."
   ]
  },
  {
   "cell_type": "markdown",
   "metadata": {
    "slideshow": {
     "slide_type": "fragment"
    }
   },
   "source": [
    "E se não quisermos que o usuário tenha o trabalho de contar os candidatos?"
   ]
  },
  {
   "cell_type": "markdown",
   "metadata": {
    "slideshow": {
     "slide_type": "fragment"
    }
   },
   "source": [
    "- Poderíamos fazer\n",
    "```Python\n",
    "while True:\n",
    "    ler o próximo candidato\n",
    "```\n",
    "mas esse loop não terminaria nunca..."
   ]
  },
  {
   "cell_type": "markdown",
   "metadata": {
    "slideshow": {
     "slide_type": "subslide"
    }
   },
   "source": [
    "Uma saída é criar uma variável de controle para monitorar o valor digitado pelo usuário. Assim..."
   ]
  },
  {
   "cell_type": "code",
   "execution_count": null,
   "metadata": {
    "slideshow": {
     "slide_type": "fragment"
    }
   },
   "outputs": [],
   "source": [
    "# Ler todos os candidatos\n",
    "cands = []\n",
    "nao_terminou = True\n",
    "while nao_terminou:\n",
    "    cand_str = input(\"Próximo candidato? \")\n",
    "    if cand_str:    # uma string não vazia é considerada True\n",
    "        cands += int(cand_str)\n",
    "    else:\n",
    "        nao_terminou = False    # se cand_str for vazia, a sequência terminou"
   ]
  },
  {
   "cell_type": "markdown",
   "metadata": {
    "slideshow": {
     "slide_type": "subslide"
    }
   },
   "source": [
    "Reunindo tudo..."
   ]
  },
  {
   "cell_type": "code",
   "execution_count": null,
   "metadata": {
    "slideshow": {
     "slide_type": "subslide"
    }
   },
   "outputs": [],
   "source": [
    "# Ler todos os candidatos\n",
    "cands = []\n",
    "nao_terminou = True\n",
    "while nao_terminou:\n",
    "    cand_str = input(\"Próximo candidato? \")\n",
    "    if cand_str:    # lembre-se de que uma string não vazia é considerada True\n",
    "        cands += [int(cand_str)]\n",
    "    else:\n",
    "        nao_terminou = False    # se cand_str for vazia, a sequência terminou\n",
    "\n",
    "# Encontrar o maior número ímpar dentre os candidatos lidos\n",
    "maior_impar = -1\n",
    "for cand in cands:\n",
    "    if cand % 2 == 1 and cand > maior_impar:\n",
    "        maior_impar = cand\n",
    "\n",
    "# Exibir o resultado ou uma mensagem de erro apropriada\n",
    "if maior_impar == -1:\n",
    "    print(\"Nenhum candidato ímpar.\")\n",
    "else:\n",
    "    print(\"maior ímpar =\", maior_impar)"
   ]
  },
  {
   "cell_type": "markdown",
   "metadata": {
    "slideshow": {
     "slide_type": "subslide"
    }
   },
   "source": [
    "### Outros objetos iteráveis\n",
    "Há vários tipos de objetos iteráveis que podem ser usados num **for**. Por exemplo ...\n",
    "- listas\n",
    "- cadeias de caracteres (*strings*)\n",
    "- conjuntos"
   ]
  },
  {
   "cell_type": "markdown",
   "metadata": {
    "slideshow": {
     "slide_type": "subslide"
    }
   },
   "source": [
    "Por exemplo, examine os códigos abaixo e tente prever o resultado dos `prints`..."
   ]
  },
  {
   "cell_type": "code",
   "execution_count": null,
   "metadata": {
    "slideshow": {
     "slide_type": "fragment"
    }
   },
   "outputs": [],
   "source": [
    "for x in range(10, 1, -3):    # aqui o objeto iterável é uma range\n",
    "    print(x, end=' ')\n",
    "print()"
   ]
  },
  {
   "cell_type": "code",
   "execution_count": null,
   "metadata": {
    "slideshow": {
     "slide_type": "fragment"
    }
   },
   "outputs": [],
   "source": [
    "for x in 'carranca':    # aqui o objeto iterável é uma string\n",
    "    print(x, end=' ')\n",
    "print()"
   ]
  },
  {
   "cell_type": "code",
   "execution_count": null,
   "metadata": {
    "slideshow": {
     "slide_type": "fragment"
    }
   },
   "outputs": [],
   "source": [
    "# aqui o objeto iterável é uma lista\n",
    "for x in ['c', 'a', 'r', 'r', 'a', 'n', 'c', 'a']:\n",
    "    print(x, end=' ')\n",
    "print()"
   ]
  },
  {
   "cell_type": "code",
   "execution_count": null,
   "metadata": {
    "slideshow": {
     "slide_type": "fragment"
    }
   },
   "outputs": [],
   "source": [
    "for x in {'c', 'a', 'r', 'r', 'a', 'n', 'c', 'a'}:    # aqui o iterador é um conjunto\n",
    "    print(x, end=' ')\n",
    "print()"
   ]
  },
  {
   "cell_type": "code",
   "execution_count": null,
   "metadata": {
    "slideshow": {
     "slide_type": "slide"
    }
   },
   "outputs": [],
   "source": [
    "### Exercício rápido\n",
    "Substitua o comentário no código abaixo por um comando **for**."
   ]
  },
  {
   "cell_type": "code",
   "execution_count": null,
   "metadata": {
    "slideshow": {
     "slide_type": "fragment"
    }
   },
   "outputs": [],
   "source": [
    "numXs = int(input('Quantos X eu devo imprimir? '))\n",
    "# imprimir numXs Xs"
   ]
  },
  {
   "cell_type": "code",
   "execution_count": null,
   "metadata": {
    "slideshow": {
     "slide_type": "slide"
    }
   },
   "outputs": [],
   "source": [
    "### Exercício rápido\n",
    "Substitua o comentário no código abaixo pelos comandos necessários, incluindo um **for**"
   ]
  },
  {
   "cell_type": "code",
   "execution_count": null,
   "metadata": {},
   "outputs": [],
   "source": [
    "palavra = input('Digite uma palavra qualquer: ')\n",
    "# contar o número de vogais e consoantes em palavra\n",
    "print(palavra, 'tem', n_vogais, 'vogais e', n_consoantes, 'consoantes'.)"
   ]
  },
  {
   "cell_type": "code",
   "execution_count": null,
   "metadata": {
    "slideshow": {
     "slide_type": "subslide"
    }
   },
   "outputs": [],
   "source": [
    "palavra = input('Digite uma linha de texto qualquer: ')\n",
    "n_vogais = 0\n",
    "n_consoantes = 0\n",
    "for c in palavra:\n",
    "    if c in 'aáàãâeéêiíoóõôuú':\n",
    "        n_vogais += 1\n",
    "    elif c in 'bcçdfghjklmnpqrstvwxyz':\n",
    "        n_consoantes += 1\n",
    "print(palavra, 'tem', len(palavra), 'caracteres, incluindo', n_vogais, 'vogais e', n_consoantes, 'consoantes.')"
   ]
  },
  {
   "cell_type": "markdown",
   "metadata": {
    "slideshow": {
     "slide_type": "slide"
    }
   },
   "source": [
    "### Exercício rápido\n",
    "Ler uma linha de texto com uma sequência de inteiros e exibir a soma dessa sequência."
   ]
  },
  {
   "cell_type": "code",
   "execution_count": null,
   "metadata": {},
   "outputs": [],
   "source": [
    "# Ler uma sequência de inteiros\n",
    "# Calcular a soma dessa sequência\n",
    "# Exibir o resultado"
   ]
  },
  {
   "cell_type": "code",
   "execution_count": null,
   "metadata": {},
   "outputs": [],
   "source": [
    "# Ler uma sequência de inteiros de uma linha de texto\n",
    "\n",
    "\n",
    "\n"
   ]
  },
  {
   "cell_type": "code",
   "execution_count": null,
   "metadata": {},
   "outputs": [],
   "source": [
    "# Calcular a soma dessa sequência\n",
    "\n",
    "\n",
    "\n"
   ]
  },
  {
   "cell_type": "code",
   "execution_count": null,
   "metadata": {},
   "outputs": [],
   "source": [
    "# Exibir o resultado\n",
    "print(\"soma da lista =\", soma)"
   ]
  },
  {
   "cell_type": "code",
   "execution_count": null,
   "metadata": {},
   "outputs": [],
   "source": [
    "# Ler uma sequência de inteiros de uma linha de texto\n",
    "print(\"Por favor, digite uma sequência de inteiros.\")\n",
    "nums_string = input()\n",
    "nums_lista = nums_string.split()\n",
    "nl = len(nums_lista)\n",
    "for i in range(len(nums_lista)):\n",
    "    nums_lista[i] = int(nums_lista[i])"
   ]
  },
  {
   "cell_type": "code",
   "execution_count": null,
   "metadata": {},
   "outputs": [],
   "source": [
    "# Calcular a soma dessa sequência\n",
    "soma = 0\n",
    "for x in nums_lista:\n",
    "    soma += x"
   ]
  },
  {
   "cell_type": "code",
   "execution_count": null,
   "metadata": {},
   "outputs": [],
   "source": [
    "# Exibir o resultado\n",
    "print(\"soma da lista =\", soma)"
   ]
  },
  {
   "cell_type": "code",
   "execution_count": null,
   "metadata": {},
   "outputs": [],
   "source": []
  },
  {
   "cell_type": "markdown",
   "metadata": {},
   "source": [
    "### Revisitando *input*\n"
   ]
  },
  {
   "cell_type": "code",
   "execution_count": 41,
   "metadata": {
    "scrolled": true
   },
   "outputs": [
    {
     "name": "stdout",
     "output_type": "stream",
     "text": [
      "Dados? 1 2 45 17\n",
      "<class 'str'> '1 2 45 17'\n"
     ]
    }
   ],
   "source": [
    "# sabemos que input retorna uma string, p.ex.\n",
    "s = input('Dados? ')\n",
    "print(type(s), repr(s))"
   ]
  },
  {
   "cell_type": "code",
   "execution_count": 46,
   "metadata": {},
   "outputs": [
    {
     "name": "stdout",
     "output_type": "stream",
     "text": [
      "Dados? 1,2,45,17\n",
      "<class 'str'> '1,2,45,17'\n",
      "<class 'list'> ['1', '2', '45', '17']\n",
      "'12'\n"
     ]
    }
   ],
   "source": [
    "# sabemos que input retorna uma string, p.ex.\n",
    "s = input('Dados? ')\n",
    "print(type(s), repr(s))\n",
    "# a função split() permite separar os itens represntados nessa string\n",
    "spl = s.split(',')\n",
    "print(type(spl), repr(spl))\n",
    "print(repr(spl[0] + spl[1]))"
   ]
  },
  {
   "cell_type": "code",
   "execution_count": 10,
   "metadata": {
    "scrolled": true
   },
   "outputs": [
    {
     "name": "stdout",
     "output_type": "stream",
     "text": [
      "Dados? 1 2 3 4 5\n",
      "<class 'str'> '1 2 3 4 5'\n",
      "<class 'list'> ['1', '2', '3', '4', '5']\n",
      "<class 'list'> [1, 2, 3, 4, 5]\n",
      "\n",
      "Dados? 1 2 3 4 5\n",
      "<class 'list'> [1, 2, 3, 4, 5]\n"
     ]
    }
   ],
   "source": [
    "# sabemos que input retorna uma string, p.ex.\n",
    "s = input('Dados? ')\n",
    "print(type(s), repr(s))\n",
    "# a função split() permite separar os itens represntados nessa string\n",
    "spl = s.split()\n",
    "print(type(spl), repr(spl))\n",
    "# mas nós queremos inteiros... como fazer?\n",
    "for i in range(len(spl)):\n",
    "    spl[i] = int(spl[i])\n",
    "print(type(spl), repr(spl))\n",
    "print()\n",
    "\n",
    "spli = [int(x) for x in input('Dados? ').split()]\n",
    "print(type(spli), repr(spli))"
   ]
  },
  {
   "cell_type": "code",
   "execution_count": null,
   "metadata": {},
   "outputs": [],
   "source": []
  }
 ],
 "metadata": {
  "kernelspec": {
   "display_name": "Python 3",
   "language": "python",
   "name": "python3"
  },
  "language_info": {
   "codemirror_mode": {
    "name": "ipython",
    "version": 3
   },
   "file_extension": ".py",
   "mimetype": "text/x-python",
   "name": "python",
   "nbconvert_exporter": "python",
   "pygments_lexer": "ipython3",
   "version": "3.6.4"
  },
  "latex_envs": {
   "LaTeX_envs_menu_present": true,
   "autocomplete": true,
   "bibliofile": "biblio.bib",
   "cite_by": "apalike",
   "current_citInitial": 1,
   "eqLabelWithNumbers": true,
   "eqNumInitial": 1,
   "hotkeys": {
    "equation": "Ctrl-E",
    "itemize": "Ctrl-I"
   },
   "labels_anchors": false,
   "latex_user_defs": false,
   "report_style_numbering": false,
   "user_envs_cfg": false
  },
  "toc": {
   "nav_menu": {},
   "number_sections": true,
   "sideBar": true,
   "skip_h1_title": true,
   "title_cell": "Table of Contents",
   "title_sidebar": "Contents",
   "toc_cell": false,
   "toc_position": {},
   "toc_section_display": true,
   "toc_window_display": false
  },
  "varInspector": {
   "cols": {
    "lenName": 16,
    "lenType": 16,
    "lenVar": 40
   },
   "kernels_config": {
    "python": {
     "delete_cmd_postfix": "",
     "delete_cmd_prefix": "del ",
     "library": "var_list.py",
     "varRefreshCmd": "print(var_dic_list())"
    },
    "r": {
     "delete_cmd_postfix": ") ",
     "delete_cmd_prefix": "rm(",
     "library": "var_list.r",
     "varRefreshCmd": "cat(var_dic_list()) "
    }
   },
   "types_to_exclude": [
    "module",
    "function",
    "builtin_function_or_method",
    "instance",
    "_Feature"
   ],
   "window_display": false
  }
 },
 "nbformat": 4,
 "nbformat_minor": 2
}
