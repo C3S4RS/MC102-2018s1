{
 "cells": [
  {
   "cell_type": "code",
   "execution_count": 30,
   "metadata": {},
   "outputs": [],
   "source": [
    "from IPython.core.interactiveshell import InteractiveShell\n",
    "InteractiveShell.ast_node_interactivity = \"all\""
   ]
  },
  {
   "cell_type": "markdown",
   "metadata": {},
   "source": [
    "# Laços encaixados e uma introdução à sua otimização"
   ]
  },
  {
   "cell_type": "markdown",
   "metadata": {},
   "source": [
    "### Exercício: _Dada uma sequência arbitrária de inteiros não-negativos, encontrar o par mais próximo_\n",
    "Ler uma sequência arbitrária $S$ de $n$ inteiros não-negativos e ___depois___ encontrar $i, 0 \\le i \\lt n$ e $j, 0 \\le j \\lt n$, $i \\ne j$, tais que a distância entre $S_i$ e $S_j$, isto é,  $\\lvert S_i - S_j \\rvert$, seja mínima."
   ]
  },
  {
   "cell_type": "markdown",
   "metadata": {},
   "source": [
    "#### Desenvolvimento da solução"
   ]
  },
  {
   "cell_type": "markdown",
   "metadata": {},
   "source": [
    "Em nível mais abstrato, a solução deste problema tem estrutura semelhante à de vários exemplos anteriores:\n",
    "```python\n",
    "ler a sequência S\n",
    "encontrar os dois elementos mais próximos em S\n",
    "exibir a solução\n",
    "```"
   ]
  },
  {
   "cell_type": "markdown",
   "metadata": {},
   "source": [
    "Para **`ler a sequência S`** temos pelo menos duas saídas já conhecidas:"
   ]
  },
  {
   "cell_type": "code",
   "execution_count": 31,
   "metadata": {},
   "outputs": [
    {
     "name": "stdout",
     "output_type": "stream",
     "text": [
      "[12, 56, 32, 47, 23]\n"
     ]
    }
   ],
   "source": [
    "n = int(input('Número de elementos? '))\n",
    "S = []\n",
    "for i in range(n):\n",
    "    S.append(int(input('Próximo elemento? ')))\n",
    "print(S)"
   ]
  },
  {
   "cell_type": "code",
   "execution_count": 33,
   "metadata": {},
   "outputs": [
    {
     "name": "stdout",
     "output_type": "stream",
     "text": [
      "[12, 56, 32, 47, 23]\n"
     ]
    }
   ],
   "source": [
    "S = [int(x) for x in input('Sequência de elementos? ').split()]\n",
    "print(S)"
   ]
  },
  {
   "cell_type": "markdown",
   "metadata": {},
   "source": [
    "Em problemas como esse, em geral vamos querer trabalhar com sequências mais longas. Isso inviabiliza a digitação de valores, especialmente quando se lembra que a execução poderá ter que ser repetida diversas vezes enquanto depuramos o algoritmo.\n",
    "\n",
    "Uma saída mais apropriada é gerar uma sequência de valores aleatórios usando o módulo _random_."
   ]
  },
  {
   "cell_type": "code",
   "execution_count": 34,
   "metadata": {},
   "outputs": [
    {
     "name": "stdout",
     "output_type": "stream",
     "text": [
      "[692740, 183108, 193425, 230325, 453521, 389855, 703510, 493842, 969079, 568289]\n",
      "[692740, 183108, 193425, 230325, 453521, 389855, 703510, 493842, 969079, 568289]\n"
     ]
    }
   ],
   "source": [
    "from random import choices\n",
    "\n",
    "n = int(1e1)\n",
    "S = choices(range(1000000), k=n)\n",
    "print(S[:10])\n",
    "print(S[-10:])"
   ]
  },
  {
   "cell_type": "markdown",
   "metadata": {},
   "source": [
    "Uma vez obtida a sequência, vamos procurar o par mais próximo. Para isso temos que comparar todos os pares possíveis, isto é, o problema pede uma solução por enumeração exaustiva.\n",
    "\n",
    "Aproveitando exemplos anteriores, podemos esboçar nossa solução como:\n",
    "```Python\n",
    "for i in range(n):\n",
    "    for j in range(n):\n",
    "        se i diferente de j e distância entre S[i] e S[j] menor que a menor já observada:\n",
    "            salvar i, j, distância entre S[i] e S[j]\n",
    "```"
   ]
  },
  {
   "cell_type": "markdown",
   "metadata": {},
   "source": [
    "Vamos representar esse esboço em Python?"
   ]
  },
  {
   "cell_type": "code",
   "execution_count": 35,
   "metadata": {},
   "outputs": [],
   "source": [
    "min_dist = 10e10\n",
    "for i in range(n):\n",
    "    for j in range(n):\n",
    "        if i != j and abs(S[i] - S[j]) < min_dist:\n",
    "            min_i, min_j, min_dist = i, j, abs(S[i] - S[j])"
   ]
  },
  {
   "cell_type": "markdown",
   "metadata": {},
   "source": [
    "Agora só falta exibir o resultado..."
   ]
  },
  {
   "cell_type": "code",
   "execution_count": 36,
   "metadata": {},
   "outputs": [
    {
     "name": "stdout",
     "output_type": "stream",
     "text": [
      "     10       1  183108       2  193425   10317\n"
     ]
    }
   ],
   "source": [
    "print(f'{n:7}  {min_i:6}  {S[min_i]:6}  {min_j:6}  {S[min_j]:6}  {min_dist:6}')"
   ]
  },
  {
   "cell_type": "markdown",
   "metadata": {},
   "source": [
    "E se quisermos testar nosso programa com diferentes sequências?  \n",
    "*   Podemos, por exemplo, gerar uma longa sequência S e depois extrair dela subsequências a serem estudadas."
   ]
  },
  {
   "cell_type": "code",
   "execution_count": 57,
   "metadata": {},
   "outputs": [
    {
     "name": "stdout",
     "output_type": "stream",
     "text": [
      "[98407840, 21042563, 62893417, 20904970, 93990986, 92644486, 44667688, 70465378, 35434483, 81557034]\n",
      "[5578617, 5395612, 1791275, 1947635, 61741716, 95241674, 60734795, 33576551, 66715032, 59041332]\n"
     ]
    }
   ],
   "source": [
    "from random import choices\n",
    "\n",
    "S = choices(range(100000000), k=10000000)\n",
    "print(S[:10])\n",
    "print(S[-10:])"
   ]
  },
  {
   "cell_type": "markdown",
   "metadata": {},
   "source": [
    "Para poder comparar o desempenho do nosso algoritmo para sequências de diversos tamanhos, vamos usar a função `time` do módulo `time`."
   ]
  },
  {
   "cell_type": "code",
   "execution_count": 58,
   "metadata": {},
   "outputs": [
    {
     "name": "stdout",
     "output_type": "stream",
     "text": [
      "      n       tempo       i    S[i]       j    S[j]    dist\n",
      "     10     0.00004       1  21042563       3  20904970  137593\n",
      "    100     0.00309      20  60582056      94  60603757   21701\n",
      "   1000     0.23875      70  49922913     828  49922951      38\n",
      "  10000    22.62248    3088  61909424    7878  61909429       5\n"
     ]
    }
   ],
   "source": [
    "from time import time\n",
    "\n",
    "print(f\"{'n':>7}  {'tempo':>10}  {'i':>6}  {'S[i]':>6}  {'j':>6}  {'S[j]':>6}  {'dist':>6}\")\n",
    "for n in [10, 100, 1000, 10000]:\n",
    "    start = time()\n",
    "    min_dist = 10e10\n",
    "    for i in range(n):\n",
    "        for j in range(n):\n",
    "            if i != j and abs(S[i] - S[j]) < min_dist:\n",
    "                min_i, min_j, min_dist = i, j, abs(S[i] - S[j])\n",
    "    end = time()\n",
    "    print(f'{n:7}  {end - start:10.5f}  {min_i:6}  {S[min_i]:6}  {min_j:6}  {S[min_j]:6}  {min_dist:6}')"
   ]
  },
  {
   "cell_type": "markdown",
   "metadata": {},
   "source": [
    "O que você espera que vá acontecer se tivermos 100.000 elementos para examinar?"
   ]
  },
  {
   "cell_type": "markdown",
   "metadata": {},
   "source": [
    "*   A execução vai demorar cerca de 40 minutos!  "
   ]
  },
  {
   "cell_type": "markdown",
   "metadata": {},
   "source": [
    "Será possível melhorar esse desempenho?\n",
    "\n",
    "-   Como tanto $i$ quanto $j$ assumem valores em `range(n)` estamos calculando não só $\\lvert\\, S[i] - S[j] \\,\\rvert$ mas também $\\lvert\\, S[j] - S[i] \\,\\rvert$.  \n",
    "    Deve ser possível eliminar o teste redundante. Você consegue fazer isso?"
   ]
  },
  {
   "cell_type": "code",
   "execution_count": 61,
   "metadata": {},
   "outputs": [
    {
     "name": "stdout",
     "output_type": "stream",
     "text": [
      "      n       tempo       i    S[i]       j    S[j]    dist\n",
      "     10     0.00004       1  21042563       3  20904970  137593\n",
      "    100     0.00320      20  60582056      94  60603757   21701\n",
      "   1000     0.24325      70  49922913     828  49922951      38\n",
      "  10000    23.60740    3088  61909424    7878  61909429       5\n"
     ]
    }
   ],
   "source": [
    "from time import time\n",
    "\n",
    "print(f\"{'n':>7}  {'tempo':>10}  {'i':>6}  {'S[i]':>6}  {'j':>6}  {'S[j]':>6}  {'dist':>6}\")\n",
    "for n in [10, 100, 1000, 10000]:\n",
    "    start = time()\n",
    "    min_dist = 10e10\n",
    "    for i in range(n):\n",
    "        for j in range(n):\n",
    "            if i != j and abs(S[i] - S[j]) < min_dist:\n",
    "                min_i, min_j, min_dist = i, j, abs(S[i] - S[j])\n",
    "    end = time()\n",
    "    print(f'{n:7}  {end - start:10.5f}  {min_i:6}  {S[min_i]:6}  {min_j:6}  {S[min_j]:6}  {min_dist:6}')"
   ]
  },
  {
   "cell_type": "markdown",
   "metadata": {},
   "source": [
    "##### Solução"
   ]
  },
  {
   "cell_type": "code",
   "execution_count": 59,
   "metadata": {},
   "outputs": [
    {
     "name": "stdout",
     "output_type": "stream",
     "text": [
      "      n       tempo       i    S[i]       j    S[j]    dist\n",
      "     10     0.00003       1  21042563       3  20904970  137593\n",
      "    100     0.00155      20  60582056      94  60603757   21701\n",
      "   1000     0.12242      70  49922913     828  49922951      38\n",
      "  10000    11.77428    3088  61909424    7878  61909429       5\n"
     ]
    }
   ],
   "source": [
    "from time import time\n",
    "\n",
    "print(f\"{'n':>7}  {'tempo':>10}  {'i':>6}  {'S[i]':>6}  {'j':>6}  {'S[j]':>6}  {'dist':>6}\")\n",
    "for n in [10, 100, 1000, 10000]:\n",
    "    start = time()\n",
    "    min_dist = 10e10\n",
    "    for i in range(n):\n",
    "        for j in range(i + 1, n):\n",
    "            if i != j and abs(S[i] - S[j]) < min_dist:\n",
    "                min_i, min_j, min_dist = i, j, abs(S[i] - S[j])\n",
    "    end = time()\n",
    "    print(f'{n:7}  {end - start:10.5f}  {min_i:6}  {S[min_i]:6}  {min_j:6}  {S[min_j]:6}  {min_dist:6}')"
   ]
  },
  {
   "cell_type": "markdown",
   "metadata": {},
   "source": [
    "Melhorou, mas, ainda assim, quando o tamanho da amostra cresce 10 vezes, o tempo gasto cresce 100.  \n",
    "De uma maneira mais formal, dizemos que a complexidade desse algoritmo é da ordem de $n^2$ e representamos essa relação como $\\mathcal{O}(n^2)$.  \n",
    "Esse comportamento pode inviabilizar o uso desta solução para grandes amostras.\n",
    "\n",
    "Você consegue identificar onde está essa demora e por que isso acontece?"
   ]
  },
  {
   "cell_type": "markdown",
   "metadata": {},
   "source": [
    "-   O problema é que temos dois _loops_ aninhados percorrendo a amostra. Para cada valor do _loop_ externo, o _loop_ interno faz uma varredura completa, isto é, examina da ordem de $n$ valores. O _loop_ externo também examina $n$ valores.  \n",
    "    Portanto, para uma amostra de tamanho $n$, os dois _loops_ combinados realizam da ordem de $n^2$ operações, o que explica o comportamento do algoritmo. \n",
    "\n",
    "Não importa o que a gente faça, se continuarmos com dois _loops_ aninhados como esses, o tempo gasto na solução será da ordem de $n^2$.\n",
    "\n",
    "Para alterar esse comportamento, temos que mudar a nossa abordagem."
   ]
  },
  {
   "cell_type": "markdown",
   "metadata": {},
   "source": [
    "Você consegue pensar em algum caso particular no qual a solução do problema seria mais rápida?"
   ]
  },
  {
   "cell_type": "markdown",
   "metadata": {},
   "source": [
    "-   Por exemplo, se a lista estivesse ordenada, isso nos ajudaria?  \n",
    "    Sim, porque aí o par mais próximo seria sempre composto por dois elementos adjacentes."
   ]
  },
  {
   "cell_type": "markdown",
   "metadata": {},
   "source": [
    "-   E daí?  \n",
    "    Daí, nós poderíamos dispensar o _loop_ interno."
   ]
  },
  {
   "cell_type": "markdown",
   "metadata": {},
   "source": [
    "Como a lista pode não estar ordenada, vamos ordená-la usando uma função disponível em Python.  \n",
    "Um bom algoritmo de ordenação de listas tem complexidade $\\mathcal{O}(n \\cdot \\log_2 n)$, o que é muito melhor do que $\\mathcal{O}(n^2)$."
   ]
  },
  {
   "cell_type": "markdown",
   "metadata": {},
   "source": [
    "Você consegue incorporar essas alterações à nossa solução?"
   ]
  },
  {
   "cell_type": "code",
   "execution_count": 59,
   "metadata": {},
   "outputs": [
    {
     "name": "stdout",
     "output_type": "stream",
     "text": [
      "      n       tempo       i    S[i]       j    S[j]    dist\n",
      "     10     0.00003       1  21042563       3  20904970  137593\n",
      "    100     0.00155      20  60582056      94  60603757   21701\n",
      "   1000     0.12242      70  49922913     828  49922951      38\n",
      "  10000    11.77428    3088  61909424    7878  61909429       5\n"
     ]
    }
   ],
   "source": [
    "from time import time\n",
    "\n",
    "print(f\"{'n':>7}  {'tempo':>10}  {'i':>6}  {'S[i]':>6}  {'j':>6}  {'S[j]':>6}  {'dist':>6}\")\n",
    "for n in [10, 100, 1000, 10000]:\n",
    "    start = time()\n",
    "    min_dist = 10e10\n",
    "    for i in range(n):\n",
    "        for j in range(i + 1, n):\n",
    "            if i != j and abs(S[i] - S[j]) < min_dist:\n",
    "                min_i, min_j, min_dist = i, j, abs(S[i] - S[j])\n",
    "    end = time()\n",
    "    print(f'{n:7}  {end - start:10.5f}  {min_i:6}  {S[min_i]:6}  {min_j:6}  {S[min_j]:6}  {min_dist:6}')"
   ]
  },
  {
   "cell_type": "markdown",
   "metadata": {},
   "source": [
    "#### Resposta"
   ]
  },
  {
   "cell_type": "code",
   "execution_count": 66,
   "metadata": {
    "scrolled": true
   },
   "outputs": [
    {
     "name": "stdout",
     "output_type": "stream",
     "text": [
      "       n       tempo         i      S[i]         j      S[j]      dist\n",
      "      10     0.29265         0  20904970         1  21042563    137593\n",
      "     100     0.00008        60  60582056        61  60603757     21701\n",
      "    1000     0.00078       519  49922913       520  49922951        38\n",
      "   10000     0.00893      6242  61909424      6243  61909429         5\n",
      "  100000     0.06503        50     58795        51     58795         0\n",
      " 1000000     0.88734       276     28316       277     28316         0\n",
      "10000000    13.81924        29       209        30       209         0\n"
     ]
    }
   ],
   "source": [
    "from time import time\n",
    "\n",
    "print(f\"{'n':>8}  {'tempo':>10}  {'i':>8}  {'S[i]':>8}  {'j':>8}  {'S[j]':>8}  {'dist':>8}\")\n",
    "for n in [10, 100, 1000, 10000, 100000, 1000000, 10000000]:\n",
    "    start = time()\n",
    "    Sord = sorted(S[:n])\n",
    "    min_dist = 10e10\n",
    "    for i in range(n - 1):\n",
    "        if abs(Sord[i] - Sord[i + 1]) < min_dist:\n",
    "            min_i, min_dist = i, abs(Sord[i] - Sord[i + 1])\n",
    "    end = time()\n",
    "    print(f'{n:8}  {end - start:10.5f}  {min_i:8}  {Sord[min_i]:8}  {min_i + 1:8}  {Sord[min_i + 1]:8}  {min_dist:8}')"
   ]
  },
  {
   "cell_type": "markdown",
   "metadata": {},
   "source": [
    "Nosso algoritmo agora passa a ter um bom desempenho, mesmo para grandes valores de $n$.  "
   ]
  },
  {
   "cell_type": "markdown",
   "metadata": {},
   "source": [
    "### Exercício: _Gerar todos os números primos menores que um valor dado_\n",
    "Ler um inteiro $n$ e criar uma lista com todos os números primos menores do que $n$."
   ]
  },
  {
   "cell_type": "markdown",
   "metadata": {},
   "source": [
    "Este problema também pode ser resolvido por _enumeração exaustiva_. Vamos tentar?"
   ]
  },
  {
   "cell_type": "code",
   "execution_count": null,
   "metadata": {},
   "outputs": [],
   "source": [
    "# ler n"
   ]
  },
  {
   "cell_type": "code",
   "execution_count": null,
   "metadata": {},
   "outputs": [],
   "source": [
    "primos = []\n",
    "for k in range(2, n):\n",
    "    # verificar se k é primo\n",
    "    # se k é primo: adicionar k à lista de primos"
   ]
  },
  {
   "cell_type": "code",
   "execution_count": null,
   "metadata": {},
   "outputs": [],
   "source": [
    "print(primos)"
   ]
  },
  {
   "cell_type": "markdown",
   "metadata": {},
   "source": [
    "Feito o primeiro esboço, podemos começar a detalhá-lo..."
   ]
  },
  {
   "cell_type": "code",
   "execution_count": 70,
   "metadata": {},
   "outputs": [],
   "source": [
    "# ler n\n",
    "n = int(input('Primos até quanto? '))"
   ]
  },
  {
   "cell_type": "code",
   "execution_count": 71,
   "metadata": {},
   "outputs": [],
   "source": [
    "primos = []\n",
    "for k in range(2, n):\n",
    "    # testar se k é primo\n",
    "    k_eh_primo = True\n",
    "    for d in range(2, k):\n",
    "        if k % d == 0:\n",
    "            k_eh_primo = False\n",
    "    # se k é primo: adicionar k à lista primos\n",
    "    if k_eh_primo:\n",
    "        primos += [k]"
   ]
  },
  {
   "cell_type": "code",
   "execution_count": 72,
   "metadata": {},
   "outputs": [
    {
     "name": "stdout",
     "output_type": "stream",
     "text": [
      "[2, 3, 5, 7, 11, 13, 17, 19]\n"
     ]
    }
   ],
   "source": [
    "print(primos)"
   ]
  },
  {
   "cell_type": "markdown",
   "metadata": {},
   "source": [
    "Lembrando do exemplo anterior...  \n",
    "Será que esse algoritmo funciona bem para qualquer tamanho de amostra?\n",
    "\n",
    "Você consegue antecipar uma resposta antes de testá-lo?  \n",
    "Por que?"
   ]
  },
  {
   "cell_type": "code",
   "execution_count": 102,
   "metadata": {},
   "outputs": [
    {
     "name": "stdout",
     "output_type": "stream",
     "text": [
      "      10    0.00002      4 [2, 3, 5, 7] [2, 3, 5, 7]\n",
      "     100    0.00042     25 [2, 3, 5, 7, 11, 13] [71, 73, 79, 83, 89, 97]\n",
      "    1000    0.05060    168 [2, 3, 5, 7, 11, 13] [967, 971, 977, 983, 991, 997]\n",
      "   10000    4.12050   1229 [2, 3, 5, 7, 11, 13] [9929, 9931, 9941, 9949, 9967, 9973]\n"
     ]
    }
   ],
   "source": [
    "from time import perf_counter\n",
    "\n",
    "\n",
    "for n in [10, 100, 1000, 10000]:\n",
    "    start = perf_counter()\n",
    "    \n",
    "    primos = []\n",
    "    for k in range(2, n):\n",
    "        # testar se k é primo\n",
    "        k_eh_primo = True\n",
    "        for d in range(2, k):\n",
    "            if k % d == 0:\n",
    "                k_eh_primo = False\n",
    "        # se k é primo: adicionar k à lista primos\n",
    "        if k_eh_primo:\n",
    "            primos += [k]\n",
    "    \n",
    "    end = perf_counter()\n",
    "    \n",
    "    print(f'{n:8} {end - start:10.5f} {len(primos):6} {primos[:6]} {primos[-6:]}')"
   ]
  },
  {
   "cell_type": "markdown",
   "metadata": {},
   "source": [
    "Com os dois _loops_ aninhados, o tempo gasto por este algoritmo para examinar $n$ candiadatos é da ordem de $n^2$, o que o torna impraticável para grandes valores de $n$. "
   ]
  },
  {
   "cell_type": "markdown",
   "metadata": {},
   "source": [
    "Podemos melhorar esse desempenho, se lembrarmos de que:\n",
    "\n",
    "-   O único primo par é $2$ e, portanto, podemos examinar apenas candidatos ímpares.\n",
    "-   Como os candidatos serão ímpares, não faz sentido tentar dividi-los por números pares, o que também reduz o número de divisores à metade.\n",
    "-   O loop interno pode ser interrompido assim que concluirmos que _k não é primo_,"
   ]
  },
  {
   "cell_type": "markdown",
   "metadata": {},
   "source": [
    "Vamos incorporar essas alterações ao nosso algoritmo."
   ]
  },
  {
   "cell_type": "code",
   "execution_count": 101,
   "metadata": {
    "scrolled": true
   },
   "outputs": [
    {
     "name": "stdout",
     "output_type": "stream",
     "text": [
      "      10    0.00135      4 [2, 3, 5, 7] [2, 3, 5, 7]\n",
      "     100    0.00012     25 [2, 3, 5, 7, 11, 13] [71, 73, 79, 83, 89, 97]\n",
      "    1000    0.00399    168 [2, 3, 5, 7, 11, 13] [967, 971, 977, 983, 991, 997]\n",
      "   10000    0.25984   1229 [2, 3, 5, 7, 11, 13] [9929, 9931, 9941, 9949, 9967, 9973]\n"
     ]
    }
   ],
   "source": [
    "from time import perf_counter\n",
    "\n",
    "\n",
    "for n in [10, 100, 1000, 10000]:\n",
    "    \n",
    "    start = perf_counter()\n",
    "    \n",
    "    primos = [2]\n",
    "    for k in range(3, n, 2):\n",
    "        # testar se k é primo\n",
    "        k_eh_primo = True\n",
    "        for d in range(3, k, 2):\n",
    "            if k % d == 0:\n",
    "                k_eh_primo = False\n",
    "                break\n",
    "        # se k é primo: adicionar k à lista primos\n",
    "        if k_eh_primo:\n",
    "            primos += [k]\n",
    "    end = perf_counter()\n",
    "    \n",
    "    print(f'{n:8} {end - start:10.5f} {len(primos):6} {primos[:6]} {primos[-6:]}')"
   ]
  },
  {
   "cell_type": "markdown",
   "metadata": {},
   "source": [
    "O desempenho melhorou, mas mudou a sua relação com $n$?  \n",
    "Não, sua complexidade continua sendo $\\mathcal{O}(n^2)$.\n",
    "\n",
    "Por que será?"
   ]
  },
  {
   "cell_type": "markdown",
   "metadata": {},
   "source": [
    "Você consegue pensar em alguma melhoria simples?  \n",
    "Você está satisfeito com os limites dos _loops_?"
   ]
  },
  {
   "cell_type": "markdown",
   "metadata": {},
   "source": [
    "-   Não parece ser possível alterar o _loop_ externo.\n",
    "-   Mas é possível limitar a `range` do _loop_ interno a $\\sqrt{n}$.  \n",
    "    Por que?"
   ]
  },
  {
   "cell_type": "code",
   "execution_count": 100,
   "metadata": {},
   "outputs": [
    {
     "name": "stdout",
     "output_type": "stream",
     "text": [
      "      10    0.00010      4 [2, 3, 5, 7] [2, 3, 5, 7]\n",
      "     100    0.00006     25 [2, 3, 5, 7, 11, 13] [71, 73, 79, 83, 89, 97]\n",
      "    1000    0.00070    168 [2, 3, 5, 7, 11, 13] [967, 971, 977, 983, 991, 997]\n",
      "   10000    0.00975   1229 [2, 3, 5, 7, 11, 13] [9929, 9931, 9941, 9949, 9967, 9973]\n",
      "  100000    0.15851   9592 [2, 3, 5, 7, 11, 13] [99923, 99929, 99961, 99971, 99989, 99991]\n",
      " 1000000    2.89983  78498 [2, 3, 5, 7, 11, 13] [999931, 999953, 999959, 999961, 999979, 999983]\n"
     ]
    }
   ],
   "source": [
    "from time import perf_counter\n",
    "\n",
    "\n",
    "for n in [10, 100, 1000, 10000, 100000, 1000000]:\n",
    "    \n",
    "    start = perf_counter()\n",
    "    \n",
    "    primos = [2]\n",
    "    for k in range(3, n, 2):\n",
    "        # testar se k é primo\n",
    "        k_eh_primo = True\n",
    "        for d in range(3, int(k**0.5) + 1, 2):\n",
    "            if k % d == 0:\n",
    "                k_eh_primo = False\n",
    "                break\n",
    "        # se k for primo, adicionar k à lista primos\n",
    "        if k_eh_primo:\n",
    "            primos.append(k)\n",
    "    end = perf_counter()\n",
    "    \n",
    "    print(f'{n:8} {end - start:10.5f} {len(primos):6} {primos[:6]} {primos[-6:]}')"
   ]
  },
  {
   "cell_type": "markdown",
   "metadata": {},
   "source": [
    "O desempenho já melhorou bastante e talvez seja suficiente para um grande número de aplicações.  \n",
    "Mas, e se quiséssemos algo mais rápido?\n",
    "\n",
    "Podemos tentar outra abordagem.  \n",
    "Por exemplo, criar uma lista de _não primos_ e, a partir dela, derivar uma lista de _primos_.\n",
    "\n",
    "Para criar a lista de _não primos_, para cada candidato $k$ vamos colocar na lista todos os seus múltiplos ímpares."
   ]
  },
  {
   "cell_type": "code",
   "execution_count": 99,
   "metadata": {},
   "outputs": [
    {
     "name": "stdout",
     "output_type": "stream",
     "text": [
      "      10    0.00125      4 [2, 3, 5, 7] [2, 3, 5, 7]\n",
      "     100    0.00003     25 [2, 3, 5, 7, 11, 13] [71, 73, 79, 83, 89, 97]\n",
      "    1000    0.00213    168 [2, 3, 5, 7, 11, 13] [967, 971, 977, 983, 991, 997]\n",
      "   10000    0.22219   1229 [2, 3, 5, 7, 11, 13] [9929, 9931, 9941, 9949, 9967, 9973]\n",
      "  100000   24.68445   9592 [2, 3, 5, 7, 11, 13] [99923, 99929, 99961, 99971, 99989, 99991]\n"
     ]
    }
   ],
   "source": [
    "from time import perf_counter\n",
    "\n",
    "\n",
    "for n in [10, 100, 1000, 10000, 100000]:\n",
    "    raiz_n = int(n**0.5)\n",
    "    \n",
    "    start = perf_counter()\n",
    "    nao_primos = []\n",
    "\n",
    "    for k in range(3, raiz_n + 1, 2):\n",
    "        for ik in range(3*k, n, 2*k):\n",
    "            nao_primos += [ik]\n",
    "            \n",
    "    primos = [2]\n",
    "    for p in range(3, n, 2):\n",
    "        if p not in nao_primos:\n",
    "            primos += [p]\n",
    "    end = perf_counter()\n",
    "    \n",
    "    print(f'{n:8} {end - start:10.5f} {len(primos):6} {primos[:6]} {primos[-6:]}')"
   ]
  },
  {
   "cell_type": "markdown",
   "metadata": {},
   "source": [
    "O desempenho piorou bastante... o que terá acontecido?\n",
    "\n",
    "-   Você consegue ver quantos _loops_ __explícitos__ e __implícitos__ existem agora na nossa solução?  \n",
    "    Será possível melhorar isso?\n",
    "-   Examine as _ranges_ dos _loops_?  \n",
    "    Há algo estranho? Algo que possa ser melhorado?"
   ]
  },
  {
   "cell_type": "markdown",
   "metadata": {},
   "source": [
    "Vamos exibir também o número de elementos na lista de *não primos*.  \n",
    "Veja se isso ajuda..."
   ]
  },
  {
   "cell_type": "code",
   "execution_count": 98,
   "metadata": {},
   "outputs": [
    {
     "name": "stdout",
     "output_type": "stream",
     "text": [
      "      10    0.01180        1      4 [2, 3, 5, 7] [2, 3, 5, 7]\n",
      "     100    0.00006       36     25 [2, 3, 5, 7, 11, 13] [71, 73, 79, 83, 89, 97]\n",
      "    1000    0.00400      668    168 [2, 3, 5, 7, 11, 13] [967, 971, 977, 983, 991, 997]\n",
      "   10000    0.22621     9639   1229 [2, 3, 5, 7, 11, 13] [9929, 9931, 9941, 9949, 9967, 9973]\n",
      "  100000   23.40795   125493   9592 [2, 3, 5, 7, 11, 13] [99923, 99929, 99961, 99971, 99989, 99991]\n"
     ]
    }
   ],
   "source": [
    "from time import perf_counter\n",
    "\n",
    "\n",
    "for n in [10, 100, 1000, 10000, 100000]:\n",
    "    raiz_n = int(n**0.5)\n",
    "        \n",
    "    start = perf_counter()\n",
    "    nao_primos = []\n",
    "\n",
    "    for k in range(3, raiz_n + 1, 2):\n",
    "        for ik in range(3*k, n, 2*k):\n",
    "            nao_primos.append(ik)\n",
    "            \n",
    "    primos = [2]\n",
    "    for p in range(3, n, 2):\n",
    "        if p not in nao_primos:\n",
    "            primos.append(p)\n",
    "    end = perf_counter()\n",
    "    \n",
    "    print(f'{n:8} {end - start:10.5f} {len(nao_primos):8} {len(primos):6} {primos[:6]} {primos[-6:]}')"
   ]
  },
  {
   "cell_type": "markdown",
   "metadata": {},
   "source": [
    "Você vê algo estranho?  "
   ]
  },
  {
   "cell_type": "markdown",
   "metadata": {},
   "source": [
    "Observe o comprimento da lista de _não primos_.  \n",
    "Faz sentido? O que terá causado isso?"
   ]
  },
  {
   "cell_type": "markdown",
   "metadata": {},
   "source": [
    "Veja o que fazemos nos _loops_ das linhas 10 e 11.  \n",
    "Para cada $k$ na faixa $\\left[\\,3, 5, \\ldots \\sqrt{n}\\,\\right]$ colocamos todos os seus múltiplos na lista de _não primos_.  \n",
    "\n",
    "Pense no que acontece para $k = 3, 5$ e $7$.  \n",
    "Agora pense no que acontece para $k = 9$.  \n",
    "Nós vamos acrescentar à lista todos os múltiplos de $9$. \n",
    "Mas eles já estão lá porque todos são múltiplos de $3$.  \n",
    "Nossa lista de _não primos_ cresce desnecessariamente. \n",
    "E isso vai nos prejudicar severamente quando formos usá-la para buscar $p$ na linha 16."
   ]
  },
  {
   "cell_type": "markdown",
   "metadata": {},
   "source": [
    "Veja o que acontece quando trocamos _listas_ por _conjuntos_ nesse mesmo algoritmo."
   ]
  },
  {
   "cell_type": "code",
   "execution_count": 97,
   "metadata": {},
   "outputs": [
    {
     "name": "stdout",
     "output_type": "stream",
     "text": [
      "      10    0.01794        1      4 [2, 3, 5, 7] [2, 3, 5, 7]\n",
      "     100    0.00005       25     25 [2, 3, 5, 7, 11, 13] [71, 73, 79, 83, 89, 97]\n",
      "    1000    0.00056      332    168 [2, 3, 5, 7, 11, 13] [967, 971, 977, 983, 991, 997]\n",
      "   10000    0.00769     3771   1229 [2, 3, 5, 7, 11, 13] [9929, 9931, 9941, 9949, 9967, 9973]\n",
      "  100000    0.09603    40408   9592 [2, 3, 5, 7, 11, 13] [99923, 99929, 99961, 99971, 99989, 99991]\n",
      " 1000000    0.98827   421502  78498 [2, 3, 5, 7, 11, 13] [999931, 999953, 999959, 999961, 999979, 999983]\n"
     ]
    }
   ],
   "source": [
    "from time import perf_counter\n",
    "\n",
    "\n",
    "for n in [10, 100, 1000, 10000, 100000, 1000000]:\n",
    "    raiz_n = int(n**0.5)\n",
    "        \n",
    "    start = perf_counter()\n",
    "    nao_primos = set()\n",
    "\n",
    "    for k in range(3, raiz_n + 1, 2):\n",
    "        for ik in range(3*k, n, 2*k):\n",
    "            nao_primos.add(ik)\n",
    "            \n",
    "    primos = [2]\n",
    "    for p in range(3, n, 2):\n",
    "        if p not in nao_primos:\n",
    "            primos.append(p)\n",
    "    end = perf_counter()\n",
    "    \n",
    "    print(f'{n:8} {end - start:10.5f} {len(nao_primos):8} {len(primos):6} {primos[:6]} {primos[-6:]}')"
   ]
  },
  {
   "cell_type": "markdown",
   "metadata": {},
   "source": [
    "Além de ser menor, a representação de `nao_primos` como _conjunto_ ao invés de _lista_ leva uma grande vantagem na hora dos testes de pertinência na linha 16."
   ]
  },
  {
   "cell_type": "markdown",
   "metadata": {},
   "source": [
    "A desvantagem da _lista_ pode ser revertida se adotarmos a estratégia do _crivo de Eratóstenes_:\n",
    "\n",
    "1.  Criamos uma lista com todos os candidatos possíveis.\n",
    "1.  Percorremos a lista da esquerda para a direita e, para cada candidato, eliminamos todos os seus múltiplos.\n",
    "1.  Ao chegar ao final, todos os candidatos remanescentes serão primos."
   ]
  },
  {
   "cell_type": "markdown",
   "metadata": {},
   "source": [
    "Para evitar o custo da _eliminação_ dos múltiplos, vamos apenas marcá-los como _não primos_.  \n",
    "Para isso criamos uma lista cujos elementos são todos `True` e convertemos esse valor para `False` quando o elemento é eliminado.\n",
    "\n",
    "Vamos ver como fica..."
   ]
  },
  {
   "cell_type": "code",
   "execution_count": 96,
   "metadata": {},
   "outputs": [
    {
     "name": "stdout",
     "output_type": "stream",
     "text": [
      "      10    0.00264      4 [2, 3, 5, 7] [2, 3, 5, 7]\n",
      "     100    0.00002     25 [2, 3, 5, 7, 11, 13] [71, 73, 79, 83, 89, 97]\n",
      "    1000    0.00009    168 [2, 3, 5, 7, 11, 13] [967, 971, 977, 983, 991, 997]\n",
      "   10000    0.00091   1229 [2, 3, 5, 7, 11, 13] [9929, 9931, 9941, 9949, 9967, 9973]\n",
      "  100000    0.01119   9592 [2, 3, 5, 7, 11, 13] [99923, 99929, 99961, 99971, 99989, 99991]\n",
      " 1000000    0.18400  78498 [2, 3, 5, 7, 11, 13] [999931, 999953, 999959, 999961, 999979, 999983]\n"
     ]
    }
   ],
   "source": [
    "from time import perf_counter\n",
    "\n",
    "\n",
    "for n in [10, 100, 1000, 10000, 100000, 1000000]:\n",
    "    raiz_n = int(n**0.5)\n",
    "        \n",
    "    start = perf_counter()\n",
    "    crivo = [True] * n\n",
    "    for k in range(3, raiz_n + 1, 2):\n",
    "        if crivo[k]:\n",
    "            for i in range(k*k, n, 2*k):\n",
    "                crivo[i] = False\n",
    "    primos = [2] + [i for i in range(3, n, 2) if crivo[i]]\n",
    "    end = perf_counter()\n",
    "    \n",
    "    print(f'{n:8} {end - start:10.5f} {len(primos):6} {primos[:6]} {primos[-6:]}')"
   ]
  },
  {
   "cell_type": "markdown",
   "metadata": {},
   "source": [
    "Finalmente, podemos acelerar nosso algoritmo ainda mais substituindo o _loop_ das linhas 11-12 por uma _list comprehension_...\n",
    "-   Os elementos selecionados pela `range` da linha 11 são `crivo[k*k], crivo[k*k + 2*k], ...`.  \n",
    "-   Numa faixa `[esq...dir)` há `(dir - 1 - esq) // larg` intervalos de largura `larg`.\n",
    "    - Por exemplo, veja a figura abaixo, supondo $esq = 1$, $dir = 10$ e $larg = 1, 2, \\dots5$  \n",
    "    ![](img/intervalos.png)\n",
    "-   Adaptando para o nosso caso e incluindo o elemento inicial, ao todo serão afetados  \n",
    "`(n - 1 - k*k) // (2*k) + 1` elementos, cujos valores devem passar para `False`.\n",
    "\n",
    "Essa alteração está implementada no código abaixo:"
   ]
  },
  {
   "cell_type": "code",
   "execution_count": 109,
   "metadata": {},
   "outputs": [
    {
     "name": "stdout",
     "output_type": "stream",
     "text": [
      "       n      demora   #primos  primos[:6] + primos[-6:]\n",
      "      10     0.01191         4  [2, 3, 5, 7]  [2, 3, 5, 7]\n",
      "     100     0.00002        25  [2, 3, 5, 7, 11, 13]  [71, 73, 79, 83, 89, 97]\n",
      "    1000     0.00006       168  [2, 3, 5, 7, 11, 13]  [967, 971, 977, 983, 991, 997]\n",
      "   10000     0.00045      1229  [2, 3, 5, 7, 11, 13]  [9929, 9931, 9941, 9949, 9967, 9973]\n",
      "  100000     0.00471      9592  [2, 3, 5, 7, 11, 13]  [99923, 99929, 99961, 99971, 99989, 99991]\n",
      " 1000000     0.05900     78498  [2, 3, 5, 7, 11, 13]  [999931, 999953, 999959, 999961, 999979, 999983]\n"
     ]
    }
   ],
   "source": [
    "from time import perf_counter\n",
    "\n",
    "print(f\"{'n':>8}  {'demora':>10}  {'#primos':>8}  {'primos[:6] + primos[-6:]'}\")\n",
    "for n in [10, 100, 1000, 10000, 100000, 1000000]:\n",
    "    raiz_n = int(n**0.5)\n",
    "        \n",
    "    start = perf_counter()\n",
    "    crivo = [True] * n\n",
    "    for k in range(3, raiz_n + 1, 2):\n",
    "        if crivo[k]:\n",
    "            crivo[k*k::2*k] = [False] * ((n - 1 - k * k) // (2 * k) + 1)\n",
    "    primos = [2] + [i for i in range(3, n, 2) if crivo[i]]\n",
    "    # primos = [2] + [i for (i, eh_primo) in enumerate(crivo) if eh_primo] \n",
    "    end = perf_counter()\n",
    "    \n",
    "    print(f'{n:8}  {end - start:10.5f}  {len(primos):8}  {primos[:6]}  {primos[-6:]}')"
   ]
  },
  {
   "cell_type": "markdown",
   "metadata": {},
   "source": [
    "Agora nosso algoritmo tem desempenho de gente grande..."
   ]
  },
  {
   "cell_type": "code",
   "execution_count": 110,
   "metadata": {},
   "outputs": [
    {
     "name": "stdout",
     "output_type": "stream",
     "text": [
      "       n      demora   #primos  primos[:6] + primos[-6:]\n",
      "      10     0.00084         4  [2, 3, 5, 7]  [2, 3, 5, 7]\n",
      "     100     0.00001        25  [2, 3, 5, 7, 11, 13]  [71, 73, 79, 83, 89, 97]\n",
      "    1000     0.00005       168  [2, 3, 5, 7, 11, 13]  [967, 971, 977, 983, 991, 997]\n",
      "   10000     0.00045      1229  [2, 3, 5, 7, 11, 13]  [9929, 9931, 9941, 9949, 9967, 9973]\n",
      "  100000     0.00419      9592  [2, 3, 5, 7, 11, 13]  [99923, 99929, 99961, 99971, 99989, 99991]\n",
      " 1000000     0.05615     78498  [2, 3, 5, 7, 11, 13]  [999931, 999953, 999959, 999961, 999979, 999983]\n"
     ]
    }
   ],
   "source": [
    "from time import perf_counter\n",
    "\n",
    "\n",
    "# Given integer x, this returns the integer floor(isqrt(x)).\n",
    "def _isqrt(x):\n",
    "    assert x >= 0\n",
    "    i = 1\n",
    "    while i * i <= x:\n",
    "        i *= 2\n",
    "    y = 0\n",
    "    while i > 0:\n",
    "        if (y + i)**2 <= x:\n",
    "            y += i\n",
    "        i //= 2\n",
    "    return y\n",
    "\n",
    "def isqrt(n):\n",
    "    # print('babylonian(', n, ')')\n",
    "    x = n\n",
    "    y = 1\n",
    "    # print(x, y)\n",
    "    while (x > y):\n",
    "        x = (x + y) // 2\n",
    "        y = n // x\n",
    "        # print(x, y)\n",
    "    return x\n",
    "\n",
    "# Returns a list of True and False indicating whether each number is prime.\n",
    "# For 0 <= i <= n, result[i] is True if i is a prime number, False otherwise.\n",
    "def list_primality(n):\n",
    "    # Sieve of Eratosthenes\n",
    "    result = [True] * (n + 1)\n",
    "    result[0] = result[1] = False\n",
    "    for i in range(isqrt(n) + 1):\n",
    "        if result[i]:\n",
    "            # for j in range(i * i, len(result), i):\n",
    "                # result[j] = False\n",
    "            result[i*i::i] = [False] * ((len(result) - 1 - i * i) // i + 1)\n",
    "    return result\n",
    "\n",
    "# Returns all the prime numbers less than or equal to n, in ascending order.\n",
    "# For example: listPrimes(97) = [2, 3, 5, 7, 11, 13, 17, 19, 23, 29, ..., 83, 89, 97].\n",
    "def list_primes(n):\n",
    "    # return [i for (i, isprime) in enumerate(list_primality(n)) if isprime]\n",
    "    crivo = list_primality(n)\n",
    "    return [2] + [i for i in range(3, n, 2) if crivo[i]]\n",
    "\n",
    "print(f\"{'n':>8}  {'demora':>10}  {'#primos':>8}  {'primos[:6] + primos[-6:]'}\")\n",
    "for n in [10, 100, 1000, 10000, 100000, 1000000]:\n",
    "        \n",
    "    start = perf_counter()\n",
    "    primos = list_primes(n)\n",
    "    end = perf_counter()\n",
    "    \n",
    "    print(f'{n:8}  {end - start:10.5f}  {len(primos):8}  {primos[:6]}  {primos[-6:]}')"
   ]
  },
  {
   "cell_type": "code",
   "execution_count": null,
   "metadata": {},
   "outputs": [],
   "source": []
  }
 ],
 "metadata": {
  "kernelspec": {
   "display_name": "Python 3",
   "language": "python",
   "name": "python3"
  },
  "language_info": {
   "codemirror_mode": {
    "name": "ipython",
    "version": 3
   },
   "file_extension": ".py",
   "mimetype": "text/x-python",
   "name": "python",
   "nbconvert_exporter": "python",
   "pygments_lexer": "ipython3",
   "version": "3.6.4"
  },
  "latex_envs": {
   "LaTeX_envs_menu_present": true,
   "autocomplete": true,
   "bibliofile": "biblio.bib",
   "cite_by": "apalike",
   "current_citInitial": 1,
   "eqLabelWithNumbers": true,
   "eqNumInitial": 1,
   "hotkeys": {
    "equation": "Ctrl-E",
    "itemize": "Ctrl-I"
   },
   "labels_anchors": false,
   "latex_user_defs": false,
   "report_style_numbering": false,
   "user_envs_cfg": false
  },
  "toc": {
   "nav_menu": {},
   "number_sections": false,
   "sideBar": true,
   "skip_h1_title": true,
   "title_cell": "Table of Contents",
   "title_sidebar": "Contents",
   "toc_cell": false,
   "toc_position": {},
   "toc_section_display": true,
   "toc_window_display": false
  }
 },
 "nbformat": 4,
 "nbformat_minor": 2
}
