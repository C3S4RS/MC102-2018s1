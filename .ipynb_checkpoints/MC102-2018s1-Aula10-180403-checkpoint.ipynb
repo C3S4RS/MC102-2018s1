{
 "cells": [
  {
   "cell_type": "code",
   "execution_count": 88,
   "metadata": {},
   "outputs": [],
   "source": [
    "from IPython.core.interactiveshell import InteractiveShell\n",
    "InteractiveShell.ast_node_interactivity = \"all\""
   ]
  },
  {
   "cell_type": "markdown",
   "metadata": {},
   "source": [
    "# Laços encaixados e uma introdução à sua otimização"
   ]
  },
  {
   "cell_type": "markdown",
   "metadata": {},
   "source": [
    "### Exercício: _Dada uma sequência arbitrária de inteiros não-negativos, encontrar o par mais próximo_\n",
    "Ler uma sequência arbitrária de inteiros não-negativos $S$ e ___depois___ encontrar $a \\in S$ e $b \\in S$, $a \\ne b$, tais que a distância entre eles, isto é,  $\\lvert a - b \\rvert$, seja mínima."
   ]
  },
  {
   "cell_type": "code",
   "execution_count": null,
   "metadata": {},
   "outputs": [],
   "source": [
    "from random import choices\n",
    "from time import time\n",
    "\n",
    "for p in range(1, 5):\n",
    "    n = 10 ** p\n",
    "    tst = choices(range(1000000), k=n)\n",
    "\n",
    "    start = time()\n",
    "\n",
    "    \n",
    "    \n",
    "    \n",
    "    \n",
    "    \n",
    "    \n",
    "    end = time()\n",
    "    print(f'{n:7} {end - start:10.5f} {min_i:6}  {tst[min_i]:6} ' +\n",
    "          f'{min_j:6}  {tst[min_j]:6}  {min_dist:6}')"
   ]
  },
  {
   "cell_type": "markdown",
   "metadata": {},
   "source": [
    "##### Solução"
   ]
  },
  {
   "cell_type": "code",
   "execution_count": 4,
   "metadata": {},
   "outputs": [
    {
     "name": "stdout",
     "output_type": "stream",
     "text": [
      "     10    0.00004      1  633625      9  656754   23129\n",
      "    100    0.00300      7   71775     79   71675     100\n",
      "   1000    0.27157     81  803368     89  803366       2\n",
      "  10000   26.08168     27  582301   3050  582300       1\n"
     ]
    }
   ],
   "source": [
    "from random import choices\n",
    "from time import time\n",
    "\n",
    "for p in range(1, 5):\n",
    "    n = 10 ** p\n",
    "    tst = choices(range(1000000), k=n)\n",
    "\n",
    "    start = time()\n",
    "    min_a, min_b, min_dist = 0, 0, 10000000000\n",
    "    for i in range(len(tst)):\n",
    "        a = tst[i]\n",
    "        for j in range(len(tst)):\n",
    "            b = tst[j]\n",
    "            if (a != b) and (abs(a - b) < min_dist):\n",
    "                min_i, min_j, min_dist = i, j, abs(a - b)\n",
    "    end = time()\n",
    "    print(f'{n:7} {end - start:10.5f} {min_i:6}  {tst[min_i]:6} ' +\n",
    "          f'{min_j:6}  {tst[min_j]:6}  {min_dist:6}')"
   ]
  },
  {
   "cell_type": "markdown",
   "metadata": {},
   "source": [
    "A primeira coluna dos resultados é o tamanho da amostra, a segunda é o tempo gasto na solução do problema. O que você consegue observar?"
   ]
  },
  {
   "cell_type": "markdown",
   "metadata": {},
   "source": [
    "Será possível melhorar esse desempenho?\n",
    "\n",
    "-   Como tanto $i$ quanto $j$ assumem valores em `range(len(tst))` estamos testando $\\vert\\, a - b \\,\\vert$ e também $\\vert\\, b - a \\,\\vert$.  \n",
    "    Deve ser possível eliminar o teste redundante. Você consegue fazer isso?"
   ]
  },
  {
   "cell_type": "code",
   "execution_count": 16,
   "metadata": {},
   "outputs": [
    {
     "name": "stdout",
     "output_type": "stream",
     "text": [
      "     10    0.00002      3  222315      9  232247    9932\n",
      "    100    0.00113     81  995298     82  995755     457\n",
      "   1000    0.13115    349  185199    887  185198       1\n",
      "  10000   13.35210     32  905734   8088  905733       1\n"
     ]
    }
   ],
   "source": [
    "from random import choices\n",
    "from time import time\n",
    "\n",
    "for p in range(1, 5):\n",
    "    n = 10 ** p\n",
    "    tst = choices(range(1000000), k=n)\n",
    "\n",
    "    start = time()\n",
    "\n",
    "    \n",
    "    \n",
    "    \n",
    "    \n",
    "    \n",
    "    \n",
    "    end = time()\n",
    "    print(f'{n:7} {end - start:10.5f} {min_i:6}  {tst[min_i]:6} ' +\n",
    "          f'{min_j:6}  {tst[min_j]:6}  {min_dist:6}')"
   ]
  },
  {
   "cell_type": "markdown",
   "metadata": {},
   "source": [
    "##### Solução"
   ]
  },
  {
   "cell_type": "code",
   "execution_count": 16,
   "metadata": {},
   "outputs": [
    {
     "name": "stdout",
     "output_type": "stream",
     "text": [
      "     10    0.00002      3  222315      9  232247    9932\n",
      "    100    0.00113     81  995298     82  995755     457\n",
      "   1000    0.13115    349  185199    887  185198       1\n",
      "  10000   13.35210     32  905734   8088  905733       1\n"
     ]
    }
   ],
   "source": [
    "from random import choices\n",
    "from time import time\n",
    "\n",
    "for p in range(1, 5):\n",
    "    n = 10 ** p\n",
    "    tst = choices(range(1000000), k=n)\n",
    "\n",
    "    start = time()\n",
    "    min_a, min_b, min_dist = 0, 0, 10000000000\n",
    "    for i in range(len(tst)):\n",
    "        a = tst[i]\n",
    "        for j in range(i + 1, len(tst)):\n",
    "            b = tst[j]\n",
    "            if (a != b) and (abs(a - b) < min_dist):\n",
    "                min_i, min_j, min_dist = i, j, abs(a - b)\n",
    "    end = time()\n",
    "    print(f'{n:7} {end - start:10.5f} {min_i:6}  {tst[min_i]:6} ' +\n",
    "          f'{min_j:6}  {tst[min_j]:6}  {min_dist:6}')"
   ]
  },
  {
   "cell_type": "markdown",
   "metadata": {},
   "source": [
    "Melhorou, mas, ainda assim, quando o tamanho da amostra cresce 10 vezes, o tempo gasto cresce 100. Isto pode inviabilizar o uso desta solução para grandes amostras.\n",
    "\n",
    "Você consegue identificar onde está essa demora e por que ela acontece?"
   ]
  },
  {
   "cell_type": "markdown",
   "metadata": {},
   "source": [
    "-   O problema é que temos dois _loops_ aninhados percorrendo a amostra. Para cada valor do _loop_ externo, o _loop_ interno faz uma varredura completa, isto é, examina da ordem de $n$ valores. O _loop_ externo também examina $n$ valores.  \n",
    "    Portanto, para uma amostra de tamanho $n$, os dois _loops_ combinados realizam da ordem de $n^2$ operações, o que explica o comportamento do algoritmo. \n",
    "\n",
    "Não importa o que a gente faça, se continuarmos com dois _loops_ aninhados como esses, o tempo gasto na solução será da ordem de $n^2$.\n",
    "\n",
    "Para mudar esse comportamento, temos que mudar a nossa abordagem."
   ]
  },
  {
   "cell_type": "markdown",
   "metadata": {},
   "source": [
    "Você consegue pensar em algum caso particular no qual a solução do problema seria mais simples?"
   ]
  },
  {
   "cell_type": "markdown",
   "metadata": {},
   "source": [
    "-   Se a lista estivesse ordenada, isso nos ajudaria?  \n",
    "    Sim, porque aí o par mais próximo seria sempre composto por dois elementos adjacentes."
   ]
  },
  {
   "cell_type": "markdown",
   "metadata": {},
   "source": [
    "-   E daí?\n",
    "    Daí, nós poderíamos dispensar o _loop_ interno."
   ]
  },
  {
   "cell_type": "markdown",
   "metadata": {},
   "source": [
    "Como a lista pode não estar ordenada, vamos ordená-la usando uma função disponível em Python.  \n",
    "O tempo gasto por um bom algoritmo para ordenar uma lista com $n$ elementos é da ordem de $n \\cdot \\log_2 n$."
   ]
  },
  {
   "cell_type": "markdown",
   "metadata": {},
   "source": [
    "Você consegue incorporar essas alterações à nossa solução?"
   ]
  },
  {
   "cell_type": "code",
   "execution_count": 40,
   "metadata": {
    "scrolled": true
   },
   "outputs": [
    {
     "name": "stdout",
     "output_type": "stream",
     "text": [
      "      10    0.00007       3  4959745        4  5035636    75891\n",
      "     100    0.00005       9  1094424       10  1094763      339\n",
      "    1000    0.00076     944  9420446      945  9420449        3\n",
      "   10000    0.01046      55   148287       56   148288        1\n",
      "  100000    0.06930      68   105460       69   105461        1\n",
      " 1000000    1.04577      12   100113       13   100114        1\n",
      "10000000   14.02315       1   100000        2   100001        1\n"
     ]
    }
   ],
   "source": [
    "from random import choices\n",
    "from time import time\n",
    "\n",
    "for p in range(1, 8):\n",
    "    n = 10 ** p\n",
    "    tst = choices(range(10000000), k=n)\n",
    "\n",
    "    start = time()\n",
    "    tst.sort()\n",
    "\n",
    "    \n",
    "    \n",
    "    \n",
    "    \n",
    "    \n",
    "    \n",
    "    end = time()\n",
    "    print(f'{n:8} {end - start:10.5f} {min_i:7} {tst[min_i]:8} ' +\n",
    "          f'{min_j:8} {tst[min_j]:8} {min_dist:8}')"
   ]
  },
  {
   "cell_type": "markdown",
   "metadata": {},
   "source": [
    "##### Solução"
   ]
  },
  {
   "cell_type": "code",
   "execution_count": 40,
   "metadata": {},
   "outputs": [
    {
     "name": "stdout",
     "output_type": "stream",
     "text": [
      "      10    0.00007       3  4959745        4  5035636    75891\n",
      "     100    0.00005       9  1094424       10  1094763      339\n",
      "    1000    0.00076     944  9420446      945  9420449        3\n",
      "   10000    0.01046      55   148287       56   148288        1\n",
      "  100000    0.06930      68   105460       69   105461        1\n",
      " 1000000    1.04577      12   100113       13   100114        1\n",
      "10000000   14.02315       1   100000        2   100001        1\n"
     ]
    }
   ],
   "source": [
    "from random import choices\n",
    "from time import time\n",
    "\n",
    "for p in range(1, 8):\n",
    "    n = 10 ** p\n",
    "    tst = choices(range(10**7), k=n)\n",
    "\n",
    "    start = time()\n",
    "    tst.sort()\n",
    "    min_dist = 10**10\n",
    "    for j in range(1, len(tst)):\n",
    "        i = j -1\n",
    "        a = tst[i]\n",
    "        b = tst[j]\n",
    "        if (a != b) and (abs(a - b) < min_dist):\n",
    "            min_i, min_j, min_dist = i, j, abs(a - b)\n",
    "    end = time()\n",
    "    print(f'{n:8} {end - start:10.5f} {min_i:7} {tst[min_i]:8} ' +\n",
    "          f'{min_j:8} {tst[min_j]:8} {min_dist:8}')"
   ]
  },
  {
   "cell_type": "markdown",
   "metadata": {},
   "source": [
    "Nosso algoritmo agora passa a ter um bom desempenho, mesmo para grandes valores de $n$.  \n",
    "E basta um pequeno ajuste para que ele fique com uma aparência mais _pythonica_..."
   ]
  },
  {
   "cell_type": "code",
   "execution_count": 6,
   "metadata": {},
   "outputs": [
    {
     "name": "stdout",
     "output_type": "stream",
     "text": [
      "      10    0.00002  9278242  9286273     8031\n",
      "     100    0.00004  9396142  9397393     1251\n",
      "    1000    0.00038  7421965  7421986       21\n",
      "   10000    0.00492   485024   485025        1\n",
      "  100000    0.04316     1849     1850        1\n",
      " 1000000    0.92756        6        7        1\n",
      "10000000   14.00294        2        3        1\n"
     ]
    }
   ],
   "source": [
    "from random import choices\n",
    "from time import time\n",
    "\n",
    "for p in range(1, 8):\n",
    "    n = 10**p\n",
    "    tst = choices(range(10**7), k=n)\n",
    "\n",
    "    start = time()\n",
    "    tst.sort()\n",
    "    min_dist = 10**10\n",
    "    a = tst[0]\n",
    "    for b in tst[1:]:\n",
    "        if (a != b) and (b - a < min_dist):\n",
    "            min_a, min_b, min_dist = a, b, b - a\n",
    "        a = b\n",
    "    end = time()\n",
    "    print(f'{n:8} {end - start:10.5f} {min_a:8} {min_b:8} {min_dist:8}')"
   ]
  },
  {
   "cell_type": "markdown",
   "metadata": {},
   "source": [
    "### Exercício: _Gerar todos os números primos menores que um valor dado_\n",
    "Ler um inteiro $n$ e criar uma lista com todos os números primos menores do que $n$."
   ]
  },
  {
   "cell_type": "markdown",
   "metadata": {},
   "source": [
    "Este problema pode ser resolvido por _enumeração exaustiva_. Vamos tentar?"
   ]
  },
  {
   "cell_type": "code",
   "execution_count": null,
   "metadata": {},
   "outputs": [],
   "source": [
    "# ler n\n",
    "primos = []\n",
    "\n",
    "for k in range(n):\n",
    "    # verificar se k é primo:\n",
    "    # se k for primo, adicionar k à lista de primos\n",
    "print(primos)"
   ]
  },
  {
   "cell_type": "code",
   "execution_count": null,
   "metadata": {},
   "outputs": [],
   "source": [
    "# ler n\n",
    "n = int(input('Primos até quanto? '))"
   ]
  },
  {
   "cell_type": "code",
   "execution_count": null,
   "metadata": {},
   "outputs": [],
   "source": [
    "# se k é primo...\n",
    "\n",
    "\n",
    "\n",
    "\n"
   ]
  },
  {
   "cell_type": "code",
   "execution_count": 51,
   "metadata": {},
   "outputs": [
    {
     "name": "stdout",
     "output_type": "stream",
     "text": [
      "Primos até quanto? 20\n",
      "[2, 3, 5, 7, 11, 13, 17, 19]\n"
     ]
    }
   ],
   "source": [
    "# ler n\n",
    "n = int(input('Primos até quanto? '))\n",
    "primos = []\n",
    "\n",
    "for k in range(2, n):\n",
    "    # testar se k é primo\n",
    "    k_eh_primo = True\n",
    "    for d in range(2, k):\n",
    "        if k % d == 0:\n",
    "            k_eh_primo = False\n",
    "    # se k for primo, adicionar k à lista primos\n",
    "\n",
    "    \n",
    "print(primos)"
   ]
  },
  {
   "cell_type": "markdown",
   "metadata": {},
   "source": [
    "##### Solução"
   ]
  },
  {
   "cell_type": "code",
   "execution_count": null,
   "metadata": {},
   "outputs": [],
   "source": [
    "# ler n\n",
    "n = int(input('Primos até quanto? '))"
   ]
  },
  {
   "cell_type": "code",
   "execution_count": null,
   "metadata": {},
   "outputs": [],
   "source": [
    "# se k é primo...\n",
    "\n",
    "k_eh_primo = True\n",
    "for d in range(2, k):\n",
    "    if k % d == 0:\n",
    "        k_eh_primo = False"
   ]
  },
  {
   "cell_type": "code",
   "execution_count": 51,
   "metadata": {},
   "outputs": [
    {
     "name": "stdout",
     "output_type": "stream",
     "text": [
      "Primos até quanto? 20\n",
      "[2, 3, 5, 7, 11, 13, 17, 19]\n"
     ]
    }
   ],
   "source": [
    "# ler n\n",
    "n = int(input('Primos até quanto? '))\n",
    "primos = []\n",
    "\n",
    "for k in range(2, n):\n",
    "    # testar se k é primo\n",
    "    k_eh_primo = True\n",
    "    for d in range(2, k):\n",
    "        if k % d == 0:\n",
    "            k_eh_primo = False\n",
    "    # se k for primo, adicionar k à lista primos\n",
    "    if k_eh_primo:\n",
    "        primos.append(k)\n",
    "print(primos)"
   ]
  },
  {
   "cell_type": "markdown",
   "metadata": {},
   "source": [
    "Será que esse algoritmo funciona bem para qualquer tamanho de amostra?\n",
    "\n",
    "Você consegue antecipar uma resposta antes de testá-lo?  \n",
    "Por que?"
   ]
  },
  {
   "cell_type": "code",
   "execution_count": 7,
   "metadata": {},
   "outputs": [
    {
     "name": "stdout",
     "output_type": "stream",
     "text": [
      "      10    0.00001      4 [2, 3, 5, 7] [2, 3, 5, 7]\n",
      "     100    0.00042     25 [2, 3, 5, 7, 11, 13] [71, 73, 79, 83, 89, 97]\n",
      "    1000    0.04636    168 [2, 3, 5, 7, 11, 13] [967, 971, 977, 983, 991, 997]\n",
      "   10000    4.27158   1229 [2, 3, 5, 7, 11, 13] [9929, 9931, 9941, 9949, 9967, 9973]\n"
     ]
    }
   ],
   "source": [
    "from time import time\n",
    "\n",
    "\n",
    "for p in range(1, 5):\n",
    "    n = 10**p\n",
    "    \n",
    "    start = time()\n",
    "    primos = []\n",
    "\n",
    "    for k in range(2, n):\n",
    "        # testar se k é primo\n",
    "        k_eh_primo = True\n",
    "        for d in range(2, k):\n",
    "            if k % d == 0:\n",
    "                k_eh_primo = False\n",
    "        # se k for primo, adicionar k à lista primos\n",
    "        if k_eh_primo:\n",
    "            primos.append(k)\n",
    "    end = time()\n",
    "    \n",
    "    print(f'{n:8} {end - start:10.5f} {len(primos):6} {primos[:6]} {primos[-6:]}')"
   ]
  },
  {
   "cell_type": "markdown",
   "metadata": {},
   "source": [
    "Com os dois _loops_ aninhados, o tempo gasto por este algoritmo para examinar $n$ candiadatos é da ordem de $n^2$, o que o torna impraticável para grandes valores de $n$. "
   ]
  },
  {
   "cell_type": "markdown",
   "metadata": {},
   "source": [
    "Podemos melhorar esse desempenho, se lembrarmos de que:\n",
    "\n",
    "-   O único primo par é $2$ e, portanto, podemos examinar apenas candidatos ímpares.\n",
    "-   Como os candidatos serão ímpares, não faz sentido tentar dividi-los por números pares, o que também reduz o número de divisores à metade."
   ]
  },
  {
   "cell_type": "markdown",
   "metadata": {},
   "source": [
    "Vamos incorporar essas alterações ao nosso algoritmo."
   ]
  },
  {
   "cell_type": "code",
   "execution_count": 8,
   "metadata": {
    "scrolled": true
   },
   "outputs": [
    {
     "name": "stdout",
     "output_type": "stream",
     "text": [
      "      10    0.00002      4 [2, 3, 5, 7] [2, 3, 5, 7]\n",
      "     100    0.00015     25 [2, 3, 5, 7, 11, 13] [71, 73, 79, 83, 89, 97]\n",
      "    1000    0.01467    168 [2, 3, 5, 7, 11, 13] [967, 971, 977, 983, 991, 997]\n",
      "   10000    1.05082   1229 [2, 3, 5, 7, 11, 13] [9929, 9931, 9941, 9949, 9967, 9973]\n"
     ]
    }
   ],
   "source": [
    "from time import time\n",
    "\n",
    "\n",
    "for p in range(1, 5):\n",
    "    n = 10**p\n",
    "    \n",
    "    start = time()\n",
    "    primos = [2]\n",
    "\n",
    "    for k in range(3, n, 2):\n",
    "        # testar se k é primo\n",
    "        k_eh_primo = True\n",
    "        for d in range(3, k, 2):\n",
    "            if k % d == 0:\n",
    "                k_eh_primo = False\n",
    "        # se k for primo, adicionar k à lista primos\n",
    "        if k_eh_primo:\n",
    "            primos.append(k)\n",
    "    end = time()\n",
    "    \n",
    "    print(f'{n:8} {end - start:10.5f} {len(primos):6} {primos[:6]} {primos[-6:]}')"
   ]
  },
  {
   "cell_type": "markdown",
   "metadata": {},
   "source": [
    "O desempenho melhorou, mas mudou a sua relação com $n$?  \n",
    "Por que?"
   ]
  },
  {
   "cell_type": "markdown",
   "metadata": {},
   "source": [
    "Você consegue pensar em alguma melhoria simples?  \n",
    "Você está satisfeito com os limites dos _loops_?"
   ]
  },
  {
   "cell_type": "markdown",
   "metadata": {},
   "source": [
    "-   É possível limitar a `range` do _loop_ interno a $\\sqrt{n}$.  \n",
    "    Por que?"
   ]
  },
  {
   "cell_type": "code",
   "execution_count": 9,
   "metadata": {},
   "outputs": [
    {
     "name": "stdout",
     "output_type": "stream",
     "text": [
      "      10    0.00002      4 [2, 3, 5, 7] [2, 3, 5, 7]\n",
      "     100    0.00004     25 [2, 3, 5, 7, 11, 13] [71, 73, 79, 83, 89, 97]\n",
      "    1000    0.00063    168 [2, 3, 5, 7, 11, 13] [967, 971, 977, 983, 991, 997]\n",
      "   10000    0.01731   1229 [2, 3, 5, 7, 11, 13] [9929, 9931, 9941, 9949, 9967, 9973]\n",
      "  100000    0.43091   9592 [2, 3, 5, 7, 11, 13] [99923, 99929, 99961, 99971, 99989, 99991]\n",
      " 1000000   14.79425  78498 [2, 3, 5, 7, 11, 13] [999931, 999953, 999959, 999961, 999979, 999983]\n"
     ]
    }
   ],
   "source": [
    "from time import time\n",
    "\n",
    "\n",
    "for p in range(1, 7):\n",
    "    n = 10**p\n",
    "    \n",
    "    start = time()\n",
    "    primos = [2]\n",
    "\n",
    "    for k in range(3, n, 2):\n",
    "        # testar se k é primo\n",
    "        k_eh_primo = True\n",
    "        for d in range(3, int(k**0.5) + 1, 2):\n",
    "            if k % d == 0:\n",
    "                k_eh_primo = False\n",
    "        # se k for primo, adicionar k à lista primos\n",
    "        if k_eh_primo:\n",
    "            primos.append(k)\n",
    "    end = time()\n",
    "    \n",
    "    print(f'{n:8} {end - start:10.5f} {len(primos):6} {primos[:6]} {primos[-6:]}')"
   ]
  },
  {
   "cell_type": "markdown",
   "metadata": {},
   "source": [
    "O desempenho já melhorou bastante e talvez seja suficiente para um grande número de aplicações.  \n",
    "Mas, e se quiséssemos algo mais rápido?\n",
    "\n",
    "Podemos tentar outra abordagem.  \n",
    "Por exemplo, criar uma lista de _não primos_ e, a partir dela, derivar uma lista de _primos_.\n",
    "\n",
    "Para criar a lista de _não primos_, para cada candidato $k$ vamos colocar na lista todos os seus múltiplos ímpares."
   ]
  },
  {
   "cell_type": "code",
   "execution_count": 19,
   "metadata": {},
   "outputs": [
    {
     "name": "stdout",
     "output_type": "stream",
     "text": [
      "      10    0.00144      4 [2, 3, 5, 7] [2, 3, 5, 7]\n",
      "     100    0.00003     25 [2, 3, 5, 7, 11, 13] [71, 73, 79, 83, 89, 97]\n",
      "    1000    0.00241    168 [2, 3, 5, 7, 11, 13] [967, 971, 977, 983, 991, 997]\n",
      "   10000    0.23329   1229 [2, 3, 5, 7, 11, 13] [9929, 9931, 9941, 9949, 9967, 9973]\n",
      "  100000   24.40503   9592 [2, 3, 5, 7, 11, 13] [99923, 99929, 99961, 99971, 99989, 99991]\n"
     ]
    }
   ],
   "source": [
    "from time import time\n",
    "\n",
    "\n",
    "for p in range(1, 6):\n",
    "    n = 10**p\n",
    "    raiz_n = int(n**0.5) + 1\n",
    "    \n",
    "    start = time()\n",
    "    nao_primos = []\n",
    "\n",
    "    for k in range(3, raiz_n, 2):\n",
    "        for ik in range(3*k, n, 2*k):\n",
    "            nao_primos.append(ik)\n",
    "            \n",
    "    primos = [2]\n",
    "    for p in range(3, n, 2):\n",
    "        if p not in nao_primos:\n",
    "            primos.append(p)\n",
    "    end = time()\n",
    "    \n",
    "    print(f'{n:8} {end - start:10.5f} {len(primos):6} {primos[:6]} {primos[-6:]}')"
   ]
  },
  {
   "cell_type": "markdown",
   "metadata": {},
   "source": [
    "O desempenho piorou bastante... o que terá acontecido?\n",
    "\n",
    "-   Você consegue ver quantos _loops_ __explícitos__ e __implícitos__ existem agora na nossa solução?  \n",
    "    Será possível melhorar isso?\n",
    "-   Examine as _ranges_ dos _loops_?  \n",
    "    Há algo estranho? Algo que possa ser melhorado?"
   ]
  },
  {
   "cell_type": "markdown",
   "metadata": {},
   "source": [
    "Vamos exibir também o número de elementos na lista de *não primos*.  \n",
    "Veja se isso ajuda..."
   ]
  },
  {
   "cell_type": "code",
   "execution_count": 21,
   "metadata": {},
   "outputs": [
    {
     "name": "stdout",
     "output_type": "stream",
     "text": [
      "      10    0.01715        1      4 [2, 3, 5, 7] [2, 3, 5, 7]\n",
      "     100    0.00004       36     25 [2, 3, 5, 7, 11, 13] [71, 73, 79, 83, 89, 97]\n",
      "    1000    0.00240      668    168 [2, 3, 5, 7, 11, 13] [967, 971, 977, 983, 991, 997]\n",
      "   10000    0.22353     9639   1229 [2, 3, 5, 7, 11, 13] [9929, 9931, 9941, 9949, 9967, 9973]\n",
      "  100000   26.73204   125493   9592 [2, 3, 5, 7, 11, 13] [99923, 99929, 99961, 99971, 99989, 99991]\n"
     ]
    }
   ],
   "source": [
    "from time import time\n",
    "\n",
    "\n",
    "for p in range(1, 6):\n",
    "    n = 10**p\n",
    "    raiz_n = int(n**0.5) + 1\n",
    "    \n",
    "    start = time()\n",
    "    nao_primos = []\n",
    "\n",
    "    for k in range(3, raiz_n, 2):\n",
    "        for ik in range(3*k, n, 2*k):\n",
    "            nao_primos.append(ik)\n",
    "            \n",
    "    primos = [2]\n",
    "    for p in range(3, n, 2):\n",
    "        if p not in nao_primos:\n",
    "            primos.append(p)\n",
    "    end = time()\n",
    "    \n",
    "    print(f'{n:8} {end - start:10.5f} {len(nao_primos):8} {len(primos):6} {primos[:6]} {primos[-6:]}')"
   ]
  },
  {
   "cell_type": "markdown",
   "metadata": {},
   "source": [
    "Você vê algo estranho?  "
   ]
  },
  {
   "cell_type": "markdown",
   "metadata": {},
   "source": [
    "Observe o comprimento da lista de _não primos_.  \n",
    "Faz sentido? O que terá causado isso?"
   ]
  },
  {
   "cell_type": "markdown",
   "metadata": {},
   "source": [
    "Veja o que fazemos nos _loops_ das linhas 11 e 12.  \n",
    "Para cada $k$ na faixa $\\left[\\,3, 5, \\ldots \\sqrt{n}\\,\\right]$ colocamos todos os seus múltiplos na lista de _não primos_.  \n",
    "\n",
    "Pense no que acontece para $k = 3, 5$ e $7$.  \n",
    "Agora pense no que acontece para $k = 9$.  \n",
    "Nós vamos acrescentar à lista todos os múltiplos de $9$. Mas eles já estão lá porque todos são múltiplos de $3$. Nossa lista de _não primos_ cresce desnecessariamente. E isso vai nos prejudicar severamente quando formos usá-la para buscar `p` na linha 17."
   ]
  },
  {
   "cell_type": "markdown",
   "metadata": {},
   "source": [
    "Veja o que acontece quando trocamos _listas_ por _conjuntos_ nesse mesmo algoritmo."
   ]
  },
  {
   "cell_type": "code",
   "execution_count": 20,
   "metadata": {},
   "outputs": [
    {
     "name": "stdout",
     "output_type": "stream",
     "text": [
      "      10    0.00147        1      4 [2, 3, 5, 7] [2, 3, 5, 7]\n",
      "     100    0.00002       25     25 [2, 3, 5, 7, 11, 13] [71, 73, 79, 83, 89, 97]\n",
      "    1000    0.00019      332    168 [2, 3, 5, 7, 11, 13] [967, 971, 977, 983, 991, 997]\n",
      "   10000    0.00237     3771   1229 [2, 3, 5, 7, 11, 13] [9929, 9931, 9941, 9949, 9967, 9973]\n",
      "  100000    0.03653    40408   9592 [2, 3, 5, 7, 11, 13] [99923, 99929, 99961, 99971, 99989, 99991]\n",
      " 1000000    0.52338   421502  78498 [2, 3, 5, 7, 11, 13] [999931, 999953, 999959, 999961, 999979, 999983]\n"
     ]
    }
   ],
   "source": [
    "from time import time\n",
    "\n",
    "\n",
    "for p in range(1, 7):\n",
    "    n = 10**p\n",
    "    raiz_n = int(n**0.5) + 1\n",
    "    \n",
    "    start = time()\n",
    "    nao_primos = set()\n",
    "\n",
    "    for k in range(3, raiz_n, 2):\n",
    "        for ik in range(3*k, n, 2*k):\n",
    "            nao_primos.add(ik)\n",
    "            \n",
    "    primos = [2]\n",
    "    for p in range(3, n, 2):\n",
    "        if p not in nao_primos:\n",
    "            primos.append(p)\n",
    "    end = time()\n",
    "    \n",
    "    print(f'{n:8} {end - start:10.5f} {len(nao_primos):8} {len(primos):6} {primos[:6]} {primos[-6:]}')"
   ]
  },
  {
   "cell_type": "markdown",
   "metadata": {},
   "source": [
    "Além de ser menor, a representação de `nao_primos` como _conjunto_ ao invés de _lista_ leva uma grande vantagem na hora dos testes de pertinência na linha 17."
   ]
  },
  {
   "cell_type": "markdown",
   "metadata": {},
   "source": [
    "A desvantagem da _lista_ pode ser revertida se adotarmos a estratégia do _crivo de Eratóstenes_:\n",
    "\n",
    "1.  Criamos uma lista com todos os candidatos possíveis.\n",
    "1.  Percorremos a lista da esquerda para a direita e, para cada candidato, eliminamos todos os seus múltiplos.\n",
    "1.  Ao chegar ao final, todos os candidatos remanescentes serão primos."
   ]
  },
  {
   "cell_type": "markdown",
   "metadata": {},
   "source": [
    "Para evitar o custo da _eliminação_ dos múltiplos, vamos apenas marcá-los como _não primos_.  \n",
    "Para isso criamos uma lista cujos elementos são todos `True` e convertemos esse valor para `False` quando o elemento é eliminado.\n",
    "\n",
    "Vamos ver como fica..."
   ]
  },
  {
   "cell_type": "code",
   "execution_count": 86,
   "metadata": {},
   "outputs": [
    {
     "name": "stdout",
     "output_type": "stream",
     "text": [
      "      10    0.05937      4 [2, 3, 5, 7] [2, 3, 5, 7]\n",
      "     100    0.00001     25 [2, 3, 5, 7, 11, 13] [71, 73, 79, 83, 89, 97]\n",
      "    1000    0.00008    168 [2, 3, 5, 7, 11, 13] [967, 971, 977, 983, 991, 997]\n",
      "   10000    0.00206   1229 [2, 3, 5, 7, 11, 13] [9929, 9931, 9941, 9949, 9967, 9973]\n",
      "  100000    0.01181   9592 [2, 3, 5, 7, 11, 13] [99923, 99929, 99961, 99971, 99989, 99991]\n",
      " 1000000    0.13580  78498 [2, 3, 5, 7, 11, 13] [999931, 999953, 999959, 999961, 999979, 999983]\n"
     ]
    }
   ],
   "source": [
    "from time import time\n",
    "\n",
    "\n",
    "for p in range(1, 7):\n",
    "    n = 10**p\n",
    "    raiz_n = int(n**0.5) + 1\n",
    "    \n",
    "    start = time()\n",
    "    crivo = [True] * n\n",
    "    for k in range(3, raiz_n, 2):\n",
    "        if crivo[k]:\n",
    "            for i in range(k*k, n, 2*k):\n",
    "                crivo[i] = False\n",
    "    primos = [2] + [i for i in range(3, n, 2) if crivo[i]]\n",
    "    end = time()\n",
    "    \n",
    "    print(f'{n:8} {end - start:10.5f} {len(primos):6} {primos[:6]} {primos[-6:]}')"
   ]
  },
  {
   "cell_type": "markdown",
   "metadata": {},
   "source": []
  },
  {
   "cell_type": "code",
   "execution_count": 83,
   "metadata": {},
   "outputs": [
    {
     "name": "stdout",
     "output_type": "stream",
     "text": [
      "      10    0.00001      4 [2, 3, 5, 7] [2, 3, 5, 7]\n",
      "     100    0.00001     25 [2, 3, 5, 7, 11, 13] [71, 73, 79, 83, 89, 97]\n",
      "    1000    0.00010    168 [2, 3, 5, 7, 11, 13] [967, 971, 977, 983, 991, 997]\n",
      "   10000    0.00657   1229 [2, 3, 5, 7, 11, 13] [9929, 9931, 9941, 9949, 9967, 9973]\n",
      "  100000    0.00613   9592 [2, 3, 5, 7, 11, 13] [99923, 99929, 99961, 99971, 99989, 99991]\n",
      " 1000000    0.06205  78498 [2, 3, 5, 7, 11, 13] [999931, 999953, 999959, 999961, 999979, 999983]\n"
     ]
    }
   ],
   "source": [
    "from time import time\n",
    "\n",
    "\n",
    "for p in range(1, 7):\n",
    "    n = 10**p\n",
    "    raiz_n = int(n**0.5) + 1\n",
    "    \n",
    "    start = time()\n",
    "    crivo = [True] * n\n",
    "    for k in range(3, raiz_n, 2):\n",
    "        if crivo[k]:\n",
    "            crivo[k*k::2*k] = [False] * ((n - 1 - k * k) // (2 * k) + 1)\n",
    "    primos = [2] + [i for i in range(3, n, 2) if crivo[i]]\n",
    "    end = time()\n",
    "    \n",
    "    print(f'{n:8} {end - start:10.5f} {len(primos):6} {primos[:6]} {primos[-6:]}')"
   ]
  },
  {
   "cell_type": "code",
   "execution_count": 83,
   "metadata": {},
   "outputs": [
    {
     "name": "stdout",
     "output_type": "stream",
     "text": [
      "      10    0.00001      4 [2, 3, 5, 7] [2, 3, 5, 7]\n",
      "     100    0.00001     25 [2, 3, 5, 7, 11, 13] [71, 73, 79, 83, 89, 97]\n",
      "    1000    0.00010    168 [2, 3, 5, 7, 11, 13] [967, 971, 977, 983, 991, 997]\n",
      "   10000    0.00657   1229 [2, 3, 5, 7, 11, 13] [9929, 9931, 9941, 9949, 9967, 9973]\n",
      "  100000    0.00613   9592 [2, 3, 5, 7, 11, 13] [99923, 99929, 99961, 99971, 99989, 99991]\n",
      " 1000000    0.06205  78498 [2, 3, 5, 7, 11, 13] [999931, 999953, 999959, 999961, 999979, 999983]\n"
     ]
    }
   ],
   "source": [
    "from time import time\n",
    "\n",
    "\n",
    "for p in range(1, 7):\n",
    "    n = 10**p\n",
    "    raiz_n = int(n**0.5) + 1\n",
    "    \n",
    "    start = time()\n",
    "    crivo = [True] * n\n",
    "    for k in range(3, raiz_n, 2):\n",
    "        if crivo[k]:\n",
    "            crivo[k*k::2*k] = [False] * ((n - 1 - k * k) // (2 * k) + 1)\n",
    "    primos = [2] + [i for i in range(3, n, 2) if crivo[i]]\n",
    "    end = time()\n",
    "    \n",
    "    print(f'{n:8} {end - start:10.5f} {len(primos):6} {primos[:6]} {primos[-6:]}')"
   ]
  },
  {
   "cell_type": "code",
   "execution_count": 78,
   "metadata": {},
   "outputs": [
    {
     "name": "stdout",
     "output_type": "stream",
     "text": [
      "      10    0.00190      4 [2, 3, 5, 7] [2, 3, 5, 7]\n",
      "     100    0.00001     25 [2, 3, 5, 7, 11, 13] [71, 73, 79, 83, 89, 97]\n",
      "    1000    0.00005    168 [2, 3, 5, 7, 11, 13] [967, 971, 977, 983, 991, 997]\n",
      "   10000    0.00098   1229 [2, 3, 5, 7, 11, 13] [9929, 9931, 9941, 9949, 9967, 9973]\n",
      "  100000    0.00392   9592 [2, 3, 5, 7, 11, 13] [99923, 99929, 99961, 99971, 99989, 99991]\n",
      " 1000000    0.05907  78498 [2, 3, 5, 7, 11, 13] [999931, 999953, 999959, 999961, 999979, 999983]\n"
     ]
    }
   ],
   "source": [
    "from time import time\n",
    "\n",
    "\n",
    "for p in range(1, 7):\n",
    "    n = 10**p\n",
    "    raiz_n = int(n**0.5) + 1\n",
    "    \n",
    "    start = time()\n",
    "    crivo = [True] * (n // 2)\n",
    "    for k in range(3, raiz_n, 2):\n",
    "        if crivo[k // 2]:\n",
    "            crivo[k*k//2::k] = [False] * ((n-k*k-1)//(2*k)+1)\n",
    "    primos = [2] + [2 * i + 1 for i in range(1, n // 2) if crivo[i]]\n",
    "    end = time()\n",
    "    \n",
    "    print(f'{n:8} {end - start:10.5f} {len(primos):6} {primos[:6]} {primos[-6:]}')"
   ]
  },
  {
   "cell_type": "code",
   "execution_count": null,
   "metadata": {},
   "outputs": [],
   "source": []
  }
 ],
 "metadata": {
  "kernelspec": {
   "display_name": "Python 3",
   "language": "python",
   "name": "python3"
  },
  "language_info": {
   "codemirror_mode": {
    "name": "ipython",
    "version": 3
   },
   "file_extension": ".py",
   "mimetype": "text/x-python",
   "name": "python",
   "nbconvert_exporter": "python",
   "pygments_lexer": "ipython3",
   "version": "3.6.4"
  },
  "latex_envs": {
   "LaTeX_envs_menu_present": true,
   "autocomplete": true,
   "bibliofile": "biblio.bib",
   "cite_by": "apalike",
   "current_citInitial": 1,
   "eqLabelWithNumbers": true,
   "eqNumInitial": 1,
   "hotkeys": {
    "equation": "Ctrl-E",
    "itemize": "Ctrl-I"
   },
   "labels_anchors": false,
   "latex_user_defs": false,
   "report_style_numbering": false,
   "user_envs_cfg": false
  },
  "toc": {
   "nav_menu": {},
   "number_sections": false,
   "sideBar": true,
   "skip_h1_title": true,
   "title_cell": "Table of Contents",
   "title_sidebar": "Contents",
   "toc_cell": false,
   "toc_position": {},
   "toc_section_display": true,
   "toc_window_display": false
  }
 },
 "nbformat": 4,
 "nbformat_minor": 2
}
