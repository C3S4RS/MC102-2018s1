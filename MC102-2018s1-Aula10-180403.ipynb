{
 "cells": [
  {
   "cell_type": "code",
   "execution_count": 1,
   "metadata": {},
   "outputs": [],
   "source": [
    "from IPython.core.interactiveshell import InteractiveShell\n",
    "InteractiveShell.ast_node_interactivity = \"all\""
   ]
  },
  {
   "cell_type": "markdown",
   "metadata": {},
   "source": [
    "# Laços encaixados e uma introdução à sua otimização"
   ]
  },
  {
   "cell_type": "markdown",
   "metadata": {},
   "source": [
    "## Exemplo: _Dada uma sequência arbitrária de inteiros não-negativos, encontrar o par mais próximo_\n",
    "Ler uma sequência arbitrária $S$ de $n$ inteiros não-negativos e ___depois___ encontrar $i, 0 \\le i \\lt n$ e $j, 0 \\le j \\lt n$, $i \\ne j$, tais que a distância entre $S_i$ e $S_j$, isto é,  $\\lvert S_i - S_j \\rvert$, seja mínima."
   ]
  },
  {
   "cell_type": "markdown",
   "metadata": {},
   "source": [
    "### Desenvolvimento da solução"
   ]
  },
  {
   "cell_type": "markdown",
   "metadata": {},
   "source": [
    "Em nível mais abstrato, a solução deste problema tem estrutura semelhante à de vários exemplos anteriores:\n",
    "```python\n",
    "ler a sequência S\n",
    "encontrar os dois elementos mais próximos em S\n",
    "exibir a solução\n",
    "```"
   ]
  },
  {
   "cell_type": "markdown",
   "metadata": {},
   "source": [
    "Para `“ler a sequência S”` temos pelo menos duas saídas já conhecidas:"
   ]
  },
  {
   "cell_type": "code",
   "execution_count": 2,
   "metadata": {},
   "outputs": [
    {
     "name": "stdout",
     "output_type": "stream",
     "text": [
      "[12, 34, 65, 22, 76, 35, 98, 47, 18, 56]\n"
     ]
    }
   ],
   "source": [
    "n = int(input('Número de elementos? '))\n",
    "S = []\n",
    "for i in range(n):\n",
    "    S.append(int(input('Elemento #' + str(i + 1) + '? ')))\n",
    "print(S)"
   ]
  },
  {
   "cell_type": "code",
   "execution_count": 3,
   "metadata": {},
   "outputs": [
    {
     "name": "stdout",
     "output_type": "stream",
     "text": [
      "[12, 34, 65, 22, 76, 35, 98, 47, 18, 56]\n"
     ]
    }
   ],
   "source": [
    "S = [int(x) for x in input('Sequência de inteiros? ').split()]\n",
    "print(S)"
   ]
  },
  {
   "cell_type": "markdown",
   "metadata": {},
   "source": [
    "No entanto, em problemas como este, em geral vamos querer trabalhar com sequências mais longas.  \n",
    "Isso inviabiliza a digitação de valores, especialmente quando se lembra que a execução poderá ter que ser repetida diversas vezes enquanto depuramos o algoritmo.\n",
    "\n",
    "Uma saída mais apropriada é gerar uma sequência de valores psudo-aleatórios usando o módulo _random_."
   ]
  },
  {
   "cell_type": "code",
   "execution_count": 4,
   "metadata": {},
   "outputs": [
    {
     "name": "stdout",
     "output_type": "stream",
     "text": [
      "[767017, 132838, 862093, 573006, 766676, 6976, 45506, 954672, 504030, 638343]\n",
      "[767017, 132838, 862093, 573006, 766676, 6976, 45506, 954672, 504030, 638343]\n"
     ]
    }
   ],
   "source": [
    "from random import choices\n",
    "\n",
    "n = 10\n",
    "S = choices(range(1000000), k=n)\n",
    "print(S[:10])\n",
    "print(S[-10:])"
   ]
  },
  {
   "cell_type": "markdown",
   "metadata": {},
   "source": [
    "Sequências de números pseudo-aleatórios são geradas a partir de uma *semente*. Se usarmos uma mesma *semente* seremos capazes de repetir uma sequência quantas vezes quisermos. \n",
    "\n",
    "Para gerar uma sequência “imprevisível”, em geral usamos o valor do relógio da máquina como *semente*.  \n",
    "Se salvarmos o valor usado como *semente*, a sequência poderá ser repetida. Por exemplo,..."
   ]
  },
  {
   "cell_type": "code",
   "execution_count": 14,
   "metadata": {},
   "outputs": [],
   "source": [
    "import time\n",
    "import random"
   ]
  },
  {
   "cell_type": "code",
   "execution_count": 15,
   "metadata": {},
   "outputs": [
    {
     "data": {
      "text/plain": [
       "1522774615.6208708"
      ]
     },
     "execution_count": 15,
     "metadata": {},
     "output_type": "execute_result"
    }
   ],
   "source": [
    "t_inicial = time.time()\n",
    "t_inicial"
   ]
  },
  {
   "cell_type": "code",
   "execution_count": 17,
   "metadata": {},
   "outputs": [
    {
     "name": "stdout",
     "output_type": "stream",
     "text": [
      "[476664, 143750, 170339, 26096, 496141, 700598, 465113, 867643, 325811, 49003]\n"
     ]
    }
   ],
   "source": [
    "random.seed(t_inicial)\n",
    "\n",
    "S1 = random.choices(range(1000000), k=10)\n",
    "print(S1)"
   ]
  },
  {
   "cell_type": "code",
   "execution_count": 18,
   "metadata": {},
   "outputs": [
    {
     "name": "stdout",
     "output_type": "stream",
     "text": [
      "[456551, 691637, 335538, 835016, 255803, 404420, 213287, 973929, 537208, 186341]\n"
     ]
    }
   ],
   "source": [
    "S2 = random.choices(range(1000000), k=10)\n",
    "print(S2)"
   ]
  },
  {
   "cell_type": "code",
   "execution_count": 21,
   "metadata": {},
   "outputs": [
    {
     "data": {
      "text/plain": [
       "False"
      ]
     },
     "execution_count": 21,
     "metadata": {},
     "output_type": "execute_result"
    }
   ],
   "source": [
    "S1 == S2"
   ]
  },
  {
   "cell_type": "markdown",
   "metadata": {},
   "source": [
    "Neste caso, geramos `S1` e depois `S2`, sem “re-semear” o gerador de aleatórios. Por causa disso, `S1` e `S2` são diferentes.\n",
    "\n",
    "No entanto, quando “re-semeamos” o gerador, obtemos `S3` igual a `S1`."
   ]
  },
  {
   "cell_type": "code",
   "execution_count": 19,
   "metadata": {},
   "outputs": [
    {
     "name": "stdout",
     "output_type": "stream",
     "text": [
      "[476664, 143750, 170339, 26096, 496141, 700598, 465113, 867643, 325811, 49003]\n"
     ]
    }
   ],
   "source": [
    "random.seed(t_inicial)\n",
    "\n",
    "S3 = random.choices(range(1000000), k=10)\n",
    "print(S3)"
   ]
  },
  {
   "cell_type": "code",
   "execution_count": 22,
   "metadata": {},
   "outputs": [
    {
     "data": {
      "text/plain": [
       "True"
      ]
     },
     "execution_count": 22,
     "metadata": {},
     "output_type": "execute_result"
    }
   ],
   "source": [
    "S1 == S3"
   ]
  },
  {
   "cell_type": "markdown",
   "metadata": {},
   "source": [
    "Com isso, nossa geração de dados fica assim..."
   ]
  },
  {
   "cell_type": "code",
   "execution_count": 14,
   "metadata": {},
   "outputs": [],
   "source": [
    "import time\n",
    "import random"
   ]
  },
  {
   "cell_type": "code",
   "execution_count": 23,
   "metadata": {},
   "outputs": [],
   "source": [
    "t_inicial = time.time()"
   ]
  },
  {
   "cell_type": "code",
   "execution_count": 26,
   "metadata": {},
   "outputs": [],
   "source": [
    "random.seed(t_inicial)\n",
    "\n",
    "n = 10\n",
    "S = random.choices(range(1000000), k=n)"
   ]
  },
  {
   "cell_type": "markdown",
   "metadata": {},
   "source": [
    "Uma vez obtida a sequência, vamos procurar o par mais próximo. Para isso temos que comparar todos os pares possíveis, isto é, o problema pede uma solução por enumeração exaustiva."
   ]
  },
  {
   "cell_type": "markdown",
   "metadata": {},
   "source": [
    "Aproveitando exemplos anteriores, podemos esboçar nossa solução como:\n",
    "```Python\n",
    "for i in range(n):\n",
    "    for j in range(n):\n",
    "        se i diferente de j e distância entre S[i] e S[j] menor que a menor já observada:\n",
    "            salvar i, j, distância entre S[i] e S[j]\n",
    "```"
   ]
  },
  {
   "cell_type": "markdown",
   "metadata": {},
   "source": [
    "Vamos representar esse esboço em Python?"
   ]
  },
  {
   "cell_type": "code",
   "execution_count": 5,
   "metadata": {},
   "outputs": [],
   "source": [
    "min_dist = 10e10\n",
    "for i in range(n):\n",
    "    for j in range(n):\n",
    "        if i != j and abs(S[i] - S[j]) < min_dist:\n",
    "            min_i, min_j, min_dist = i, j, abs(S[i] - S[j])"
   ]
  },
  {
   "cell_type": "markdown",
   "metadata": {},
   "source": [
    "Agora só falta exibir o resultado..."
   ]
  },
  {
   "cell_type": "code",
   "execution_count": 6,
   "metadata": {},
   "outputs": [
    {
     "name": "stdout",
     "output_type": "stream",
     "text": [
      "     10       0  767017       4  766676     341\n"
     ]
    }
   ],
   "source": [
    "print(f'{n:7}  {min_i:6}  {S[min_i]:6}  {min_j:6}  {S[min_j]:6}  {min_dist:6}')"
   ]
  },
  {
   "cell_type": "markdown",
   "metadata": {},
   "source": [
    "E se quisermos testar nosso programa com diferentes sequências?  \n",
    "*   Podemos, por exemplo, gerar uma longa sequência S e depois extrair dela subsequências a serem estudadas."
   ]
  },
  {
   "cell_type": "code",
   "execution_count": 7,
   "metadata": {},
   "outputs": [
    {
     "name": "stdout",
     "output_type": "stream",
     "text": [
      "[56894249, 3073965, 72567090, 10370402, 67991005, 21109721, 55403145, 89433917, 36267768, 6174833]\n",
      "[50007272, 28857364, 24879461, 13915948, 8666166, 83157594, 22510722, 74591083, 68654306, 61844282]\n"
     ]
    }
   ],
   "source": [
    "from random import choices\n",
    "\n",
    "S = choices(range(100000000), k=10000000)\n",
    "print(S[:10])\n",
    "print(S[-10:])"
   ]
  },
  {
   "cell_type": "markdown",
   "metadata": {},
   "source": [
    "Para poder analisar o desempenho do nosso algoritmo para sequências de diversos tamanhos, vamos medir o tempo gasto usando a função `perf_counter` do módulo `time`."
   ]
  },
  {
   "cell_type": "code",
   "execution_count": 8,
   "metadata": {},
   "outputs": [
    {
     "name": "stdout",
     "output_type": "stream",
     "text": [
      "      n      demora         i      S[i]         j      S[j]      dist\n",
      "     10     0.00004         0  56894249         6  55403145   1491104\n",
      "    100     0.00329        27  89091352        59  89102102     10750\n",
      "   1000     0.27427       270  81486488       663  81486244       244\n",
      "  10000    27.22575       638  44352442      4730  44352442         0\n"
     ]
    }
   ],
   "source": [
    "from time import perf_counter\n",
    "\n",
    "print(f\"{'n':>7}  {'demora':>10}  {'i':>8}  {'S[i]':>8}  {'j':>8}  {'S[j]':>8}  {'dist':>8}\")\n",
    "for n in [10, 100, 1000, 10000]:\n",
    "    start = perf_counter()\n",
    "    min_dist = 10e10\n",
    "    for i in range(n):\n",
    "        for j in range(n):\n",
    "            if i != j and abs(S[i] - S[j]) < min_dist:\n",
    "                min_i, min_j, min_dist = i, j, abs(S[i] - S[j])\n",
    "    end = perf_counter()\n",
    "    print(f'{n:7}  {end - start:10.5f}  {min_i:8}  {S[min_i]:8}  {min_j:8}  {S[min_j]:8}  {min_dist:8}')"
   ]
  },
  {
   "cell_type": "markdown",
   "metadata": {},
   "source": [
    "Você consegue notar algum padrão no tempo gasto pelo algoritmo?"
   ]
  },
  {
   "cell_type": "markdown",
   "metadata": {},
   "source": [
    "-   Sim, quando o tamanho da amostra cresce 10 vezes, o tempo gasto cresce 100!"
   ]
  },
  {
   "cell_type": "markdown",
   "metadata": {},
   "source": [
    "O que você espera que vá acontecer se tivermos 100.000 elementos para examinar?"
   ]
  },
  {
   "cell_type": "markdown",
   "metadata": {},
   "source": [
    "*   A execução vai demorar cerca de 40 minutos!"
   ]
  },
  {
   "cell_type": "markdown",
   "metadata": {},
   "source": [
    "Será possível melhorar esse desempenho?\n",
    "\n",
    "-   Como tanto $i$ quanto $j$ assumem valores em `range(n)` estamos calculando não só $\\lvert\\, S[i] - S[j] \\,\\rvert$ mas também $\\lvert\\, S[j] - S[i] \\,\\rvert$.  \n",
    "    Deve ser possível eliminar o teste redundante. Você consegue fazer isso?"
   ]
  },
  {
   "cell_type": "code",
   "execution_count": null,
   "metadata": {},
   "outputs": [],
   "source": [
    "from time import perf_counter\n",
    "\n",
    "print(f\"{'n':>7}  {'demora':>10}  {'i':>8}  {'S[i]':>8}  {'j':>8}  {'S[j]':>8}  {'dist':>8}\")\n",
    "\n",
    "for n in [10, 100, 1000, 10000]:\n",
    "    start = perf_counter()\n",
    "    min_dist = 10e10\n",
    "    for i in range(n):\n",
    "        for j in range(n):\n",
    "            if i != j and abs(S[i] - S[j]) < min_dist:\n",
    "                min_i, min_j, min_dist = i, j, abs(S[i] - S[j])\n",
    "    end = perf_counter()\n",
    "    print(f'{n:7}  {end - start:10.5f}  {min_i:8}  {S[min_i]:8}  {min_j:8}  {S[min_j]:8}  {min_dist:8}')"
   ]
  },
  {
   "cell_type": "markdown",
   "metadata": {},
   "source": [
    "##### Solução"
   ]
  },
  {
   "cell_type": "code",
   "execution_count": 9,
   "metadata": {},
   "outputs": [
    {
     "name": "stdout",
     "output_type": "stream",
     "text": [
      "      n      demora         i      S[i]         j      S[j]      dist\n",
      "     10     0.00003         0  56894249         6  55403145   1491104\n",
      "    100     0.00201        27  89091352        59  89102102     10750\n",
      "   1000     0.14664       270  81486488       663  81486244       244\n",
      "  10000    13.54334       638  44352442      4730  44352442         0\n"
     ]
    }
   ],
   "source": [
    "from time import perf_counter\n",
    "\n",
    "print(f\"{'n':>7}  {'demora':>10}  {'i':>8}  {'S[i]':>8}  {'j':>8}  {'S[j]':>8}  {'dist':>8}\")\n",
    "\n",
    "for n in [10, 100, 1000, 10000]:\n",
    "    start = perf_counter()\n",
    "    min_dist = 10e10\n",
    "    for i in range(n):\n",
    "        for j in range(i + 1, n):\n",
    "            if i != j and abs(S[i] - S[j]) < min_dist:\n",
    "                min_i, min_j, min_dist = i, j, abs(S[i] - S[j])\n",
    "    end = perf_counter()\n",
    "    print(f'{n:7}  {end - start:10.5f}  {min_i:8}  {S[min_i]:8}  {min_j:8}  {S[min_j]:8}  {min_dist:8}')"
   ]
  },
  {
   "cell_type": "markdown",
   "metadata": {},
   "source": [
    "Melhorou, mas, mesmo assim, quando o tamanho da amostra cresce 10 vezes, o tempo gasto continua crescendo 100.  \n",
    "De uma maneira mais formal, dizemos que a complexidade desse algoritmo é da ordem de $n^2$ e representamos essa relação como $\\mathcal{O}(n^2)$.  \n",
    "Esse comportamento pode inviabilizar o uso desta solução para grandes amostras.\n",
    "\n",
    "Você consegue identificar onde está essa demora e por que isso acontece?"
   ]
  },
  {
   "cell_type": "markdown",
   "metadata": {},
   "source": [
    "-   O problema é que temos dois _loops_ aninhados percorrendo a amostra. Para cada valor do _loop_ externo, o _loop_ interno faz uma varredura completa, isto é, examina da ordem de $n$ valores. O _loop_ externo também examina $n$ valores.  \n",
    "    Portanto, para uma amostra de tamanho $n$, os dois _loops_ combinados realizam da ordem de $n^2$ operações, o que explica o comportamento do algoritmo. \n",
    "\n",
    "Não importa o que a gente faça, se continuarmos com dois _loops_ aninhados como esses, o tempo gasto na solução será da ordem de $n^2$.\n",
    "\n",
    "Para alterar esse comportamento, temos que mudar a nossa abordagem."
   ]
  },
  {
   "cell_type": "markdown",
   "metadata": {},
   "source": [
    "Você consegue pensar em algum caso particular no qual a solução do problema seria mais rápida?"
   ]
  },
  {
   "cell_type": "markdown",
   "metadata": {},
   "source": [
    "-   Por exemplo, se a lista estivesse ordenada, isso nos ajudaria?  \n",
    "    Sim, porque aí o par mais próximo seria sempre composto por dois elementos adjacentes."
   ]
  },
  {
   "cell_type": "markdown",
   "metadata": {},
   "source": [
    "-   E daí?  \n",
    "    Daí, nós poderíamos dispensar o _loop_ interno."
   ]
  },
  {
   "cell_type": "markdown",
   "metadata": {},
   "source": [
    "Como a lista pode não estar ordenada, vamos ordená-la usando uma função disponível em Python.  \n",
    "Um bom algoritmo de ordenação de listas tem complexidade $\\mathcal{O}(n \\cdot \\log_2 n)$, o que é muito melhor do que $\\mathcal{O}(n^2)$."
   ]
  },
  {
   "cell_type": "markdown",
   "metadata": {},
   "source": [
    "Você consegue incorporar essas alterações à nossa solução?"
   ]
  },
  {
   "cell_type": "code",
   "execution_count": 11,
   "metadata": {},
   "outputs": [
    {
     "name": "stdout",
     "output_type": "stream",
     "text": [
      "      n       tempo       i    S[i]       j    S[j]    dist\n",
      "     10     0.00002       0  56894249       6  55403145  1491104\n",
      "    100     0.00148      27  89091352      59  89102102   10750\n",
      "   1000     0.14082     270  81486488     663  81486244     244\n",
      "  10000    12.12684     638  44352442    4730  44352442       0\n"
     ]
    }
   ],
   "source": [
    "from time import perf_counter\n",
    "\n",
    "print(f\"{'n':>7}  {'tempo':>10}  {'i':>6}  {'S[i]':>6}  {'j':>6}  {'S[j]':>6}  {'dist':>6}\")\n",
    "for n in [10, 100, 1000, 10000]:\n",
    "    start = perf_counter()\n",
    "    min_dist = 10e10\n",
    "    for i in range(n):\n",
    "        for j in range(i + 1, n):\n",
    "            if i != j and abs(S[i] - S[j]) < min_dist:\n",
    "                min_i, min_j, min_dist = i, j, abs(S[i] - S[j])\n",
    "    end = perf_counter()\n",
    "    print(f'{n:7}  {end - start:10.5f}  {min_i:6}  {S[min_i]:6}  {min_j:6}  {S[min_j]:6}  {min_dist:6}')"
   ]
  },
  {
   "cell_type": "markdown",
   "metadata": {},
   "source": [
    "### Solução"
   ]
  },
  {
   "cell_type": "code",
   "execution_count": 13,
   "metadata": {
    "scrolled": true
   },
   "outputs": [
    {
     "name": "stdout",
     "output_type": "stream",
     "text": [
      "       n       tempo         i      S[i]         j      S[j]      dist\n",
      "      10     0.00001         5  55403145         6  56894249   1491104\n",
      "     100     0.00006        86  89091352        87  89102102     10750\n",
      "    1000     0.00045       831  81486244       832  81486488       244\n",
      "   10000     0.00531      4495  44352442      4496  44352442         0\n",
      "  100000     0.07917       648    705434       649    705434         0\n",
      " 1000000     0.94604       443     45255       444     45255         0\n",
      "10000000    15.12531        14       100        15       100         0\n"
     ]
    }
   ],
   "source": [
    "from time import perf_counter\n",
    "\n",
    "print(f\"{'n':>8}  {'tempo':>10}  {'i':>8}  {'S[i]':>8}  {'j':>8}  {'S[j]':>8}  {'dist':>8}\")\n",
    "for n in [10, 100, 1000, 10000, 100000, 1000000, 10000000]:\n",
    "    start = perf_counter()\n",
    "    Sord = sorted(S[:n])\n",
    "    min_dist = 10e10\n",
    "    for i in range(n - 1):\n",
    "        if abs(Sord[i] - Sord[i + 1]) < min_dist:\n",
    "            min_i, min_dist = i, abs(Sord[i] - Sord[i + 1])\n",
    "    end = perf_counter()\n",
    "    print(f'{n:8}  {end - start:10.5f}  {min_i:8}  {Sord[min_i]:8}  {min_i + 1:8}  {Sord[min_i + 1]:8}  {min_dist:8}')"
   ]
  },
  {
   "cell_type": "markdown",
   "metadata": {},
   "source": [
    "Nosso algoritmo agora passa a ter um bom desempenho, mesmo para grandes valores de $n$.  "
   ]
  },
  {
   "cell_type": "markdown",
   "metadata": {},
   "source": [
    "## Exemplo: _Gerar todos os números primos menores que um valor dado_\n",
    "Ler um inteiro $n$ e criar uma lista com todos os números primos menores do que $n$."
   ]
  },
  {
   "cell_type": "markdown",
   "metadata": {},
   "source": [
    "### Desenvolvimento da solução"
   ]
  },
  {
   "cell_type": "markdown",
   "metadata": {},
   "source": [
    "Este problema também pode ser resolvido por _enumeração exaustiva_. Vamos tentar?"
   ]
  },
  {
   "cell_type": "code",
   "execution_count": null,
   "metadata": {},
   "outputs": [],
   "source": [
    "# ler n"
   ]
  },
  {
   "cell_type": "code",
   "execution_count": null,
   "metadata": {},
   "outputs": [],
   "source": [
    "primos = []\n",
    "for k in range(2, n):\n",
    "    # verificar se k é primo\n",
    "    # se k é primo: adicionar k à lista de primos"
   ]
  },
  {
   "cell_type": "code",
   "execution_count": null,
   "metadata": {},
   "outputs": [],
   "source": [
    "print(primos)"
   ]
  },
  {
   "cell_type": "markdown",
   "metadata": {},
   "source": [
    "Feito o primeiro esboço, podemos começar a detalhá-lo..."
   ]
  },
  {
   "cell_type": "code",
   "execution_count": 14,
   "metadata": {},
   "outputs": [],
   "source": [
    "# ler n\n",
    "n = int(input('Primos até quanto? '))"
   ]
  },
  {
   "cell_type": "code",
   "execution_count": 15,
   "metadata": {},
   "outputs": [],
   "source": [
    "primos = []\n",
    "for k in range(2, n):\n",
    "    # testar se k é primo\n",
    "    k_eh_primo = True\n",
    "    for d in range(2, k):\n",
    "        if k % d == 0:\n",
    "            k_eh_primo = False\n",
    "    # se k é primo: adicionar k à lista primos\n",
    "    if k_eh_primo:\n",
    "        primos += [k]"
   ]
  },
  {
   "cell_type": "code",
   "execution_count": 16,
   "metadata": {},
   "outputs": [
    {
     "name": "stdout",
     "output_type": "stream",
     "text": [
      "[2, 3, 5, 7, 11, 13, 17, 19, 23, 29, 31, 37, 41, 43, 47]\n"
     ]
    }
   ],
   "source": [
    "print(primos)"
   ]
  },
  {
   "cell_type": "markdown",
   "metadata": {},
   "source": [
    "Lembrando do exemplo anterior...  \n",
    "Será que esse algoritmo funciona bem para qualquer tamanho de amostra?\n",
    "\n",
    "Você consegue antecipar uma resposta antes de testá-lo?  \n",
    "Por que?"
   ]
  },
  {
   "cell_type": "code",
   "execution_count": 35,
   "metadata": {},
   "outputs": [
    {
     "name": "stdout",
     "output_type": "stream",
     "text": [
      "       n      demora   #primos  primos[:6] + primos[-6:]\n",
      "      10     0.00003         4  [2, 3, 5, 7]  [2, 3, 5, 7]\n",
      "     100     0.00049        25  [2, 3, 5, 7, 11, 13]  [71, 73, 79, 83, 89, 97]\n",
      "    1000     0.05424       168  [2, 3, 5, 7, 11, 13]  [967, 971, 977, 983, 991, 997]\n",
      "   10000     4.50629      1229  [2, 3, 5, 7, 11, 13]  [9929, 9931, 9941, 9949, 9967, 9973]\n"
     ]
    }
   ],
   "source": [
    "from time import perf_counter\n",
    "\n",
    "print(f\"{'n':>8}  {'demora':>10}  {'#primos':>8}  {'primos[:6] + primos[-6:]'}\")\n",
    "\n",
    "for n in [10, 100, 1000, 10000]:\n",
    "    start = perf_counter()\n",
    "    \n",
    "    primos = []\n",
    "    for k in range(2, n):\n",
    "        # testar se k é primo\n",
    "        k_eh_primo = True\n",
    "        for d in range(2, k):\n",
    "            if k % d == 0:\n",
    "                k_eh_primo = False\n",
    "        # se k é primo: adicionar k à lista primos\n",
    "        if k_eh_primo:\n",
    "            primos += [k]\n",
    "    \n",
    "    end = perf_counter()\n",
    "    \n",
    "    print(f'{n:8}  {end - start:10.5f}  {len(primos):8}  {primos[:6]}  {primos[-6:]}')"
   ]
  },
  {
   "cell_type": "markdown",
   "metadata": {},
   "source": [
    "Com os dois _loops_ aninhados, o tempo gasto por este algoritmo para examinar $n$ candiadatos é da ordem de $n^2$, o que o torna impraticável para grandes valores de $n$. "
   ]
  },
  {
   "cell_type": "markdown",
   "metadata": {},
   "source": [
    "Podemos melhorar esse desempenho, se nos lembrarmos de que:\n",
    "\n",
    "-   O único primo par é $2$ e, portanto, podemos examinar apenas candidatos ímpares.\n",
    "-   Como os candidatos serão ímpares, não faz sentido tentar dividi-los por números pares, o que também reduz o número de divisores à metade.\n",
    "-   O loop interno pode ser interrompido assim que concluirmos que _k não é primo_,"
   ]
  },
  {
   "cell_type": "markdown",
   "metadata": {},
   "source": [
    "Vamos incorporar essas alterações ao nosso algoritmo."
   ]
  },
  {
   "cell_type": "code",
   "execution_count": 34,
   "metadata": {
    "scrolled": true
   },
   "outputs": [
    {
     "name": "stdout",
     "output_type": "stream",
     "text": [
      "       n      demora   #primos  primos[:6] + primos[-6:]\n",
      "      10     0.00093         4  [2, 3, 5, 7]  [2, 3, 5, 7]\n",
      "     100     0.00008        25  [2, 3, 5, 7, 11, 13]  [71, 73, 79, 83, 89, 97]\n",
      "    1000     0.00426       168  [2, 3, 5, 7, 11, 13]  [967, 971, 977, 983, 991, 997]\n",
      "   10000     0.27773      1229  [2, 3, 5, 7, 11, 13]  [9929, 9931, 9941, 9949, 9967, 9973]\n"
     ]
    }
   ],
   "source": [
    "from time import perf_counter\n",
    "\n",
    "print(f\"{'n':>8}  {'demora':>10}  {'#primos':>8}  {'primos[:6] + primos[-6:]'}\")\n",
    "\n",
    "for n in [10, 100, 1000, 10000]:\n",
    "    \n",
    "    start = perf_counter()\n",
    "    \n",
    "    primos = [2]\n",
    "    for k in range(3, n, 2):\n",
    "        # testar se k é primo\n",
    "        k_eh_primo = True\n",
    "        for d in range(3, k, 2):\n",
    "            if k % d == 0:\n",
    "                k_eh_primo = False\n",
    "                break\n",
    "        # se k é primo: adicionar k à lista primos\n",
    "        if k_eh_primo:\n",
    "            primos += [k]\n",
    "    end = perf_counter()\n",
    "    \n",
    "    print(f'{n:8}  {end - start:10.5f}  {len(primos):8}  {primos[:6]}  {primos[-6:]}')"
   ]
  },
  {
   "cell_type": "markdown",
   "metadata": {},
   "source": [
    "O desempenho melhorou, mas mudou a sua relação com $n$?  \n",
    "Não, sua complexidade continua sendo $\\mathcal{O}(n^2)$.\n",
    "\n",
    "Por que será?"
   ]
  },
  {
   "cell_type": "markdown",
   "metadata": {},
   "source": [
    "Você consegue pensar em alguma melhoria simples?  \n",
    "Você está satisfeito com os limites dos _loops_?"
   ]
  },
  {
   "cell_type": "markdown",
   "metadata": {},
   "source": [
    "-   Não parece ser possível alterar o _loop_ externo.\n",
    "-   Mas é possível limitar a `range` do _loop_ interno a $\\sqrt{n}$.  \n",
    "    Por que?"
   ]
  },
  {
   "cell_type": "code",
   "execution_count": 33,
   "metadata": {},
   "outputs": [
    {
     "name": "stdout",
     "output_type": "stream",
     "text": [
      "       n      demora   #primos  primos[:6] + primos[-6:]\n",
      "      10     0.00014         4  [2, 3, 5, 7]  [2, 3, 5, 7]\n",
      "     100     0.00009        25  [2, 3, 5, 7, 11, 13]  [71, 73, 79, 83, 89, 97]\n",
      "    1000     0.00063       168  [2, 3, 5, 7, 11, 13]  [967, 971, 977, 983, 991, 997]\n",
      "   10000     0.01023      1229  [2, 3, 5, 7, 11, 13]  [9929, 9931, 9941, 9949, 9967, 9973]\n",
      "  100000     0.14949      9592  [2, 3, 5, 7, 11, 13]  [99923, 99929, 99961, 99971, 99989, 99991]\n",
      " 1000000     3.04629     78498  [2, 3, 5, 7, 11, 13]  [999931, 999953, 999959, 999961, 999979, 999983]\n"
     ]
    }
   ],
   "source": [
    "from time import perf_counter\n",
    "\n",
    "print(f\"{'n':>8}  {'demora':>10}  {'#primos':>8}  {'primos[:6] + primos[-6:]'}\")\n",
    "\n",
    "for n in [10, 100, 1000, 10000, 100000, 1000000]:\n",
    "    \n",
    "    start = perf_counter()\n",
    "    \n",
    "    primos = [2]\n",
    "    for k in range(3, n, 2):\n",
    "        # testar se k é primo\n",
    "        k_eh_primo = True\n",
    "        for d in range(3, int(k**0.5) + 1, 2):\n",
    "            if k % d == 0:\n",
    "                k_eh_primo = False\n",
    "                break\n",
    "        # se k for primo, adicionar k à lista primos\n",
    "        if k_eh_primo:\n",
    "            primos.append(k)\n",
    "    end = perf_counter()\n",
    "    \n",
    "    print(f'{n:8}  {end - start:10.5f}  {len(primos):8}  {primos[:6]}  {primos[-6:]}')"
   ]
  },
  {
   "cell_type": "markdown",
   "metadata": {},
   "source": [
    "O desempenho já melhorou bastante e talvez seja suficiente para um grande número de aplicações.  \n",
    "Mas, e se quiséssemos algo mais rápido?\n",
    "\n",
    "Podemos tentar outra abordagem.  \n",
    "Por exemplo, criar uma lista de _não primos_ e, a partir dela, derivar uma lista de _primos_.\n",
    "\n",
    "Para criar a lista de _não primos_, para cada candidato $k$ vamos colocar na lista todos os seus múltiplos ímpares."
   ]
  },
  {
   "cell_type": "code",
   "execution_count": 32,
   "metadata": {},
   "outputs": [
    {
     "name": "stdout",
     "output_type": "stream",
     "text": [
      "       n      demora   #primos  primos[:6] + primos[-6:]\n",
      "      10     0.00134         4  [2, 3, 5, 7]  [2, 3, 5, 7]\n",
      "     100     0.00003        25  [2, 3, 5, 7, 11, 13]  [71, 73, 79, 83, 89, 97]\n",
      "    1000     0.00229       168  [2, 3, 5, 7, 11, 13]  [967, 971, 977, 983, 991, 997]\n",
      "   10000     0.22776      1229  [2, 3, 5, 7, 11, 13]  [9929, 9931, 9941, 9949, 9967, 9973]\n",
      "  100000    23.76659      9592  [2, 3, 5, 7, 11, 13]  [99923, 99929, 99961, 99971, 99989, 99991]\n"
     ]
    }
   ],
   "source": [
    "from time import perf_counter\n",
    "\n",
    "print(f\"{'n':>8}  {'demora':>10}  {'#primos':>8}  {'primos[:6] + primos[-6:]'}\")\n",
    "\n",
    "for n in [10, 100, 1000, 10000, 100000]:\n",
    "    raiz_n = int(n**0.5)\n",
    "    \n",
    "    start = perf_counter()\n",
    "    nao_primos = []\n",
    "\n",
    "    for k in range(3, raiz_n + 1, 2):\n",
    "        for ik in range(3*k, n, 2*k):\n",
    "            nao_primos += [ik]\n",
    "            \n",
    "    primos = [2]\n",
    "    for p in range(3, n, 2):\n",
    "        if p not in nao_primos:\n",
    "            primos += [p]\n",
    "    end = perf_counter()\n",
    "    \n",
    "    print(f'{n:8}  {end - start:10.5f}  {len(primos):8}  {primos[:6]}  {primos[-6:]}')"
   ]
  },
  {
   "cell_type": "markdown",
   "metadata": {},
   "source": [
    "O desempenho piorou bastante... o que terá acontecido?\n",
    "\n",
    "-   Você consegue ver quantos _loops_ __explícitos__ e __implícitos__ existem agora na nossa solução?  \n",
    "    Será possível melhorar isso?\n",
    "-   Examine as _ranges_ dos _loops_?  \n",
    "    Há algo estranho? Algo que possa ser melhorado?"
   ]
  },
  {
   "cell_type": "markdown",
   "metadata": {},
   "source": [
    "Vamos exibir também o número de elementos na lista de *não primos*.  \n",
    "Veja se isso ajuda..."
   ]
  },
  {
   "cell_type": "code",
   "execution_count": 31,
   "metadata": {},
   "outputs": [
    {
     "name": "stdout",
     "output_type": "stream",
     "text": [
      "       n      demora   #primos  primos[:6] + primos[-6:]\n",
      "      10     0.00140         4  [2, 3, 5, 7]  [2, 3, 5, 7]\n",
      "     100     0.00006        25  [2, 3, 5, 7, 11, 13]  [71, 73, 79, 83, 89, 97]\n",
      "    1000     0.00261       168  [2, 3, 5, 7, 11, 13]  [967, 971, 977, 983, 991, 997]\n",
      "   10000     0.22105      1229  [2, 3, 5, 7, 11, 13]  [9929, 9931, 9941, 9949, 9967, 9973]\n",
      "  100000    23.65300      9592  [2, 3, 5, 7, 11, 13]  [99923, 99929, 99961, 99971, 99989, 99991]\n"
     ]
    }
   ],
   "source": [
    "from time import perf_counter\n",
    "\n",
    "print(f\"{'n':>8}  {'demora':>10}  {'#primos':>8}  {'primos[:6] + primos[-6:]'}\")\n",
    "\n",
    "for n in [10, 100, 1000, 10000, 100000]:\n",
    "    raiz_n = int(n**0.5)\n",
    "        \n",
    "    start = perf_counter()\n",
    "    nao_primos = []\n",
    "\n",
    "    for k in range(3, raiz_n + 1, 2):\n",
    "        for ik in range(3*k, n, 2*k):\n",
    "            nao_primos.append(ik)\n",
    "            \n",
    "    primos = [2]\n",
    "    for p in range(3, n, 2):\n",
    "        if p not in nao_primos:\n",
    "            primos.append(p)\n",
    "    end = perf_counter()\n",
    "    \n",
    "    print(f'{n:8}  {end - start:10.5f}  {len(primos):8}  {primos[:6]}  {primos[-6:]}')"
   ]
  },
  {
   "cell_type": "markdown",
   "metadata": {},
   "source": [
    "Você vê algo estranho?  "
   ]
  },
  {
   "cell_type": "markdown",
   "metadata": {},
   "source": [
    "Observe o comprimento da lista de _não primos_.  \n",
    "Faz sentido? O que terá causado isso?"
   ]
  },
  {
   "cell_type": "markdown",
   "metadata": {},
   "source": [
    "Veja o que fazemos nos _loops_ das linhas 10 e 11.  \n",
    "Para cada $k$ na faixa $\\left[\\,3, 5, \\ldots \\sqrt{n}\\,\\right]$ colocamos todos os seus múltiplos na lista de _não primos_.  \n",
    "\n",
    "Pense no que acontece para $k = 3, 5$ e $7$.  \n",
    "Agora pense no que acontece para $k = 9$.  \n",
    "Nós vamos acrescentar à lista todos os múltiplos de $9$. \n",
    "Mas eles já estão lá porque todos são múltiplos de $3$.  \n",
    "Nossa lista de _não primos_ cresce desnecessariamente. \n",
    "E isso vai nos prejudicar severamente quando formos usá-la para buscar $p$ na linha 16."
   ]
  },
  {
   "cell_type": "markdown",
   "metadata": {},
   "source": [
    "Veja o que acontece quando trocamos _listas_ por _conjuntos_ nesse mesmo algoritmo."
   ]
  },
  {
   "cell_type": "code",
   "execution_count": 27,
   "metadata": {},
   "outputs": [
    {
     "name": "stdout",
     "output_type": "stream",
     "text": [
      "       n      demora   #primos  primos[:6] + primos[-6:]\n",
      "      10     0.01075         4  [2, 3, 5, 7]  [2, 3, 5, 7]\n",
      "     100     0.00005        25  [2, 3, 5, 7, 11, 13]  [71, 73, 79, 83, 89, 97]\n",
      "    1000     0.00065       168  [2, 3, 5, 7, 11, 13]  [967, 971, 977, 983, 991, 997]\n",
      "   10000     0.00723      1229  [2, 3, 5, 7, 11, 13]  [9929, 9931, 9941, 9949, 9967, 9973]\n",
      "  100000     0.09169      9592  [2, 3, 5, 7, 11, 13]  [99923, 99929, 99961, 99971, 99989, 99991]\n",
      " 1000000     1.04663     78498  [2, 3, 5, 7, 11, 13]  [999931, 999953, 999959, 999961, 999979, 999983]\n"
     ]
    }
   ],
   "source": [
    "from time import perf_counter\n",
    "\n",
    "print(f\"{'n':>8}  {'demora':>10}  {'#primos':>8}  {'primos[:6] + primos[-6:]'}\")\n",
    "\n",
    "for n in [10, 100, 1000, 10000, 100000, 1000000]:\n",
    "    raiz_n = int(n**0.5)\n",
    "        \n",
    "    start = perf_counter()\n",
    "    nao_primos = set()\n",
    "\n",
    "    for k in range(3, raiz_n + 1, 2):\n",
    "        for ik in range(3*k, n, 2*k):\n",
    "            nao_primos.add(ik)\n",
    "            \n",
    "    primos = [2]\n",
    "    for p in range(3, n, 2):\n",
    "        if p not in nao_primos:\n",
    "            primos.append(p)\n",
    "    end = perf_counter()\n",
    "    \n",
    "    print(f'{n:8}  {end - start:10.5f}  {len(primos):8}  {primos[:6]}  {primos[-6:]}')"
   ]
  },
  {
   "cell_type": "markdown",
   "metadata": {},
   "source": [
    "Além de ser menor, a representação de `nao_primos` como _conjunto_ ao invés de _lista_ leva uma grande vantagem na hora dos testes de pertinência na linha 16."
   ]
  },
  {
   "cell_type": "markdown",
   "metadata": {},
   "source": [
    "A desvantagem da _lista_ pode ser revertida se adotarmos a estratégia do _crivo de Eratóstenes_:\n",
    "\n",
    "1.  Criamos uma lista com todos os candidatos possíveis.\n",
    "1.  Percorremos a lista da esquerda para a direita e, para cada candidato, eliminamos todos os seus múltiplos.\n",
    "1.  Ao chegar ao final, todos os candidatos remanescentes serão primos."
   ]
  },
  {
   "cell_type": "markdown",
   "metadata": {},
   "source": [
    "Para evitar o custo da _eliminação_ dos múltiplos, vamos apenas marcá-los como _não primos_.  \n",
    "Para isso criamos uma lista cujos elementos são todos `True` e convertemos esse valor para `False` quando o elemento é eliminado.\n",
    "\n",
    "Vamos ver como fica..."
   ]
  },
  {
   "cell_type": "code",
   "execution_count": 26,
   "metadata": {},
   "outputs": [
    {
     "name": "stdout",
     "output_type": "stream",
     "text": [
      "       n      demora   #primos  primos[:6] + primos[-6:]\n",
      "      10     0.00347         4  [2, 3, 5, 7]  [2, 3, 5, 7]\n",
      "     100     0.00002        25  [2, 3, 5, 7, 11, 13]  [71, 73, 79, 83, 89, 97]\n",
      "    1000     0.00009       168  [2, 3, 5, 7, 11, 13]  [967, 971, 977, 983, 991, 997]\n",
      "   10000     0.00093      1229  [2, 3, 5, 7, 11, 13]  [9929, 9931, 9941, 9949, 9967, 9973]\n",
      "  100000     0.01309      9592  [2, 3, 5, 7, 11, 13]  [99923, 99929, 99961, 99971, 99989, 99991]\n",
      " 1000000     0.12817     78498  [2, 3, 5, 7, 11, 13]  [999931, 999953, 999959, 999961, 999979, 999983]\n"
     ]
    }
   ],
   "source": [
    "from time import perf_counter\n",
    "\n",
    "print(f\"{'n':>8}  {'demora':>10}  {'#primos':>8}  {'primos[:6] + primos[-6:]'}\")\n",
    "for n in [10, 100, 1000, 10000, 100000, 1000000]:\n",
    "    raiz_n = int(n**0.5)\n",
    "        \n",
    "    start = perf_counter()\n",
    "    crivo = [True] * n\n",
    "    for k in range(3, raiz_n + 1, 2):\n",
    "        if crivo[k]:\n",
    "            for i in range(k*k, n, 2*k):\n",
    "                crivo[i] = False\n",
    "    primos = [2] + [i for i in range(3, n, 2) if crivo[i]]\n",
    "    end = perf_counter()\n",
    "    \n",
    "    print(f'{n:8}  {end - start:10.5f}  {len(primos):8}  {primos[:6]}  {primos[-6:]}')"
   ]
  },
  {
   "cell_type": "markdown",
   "metadata": {},
   "source": [
    "Finalmente, podemos acelerar nosso algoritmo ainda mais substituindo o _loop_ das linhas 11-12 por uma _list comprehension_...\n",
    "-   Os elementos selecionados pela `range` da linha 11 são `crivo[k*k], crivo[k*k + 2*k], ...`.  \n",
    "-   Numa faixa `[esq...dir)` há `(dir - 1 - esq) // larg` intervalos de largura `larg`.\n",
    "    - Por exemplo, veja a figura abaixo, supondo $esq = 1$, $dir = 10$ e $larg = 1, 2, \\dots5$  \n",
    "    ![](img/intervalos.png)\n",
    "-   Adaptando para o nosso caso e incluindo o elemento inicial, ao todo serão afetados  \n",
    "`(n - 1 - k*k) // (2*k) + 1` elementos, cujos valores devem passar para `False`.\n",
    "\n",
    "Depois de implementar essa alteração, chegamos à nossa versão definitiva."
   ]
  },
  {
   "cell_type": "markdown",
   "metadata": {},
   "source": [
    "### Solução"
   ]
  },
  {
   "cell_type": "code",
   "execution_count": 24,
   "metadata": {},
   "outputs": [
    {
     "name": "stdout",
     "output_type": "stream",
     "text": [
      "       n      demora   #primos  primos[:6] + primos[-6:]\n",
      "      10     0.00254         4  [2, 3, 5, 7]  [2, 3, 5, 7]\n",
      "     100     0.00002        25  [2, 3, 5, 7, 11, 13]  [71, 73, 79, 83, 89, 97]\n",
      "    1000     0.00006       168  [2, 3, 5, 7, 11, 13]  [967, 971, 977, 983, 991, 997]\n",
      "   10000     0.00043      1229  [2, 3, 5, 7, 11, 13]  [9929, 9931, 9941, 9949, 9967, 9973]\n",
      "  100000     0.00456      9592  [2, 3, 5, 7, 11, 13]  [99923, 99929, 99961, 99971, 99989, 99991]\n",
      " 1000000     0.05430     78498  [2, 3, 5, 7, 11, 13]  [999931, 999953, 999959, 999961, 999979, 999983]\n"
     ]
    }
   ],
   "source": [
    "from time import perf_counter\n",
    "\n",
    "print(f\"{'n':>8}  {'demora':>10}  {'#primos':>8}  {'primos[:6] + primos[-6:]'}\")\n",
    "for n in [10, 100, 1000, 10000, 100000, 1000000]:\n",
    "    raiz_n = int(n**0.5)\n",
    "        \n",
    "    start = perf_counter()\n",
    "    crivo = [True] * n\n",
    "    for k in range(3, raiz_n + 1, 2):\n",
    "        if crivo[k]:\n",
    "            crivo[k*k::2*k] = [False] * ((n - 1 - k * k) // (2 * k) + 1)\n",
    "    primos = [2] + [i for i in range(3, n, 2) if crivo[i]]\n",
    "    # primos = [2] + [i for (i, eh_primo) in enumerate(crivo) if eh_primo] \n",
    "    end = perf_counter()\n",
    "    \n",
    "    print(f'{n:8}  {end - start:10.5f}  {len(primos):8}  {primos[:6]}  {primos[-6:]}')"
   ]
  },
  {
   "cell_type": "markdown",
   "metadata": {},
   "source": [
    "Agora nosso algoritmo tem desempenho de gente grande..."
   ]
  }
 ],
 "metadata": {
  "kernelspec": {
   "display_name": "Python 3",
   "language": "python",
   "name": "python3"
  },
  "language_info": {
   "codemirror_mode": {
    "name": "ipython",
    "version": 3
   },
   "file_extension": ".py",
   "mimetype": "text/x-python",
   "name": "python",
   "nbconvert_exporter": "python",
   "pygments_lexer": "ipython3",
   "version": "3.6.4"
  },
  "latex_envs": {
   "LaTeX_envs_menu_present": true,
   "autocomplete": true,
   "bibliofile": "biblio.bib",
   "cite_by": "apalike",
   "current_citInitial": 1,
   "eqLabelWithNumbers": true,
   "eqNumInitial": 1,
   "hotkeys": {
    "equation": "Ctrl-E",
    "itemize": "Ctrl-I"
   },
   "labels_anchors": false,
   "latex_user_defs": false,
   "report_style_numbering": false,
   "user_envs_cfg": false
  },
  "toc": {
   "nav_menu": {},
   "number_sections": false,
   "sideBar": true,
   "skip_h1_title": true,
   "title_cell": "Table of Contents",
   "title_sidebar": "Contents",
   "toc_cell": false,
   "toc_position": {},
   "toc_section_display": true,
   "toc_window_display": false
  }
 },
 "nbformat": 4,
 "nbformat_minor": 2
}
