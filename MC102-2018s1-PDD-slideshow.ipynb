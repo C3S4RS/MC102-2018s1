{
 "cells": [
  {
   "cell_type": "markdown",
   "metadata": {
    "slideshow": {
     "slide_type": "slide"
    }
   },
   "source": [
    "### UNICAMP - Instituto de Computação\n",
    "## MC102 O+P  Algoritmos e Programação de Computadores\n",
    "### Plano de Desenvolvimento da Disciplina\n",
    "\n",
    "#### Professor responsável: **Arthur J. Catto**\n",
    "#### Primeiro semestre de 2018"
   ]
  },
  {
   "cell_type": "markdown",
   "metadata": {
    "slideshow": {
     "slide_type": "slide"
    }
   },
   "source": [
    "## Carga horária\n",
    "\n",
    "- Duração: 90 horas\n",
    "- Distribuição semanal\n",
    "  - Quatro horas de aulas teóricas\n",
    "  - Duas horas de aulas de laboratório\n",
    "  \n",
    "- Frequência mínima: 75%\n",
    "- Veja o [Regimento Geral de Graduação](https://www.dac.unicamp.br/portal/graduacao/regimento-geral)"
   ]
  },
  {
   "cell_type": "markdown",
   "metadata": {
    "slideshow": {
     "slide_type": "subslide"
    }
   },
   "source": [
    "## Ementa\n",
    "\n",
    "- Conceitos básicos de organização de computadores\n",
    "- Construção de **algoritmos** e sua representação em\n",
    "    pseudocódigo e linguagens de alto nível\n",
    "- Desenvolvimento sistemático e **implementação de programas**\n",
    "- Estruturação, depuração, testes e documentação de programas\n",
    "- **Resolução de problemas**\n"
   ]
  },
  {
   "cell_type": "markdown",
   "metadata": {
    "slideshow": {
     "slide_type": "subslide"
    }
   },
   "source": [
    "## Linguagem de Programação\n",
    "- Python (versão 3)\n",
    " - Criada por Guido Van Rossum\n",
    " - Primeiro *release* em 1991\n",
    " - Comunidade dinâmica \n",
    " - Muitas bibliotecas e recursos disponíveis\n",
    "\n",
    "![](img/python-logo.png)"
   ]
  },
  {
   "cell_type": "markdown",
   "metadata": {
    "slideshow": {
     "slide_type": "subslide"
    }
   },
   "source": [
    "## Divulgação de outras informações\n",
    "- Página web da disciplina\n",
    "  - http://www.ic.unicamp.br/~mc102\n",
    "    \n",
    "- Página na Sala de Aula Google específica para as turmas O+P\n",
    "    \n",
    "- E-mails encaminhados ao endereço fornecido pela DAC\n",
    "\n",
    "## Não deixe de acompanhar!\n"
   ]
  },
  {
   "cell_type": "markdown",
   "metadata": {
    "slideshow": {
     "slide_type": "slide"
    }
   },
   "source": [
    "## Elementos para Avaliação\n",
    "- Atividades conceituais\n",
    "- Tarefas de laboratório\n",
    "- Provas teóricas"
   ]
  },
  {
   "cell_type": "markdown",
   "metadata": {
    "slideshow": {
     "slide_type": "slide"
    }
   },
   "source": [
    "## Atividades conceituais\n",
    "- Visam indicar o *grau de compreensão* dos conceitos básicos\n",
    "- Auxiliam a autorregulação do aprendizado\n",
    "- Questionários Online: \n",
    " - testes de múltipla escolha\n",
    " - podem ser realizados em laboratório ou em casa\n",
    "- Tarefas Presenciais:\n",
    " - realizadas em laboratório, sob supervisão\n",
    " - aguarde divulgação de datas e outras orientações\n",
    "- Ferramenta de apoio: Moodle"
   ]
  },
  {
   "cell_type": "markdown",
   "metadata": {
    "slideshow": {
     "slide_type": "subslide"
    }
   },
   "source": [
    "## Atividades conceituais – Avaliação\n",
    "\n",
    "- Proposta de $n$ atividades ao longo do semestre\n",
    "- Nota $AC_i$, $1 \\leq i \\leq n$, será proporcional ao número de questões respondidas pelo(a) aluno(a)\n",
    "- Questionários Online: Peso 1\n",
    "- Tarefas Presenciais: Peso 3\n",
    "- Média $M_{AC}$: média ponderada das atividades propostas\n",
    "  \n",
    "Foco principal: _participação responsável_!"
   ]
  },
  {
   "cell_type": "markdown",
   "metadata": {
    "slideshow": {
     "slide_type": "slide"
    }
   },
   "source": [
    "## Tarefas de laboratório\n",
    "\n",
    "- Implementação de problemas em Python\n",
    "- Enunciado disponível na página da disciplina, com orientações,\n",
    "    restrições e prazos\n",
    "- Auxílio ao desenvolvimento durante as aulas de laboratório    \n",
    "- Correção automática\n",
    "  - Ferramenta de apoio: SuSy\n",
    "  - Testes abertos\n",
    "  - Testes fechados\n"
   ]
  },
  {
   "cell_type": "markdown",
   "metadata": {
    "slideshow": {
     "slide_type": "subslide"
    }
   },
   "source": [
    "## Tarefas de laboratório – Avaliação\n",
    "\n",
    "- Proposta de $m$ tarefas\n",
    "- Nota $L_i$, $1 \\leq i \\leq m$, calculada de acordo com o\n",
    "    estipulado no enunciado da tarefa $i$.\n",
    "- Peso $LP_i \\in \\{1,2,3\\}$\n",
    "- Média $M_{L}$: média ponderada das tarefas propostas    \n"
   ]
  },
  {
   "cell_type": "markdown",
   "metadata": {
    "slideshow": {
     "slide_type": "skip"
    }
   },
   "source": [
    "## Provas teóricas\n",
    "\n",
    " Prova | Peso |  Data  |  Horário  |\n",
    "-------|------|--------|-----------|  \n",
    " $P_1$ |   2  | 19/abr | 19h - 21h |\n",
    " $P_2$ |   3  | 21/jun | 19h - 21h |\n",
    "\n",
    "\n",
    "- Individuais e sem consulta.\n",
    "- Média $M_{P}$: média ponderada das provas teóricas\n"
   ]
  },
  {
   "cell_type": "markdown",
   "metadata": {
    "slideshow": {
     "slide_type": "slide"
    }
   },
   "source": [
    "## Provas teóricas\n",
    "\n",
    "- $P_1$, em 19 de abril, das 19h às 21h\n",
    "- $P_2$, em 21 de junho, das 19h às 21h\n",
    "\n",
    "\n",
    "- Individuais e sem consulta.\n",
    "- Média ponderada das provas teóricas:\n",
    "  - $M_P = 0.4 \\times P_1 + 0.6 \\times P_2$\n"
   ]
  },
  {
   "cell_type": "markdown",
   "metadata": {
    "slideshow": {
     "slide_type": "slide"
    }
   },
   "source": [
    "### Critério de Avaliação\n",
    "  \n",
    "- Média ponderada dos elementos:\n",
    "  - $M_{Elem} =  0.6 \\times M_{P} + 0.3 \\times M_{L} + 0.1 \\times M_{AC}$\n",
    "  - $M_P$: média ponderada das provas\n",
    "  - $M_L$: média ponderada das tarefas de laboratório\n",
    "  - $M_{AC}$: média ponderada das atividades conceituais\n",
    "\n",
    "- Média antes do exame:\n",
    "  - $M = min(M_{Elem}, M_{P}, M_{L})$\n"
   ]
  },
  {
   "cell_type": "markdown",
   "metadata": {
    "slideshow": {
     "slide_type": "subslide"
    }
   },
   "source": [
    "### Critério de Avaliação\n",
    "\n",
    "- Situação e média final $F$, se *Frequência* $ \\geq 75\\%$\n",
    "  - $M \\geq 5$:\n",
    "    - *aprovação por nota e frequência* com $F = M$\n",
    "  - $2.5 \\leq M < 5$:\n",
    "    - exame $E$ no dia 12 de julho das 19h às 21h\n",
    "    - $F = 0.5 \\times (M + E)$\n",
    "      - $F \\geq 5.0$: *aprovação por nota e frequência*,\n",
    "      - $F < 5.0$: *reprovação por nota*\n",
    "  - $M < 2.5$: \n",
    "    - *reprovação por nota* com $F = M$ "
   ]
  },
  {
   "cell_type": "markdown",
   "metadata": {
    "slideshow": {
     "slide_type": "subslide"
    }
   },
   "source": [
    "### Critério de Avaliação\n",
    "\n",
    "- Situação e média final $F$, se *Frequência* $ < 75\\%$:\n",
    "    - *reprovação por frequência* com $F=M$"
   ]
  },
  {
   "cell_type": "markdown",
   "metadata": {
    "slideshow": {
     "slide_type": "slide"
    }
   },
   "source": [
    "### Observações\n",
    "- Nos dias de prova será necessária a apresentação de documento oficial com foto.\n",
    "- Não há possibilidade de troca de horário de provas e/ou do exame final.\n",
    "- Não haverá reposição de tarefas de laboratório.\n",
    "- Todas as tarefas são individuais.      \n",
    "- Qualquer tentativa de fraude implicará em nota *0.0 (zero)* na disciplina para **todas** as pessoas envolvidas.\n",
    "- O sistema SuSy possui detector de plágio.   "
   ]
  },
  {
   "cell_type": "markdown",
   "metadata": {
    "slideshow": {
     "slide_type": "slide"
    }
   },
   "source": [
    "### Atendimento\n",
    "\n",
    "- Equipe de monitoria\n",
    "  - PEDs: estudantes de pós-graduação\n",
    "  - PADs: estudantes de graduação\n",
    "- Atendimento durante as aulas de laboratório\n",
    "- Atendimento extra\n",
    "  - veja página web da disciplina\n",
    "- Aulas extras de revisão\n",
    "  - veja página web da disciplina"
   ]
  },
  {
   "cell_type": "markdown",
   "metadata": {
    "slideshow": {
     "slide_type": "slide"
    }
   },
   "source": [
    "### Material de apoio\n",
    "- *How to Think Like a Computer Scientist: Interactive Edition* de Brad Miller e David Ranum\n",
    " - [Versão em inglês](https://runestone.academy/runestone/static/thinkcspy/index.html \"https://runestone.academy/runestone/static/thinkcspy/index.html\")\n",
    " - [Versão português](https://panda.ime.usp.br/pensepy/static/pensepy/index.html \"https://panda.ime.usp.br/pensepy/static/pensepy/index.html\")\n",
    "- Ao consultar outro livro, verifique a versão de Python utilizada\n",
    "- Veja material nas páginas oficiais:\n",
    " - [www.python.org](www.python.org)\n",
    " - [www.python.org.br](www.python.org.br)"
   ]
  }
 ],
 "metadata": {
  "celltoolbar": "Slideshow",
  "kernelspec": {
   "display_name": "Python 3",
   "language": "python",
   "name": "python3"
  },
  "language_info": {
   "codemirror_mode": {
    "name": "ipython",
    "version": 3
   },
   "file_extension": ".py",
   "mimetype": "text/x-python",
   "name": "python",
   "nbconvert_exporter": "python",
   "pygments_lexer": "ipython3",
   "version": "3.6.4"
  }
 },
 "nbformat": 4,
 "nbformat_minor": 2
}
