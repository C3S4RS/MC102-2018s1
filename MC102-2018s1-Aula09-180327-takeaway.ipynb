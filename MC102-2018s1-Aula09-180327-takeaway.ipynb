{
 "cells": [
  {
   "cell_type": "code",
   "execution_count": null,
   "metadata": {},
   "outputs": [],
   "source": [
    "from IPython.core.interactiveshell import InteractiveShell\n",
    "InteractiveShell.ast_node_interactivity = \"all\""
   ]
  },
  {
   "cell_type": "markdown",
   "metadata": {},
   "source": [
    "# Enumeração exaustiva e outras formas de aproximação"
   ]
  },
  {
   "cell_type": "markdown",
   "metadata": {},
   "source": [
    "Computadores são ótimos para tarefas que exigem grande número de repetições. \n",
    "\n",
    "Segundo a Harvard Database of Useful Biological Numbers,  uma pessoa rápida consegue piscar umas 5 vezes por segundo. Nesse mesmo tempo um processador moderno é capaz de executar pelo menos algumas centenas de milhões de instruções...\n",
    "\n",
    "Portanto, vamos botar essas máquinas pra trabalhar..."
   ]
  },
  {
   "cell_type": "markdown",
   "metadata": {},
   "source": [
    "## O método da enumeração exaustiva\n",
    "Chama-se _enumeração exaustiva_ um método de solução de problemas em que nos aproximamos progressivamente de uma solução desejada examinando todos os possíveis candidatos (ou pelo menos uma parte considerável deles)."
   ]
  },
  {
   "cell_type": "markdown",
   "metadata": {},
   "source": [
    "### Exemplo: _Calcular a raiz cúbica de um cubo inteiro perfeito_"
   ]
  },
  {
   "cell_type": "markdown",
   "metadata": {},
   "source": [
    "Como o problema só fala de inteiros, este problema pode ser resolvido por força bruta, examinando exaustivamente todos os possíveis candidatos.\n",
    "\n",
    "O conjunto de candidatos pode ser limitado aos inteiros não negativos, se lembrarmos que \n",
    "quando $x < 0$, $\\sqrt[3]{x} = (-1) \\cdot \\sqrt[3]{\\lvert x \\rvert} $.\n",
    "\n",
    "Então, vamos lá..."
   ]
  },
  {
   "cell_type": "code",
   "execution_count": null,
   "metadata": {},
   "outputs": [],
   "source": [
    "# Ler o número cuja raiz cúbica se deseja encontrar\n",
    "x = int(input('Digite um número inteiro: '))\n"
   ]
  },
  {
   "cell_type": "code",
   "execution_count": null,
   "metadata": {},
   "outputs": [],
   "source": [
    "# Encontrar a raiz cúbica de absx por enumeração exaustiva\n",
    "raiz = \n",
    "while :\n",
    "    raiz "
   ]
  },
  {
   "cell_type": "code",
   "execution_count": null,
   "metadata": {},
   "outputs": [],
   "source": [
    "# Exibir o resultado\n",
    "if :\n",
    "    print(x, 'não é um cubo perfeito!')\n",
    "else:\n",
    "    \n",
    "    print('A raiz cúbica de', x, 'é', raiz)"
   ]
  },
  {
   "cell_type": "markdown",
   "metadata": {},
   "source": [
    "##### Solução"
   ]
  },
  {
   "cell_type": "code",
   "execution_count": null,
   "metadata": {},
   "outputs": [],
   "source": [
    "# Ler o número cuja raiz cúbica se deseja encontrar\n",
    "x = int(input('Digite um número inteiro: '))\n",
    "absx = abs(x)"
   ]
  },
  {
   "cell_type": "code",
   "execution_count": null,
   "metadata": {},
   "outputs": [],
   "source": [
    "# Encontrar a raiz cúbica de absx por enumeração exaustiva\n",
    "raiz = 0\n",
    "while raiz ** 3 < absx:\n",
    "    raiz += 1"
   ]
  },
  {
   "cell_type": "code",
   "execution_count": null,
   "metadata": {},
   "outputs": [],
   "source": [
    "# Exibir o resultado\n",
    "if raiz ** 3 != absx:\n",
    "    print(x, 'não é um cubo perfeito!')\n",
    "else:\n",
    "    if x < 0:\n",
    "        raiz = -raiz\n",
    "    print('A raiz cúbica de', x, 'é', raiz)"
   ]
  },
  {
   "cell_type": "code",
   "execution_count": null,
   "metadata": {},
   "outputs": [],
   "source": [
    "123456789**3"
   ]
  },
  {
   "cell_type": "markdown",
   "metadata": {},
   "source": [
    "Seria possível resolver esse problema usando `for` em vez de `while`?\n",
    "\n",
    "Poderíamos começar com..."
   ]
  },
  {
   "cell_type": "code",
   "execution_count": null,
   "metadata": {},
   "outputs": [],
   "source": [
    "# Encontrar a raiz cúbica de absx por enumeração exaustiva\n",
    "for raiz in range(...):\n",
    "    ..."
   ]
  },
  {
   "cell_type": "markdown",
   "metadata": {},
   "source": [
    "Qual seria o argumento de `range`?\n",
    "- `range` precisa conter a resposta.\n",
    "  - Não temos um palpite para isso, mas sabemos que a raiz cúbica de um inteiro não negativo é sempre menor ou igual a ele.\n",
    "  - Portanto, usar $absx + 1$ como _stop_ em `range` parece razoável.\n",
    "- Assim, ficamos com..."
   ]
  },
  {
   "cell_type": "code",
   "execution_count": null,
   "metadata": {},
   "outputs": [],
   "source": [
    "# Encontrar a raiz cúbica de absx por enumeração exaustiva\n",
    "for raiz in range(absx + 1):\n",
    "    ..."
   ]
  },
  {
   "cell_type": "markdown",
   "metadata": {},
   "source": [
    "Agora, o que seria uma _suite_ aceitável?\n",
    "- Do jeito em que está, o `for` sempre percorrerá a `range` toda e assim, quase sempre, passará reto por cima da resposta desejada...\n",
    "- Como evitar isso?\n",
    "  - É preciso dar um jeito de interromper o `for` caso a resposta seja encontrada ou tenhamos certeza de que o problema não tem solução.  \n",
    "\n",
    "Como fazer isso?"
   ]
  },
  {
   "cell_type": "markdown",
   "metadata": {},
   "source": [
    "- Vamos ter que usar um comando condicional..."
   ]
  },
  {
   "cell_type": "code",
   "execution_count": null,
   "metadata": {},
   "outputs": [],
   "source": [
    "# Encontrar a raiz cúbica de absx por enumeração exaustiva\n",
    "for raiz in range(absx + 1):\n",
    "    if raiz ** 3 >= x:\n",
    "        # parar o `for`"
   ]
  },
  {
   "cell_type": "markdown",
   "metadata": {},
   "source": [
    "Para interromper a execução de um `for`, antes de seu término normal, usamos um comando `break`."
   ]
  },
  {
   "cell_type": "code",
   "execution_count": null,
   "metadata": {},
   "outputs": [],
   "source": [
    "# Encontrar a raiz cúbica de absx por enumeração exaustiva\n",
    "for raiz in range(absx + 1):\n",
    "    if raiz ** 3 >= x:\n",
    "        break"
   ]
  },
  {
   "cell_type": "markdown",
   "metadata": {},
   "source": [
    "E o problema está resolvido..."
   ]
  },
  {
   "cell_type": "markdown",
   "metadata": {},
   "source": [
    "Vale lembrar que um `break` interrompe apenas a execução do `for` dentro do qual ele \"realmente\" está."
   ]
  },
  {
   "cell_type": "code",
   "execution_count": null,
   "metadata": {},
   "outputs": [],
   "source": [
    "for i in range(2):\n",
    "    print('começando i =', i)\n",
    "    for j in range(2):\n",
    "        print('   começando j =', j)\n",
    "        for k in range(2):\n",
    "            print('      começando k =', k)\n",
    "            print('     break')\n",
    "            break\n",
    "            print('      terminando k =', k)\n",
    "        print('   terminando j =', j)\n",
    "    print('terminando i =', i)\n",
    "print('fim do programa')"
   ]
  },
  {
   "cell_type": "markdown",
   "metadata": {},
   "source": [
    "### Exemplo: _Calcular a raiz quadrada de um número real não-negativo_\n",
    "Neste caso, saímos do campo dos inteiros...\n",
    "\n",
    "Podemos adaptar o exemplo anterior usando um `for`? Por que?"
   ]
  },
  {
   "cell_type": "markdown",
   "metadata": {},
   "source": [
    "- Não, porque `range` não trabalha com _floats_.\n",
    "\n",
    "Mas é possível usar o algoritmo anterior com `while`."
   ]
  },
  {
   "cell_type": "markdown",
   "metadata": {},
   "source": [
    "Podemos continuar incrementando $raiz$ de $1$ em $1$?\n",
    "- Provavelmente não... vamos querer uma aproximação melhor que essa...\n",
    "- Vamos supor que $10^{-6}$ seja um passo aceitável e vamos atribuir o nome $step$ a ele."
   ]
  },
  {
   "cell_type": "markdown",
   "metadata": {},
   "source": [
    "As células abaixo contêm nosso exemplo da raiz cúbica. Com algumas alterações rápidas, nosso programa começará a tomar forma.\n",
    "\n",
    "Mãos à obra..."
   ]
  },
  {
   "cell_type": "code",
   "execution_count": null,
   "metadata": {},
   "outputs": [],
   "source": [
    "# Ler o número cuja raiz cúbica se deseja encontrar\n",
    "x = int(input('Digite um número inteiro: '))\n",
    "absx = abs(x)"
   ]
  },
  {
   "cell_type": "code",
   "execution_count": null,
   "metadata": {},
   "outputs": [],
   "source": [
    "# Encontrar a raiz cúbica de absx por enumeração exaustiva\n",
    "raiz = 0\n",
    "while raiz ** 3 < absx:\n",
    "    raiz += 1"
   ]
  },
  {
   "cell_type": "code",
   "execution_count": null,
   "metadata": {},
   "outputs": [],
   "source": [
    "# Exibir o resultado\n",
    "if raiz ** 3 != absx:\n",
    "    print(x, 'não é um cubo perfeito!')\n",
    "else:\n",
    "    if x < 0:\n",
    "        raiz = -raiz\n",
    "    print('A raiz cúbica de', x, 'é', raiz)"
   ]
  },
  {
   "cell_type": "markdown",
   "metadata": {},
   "source": [
    "##### Solução"
   ]
  },
  {
   "cell_type": "code",
   "execution_count": null,
   "metadata": {},
   "outputs": [],
   "source": [
    "# Ler o número cuja raiz quadrada se deseja encontrar\n",
    "x = float(input('Digite um número não-negativo: '))\n",
    "step = 1e-6"
   ]
  },
  {
   "cell_type": "code",
   "execution_count": null,
   "metadata": {},
   "outputs": [],
   "source": [
    "# Encontrar uma aproximação para a raiz quadrada de x por enumeração exaustiva\n",
    "raiz = 0\n",
    "while raiz ** 2 <= x:\n",
    "    raiz += step\n",
    "print(raiz)"
   ]
  },
  {
   "cell_type": "code",
   "execution_count": null,
   "metadata": {},
   "outputs": [],
   "source": [
    "# Exibir o resultado\n",
    "if raiz ** 2 != x:\n",
    "    print('não consegui calcular uma aproximação para a raiz quadrada de', x)\n",
    "else:\n",
    "    print(raiz, 'é aproximadamente igual à raiz quadrada de', x)"
   ]
  },
  {
   "cell_type": "markdown",
   "metadata": {},
   "source": [
    "Vamos testá-lo calculando a raiz quadrada de 25."
   ]
  },
  {
   "cell_type": "markdown",
   "metadata": {
    "slideshow": {
     "slide_type": "subslide"
    }
   },
   "source": [
    "#### Ops! O que será que aconteceu?"
   ]
  },
  {
   "cell_type": "markdown",
   "metadata": {
    "slideshow": {
     "slide_type": "subslide"
    }
   },
   "source": [
    "Adicionando um `print(raiz)` no final do cálculo da `raiz` vemos que o valor calculado é `5.000000000344985`, que não está mal como aproximação...\n",
    "\n",
    "Por que ele não deu essa resposta?\n",
    "- Porque a condição do `if` na exibição do resultado é `raiz ** 2 != x` e o resultado dessa comparação é `False`...\n",
    "- Vamos examinar o que está acontecendo reunindo os trechos essenciais de nossa solução..."
   ]
  },
  {
   "cell_type": "code",
   "execution_count": null,
   "metadata": {},
   "outputs": [],
   "source": [
    "x = 25\n",
    "step = 1e-6\n",
    "raiz = 0\n",
    "while raiz ** 2 <= x:\n",
    "    raiz += step\n",
    "print(x, raiz, raiz ** 2, (raiz ** 2 != x))"
   ]
  },
  {
   "cell_type": "markdown",
   "metadata": {},
   "source": [
    "Isso acontece sempre que se usam _floats_ para representar _reais_ e decorre de como _floats_ são representados num computador (ou mesmo numa folha de papel)."
   ]
  },
  {
   "cell_type": "markdown",
   "metadata": {},
   "source": [
    "#### Uma ligeira digressão para falar de _floats_"
   ]
  },
  {
   "cell_type": "markdown",
   "metadata": {},
   "source": [
    "Numa folha de papel ou num computador, somente conseguimos representar números com uma quantidade limitada de algarismos significativos. Por maior que seja a quantidade de algarismos usados, isso representará quase nada do espaço infinito dos _reais_.\n",
    "\n",
    "Para conseguir expandir o intervalo que seria coberto pelos _floats_, sacrificamos a precisão e adotamos a _notação exponencial_. Vamos ver como.\n",
    "\n",
    "Na _notação exponencial_, um número é representado como um inteiro com um certo número de algarismos significativos multiplicado por 10 elevado a um certo expoente. Quando estamos fazendo cálculos à mão, o número de algarismos significativos usados dependerá de nossa escolha. Para facilitar a leitura, suponha que sejam 6. Por exemplo,...\n",
    "\\begin{align*}\n",
    "1.25 &= 125000 \\cdot 10^{-5} \\\\\n",
    "3.1416 &= 314160 \\cdot 10^{-5} \\\\\n",
    "123.456 &= 123456 \\cdot 10^{-3}\n",
    "\\end{align*}"
   ]
  },
  {
   "cell_type": "markdown",
   "metadata": {},
   "source": [
    "Com $6$ algarismos significativos e em notação decimal, o maior número que se consegue representar é $999999$. Em notação exponencial, graças ao fator $10^e$, podemos ir muito além. O único limite será imposto pela faixa aceitável para o expoente $e$. Por exemplo,...\n",
    "\\begin{align*}\n",
    "999999 &= 999999 \\cdot 10^{0} \\\\\n",
    "999999000 &= 999999 \\cdot 10^{3} \\\\\n",
    "999999000000 &= 999999 \\cdot 10^{6}\n",
    "\\end{align*}"
   ]
  },
  {
   "cell_type": "markdown",
   "metadata": {},
   "source": [
    "Suponha agora que $a = 999999000000$ e $b = 999999999999$. \n",
    "\n",
    "Como eles seriam representados?  \n",
    "\\begin{align*}\n",
    "a = 999999000000 &= 999999 \\cdot 10^{6} \\\\\n",
    "b = 999999999999 &= 999999 \\cdot 10^{6}\n",
    "\\end{align*}\n",
    "\n",
    "E se agora calcularmos $b - a$?\n",
    "- O resultado será $000000 \\cdot 10^0$, quando deveria ser $999999 \\cdot 10^0$."
   ]
  },
  {
   "cell_type": "markdown",
   "metadata": {},
   "source": [
    "Você vê a perda de precisão?\n",
    "\n",
    "Num computador acontece exatamente a mesma coisa. Apenas, como o computador trabalha na base 2 e não na base 10, os valores críticos serão outros. Por exemplo,..."
   ]
  },
  {
   "cell_type": "code",
   "execution_count": null,
   "metadata": {},
   "outputs": [],
   "source": [
    "a = 2**72\n",
    "b = a + 524288\n",
    "fa = float(a)\n",
    "fb = float(b)\n",
    "print(format(a, \"24d\"), format(b, \"28d\"), format(b - a, \"32d\"))\n",
    "print(format(fa, \"28.21e\"), format(fb, \"28.21e\"), format(fb - fa, \"28.21e\"))"
   ]
  },
  {
   "cell_type": "markdown",
   "metadata": {},
   "source": [
    "Não são apenas grandes números que sofrem com a perda de precisão.\n",
    "\n",
    "Na notação exponencial decimal com 6 algarismos significativos $\\frac{1}{3}$ é representado como $333333 \\cdot 10^{-6} \\nonumber$.  \n",
    "\n",
    "Assim, quando somamos $\\frac{1}{3} + \\frac{1}{3} + \\frac{1}{3}$, obtemos \n",
    "$999999 \\cdot 10^{-6} \\nonumber$ que é diferente de $1\\ (100000 \\cdot 10^{-5})$"
   ]
  },
  {
   "cell_type": "markdown",
   "metadata": {},
   "source": [
    "Como no caso dos grandes números, esse problema também ocorre num computador digital, embora com outros valores por causa da mudança da base. Por exemplo, $\\frac{1}{10}$ não tem representação exata na base $2$, assim como $\\frac{1}{3}$ não tem na base $10$...\n",
    "\n",
    "Assim, se somarmos $0.1$ dez vezes, o resultado obtido não será rigorosamente igual a $1.0$..."
   ]
  },
  {
   "cell_type": "code",
   "execution_count": null,
   "metadata": {},
   "outputs": [],
   "source": [
    "tot = 0.0\n",
    "for i in range(10):\n",
    "    tot += 0.1\n",
    "print(1.0, tot, tot == 1.0, 1 - tot)"
   ]
  },
  {
   "cell_type": "markdown",
   "metadata": {},
   "source": [
    "A perda de precisão em cálculos relativamente simples pode ser muito significativa. Suponha que queiramos calcular  \n",
    "\n",
    "\\begin{align*}\\frac{(x + a)^2 - 2 x a - a^2}{x^2}\\end{align*}\n",
    "\n",
    "O resultado esperado dessa expressão é $1$, quaisquer que sejam $x$ e $a$, desde que $x \\ne 0$. Vejamos o que acontece quando criamos um _script_ Python para fazer esse cálculo usando vários valores de $a$ e $x$..."
   ]
  },
  {
   "cell_type": "code",
   "execution_count": null,
   "metadata": {
    "scrolled": true
   },
   "outputs": [],
   "source": [
    "print(7 * ' ' + 'x' + 15 * ' ' + 'a' + 16 * ' ' + 'f(x, a)' + 16 * ' ' + 'e(x, a)')\n",
    "print(14 * '-' + '  ' + 14 * '-' + '  ' + 21 * '-' + '  ' + 21 * '-')\n",
    "for p in range (6):\n",
    "    a = 10 ** p\n",
    "    x = 10 ** -(p + 1)\n",
    "    f = ((x + a) ** 2 - 2 * x * a - a ** 2) / (x ** 2)\n",
    "    e = ((a + x) ** 2 - a ** 2 - 2 * a * x) / (x ** 2)\n",
    "    print(f'{x:14.8e}  {a:14.8e}  {f:21.14e}  {e:21.14e}')"
   ]
  },
  {
   "cell_type": "markdown",
   "metadata": {},
   "source": [
    "Todos os valores nas colunas `f(x, a)` e `e(x, a)` deveriam ser \"iguais\" a $1.0$, mas vários estão longe disso.\n",
    "\n",
    "Esse não é um privilégio de Python, mas sim uma consequência da forma como _floats_ estão implementados nos processadores usados nos nossos computadores. Toda vez que você operar com números muito díspares (neste caso $a^2$ é muito maior que $x^2$) haverá o risco de perda grave de precisão. Se você fizer o mesmo cálculo em outras plataformas (inclusive Excel) vai encontrar o mesmo resultado."
   ]
  },
  {
   "cell_type": "markdown",
   "metadata": {},
   "source": [
    "### De volta ao nosso exemplo..."
   ]
  },
  {
   "cell_type": "markdown",
   "metadata": {},
   "source": [
    "A discussão sobre _floats_ deixou claro o perigo de fazermos testes de igualdade com eles. A saída é usar _testes de proximidade_. Um _teste de proximidade_ compara dois valores e vê se a distância entre eles está dentro de uma certa tolerância $\\varepsilon$ (_epsilon_) pré-definida.\n",
    "\n",
    "Vamos fazer isso no nosso algoritmo..."
   ]
  },
  {
   "cell_type": "code",
   "execution_count": null,
   "metadata": {},
   "outputs": [],
   "source": [
    "# Encontrar uma aproximação para a raiz quadrada de x por enumeração exaustiva\n",
    "raiz = 0\n",
    "while abs(raiz ** 2 - x) > epsilon:\n",
    "    raiz += step"
   ]
  },
  {
   "cell_type": "markdown",
   "metadata": {},
   "source": [
    "Vamos reunir os pedaços e testar o resultado... mas antes disso precisamos escolher um valor razoável para _epsilon_. O que você acha?"
   ]
  },
  {
   "cell_type": "code",
   "execution_count": null,
   "metadata": {},
   "outputs": [],
   "source": [
    "# Ler o número cuja raiz quadrada se deseja encontrar\n",
    "x = float(input('Digite um número não-negativo: '))\n",
    "step = 1e-6\n",
    "epsilon = 1e-4"
   ]
  },
  {
   "cell_type": "code",
   "execution_count": null,
   "metadata": {},
   "outputs": [],
   "source": [
    "# Encontrar uma aproximação para a raiz quadrada de x por enumeração exaustiva\n",
    "raiz = 0\n",
    "while abs(raiz ** 2 - x) > epsilon:\n",
    "    raiz += step"
   ]
  },
  {
   "cell_type": "code",
   "execution_count": null,
   "metadata": {},
   "outputs": [],
   "source": [
    "# Exibir o resultado\n",
    "print(raiz, 'é aproximadamente igual à raiz quadrada de', x)"
   ]
  },
  {
   "cell_type": "markdown",
   "metadata": {},
   "source": [
    "O que acontece com nosso programa se o número dado for muito grande? Por exemplo, 1524157875019052100?"
   ]
  },
  {
   "cell_type": "markdown",
   "metadata": {},
   "source": [
    "Cansamos de esperar?\n",
    "- Esse inteiro é o quadrado de 1234567890. Como partimos de zero e estamos usando um _step_ de $10^{-6}$, serão necessários mais de $10^{15}$ ciclos do `while` para chegar à resposta. Isso é muita coisa, mesmo para um computador muito rápido.\n",
    "\n",
    "Por outro lado, se usarmos um _step_ maior, nosso programa poderá deixar de funcionar para números pequenos. O que fazer?"
   ]
  },
  {
   "cell_type": "markdown",
   "metadata": {},
   "source": [
    "Uma saída seria usar um _step_ variável, que pudesse ir sendo refinado à medida que nos aproximássemos da solução. "
   ]
  },
  {
   "cell_type": "markdown",
   "metadata": {},
   "source": [
    "## O método da bisseção\n",
    "\n",
    "O _método da bisseção_ é um método de aproximação com _step_ variável, muito rápido e muito usado na solução de diversos problemas reais.\n",
    "\n",
    "Suponha que sejamos capazes de definir um intervalo $[esq..dir]$ no qual, com certeza, a resposta está contida. Vamos escolher como candidato o valor médio desse intervalo e associá-lo à variável $raiz$.\n",
    "\n",
    "<img src=\"img/Aula08-01.png\" />\n",
    "\n",
    "Agora, duas coisas podem acontecer:\n",
    "- $\\lvert\\, raiz^2 - x \\,\\rvert \\le \\varepsilon \\rightarrow$ nosso problema está resolvido, ou,\n",
    "- $\\lvert\\, raiz^2 - x \\,\\rvert \\gt \\varepsilon \\rightarrow$ é preciso encontrar um novo candidato. Nesse caso...\n",
    "  - Se $raiz^2 < x$, o candidato era pequeno demais. Portanto, a resposta deverá estar no intervalo $[raiz..dir]$ e um novo candidato deverá ser procurado dentro dele.\n",
    "  - Se $raiz^2 > x$, o candidato era grande demais. Portanto, a resposta deverá estar no intervalo $[esq..raiz]$ e um novo candidato deverá ser procurado dentro dele.\n",
    "\n",
    "Note que, a cada passo, a largura do intervalo onde a resposta certamente se encontra é reduzida pela metade, o que explica o nome do método e a velocidade com que o algoritmo se aproxima da solução. "
   ]
  },
  {
   "cell_type": "markdown",
   "metadata": {},
   "source": [
    "Vamos adaptar nosso algoritmo que emprega o método de enumeração exaustiva para que ele adote o método da bisseção."
   ]
  },
  {
   "cell_type": "code",
   "execution_count": null,
   "metadata": {},
   "outputs": [],
   "source": [
    "# Ler o número cuja raiz quadrada se deseja encontrar\n",
    "x = float(input('Digite um número não-negativo: '))\n",
    "epsilon = 1e-8"
   ]
  },
  {
   "cell_type": "code",
   "execution_count": null,
   "metadata": {},
   "outputs": [],
   "source": [
    "# Encontrar uma aproximação para a raiz quadrada de x por bisseção\n",
    "\n",
    "# Definição do intervalo de busca inicial e do primeiro candidato\n",
    "if x > 1:\n",
    "    lim_esq, lim_dir = 1.0, x\n",
    "else:\n",
    "    lim_esq, lim_dir = x, 1.0\n",
    "\n",
    "raiz = (lim_esq + lim_dir) / 2\n",
    "\n",
    "# refinamento progressivo da aproximação\n",
    "while abs(raiz ** 2 - x) > epsilon:\n",
    "    if raiz ** 2 < x:\n",
    "        lim_esq = raiz\n",
    "    else:\n",
    "        lim_dir = raiz\n",
    "    raiz = (lim_esq + lim_dir) / 2"
   ]
  },
  {
   "cell_type": "code",
   "execution_count": null,
   "metadata": {
    "code_folding": []
   },
   "outputs": [],
   "source": [
    "# Exibir o resultado\n",
    "print(raiz, 'é a raiz quadrada de', x, 'a menos de', epsilon)"
   ]
  },
  {
   "cell_type": "markdown",
   "metadata": {},
   "source": [
    "Vamos testar nosso programa com os valores usados anteriormente. Será que ele consegue calcular um aproximação da raiz quadrada de 1524157875019052100?"
   ]
  },
  {
   "cell_type": "markdown",
   "metadata": {},
   "source": [
    "Lembra-se de que nesse caso o método de busca exaustiva necessitaria de mais do que $10^{15}$ ciclos do `while` para chegar à resposta? De quantos ciclos será que o método da bisseção necessitou?\n",
    "\n",
    "Vamos incluir um contador, só por curiosidade..."
   ]
  },
  {
   "cell_type": "code",
   "execution_count": null,
   "metadata": {
    "code_folding": []
   },
   "outputs": [],
   "source": [
    "# Encontrar uma aproximação para a raiz quadrada de x por bisseção\n",
    "# Definição do intervalo de busca inicial\n",
    "if x > 1:\n",
    "    lim_esq, lim_dir = 1.0, x\n",
    "else:\n",
    "    lim_esq, lim_dir = x, 1.0\n",
    "# O candidato é o ponto médio do intervalo\n",
    "raiz = (lim_esq + lim_dir) / 2\n",
    "\n",
    "ciclos = 0\n",
    "while abs(raiz ** 2 - x) > epsilon:\n",
    "    if raiz ** 2 < x:\n",
    "        lim_esq = raiz\n",
    "    else:\n",
    "        lim_dir = raiz\n",
    "    raiz = (lim_esq + lim_dir) / 2\n",
    "    ciclos += 1\n",
    "print('número de ciclos necessários =', ciclos)"
   ]
  },
  {
   "cell_type": "markdown",
   "metadata": {},
   "source": [
    "## O método de Newton (ou Newton-Raphson)\n",
    "Newton criou um método que é usualmente adotado para encontrar as raízes reais de muitas funções e que se aplica também ao nosso exemplo. Raphson propôs uma ideia semelhante mais ou menos ao mesmo tempo e, por isso, o método é citado com os dois nomes.\n",
    "\n",
    "No nosso caso, dado um número real não-negativo $x$, queremos encontrar $r$ tal que $r^2 = x$. Passando $x$ para o lado esquerdo, vemos que esse problema é o mesmo que encontrar a raiz do polinômio $p(r) = r^2 - x$, isto é, um valor $raiz$ tal que $p(raiz) = 0$.\n",
    "\n",
    "Newton demonstrou que se $raiz$ é uma aproximação da resposta desejada, $raiz - \\dfrac{p(raiz)}{\\dot p(raiz)}$ é uma aproximação melhor ainda.\n",
    "\n",
    "Vamos fazer alguns pequenos ajustes no nosso algoritmo para que ele implemente esse modelo."
   ]
  },
  {
   "cell_type": "code",
   "execution_count": null,
   "metadata": {},
   "outputs": [],
   "source": [
    "# Ler o número cuja raiz quadrada se deseja encontrar\n",
    "x = float(input('Digite um número não-negativo: '))\n",
    "epsilon = 1e-8"
   ]
  },
  {
   "cell_type": "code",
   "execution_count": null,
   "metadata": {
    "code_folding": []
   },
   "outputs": [],
   "source": [
    "# Encontrar uma aproximação para a raiz quadrada de x por Newton-Raphson\n",
    "# Definição do candidato inicial\n",
    "raiz = x / 2.0\n",
    "\n",
    "ciclos = 0\n",
    "while abs(raiz ** 2 - x) > epsilon:\n",
    "    p = raiz ** 2 - x  # este é o polinômio calculado em \"raiz\"\n",
    "    dp = 2 * raiz      # esta é a derivada calculada em \"raiz\"\n",
    "    raiz -= p / dp\n",
    "    ciclos += 1\n",
    "print('número de ciclos necessários =', ciclos)"
   ]
  },
  {
   "cell_type": "code",
   "execution_count": null,
   "metadata": {
    "code_folding": []
   },
   "outputs": [],
   "source": [
    "# Exibir o resultado\n",
    "print(raiz, 'é a raiz quadrada de', x, 'a menos de', epsilon)"
   ]
  },
  {
   "cell_type": "markdown",
   "metadata": {},
   "source": [
    "_Newton-Raphson_ precisou de menos do que a metade dos ciclos necessários para o método da _bisseção_, que já era muito mais rápido e geral do que a _enumeração exaustiva_. "
   ]
  },
  {
   "cell_type": "markdown",
   "metadata": {},
   "source": [
    "### Exercício: _Encontrar uma potência que seja igual a um inteiro dado._\n",
    "Ler um inteiro $n$ e encontrar dois inteiros $b$ e $e, (0 < e < 6)$, tais que $b^e = n$."
   ]
  },
  {
   "cell_type": "code",
   "execution_count": null,
   "metadata": {},
   "outputs": [],
   "source": []
  },
  {
   "cell_type": "markdown",
   "metadata": {},
   "source": [
    "### Exercício: _Gerar todos os números primos menores que um valor dado_\n",
    "Ler um inteiro $n$ e criar uma lista com todos os números primos menores do que $n$."
   ]
  },
  {
   "cell_type": "code",
   "execution_count": null,
   "metadata": {},
   "outputs": [],
   "source": []
  },
  {
   "cell_type": "markdown",
   "metadata": {},
   "source": [
    "### Exercício: _Ler uma sequência de números e verificar se eles estão em ordem crescente_\n",
    "Ler uma sequência de números e ___depois___ verificar se eles estão em ordem crescente."
   ]
  },
  {
   "cell_type": "code",
   "execution_count": null,
   "metadata": {},
   "outputs": [],
   "source": []
  },
  {
   "cell_type": "markdown",
   "metadata": {},
   "source": [
    "### Exercício: _Dada uma sequência de números quaisquer, encontrar o par mais próximo_\n",
    "Ler uma sequência de números $S$ e ___depois___ encontrar $a \\in S$ e $b \\in S$, $a \\ne b$, tais que a distância entre eles, isto é,  $\\lvert a - b \\rvert$, seja mínima."
   ]
  },
  {
   "cell_type": "code",
   "execution_count": null,
   "metadata": {},
   "outputs": [],
   "source": []
  },
  {
   "cell_type": "markdown",
   "metadata": {},
   "source": [
    "### Exercício: _Imprimir um triângulo numérico_\n",
    "Dado um inteiro positivo $n$, imprimir um triângulo com $n$ linhas e o seguinte formato:\n",
    "```\n",
    " 1\n",
    " 1  2\n",
    " 1  2  3\n",
    " 1  2  3  4\n",
    " ...\n",
    " ```"
   ]
  },
  {
   "cell_type": "code",
   "execution_count": null,
   "metadata": {},
   "outputs": [],
   "source": []
  },
  {
   "cell_type": "markdown",
   "metadata": {},
   "source": [
    "### Exercício: _Imprimir um tapete quadrado_\n",
    "Dado um inteiro positivo $n$, imprimir um quadrado com $n$ linhas e colunas e o seguinte formato (supondo $n = 5$):\n",
    "```\n",
    "+ * * * *\n",
    "* + * * *\n",
    "* * + * *\n",
    "* * * + *\n",
    "* * * * +\n",
    "```"
   ]
  },
  {
   "cell_type": "code",
   "execution_count": null,
   "metadata": {},
   "outputs": [],
   "source": []
  }
 ],
 "metadata": {
  "kernelspec": {
   "display_name": "Python 3",
   "language": "python",
   "name": "python3"
  },
  "language_info": {
   "codemirror_mode": {
    "name": "ipython",
    "version": 3
   },
   "file_extension": ".py",
   "mimetype": "text/x-python",
   "name": "python",
   "nbconvert_exporter": "python",
   "pygments_lexer": "ipython3",
   "version": "3.6.4"
  },
  "latex_envs": {
   "LaTeX_envs_menu_present": true,
   "autocomplete": true,
   "bibliofile": "biblio.bib",
   "cite_by": "apalike",
   "current_citInitial": 1,
   "eqLabelWithNumbers": true,
   "eqNumInitial": 1,
   "hotkeys": {
    "equation": "Ctrl-E",
    "itemize": "Ctrl-I"
   },
   "labels_anchors": false,
   "latex_user_defs": false,
   "report_style_numbering": false,
   "user_envs_cfg": false
  },
  "toc": {
   "nav_menu": {},
   "number_sections": false,
   "sideBar": true,
   "skip_h1_title": true,
   "title_cell": "Table of Contents",
   "title_sidebar": "Contents",
   "toc_cell": false,
   "toc_position": {},
   "toc_section_display": true,
   "toc_window_display": false
  }
 },
 "nbformat": 4,
 "nbformat_minor": 2
}
