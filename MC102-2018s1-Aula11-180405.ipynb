{
 "cells": [
  {
   "cell_type": "code",
   "execution_count": 1,
   "metadata": {
    "init_cell": true
   },
   "outputs": [],
   "source": [
    "from IPython.core.interactiveshell import InteractiveShell\n",
    "InteractiveShell.ast_node_interactivity = \"all\""
   ]
  },
  {
   "cell_type": "markdown",
   "metadata": {},
   "source": [
    "# Revisitando Listas"
   ]
  },
  {
   "cell_type": "markdown",
   "metadata": {},
   "source": [
    "Listas, dicionários, tuplas e conjuntos são as quatro estruturas de dados básicas implementadas por Python.\n",
    "\n",
    "Uma rápida introdução a listas foi vista na _Aula 07_. Aqui vamos estender um pouco mais esse conhecimento.\n",
    "\n",
    "Uma **_lista_** é uma **_sequência de objetos_**, **_ordenada_**, **_mutável_**, **_iterável_** e **_não necessariamente homogênea_**.  \n",
    "\n",
    "Cada elemento de uma lista é identificado por um *índice* que indica sua posição na sequência."
   ]
  },
  {
   "cell_type": "markdown",
   "metadata": {},
   "source": [
    "## Operações com listas"
   ]
  },
  {
   "cell_type": "markdown",
   "metadata": {},
   "source": [
    "### Criar uma lista\n",
    "Uma lista vazia pode ser criada por uma atribuição simples:"
   ]
  },
  {
   "cell_type": "code",
   "execution_count": 2,
   "metadata": {},
   "outputs": [
    {
     "data": {
      "text/plain": [
       "('nums', 4484922760, [])"
      ]
     },
     "execution_count": 2,
     "metadata": {},
     "output_type": "execute_result"
    }
   ],
   "source": [
    "nums = []\n",
    "'nums', id(nums), nums"
   ]
  },
  {
   "cell_type": "markdown",
   "metadata": {},
   "source": [
    "Todo objeto em Python tem uma identificação única. A chamada de função `id(nums)` que aparece no `print` acima exibe o `identificador` do objeto que está associado a `nums` no momento da chamada. Nós vamos usar essa informação várias vezes durante esta aula."
   ]
  },
  {
   "cell_type": "markdown",
   "metadata": {},
   "source": [
    "O operador __`+`__ concatena duas listas enquanto o operador __`*`__ replica uma lista um certo número de vezes."
   ]
  },
  {
   "cell_type": "code",
   "execution_count": 3,
   "metadata": {},
   "outputs": [
    {
     "data": {
      "text/plain": [
       "('nums', 4485113608, [0, 1, 1, 1, 2])"
      ]
     },
     "execution_count": 3,
     "metadata": {},
     "output_type": "execute_result"
    }
   ],
   "source": [
    "n = 1\n",
    "nums = [0] + 3 * [n] + n * [2]\n",
    "'nums', id(nums), nums"
   ]
  },
  {
   "cell_type": "markdown",
   "metadata": {},
   "source": [
    "A função `len` retorna o número de elementos numa lista."
   ]
  },
  {
   "cell_type": "code",
   "execution_count": 4,
   "metadata": {},
   "outputs": [
    {
     "data": {
      "text/plain": [
       "5"
      ]
     },
     "execution_count": 4,
     "metadata": {},
     "output_type": "execute_result"
    }
   ],
   "source": [
    "len(nums)"
   ]
  },
  {
   "cell_type": "markdown",
   "metadata": {},
   "source": [
    "### Alterar um ou mais elementos de uma lista\n",
    "É possível alterar os valores associados a quaisquer elementos de uma lista. Por exemplo, ..."
   ]
  },
  {
   "cell_type": "code",
   "execution_count": 5,
   "metadata": {},
   "outputs": [
    {
     "data": {
      "text/plain": [
       "('nums', 4485112520, [1, 3, 4, 7, 9])"
      ]
     },
     "execution_count": 5,
     "metadata": {},
     "output_type": "execute_result"
    }
   ],
   "source": [
    "nums = [1, 3, 4, 7, 9]\n",
    "'nums', id(nums), nums"
   ]
  },
  {
   "cell_type": "code",
   "execution_count": 6,
   "metadata": {},
   "outputs": [
    {
     "data": {
      "text/plain": [
       "('nums', 4485112520, [1, 3, 5, 7, 9])"
      ]
     },
     "execution_count": 6,
     "metadata": {},
     "output_type": "execute_result"
    }
   ],
   "source": [
    "nums[2] = 5\n",
    "'nums', id(nums), nums"
   ]
  },
  {
   "cell_type": "code",
   "execution_count": 7,
   "metadata": {},
   "outputs": [
    {
     "data": {
      "text/plain": [
       "('nums', 4485112520, [2, 6, 10, 14, 18])"
      ]
     },
     "execution_count": 7,
     "metadata": {},
     "output_type": "execute_result"
    }
   ],
   "source": [
    "for i in range(5):\n",
    "    nums[i] *= 2\n",
    "'nums', id(nums), nums"
   ]
  },
  {
   "cell_type": "markdown",
   "metadata": {},
   "source": [
    "### Inserir um item no fim de uma lista"
   ]
  },
  {
   "cell_type": "markdown",
   "metadata": {},
   "source": [
    "Vamos criar uma lista de números..."
   ]
  },
  {
   "cell_type": "code",
   "execution_count": 8,
   "metadata": {
    "scrolled": true
   },
   "outputs": [
    {
     "data": {
      "text/plain": [
       "('nums', 4485113096, [1, 3, 4, 7])"
      ]
     },
     "execution_count": 8,
     "metadata": {},
     "output_type": "execute_result"
    }
   ],
   "source": [
    "nums = [1, 3, 4, 7]\n",
    "'nums', id(nums), nums"
   ]
  },
  {
   "cell_type": "markdown",
   "metadata": {},
   "source": [
    "Há mais de uma maneira de inserir um item no fim dessa lista..."
   ]
  },
  {
   "cell_type": "code",
   "execution_count": 9,
   "metadata": {
    "scrolled": true
   },
   "outputs": [
    {
     "data": {
      "text/plain": [
       "('nums', 4485113096, [1, 3, 4, 7, 9])"
      ]
     },
     "execution_count": 9,
     "metadata": {},
     "output_type": "execute_result"
    }
   ],
   "source": [
    "nums += [9]\n",
    "'nums', id(nums), nums"
   ]
  },
  {
   "cell_type": "code",
   "execution_count": 10,
   "metadata": {
    "scrolled": true
   },
   "outputs": [
    {
     "data": {
      "text/plain": [
       "('nums', 4485113096, [1, 3, 4, 7, 9, 4])"
      ]
     },
     "execution_count": 10,
     "metadata": {},
     "output_type": "execute_result"
    }
   ],
   "source": [
    "nums.append(4)\n",
    "'nums', id(nums), nums"
   ]
  },
  {
   "cell_type": "markdown",
   "metadata": {},
   "source": [
    "Note que o identificador associado à lista `nums` não se altera quando acrescentamos novos itens à lista."
   ]
  },
  {
   "cell_type": "markdown",
   "metadata": {},
   "source": [
    "### Inserir um item numa posição qualquer"
   ]
  },
  {
   "cell_type": "markdown",
   "metadata": {},
   "source": [
    "Também é possível inserir um novo item numa posição qualquer, inclusive no início e no fim de uma lista."
   ]
  },
  {
   "cell_type": "code",
   "execution_count": null,
   "metadata": {
    "scrolled": true
   },
   "outputs": [],
   "source": [
    "nums = [1, 3, 4, 7]\n",
    "print('nums', id(nums), nums)"
   ]
  },
  {
   "cell_type": "code",
   "execution_count": null,
   "metadata": {},
   "outputs": [],
   "source": [
    "nums.insert(2, 99)\n",
    "print('nums', id(nums), nums)"
   ]
  },
  {
   "cell_type": "code",
   "execution_count": null,
   "metadata": {},
   "outputs": [],
   "source": [
    "nums.insert(0, 99)\n",
    "print('nums', id(nums), nums)"
   ]
  },
  {
   "cell_type": "code",
   "execution_count": null,
   "metadata": {},
   "outputs": [],
   "source": [
    "nums.insert(len(nums), 99)\n",
    "print('nums', id(nums), nums)"
   ]
  },
  {
   "cell_type": "markdown",
   "metadata": {},
   "source": [
    "### Estender uma lista acrescentando ao final todos os itens de uma outra lista"
   ]
  },
  {
   "cell_type": "code",
   "execution_count": null,
   "metadata": {},
   "outputs": [],
   "source": [
    "nums1 = [1, 3, 7]\n",
    "nums2 = [7, 8]\n",
    "print('nums1', id(nums1), nums1)\n",
    "print('nums2', id(nums2), nums2)"
   ]
  },
  {
   "cell_type": "code",
   "execution_count": null,
   "metadata": {},
   "outputs": [],
   "source": [
    "nums1.extend(nums2)\n",
    "print('nums1', id(nums1), nums1)\n",
    "print('nums2', id(nums2), nums2)"
   ]
  },
  {
   "cell_type": "code",
   "execution_count": null,
   "metadata": {},
   "outputs": [],
   "source": [
    "nums1 += nums2\n",
    "print('nums1', id(nums1), nums1)\n",
    "print('nums2', id(nums2), nums2)"
   ]
  },
  {
   "cell_type": "markdown",
   "metadata": {},
   "source": [
    "Nestes casos, note que os identificadores das duas listas continuam os mesmos e que a lista `num2` não se altera."
   ]
  },
  {
   "cell_type": "markdown",
   "metadata": {},
   "source": [
    "O argumento de `extend` também pode ser uma constante..."
   ]
  },
  {
   "cell_type": "code",
   "execution_count": null,
   "metadata": {},
   "outputs": [],
   "source": [
    "nums1.extend([0, 1])\n",
    "print('nums1', id(nums1), nums1)"
   ]
  },
  {
   "cell_type": "code",
   "execution_count": null,
   "metadata": {
    "scrolled": true
   },
   "outputs": [],
   "source": [
    "nums2[len(nums2):] = [99]\n",
    "print('nums2', id(nums2), nums2)"
   ]
  },
  {
   "cell_type": "code",
   "execution_count": null,
   "metadata": {},
   "outputs": [],
   "source": [
    "nums2[len(nums2):] = [1, 2]\n",
    "print('nums2', id(nums2), nums2)"
   ]
  },
  {
   "cell_type": "markdown",
   "metadata": {},
   "source": [
    "### Remover de uma lista o primeiro item com um dado valor"
   ]
  },
  {
   "cell_type": "code",
   "execution_count": null,
   "metadata": {},
   "outputs": [],
   "source": [
    "nums = [1, 3, 4, 3, 7]\n",
    "nums.remove(3)\n",
    "print('nums', id(nums), nums)"
   ]
  },
  {
   "cell_type": "markdown",
   "metadata": {},
   "source": [
    "### Remover e retornar o item numa dada posição"
   ]
  },
  {
   "cell_type": "code",
   "execution_count": null,
   "metadata": {},
   "outputs": [],
   "source": [
    "x = nums.pop(2)\n",
    "print('x', x)\n",
    "print('nums', id(nums), nums)"
   ]
  },
  {
   "cell_type": "markdown",
   "metadata": {},
   "source": [
    "Se o argumento for omitido, `pop` remove e retorna o último item da lista."
   ]
  },
  {
   "cell_type": "code",
   "execution_count": null,
   "metadata": {},
   "outputs": [],
   "source": [
    "x = nums.pop()\n",
    "print('x', x)\n",
    "print('nums', id(nums), nums)"
   ]
  },
  {
   "cell_type": "markdown",
   "metadata": {},
   "source": [
    "### Remover todos os itens de uma lista"
   ]
  },
  {
   "cell_type": "code",
   "execution_count": null,
   "metadata": {},
   "outputs": [],
   "source": [
    "nums = [1, 3, 4, 3, 7]\n",
    "print('nums', id(nums), nums)"
   ]
  },
  {
   "cell_type": "code",
   "execution_count": null,
   "metadata": {},
   "outputs": [],
   "source": [
    "nums.clear()\n",
    "print('nums', id(nums), nums)"
   ]
  },
  {
   "cell_type": "markdown",
   "metadata": {},
   "source": [
    "### Obter o índice do primeiro item com um dado valor"
   ]
  },
  {
   "cell_type": "code",
   "execution_count": null,
   "metadata": {},
   "outputs": [],
   "source": [
    "nums = [1, 3, 4, 3, 7]\n",
    "ix = nums.index(3)\n",
    "print('index(3)', ix)\n",
    "print('nums', id(nums), nums)"
   ]
  },
  {
   "cell_type": "code",
   "execution_count": null,
   "metadata": {},
   "outputs": [],
   "source": [
    "ix = nums.index(99)  # vai dar erro...\n",
    "print('index(99)', ix)\n",
    "print('nums', id(nums), nums)"
   ]
  },
  {
   "cell_type": "markdown",
   "metadata": {},
   "source": [
    "### Retornar o número de vezes que um dado valor aparece numa lista"
   ]
  },
  {
   "cell_type": "code",
   "execution_count": null,
   "metadata": {},
   "outputs": [],
   "source": [
    "nums = [1, 3, 4, 3, 7]\n",
    "print('nums', id(nums), nums)\n",
    "\n",
    "c3 = nums.count(3)\n",
    "print('count(3)', c3)\n",
    "\n",
    "c9 = nums.count(9)\n",
    "print('count(9)', c9)"
   ]
  },
  {
   "cell_type": "markdown",
   "metadata": {},
   "source": [
    "### Ordenar uma lista"
   ]
  },
  {
   "cell_type": "markdown",
   "metadata": {},
   "source": [
    "A ordenação de uma lista pode ser feita pelo método `sort`, que ordena a lista no local, isto é, destroi a versão original da lista, ou pela função `sorted` que retorna uma nova lista com os valores na ordem desejada."
   ]
  },
  {
   "cell_type": "code",
   "execution_count": null,
   "metadata": {},
   "outputs": [],
   "source": [
    "nums = [1, 3, 4, -3, 7]\n",
    "'nums', id(nums), nums"
   ]
  },
  {
   "cell_type": "code",
   "execution_count": null,
   "metadata": {},
   "outputs": [],
   "source": [
    "nums.sort()\n",
    "'nums', id(nums), nums"
   ]
  },
  {
   "cell_type": "code",
   "execution_count": null,
   "metadata": {},
   "outputs": [],
   "source": [
    "nums.sort(key=abs)\n",
    "'nums', id(nums), nums"
   ]
  },
  {
   "cell_type": "code",
   "execution_count": null,
   "metadata": {},
   "outputs": [],
   "source": [
    "nums.sort(reverse=True)\n",
    "'nums', id(nums), nums"
   ]
  },
  {
   "cell_type": "code",
   "execution_count": null,
   "metadata": {},
   "outputs": [],
   "source": [
    "pals = ['xis', 'alma', 'alfa', 'oi']\n",
    "'pals', id(pals), pals"
   ]
  },
  {
   "cell_type": "code",
   "execution_count": null,
   "metadata": {},
   "outputs": [],
   "source": [
    "pals.sort()\n",
    "'pals', id(pals), pals"
   ]
  },
  {
   "cell_type": "code",
   "execution_count": null,
   "metadata": {},
   "outputs": [],
   "source": [
    "pals.sort(key=len)\n",
    "'pals', id(pals), pals"
   ]
  },
  {
   "cell_type": "code",
   "execution_count": null,
   "metadata": {},
   "outputs": [],
   "source": [
    "pals.sort(reverse=True)\n",
    "'pals', id(pals), pals"
   ]
  },
  {
   "cell_type": "code",
   "execution_count": null,
   "metadata": {},
   "outputs": [],
   "source": [
    "nums1 = [1, 3, 4, -3, 7]\n",
    "'nums1', id(nums1), nums1"
   ]
  },
  {
   "cell_type": "code",
   "execution_count": null,
   "metadata": {},
   "outputs": [],
   "source": [
    "nums2 = sorted(nums1)\n",
    "'nums2', id(nums2), nums2"
   ]
  },
  {
   "cell_type": "code",
   "execution_count": null,
   "metadata": {},
   "outputs": [],
   "source": [
    "nums2 = sorted(nums1, key=abs)\n",
    "'nums2', id(nums2), nums2"
   ]
  },
  {
   "cell_type": "code",
   "execution_count": null,
   "metadata": {},
   "outputs": [],
   "source": [
    "nums2 = sorted(nums1, reverse=True)\n",
    "'nums2', id(nums2), nums2"
   ]
  },
  {
   "cell_type": "markdown",
   "metadata": {},
   "source": [
    "### Inverter a ordem dos itens de uma lista"
   ]
  },
  {
   "cell_type": "code",
   "execution_count": null,
   "metadata": {},
   "outputs": [],
   "source": [
    "pals = ['xis', 'alma', 'alfa', 'oi']\n",
    "print('pals', id(pals), pals)\n",
    "\n",
    "pals.reverse()\n",
    "print('pals', id(pals), pals)\n",
    "\n",
    "revs = list(reversed(pals))\n",
    "print('revs', id(revs), revs)"
   ]
  },
  {
   "cell_type": "markdown",
   "metadata": {},
   "source": [
    "### Copiar uma lista"
   ]
  },
  {
   "cell_type": "code",
   "execution_count": null,
   "metadata": {},
   "outputs": [],
   "source": [
    "anums = [1, 3, 4, -3, 7]\n",
    "\n",
    "bnums = anums.copy()\n",
    "'anums', id(anums), anums\n",
    "'bnums', id(bnums), bnums"
   ]
  },
  {
   "cell_type": "code",
   "execution_count": null,
   "metadata": {},
   "outputs": [],
   "source": [
    "cnums = list(anums)\n",
    "print('anums', id(anums), anums)\n",
    "print('cnums', id(cnums), cnums)"
   ]
  },
  {
   "cell_type": "markdown",
   "metadata": {},
   "source": [
    "#### \\*\\*\\* _Muito cuidado com aliasing_ \\*\\*\\*\n",
    "Chama-se *aliasing* a situação em que mais do que uma variável encontra-se associada a um certo objeto, o que permite que esse objeto seja acessado de mais do que uma maneira.\n",
    "\n",
    "É importante lembrar que, em Python, uma variável comporta-se como um rótulo que é colocado em um objeto mas pode ser transferido para outro a qualquer momento. Esse modelo contrasta com a visão tradicional de variável como sendo um contentor de dados de um determinado tipo."
   ]
  },
  {
   "cell_type": "markdown",
   "metadata": {},
   "source": [
    "Por exemplo, considere o código abaixo"
   ]
  },
  {
   "cell_type": "code",
   "execution_count": null,
   "metadata": {},
   "outputs": [],
   "source": [
    "a = [1, 2, 3]\n",
    "b = a"
   ]
  },
  {
   "cell_type": "markdown",
   "metadata": {},
   "source": [
    "A linha 1 cria uma lista de inteiros e associa o rótulo `a` a ela.\n",
    "\n",
    "A linha 2 pega o objeto ao qual o rótulo `a` está associado e associa o rótulo `b` a ele.\n",
    "\n",
    "Daí em diante, podemos nos referir a esse objeto usando o nome `a` ou o nome `b`."
   ]
  },
  {
   "cell_type": "markdown",
   "metadata": {},
   "source": [
    "Sabemos que todo objeto em Python possui um identificador único. A função `id` retorna o identificador do objeto associado a um certo nome. O comando abaixo mostra que os nomes `a` e `b` estão associados ao mesmo objeto."
   ]
  },
  {
   "cell_type": "code",
   "execution_count": null,
   "metadata": {},
   "outputs": [],
   "source": [
    "id(a), id(b)"
   ]
  },
  {
   "cell_type": "markdown",
   "metadata": {},
   "source": [
    "Python dispõe de dois operadores que nos ajudarão nesta discussão:\n",
    "    \n",
    "-   `x == y` é avaliada como `True` se os objetos associados às variáveis `x` e `y` tiverem o mesmo valor.\n",
    "-   `x is y` é avaliada como `True` se as variáveis `x` e `y` estiverem associadas a um mesmo objeto."
   ]
  },
  {
   "cell_type": "markdown",
   "metadata": {},
   "source": [
    "No nosso exemplo, como `a` e `b` estão associados ao mesmo objeto, quando aplicados a eles, os operadores `==` e `is` devem retornar `True`."
   ]
  },
  {
   "cell_type": "code",
   "execution_count": null,
   "metadata": {},
   "outputs": [],
   "source": [
    "a == b"
   ]
  },
  {
   "cell_type": "code",
   "execution_count": null,
   "metadata": {},
   "outputs": [],
   "source": [
    "a is b"
   ]
  },
  {
   "cell_type": "markdown",
   "metadata": {},
   "source": [
    "O mesmo não acontece quando uma variável `c` é criada a partir de uma operação ralizada sobre `a`. Por exemplo, o comando abaixo cria uma cópia do objeto associado à variável `a` e associa a variável `c` a ela."
   ]
  },
  {
   "cell_type": "code",
   "execution_count": null,
   "metadata": {},
   "outputs": [],
   "source": [
    "c = list(a)\n",
    "c"
   ]
  },
  {
   "cell_type": "markdown",
   "metadata": {},
   "source": [
    "Como consequência, `a` e `c` estão associadas a objetos distintos, mas que têm o mesmo valor."
   ]
  },
  {
   "cell_type": "code",
   "execution_count": null,
   "metadata": {},
   "outputs": [],
   "source": [
    "a == c"
   ]
  },
  {
   "cell_type": "code",
   "execution_count": null,
   "metadata": {},
   "outputs": [],
   "source": [
    "a is c"
   ]
  },
  {
   "cell_type": "markdown",
   "metadata": {},
   "source": [
    "Vamos agora modificar os valores dos objetos associados às variáveis `b` e `c`."
   ]
  },
  {
   "cell_type": "code",
   "execution_count": null,
   "metadata": {},
   "outputs": [],
   "source": [
    "b[1] = 20\n",
    "b"
   ]
  },
  {
   "cell_type": "code",
   "execution_count": null,
   "metadata": {},
   "outputs": [],
   "source": [
    "c[2] = 30\n",
    "c"
   ]
  },
  {
   "cell_type": "markdown",
   "metadata": {},
   "source": [
    "O que você acha que aconteceu com `a`?"
   ]
  },
  {
   "cell_type": "code",
   "execution_count": null,
   "metadata": {},
   "outputs": [],
   "source": [
    "a"
   ]
  },
  {
   "cell_type": "markdown",
   "metadata": {},
   "source": [
    "Como `a` é um *alias* de `b`, isto é, é um outro nome para um mesmo objeto, ele reflete as alterações que esse objeto sofreu.\n",
    "\n",
    "Por outro lado, como `a` e `c` se referem a objetos distintos, o que acontece com um não interfere na vida do outro."
   ]
  },
  {
   "cell_type": "markdown",
   "metadata": {},
   "source": [
    "#### Moral da história\n",
    "> Ao criar uma variável, veja se você não está criando um *alias* quando imaginava estar criando uma cópia.\n",
    ">\n",
    "> E se você precisar mesmo de um *alias* não se esqueça de que ele será afetado por todas as alterações sofridas pelo seu ‘gêmeo’."
   ]
  },
  {
   "cell_type": "markdown",
   "metadata": {},
   "source": [
    "### Slicing (_fatiamento_)\n",
    "A operação de fatiamento (_slicing_) permite selecionar uma fatia (_slice_) com mais do que um elemento de uma lista.\n",
    "\n",
    "Como no caso de `range`, _slicing_ também admite três parâmetros não obrigatórios:   \n",
    "`umaLista[start:stop:step]`  \n",
    "Nesse caso, serão selecionados os elementos contidos numa faixa que inclui `start` mas não inclui `stop`, escolhidos de `step` em `step`, isto é,  \n",
    "`umaLista[start], umaLista[start+step], umaLista[start+2*step], ...` sem incluir ou ultrapassar `umaLista[stop]`."
   ]
  },
  {
   "cell_type": "code",
   "execution_count": null,
   "metadata": {},
   "outputs": [],
   "source": [
    "# Vamos criar uma lista numérica\n",
    "nums = [11, 22, 23, 34, 45, 16]\n",
    "print('nums', id(nums), nums)"
   ]
  },
  {
   "cell_type": "code",
   "execution_count": null,
   "metadata": {},
   "outputs": [],
   "source": [
    "# Seleção de uma faixa com todos os parâmetros\n",
    "imps = nums[0:6:2]\n",
    "print('nums', id(nums), nums)\n",
    "print('imps', id(imps), imps)"
   ]
  },
  {
   "cell_type": "code",
   "execution_count": null,
   "metadata": {},
   "outputs": [],
   "source": [
    "# Quando omitido, step assume o valor 1\n",
    "fatia = nums[1:5]\n",
    "print('nums ', id(nums), nums)\n",
    "print('fatia', id(fatia), fatia)"
   ]
  },
  {
   "cell_type": "code",
   "execution_count": null,
   "metadata": {},
   "outputs": [],
   "source": [
    "# Quando omitido, start assume o valor 0\n",
    "fatia = nums[:5]\n",
    "print('nums ', id(nums), nums)\n",
    "print('fatia', id(fatia), fatia)"
   ]
  },
  {
   "cell_type": "code",
   "execution_count": null,
   "metadata": {},
   "outputs": [],
   "source": [
    "# Quando omitido, stop assume o valor len(lista)\n",
    "fatia = nums[1:]\n",
    "print('nums ', id(nums), nums)\n",
    "print('fatia', id(fatia), fatia)"
   ]
  },
  {
   "cell_type": "code",
   "execution_count": null,
   "metadata": {},
   "outputs": [],
   "source": [
    "# Quando todos os parâmetros são omitidos, obtemos uma cópia da lista\n",
    "# Note que os ids são diferentes\n",
    "fatia = nums[:]\n",
    "print('nums ', id(nums), nums)\n",
    "print('fatia', id(fatia), fatia)"
   ]
  },
  {
   "cell_type": "code",
   "execution_count": null,
   "metadata": {},
   "outputs": [],
   "source": [
    "# Step pode ser negativo e, nesse caso, a relação entre start e stop se inverte\n",
    "fatia = nums[5:1:-1]\n",
    "print('nums ', id(nums), nums)\n",
    "print('fatia', id(fatia), fatia)"
   ]
  },
  {
   "cell_type": "markdown",
   "metadata": {},
   "source": [
    "Você consegue explicar bem este último resultado?\n",
    "\n",
    "Você consegue antecipar o resultado de `fatia = nums[::-1]`?"
   ]
  },
  {
   "cell_type": "code",
   "execution_count": null,
   "metadata": {},
   "outputs": [],
   "source": [
    "# Quando step é negativo e start e stop são omitidos, obtemos uma cópia invertida da lista\n",
    "fatia = nums[::-1]\n",
    "print('nums ', id(nums), nums)\n",
    "print('fatia', id(fatia), fatia)"
   ]
  },
  {
   "cell_type": "markdown",
   "metadata": {},
   "source": [
    "## Conversão de listas para estruturas e de estruturas para listas"
   ]
  },
  {
   "cell_type": "markdown",
   "metadata": {},
   "source": [
    "### Conversão de _string_ para _lista de strings_\n",
    "Já vimos que _`split`_ converte uma _string_ em uma lista de _strings_, que pode depois, se desejado, ser convertida em uma lista de outro tipo."
   ]
  },
  {
   "cell_type": "code",
   "execution_count": null,
   "metadata": {},
   "outputs": [],
   "source": [
    "snums = '12  3   456 78   90'\n",
    "print('snums', type(snums), id(snums), repr(snums))"
   ]
  },
  {
   "cell_type": "code",
   "execution_count": null,
   "metadata": {},
   "outputs": [],
   "source": [
    "lnums = snums.split()\n",
    "print('lnums', type(lnums), id(lnums), lnums)"
   ]
  },
  {
   "cell_type": "code",
   "execution_count": null,
   "metadata": {},
   "outputs": [],
   "source": [
    "inums = [int(n) for n in lnums]\n",
    "print('inums', type(inums), id(inums), inums)"
   ]
  },
  {
   "cell_type": "markdown",
   "metadata": {},
   "source": [
    "### Conversão de uma _lista de strings_ para _string_\n",
    "O método _join_ faz essa conversão. A _string_ sobre a qual se aplica o método é usada como separador entre os elementos da lista na _string_ resultante."
   ]
  },
  {
   "cell_type": "code",
   "execution_count": null,
   "metadata": {},
   "outputs": [],
   "source": [
    "sres1 = ''.join(lnums)\n",
    "print('sres1', type(sres1), id(sres1), repr(sres1))"
   ]
  },
  {
   "cell_type": "code",
   "execution_count": null,
   "metadata": {},
   "outputs": [],
   "source": [
    "sres2 = ' '.join(lnums)\n",
    "print('sres2', type(sres2), id(sres2), repr(sres2))"
   ]
  },
  {
   "cell_type": "code",
   "execution_count": null,
   "metadata": {},
   "outputs": [],
   "source": [
    "sres3 = '-x-'.join(lnums)\n",
    "print('sres3', type(sres3), id(sres3), repr(sres3))"
   ]
  },
  {
   "cell_type": "markdown",
   "metadata": {},
   "source": [
    "### Conversão de uma _lista_ qualquer para _string_\n",
    "Quando os elementos da lista não forem _strings_, é necessário convertê-los antes de aplicar o método _join_."
   ]
  },
  {
   "cell_type": "code",
   "execution_count": null,
   "metadata": {},
   "outputs": [],
   "source": [
    "inums = [12, 3, 4.56, 78, 9.0]\n",
    "print('inums', type(inums), id(inums), inums)\n",
    "\n",
    "knums = [str(x) for x in inums]\n",
    "print('knums', type(knums), id(knums), knums)\n",
    "\n",
    "sres4 = ' '.join(knums)\n",
    "print('sres4', type(sres4), id(sres4), repr(sres4))"
   ]
  },
  {
   "cell_type": "markdown",
   "metadata": {},
   "source": [
    "### Dividir uma lista em pedaços de mesmo tamanho\n",
    "Há várias maneiras de dividir uma lista em pedaços do mesmo tamanho. Uma delas usa o conceito de _list comprehension_ que foi visto na _Aula09_."
   ]
  },
  {
   "cell_type": "code",
   "execution_count": null,
   "metadata": {},
   "outputs": [],
   "source": [
    "n = 20\n",
    "nums = [x for x in range(1, n + 1)]\n",
    "print('nums', nums)\n",
    "\n",
    "p = 5\n",
    "peds = [nums[i:i+p] for i in range(0, n, p)]\n",
    "print('peds', peds)"
   ]
  },
  {
   "cell_type": "markdown",
   "metadata": {},
   "source": [
    "### Achatar (_flatten_) uma lista\n",
    "O achatamento de uma lista converte uma _lista de listas_ em uma lista simples e também pode ser implementado por uma _list comprehension_.  "
   ]
  },
  {
   "cell_type": "code",
   "execution_count": null,
   "metadata": {},
   "outputs": [],
   "source": [
    "lista = [[1, 2, 3, 4, 5], [6, 7, 8, 9, 10], [11, 12, 13, 14, 15], [16, 17, 18, 19, 20]]\n",
    "flat = [item for sublista in lista for item in sublista]\n",
    "print('flat', flat)"
   ]
  },
  {
   "cell_type": "markdown",
   "metadata": {},
   "source": [
    "Esse processo \"achata\" apenas um nível. Se os elementos da lista original forem também _listas de listas_ a operação poderá ser repetida até chegar a uma lista completamente \"achatada\". Caso o aninhamento seja heterogêneo, será necessária uma abordagem mais potente, a ser desenvolvida nas _Aulas 25-27_."
   ]
  },
  {
   "cell_type": "code",
   "execution_count": null,
   "metadata": {},
   "outputs": [],
   "source": [
    "lista = [[1, 2], [3, 4, 5]], [[6, 7], [8], [9, 10]], [[11, 12, 13], [14, 15], [16, 17, 18, 19, 20]]\n",
    "flat1 = [item for sublista in lista for item in sublista]\n",
    "print('flat1', flat1)"
   ]
  },
  {
   "cell_type": "code",
   "execution_count": null,
   "metadata": {},
   "outputs": [],
   "source": [
    "flat2 = [item for sublista in flat1 for item in sublista]\n",
    "print('flat2', flat2)"
   ]
  },
  {
   "cell_type": "markdown",
   "metadata": {},
   "source": [
    "## Exemplos de aplicação"
   ]
  },
  {
   "cell_type": "markdown",
   "metadata": {},
   "source": [
    "### Criar uma lista com os elementos comuns a outras duas listas"
   ]
  },
  {
   "cell_type": "code",
   "execution_count": null,
   "metadata": {},
   "outputs": [],
   "source": [
    "list1 = [2 * x for x in range(10)]\n",
    "print('list1', id(list1), list1)\n",
    "\n",
    "list2 = [3 * x for x in range(10)]\n",
    "print('list2', id(list2), list2)\n",
    "\n",
    "inter = [x for x in list1 if x in list2]\n",
    "print('inter', id(inter), inter)"
   ]
  },
  {
   "cell_type": "markdown",
   "metadata": {},
   "source": [
    "### Cálculo da média ponderada\n",
    "Dadas uma lista de notas e uma lista de pesos, calcular a média ponderada das notas dadas."
   ]
  },
  {
   "cell_type": "code",
   "execution_count": null,
   "metadata": {},
   "outputs": [],
   "source": [
    "from random import choice\n",
    "\n",
    "pesos = [choice(range(1, 4)) for _ in range(10)]\n",
    "print('pesos', id(pesos), pesos)\n",
    "\n",
    "notas = [choice(range(11)) for _ in range(10)]\n",
    "print('notas', id(notas), notas)\n",
    "\n",
    "total = 0\n",
    "for i in range(min(len(notas), len(pesos))):\n",
    "    total += notas[i] * pesos[i]\n",
    "\n",
    "media = round(total / sum(pesos), 1)\n",
    "print('total', total, 'média', media)"
   ]
  },
  {
   "cell_type": "markdown",
   "metadata": {},
   "source": [
    "### Eliminar elementos repetidos de uma lista\n",
    "Dada uma lista criar uma outra eliminando todos os elementos repetidos na primeira."
   ]
  },
  {
   "cell_type": "code",
   "execution_count": null,
   "metadata": {},
   "outputs": [],
   "source": [
    "from random import choice\n",
    "\n",
    "repets = [choice(range(6)) for _ in range(20)]\n",
    "print('repets', id(repets), repets)\n",
    "\n",
    "unicos = []\n",
    "for x in repets:\n",
    "    if x not in unicos:\n",
    "        unicos += [x]\n",
    "\n",
    "unicos.sort()\n",
    "\n",
    "print('repets', id(repets), repets)\n",
    "print('unicos', id(unicos), 'sorted', sorted(unicos))\n",
    "print('unicos', id(unicos), unicos)"
   ]
  },
  {
   "cell_type": "markdown",
   "metadata": {},
   "source": [
    "### Verificar se uma frase é palíndroma\n",
    "Dada uma frase, verificar se ela é palíndroma, desconsiderando acentos, espaços e pontuação. Uma frase é palíndroma se ela puder ser lida igualmente nos dois sentidos."
   ]
  },
  {
   "cell_type": "markdown",
   "metadata": {},
   "source": [
    "Um esboço de solução com alto nível de abstração poderia ser:\n",
    "\n",
    "-   ler a frase\n",
    "-   eliminar caracteres a serem desconsiderados\n",
    "-   verificar se é palíndroma\n",
    "-   exibir o resultado da verificação"
   ]
  },
  {
   "cell_type": "code",
   "execution_count": null,
   "metadata": {},
   "outputs": [],
   "source": [
    "# ler a frase original e convertê-la em uma lista\n",
    "frase_ori = input('Digite uma frase: ')\n",
    "frase_lista = list(frase_ori)"
   ]
  },
  {
   "cell_type": "code",
   "execution_count": null,
   "metadata": {},
   "outputs": [],
   "source": [
    "# criar frase modificada, eliminando caracteres a serem desconsiderados\n",
    "alfabeto = 'abcdefghijklmnopqrstuvwxyz'\n",
    "Alfabeto = list(alfabeto.upper())\n",
    "alfabeto = list(alfabeto)\n",
    "acentos = 'áàãâéêíóõôúç'\n",
    "sem_acentos = 'aaaaeeiooouc'\n",
    "acentos = list(acentos) + list(acentos.upper())\n",
    "sem_acentos = list(sem_acentos) * 2\n",
    "\n",
    "frase_mod = []\n",
    "for c in frase_lista:\n",
    "    if c in alfabeto:\n",
    "        frase_mod += [c]\n",
    "    elif c in Alfabeto:\n",
    "        frase_mod += alfabeto[Alfabeto.index(c)]\n",
    "    elif c in acentos:\n",
    "        frase_mod += sem_acentos[acentos.index(c)]"
   ]
  },
  {
   "cell_type": "code",
   "execution_count": null,
   "metadata": {},
   "outputs": [],
   "source": [
    "# verificar se a frase modificada é palíndroma\n",
    "eh_palindroma = True\n",
    "for i in range(len(frase_mod) // 2):\n",
    "    if frase_mod[i] != frase_mod[-(i + 1)]:\n",
    "        eh_palindroma = False\n",
    "        break"
   ]
  },
  {
   "cell_type": "code",
   "execution_count": null,
   "metadata": {},
   "outputs": [],
   "source": [
    "# exibir o resultado da verificação\n",
    "if eh_palindroma:\n",
    "    print(\"'\" + frase_ori + \"'\", 'é palíndroma.')\n",
    "else:\n",
    "    print(\"'\" + frase_ori + \"'\", 'não é palíndroma.')"
   ]
  }
 ],
 "metadata": {
  "celltoolbar": "Initialization Cell",
  "kernelspec": {
   "display_name": "Python 3",
   "language": "python",
   "name": "python3"
  },
  "language_info": {
   "codemirror_mode": {
    "name": "ipython",
    "version": 3
   },
   "file_extension": ".py",
   "mimetype": "text/x-python",
   "name": "python",
   "nbconvert_exporter": "python",
   "pygments_lexer": "ipython3",
   "version": "3.6.4"
  },
  "latex_envs": {
   "LaTeX_envs_menu_present": true,
   "autocomplete": true,
   "bibliofile": "biblio.bib",
   "cite_by": "apalike",
   "current_citInitial": 1,
   "eqLabelWithNumbers": true,
   "eqNumInitial": 1,
   "hotkeys": {
    "equation": "Ctrl-E",
    "itemize": "Ctrl-I"
   },
   "labels_anchors": false,
   "latex_user_defs": false,
   "report_style_numbering": false,
   "user_envs_cfg": false
  },
  "toc": {
   "nav_menu": {},
   "number_sections": true,
   "sideBar": true,
   "skip_h1_title": true,
   "title_cell": "Table of Contents",
   "title_sidebar": "Contents",
   "toc_cell": false,
   "toc_position": {},
   "toc_section_display": true,
   "toc_window_display": false
  }
 },
 "nbformat": 4,
 "nbformat_minor": 2
}
