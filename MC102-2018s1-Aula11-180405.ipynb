{
 "cells": [
  {
   "cell_type": "code",
   "execution_count": 43,
   "metadata": {
    "init_cell": true
   },
   "outputs": [],
   "source": [
    "from IPython.core.interactiveshell import InteractiveShell\n",
    "InteractiveShell.ast_node_interactivity = \"all\""
   ]
  },
  {
   "cell_type": "markdown",
   "metadata": {},
   "source": [
    "# Revisitando Listas"
   ]
  },
  {
   "cell_type": "markdown",
   "metadata": {},
   "source": [
    "Listas, dicionários, tuplas e conjuntos são as quatro estruturas de dados básicas implementadas por Python.\n",
    "\n",
    "Uma rápida introdução a listas foi vista na _Aula 07_. Aqui vamos estender um pouco mais esse conhecimento.\n",
    "\n",
    "Uma **_lista_** é uma **_sequência de objetos_**, **_ordenada_**, **_mutável_**, **_iterável_** e **_não necessariamente homogênea_**.  \n",
    "\n",
    "Cada elemento de uma lista é identificado por um *índice* que indica sua posição na sequência."
   ]
  },
  {
   "cell_type": "markdown",
   "metadata": {},
   "source": [
    "## Operações com listas"
   ]
  },
  {
   "cell_type": "markdown",
   "metadata": {},
   "source": [
    "### Criar uma lista\n",
    "Uma lista vazia pode ser criada por uma atribuição simples:"
   ]
  },
  {
   "cell_type": "code",
   "execution_count": 44,
   "metadata": {},
   "outputs": [
    {
     "data": {
      "text/plain": [
       "('nums', 4493296328, [])"
      ]
     },
     "execution_count": 44,
     "metadata": {},
     "output_type": "execute_result"
    }
   ],
   "source": [
    "nums = []\n",
    "'nums', id(nums), nums"
   ]
  },
  {
   "cell_type": "markdown",
   "metadata": {},
   "source": [
    "Todo objeto em Python tem uma identificação única. A chamada de função `id(nums)` que aparece no `print` acima exibe o `identificador` do objeto que está associado a `nums` no momento da chamada. Nós vamos usar essa informação várias vezes durante esta aula."
   ]
  },
  {
   "cell_type": "markdown",
   "metadata": {},
   "source": [
    "O operador __`+`__ concatena duas listas enquanto o operador __`*`__ replica uma lista um certo número de vezes."
   ]
  },
  {
   "cell_type": "code",
   "execution_count": 45,
   "metadata": {},
   "outputs": [
    {
     "data": {
      "text/plain": [
       "('nums', 4495044104, [0, 1, 1, 1, 2])"
      ]
     },
     "execution_count": 45,
     "metadata": {},
     "output_type": "execute_result"
    }
   ],
   "source": [
    "n = 1\n",
    "nums = [0] + 3 * [n] + n * [2]\n",
    "'nums', id(nums), nums"
   ]
  },
  {
   "cell_type": "markdown",
   "metadata": {},
   "source": [
    "A função `len` retorna o número de elementos numa lista."
   ]
  },
  {
   "cell_type": "code",
   "execution_count": 46,
   "metadata": {},
   "outputs": [
    {
     "data": {
      "text/plain": [
       "5"
      ]
     },
     "execution_count": 46,
     "metadata": {},
     "output_type": "execute_result"
    }
   ],
   "source": [
    "len(nums)"
   ]
  },
  {
   "cell_type": "markdown",
   "metadata": {},
   "source": [
    "### Alterar um ou mais elementos de uma lista\n",
    "É possível alterar os valores associados a quaisquer elementos de uma lista. Por exemplo, ..."
   ]
  },
  {
   "cell_type": "code",
   "execution_count": 47,
   "metadata": {},
   "outputs": [
    {
     "data": {
      "text/plain": [
       "('nums', 4495554312, [1, 3, 4, 7, 9])"
      ]
     },
     "execution_count": 47,
     "metadata": {},
     "output_type": "execute_result"
    }
   ],
   "source": [
    "nums = [1, 3, 4, 7, 9]\n",
    "'nums', id(nums), nums"
   ]
  },
  {
   "cell_type": "code",
   "execution_count": 48,
   "metadata": {},
   "outputs": [
    {
     "data": {
      "text/plain": [
       "('nums', 4495554312, [1, 3, 5, 7, 9])"
      ]
     },
     "execution_count": 48,
     "metadata": {},
     "output_type": "execute_result"
    }
   ],
   "source": [
    "nums[2] = 5\n",
    "'nums', id(nums), nums"
   ]
  },
  {
   "cell_type": "code",
   "execution_count": 49,
   "metadata": {},
   "outputs": [
    {
     "data": {
      "text/plain": [
       "('nums', 4495554312, [2, 6, 10, 14, 18])"
      ]
     },
     "execution_count": 49,
     "metadata": {},
     "output_type": "execute_result"
    }
   ],
   "source": [
    "for i in range(5):\n",
    "    nums[i] *= 2\n",
    "'nums', id(nums), nums"
   ]
  },
  {
   "cell_type": "markdown",
   "metadata": {},
   "source": [
    "### Inserir um item no fim de uma lista"
   ]
  },
  {
   "cell_type": "markdown",
   "metadata": {},
   "source": [
    "Vamos criar uma lista de números..."
   ]
  },
  {
   "cell_type": "code",
   "execution_count": 50,
   "metadata": {
    "scrolled": true
   },
   "outputs": [
    {
     "data": {
      "text/plain": [
       "('nums', 4495554888, [1, 3, 4, 7])"
      ]
     },
     "execution_count": 50,
     "metadata": {},
     "output_type": "execute_result"
    }
   ],
   "source": [
    "nums = [1, 3, 4, 7]\n",
    "'nums', id(nums), nums"
   ]
  },
  {
   "cell_type": "markdown",
   "metadata": {},
   "source": [
    "Há mais de uma maneira de inserir um item no fim dessa lista..."
   ]
  },
  {
   "cell_type": "code",
   "execution_count": 51,
   "metadata": {
    "scrolled": true
   },
   "outputs": [
    {
     "data": {
      "text/plain": [
       "('nums', 4495554888, [1, 3, 4, 7, 9])"
      ]
     },
     "execution_count": 51,
     "metadata": {},
     "output_type": "execute_result"
    }
   ],
   "source": [
    "nums += [9]\n",
    "'nums', id(nums), nums"
   ]
  },
  {
   "cell_type": "code",
   "execution_count": 52,
   "metadata": {
    "scrolled": true
   },
   "outputs": [
    {
     "data": {
      "text/plain": [
       "('nums', 4495554888, [1, 3, 4, 7, 9, 4])"
      ]
     },
     "execution_count": 52,
     "metadata": {},
     "output_type": "execute_result"
    }
   ],
   "source": [
    "nums.append(4)\n",
    "'nums', id(nums), nums"
   ]
  },
  {
   "cell_type": "markdown",
   "metadata": {},
   "source": [
    "Note que o identificador associado à lista `nums` não se altera quando acrescentamos novos itens à lista."
   ]
  },
  {
   "cell_type": "markdown",
   "metadata": {},
   "source": [
    "### Inserir um item numa posição qualquer"
   ]
  },
  {
   "cell_type": "markdown",
   "metadata": {},
   "source": [
    "Também é possível inserir um novo item numa posição qualquer, inclusive no início e no fim de uma lista."
   ]
  },
  {
   "cell_type": "code",
   "execution_count": 53,
   "metadata": {
    "scrolled": true
   },
   "outputs": [
    {
     "name": "stdout",
     "output_type": "stream",
     "text": [
      "nums 4495689928 [1, 3, 4, 7]\n"
     ]
    }
   ],
   "source": [
    "nums = [1, 3, 4, 7]\n",
    "print('nums', id(nums), nums)"
   ]
  },
  {
   "cell_type": "code",
   "execution_count": 54,
   "metadata": {},
   "outputs": [
    {
     "name": "stdout",
     "output_type": "stream",
     "text": [
      "nums 4495689928 [1, 3, 99, 4, 7]\n"
     ]
    }
   ],
   "source": [
    "nums.insert(2, 99)\n",
    "print('nums', id(nums), nums)"
   ]
  },
  {
   "cell_type": "code",
   "execution_count": 55,
   "metadata": {},
   "outputs": [
    {
     "name": "stdout",
     "output_type": "stream",
     "text": [
      "nums 4495689928 [99, 1, 3, 99, 4, 7]\n"
     ]
    }
   ],
   "source": [
    "nums.insert(0, 99)\n",
    "print('nums', id(nums), nums)"
   ]
  },
  {
   "cell_type": "code",
   "execution_count": 56,
   "metadata": {},
   "outputs": [
    {
     "name": "stdout",
     "output_type": "stream",
     "text": [
      "nums 4495689928 [99, 1, 3, 99, 4, 7, 99]\n"
     ]
    }
   ],
   "source": [
    "nums.insert(len(nums), 99)\n",
    "print('nums', id(nums), nums)"
   ]
  },
  {
   "cell_type": "markdown",
   "metadata": {},
   "source": [
    "### Estender uma lista acrescentando ao final todos os itens de uma outra lista"
   ]
  },
  {
   "cell_type": "code",
   "execution_count": 57,
   "metadata": {},
   "outputs": [
    {
     "name": "stdout",
     "output_type": "stream",
     "text": [
      "nums1 4495555400 [1, 3, 7]\n",
      "nums2 4495553160 [7, 8]\n"
     ]
    }
   ],
   "source": [
    "nums1 = [1, 3, 7]\n",
    "nums2 = [7, 8]\n",
    "print('nums1', id(nums1), nums1)\n",
    "print('nums2', id(nums2), nums2)"
   ]
  },
  {
   "cell_type": "code",
   "execution_count": 58,
   "metadata": {},
   "outputs": [
    {
     "name": "stdout",
     "output_type": "stream",
     "text": [
      "nums1 4495555400 [1, 3, 7, 7, 8]\n",
      "nums2 4495553160 [7, 8]\n"
     ]
    }
   ],
   "source": [
    "nums1.extend(nums2)\n",
    "print('nums1', id(nums1), nums1)\n",
    "print('nums2', id(nums2), nums2)"
   ]
  },
  {
   "cell_type": "code",
   "execution_count": 59,
   "metadata": {},
   "outputs": [
    {
     "name": "stdout",
     "output_type": "stream",
     "text": [
      "nums1 4495555400 [1, 3, 7, 7, 8, 7, 8]\n",
      "nums2 4495553160 [7, 8]\n"
     ]
    }
   ],
   "source": [
    "nums1 += nums2\n",
    "print('nums1', id(nums1), nums1)\n",
    "print('nums2', id(nums2), nums2)"
   ]
  },
  {
   "cell_type": "markdown",
   "metadata": {},
   "source": [
    "Nestes casos, note que os identificadores das duas listas continuam os mesmos e que a lista `num2` não se altera."
   ]
  },
  {
   "cell_type": "markdown",
   "metadata": {},
   "source": [
    "O argumento de `extend` também pode ser uma constante..."
   ]
  },
  {
   "cell_type": "code",
   "execution_count": 60,
   "metadata": {},
   "outputs": [
    {
     "name": "stdout",
     "output_type": "stream",
     "text": [
      "nums1 4495555400 [1, 3, 7, 7, 8, 7, 8, 0, 1]\n"
     ]
    }
   ],
   "source": [
    "nums1.extend([0, 1])\n",
    "print('nums1', id(nums1), nums1)"
   ]
  },
  {
   "cell_type": "code",
   "execution_count": 61,
   "metadata": {
    "scrolled": true
   },
   "outputs": [
    {
     "name": "stdout",
     "output_type": "stream",
     "text": [
      "nums2 4495553160 [7, 8, 99]\n"
     ]
    }
   ],
   "source": [
    "nums2[len(nums2):] = [99]\n",
    "print('nums2', id(nums2), nums2)"
   ]
  },
  {
   "cell_type": "code",
   "execution_count": 62,
   "metadata": {},
   "outputs": [
    {
     "name": "stdout",
     "output_type": "stream",
     "text": [
      "nums2 4495553160 [7, 8, 99, 1, 2]\n"
     ]
    }
   ],
   "source": [
    "nums2[len(nums2):] = [1, 2]\n",
    "print('nums2', id(nums2), nums2)"
   ]
  },
  {
   "cell_type": "markdown",
   "metadata": {},
   "source": [
    "### Remover de uma lista o primeiro item com um dado valor"
   ]
  },
  {
   "cell_type": "code",
   "execution_count": 63,
   "metadata": {},
   "outputs": [
    {
     "name": "stdout",
     "output_type": "stream",
     "text": [
      "nums 4495682312 [1, 4, 3, 7]\n"
     ]
    }
   ],
   "source": [
    "nums = [1, 3, 4, 3, 7]\n",
    "nums.remove(3)\n",
    "print('nums', id(nums), nums)"
   ]
  },
  {
   "cell_type": "markdown",
   "metadata": {},
   "source": [
    "### Remover e retornar o item numa dada posição"
   ]
  },
  {
   "cell_type": "code",
   "execution_count": 64,
   "metadata": {},
   "outputs": [
    {
     "name": "stdout",
     "output_type": "stream",
     "text": [
      "x 3\n",
      "nums 4495682312 [1, 4, 7]\n"
     ]
    }
   ],
   "source": [
    "x = nums.pop(2)\n",
    "print('x', x)\n",
    "print('nums', id(nums), nums)"
   ]
  },
  {
   "cell_type": "markdown",
   "metadata": {},
   "source": [
    "Se o argumento for omitido, `pop` remove e retorna o último item da lista."
   ]
  },
  {
   "cell_type": "code",
   "execution_count": 65,
   "metadata": {},
   "outputs": [
    {
     "name": "stdout",
     "output_type": "stream",
     "text": [
      "x 7\n",
      "nums 4495682312 [1, 4]\n"
     ]
    }
   ],
   "source": [
    "x = nums.pop()\n",
    "print('x', x)\n",
    "print('nums', id(nums), nums)"
   ]
  },
  {
   "cell_type": "markdown",
   "metadata": {},
   "source": [
    "### Remover todos os itens de uma lista"
   ]
  },
  {
   "cell_type": "code",
   "execution_count": 66,
   "metadata": {},
   "outputs": [
    {
     "name": "stdout",
     "output_type": "stream",
     "text": [
      "nums 4495688904 [1, 3, 4, 3, 7]\n"
     ]
    }
   ],
   "source": [
    "nums = [1, 3, 4, 3, 7]\n",
    "print('nums', id(nums), nums)"
   ]
  },
  {
   "cell_type": "code",
   "execution_count": 67,
   "metadata": {},
   "outputs": [
    {
     "name": "stdout",
     "output_type": "stream",
     "text": [
      "nums 4495688904 []\n"
     ]
    }
   ],
   "source": [
    "nums.clear()\n",
    "print('nums', id(nums), nums)"
   ]
  },
  {
   "cell_type": "markdown",
   "metadata": {},
   "source": [
    "### Obter o índice do primeiro item com um dado valor"
   ]
  },
  {
   "cell_type": "code",
   "execution_count": 68,
   "metadata": {},
   "outputs": [
    {
     "name": "stdout",
     "output_type": "stream",
     "text": [
      "index(3) 1\n",
      "nums 4495731976 [1, 3, 4, 3, 7]\n"
     ]
    }
   ],
   "source": [
    "nums = [1, 3, 4, 3, 7]\n",
    "ix = nums.index(3)\n",
    "print('index(3)', ix)\n",
    "print('nums', id(nums), nums)"
   ]
  },
  {
   "cell_type": "code",
   "execution_count": 69,
   "metadata": {},
   "outputs": [
    {
     "ename": "ValueError",
     "evalue": "99 is not in list",
     "output_type": "error",
     "traceback": [
      "\u001b[0;31m---------------------------------------------------------------------------\u001b[0m",
      "\u001b[0;31mValueError\u001b[0m                                Traceback (most recent call last)",
      "\u001b[0;32m<ipython-input-69-c39c2dc448d7>\u001b[0m in \u001b[0;36m<module>\u001b[0;34m()\u001b[0m\n\u001b[0;32m----> 1\u001b[0;31m \u001b[0mix\u001b[0m \u001b[0;34m=\u001b[0m \u001b[0mnums\u001b[0m\u001b[0;34m.\u001b[0m\u001b[0mindex\u001b[0m\u001b[0;34m(\u001b[0m\u001b[0;36m99\u001b[0m\u001b[0;34m)\u001b[0m  \u001b[0;31m# vai dar erro...\u001b[0m\u001b[0;34m\u001b[0m\u001b[0m\n\u001b[0m\u001b[1;32m      2\u001b[0m \u001b[0mprint\u001b[0m\u001b[0;34m(\u001b[0m\u001b[0;34m'index(99)'\u001b[0m\u001b[0;34m,\u001b[0m \u001b[0mix\u001b[0m\u001b[0;34m)\u001b[0m\u001b[0;34m\u001b[0m\u001b[0m\n\u001b[1;32m      3\u001b[0m \u001b[0mprint\u001b[0m\u001b[0;34m(\u001b[0m\u001b[0;34m'nums'\u001b[0m\u001b[0;34m,\u001b[0m \u001b[0mid\u001b[0m\u001b[0;34m(\u001b[0m\u001b[0mnums\u001b[0m\u001b[0;34m)\u001b[0m\u001b[0;34m,\u001b[0m \u001b[0mnums\u001b[0m\u001b[0;34m)\u001b[0m\u001b[0;34m\u001b[0m\u001b[0m\n",
      "\u001b[0;31mValueError\u001b[0m: 99 is not in list"
     ]
    }
   ],
   "source": [
    "ix = nums.index(99)  # vai dar erro...\n",
    "print('index(99)', ix)\n",
    "print('nums', id(nums), nums)"
   ]
  },
  {
   "cell_type": "markdown",
   "metadata": {},
   "source": [
    "### Retornar o número de vezes que um dado valor aparece numa lista"
   ]
  },
  {
   "cell_type": "code",
   "execution_count": 70,
   "metadata": {},
   "outputs": [
    {
     "name": "stdout",
     "output_type": "stream",
     "text": [
      "nums 4495688392 [1, 3, 4, 3, 7]\n",
      "count(3) 2\n",
      "count(9) 0\n"
     ]
    }
   ],
   "source": [
    "nums = [1, 3, 4, 3, 7]\n",
    "print('nums', id(nums), nums)\n",
    "\n",
    "c3 = nums.count(3)\n",
    "print('count(3)', c3)\n",
    "\n",
    "c9 = nums.count(9)\n",
    "print('count(9)', c9)"
   ]
  },
  {
   "cell_type": "markdown",
   "metadata": {},
   "source": [
    "### Fazer uma busca linear numa lista\n",
    "O motivo de uma busca geralmente é encontrar um item da lista que satisfaça uma determinada condição. A busca linear começa em uma das extremidades da lista e caminha na direção da outra extremidade até encontrar o item desejado ou esgotar a lista. À medida que a busca avança, é comum também realizar-se alguma operação sobre os elementos examinados que não satisfazem a condição procurada.\n",
    "\n",
    "Vamos estudar duas maneiras de fazer essa operação: uma usando os comandos `for` / `break` e outra usando `while`. "
   ]
  },
  {
   "cell_type": "markdown",
   "metadata": {},
   "source": [
    "#### Busca linear com `for` / `break`\n",
    "Neste caso, o comando `for` se encarrega de fornecer os itens da lista, um a um, enquanto o `break` se encarrega de interromper a iteração ao se achar o item desejado.\n",
    "```python\n",
    "item_ainda_não_encontrado = True\n",
    "for item in lista:\n",
    "    if item satisfaz a condição:\n",
    "        item_ainda_não_encontrado = False\n",
    "        break\n",
    "    else:\n",
    "        fazer alguma operação sobre o item\n",
    "```"
   ]
  },
  {
   "cell_type": "markdown",
   "metadata": {},
   "source": [
    "#### Busca linear com `while`\n",
    "Neste caso, o comando `while` deve se encarregar das duas tarefas: fornecer os itens da lista, um a um, enquanto o item não é encontrado e interromper a iteração quando isso acontecer.\n",
    "```python\n",
    "item_ainda_não_encontrado = True\n",
    "while item_ainda_não_encontrado and lista não esgotada:\n",
    "    obter o próximo item da lista\n",
    "    if item satisfaz a condição:\n",
    "        item_ainda_não_encontrado = False\n",
    "    else:\n",
    "        fazer alguma operação sobre o item\n",
    "```"
   ]
  },
  {
   "cell_type": "markdown",
   "metadata": {},
   "source": [
    "### Ordenar uma lista"
   ]
  },
  {
   "cell_type": "markdown",
   "metadata": {},
   "source": [
    "A ordenação de uma lista pode ser feita pelo método `sort`, que ordena a lista no local, isto é, destroi a versão original da lista, ou pela função `sorted` que retorna uma nova lista com os valores na ordem desejada."
   ]
  },
  {
   "cell_type": "code",
   "execution_count": 71,
   "metadata": {},
   "outputs": [
    {
     "data": {
      "text/plain": [
       "('nums', 4495772552, [1, 3, 4, -3, 7])"
      ]
     },
     "execution_count": 71,
     "metadata": {},
     "output_type": "execute_result"
    }
   ],
   "source": [
    "nums = [1, 3, 4, -3, 7]\n",
    "'nums', id(nums), nums"
   ]
  },
  {
   "cell_type": "code",
   "execution_count": 72,
   "metadata": {},
   "outputs": [
    {
     "data": {
      "text/plain": [
       "('nums', 4495772552, [-3, 1, 3, 4, 7])"
      ]
     },
     "execution_count": 72,
     "metadata": {},
     "output_type": "execute_result"
    }
   ],
   "source": [
    "nums.sort()\n",
    "'nums', id(nums), nums"
   ]
  },
  {
   "cell_type": "code",
   "execution_count": 73,
   "metadata": {},
   "outputs": [
    {
     "data": {
      "text/plain": [
       "('nums', 4495772552, [1, -3, 3, 4, 7])"
      ]
     },
     "execution_count": 73,
     "metadata": {},
     "output_type": "execute_result"
    }
   ],
   "source": [
    "nums.sort(key=abs)\n",
    "'nums', id(nums), nums"
   ]
  },
  {
   "cell_type": "code",
   "execution_count": 74,
   "metadata": {},
   "outputs": [
    {
     "data": {
      "text/plain": [
       "('nums', 4495772552, [7, 4, 3, 1, -3])"
      ]
     },
     "execution_count": 74,
     "metadata": {},
     "output_type": "execute_result"
    }
   ],
   "source": [
    "nums.sort(reverse=True)\n",
    "'nums', id(nums), nums"
   ]
  },
  {
   "cell_type": "code",
   "execution_count": 75,
   "metadata": {},
   "outputs": [
    {
     "data": {
      "text/plain": [
       "('pals', 4495732360, ['xis', 'alma', 'alfa', 'oi'])"
      ]
     },
     "execution_count": 75,
     "metadata": {},
     "output_type": "execute_result"
    }
   ],
   "source": [
    "pals = ['xis', 'alma', 'alfa', 'oi']\n",
    "'pals', id(pals), pals"
   ]
  },
  {
   "cell_type": "code",
   "execution_count": 76,
   "metadata": {},
   "outputs": [
    {
     "data": {
      "text/plain": [
       "('pals', 4495732360, ['alfa', 'alma', 'oi', 'xis'])"
      ]
     },
     "execution_count": 76,
     "metadata": {},
     "output_type": "execute_result"
    }
   ],
   "source": [
    "pals.sort()\n",
    "'pals', id(pals), pals"
   ]
  },
  {
   "cell_type": "code",
   "execution_count": 77,
   "metadata": {},
   "outputs": [
    {
     "data": {
      "text/plain": [
       "('pals', 4495732360, ['oi', 'xis', 'alfa', 'alma'])"
      ]
     },
     "execution_count": 77,
     "metadata": {},
     "output_type": "execute_result"
    }
   ],
   "source": [
    "pals.sort(key=len)\n",
    "'pals', id(pals), pals"
   ]
  },
  {
   "cell_type": "code",
   "execution_count": 78,
   "metadata": {},
   "outputs": [
    {
     "data": {
      "text/plain": [
       "('pals', 4495732360, ['xis', 'oi', 'alma', 'alfa'])"
      ]
     },
     "execution_count": 78,
     "metadata": {},
     "output_type": "execute_result"
    }
   ],
   "source": [
    "pals.sort(reverse=True)\n",
    "'pals', id(pals), pals"
   ]
  },
  {
   "cell_type": "code",
   "execution_count": 79,
   "metadata": {},
   "outputs": [
    {
     "data": {
      "text/plain": [
       "('nums1', 4495731016, [1, 3, 4, -3, 7])"
      ]
     },
     "execution_count": 79,
     "metadata": {},
     "output_type": "execute_result"
    }
   ],
   "source": [
    "nums1 = [1, 3, 4, -3, 7]\n",
    "'nums1', id(nums1), nums1"
   ]
  },
  {
   "cell_type": "code",
   "execution_count": 80,
   "metadata": {},
   "outputs": [
    {
     "data": {
      "text/plain": [
       "('nums2', 4495732616, [-3, 1, 3, 4, 7])"
      ]
     },
     "execution_count": 80,
     "metadata": {},
     "output_type": "execute_result"
    }
   ],
   "source": [
    "nums2 = sorted(nums1)\n",
    "'nums2', id(nums2), nums2"
   ]
  },
  {
   "cell_type": "code",
   "execution_count": 81,
   "metadata": {},
   "outputs": [
    {
     "data": {
      "text/plain": [
       "('nums2', 4495732552, [1, 3, -3, 4, 7])"
      ]
     },
     "execution_count": 81,
     "metadata": {},
     "output_type": "execute_result"
    }
   ],
   "source": [
    "nums2 = sorted(nums1, key=abs)\n",
    "'nums2', id(nums2), nums2"
   ]
  },
  {
   "cell_type": "code",
   "execution_count": 82,
   "metadata": {},
   "outputs": [
    {
     "data": {
      "text/plain": [
       "('nums2', 4495681992, [7, 4, 3, 1, -3])"
      ]
     },
     "execution_count": 82,
     "metadata": {},
     "output_type": "execute_result"
    }
   ],
   "source": [
    "nums2 = sorted(nums1, reverse=True)\n",
    "'nums2', id(nums2), nums2"
   ]
  },
  {
   "cell_type": "markdown",
   "metadata": {},
   "source": [
    "### Inverter a ordem dos itens de uma lista"
   ]
  },
  {
   "cell_type": "code",
   "execution_count": 83,
   "metadata": {},
   "outputs": [
    {
     "name": "stdout",
     "output_type": "stream",
     "text": [
      "pals 4495729032 ['xis', 'alma', 'alfa', 'oi']\n",
      "pals 4495729032 ['oi', 'alfa', 'alma', 'xis']\n",
      "revs 4495125000 ['xis', 'alma', 'alfa', 'oi']\n"
     ]
    }
   ],
   "source": [
    "pals = ['xis', 'alma', 'alfa', 'oi']\n",
    "print('pals', id(pals), pals)\n",
    "\n",
    "pals.reverse()\n",
    "print('pals', id(pals), pals)\n",
    "\n",
    "revs = list(reversed(pals))\n",
    "print('revs', id(revs), revs)"
   ]
  },
  {
   "cell_type": "markdown",
   "metadata": {},
   "source": [
    "### Copiar uma lista"
   ]
  },
  {
   "cell_type": "code",
   "execution_count": 84,
   "metadata": {},
   "outputs": [
    {
     "data": {
      "text/plain": [
       "('anums', 4495123336, [1, 3, 4, -3, 7])"
      ]
     },
     "execution_count": 84,
     "metadata": {},
     "output_type": "execute_result"
    },
    {
     "data": {
      "text/plain": [
       "('bnums', 4495125768, [1, 3, 4, -3, 7])"
      ]
     },
     "execution_count": 84,
     "metadata": {},
     "output_type": "execute_result"
    }
   ],
   "source": [
    "anums = [1, 3, 4, -3, 7]\n",
    "\n",
    "bnums = anums.copy()\n",
    "'anums', id(anums), anums\n",
    "'bnums', id(bnums), bnums"
   ]
  },
  {
   "cell_type": "code",
   "execution_count": 85,
   "metadata": {},
   "outputs": [
    {
     "name": "stdout",
     "output_type": "stream",
     "text": [
      "anums 4495123336 [1, 3, 4, -3, 7]\n",
      "cnums 4495771656 [1, 3, 4, -3, 7]\n"
     ]
    }
   ],
   "source": [
    "cnums = list(anums)\n",
    "print('anums', id(anums), anums)\n",
    "print('cnums', id(cnums), cnums)"
   ]
  },
  {
   "cell_type": "markdown",
   "metadata": {},
   "source": [
    "#### \\*\\*\\* _Muito cuidado com aliasing_ \\*\\*\\*\n",
    "Chama-se *aliasing* a situação em que mais do que uma variável encontra-se associada a um certo objeto, o que permite que esse objeto seja acessado de mais do que uma maneira.\n",
    "\n",
    "É importante lembrar que, em Python, uma variável comporta-se como um rótulo que é colocado em um objeto mas pode ser transferido para outro a qualquer momento. Esse modelo contrasta com a visão tradicional de variável como sendo um contentor de dados de um determinado tipo."
   ]
  },
  {
   "cell_type": "markdown",
   "metadata": {},
   "source": [
    "Por exemplo, considere o código abaixo"
   ]
  },
  {
   "cell_type": "code",
   "execution_count": 86,
   "metadata": {},
   "outputs": [],
   "source": [
    "a = [1, 2, 3]\n",
    "b = a"
   ]
  },
  {
   "cell_type": "markdown",
   "metadata": {},
   "source": [
    "A linha 1 cria uma lista de inteiros e associa o rótulo `a` a ela.\n",
    "\n",
    "A linha 2 pega o objeto ao qual o rótulo `a` está associado e associa o rótulo `b` a ele.\n",
    "\n",
    "Daí em diante, podemos nos referir a esse objeto usando o nome `a` ou o nome `b`."
   ]
  },
  {
   "cell_type": "markdown",
   "metadata": {},
   "source": [
    "Sabemos que todo objeto em Python possui um identificador único. A função `id` retorna o identificador do objeto associado a um certo nome. O comando abaixo mostra que os nomes `a` e `b` estão associados ao mesmo objeto."
   ]
  },
  {
   "cell_type": "code",
   "execution_count": 87,
   "metadata": {},
   "outputs": [
    {
     "data": {
      "text/plain": [
       "(4495615240, 4495615240)"
      ]
     },
     "execution_count": 87,
     "metadata": {},
     "output_type": "execute_result"
    }
   ],
   "source": [
    "id(a), id(b)"
   ]
  },
  {
   "cell_type": "markdown",
   "metadata": {},
   "source": [
    "Python dispõe de dois operadores que nos ajudarão nesta discussão:\n",
    "    \n",
    "-   `x == y` é avaliada como `True` se os objetos associados às variáveis `x` e `y` tiverem o mesmo valor.\n",
    "-   `x is y` é avaliada como `True` se as variáveis `x` e `y` estiverem associadas a um mesmo objeto."
   ]
  },
  {
   "cell_type": "markdown",
   "metadata": {},
   "source": [
    "No nosso exemplo, como `a` e `b` estão associados ao mesmo objeto, quando aplicados a eles, os operadores `==` e `is` devem retornar `True`."
   ]
  },
  {
   "cell_type": "code",
   "execution_count": 88,
   "metadata": {},
   "outputs": [
    {
     "data": {
      "text/plain": [
       "True"
      ]
     },
     "execution_count": 88,
     "metadata": {},
     "output_type": "execute_result"
    }
   ],
   "source": [
    "a == b"
   ]
  },
  {
   "cell_type": "code",
   "execution_count": 89,
   "metadata": {},
   "outputs": [
    {
     "data": {
      "text/plain": [
       "True"
      ]
     },
     "execution_count": 89,
     "metadata": {},
     "output_type": "execute_result"
    }
   ],
   "source": [
    "a is b"
   ]
  },
  {
   "cell_type": "markdown",
   "metadata": {},
   "source": [
    "O mesmo não acontece quando uma variável `c` é criada a partir de uma operação ralizada sobre `a`. Por exemplo, o comando abaixo cria uma cópia do objeto associado à variável `a` e associa a variável `c` a ela."
   ]
  },
  {
   "cell_type": "code",
   "execution_count": 90,
   "metadata": {},
   "outputs": [
    {
     "data": {
      "text/plain": [
       "[1, 2, 3]"
      ]
     },
     "execution_count": 90,
     "metadata": {},
     "output_type": "execute_result"
    }
   ],
   "source": [
    "c = list(a)\n",
    "c"
   ]
  },
  {
   "cell_type": "markdown",
   "metadata": {},
   "source": [
    "Como consequência, `a` e `c` estão associadas a objetos distintos, mas que têm o mesmo valor."
   ]
  },
  {
   "cell_type": "code",
   "execution_count": 91,
   "metadata": {},
   "outputs": [
    {
     "data": {
      "text/plain": [
       "True"
      ]
     },
     "execution_count": 91,
     "metadata": {},
     "output_type": "execute_result"
    }
   ],
   "source": [
    "a == c"
   ]
  },
  {
   "cell_type": "code",
   "execution_count": 92,
   "metadata": {},
   "outputs": [
    {
     "data": {
      "text/plain": [
       "False"
      ]
     },
     "execution_count": 92,
     "metadata": {},
     "output_type": "execute_result"
    }
   ],
   "source": [
    "a is c"
   ]
  },
  {
   "cell_type": "markdown",
   "metadata": {},
   "source": [
    "Vamos agora modificar os valores dos objetos associados às variáveis `b` e `c`."
   ]
  },
  {
   "cell_type": "code",
   "execution_count": 93,
   "metadata": {},
   "outputs": [
    {
     "data": {
      "text/plain": [
       "[1, 20, 3]"
      ]
     },
     "execution_count": 93,
     "metadata": {},
     "output_type": "execute_result"
    }
   ],
   "source": [
    "b[1] = 20\n",
    "b"
   ]
  },
  {
   "cell_type": "code",
   "execution_count": 94,
   "metadata": {},
   "outputs": [
    {
     "data": {
      "text/plain": [
       "[1, 2, 30]"
      ]
     },
     "execution_count": 94,
     "metadata": {},
     "output_type": "execute_result"
    }
   ],
   "source": [
    "c[2] = 30\n",
    "c"
   ]
  },
  {
   "cell_type": "markdown",
   "metadata": {},
   "source": [
    "O que você acha que aconteceu com `a`?"
   ]
  },
  {
   "cell_type": "code",
   "execution_count": 95,
   "metadata": {},
   "outputs": [
    {
     "data": {
      "text/plain": [
       "[1, 20, 3]"
      ]
     },
     "execution_count": 95,
     "metadata": {},
     "output_type": "execute_result"
    }
   ],
   "source": [
    "a"
   ]
  },
  {
   "cell_type": "markdown",
   "metadata": {},
   "source": [
    "Como `a` é um *alias* de `b`, isto é, é um outro nome para um mesmo objeto, ele reflete as alterações que esse objeto sofreu.\n",
    "\n",
    "Por outro lado, como `a` e `c` se referem a objetos distintos, o que acontece com um não interfere na vida do outro."
   ]
  },
  {
   "cell_type": "markdown",
   "metadata": {},
   "source": [
    "#### Moral da história\n",
    "> Ao criar uma variável, veja se você não está criando um *alias* quando imaginava estar criando uma cópia.\n",
    ">\n",
    "> E se você precisar mesmo de um *alias* não se esqueça de que ele será afetado por todas as alterações sofridas pelo seu ‘gêmeo’."
   ]
  },
  {
   "cell_type": "markdown",
   "metadata": {},
   "source": [
    "### Slicing (_fatiamento_)\n",
    "A operação de fatiamento (_slicing_) permite selecionar uma fatia (_slice_) com mais do que um elemento de uma lista.\n",
    "\n",
    "Como no caso de `range`, _slicing_ também admite três parâmetros não obrigatórios:   \n",
    "`umaLista[start:stop:step]`  \n",
    "Nesse caso, serão selecionados os elementos contidos numa faixa que inclui `start` mas não inclui `stop`, escolhidos de `step` em `step`, isto é,  \n",
    "`umaLista[start], umaLista[start+step], umaLista[start+2*step], ...` sem incluir ou ultrapassar `umaLista[stop]`."
   ]
  },
  {
   "cell_type": "code",
   "execution_count": 96,
   "metadata": {},
   "outputs": [
    {
     "name": "stdout",
     "output_type": "stream",
     "text": [
      "nums 4495044040 [11, 22, 23, 34, 45, 16]\n"
     ]
    }
   ],
   "source": [
    "# Vamos criar uma lista numérica\n",
    "nums = [11, 22, 23, 34, 45, 16]\n",
    "print('nums', id(nums), nums)"
   ]
  },
  {
   "cell_type": "code",
   "execution_count": 97,
   "metadata": {},
   "outputs": [
    {
     "name": "stdout",
     "output_type": "stream",
     "text": [
      "nums 4495044040 [11, 22, 23, 34, 45, 16]\n",
      "imps 4495773320 [11, 23, 45]\n"
     ]
    }
   ],
   "source": [
    "# Seleção de uma faixa com todos os parâmetros\n",
    "imps = nums[0:6:2]\n",
    "print('nums', id(nums), nums)\n",
    "print('imps', id(imps), imps)"
   ]
  },
  {
   "cell_type": "code",
   "execution_count": 98,
   "metadata": {},
   "outputs": [
    {
     "name": "stdout",
     "output_type": "stream",
     "text": [
      "nums  4495044040 [11, 22, 23, 34, 45, 16]\n",
      "fatia 4495553736 [22, 23, 34, 45]\n"
     ]
    }
   ],
   "source": [
    "# Quando omitido, step assume o valor 1\n",
    "fatia = nums[1:5]\n",
    "print('nums ', id(nums), nums)\n",
    "print('fatia', id(fatia), fatia)"
   ]
  },
  {
   "cell_type": "code",
   "execution_count": 99,
   "metadata": {},
   "outputs": [
    {
     "name": "stdout",
     "output_type": "stream",
     "text": [
      "nums  4495044040 [11, 22, 23, 34, 45, 16]\n",
      "fatia 4495040840 [11, 22, 23, 34, 45]\n"
     ]
    }
   ],
   "source": [
    "# Quando omitido, start assume o valor 0\n",
    "fatia = nums[:5]\n",
    "print('nums ', id(nums), nums)\n",
    "print('fatia', id(fatia), fatia)"
   ]
  },
  {
   "cell_type": "code",
   "execution_count": 100,
   "metadata": {},
   "outputs": [
    {
     "name": "stdout",
     "output_type": "stream",
     "text": [
      "nums  4495044040 [11, 22, 23, 34, 45, 16]\n",
      "fatia 4494915592 [22, 23, 34, 45, 16]\n"
     ]
    }
   ],
   "source": [
    "# Quando omitido, stop assume o valor len(lista)\n",
    "fatia = nums[1:]\n",
    "print('nums ', id(nums), nums)\n",
    "print('fatia', id(fatia), fatia)"
   ]
  },
  {
   "cell_type": "code",
   "execution_count": 101,
   "metadata": {},
   "outputs": [
    {
     "name": "stdout",
     "output_type": "stream",
     "text": [
      "nums  4495044040 [11, 22, 23, 34, 45, 16]\n",
      "fatia 4495772936 [11, 22, 23, 34, 45, 16]\n"
     ]
    }
   ],
   "source": [
    "# Quando todos os parâmetros são omitidos, obtemos uma cópia da lista\n",
    "# Note que os ids são diferentes\n",
    "fatia = nums[:]\n",
    "print('nums ', id(nums), nums)\n",
    "print('fatia', id(fatia), fatia)"
   ]
  },
  {
   "cell_type": "code",
   "execution_count": 102,
   "metadata": {},
   "outputs": [
    {
     "name": "stdout",
     "output_type": "stream",
     "text": [
      "nums  4495044040 [11, 22, 23, 34, 45, 16]\n",
      "fatia 4494915592 [16, 45, 34, 23]\n"
     ]
    }
   ],
   "source": [
    "# Step pode ser negativo e, nesse caso, a relação entre start e stop se inverte\n",
    "fatia = nums[5:1:-1]\n",
    "print('nums ', id(nums), nums)\n",
    "print('fatia', id(fatia), fatia)"
   ]
  },
  {
   "cell_type": "markdown",
   "metadata": {},
   "source": [
    "Você consegue explicar bem este último resultado?\n",
    "\n",
    "Você consegue antecipar o resultado de `fatia = nums[::-1]`?"
   ]
  },
  {
   "cell_type": "code",
   "execution_count": 103,
   "metadata": {},
   "outputs": [
    {
     "name": "stdout",
     "output_type": "stream",
     "text": [
      "nums  4495044040 [11, 22, 23, 34, 45, 16]\n",
      "fatia 4495772936 [16, 45, 34, 23, 22, 11]\n"
     ]
    }
   ],
   "source": [
    "# Quando step é negativo e start e stop são omitidos, obtemos uma cópia invertida da lista\n",
    "fatia = nums[::-1]\n",
    "print('nums ', id(nums), nums)\n",
    "print('fatia', id(fatia), fatia)"
   ]
  },
  {
   "cell_type": "markdown",
   "metadata": {},
   "source": [
    "## Conversão de listas para estruturas e de estruturas para listas"
   ]
  },
  {
   "cell_type": "markdown",
   "metadata": {},
   "source": [
    "### Conversão de _string_ para _lista de strings_\n",
    "Já vimos que _`split`_ converte uma _string_ em uma lista de _strings_, que pode depois, se desejado, ser convertida em uma lista de outro tipo."
   ]
  },
  {
   "cell_type": "code",
   "execution_count": 104,
   "metadata": {},
   "outputs": [
    {
     "name": "stdout",
     "output_type": "stream",
     "text": [
      "snums <class 'str'> 4495645912 '12  3   456 78   90'\n"
     ]
    }
   ],
   "source": [
    "snums = '12  3   456 78   90'\n",
    "print('snums', type(snums), id(snums), repr(snums))"
   ]
  },
  {
   "cell_type": "code",
   "execution_count": 105,
   "metadata": {},
   "outputs": [
    {
     "name": "stdout",
     "output_type": "stream",
     "text": [
      "lnums <class 'list'> 4495772680 ['12', '3', '456', '78', '90']\n"
     ]
    }
   ],
   "source": [
    "lnums = snums.split()\n",
    "print('lnums', type(lnums), id(lnums), lnums)"
   ]
  },
  {
   "cell_type": "code",
   "execution_count": 106,
   "metadata": {},
   "outputs": [
    {
     "name": "stdout",
     "output_type": "stream",
     "text": [
      "inums <class 'list'> 4495041736 [12, 3, 456, 78, 90]\n"
     ]
    }
   ],
   "source": [
    "inums = [int(n) for n in lnums]\n",
    "print('inums', type(inums), id(inums), inums)"
   ]
  },
  {
   "cell_type": "markdown",
   "metadata": {},
   "source": [
    "### Conversão de uma _lista de strings_ para _string_\n",
    "O método _join_ faz essa conversão. A _string_ sobre a qual se aplica o método é usada como separador entre os elementos da lista na _string_ resultante."
   ]
  },
  {
   "cell_type": "code",
   "execution_count": 107,
   "metadata": {},
   "outputs": [
    {
     "name": "stdout",
     "output_type": "stream",
     "text": [
      "sres1 <class 'str'> 4495731440 '1234567890'\n"
     ]
    }
   ],
   "source": [
    "sres1 = ''.join(lnums)\n",
    "print('sres1', type(sres1), id(sres1), repr(sres1))"
   ]
  },
  {
   "cell_type": "code",
   "execution_count": 108,
   "metadata": {},
   "outputs": [
    {
     "name": "stdout",
     "output_type": "stream",
     "text": [
      "sres2 <class 'str'> 4495779824 '12 3 456 78 90'\n"
     ]
    }
   ],
   "source": [
    "sres2 = ' '.join(lnums)\n",
    "print('sres2', type(sres2), id(sres2), repr(sres2))"
   ]
  },
  {
   "cell_type": "code",
   "execution_count": 109,
   "metadata": {},
   "outputs": [
    {
     "name": "stdout",
     "output_type": "stream",
     "text": [
      "sres3 <class 'str'> 4495019944 '12-x-3-x-456-x-78-x-90'\n"
     ]
    }
   ],
   "source": [
    "sres3 = '-x-'.join(lnums)\n",
    "print('sres3', type(sres3), id(sres3), repr(sres3))"
   ]
  },
  {
   "cell_type": "markdown",
   "metadata": {},
   "source": [
    "### Conversão de uma _lista_ qualquer para _string_\n",
    "Quando os elementos da lista não forem _strings_, é necessário convertê-los antes de aplicar o método _join_."
   ]
  },
  {
   "cell_type": "code",
   "execution_count": 110,
   "metadata": {},
   "outputs": [
    {
     "name": "stdout",
     "output_type": "stream",
     "text": [
      "inums <class 'list'> 4495615304 [12, 3, 4.56, 78, 9.0]\n",
      "knums <class 'list'> 4495041736 ['12', '3', '4.56', '78', '9.0']\n",
      "sres4 <class 'str'> 4495604520 '12 3 4.56 78 9.0'\n"
     ]
    }
   ],
   "source": [
    "inums = [12, 3, 4.56, 78, 9.0]\n",
    "print('inums', type(inums), id(inums), inums)\n",
    "\n",
    "knums = [str(x) for x in inums]\n",
    "print('knums', type(knums), id(knums), knums)\n",
    "\n",
    "sres4 = ' '.join(knums)\n",
    "print('sres4', type(sres4), id(sres4), repr(sres4))"
   ]
  },
  {
   "cell_type": "markdown",
   "metadata": {},
   "source": [
    "### Dividir uma lista em pedaços de mesmo tamanho\n",
    "Há várias maneiras de dividir uma lista em pedaços do mesmo tamanho. Uma delas usa o conceito de _list comprehension_ que foi visto na _Aula09_."
   ]
  },
  {
   "cell_type": "code",
   "execution_count": 111,
   "metadata": {},
   "outputs": [
    {
     "name": "stdout",
     "output_type": "stream",
     "text": [
      "nums [1, 2, 3, 4, 5, 6, 7, 8, 9, 10, 11, 12, 13, 14, 15, 16, 17, 18, 19, 20]\n",
      "peds [[1, 2, 3, 4, 5], [6, 7, 8, 9, 10], [11, 12, 13, 14, 15], [16, 17, 18, 19, 20]]\n"
     ]
    }
   ],
   "source": [
    "n = 20\n",
    "nums = [x for x in range(1, n + 1)]\n",
    "print('nums', nums)\n",
    "\n",
    "p = 5\n",
    "peds = [nums[i:i+p] for i in range(0, n, p)]\n",
    "print('peds', peds)"
   ]
  },
  {
   "cell_type": "markdown",
   "metadata": {},
   "source": [
    "### Achatar (_flatten_) uma lista\n",
    "O achatamento de uma lista converte uma _lista de listas_ em uma lista simples e também pode ser implementado por uma _list comprehension_.  "
   ]
  },
  {
   "cell_type": "code",
   "execution_count": 112,
   "metadata": {},
   "outputs": [
    {
     "name": "stdout",
     "output_type": "stream",
     "text": [
      "flat [1, 2, 3, 4, 5, 6, 7, 8, 9, 10, 11, 12, 13, 14, 15, 16, 17, 18, 19, 20]\n"
     ]
    }
   ],
   "source": [
    "lista = [[1, 2, 3, 4, 5], [6, 7, 8, 9, 10], [11, 12, 13, 14, 15], [16, 17, 18, 19, 20]]\n",
    "flat = [item for sublista in lista for item in sublista]\n",
    "print('flat', flat)"
   ]
  },
  {
   "cell_type": "markdown",
   "metadata": {},
   "source": [
    "Esse processo \"achata\" apenas um nível. Se os elementos da lista original forem também _listas de listas_ a operação poderá ser repetida até chegar a uma lista completamente \"achatada\". Caso o aninhamento seja heterogêneo, será necessária uma abordagem mais potente, a ser desenvolvida nas _Aulas 25-27_."
   ]
  },
  {
   "cell_type": "code",
   "execution_count": 113,
   "metadata": {},
   "outputs": [
    {
     "name": "stdout",
     "output_type": "stream",
     "text": [
      "flat1 [[1, 2], [3, 4, 5], [6, 7], [8], [9, 10], [11, 12, 13], [14, 15], [16, 17, 18, 19, 20]]\n"
     ]
    }
   ],
   "source": [
    "lista = [[1, 2], [3, 4, 5]], [[6, 7], [8], [9, 10]], [[11, 12, 13], [14, 15], [16, 17, 18, 19, 20]]\n",
    "flat1 = [item for sublista in lista for item in sublista]\n",
    "print('flat1', flat1)"
   ]
  },
  {
   "cell_type": "code",
   "execution_count": 114,
   "metadata": {},
   "outputs": [
    {
     "name": "stdout",
     "output_type": "stream",
     "text": [
      "flat2 [1, 2, 3, 4, 5, 6, 7, 8, 9, 10, 11, 12, 13, 14, 15, 16, 17, 18, 19, 20]\n"
     ]
    }
   ],
   "source": [
    "flat2 = [item for sublista in flat1 for item in sublista]\n",
    "print('flat2', flat2)"
   ]
  },
  {
   "cell_type": "markdown",
   "metadata": {},
   "source": [
    "## Exemplos de aplicação"
   ]
  },
  {
   "cell_type": "markdown",
   "metadata": {},
   "source": [
    "### Criar uma lista com os elementos comuns a outras duas listas"
   ]
  },
  {
   "cell_type": "code",
   "execution_count": 115,
   "metadata": {},
   "outputs": [
    {
     "name": "stdout",
     "output_type": "stream",
     "text": [
      "list1 4495615496 [0, 2, 4, 6, 8, 10, 12, 14, 16, 18]\n",
      "list2 4495681480 [0, 3, 6, 9, 12, 15, 18, 21, 24, 27]\n",
      "inter 4495773512 [0, 6, 12, 18]\n"
     ]
    }
   ],
   "source": [
    "list1 = [2 * x for x in range(10)]\n",
    "print('list1', id(list1), list1)\n",
    "\n",
    "list2 = [3 * x for x in range(10)]\n",
    "print('list2', id(list2), list2)\n",
    "\n",
    "inter = [x for x in list1 if x in list2]\n",
    "print('inter', id(inter), inter)"
   ]
  },
  {
   "cell_type": "markdown",
   "metadata": {},
   "source": [
    "### Cálculo da média ponderada\n",
    "Dadas uma lista de notas e uma lista de pesos, calcular a média ponderada das notas dadas."
   ]
  },
  {
   "cell_type": "code",
   "execution_count": 116,
   "metadata": {},
   "outputs": [
    {
     "name": "stdout",
     "output_type": "stream",
     "text": [
      "pesos 4495773640 [1, 2, 2, 3, 1, 3, 1, 3, 3, 3]\n",
      "notas 4495126088 [4, 2, 5, 4, 3, 3, 0, 7, 2, 8]\n",
      "total 93 média 4.2\n"
     ]
    }
   ],
   "source": [
    "from random import choice\n",
    "\n",
    "pesos = [choice(range(1, 4)) for _ in range(10)]\n",
    "print('pesos', id(pesos), pesos)\n",
    "\n",
    "notas = [choice(range(11)) for _ in range(10)]\n",
    "print('notas', id(notas), notas)\n",
    "\n",
    "total = 0\n",
    "for i in range(min(len(notas), len(pesos))):\n",
    "    total += notas[i] * pesos[i]\n",
    "\n",
    "media = round(total / sum(pesos), 1)\n",
    "print('total', total, 'média', media)"
   ]
  },
  {
   "cell_type": "markdown",
   "metadata": {},
   "source": [
    "### Eliminar elementos repetidos de uma lista\n",
    "Dada uma lista criar uma outra eliminando todos os elementos repetidos na primeira."
   ]
  },
  {
   "cell_type": "code",
   "execution_count": 117,
   "metadata": {},
   "outputs": [
    {
     "name": "stdout",
     "output_type": "stream",
     "text": [
      "repets 4493688264 [5, 1, 2, 6, 4, 3, 2, 1, 2, 3, 2, 4, 4, 4, 5, 5, 4, 5, 2, 5]\n",
      "repets 4493688264 [5, 1, 2, 6, 4, 3, 2, 1, 2, 3, 2, 4, 4, 4, 5, 5, 4, 5, 2, 5]\n",
      "unicos 4495689992 [5, 1, 2, 6, 4, 3]\n",
      "sorted(unicos) 4495882632 [1, 2, 3, 4, 5, 6]\n",
      "unicos 4495689992 [1, 2, 3, 4, 5, 6]\n"
     ]
    }
   ],
   "source": [
    "import random\n",
    "\n",
    "repets = random.choices(range(1, 7), k=20)\n",
    "print('repets', id(repets), repets)\n",
    "\n",
    "unicos = []\n",
    "for x in repets:\n",
    "    if x not in unicos:\n",
    "        unicos += [x]\n",
    "\n",
    "print('repets', id(repets), repets)\n",
    "print('unicos', id(unicos), unicos)\n",
    "\n",
    "sorted_unicos = sorted(unicos)\n",
    "print('sorted(unicos)', id(sorted_unicos), sorted_unicos)\n",
    "\n",
    "unicos.sort()\n",
    "print('unicos', id(unicos), unicos)"
   ]
  },
  {
   "cell_type": "markdown",
   "metadata": {},
   "source": [
    "### Remover a pontuação de uma frase\n",
    "Dada uma frase, remover todos os sinais de pontuação."
   ]
  },
  {
   "cell_type": "code",
   "execution_count": 119,
   "metadata": {},
   "outputs": [
    {
     "data": {
      "text/plain": [
       "'Socorramme subi no ônibus em Marrocos'"
      ]
     },
     "execution_count": 119,
     "metadata": {},
     "output_type": "execute_result"
    }
   ],
   "source": [
    "import string\n",
    "\n",
    "frase = list(input('Digite uma frase: '))\n",
    "pontuação = list('!\"#$%&\\'()*+,-./:;<=>?@[\\\\]^_`{|}~')\n",
    "\n",
    "frase_mod = []\n",
    "for c in frase:\n",
    "    if c not in pontuação:\n",
    "        frase_mod += [c]\n",
    "frase_mod = ''.join(frase_mod)\n",
    "frase_mod"
   ]
  },
  {
   "cell_type": "markdown",
   "metadata": {},
   "source": [
    "### Remover a acentuação de uma frase\n",
    "Dada uma frase, remover todos os sinais de acentuação."
   ]
  },
  {
   "cell_type": "code",
   "execution_count": 121,
   "metadata": {},
   "outputs": [
    {
     "data": {
      "text/plain": [
       "'Socorram-me, subi no onibus em Marrocos!'"
      ]
     },
     "execution_count": 121,
     "metadata": {},
     "output_type": "execute_result"
    }
   ],
   "source": [
    "import string\n",
    "\n",
    "com_acentos = list('áàãâéêíóõôúçÁÀÃÂÉÊÍÓÕÔÚÇ')\n",
    "sem_acentos = list('aaaaeeioooucAAAAEEIOOOUC')\n",
    "\n",
    "\n",
    "frase = list(input('Digite uma frase: '))\n",
    "\n",
    "frase_mod = []\n",
    "for c in frase:\n",
    "    if c in com_acentos:\n",
    "        frase_mod += sem_acentos[com_acentos.index(c)]\n",
    "    else:\n",
    "        frase_mod += [c]\n",
    "frase_mod = ''.join(frase_mod)\n",
    "frase_mod"
   ]
  },
  {
   "cell_type": "markdown",
   "metadata": {},
   "source": [
    "### Trocar maiúsculas por minúsculas em uma frase\n",
    "Dada uma frase, trocar todas as letras maiúsculas por minúsculas."
   ]
  },
  {
   "cell_type": "code",
   "execution_count": 13,
   "metadata": {},
   "outputs": [
    {
     "data": {
      "text/plain": [
       "'socorram-me, subi no ônibus em marrocos!'"
      ]
     },
     "execution_count": 13,
     "metadata": {},
     "output_type": "execute_result"
    }
   ],
   "source": [
    "import string\n",
    "\n",
    "maiúsculas = list('ABCDEFGHIJKLMNOPQRSTUVWXYZÁÀÃÂÉÊÍÓÕÔÚÇ')\n",
    "minúsculas = list('abcdefghijklmnopqrstuvwxyzáàãâéêíóõôúç')\n",
    "\n",
    "\n",
    "frase = list(input('Digite uma frase: '))\n",
    "\n",
    "frase_mod = []\n",
    "for c in frase:\n",
    "    if c in maiúsculas:\n",
    "        frase_mod += minúsculas[maiúsculas.index(c)]\n",
    "    else:\n",
    "        frase_mod += [c]\n",
    "frase_mod = ''.join(frase_mod)\n",
    "frase_mod"
   ]
  },
  {
   "cell_type": "markdown",
   "metadata": {},
   "source": [
    "### Verificar se uma frase é palíndroma\n",
    "Dada uma frase, verificar se ela é palíndroma, desconsiderando maiúsculas/minúsculas, acentos, espaços e pontuação. Uma frase é palíndroma se ela puder ser lida igualmente nos dois sentidos."
   ]
  },
  {
   "cell_type": "markdown",
   "metadata": {},
   "source": [
    "Um esboço de solução com alto nível de abstração poderia ser:\n",
    "\n",
    "-   ler a frase\n",
    "-   eliminar caracteres a serem desconsiderados\n",
    "-   verificar se é palíndroma\n",
    "-   exibir o resultado da verificação"
   ]
  },
  {
   "cell_type": "code",
   "execution_count": 122,
   "metadata": {},
   "outputs": [],
   "source": [
    "import string"
   ]
  },
  {
   "cell_type": "code",
   "execution_count": 124,
   "metadata": {},
   "outputs": [],
   "source": [
    "# ler a frase original e convertê-la em uma lista\n",
    "frase_ori = input('Digite uma frase: ')\n",
    "frase_lista = list(frase_ori)"
   ]
  },
  {
   "cell_type": "code",
   "execution_count": 125,
   "metadata": {},
   "outputs": [],
   "source": [
    "# criar frase modificada, eliminando caracteres a serem desconsiderados\n",
    "minúsculas = list('abcdefghijklmnopqrstuvwxyzáàãâéêíóõôúç')\n",
    "maiúsculas = list('ABCDEFGHIJKLMNOPQRSTUVWXYZÁÀÃÂÉÊÍÓÕÔÚÇ')\n",
    "com_acentos = list('áàãâéêíóõôúçÁÀÃÂÉÊÍÓÕÔÚÇ')\n",
    "sem_acentos = list('aaaaeeioooucAAAAEEIOOOUC')\n",
    "pontuação = [' '] + list('!\"#$%&\\'()*+,-./:;<=>?@[\\\\]^_`{|}~')\n",
    "\n",
    "frase_mod = []\n",
    "for c in frase_lista:\n",
    "    if c in pontuação:\n",
    "        pass\n",
    "    elif c in maiúsculas:\n",
    "        frase_mod += minúsculas[maiúsculas.index(c)]\n",
    "    elif c in com_acentos:\n",
    "        frase_mod += sem_acentos[com_acentos.index(c)]\n",
    "    else:\n",
    "        frase_mod += [c]"
   ]
  },
  {
   "cell_type": "code",
   "execution_count": 126,
   "metadata": {},
   "outputs": [],
   "source": [
    "# verificar se a frase modificada é palíndroma\n",
    "frase_eh_palindroma = True\n",
    "for i in range(len(frase_mod) // 2):\n",
    "    if frase_mod[i] != frase_mod[-(i + 1)]:\n",
    "        frase_eh_palindroma = False\n",
    "        break"
   ]
  },
  {
   "cell_type": "markdown",
   "metadata": {},
   "source": [
    "Uma implementação análoga mas usando um comando `while` seria"
   ]
  },
  {
   "cell_type": "code",
   "execution_count": 127,
   "metadata": {},
   "outputs": [],
   "source": [
    "# verificar se a frase modificada é palíndroma\n",
    "frase_eh_palíndroma = True\n",
    "i = 0\n",
    "while frase_eh_palíndroma and i < len(frase_mod) // 2:\n",
    "    if frase_mod[i] != frase_mod[-(i + 1)]:\n",
    "        eh_palíndroma = False\n",
    "    else:\n",
    "        i += 1"
   ]
  },
  {
   "cell_type": "code",
   "execution_count": 128,
   "metadata": {},
   "outputs": [
    {
     "name": "stdout",
     "output_type": "stream",
     "text": [
      "'Socorram-me, subi no ônibus em Marrocos!' é palíndroma.\n"
     ]
    }
   ],
   "source": [
    "# exibir o resultado da verificação\n",
    "if frase_eh_palindroma:\n",
    "    print(\"'\" + frase_ori + \"'\", 'é palíndroma.')\n",
    "else:\n",
    "    print(\"'\" + frase_ori + \"'\", 'não é palíndroma.')"
   ]
  }
 ],
 "metadata": {
  "celltoolbar": "Initialization Cell",
  "kernelspec": {
   "display_name": "Python 3",
   "language": "python",
   "name": "python3"
  },
  "language_info": {
   "codemirror_mode": {
    "name": "ipython",
    "version": 3
   },
   "file_extension": ".py",
   "mimetype": "text/x-python",
   "name": "python",
   "nbconvert_exporter": "python",
   "pygments_lexer": "ipython3",
   "version": "3.6.4"
  },
  "latex_envs": {
   "LaTeX_envs_menu_present": true,
   "autocomplete": true,
   "bibliofile": "biblio.bib",
   "cite_by": "apalike",
   "current_citInitial": 1,
   "eqLabelWithNumbers": true,
   "eqNumInitial": 1,
   "hotkeys": {
    "equation": "Ctrl-E",
    "itemize": "Ctrl-I"
   },
   "labels_anchors": false,
   "latex_user_defs": false,
   "report_style_numbering": false,
   "user_envs_cfg": false
  },
  "toc": {
   "nav_menu": {},
   "number_sections": true,
   "sideBar": true,
   "skip_h1_title": true,
   "title_cell": "Table of Contents",
   "title_sidebar": "Contents",
   "toc_cell": false,
   "toc_position": {},
   "toc_section_display": true,
   "toc_window_display": false
  }
 },
 "nbformat": 4,
 "nbformat_minor": 2
}
