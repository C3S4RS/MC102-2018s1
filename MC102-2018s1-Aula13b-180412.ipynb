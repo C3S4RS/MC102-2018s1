{
 "cells": [
  {
   "cell_type": "code",
   "execution_count": 46,
   "metadata": {
    "ExecuteTime": {
     "end_time": "2018-04-08T13:05:17.279859Z",
     "start_time": "2018-04-08T13:05:17.275510Z"
    },
    "init_cell": true,
    "slideshow": {
     "slide_type": "skip"
    }
   },
   "outputs": [],
   "source": [
    "from IPython.core.interactiveshell import InteractiveShell\n",
    "InteractiveShell.ast_node_interactivity = \"all\""
   ]
  },
  {
   "cell_type": "markdown",
   "metadata": {
    "slideshow": {
     "slide_type": "slide"
    }
   },
   "source": [
    "# Dicionários"
   ]
  },
  {
   "cell_type": "markdown",
   "metadata": {
    "slideshow": {
     "slide_type": "slide"
    }
   },
   "source": [
    "## O modelo\n",
    "Listas em Python são um instrumento muito poderoso quando desejamos extrair itens com base na sua posição em uma sequência.\n",
    "\n",
    "Por exemplo, suponha uma lista ordenada, com os nomes das cidades brasileiras mais populosas:"
   ]
  },
  {
   "cell_type": "code",
   "execution_count": 47,
   "metadata": {
    "slideshow": {
     "slide_type": "fragment"
    }
   },
   "outputs": [],
   "source": [
    "cidades = ['São Paulo', 'Rio de Janeiro', 'Brasíia', 'Salvador', 'Fortaleza']"
   ]
  },
  {
   "cell_type": "markdown",
   "metadata": {
    "slideshow": {
     "slide_type": "fragment"
    }
   },
   "source": [
    "Dada essa lista, é possível responder diretamente a uma pergunta como “Qual a terceira maior cidade do Brasil?”."
   ]
  },
  {
   "cell_type": "code",
   "execution_count": 48,
   "metadata": {
    "slideshow": {
     "slide_type": "fragment"
    }
   },
   "outputs": [
    {
     "data": {
      "text/plain": [
       "'Brasíia'"
      ]
     },
     "execution_count": 48,
     "metadata": {},
     "output_type": "execute_result"
    }
   ],
   "source": [
    "cidades[2]"
   ]
  },
  {
   "cell_type": "markdown",
   "metadata": {
    "slideshow": {
     "slide_type": "subslide"
    }
   },
   "source": [
    "Numa lista, o valor do item que se acha numa determinada posição é recuperado de forma direta. Essa operação tem “custo” constante, isto é, independente da posição do item e do tamanho da lista. "
   ]
  },
  {
   "cell_type": "markdown",
   "metadata": {
    "slideshow": {
     "slide_type": "fragment"
    }
   },
   "source": [
    "Suponha que quiséssemos também responder a “Qual a população de Salvador?”.  \n",
    "Como fazer isso?"
   ]
  },
  {
   "cell_type": "markdown",
   "metadata": {
    "slideshow": {
     "slide_type": "fragment"
    }
   },
   "source": [
    "Seria possível, por exemplo, criar uma segunda lista, com a população de cada cidade, na mesma ordem."
   ]
  },
  {
   "cell_type": "code",
   "execution_count": 49,
   "metadata": {
    "slideshow": {
     "slide_type": "fragment"
    }
   },
   "outputs": [],
   "source": [
    "população = [12106920, 6520266, 3039444, 2953986, 2627482]"
   ]
  },
  {
   "cell_type": "markdown",
   "metadata": {
    "slideshow": {
     "slide_type": "subslide"
    }
   },
   "source": [
    "Ainda assim, para obter a população de Salvador, será necessário fazer uma busca, explicitamente ou usando uma função do sistema."
   ]
  },
  {
   "cell_type": "code",
   "execution_count": 50,
   "metadata": {
    "slideshow": {
     "slide_type": "fragment"
    }
   },
   "outputs": [
    {
     "name": "stdout",
     "output_type": "stream",
     "text": [
      "2953986\n"
     ]
    }
   ],
   "source": [
    "i = 0\n",
    "while i < len(cidades) and cidades[i] != 'Salvador':\n",
    "    i += 1\n",
    "print(população[i]) "
   ]
  },
  {
   "cell_type": "markdown",
   "metadata": {
    "slideshow": {
     "slide_type": "fragment"
    }
   },
   "source": [
    "Essa operação tem complexidade $\\mathcal{O}(n)$, isto é o tempo de execução passa a ser proporcional ao tamanho da lista."
   ]
  },
  {
   "cell_type": "markdown",
   "metadata": {
    "slideshow": {
     "slide_type": "subslide"
    }
   },
   "source": [
    "Um **_dicionário_** em Python permite resolver esse problema de uma forma muito mais eficiente.\n",
    "\n",
    "Um **_dicionário_** é uma **_coleção não ordenada de objetos_**, **_mutável_**, **_iterável_** e **_potencialmente heterogênea_**.\n",
    "\n",
    "Os itens de um dicionários são acessíveis por **_chaves_** e não por índices, como nas estruturas sequenciais (listas, strings e tuplas) que já estudamos."
   ]
  },
  {
   "cell_type": "markdown",
   "metadata": {
    "slideshow": {
     "slide_type": "subslide"
    }
   },
   "source": [
    "A implementação de dicionários usa uma técnica chmada *hashing* (que estudaremos mais à frente).\n",
    "\n",
    "Essa técnica permite que o tempo de busca de um determinado valor seja potencialmente constante, em vez de crescer linearmente com o tamanho da estrutura, como acontece nas listas."
   ]
  },
  {
   "cell_type": "markdown",
   "metadata": {
    "slideshow": {
     "slide_type": "subslide"
    }
   },
   "source": [
    "Um dicionário é representado por um conjunto de pares **_chave: valor_**, entre **{** e **}** e separados por **_vírgulas_**. \n",
    "\n",
    "As chaves devem pertencer a um tipo imutável (isto é, nada de *listas* ou *dicionários*), enquanto os valores podem ser de qualquer tipo."
   ]
  },
  {
   "cell_type": "markdown",
   "metadata": {
    "slideshow": {
     "slide_type": "subslide"
    }
   },
   "source": [
    "Por exemplo:"
   ]
  },
  {
   "cell_type": "code",
   "execution_count": 51,
   "metadata": {
    "ExecuteTime": {
     "end_time": "2018-04-08T13:05:44.043328Z",
     "start_time": "2018-04-08T13:05:44.040012Z"
    },
    "slideshow": {
     "slide_type": "fragment"
    }
   },
   "outputs": [],
   "source": [
    "população = {'São Paulo': 12106920, \n",
    "             'Rio de Janeiro': 6520266, \n",
    "             'Brasília': 3039400\n",
    "            }"
   ]
  },
  {
   "cell_type": "markdown",
   "metadata": {
    "slideshow": {
     "slide_type": "fragment"
    }
   },
   "source": [
    "E agora, para obter a população de Brasília, basta dizer"
   ]
  },
  {
   "cell_type": "code",
   "execution_count": 52,
   "metadata": {
    "slideshow": {
     "slide_type": "fragment"
    }
   },
   "outputs": [
    {
     "data": {
      "text/plain": [
       "3039400"
      ]
     },
     "execution_count": 52,
     "metadata": {},
     "output_type": "execute_result"
    }
   ],
   "source": [
    "população['Brasília']"
   ]
  },
  {
   "cell_type": "markdown",
   "metadata": {
    "slideshow": {
     "slide_type": "slide"
    }
   },
   "source": [
    "## Como criar um dicionário"
   ]
  },
  {
   "cell_type": "markdown",
   "metadata": {
    "slideshow": {
     "slide_type": "fragment"
    }
   },
   "source": [
    "O exemplo acima mostrou como criar um dicionário. Se quiséssemos um dicionário *dic* vazio faríamos"
   ]
  },
  {
   "cell_type": "code",
   "execution_count": 53,
   "metadata": {
    "slideshow": {
     "slide_type": "fragment"
    }
   },
   "outputs": [
    {
     "data": {
      "text/plain": [
       "{}"
      ]
     },
     "execution_count": 53,
     "metadata": {},
     "output_type": "execute_result"
    }
   ],
   "source": [
    "dic = {}\n",
    "dic"
   ]
  },
  {
   "cell_type": "markdown",
   "metadata": {
    "slideshow": {
     "slide_type": "slide"
    }
   },
   "source": [
    "## Como obter e modificar os itens de um dicionário\n",
    "Já vimos como obter o valor associado a uma chave.  \n",
    "A população de Brasília está errada. Vamos corrigi-la..."
   ]
  },
  {
   "cell_type": "code",
   "execution_count": 54,
   "metadata": {
    "slideshow": {
     "slide_type": "fragment"
    }
   },
   "outputs": [],
   "source": [
    "população['Brasília'] = 3039444"
   ]
  },
  {
   "cell_type": "markdown",
   "metadata": {
    "slideshow": {
     "slide_type": "subslide"
    }
   },
   "source": [
    "O mesmo procedimento permite incluir novos itens no dicionário:"
   ]
  },
  {
   "cell_type": "code",
   "execution_count": 55,
   "metadata": {
    "slideshow": {
     "slide_type": "fragment"
    }
   },
   "outputs": [],
   "source": [
    "população['Belo Horizonte'] = 2523000\n",
    "população['Manaus'] = 2130264"
   ]
  },
  {
   "cell_type": "code",
   "execution_count": 56,
   "metadata": {
    "slideshow": {
     "slide_type": "fragment"
    }
   },
   "outputs": [
    {
     "data": {
      "text/plain": [
       "{'Belo Horizonte': 2523000,\n",
       " 'Brasília': 3039444,\n",
       " 'Manaus': 2130264,\n",
       " 'Rio de Janeiro': 6520266,\n",
       " 'São Paulo': 12106920}"
      ]
     },
     "execution_count": 56,
     "metadata": {},
     "output_type": "execute_result"
    }
   ],
   "source": [
    "população"
   ]
  },
  {
   "cell_type": "markdown",
   "metadata": {
    "slideshow": {
     "slide_type": "subslide"
    }
   },
   "source": [
    "É possível também incluir ou atualizar mais do que um novo item de uma vez só, mesclando-se (*merging*) um outro dicionário com o método **update**."
   ]
  },
  {
   "cell_type": "code",
   "execution_count": 57,
   "metadata": {
    "slideshow": {
     "slide_type": "fragment"
    }
   },
   "outputs": [
    {
     "data": {
      "text/plain": [
       "{'Belo Horizonte': 2523794,\n",
       " 'Brasília': 3039444,\n",
       " 'Fortaleza': 2627482,\n",
       " 'Manaus': 2130264,\n",
       " 'Rio de Janeiro': 6520266,\n",
       " 'Salvador': 2954000,\n",
       " 'São Paulo': 12106920}"
      ]
     },
     "execution_count": 57,
     "metadata": {},
     "output_type": "execute_result"
    }
   ],
   "source": [
    "população.update({'Salvador': 2954000, 'Fortaleza': 2627482, 'Belo Horizonte': 2523794})\n",
    "população"
   ]
  },
  {
   "cell_type": "markdown",
   "metadata": {
    "slideshow": {
     "slide_type": "subslide"
    }
   },
   "source": [
    "O acesso com uma chave inexistente provoca um erro"
   ]
  },
  {
   "cell_type": "code",
   "execution_count": 58,
   "metadata": {
    "slideshow": {
     "slide_type": "fragment"
    }
   },
   "outputs": [
    {
     "ename": "KeyError",
     "evalue": "'Campinas'",
     "output_type": "error",
     "traceback": [
      "\u001b[0;31m---------------------------------------------------------------------------\u001b[0m",
      "\u001b[0;31mKeyError\u001b[0m                                  Traceback (most recent call last)",
      "\u001b[0;32m<ipython-input-58-2d3450508716>\u001b[0m in \u001b[0;36m<module>\u001b[0;34m()\u001b[0m\n\u001b[0;32m----> 1\u001b[0;31m \u001b[0mpopulação\u001b[0m\u001b[0;34m[\u001b[0m\u001b[0;34m'Campinas'\u001b[0m\u001b[0;34m]\u001b[0m\u001b[0;34m\u001b[0m\u001b[0m\n\u001b[0m",
      "\u001b[0;31mKeyError\u001b[0m: 'Campinas'"
     ]
    }
   ],
   "source": [
    "população['Campinas']"
   ]
  },
  {
   "cell_type": "markdown",
   "metadata": {
    "slideshow": {
     "slide_type": "subslide"
    }
   },
   "source": [
    "Para evitar o erro, usa-se o método **get** que aceita um parâmetro com o valor que deve ser retornado, caso a chave consultada não seja encontrado."
   ]
  },
  {
   "cell_type": "code",
   "execution_count": null,
   "metadata": {
    "slideshow": {
     "slide_type": "fragment"
    }
   },
   "outputs": [],
   "source": [
    "população.get('Campinas', 'Não sei...')"
   ]
  },
  {
   "cell_type": "markdown",
   "metadata": {
    "slideshow": {
     "slide_type": "slide"
    }
   },
   "source": [
    "## Como testar a existência de um item num dicionário\n",
    "O erro numa consulta com uma chave inexistente também pode ser evitado protegendo-se a consulta por um teste de existência com os operadores **in** e **not in**."
   ]
  },
  {
   "cell_type": "code",
   "execution_count": null,
   "metadata": {
    "scrolled": true,
    "slideshow": {
     "slide_type": "fragment"
    }
   },
   "outputs": [],
   "source": [
    "'Campinas' in população"
   ]
  },
  {
   "cell_type": "code",
   "execution_count": null,
   "metadata": {
    "slideshow": {
     "slide_type": "fragment"
    }
   },
   "outputs": [],
   "source": [
    "'Campinas' not in população"
   ]
  },
  {
   "cell_type": "markdown",
   "metadata": {
    "slideshow": {
     "slide_type": "subslide"
    }
   },
   "source": [
    "... o que nos permite fazer..."
   ]
  },
  {
   "cell_type": "code",
   "execution_count": null,
   "metadata": {
    "slideshow": {
     "slide_type": "fragment"
    }
   },
   "outputs": [],
   "source": [
    "if 'Campinas' in população:\n",
    "    resposta = população['Campinas']\n",
    "else:\n",
    "    resposta = 'não sei'\n",
    "resposta"
   ]
  },
  {
   "cell_type": "markdown",
   "metadata": {
    "slideshow": {
     "slide_type": "subslide"
    }
   },
   "source": [
    "Esse comando também pode ser escrito de forma mais simples como"
   ]
  },
  {
   "cell_type": "code",
   "execution_count": null,
   "metadata": {
    "slideshow": {
     "slide_type": "fragment"
    }
   },
   "outputs": [],
   "source": [
    "resposta = população['Campinas'] if 'Campinas' in população else 'não sei'\n",
    "resposta"
   ]
  },
  {
   "cell_type": "markdown",
   "metadata": {
    "slideshow": {
     "slide_type": "slide"
    }
   },
   "source": [
    "## Como remover itens de um dicionário\n",
    "Para remover um item de um dicionário usa-se o comando **del**"
   ]
  },
  {
   "cell_type": "code",
   "execution_count": null,
   "metadata": {
    "slideshow": {
     "slide_type": "fragment"
    }
   },
   "outputs": [],
   "source": [
    "del população['Manaus']\n",
    "população"
   ]
  },
  {
   "cell_type": "markdown",
   "metadata": {
    "slideshow": {
     "slide_type": "subslide"
    }
   },
   "source": [
    "É possível obter o valor de um item e, ao mesmo tempo, removê-lo usando-se o método **pop**."
   ]
  },
  {
   "cell_type": "code",
   "execution_count": null,
   "metadata": {
    "slideshow": {
     "slide_type": "fragment"
    }
   },
   "outputs": [],
   "source": [
    "print(população.pop('Fortaleza'))"
   ]
  },
  {
   "cell_type": "code",
   "execution_count": null,
   "metadata": {
    "slideshow": {
     "slide_type": "fragment"
    }
   },
   "outputs": [],
   "source": [
    "população"
   ]
  },
  {
   "cell_type": "markdown",
   "metadata": {
    "slideshow": {
     "slide_type": "subslide"
    }
   },
   "source": [
    "A tentativa de remoção de uma chave inexistente gera um erro..."
   ]
  },
  {
   "cell_type": "code",
   "execution_count": null,
   "metadata": {
    "slideshow": {
     "slide_type": "fragment"
    }
   },
   "outputs": [],
   "source": [
    "print(população.pop('Campinas'))"
   ]
  },
  {
   "cell_type": "markdown",
   "metadata": {
    "slideshow": {
     "slide_type": "subslide"
    }
   },
   "source": [
    "É possível evitar o erro na remoção de uma chave inexistente dando *None* como um segundo argumento para **pop**."
   ]
  },
  {
   "cell_type": "code",
   "execution_count": null,
   "metadata": {
    "slideshow": {
     "slide_type": "fragment"
    }
   },
   "outputs": [],
   "source": [
    "print(população.pop('Campinas', None))"
   ]
  },
  {
   "cell_type": "markdown",
   "metadata": {
    "slideshow": {
     "slide_type": "subslide"
    }
   },
   "source": [
    "Para remover todas os itens de um dicionário usa-se o método **clear**.\n",
    "\n",
    "**Clear** esvazia o dicionário associado à variável à qual ele é aplicado.\n",
    "\n",
    "- A variável continua associada ao mesmo objeto (isto é, seu **id** não se altera).\n",
    "- Apenas o valor do objeto é que foi alterado (neste caso para *vazio*)."
   ]
  },
  {
   "cell_type": "code",
   "execution_count": 59,
   "metadata": {
    "slideshow": {
     "slide_type": "fragment"
    }
   },
   "outputs": [
    {
     "data": {
      "text/plain": [
       "(4597547224, {'a': 123, 'b': 456, 'c': 789})"
      ]
     },
     "execution_count": 59,
     "metadata": {},
     "output_type": "execute_result"
    }
   ],
   "source": [
    "dic = {'a': 123, 'b': 456, 'c': 789}\n",
    "id(dic), dic"
   ]
  },
  {
   "cell_type": "code",
   "execution_count": 60,
   "metadata": {
    "slideshow": {
     "slide_type": "fragment"
    }
   },
   "outputs": [
    {
     "data": {
      "text/plain": [
       "(4597547224, {})"
      ]
     },
     "execution_count": 60,
     "metadata": {},
     "output_type": "execute_result"
    }
   ],
   "source": [
    "dic.clear()\n",
    "id(dic), dic"
   ]
  },
  {
   "cell_type": "markdown",
   "metadata": {
    "slideshow": {
     "slide_type": "subslide"
    }
   },
   "source": [
    "Note que isto não é o mesmo que atribuir **{}** à variável. Neste caso a variável deixa de estar associada ao antigo dicionário (que continua existindo) e passa a estar associada a outro dicionário (neste caso um dicionário vazio). Com isso, o **id** da variável muda, como mostram os exemplos a seguir. "
   ]
  },
  {
   "cell_type": "code",
   "execution_count": 61,
   "metadata": {
    "slideshow": {
     "slide_type": "fragment"
    }
   },
   "outputs": [
    {
     "data": {
      "text/plain": [
       "(4597104360, {'a': 123, 'b': 456, 'c': 789})"
      ]
     },
     "execution_count": 61,
     "metadata": {},
     "output_type": "execute_result"
    }
   ],
   "source": [
    "dic = {'a': 123, 'b': 456, 'c': 789}\n",
    "id(dic), dic"
   ]
  },
  {
   "cell_type": "code",
   "execution_count": 62,
   "metadata": {
    "slideshow": {
     "slide_type": "fragment"
    }
   },
   "outputs": [
    {
     "data": {
      "text/plain": [
       "(4598288176, {})"
      ]
     },
     "execution_count": 62,
     "metadata": {},
     "output_type": "execute_result"
    }
   ],
   "source": [
    "dic = {}\n",
    "id(dic), dic"
   ]
  },
  {
   "cell_type": "markdown",
   "metadata": {
    "slideshow": {
     "slide_type": "slide"
    }
   },
   "source": [
    "## Iterações sobre dicionários\n",
    "Não é preciso fazer nada para iterar sobre as chaves ou valores de um dicionário"
   ]
  },
  {
   "cell_type": "code",
   "execution_count": 63,
   "metadata": {
    "slideshow": {
     "slide_type": "fragment"
    }
   },
   "outputs": [],
   "source": [
    "população = {'Salvador': 2954000,\n",
    "             'Fortaleza': 2627482,\n",
    "             'Belo Horizonte': 2523794,\n",
    "             'São Paulo': 12106920,\n",
    "             'Brasília': 3039444,\n",
    "             'Rio de Janeiro': 6520266,\n",
    "             'Manaus': 2130264}"
   ]
  },
  {
   "cell_type": "code",
   "execution_count": 64,
   "metadata": {
    "slideshow": {
     "slide_type": "subslide"
    }
   },
   "outputs": [
    {
     "name": "stdout",
     "output_type": "stream",
     "text": [
      "Salvador           2954000\n",
      "Fortaleza          2627482\n",
      "Belo Horizonte     2523794\n",
      "São Paulo         12106920\n",
      "Brasília           3039444\n",
      "Rio de Janeiro     6520266\n",
      "Manaus             2130264\n"
     ]
    }
   ],
   "source": [
    "for k in população:\n",
    "    print(f'{k:16}  {população[k]:8}')"
   ]
  },
  {
   "cell_type": "markdown",
   "metadata": {
    "slideshow": {
     "slide_type": "subslide"
    }
   },
   "source": [
    "O mesmo resultado pode ser conseguido de um jeito mais *pythoniano* por"
   ]
  },
  {
   "cell_type": "code",
   "execution_count": 65,
   "metadata": {
    "slideshow": {
     "slide_type": "fragment"
    }
   },
   "outputs": [
    {
     "name": "stdout",
     "output_type": "stream",
     "text": [
      "Salvador           2954000\n",
      "Fortaleza          2627482\n",
      "Belo Horizonte     2523794\n",
      "São Paulo         12106920\n",
      "Brasília           3039444\n",
      "Rio de Janeiro     6520266\n",
      "Manaus             2130264\n"
     ]
    }
   ],
   "source": [
    "for k, popk in população.items():\n",
    "    print(f'{k:16}  {popk:8}')"
   ]
  },
  {
   "cell_type": "markdown",
   "metadata": {
    "slideshow": {
     "slide_type": "slide"
    }
   },
   "source": [
    "## Exemplos"
   ]
  },
  {
   "cell_type": "markdown",
   "metadata": {
    "slideshow": {
     "slide_type": "subslide"
    }
   },
   "source": [
    "### Quais as três cidades brasileiras mais populosas?"
   ]
  },
  {
   "cell_type": "code",
   "execution_count": 66,
   "metadata": {
    "slideshow": {
     "slide_type": "fragment"
    }
   },
   "outputs": [],
   "source": [
    "população = {'Salvador': 2954000,\n",
    "             'Fortaleza': 2627482,\n",
    "             'Belo Horizonte': 2523794,\n",
    "             'São Paulo': 12106920,\n",
    "             'Brasília': 3039444,\n",
    "             'Rio de Janeiro': 6520266,\n",
    "             'Manaus': 2130264}"
   ]
  },
  {
   "cell_type": "code",
   "execution_count": 68,
   "metadata": {
    "slideshow": {
     "slide_type": "subslide"
    }
   },
   "outputs": [
    {
     "name": "stdout",
     "output_type": "stream",
     "text": [
      "[('São Paulo', 12106920), ('Rio de Janeiro', 6520266), ('Brasília', 3039444)]\n"
     ]
    }
   ],
   "source": [
    "from operator import itemgetter\n",
    "\n",
    "spop = sorted(população.items(), key=itemgetter(1), reverse=True)\n",
    "print(spop[:3])"
   ]
  },
  {
   "cell_type": "markdown",
   "metadata": {
    "slideshow": {
     "slide_type": "subslide"
    }
   },
   "source": [
    "### Quais cidades brasileiras têm mais do que 2.750.000 habitantes?"
   ]
  },
  {
   "cell_type": "code",
   "execution_count": 69,
   "metadata": {
    "slideshow": {
     "slide_type": "fragment"
    }
   },
   "outputs": [],
   "source": [
    "população = {'Salvador': 2954000,\n",
    "             'Fortaleza': 2627482,\n",
    "             'Belo Horizonte': 2523794,\n",
    "             'São Paulo': 12106920,\n",
    "             'Brasília': 3039444,\n",
    "             'Rio de Janeiro': 6520266,\n",
    "             'Manaus': 2130264}"
   ]
  },
  {
   "cell_type": "code",
   "execution_count": 70,
   "metadata": {
    "slideshow": {
     "slide_type": "subslide"
    }
   },
   "outputs": [
    {
     "data": {
      "text/plain": [
       "[('São Paulo', 12106920),\n",
       " ('Rio de Janeiro', 6520266),\n",
       " ('Brasília', 3039444),\n",
       " ('Salvador', 2954000)]"
      ]
     },
     "execution_count": 70,
     "metadata": {},
     "output_type": "execute_result"
    }
   ],
   "source": [
    "from operator import itemgetter\n",
    "\n",
    "grandes = [(rm, pop) for rm, pop in população.items() if pop > 2750000]\n",
    "grandes = sorted(grandes, key=itemgetter(1), reverse=True)\n",
    "grandes"
   ]
  },
  {
   "cell_type": "markdown",
   "metadata": {
    "slideshow": {
     "slide_type": "subslide"
    }
   },
   "source": [
    "### Dentre as cidades brasileiras com mais de 2 milhões de habitantes, quais as duas com nome mais curto?"
   ]
  },
  {
   "cell_type": "code",
   "execution_count": 72,
   "metadata": {
    "slideshow": {
     "slide_type": "fragment"
    }
   },
   "outputs": [],
   "source": [
    "população = {'São Paulo': 12106920, 'Rio de Janeiro': 6520266, \n",
    "             'Brasília': 3039444,   'Salvador': 2953986, \n",
    "             'Fortaleza': 2627482,  'Belo Horizonte': 2523794, \n",
    "             'Manaus': 2130264,     'Curitiba': 1908359, \n",
    "             'Recife': 1633697,     'Porto Alegre': 1484941, \n",
    "             'Goiânia': 1466105,    'Belém': 1452275, \n",
    "             'Guarulhos': 1349113,  'Campinas': 1182429, \n",
    "             'São Luís': 1091868,   'São Gonçalo': 1049826, \n",
    "             'Maceió': 1029129\n",
    "            }"
   ]
  },
  {
   "cell_type": "code",
   "execution_count": 74,
   "metadata": {
    "slideshow": {
     "slide_type": "subslide"
    }
   },
   "outputs": [
    {
     "data": {
      "text/plain": [
       "[('Manaus', 2130264, 6),\n",
       " ('Brasília', 3039444, 8),\n",
       " ('Salvador', 2953986, 8),\n",
       " ('São Paulo', 12106920, 9),\n",
       " ('Fortaleza', 2627482, 9),\n",
       " ('Rio de Janeiro', 6520266, 14),\n",
       " ('Belo Horizonte', 2523794, 14)]"
      ]
     },
     "execution_count": 74,
     "metadata": {},
     "output_type": "execute_result"
    },
    {
     "data": {
      "text/plain": [
       "[('Manaus', 2130264, 6), ('Brasília', 3039444, 8)]"
      ]
     },
     "execution_count": 74,
     "metadata": {},
     "output_type": "execute_result"
    }
   ],
   "source": [
    "from operator import itemgetter\n",
    "\n",
    "tam_nomes = [(nome, pop, len(nome)) for nome, pop in população.items() if pop > 2000000]\n",
    "tam_nomes = sorted(tam_nomes, key=itemgetter(2))\n",
    "tam_nomes\n",
    "tam_nomes[:2]"
   ]
  }
 ],
 "metadata": {
  "celltoolbar": "Slideshow",
  "kernelspec": {
   "display_name": "Python 3",
   "language": "python",
   "name": "python3"
  },
  "language_info": {
   "codemirror_mode": {
    "name": "ipython",
    "version": 3
   },
   "file_extension": ".py",
   "mimetype": "text/x-python",
   "name": "python",
   "nbconvert_exporter": "python",
   "pygments_lexer": "ipython3",
   "version": "3.6.4"
  },
  "latex_envs": {
   "LaTeX_envs_menu_present": true,
   "autocomplete": true,
   "bibliofile": "biblio.bib",
   "cite_by": "apalike",
   "current_citInitial": 1,
   "eqLabelWithNumbers": true,
   "eqNumInitial": 1,
   "hotkeys": {
    "equation": "Ctrl-E",
    "itemize": "Ctrl-I"
   },
   "labels_anchors": false,
   "latex_user_defs": false,
   "report_style_numbering": false,
   "user_envs_cfg": false
  },
  "toc": {
   "nav_menu": {},
   "number_sections": true,
   "sideBar": true,
   "skip_h1_title": true,
   "title_cell": "Table of Contents",
   "title_sidebar": "Contents",
   "toc_cell": false,
   "toc_position": {},
   "toc_section_display": true,
   "toc_window_display": false
  },
  "varInspector": {
   "cols": {
    "lenName": 16,
    "lenType": 16,
    "lenVar": 40
   },
   "kernels_config": {
    "python": {
     "delete_cmd_postfix": "",
     "delete_cmd_prefix": "del ",
     "library": "var_list.py",
     "varRefreshCmd": "print(var_dic_list())"
    },
    "r": {
     "delete_cmd_postfix": ") ",
     "delete_cmd_prefix": "rm(",
     "library": "var_list.r",
     "varRefreshCmd": "cat(var_dic_list()) "
    }
   },
   "types_to_exclude": [
    "module",
    "function",
    "builtin_function_or_method",
    "instance",
    "_Feature"
   ],
   "window_display": false
  }
 },
 "nbformat": 4,
 "nbformat_minor": 2
}
