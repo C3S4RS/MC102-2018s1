{
 "cells": [
  {
   "cell_type": "code",
   "execution_count": 10,
   "metadata": {},
   "outputs": [
    {
     "name": "stdout",
     "output_type": "stream",
     "text": [
      "socorrammesubinoonibusemmarrocos\n",
      "socorrammesubinoonibusemmarrocos\n"
     ]
    }
   ],
   "source": [
    "cadeia = input()\n",
    "inv = cadeia[::-1]\n",
    "print(inv)"
   ]
  },
  {
   "cell_type": "code",
   "execution_count": 15,
   "metadata": {},
   "outputs": [
    {
     "name": "stdout",
     "output_type": "stream",
     "text": [
      "marrocos\n",
      "['s', 'o', 'c', 'o', 'r', 'r', 'a', 'm'] socorram\n"
     ]
    }
   ],
   "source": [
    "cadeia = input()\n",
    "inv = []\n",
    "for x in cadeia:\n",
    "    inv = [x] + inv\n",
    "print(inv, ''.join(inv))"
   ]
  },
  {
   "cell_type": "code",
   "execution_count": null,
   "metadata": {},
   "outputs": [],
   "source": []
  }
 ],
 "metadata": {
  "kernelspec": {
   "display_name": "Python 3",
   "language": "python",
   "name": "python3"
  },
  "language_info": {
   "codemirror_mode": {
    "name": "ipython",
    "version": 3
   },
   "file_extension": ".py",
   "mimetype": "text/x-python",
   "name": "python",
   "nbconvert_exporter": "python",
   "pygments_lexer": "ipython3",
   "version": "3.6.4"
  }
 },
 "nbformat": 4,
 "nbformat_minor": 2
}
